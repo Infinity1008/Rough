{
 "cells": [
  {
   "cell_type": "markdown",
   "id": "cbe0cb11",
   "metadata": {},
   "source": [
    "# Linear Regression\n",
    "Linear Regression is the supervised Machine Learning model in which the model finds the best fit linear line between the independent and dependent variable.\n",
    "\n",
    "![](https://www.voxco.com/wp-content/uploads/2021/11/Linear-Regression1.png)"
   ]
  },
  {
   "cell_type": "markdown",
   "id": "27e1fce7",
   "metadata": {},
   "source": [
    "## What is a line"
   ]
  },
  {
   "cell_type": "code",
   "execution_count": 9,
   "id": "43e7c67c",
   "metadata": {},
   "outputs": [
    {
     "data": {
      "application/vnd.jupyter.widget-view+json": {
       "model_id": "df5d1065fb464e13aef3b6726ef01370",
       "version_major": 2,
       "version_minor": 0
      },
      "text/plain": [
       "interactive(children=(FloatSlider(value=1.0, description='slope', max=20.0, min=-20.0), FloatSlider(value=0.0,…"
      ]
     },
     "metadata": {},
     "output_type": "display_data"
    }
   ],
   "source": [
    "from IPython.display import display\n",
    "from ipywidgets import interactive, widgets\n",
    "from helper_funcitons import draw_line\n",
    "\n",
    "w = interactive(draw_line, \n",
    "                slope = widgets.FloatSlider(min=-20, max=20, step=0.1, value=1),\n",
    "               intercept = widgets.FloatSlider(min=-3, max=3, step=0.5, value=0))\n",
    "\n",
    "display(w) "
   ]
  },
  {
   "cell_type": "markdown",
   "id": "45400c8b",
   "metadata": {},
   "source": [
    "# How does a line help us with predictions ?"
   ]
  },
  {
   "cell_type": "code",
   "execution_count": 10,
   "id": "eceff8ad",
   "metadata": {},
   "outputs": [
    {
     "data": {
      "application/vnd.jupyter.widget-view+json": {
       "model_id": "9b5860fe9b634421a094fca6a4245315",
       "version_major": 2,
       "version_minor": 0
      },
      "text/plain": [
       "interactive(children=(FloatSlider(value=1.0, description='slope', max=4.0, min=-2.0), FloatSlider(value=0.0, d…"
      ]
     },
     "metadata": {},
     "output_type": "display_data"
    }
   ],
   "source": [
    "from helper_funcitons import plot_data_and_line\n",
    "\n",
    "w = interactive(plot_data_and_line, \n",
    "                slope = widgets.FloatSlider(min=-2, max=4, step=0.1, value=1),\n",
    "               intercept = widgets.FloatSlider(min=-10, max=15, step=0.1, value=0))\n",
    "\n",
    "display(w)"
   ]
  },
  {
   "cell_type": "markdown",
   "id": "550656ab",
   "metadata": {},
   "source": [
    "# Let's work with some dummy data\n",
    "Let's say we have size and weight as variables. What line can we fit best to this data"
   ]
  },
  {
   "cell_type": "code",
   "execution_count": 11,
   "id": "6f9eeb76",
   "metadata": {},
   "outputs": [
    {
     "data": {
      "application/vnd.jupyter.widget-view+json": {
       "model_id": "dd1bca719c664444a6904ccb982bdf32",
       "version_major": 2,
       "version_minor": 0
      },
      "text/plain": [
       "interactive(children=(FloatSlider(value=1.0, description='slope', max=4.0, min=-2.0, step=0.05), FloatSlider(v…"
      ]
     },
     "metadata": {},
     "output_type": "display_data"
    }
   ],
   "source": [
    "from helper_funcitons import create_data_line_residuals_rmse\n",
    "\n",
    "w = interactive(create_data_line_residuals_rmse, \n",
    "                slope = widgets.FloatSlider(min=-2, max=4, step=0.05, value=1),\n",
    "               intercept = widgets.FloatSlider(min=-10, max=20, step=0.5, value=0))\n",
    "\n",
    "display(w)"
   ]
  },
  {
   "cell_type": "markdown",
   "id": "6da6ade8",
   "metadata": {},
   "source": [
    "# Simulating on artificially created data"
   ]
  },
  {
   "cell_type": "code",
   "execution_count": 17,
   "id": "776eef1d",
   "metadata": {},
   "outputs": [
    {
     "data": {
      "application/vnd.jupyter.widget-view+json": {
       "model_id": "500c31ff2b80441b8f8751b3f2801bff",
       "version_major": 2,
       "version_minor": 0
      },
      "text/plain": [
       "interactive(children=(FloatSlider(value=1.0, description='slope', max=10.0, min=-10.0), FloatSlider(value=0.0,…"
      ]
     },
     "metadata": {},
     "output_type": "display_data"
    }
   ],
   "source": [
    "from ipywidgets import interact, interactive, fixed, interact_manual\n",
    "import ipywidgets as widgets\n",
    "import numpy as np\n",
    "\n",
    "# Plotting the residual values\n",
    "import random\n",
    "random_choice = [random.randint(0,50) for i in range(10)]\n",
    "random_choice\n",
    "\n",
    "\n",
    "random_slope = np.random.normal()\n",
    "random_intercept = np.random.normal()\n",
    "\n",
    "our_range = [i for i in range(0,150,2)]\n",
    "\n",
    "line_points = np.array([(random_slope*i + random_intercept) for i in our_range])\n",
    "random_noise = np.array([np.random.randint(-10,100) for i in our_range])\n",
    "data_points = line_points + random_noise\n",
    "\n",
    "\n",
    "\n",
    "def create_data_line_residuals_ssr(slope,intercept):\n",
    "\n",
    "    x = np.array(range(0,150,2))\n",
    "    x = x.reshape(-1,1)\n",
    "    # ----------------------------------------------------------\n",
    "\n",
    "    import matplotlib.pyplot as plt\n",
    "\n",
    "    plt.figure(figsize=(10,8))\n",
    "    ax = plt.gca()\n",
    "    plt.scatter(x,data_points) # Plotting data\n",
    "\n",
    "\n",
    "# ----------------------------------------------------------\n",
    "    plt.title('Trying to find the line that minimizes SSR')\n",
    "    plt.xlabel('X')\n",
    "    plt.ylabel('Y')\n",
    "    # ----------------------------------------------------------\n",
    "    \n",
    "    \n",
    "    # ----------------------------------------------------------\n",
    "    # Plotting a line\n",
    "    abline_values = slope * x + intercept\n",
    "    \n",
    "    # ----------------------------------------------------------\n",
    "    \n",
    "    # Plot the best fit line over the actual values    \n",
    "    plt.xlim([-20, 150])\n",
    "    plt.ylim([-20,150])\n",
    "    plt.plot(x, abline_values, '--')\n",
    "    plt.grid()\n",
    "    # ----------------------------------------------------------\n",
    "    \n",
    "    # Plotting residuals\n",
    "    for i in random_choice:\n",
    "        plt.plot((x[i],x[i]), (abline_values[i], data_points[i]), '--')\n",
    "        \n",
    "    # ----------------------------------------------------------\n",
    "    \n",
    "    # Calculating SSR\n",
    "    predicted_values = np.array(abline_values)\n",
    "#     ssr = np.sum(np.square(data_points - predicted_values))\n",
    "    rmse = np.sqrt(np.mean((predicted_values-data_points)**2))\n",
    "\n",
    "    \n",
    "    # Plotting text at top left\n",
    "    plt.text(.01, .99, f'Slope = {slope}', ha='left', va='top', transform=ax.transAxes)\n",
    "    plt.text(.01, .95, f'Intecept = {intercept}', ha='left', va='top', transform=ax.transAxes)    \n",
    "    plt.text(.01, .90, f'y = {slope}*x + {intercept}', ha='left', va='top', transform=ax.transAxes)\n",
    "    \n",
    "    plt.text(1, .5, f'  RMSE = {round(rmse,2)}', ha='left', va='top', fontsize= 'large',transform=ax.transAxes)\n",
    "    # ----------------------------------------------------------\n",
    "    plt.show()\n",
    "    # ----------------------------------------------------------\n",
    "\n",
    "w = interactive(create_data_line_residuals_ssr, \n",
    "                slope = widgets.FloatSlider(min=-10, max=10, step=0.1, value=1),\n",
    "               intercept = widgets.FloatSlider(min=-30, max=50, step=2, value=0))\n",
    "\n",
    "display(w)"
   ]
  },
  {
   "cell_type": "code",
   "execution_count": null,
   "id": "b9e2eddb",
   "metadata": {},
   "outputs": [],
   "source": []
  },
  {
   "cell_type": "code",
   "execution_count": null,
   "id": "ea058922",
   "metadata": {},
   "outputs": [],
   "source": []
  }
 ],
 "metadata": {
  "kernelspec": {
   "display_name": "Python 3 (ipykernel)",
   "language": "python",
   "name": "python3"
  },
  "language_info": {
   "codemirror_mode": {
    "name": "ipython",
    "version": 3
   },
   "file_extension": ".py",
   "mimetype": "text/x-python",
   "name": "python",
   "nbconvert_exporter": "python",
   "pygments_lexer": "ipython3",
   "version": "3.7.16"
  }
 },
 "nbformat": 4,
 "nbformat_minor": 5
}
