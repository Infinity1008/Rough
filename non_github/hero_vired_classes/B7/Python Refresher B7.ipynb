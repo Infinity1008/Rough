{
 "cells": [
  {
   "cell_type": "markdown",
   "id": "1b5f9e96",
   "metadata": {},
   "source": [
    "# Python\n",
    "\n",
    "## Table on Contents\n",
    "\n",
    "* [Basic Python Data Structures](#bpds)\n",
    "    * [Variables and Types](#vat)\n",
    "        * [Numbers](#num)\n",
    "        * [Strings](#str)\n",
    "    * [Lists](#lst)\n",
    "    * [Tuples](#tup)\n",
    "    * [Sets](#set)\n",
    "    * [Dictionaries](#dict)"
   ]
  },
  {
   "cell_type": "markdown",
   "id": "796b568b",
   "metadata": {},
   "source": [
    "![image.png](https://www.python.org/static/img/python-logo@2x.png)\n",
    "\n",
    "Python is a high-level, general-purpose programming language. Its design philosophy emphasizes code readability with the use of significant indentation. Python is dynamically-typed and garbage-collected. It supports multiple programming paradigms, including structured, object-oriented and functional programming. \n",
    "\n",
    "The official Website can be found [here](https://www.python.org/). "
   ]
  },
  {
   "cell_type": "markdown",
   "id": "f88eb83c",
   "metadata": {
    "tags": []
   },
   "source": [
    "## Basic Python Data Structures<a class=\"anchor\" id=\"bpds\"></a>"
   ]
  },
  {
   "cell_type": "markdown",
   "id": "fecf1f02",
   "metadata": {},
   "source": [
    "## Hello World"
   ]
  },
  {
   "cell_type": "code",
   "execution_count": 1,
   "id": "b09bc969",
   "metadata": {},
   "outputs": [
    {
     "name": "stdout",
     "output_type": "stream",
     "text": [
      "Hello World\n"
     ]
    }
   ],
   "source": [
    "print('Hello World')"
   ]
  },
  {
   "cell_type": "markdown",
   "id": "b45c003b",
   "metadata": {},
   "source": [
    "# Variables and Types<a class=\"anchor\" id=\"vat\"></a>\n",
    "1. Numbers\n",
    "2. Strings"
   ]
  },
  {
   "cell_type": "markdown",
   "id": "209c5163-8480-46af-97d8-d860610a6a80",
   "metadata": {},
   "source": [
    "## Numbers<a class=\"anchor\" id=\"num\"></a>"
   ]
  },
  {
   "cell_type": "code",
   "execution_count": 2,
   "id": "8487fe52-45f1-406a-93b5-fe322153e4ec",
   "metadata": {
    "scrolled": true
   },
   "outputs": [
    {
     "name": "stdout",
     "output_type": "stream",
     "text": [
      "3\n",
      "3.0\n"
     ]
    }
   ],
   "source": [
    "a = 3\n",
    "b = 3.0\n",
    "print(a)\n",
    "print(b)"
   ]
  },
  {
   "cell_type": "markdown",
   "id": "5bace570",
   "metadata": {},
   "source": [
    "What is the difference, both look the same."
   ]
  },
  {
   "cell_type": "code",
   "execution_count": 3,
   "id": "51d520ab",
   "metadata": {},
   "outputs": [
    {
     "name": "stdout",
     "output_type": "stream",
     "text": [
      "<class 'int'>\n",
      "<class 'float'>\n"
     ]
    }
   ],
   "source": [
    "print(type(a))\n",
    "print(type(b))"
   ]
  },
  {
   "cell_type": "markdown",
   "id": "f1c231bd",
   "metadata": {},
   "source": [
    "## Basic math operations"
   ]
  },
  {
   "cell_type": "markdown",
   "id": "928a9809",
   "metadata": {},
   "source": [
    "What will happen if we divide the two."
   ]
  },
  {
   "cell_type": "code",
   "execution_count": 4,
   "id": "5f1f00f5-0f4f-4289-a8c5-a2bfaa132134",
   "metadata": {
    "tags": []
   },
   "outputs": [
    {
     "name": "stdout",
     "output_type": "stream",
     "text": [
      "1.0\n"
     ]
    }
   ],
   "source": [
    "print(a/b)"
   ]
  },
  {
   "cell_type": "code",
   "execution_count": 5,
   "id": "dd6c33fd",
   "metadata": {},
   "outputs": [
    {
     "name": "stdout",
     "output_type": "stream",
     "text": [
      "1.0\n"
     ]
    }
   ],
   "source": [
    "print(b/a)"
   ]
  },
  {
   "cell_type": "markdown",
   "id": "b7c8c029",
   "metadata": {},
   "source": [
    "What will happen if we multiply both. "
   ]
  },
  {
   "cell_type": "code",
   "execution_count": 6,
   "id": "41128627-23f5-490e-ae0c-c6cf03525b3c",
   "metadata": {},
   "outputs": [
    {
     "name": "stdout",
     "output_type": "stream",
     "text": [
      "9.0\n"
     ]
    }
   ],
   "source": [
    "print(a*b)"
   ]
  },
  {
   "cell_type": "markdown",
   "id": "7dc3db40",
   "metadata": {},
   "source": [
    "Subtraction"
   ]
  },
  {
   "cell_type": "code",
   "execution_count": 7,
   "id": "f98ceeca-1013-4c9d-ac63-6a1ba7efc85e",
   "metadata": {},
   "outputs": [
    {
     "name": "stdout",
     "output_type": "stream",
     "text": [
      "0.0\n"
     ]
    }
   ],
   "source": [
    "print(a-b)"
   ]
  },
  {
   "cell_type": "markdown",
   "id": "3db83200",
   "metadata": {},
   "source": [
    "Addition"
   ]
  },
  {
   "cell_type": "code",
   "execution_count": 8,
   "id": "e36516f8-fcc1-42b0-890b-917e772dd521",
   "metadata": {},
   "outputs": [
    {
     "name": "stdout",
     "output_type": "stream",
     "text": [
      "6.0\n"
     ]
    }
   ],
   "source": [
    "print(a+b)"
   ]
  },
  {
   "cell_type": "markdown",
   "id": "b59fb63f",
   "metadata": {},
   "source": [
    "Remainder"
   ]
  },
  {
   "cell_type": "code",
   "execution_count": 26,
   "id": "49ddd777",
   "metadata": {},
   "outputs": [
    {
     "name": "stdout",
     "output_type": "stream",
     "text": [
      "0.0\n"
     ]
    }
   ],
   "source": [
    "print(a%b)"
   ]
  },
  {
   "cell_type": "markdown",
   "id": "f893287a",
   "metadata": {},
   "source": [
    "Squared"
   ]
  },
  {
   "cell_type": "code",
   "execution_count": 27,
   "id": "8f366e9d",
   "metadata": {},
   "outputs": [
    {
     "name": "stdout",
     "output_type": "stream",
     "text": [
      "9\n"
     ]
    }
   ],
   "source": [
    "print(a**2)"
   ]
  },
  {
   "cell_type": "markdown",
   "id": "3f22cf75",
   "metadata": {},
   "source": [
    "-----\n",
    "\n",
    "### Practice\n",
    "Practice all the operators that you have just seen.\n",
    "\n",
    "----"
   ]
  },
  {
   "cell_type": "markdown",
   "id": "1cdc7f21-12fb-4c65-8e4f-3ab18ce28a2c",
   "metadata": {},
   "source": [
    "## Strings<a class=\"anchor\" id=\"str\"></a>"
   ]
  },
  {
   "cell_type": "code",
   "execution_count": 32,
   "id": "ac10dfb6-2a89-4931-a03e-543b65027a0c",
   "metadata": {},
   "outputs": [],
   "source": [
    "s1 = \"This is a string\"\n",
    "s2 = \"This is also a string\"\n",
    "s3 = '''This too is a string''' ## you can write multiline strings using ''' triple quotes '''"
   ]
  },
  {
   "cell_type": "markdown",
   "id": "3c98243b",
   "metadata": {},
   "source": [
    "Strings are iterables and can be indexed and looped through\n"
   ]
  },
  {
   "cell_type": "markdown",
   "id": "04f206dc",
   "metadata": {},
   "source": [
    "### Indexing with indexes"
   ]
  },
  {
   "cell_type": "code",
   "execution_count": 34,
   "id": "cace7926",
   "metadata": {},
   "outputs": [
    {
     "data": {
      "text/plain": [
       "'T'"
      ]
     },
     "execution_count": 34,
     "metadata": {},
     "output_type": "execute_result"
    }
   ],
   "source": [
    "s1[0]"
   ]
  },
  {
   "cell_type": "code",
   "execution_count": 38,
   "id": "13f8c1eb",
   "metadata": {},
   "outputs": [
    {
     "data": {
      "text/plain": [
       "'i'"
      ]
     },
     "execution_count": 38,
     "metadata": {},
     "output_type": "execute_result"
    }
   ],
   "source": [
    "s1[5]"
   ]
  },
  {
   "cell_type": "code",
   "execution_count": 41,
   "id": "3f41587f",
   "metadata": {},
   "outputs": [
    {
     "data": {
      "text/plain": [
       "'t'"
      ]
     },
     "execution_count": 41,
     "metadata": {},
     "output_type": "execute_result"
    }
   ],
   "source": [
    "s1[-5]"
   ]
  },
  {
   "cell_type": "markdown",
   "id": "6666a2d6",
   "metadata": {},
   "source": [
    "### Getting multiple values"
   ]
  },
  {
   "cell_type": "code",
   "execution_count": 42,
   "id": "451db4b7",
   "metadata": {},
   "outputs": [],
   "source": [
    "# syntax \n",
    "# variable[start_point : end_point]  \n",
    "\n",
    "# Caveat\n",
    "#The last element is not included"
   ]
  },
  {
   "cell_type": "code",
   "execution_count": 43,
   "id": "d5752040",
   "metadata": {},
   "outputs": [],
   "source": [
    "a = 'Lionel Messi'"
   ]
  },
  {
   "cell_type": "code",
   "execution_count": 45,
   "id": "9f0e724b",
   "metadata": {},
   "outputs": [
    {
     "data": {
      "text/plain": [
       "'Lion'"
      ]
     },
     "execution_count": 45,
     "metadata": {},
     "output_type": "execute_result"
    }
   ],
   "source": [
    "a[0:4]"
   ]
  },
  {
   "cell_type": "code",
   "execution_count": 47,
   "id": "c119a771",
   "metadata": {},
   "outputs": [
    {
     "data": {
      "text/plain": [
       "'l M'"
      ]
     },
     "execution_count": 47,
     "metadata": {},
     "output_type": "execute_result"
    }
   ],
   "source": [
    "a[5:8]"
   ]
  },
  {
   "cell_type": "code",
   "execution_count": 54,
   "id": "517d91aa",
   "metadata": {},
   "outputs": [
    {
     "data": {
      "text/plain": [
       "''"
      ]
     },
     "execution_count": 54,
     "metadata": {},
     "output_type": "execute_result"
    }
   ],
   "source": [
    "a[1:1]"
   ]
  },
  {
   "cell_type": "code",
   "execution_count": 49,
   "id": "fd764106",
   "metadata": {},
   "outputs": [
    {
     "data": {
      "text/plain": [
       "'l'"
      ]
     },
     "execution_count": 49,
     "metadata": {},
     "output_type": "execute_result"
    }
   ],
   "source": [
    "a[5:6]"
   ]
  },
  {
   "cell_type": "markdown",
   "id": "d00ffda2",
   "metadata": {},
   "source": [
    "### Negative indexing"
   ]
  },
  {
   "cell_type": "code",
   "execution_count": 51,
   "id": "6564de9b",
   "metadata": {},
   "outputs": [
    {
     "data": {
      "text/plain": [
       "'Lionel Messi'"
      ]
     },
     "execution_count": 51,
     "metadata": {},
     "output_type": "execute_result"
    }
   ],
   "source": [
    "a = 'Lionel Messi'\n",
    "a"
   ]
  },
  {
   "cell_type": "code",
   "execution_count": 55,
   "id": "4620096a",
   "metadata": {},
   "outputs": [
    {
     "data": {
      "text/plain": [
       "'i'"
      ]
     },
     "execution_count": 55,
     "metadata": {},
     "output_type": "execute_result"
    }
   ],
   "source": [
    "a[-1]"
   ]
  },
  {
   "cell_type": "code",
   "execution_count": 56,
   "id": "2ae52c68",
   "metadata": {},
   "outputs": [],
   "source": [
    "# syntax \n",
    "# variable[start_point : end_point]  \n",
    "\n",
    "# Caveat\n",
    "#The last element is not included"
   ]
  },
  {
   "cell_type": "code",
   "execution_count": 58,
   "id": "4e7c45d4",
   "metadata": {},
   "outputs": [
    {
     "data": {
      "text/plain": [
       "'Mes'"
      ]
     },
     "execution_count": 58,
     "metadata": {},
     "output_type": "execute_result"
    }
   ],
   "source": [
    "a[-5:-2]"
   ]
  },
  {
   "cell_type": "code",
   "execution_count": 59,
   "id": "550c41e9",
   "metadata": {},
   "outputs": [
    {
     "data": {
      "text/plain": [
       "'l M'"
      ]
     },
     "execution_count": 59,
     "metadata": {},
     "output_type": "execute_result"
    }
   ],
   "source": [
    "a[-7:-4]"
   ]
  },
  {
   "cell_type": "code",
   "execution_count": 61,
   "id": "f8e0b782",
   "metadata": {},
   "outputs": [
    {
     "data": {
      "text/plain": [
       "''"
      ]
     },
     "execution_count": 61,
     "metadata": {},
     "output_type": "execute_result"
    }
   ],
   "source": [
    "# So, you can indeed mix and match ^_^\n",
    "a[-2:10]"
   ]
  },
  {
   "cell_type": "markdown",
   "id": "bd1af221",
   "metadata": {},
   "source": [
    "# Run Loops"
   ]
  },
  {
   "cell_type": "markdown",
   "id": "581fc754",
   "metadata": {},
   "source": [
    "You can run a loop to iterate over all. "
   ]
  },
  {
   "cell_type": "code",
   "execution_count": 62,
   "id": "b31bca57",
   "metadata": {},
   "outputs": [],
   "source": [
    "# The snytax for loops is this \n",
    "# for i in iterable_item:\n",
    "#    do_whatever_you_want_with_i  "
   ]
  },
  {
   "cell_type": "code",
   "execution_count": 68,
   "id": "459d6638",
   "metadata": {},
   "outputs": [],
   "source": [
    "a = \"Lionel Messi\""
   ]
  },
  {
   "cell_type": "code",
   "execution_count": 71,
   "id": "714a7a24",
   "metadata": {},
   "outputs": [
    {
     "name": "stdout",
     "output_type": "stream",
     "text": [
      "L\n",
      "--------------------\n",
      "i\n",
      "--------------------\n",
      "o\n",
      "--------------------\n",
      "n\n",
      "--------------------\n",
      "e\n",
      "--------------------\n",
      "l\n",
      "--------------------\n",
      " \n",
      "--------------------\n",
      "M\n",
      "--------------------\n",
      "e\n",
      "--------------------\n",
      "s\n",
      "--------------------\n",
      "s\n",
      "--------------------\n",
      "i\n",
      "--------------------\n"
     ]
    }
   ],
   "source": [
    "# Example\n",
    "for i in a:\n",
    "    print(i)\n",
    "    print('--------------------')"
   ]
  },
  {
   "cell_type": "markdown",
   "id": "4431d878-cfb3-49e3-ac55-db6f38fabf8c",
   "metadata": {},
   "source": [
    "## Some peculiarities of strings"
   ]
  },
  {
   "cell_type": "code",
   "execution_count": 73,
   "id": "91737bd3",
   "metadata": {},
   "outputs": [
    {
     "data": {
      "text/plain": [
       "'This is a string'"
      ]
     },
     "execution_count": 73,
     "metadata": {},
     "output_type": "execute_result"
    }
   ],
   "source": [
    "s1"
   ]
  },
  {
   "cell_type": "markdown",
   "id": "0850d1f2",
   "metadata": {},
   "source": [
    "### You can overwrite the string"
   ]
  },
  {
   "cell_type": "code",
   "execution_count": 74,
   "id": "a188dd94",
   "metadata": {},
   "outputs": [
    {
     "name": "stdout",
     "output_type": "stream",
     "text": [
      "This is not a string\n"
     ]
    }
   ],
   "source": [
    "s1 = 'This is not a string'\n",
    "print(s1) ## you can overwrite the whole string"
   ]
  },
  {
   "cell_type": "code",
   "execution_count": 76,
   "id": "cca5fc51",
   "metadata": {},
   "outputs": [
    {
     "ename": "TypeError",
     "evalue": "'str' object does not support item assignment",
     "output_type": "error",
     "traceback": [
      "\u001b[0;31m---------------------------------------------------------------------------\u001b[0m",
      "\u001b[0;31mTypeError\u001b[0m                                 Traceback (most recent call last)",
      "Cell \u001b[0;32mIn[76], line 2\u001b[0m\n\u001b[1;32m      1\u001b[0m \u001b[38;5;66;03m# but you can't change the strings in place\u001b[39;00m\n\u001b[0;32m----> 2\u001b[0m s1[\u001b[38;5;241m0\u001b[39m] \u001b[38;5;241m=\u001b[39m \u001b[38;5;124m\"\u001b[39m\u001b[38;5;124mS\u001b[39m\u001b[38;5;124m\"\u001b[39m\n",
      "\u001b[0;31mTypeError\u001b[0m: 'str' object does not support item assignment"
     ]
    }
   ],
   "source": [
    "# but you can't change the strings in place\n",
    "s1[0] = \"S\""
   ]
  },
  {
   "cell_type": "markdown",
   "id": "6f276c29",
   "metadata": {},
   "source": [
    "#### When you are working with strings \n",
    "- You can, overwrite the whole thing, if you want. Python got no problems with that.\n",
    "- You can't however overwrite the characters or the elements that make up the string."
   ]
  },
  {
   "cell_type": "code",
   "execution_count": 79,
   "id": "f815445b",
   "metadata": {},
   "outputs": [
    {
     "name": "stdout",
     "output_type": "stream",
     "text": [
      "This is not a string\n",
      "This is also a string\n"
     ]
    }
   ],
   "source": [
    "print(s1)\n",
    "print(s2)"
   ]
  },
  {
   "cell_type": "markdown",
   "id": "080a8c36",
   "metadata": {},
   "source": [
    "you can concatenate two strings "
   ]
  },
  {
   "cell_type": "code",
   "execution_count": 78,
   "id": "cfa9b29d",
   "metadata": {},
   "outputs": [
    {
     "data": {
      "text/plain": [
       "'This is not a stringThis is also a string'"
      ]
     },
     "execution_count": 78,
     "metadata": {},
     "output_type": "execute_result"
    }
   ],
   "source": [
    "s1 + s2"
   ]
  },
  {
   "cell_type": "code",
   "execution_count": 80,
   "id": "02b5878c",
   "metadata": {},
   "outputs": [
    {
     "data": {
      "text/plain": [
       "'This is not a string This is also a string'"
      ]
     },
     "execution_count": 80,
     "metadata": {},
     "output_type": "execute_result"
    }
   ],
   "source": [
    "s1 + \" \" + s2"
   ]
  },
  {
   "cell_type": "code",
   "execution_count": 81,
   "id": "62468e5b",
   "metadata": {
    "scrolled": true
   },
   "outputs": [
    {
     "data": {
      "text/plain": [
       "'This is not a string. This is also a string'"
      ]
     },
     "execution_count": 81,
     "metadata": {},
     "output_type": "execute_result"
    }
   ],
   "source": [
    "s1 + \". \" + s2"
   ]
  },
  {
   "cell_type": "markdown",
   "id": "fbeda55e",
   "metadata": {},
   "source": [
    "## Quotes behaviour"
   ]
  },
  {
   "cell_type": "code",
   "execution_count": 91,
   "id": "2111f605",
   "metadata": {},
   "outputs": [],
   "source": [
    "a = 'Messi'"
   ]
  },
  {
   "cell_type": "code",
   "execution_count": 113,
   "id": "50be7edb",
   "metadata": {},
   "outputs": [],
   "source": [
    "b = \"Messi\""
   ]
  },
  {
   "cell_type": "code",
   "execution_count": 114,
   "id": "7029501f",
   "metadata": {},
   "outputs": [],
   "source": [
    "c = '''Messi'''"
   ]
  },
  {
   "cell_type": "code",
   "execution_count": 93,
   "id": "71c7e88b",
   "metadata": {},
   "outputs": [
    {
     "data": {
      "text/plain": [
       "'Messi'"
      ]
     },
     "execution_count": 93,
     "metadata": {},
     "output_type": "execute_result"
    }
   ],
   "source": [
    "a"
   ]
  },
  {
   "cell_type": "code",
   "execution_count": 115,
   "id": "7de6947d",
   "metadata": {},
   "outputs": [
    {
     "data": {
      "text/plain": [
       "'Messi'"
      ]
     },
     "execution_count": 115,
     "metadata": {},
     "output_type": "execute_result"
    }
   ],
   "source": [
    "b"
   ]
  },
  {
   "cell_type": "code",
   "execution_count": 116,
   "id": "e772577d",
   "metadata": {},
   "outputs": [
    {
     "data": {
      "text/plain": [
       "'Messi'"
      ]
     },
     "execution_count": 116,
     "metadata": {},
     "output_type": "execute_result"
    }
   ],
   "source": [
    "c"
   ]
  },
  {
   "cell_type": "code",
   "execution_count": 84,
   "id": "e0181055",
   "metadata": {},
   "outputs": [
    {
     "data": {
      "text/plain": [
       "str"
      ]
     },
     "execution_count": 84,
     "metadata": {},
     "output_type": "execute_result"
    }
   ],
   "source": [
    "type(a)"
   ]
  },
  {
   "cell_type": "code",
   "execution_count": 117,
   "id": "78ae7211",
   "metadata": {},
   "outputs": [
    {
     "data": {
      "text/plain": [
       "str"
      ]
     },
     "execution_count": 117,
     "metadata": {},
     "output_type": "execute_result"
    }
   ],
   "source": [
    "type(b)"
   ]
  },
  {
   "cell_type": "code",
   "execution_count": 119,
   "id": "e376d87d",
   "metadata": {},
   "outputs": [
    {
     "data": {
      "text/plain": [
       "str"
      ]
     },
     "execution_count": 119,
     "metadata": {},
     "output_type": "execute_result"
    }
   ],
   "source": [
    "type(c)"
   ]
  },
  {
   "cell_type": "markdown",
   "id": "afce3795",
   "metadata": {},
   "source": [
    "# Why do this"
   ]
  },
  {
   "cell_type": "code",
   "execution_count": 87,
   "id": "8196a1e1",
   "metadata": {},
   "outputs": [
    {
     "ename": "SyntaxError",
     "evalue": "invalid syntax (510692092.py, line 1)",
     "output_type": "error",
     "traceback": [
      "\u001b[0;36m  Cell \u001b[0;32mIn[87], line 1\u001b[0;36m\u001b[0m\n\u001b[0;31m    'I'm siddharth. What do you want.'\u001b[0m\n\u001b[0m       ^\u001b[0m\n\u001b[0;31mSyntaxError\u001b[0m\u001b[0;31m:\u001b[0m invalid syntax\n"
     ]
    }
   ],
   "source": [
    "# The problem\n",
    "'I'm lord voldemort. What do you want.'"
   ]
  },
  {
   "cell_type": "code",
   "execution_count": 89,
   "id": "ced471fe",
   "metadata": {},
   "outputs": [
    {
     "data": {
      "text/plain": [
       "\"I'm lord voldemort. What do you want.\""
      ]
     },
     "execution_count": 89,
     "metadata": {},
     "output_type": "execute_result"
    }
   ],
   "source": [
    "# The Solution\n",
    "#'I'm lord voldemort. What do you want.'\n",
    "\n",
    "\"I'm lord voldemort. What do you want.\""
   ]
  },
  {
   "cell_type": "code",
   "execution_count": 90,
   "id": "4ee8e3fe",
   "metadata": {},
   "outputs": [
    {
     "data": {
      "text/plain": [
       "\"I'm lord voldemort. What do you want.\""
      ]
     },
     "execution_count": 90,
     "metadata": {},
     "output_type": "execute_result"
    }
   ],
   "source": [
    "'I\\'m lord voldemort. What do you want.'"
   ]
  },
  {
   "cell_type": "code",
   "execution_count": 95,
   "id": "e09d9565",
   "metadata": {},
   "outputs": [
    {
     "ename": "SyntaxError",
     "evalue": "EOL while scanning string literal (1821724589.py, line 1)",
     "output_type": "error",
     "traceback": [
      "\u001b[0;36m  Cell \u001b[0;32mIn[95], line 1\u001b[0;36m\u001b[0m\n\u001b[0;31m    I'm Lord Voldemort and the quote of the day is - \"Early to bed, early to rise.\"\u001b[0m\n\u001b[0m                                                                                   ^\u001b[0m\n\u001b[0;31mSyntaxError\u001b[0m\u001b[0;31m:\u001b[0m EOL while scanning string literal\n"
     ]
    }
   ],
   "source": [
    "# This is my problem\n",
    "I'm Lord Voldemort and the quote of the day is - \"Early to bed, early to rise.\""
   ]
  },
  {
   "cell_type": "code",
   "execution_count": 98,
   "id": "b39c2923",
   "metadata": {},
   "outputs": [],
   "source": [
    "# The Solution"
   ]
  },
  {
   "cell_type": "code",
   "execution_count": 108,
   "id": "c11d54f8",
   "metadata": {},
   "outputs": [
    {
     "data": {
      "text/plain": [
       "'I\\'m Lord Voldemort and the quote of the day is - \"Early to bed, early to rise.\"'"
      ]
     },
     "execution_count": 108,
     "metadata": {},
     "output_type": "execute_result"
    }
   ],
   "source": [
    "# Solution 1 \n",
    "\"I'm Lord Voldemort and the quote of the day is - \\\"Early to bed, early to rise.\\\"\""
   ]
  },
  {
   "cell_type": "code",
   "execution_count": 109,
   "id": "1b93bcd7",
   "metadata": {},
   "outputs": [
    {
     "data": {
      "text/plain": [
       "' This is a string '"
      ]
     },
     "execution_count": 109,
     "metadata": {},
     "output_type": "execute_result"
    }
   ],
   "source": [
    "'This is a string'\n",
    "\"This is a string\"\n",
    "''' This is a string '''"
   ]
  },
  {
   "cell_type": "code",
   "execution_count": 112,
   "id": "7ef16a2b",
   "metadata": {},
   "outputs": [
    {
     "data": {
      "text/plain": [
       "' I\\'m Lord Voldemort and the quote of the day is - \"Early to bed, early to rise.\"'"
      ]
     },
     "execution_count": 112,
     "metadata": {},
     "output_type": "execute_result"
    }
   ],
   "source": [
    "# The solution\n",
    "''' I'm Lord Voldemort and the quote of the day is - \"Early to bed, early to rise.\"'''"
   ]
  },
  {
   "cell_type": "markdown",
   "id": "1f84db00",
   "metadata": {},
   "source": [
    "# An explanation"
   ]
  },
  {
   "cell_type": "code",
   "execution_count": null,
   "id": "551cb88e",
   "metadata": {},
   "outputs": [],
   "source": [
    "# # Problem 1 \n",
    "# 'That's his car'\n",
    "\n",
    "# # Solution 1 \n",
    "# 'That\\'s his car'\n",
    "\n",
    "# # Solution 2\n",
    "# \"That's his car\"\n",
    "\n",
    "# # --------------------------------------------------------\n",
    "# # Problem 2\n",
    "# Quote of the day - \"Early to bed, early to rise.\"\n",
    "\n",
    "# # Solution 1 \n",
    "# 'Quote of the day - \"Early to bed, early to rise.\"'\n",
    "\n",
    "# # Solution 2\n",
    "# \"Quote of the day - \\\"Early to bed, early to rise.\\\"\"\n",
    "\n",
    "\n",
    "# # --------------------------------------------------------\n",
    "\n",
    "# # Problem 3 \n",
    "# That\\'s his car. Quote of the day - \"Early to bed, early to rise.\"\n",
    "\n",
    "# # Solution 1 \n",
    "# ''' That\\'s his car. Quote of the day - \"Early to bed, early to rise.\" '''"
   ]
  },
  {
   "cell_type": "markdown",
   "id": "ec04ccca",
   "metadata": {},
   "source": [
    "## F String"
   ]
  },
  {
   "cell_type": "markdown",
   "id": "a1f84589",
   "metadata": {},
   "source": [
    "A way for us to dynamically create strings."
   ]
  },
  {
   "cell_type": "code",
   "execution_count": 126,
   "id": "7040cf55",
   "metadata": {},
   "outputs": [],
   "source": [
    "a = 'Messi'\n",
    "b = 'Ronaldo'"
   ]
  },
  {
   "cell_type": "code",
   "execution_count": 132,
   "id": "f7949226",
   "metadata": {},
   "outputs": [
    {
     "data": {
      "text/plain": [
       "'The greatest football player is Messi. He is my favourite'"
      ]
     },
     "execution_count": 132,
     "metadata": {},
     "output_type": "execute_result"
    }
   ],
   "source": [
    "\"The greatest football player is \" + a + \". He is my favourite\""
   ]
  },
  {
   "cell_type": "code",
   "execution_count": 137,
   "id": "5bcaee77",
   "metadata": {},
   "outputs": [
    {
     "data": {
      "text/plain": [
       "'The greatest football player is Ronaldo. He is my favourite'"
      ]
     },
     "execution_count": 137,
     "metadata": {},
     "output_type": "execute_result"
    }
   ],
   "source": [
    "\"The greatest football player is \" + b + \". He is my favourite\""
   ]
  },
  {
   "cell_type": "markdown",
   "id": "3f36c36e",
   "metadata": {},
   "source": [
    "### Examples"
   ]
  },
  {
   "cell_type": "code",
   "execution_count": 135,
   "id": "a54240ff",
   "metadata": {},
   "outputs": [
    {
     "data": {
      "text/plain": [
       "'This is a string'"
      ]
     },
     "execution_count": 135,
     "metadata": {},
     "output_type": "execute_result"
    }
   ],
   "source": [
    "'This is a string'"
   ]
  },
  {
   "cell_type": "code",
   "execution_count": 136,
   "id": "c7f950b8",
   "metadata": {},
   "outputs": [
    {
     "data": {
      "text/plain": [
       "'This is an f string'"
      ]
     },
     "execution_count": 136,
     "metadata": {},
     "output_type": "execute_result"
    }
   ],
   "source": [
    "f'This is an f string'"
   ]
  },
  {
   "cell_type": "code",
   "execution_count": 138,
   "id": "615f1a98",
   "metadata": {},
   "outputs": [
    {
     "data": {
      "text/plain": [
       "'This is a string. We can do this {}'"
      ]
     },
     "execution_count": 138,
     "metadata": {},
     "output_type": "execute_result"
    }
   ],
   "source": [
    "# When normal\n",
    "'This is a string. We can do this {}'"
   ]
  },
  {
   "cell_type": "code",
   "execution_count": 142,
   "id": "f8e74d6b",
   "metadata": {},
   "outputs": [],
   "source": [
    "# When f string\n",
    "# f'This is a f string. We can do this {}'"
   ]
  },
  {
   "cell_type": "code",
   "execution_count": 143,
   "id": "b30c7bf9",
   "metadata": {},
   "outputs": [
    {
     "data": {
      "text/plain": [
       "'This is a f string. We can do this Messi'"
      ]
     },
     "execution_count": 143,
     "metadata": {},
     "output_type": "execute_result"
    }
   ],
   "source": [
    "f'This is a f string. We can do this {a}'"
   ]
  },
  {
   "cell_type": "code",
   "execution_count": 144,
   "id": "3b406bcb",
   "metadata": {},
   "outputs": [
    {
     "data": {
      "text/plain": [
       "'This is a f string. We can do this Ronaldo'"
      ]
     },
     "execution_count": 144,
     "metadata": {},
     "output_type": "execute_result"
    }
   ],
   "source": [
    "f'This is a f string. We can do this {b}'"
   ]
  },
  {
   "cell_type": "code",
   "execution_count": 145,
   "id": "b7e65c9e",
   "metadata": {},
   "outputs": [],
   "source": [
    "principal_amt = 100\n",
    "interest_rate = 0.05\n",
    "years = 5"
   ]
  },
  {
   "cell_type": "code",
   "execution_count": 146,
   "id": "14f0f986",
   "metadata": {},
   "outputs": [],
   "source": [
    "# i have to calculate simple interest"
   ]
  },
  {
   "cell_type": "markdown",
   "id": "c35c04b6",
   "metadata": {},
   "source": [
    "f'Greetings customer, your amount with us is {principal_amt} with the interest rate of {interest_rate}, and you have deposited your money with us {years} ago. Your total simple interest is {principal_amt * interest_rate * years}.'"
   ]
  },
  {
   "cell_type": "code",
   "execution_count": 148,
   "id": "a82d2b92",
   "metadata": {},
   "outputs": [
    {
     "data": {
      "text/plain": [
       "'Greetings customer, your amount with us is 100 with the interest rate of 0.05, and you have deposited your money with us 5 ago. Your total simple interest is 25.0.'"
      ]
     },
     "execution_count": 148,
     "metadata": {},
     "output_type": "execute_result"
    }
   ],
   "source": [
    "f'Greetings customer, your amount with us is {principal_amt} with the interest rate of {interest_rate}, and you have deposited your money with us {years} ago. Your total simple interest is {principal_amt * interest_rate * years}.'"
   ]
  },
  {
   "cell_type": "markdown",
   "id": "9600afbd",
   "metadata": {},
   "source": [
    "<h1><center>Methods</center></h1>\n",
    "\n",
    "![](https://media.tenor.com/X67aTdCdqjcAAAAC/robert-downey-jr-interesting.gif)"
   ]
  },
  {
   "cell_type": "markdown",
   "id": "e48cd6a1",
   "metadata": {},
   "source": [
    "# String methods"
   ]
  },
  {
   "cell_type": "code",
   "execution_count": 149,
   "id": "2fb23b84",
   "metadata": {},
   "outputs": [],
   "source": [
    "a = \"Lionel Messi\""
   ]
  },
  {
   "cell_type": "code",
   "execution_count": 150,
   "id": "b05740d1",
   "metadata": {},
   "outputs": [
    {
     "data": {
      "text/plain": [
       "'Lionel Messi'"
      ]
     },
     "execution_count": 150,
     "metadata": {},
     "output_type": "execute_result"
    }
   ],
   "source": [
    "a"
   ]
  },
  {
   "cell_type": "code",
   "execution_count": 151,
   "id": "922fa567",
   "metadata": {},
   "outputs": [
    {
     "data": {
      "text/plain": [
       "str"
      ]
     },
     "execution_count": 151,
     "metadata": {},
     "output_type": "execute_result"
    }
   ],
   "source": [
    "type(a)"
   ]
  },
  {
   "cell_type": "code",
   "execution_count": 152,
   "id": "3949c0e1",
   "metadata": {},
   "outputs": [
    {
     "data": {
      "text/plain": [
       "'Lionel messi'"
      ]
     },
     "execution_count": 152,
     "metadata": {},
     "output_type": "execute_result"
    }
   ],
   "source": [
    "a.capitalize()"
   ]
  },
  {
   "cell_type": "code",
   "execution_count": 153,
   "id": "2790b2f8",
   "metadata": {},
   "outputs": [
    {
     "data": {
      "text/plain": [
       "'Lionel messi'"
      ]
     },
     "execution_count": 153,
     "metadata": {},
     "output_type": "execute_result"
    }
   ],
   "source": [
    "'lionel messi'.capitalize()"
   ]
  },
  {
   "cell_type": "code",
   "execution_count": 158,
   "id": "3099c2df",
   "metadata": {},
   "outputs": [
    {
     "data": {
      "text/plain": [
       "1"
      ]
     },
     "execution_count": 158,
     "metadata": {},
     "output_type": "execute_result"
    }
   ],
   "source": [
    "a.count('L')"
   ]
  },
  {
   "cell_type": "code",
   "execution_count": 159,
   "id": "2bc95b96",
   "metadata": {},
   "outputs": [
    {
     "data": {
      "text/plain": [
       "'LIONEL MESSI'"
      ]
     },
     "execution_count": 159,
     "metadata": {},
     "output_type": "execute_result"
    }
   ],
   "source": [
    "a.upper()"
   ]
  },
  {
   "cell_type": "code",
   "execution_count": 160,
   "id": "ed9df87c",
   "metadata": {},
   "outputs": [
    {
     "data": {
      "text/plain": [
       "'lionel messi'"
      ]
     },
     "execution_count": 160,
     "metadata": {},
     "output_type": "execute_result"
    }
   ],
   "source": [
    "a.lower()"
   ]
  },
  {
   "cell_type": "markdown",
   "id": "48d6a655",
   "metadata": {},
   "source": [
    "### How do i find out which method does what."
   ]
  },
  {
   "cell_type": "code",
   "execution_count": 161,
   "id": "7df05254",
   "metadata": {},
   "outputs": [],
   "source": [
    "?a.find"
   ]
  },
  {
   "cell_type": "code",
   "execution_count": 163,
   "id": "ee5edee6",
   "metadata": {},
   "outputs": [
    {
     "data": {
      "text/plain": [
       "8"
      ]
     },
     "execution_count": 163,
     "metadata": {},
     "output_type": "execute_result"
    }
   ],
   "source": [
    "'My name is siddharth'.find('i')"
   ]
  },
  {
   "cell_type": "code",
   "execution_count": 164,
   "id": "cd60b02e",
   "metadata": {},
   "outputs": [],
   "source": [
    "?a.join"
   ]
  },
  {
   "cell_type": "markdown",
   "id": "a521f7a2",
   "metadata": {},
   "source": [
    "# Integer Methods"
   ]
  },
  {
   "cell_type": "code",
   "execution_count": 165,
   "id": "27781bfc",
   "metadata": {},
   "outputs": [],
   "source": [
    "a = 10"
   ]
  },
  {
   "cell_type": "code",
   "execution_count": 169,
   "id": "d768081a",
   "metadata": {},
   "outputs": [
    {
     "data": {
      "text/plain": [
       "1"
      ]
     },
     "execution_count": 169,
     "metadata": {},
     "output_type": "execute_result"
    }
   ],
   "source": [
    "a.denominator"
   ]
  },
  {
   "cell_type": "code",
   "execution_count": 171,
   "id": "53ce2a5f",
   "metadata": {},
   "outputs": [
    {
     "data": {
      "text/plain": [
       "10"
      ]
     },
     "execution_count": 171,
     "metadata": {},
     "output_type": "execute_result"
    }
   ],
   "source": [
    "a.numerator"
   ]
  },
  {
   "cell_type": "markdown",
   "id": "3061bbf6",
   "metadata": {},
   "source": [
    "# Float Methods"
   ]
  },
  {
   "cell_type": "code",
   "execution_count": 172,
   "id": "290580f1",
   "metadata": {},
   "outputs": [],
   "source": [
    "a = 10.5"
   ]
  },
  {
   "cell_type": "code",
   "execution_count": 174,
   "id": "084c25fe",
   "metadata": {},
   "outputs": [
    {
     "data": {
      "text/plain": [
       "10.5"
      ]
     },
     "execution_count": 174,
     "metadata": {},
     "output_type": "execute_result"
    }
   ],
   "source": [
    "a.real"
   ]
  },
  {
   "cell_type": "markdown",
   "id": "9dcbb46a-7af8-42dd-9765-e25577d8db25",
   "metadata": {},
   "source": [
    "## Lists<a class=\"anchor\" id=\"lst\"></a>\n",
    "- Lists are general buckets\n",
    "- They can be used to store many types of data including lists themselves"
   ]
  },
  {
   "cell_type": "code",
   "execution_count": 175,
   "id": "34652e1c",
   "metadata": {},
   "outputs": [],
   "source": [
    "my_list = [1,2,3,4,'a','b', 10.3, 11.5]"
   ]
  },
  {
   "cell_type": "code",
   "execution_count": 177,
   "id": "47367584",
   "metadata": {},
   "outputs": [
    {
     "data": {
      "text/plain": [
       "list"
      ]
     },
     "execution_count": 177,
     "metadata": {},
     "output_type": "execute_result"
    }
   ],
   "source": [
    "type(my_list)"
   ]
  },
  {
   "cell_type": "code",
   "execution_count": 189,
   "id": "2f78fb96",
   "metadata": {},
   "outputs": [
    {
     "data": {
      "text/plain": [
       "1"
      ]
     },
     "execution_count": 189,
     "metadata": {},
     "output_type": "execute_result"
    }
   ],
   "source": [
    "my_list[0]"
   ]
  },
  {
   "cell_type": "markdown",
   "id": "34cd0c6a",
   "metadata": {},
   "source": [
    "### When we want 1 stuff at a time"
   ]
  },
  {
   "cell_type": "code",
   "execution_count": 188,
   "id": "4486d20a",
   "metadata": {},
   "outputs": [
    {
     "data": {
      "text/plain": [
       "11.5"
      ]
     },
     "execution_count": 188,
     "metadata": {},
     "output_type": "execute_result"
    }
   ],
   "source": [
    "my_list[7]"
   ]
  },
  {
   "cell_type": "markdown",
   "id": "5c40c785",
   "metadata": {},
   "source": [
    "### When we want more than 1 stuff at a time"
   ]
  },
  {
   "cell_type": "code",
   "execution_count": 192,
   "id": "15eb6b1e",
   "metadata": {},
   "outputs": [],
   "source": [
    "my_list = [1,2,3,4,'a','b', 10.3, 11.5]"
   ]
  },
  {
   "cell_type": "code",
   "execution_count": null,
   "id": "885b822a",
   "metadata": {},
   "outputs": [],
   "source": [
    "# The logic remains the same\n",
    "# your_variable[start_index : end_index]  #The last item is NOT included !!!!!!!!!!!!!!!!!! "
   ]
  },
  {
   "cell_type": "code",
   "execution_count": 193,
   "id": "2f1785e8",
   "metadata": {},
   "outputs": [
    {
     "data": {
      "text/plain": [
       "[1, 2, 3]"
      ]
     },
     "execution_count": 193,
     "metadata": {},
     "output_type": "execute_result"
    }
   ],
   "source": [
    "my_list[0:3]"
   ]
  },
  {
   "cell_type": "code",
   "execution_count": 198,
   "id": "b3dc78ba",
   "metadata": {},
   "outputs": [
    {
     "data": {
      "text/plain": [
       "[]"
      ]
     },
     "execution_count": 198,
     "metadata": {},
     "output_type": "execute_result"
    }
   ],
   "source": [
    "my_list[5:5]"
   ]
  },
  {
   "cell_type": "code",
   "execution_count": 199,
   "id": "604d2f12",
   "metadata": {},
   "outputs": [
    {
     "data": {
      "text/plain": [
       "[4, 'a']"
      ]
     },
     "execution_count": 199,
     "metadata": {},
     "output_type": "execute_result"
    }
   ],
   "source": [
    "my_list[-5:5]"
   ]
  },
  {
   "cell_type": "markdown",
   "id": "313f0181",
   "metadata": {},
   "source": [
    "# Important\n",
    "![](https://media.tenor.com/LoNa2zOMxoAAAAAC/its-very-important-it-matters.gif)"
   ]
  },
  {
   "cell_type": "markdown",
   "id": "3dc7f453",
   "metadata": {},
   "source": [
    "When, we were working with strings. \n",
    "- When we asked for 1 item back, we got a string back\n",
    "- When we asked for multiples items back, we still got a string back. \n",
    "\n",
    "Just to prove it to you. Let me show you."
   ]
  },
  {
   "cell_type": "code",
   "execution_count": 201,
   "id": "8062a6db",
   "metadata": {},
   "outputs": [],
   "source": [
    "a = \"Lionel Messi\""
   ]
  },
  {
   "cell_type": "code",
   "execution_count": 202,
   "id": "899dff60",
   "metadata": {},
   "outputs": [
    {
     "data": {
      "text/plain": [
       "'L'"
      ]
     },
     "execution_count": 202,
     "metadata": {},
     "output_type": "execute_result"
    }
   ],
   "source": [
    "a[0]"
   ]
  },
  {
   "cell_type": "code",
   "execution_count": 203,
   "id": "0585a175",
   "metadata": {},
   "outputs": [
    {
     "data": {
      "text/plain": [
       "str"
      ]
     },
     "execution_count": 203,
     "metadata": {},
     "output_type": "execute_result"
    }
   ],
   "source": [
    "type(a[0])"
   ]
  },
  {
   "cell_type": "code",
   "execution_count": 204,
   "id": "15c54f6e",
   "metadata": {},
   "outputs": [
    {
     "data": {
      "text/plain": [
       "'Lio'"
      ]
     },
     "execution_count": 204,
     "metadata": {},
     "output_type": "execute_result"
    }
   ],
   "source": [
    "a[0:3]"
   ]
  },
  {
   "cell_type": "code",
   "execution_count": 205,
   "id": "8dad39dc",
   "metadata": {},
   "outputs": [
    {
     "data": {
      "text/plain": [
       "str"
      ]
     },
     "execution_count": 205,
     "metadata": {},
     "output_type": "execute_result"
    }
   ],
   "source": [
    "type(a[0:3])"
   ]
  },
  {
   "cell_type": "markdown",
   "id": "9dbcb090",
   "metadata": {},
   "source": [
    "# This is important, because how it behaves with lists"
   ]
  },
  {
   "cell_type": "code",
   "execution_count": 206,
   "id": "3f01e67b",
   "metadata": {},
   "outputs": [],
   "source": [
    "my_list = [1,2,3,4,'a','b', 10.3, 11.5]"
   ]
  },
  {
   "cell_type": "code",
   "execution_count": 207,
   "id": "91c9ab57",
   "metadata": {},
   "outputs": [
    {
     "data": {
      "text/plain": [
       "3"
      ]
     },
     "execution_count": 207,
     "metadata": {},
     "output_type": "execute_result"
    }
   ],
   "source": [
    "my_list[2]"
   ]
  },
  {
   "cell_type": "code",
   "execution_count": 208,
   "id": "4e35a31b",
   "metadata": {},
   "outputs": [
    {
     "data": {
      "text/plain": [
       "int"
      ]
     },
     "execution_count": 208,
     "metadata": {},
     "output_type": "execute_result"
    }
   ],
   "source": [
    "type(my_list[2])"
   ]
  },
  {
   "cell_type": "code",
   "execution_count": 210,
   "id": "581dc210",
   "metadata": {},
   "outputs": [
    {
     "data": {
      "text/plain": [
       "'b'"
      ]
     },
     "execution_count": 210,
     "metadata": {},
     "output_type": "execute_result"
    }
   ],
   "source": [
    "my_list[5]"
   ]
  },
  {
   "cell_type": "code",
   "execution_count": 211,
   "id": "5b6a407f",
   "metadata": {},
   "outputs": [
    {
     "data": {
      "text/plain": [
       "str"
      ]
     },
     "execution_count": 211,
     "metadata": {},
     "output_type": "execute_result"
    }
   ],
   "source": [
    "type(my_list[5])"
   ]
  },
  {
   "cell_type": "code",
   "execution_count": 212,
   "id": "ba9ac64b",
   "metadata": {},
   "outputs": [
    {
     "data": {
      "text/plain": [
       "11.5"
      ]
     },
     "execution_count": 212,
     "metadata": {},
     "output_type": "execute_result"
    }
   ],
   "source": [
    "my_list[7]"
   ]
  },
  {
   "cell_type": "code",
   "execution_count": 213,
   "id": "2bb70048",
   "metadata": {},
   "outputs": [
    {
     "data": {
      "text/plain": [
       "float"
      ]
     },
     "execution_count": 213,
     "metadata": {},
     "output_type": "execute_result"
    }
   ],
   "source": [
    "type(my_list[7])"
   ]
  },
  {
   "cell_type": "markdown",
   "id": "12edf6c3",
   "metadata": {},
   "source": [
    "#  But, what happens when we ask for multiple items back"
   ]
  },
  {
   "cell_type": "code",
   "execution_count": 214,
   "id": "30c3314f",
   "metadata": {},
   "outputs": [],
   "source": [
    "my_list = [1,2,3,4,'a','b', 10.3, 11.5]"
   ]
  },
  {
   "cell_type": "code",
   "execution_count": 215,
   "id": "1108a187",
   "metadata": {},
   "outputs": [
    {
     "data": {
      "text/plain": [
       "[1, 2, 3]"
      ]
     },
     "execution_count": 215,
     "metadata": {},
     "output_type": "execute_result"
    }
   ],
   "source": [
    "my_list[0:3]"
   ]
  },
  {
   "cell_type": "code",
   "execution_count": 216,
   "id": "5250664b",
   "metadata": {},
   "outputs": [
    {
     "data": {
      "text/plain": [
       "list"
      ]
     },
     "execution_count": 216,
     "metadata": {},
     "output_type": "execute_result"
    }
   ],
   "source": [
    "type(my_list[0:3])"
   ]
  },
  {
   "cell_type": "markdown",
   "id": "efb12651",
   "metadata": {},
   "source": [
    "### What python does is \n",
    "From a list, whenever we ask for multiple items back. It returns us those items back but only after packing them inside a list."
   ]
  },
  {
   "cell_type": "code",
   "execution_count": 224,
   "id": "81e5c08a",
   "metadata": {},
   "outputs": [
    {
     "data": {
      "text/plain": [
       "['a', 'b']"
      ]
     },
     "execution_count": 224,
     "metadata": {},
     "output_type": "execute_result"
    }
   ],
   "source": [
    "my_list[4:6]"
   ]
  },
  {
   "cell_type": "markdown",
   "id": "a9e23027",
   "metadata": {},
   "source": [
    "# Something to remember\n",
    "Whenever i will ask for items using the ```[start:end]``` syntax. We will get the output wrapped in a list."
   ]
  },
  {
   "cell_type": "code",
   "execution_count": 225,
   "id": "b2e66e44",
   "metadata": {},
   "outputs": [],
   "source": [
    "my_list = [1,2,3,4,'a','b', 10.3, 11.5]"
   ]
  },
  {
   "cell_type": "code",
   "execution_count": 226,
   "id": "69892c13",
   "metadata": {},
   "outputs": [
    {
     "data": {
      "text/plain": [
       "[2, 3, 4, 'a', 'b', 10.3]"
      ]
     },
     "execution_count": 226,
     "metadata": {},
     "output_type": "execute_result"
    }
   ],
   "source": [
    "my_list[-7:7]"
   ]
  },
  {
   "cell_type": "code",
   "execution_count": 227,
   "id": "963efbaf",
   "metadata": {},
   "outputs": [
    {
     "data": {
      "text/plain": [
       "[]"
      ]
     },
     "execution_count": 227,
     "metadata": {},
     "output_type": "execute_result"
    }
   ],
   "source": [
    "# Guess\n",
    "my_list[3:3] # this will give us an empty list, not nothing, but something"
   ]
  },
  {
   "cell_type": "code",
   "execution_count": 228,
   "id": "b4a31023",
   "metadata": {},
   "outputs": [
    {
     "data": {
      "text/plain": [
       "list"
      ]
     },
     "execution_count": 228,
     "metadata": {},
     "output_type": "execute_result"
    }
   ],
   "source": [
    "type(my_list[3:3])"
   ]
  },
  {
   "cell_type": "markdown",
   "id": "09c66026",
   "metadata": {},
   "source": [
    "# Loops"
   ]
  },
  {
   "cell_type": "code",
   "execution_count": 229,
   "id": "4f0c2c80",
   "metadata": {},
   "outputs": [],
   "source": [
    "my_list = [1,2,3,4,'a','b', 10.3, 11.5]"
   ]
  },
  {
   "cell_type": "code",
   "execution_count": 230,
   "id": "e100822f",
   "metadata": {},
   "outputs": [],
   "source": [
    "# The snytax for loops is this \n",
    "# for i in iterable_item:\n",
    "#    do_whatever_you_want_with_i  "
   ]
  },
  {
   "cell_type": "code",
   "execution_count": 233,
   "id": "b34f3807",
   "metadata": {},
   "outputs": [
    {
     "name": "stdout",
     "output_type": "stream",
     "text": [
      "1\n",
      "-------------\n",
      "2\n",
      "-------------\n",
      "3\n",
      "-------------\n",
      "4\n",
      "-------------\n",
      "a\n",
      "-------------\n",
      "b\n",
      "-------------\n",
      "10.3\n",
      "-------------\n",
      "11.5\n",
      "-------------\n"
     ]
    }
   ],
   "source": [
    "for i in my_list:\n",
    "    print(i)\n",
    "    print('-------------')"
   ]
  },
  {
   "cell_type": "code",
   "execution_count": null,
   "id": "c578c670",
   "metadata": {},
   "outputs": [],
   "source": [
    "my_list = [1,2,3,4,'a','b', 10.3, 11.5]"
   ]
  },
  {
   "cell_type": "code",
   "execution_count": 234,
   "id": "9727e52b",
   "metadata": {},
   "outputs": [
    {
     "name": "stdout",
     "output_type": "stream",
     "text": [
      "<class 'int'>\n",
      "<class 'int'>\n",
      "<class 'int'>\n",
      "<class 'int'>\n",
      "<class 'str'>\n",
      "<class 'str'>\n",
      "<class 'float'>\n",
      "<class 'float'>\n"
     ]
    }
   ],
   "source": [
    "for i in my_list:\n",
    "    print(type(i))"
   ]
  },
  {
   "cell_type": "markdown",
   "id": "a490566e",
   "metadata": {},
   "source": [
    "### You can add them together "
   ]
  },
  {
   "cell_type": "code",
   "execution_count": 236,
   "id": "0062f017",
   "metadata": {},
   "outputs": [],
   "source": [
    "my_list = [1,2,3,4,'a','b', 10.3, 11.5]\n",
    "my_list_2 = [80,90,100]"
   ]
  },
  {
   "cell_type": "code",
   "execution_count": 237,
   "id": "32488bfa",
   "metadata": {},
   "outputs": [
    {
     "data": {
      "text/plain": [
       "[1, 2, 3, 4, 'a', 'b', 10.3, 11.5, 80, 90, 100]"
      ]
     },
     "execution_count": 237,
     "metadata": {},
     "output_type": "execute_result"
    }
   ],
   "source": [
    "my_list + my_list_2"
   ]
  },
  {
   "cell_type": "markdown",
   "id": "b8f04ee9",
   "metadata": {},
   "source": [
    "### Adding 2 lists together just appends them"
   ]
  },
  {
   "cell_type": "markdown",
   "id": "30e706c8",
   "metadata": {},
   "source": [
    "# List Methods"
   ]
  },
  {
   "cell_type": "code",
   "execution_count": 238,
   "id": "519baae4",
   "metadata": {},
   "outputs": [],
   "source": [
    "my_list = [1,2,3,4,'a','b', 10.3, 11.5]"
   ]
  },
  {
   "cell_type": "code",
   "execution_count": 239,
   "id": "16c33d6a",
   "metadata": {},
   "outputs": [
    {
     "data": {
      "text/plain": [
       "[1, 2, 3, 4, 'a', 'b', 10.3, 11.5]"
      ]
     },
     "execution_count": 239,
     "metadata": {},
     "output_type": "execute_result"
    }
   ],
   "source": [
    "my_list"
   ]
  },
  {
   "cell_type": "code",
   "execution_count": 241,
   "id": "59e2b5a3",
   "metadata": {},
   "outputs": [],
   "source": [
    "my_list.append(100)"
   ]
  },
  {
   "cell_type": "code",
   "execution_count": 242,
   "id": "1015f290",
   "metadata": {},
   "outputs": [
    {
     "data": {
      "text/plain": [
       "[1, 2, 3, 4, 'a', 'b', 10.3, 11.5, 100]"
      ]
     },
     "execution_count": 242,
     "metadata": {},
     "output_type": "execute_result"
    }
   ],
   "source": [
    "my_list"
   ]
  },
  {
   "cell_type": "code",
   "execution_count": 243,
   "id": "0a0a0b25",
   "metadata": {},
   "outputs": [],
   "source": [
    "my_list.append(90)"
   ]
  },
  {
   "cell_type": "code",
   "execution_count": 248,
   "id": "d0f31161",
   "metadata": {},
   "outputs": [
    {
     "data": {
      "text/plain": [
       "[1, 2, 3, 4, 'a', 'b', 10.3, 11.5, 100, 90]"
      ]
     },
     "execution_count": 248,
     "metadata": {},
     "output_type": "execute_result"
    }
   ],
   "source": [
    "my_list"
   ]
  },
  {
   "cell_type": "code",
   "execution_count": 249,
   "id": "971fa6e1",
   "metadata": {},
   "outputs": [],
   "source": [
    "temp_list = [1,1,1,0,0,0,2,2]"
   ]
  },
  {
   "cell_type": "code",
   "execution_count": 260,
   "id": "fbf567ac",
   "metadata": {},
   "outputs": [
    {
     "data": {
      "text/plain": [
       "2"
      ]
     },
     "execution_count": 260,
     "metadata": {},
     "output_type": "execute_result"
    }
   ],
   "source": [
    "# Let's look at something else\n",
    "temp_list.count(2)"
   ]
  },
  {
   "cell_type": "code",
   "execution_count": 261,
   "id": "4132100c",
   "metadata": {},
   "outputs": [],
   "source": [
    "temp_list = [1,1,1,0,0,0,2,2]"
   ]
  },
  {
   "cell_type": "code",
   "execution_count": 262,
   "id": "b49706ae",
   "metadata": {},
   "outputs": [
    {
     "data": {
      "text/plain": [
       "[1, 1, 1, 0, 0, 0, 2, 2]"
      ]
     },
     "execution_count": 262,
     "metadata": {},
     "output_type": "execute_result"
    }
   ],
   "source": [
    "temp_list"
   ]
  },
  {
   "cell_type": "code",
   "execution_count": 263,
   "id": "8065d00d",
   "metadata": {},
   "outputs": [],
   "source": [
    "# I am sorting it\n",
    "temp_list.sort()"
   ]
  },
  {
   "cell_type": "code",
   "execution_count": 266,
   "id": "669568b9",
   "metadata": {},
   "outputs": [
    {
     "data": {
      "text/plain": [
       "[0, 0, 0, 1, 1, 1, 2, 2]"
      ]
     },
     "execution_count": 266,
     "metadata": {},
     "output_type": "execute_result"
    }
   ],
   "source": [
    "temp_list"
   ]
  },
  {
   "cell_type": "code",
   "execution_count": 267,
   "id": "1e45a1ec",
   "metadata": {},
   "outputs": [
    {
     "data": {
      "text/plain": [
       "[1, 2, 3, 4, 'a', 'b', 10.3, 11.5, 100, 90]"
      ]
     },
     "execution_count": 267,
     "metadata": {},
     "output_type": "execute_result"
    }
   ],
   "source": [
    "my_list"
   ]
  },
  {
   "cell_type": "code",
   "execution_count": 268,
   "id": "2e32d5b3",
   "metadata": {},
   "outputs": [],
   "source": [
    "my_list.insert(0,'I have inserted this here')"
   ]
  },
  {
   "cell_type": "code",
   "execution_count": 270,
   "id": "069d2cf0",
   "metadata": {},
   "outputs": [
    {
     "data": {
      "text/plain": [
       "['I have inserted this here', 1, 2, 3, 4, 'a', 'b', 10.3, 11.5, 100, 90]"
      ]
     },
     "execution_count": 270,
     "metadata": {},
     "output_type": "execute_result"
    }
   ],
   "source": [
    "my_list"
   ]
  },
  {
   "cell_type": "markdown",
   "id": "7ddece91",
   "metadata": {},
   "source": [
    "# Overwriting stuff in lists"
   ]
  },
  {
   "cell_type": "code",
   "execution_count": 272,
   "id": "ec2b23d6",
   "metadata": {},
   "outputs": [],
   "source": [
    "# A recap\n",
    "a = 'Lionel Messi'"
   ]
  },
  {
   "cell_type": "code",
   "execution_count": 273,
   "id": "5aa4ab6a",
   "metadata": {},
   "outputs": [],
   "source": [
    "# Overwrite string\n",
    "a = \"CR7\""
   ]
  },
  {
   "cell_type": "code",
   "execution_count": 274,
   "id": "5802f847",
   "metadata": {},
   "outputs": [
    {
     "data": {
      "text/plain": [
       "'CR7'"
      ]
     },
     "execution_count": 274,
     "metadata": {},
     "output_type": "execute_result"
    }
   ],
   "source": [
    "a"
   ]
  },
  {
   "cell_type": "code",
   "execution_count": 276,
   "id": "be930c58",
   "metadata": {},
   "outputs": [
    {
     "ename": "TypeError",
     "evalue": "'str' object does not support item assignment",
     "output_type": "error",
     "traceback": [
      "\u001b[0;31m---------------------------------------------------------------------------\u001b[0m",
      "\u001b[0;31mTypeError\u001b[0m                                 Traceback (most recent call last)",
      "Cell \u001b[0;32mIn[276], line 2\u001b[0m\n\u001b[1;32m      1\u001b[0m \u001b[38;5;66;03m# You can't overwrite individual elements of the string\u001b[39;00m\n\u001b[0;32m----> 2\u001b[0m a[\u001b[38;5;241m0\u001b[39m] \u001b[38;5;241m=\u001b[39m \u001b[38;5;124m'\u001b[39m\u001b[38;5;124mS\u001b[39m\u001b[38;5;124m'\u001b[39m\n",
      "\u001b[0;31mTypeError\u001b[0m: 'str' object does not support item assignment"
     ]
    }
   ],
   "source": [
    "# You can't overwrite individual elements of the string\n",
    "a[0] = 'S'"
   ]
  },
  {
   "cell_type": "markdown",
   "id": "b72e02d3",
   "metadata": {},
   "source": [
    "# Well in lists, it is a bit different"
   ]
  },
  {
   "cell_type": "code",
   "execution_count": 278,
   "id": "6517fb7f",
   "metadata": {},
   "outputs": [],
   "source": [
    "a = [1,2,3]"
   ]
  },
  {
   "cell_type": "code",
   "execution_count": 279,
   "id": "3dac3574",
   "metadata": {},
   "outputs": [
    {
     "data": {
      "text/plain": [
       "[1, 2, 3]"
      ]
     },
     "execution_count": 279,
     "metadata": {},
     "output_type": "execute_result"
    }
   ],
   "source": [
    "a"
   ]
  },
  {
   "cell_type": "code",
   "execution_count": 281,
   "id": "e463de64",
   "metadata": {},
   "outputs": [],
   "source": [
    "# Me overwriting the whole thing\n",
    "a = [4,5,6]"
   ]
  },
  {
   "cell_type": "code",
   "execution_count": 282,
   "id": "05301998",
   "metadata": {},
   "outputs": [
    {
     "data": {
      "text/plain": [
       "[4, 5, 6]"
      ]
     },
     "execution_count": 282,
     "metadata": {},
     "output_type": "execute_result"
    }
   ],
   "source": [
    "a"
   ]
  },
  {
   "cell_type": "code",
   "execution_count": 283,
   "id": "36c9a924",
   "metadata": {},
   "outputs": [],
   "source": [
    "a = [1,2,3]"
   ]
  },
  {
   "cell_type": "code",
   "execution_count": 284,
   "id": "867e6967",
   "metadata": {},
   "outputs": [
    {
     "data": {
      "text/plain": [
       "[1, 2, 3]"
      ]
     },
     "execution_count": 284,
     "metadata": {},
     "output_type": "execute_result"
    }
   ],
   "source": [
    "a"
   ]
  },
  {
   "cell_type": "markdown",
   "id": "a3b4f936",
   "metadata": {},
   "source": [
    "### Can i, overwrite individual elements"
   ]
  },
  {
   "cell_type": "code",
   "execution_count": 285,
   "id": "cdf87d8c",
   "metadata": {},
   "outputs": [
    {
     "data": {
      "text/plain": [
       "[1, 2, 3]"
      ]
     },
     "execution_count": 285,
     "metadata": {},
     "output_type": "execute_result"
    }
   ],
   "source": [
    "a"
   ]
  },
  {
   "cell_type": "code",
   "execution_count": 286,
   "id": "43628cdd",
   "metadata": {},
   "outputs": [],
   "source": [
    "# Let's see\n",
    "a[0] = 100"
   ]
  },
  {
   "cell_type": "code",
   "execution_count": 287,
   "id": "b10bd555",
   "metadata": {},
   "outputs": [
    {
     "data": {
      "text/plain": [
       "[100, 2, 3]"
      ]
     },
     "execution_count": 287,
     "metadata": {},
     "output_type": "execute_result"
    }
   ],
   "source": [
    "a"
   ]
  },
  {
   "cell_type": "markdown",
   "id": "63a1cdc2-fd43-4cf3-8ca9-70cfdbd72a38",
   "metadata": {},
   "source": [
    "## Tuples<a class=\"anchor\" id=\"tup\"></a>\n",
    "- Work for the most part like lists\n",
    "- Their values can't be changed in-place."
   ]
  },
  {
   "cell_type": "code",
   "execution_count": 288,
   "id": "afce11e5-e23b-4739-9458-9a627453937e",
   "metadata": {},
   "outputs": [],
   "source": [
    "my_tuple = (1,2,3,4)\n",
    "my_list = [1,2,3,4]"
   ]
  },
  {
   "cell_type": "markdown",
   "id": "fb3f2903",
   "metadata": {},
   "source": [
    "### You can loop over it"
   ]
  },
  {
   "cell_type": "code",
   "execution_count": 289,
   "id": "1b53a0f4",
   "metadata": {},
   "outputs": [
    {
     "name": "stdout",
     "output_type": "stream",
     "text": [
      "1\n",
      "2\n",
      "3\n",
      "4\n"
     ]
    }
   ],
   "source": [
    "for i in my_tuple:\n",
    "    print(i)"
   ]
  },
  {
   "cell_type": "markdown",
   "id": "652cee42",
   "metadata": {},
   "source": [
    "### You can ask for items"
   ]
  },
  {
   "cell_type": "code",
   "execution_count": 290,
   "id": "e498fa6d",
   "metadata": {},
   "outputs": [
    {
     "data": {
      "text/plain": [
       "1"
      ]
     },
     "execution_count": 290,
     "metadata": {},
     "output_type": "execute_result"
    }
   ],
   "source": [
    "my_tuple[0]"
   ]
  },
  {
   "cell_type": "code",
   "execution_count": 293,
   "id": "8758cfa1",
   "metadata": {},
   "outputs": [
    {
     "data": {
      "text/plain": [
       "(1, 2)"
      ]
     },
     "execution_count": 293,
     "metadata": {},
     "output_type": "execute_result"
    }
   ],
   "source": [
    "my_tuple[0:2]"
   ]
  },
  {
   "cell_type": "code",
   "execution_count": null,
   "id": "defc91c8",
   "metadata": {},
   "outputs": [],
   "source": [
    "my_tuple = (1,2,3,4)"
   ]
  },
  {
   "cell_type": "code",
   "execution_count": 294,
   "id": "c6892eea",
   "metadata": {},
   "outputs": [
    {
     "data": {
      "text/plain": [
       "()"
      ]
     },
     "execution_count": 294,
     "metadata": {},
     "output_type": "execute_result"
    }
   ],
   "source": [
    "my_tuple[1:1]"
   ]
  },
  {
   "cell_type": "markdown",
   "id": "76ed0571",
   "metadata": {},
   "source": [
    "### When asking for multiple items back, look at what happens"
   ]
  },
  {
   "cell_type": "code",
   "execution_count": 295,
   "id": "96c67a70",
   "metadata": {},
   "outputs": [
    {
     "data": {
      "text/plain": [
       "(1, 2)"
      ]
     },
     "execution_count": 295,
     "metadata": {},
     "output_type": "execute_result"
    }
   ],
   "source": [
    "my_tuple[0:2]"
   ]
  },
  {
   "cell_type": "code",
   "execution_count": 297,
   "id": "fbad4017",
   "metadata": {},
   "outputs": [
    {
     "data": {
      "text/plain": [
       "()"
      ]
     },
     "execution_count": 297,
     "metadata": {},
     "output_type": "execute_result"
    }
   ],
   "source": [
    "my_tuple[1:1]"
   ]
  },
  {
   "cell_type": "markdown",
   "id": "16e76a4b",
   "metadata": {},
   "source": [
    "# What is the difference"
   ]
  },
  {
   "cell_type": "code",
   "execution_count": 300,
   "id": "00d23577",
   "metadata": {},
   "outputs": [],
   "source": [
    "a = (1,2,3,4)"
   ]
  },
  {
   "cell_type": "code",
   "execution_count": 301,
   "id": "f9a5665c",
   "metadata": {},
   "outputs": [
    {
     "data": {
      "text/plain": [
       "(1, 2, 3, 4)"
      ]
     },
     "execution_count": 301,
     "metadata": {},
     "output_type": "execute_result"
    }
   ],
   "source": [
    "a"
   ]
  },
  {
   "cell_type": "code",
   "execution_count": 302,
   "id": "c59c55c1",
   "metadata": {},
   "outputs": [],
   "source": [
    "# Overwriting it\n",
    "a = (5,6,7,8)"
   ]
  },
  {
   "cell_type": "code",
   "execution_count": 303,
   "id": "86fb80b4",
   "metadata": {},
   "outputs": [
    {
     "data": {
      "text/plain": [
       "(5, 6, 7, 8)"
      ]
     },
     "execution_count": 303,
     "metadata": {},
     "output_type": "execute_result"
    }
   ],
   "source": [
    "a"
   ]
  },
  {
   "cell_type": "markdown",
   "id": "46407f6d",
   "metadata": {},
   "source": [
    "### Can i overwrite individual elements, like i can do in a list."
   ]
  },
  {
   "cell_type": "code",
   "execution_count": 305,
   "id": "c40ccd4e",
   "metadata": {},
   "outputs": [
    {
     "ename": "TypeError",
     "evalue": "'tuple' object does not support item assignment",
     "output_type": "error",
     "traceback": [
      "\u001b[0;31m---------------------------------------------------------------------------\u001b[0m",
      "\u001b[0;31mTypeError\u001b[0m                                 Traceback (most recent call last)",
      "Cell \u001b[0;32mIn[305], line 1\u001b[0m\n\u001b[0;32m----> 1\u001b[0m a[\u001b[38;5;241m0\u001b[39m] \u001b[38;5;241m=\u001b[39m \u001b[38;5;241m100\u001b[39m\n",
      "\u001b[0;31mTypeError\u001b[0m: 'tuple' object does not support item assignment"
     ]
    }
   ],
   "source": [
    "a[0] = 100"
   ]
  },
  {
   "cell_type": "markdown",
   "id": "1798c96a",
   "metadata": {},
   "source": [
    "![](https://media.tenor.com/RnpyvQFKDpwAAAAC/you-cant-no.gif)"
   ]
  },
  {
   "cell_type": "markdown",
   "id": "aa5d5bad",
   "metadata": {},
   "source": [
    "# Tuple Methods"
   ]
  },
  {
   "cell_type": "code",
   "execution_count": 307,
   "id": "c714bb8a",
   "metadata": {},
   "outputs": [],
   "source": [
    "a = (1,1,1,2,3)"
   ]
  },
  {
   "cell_type": "code",
   "execution_count": 309,
   "id": "476f8f8e",
   "metadata": {},
   "outputs": [
    {
     "data": {
      "text/plain": [
       "3"
      ]
     },
     "execution_count": 309,
     "metadata": {},
     "output_type": "execute_result"
    }
   ],
   "source": [
    "a.count(1)"
   ]
  },
  {
   "cell_type": "markdown",
   "id": "aaf91e52-aaba-4471-a270-5bacd347eab5",
   "metadata": {},
   "source": [
    "## Sets<a class=\"anchor\" id=\"set\"></a>\n",
    "\n",
    "- They behave like mathematical sets\n",
    "- Come in handy while doing set operations such as intersection (to find common items) etc"
   ]
  },
  {
   "cell_type": "code",
   "execution_count": 311,
   "id": "b3aed6f7",
   "metadata": {},
   "outputs": [
    {
     "data": {
      "text/plain": [
       "{'a', 'd', 'i', 'n'}"
      ]
     },
     "execution_count": 311,
     "metadata": {},
     "output_type": "execute_result"
    }
   ],
   "source": [
    "# finds the unique alphabets in a string\n",
    "set(\"india\")"
   ]
  },
  {
   "cell_type": "code",
   "execution_count": 313,
   "id": "2ca67053",
   "metadata": {},
   "outputs": [],
   "source": [
    "set_a = set(['a','b','c','c','c'])\n",
    "set_b = {'b','c','d','b','b'}"
   ]
  },
  {
   "cell_type": "code",
   "execution_count": 314,
   "id": "b2afde00",
   "metadata": {},
   "outputs": [
    {
     "data": {
      "text/plain": [
       "{'a', 'b', 'c'}"
      ]
     },
     "execution_count": 314,
     "metadata": {},
     "output_type": "execute_result"
    }
   ],
   "source": [
    "set_a"
   ]
  },
  {
   "cell_type": "code",
   "execution_count": 315,
   "id": "5f3f5b2b",
   "metadata": {},
   "outputs": [
    {
     "data": {
      "text/plain": [
       "{'b', 'c', 'd'}"
      ]
     },
     "execution_count": 315,
     "metadata": {},
     "output_type": "execute_result"
    }
   ],
   "source": [
    "set_b"
   ]
  },
  {
   "cell_type": "markdown",
   "id": "e3b381e5",
   "metadata": {},
   "source": [
    "# You can loop over it"
   ]
  },
  {
   "cell_type": "code",
   "execution_count": 320,
   "id": "b129c8c2",
   "metadata": {},
   "outputs": [
    {
     "name": "stdout",
     "output_type": "stream",
     "text": [
      "b\n",
      "a\n",
      "c\n"
     ]
    }
   ],
   "source": [
    "for i in set_a:\n",
    "    print(i)"
   ]
  },
  {
   "cell_type": "markdown",
   "id": "275ed0d5",
   "metadata": {},
   "source": [
    "### Can you ask for items inside."
   ]
  },
  {
   "cell_type": "code",
   "execution_count": 317,
   "id": "09567c85",
   "metadata": {},
   "outputs": [
    {
     "ename": "TypeError",
     "evalue": "'set' object is not subscriptable",
     "output_type": "error",
     "traceback": [
      "\u001b[0;31m---------------------------------------------------------------------------\u001b[0m",
      "\u001b[0;31mTypeError\u001b[0m                                 Traceback (most recent call last)",
      "Cell \u001b[0;32mIn[317], line 1\u001b[0m\n\u001b[0;32m----> 1\u001b[0m \u001b[43mset_a\u001b[49m\u001b[43m[\u001b[49m\u001b[38;5;241;43m0\u001b[39;49m\u001b[43m]\u001b[49m\n",
      "\u001b[0;31mTypeError\u001b[0m: 'set' object is not subscriptable"
     ]
    }
   ],
   "source": [
    "set_a[0]"
   ]
  },
  {
   "cell_type": "markdown",
   "id": "015f3f68",
   "metadata": {},
   "source": [
    "### We can't"
   ]
  },
  {
   "cell_type": "code",
   "execution_count": 321,
   "id": "46df5432",
   "metadata": {},
   "outputs": [
    {
     "data": {
      "text/plain": [
       "{'a', 'b', 'c'}"
      ]
     },
     "execution_count": 321,
     "metadata": {},
     "output_type": "execute_result"
    }
   ],
   "source": [
    "set_a"
   ]
  },
  {
   "cell_type": "code",
   "execution_count": 322,
   "id": "93f56914",
   "metadata": {},
   "outputs": [
    {
     "data": {
      "text/plain": [
       "{'b', 'c', 'd'}"
      ]
     },
     "execution_count": 322,
     "metadata": {},
     "output_type": "execute_result"
    }
   ],
   "source": [
    "set_b"
   ]
  },
  {
   "cell_type": "markdown",
   "id": "c0937f70",
   "metadata": {},
   "source": [
    "# Set Methods"
   ]
  },
  {
   "cell_type": "code",
   "execution_count": 323,
   "id": "cb4bfa1e",
   "metadata": {},
   "outputs": [
    {
     "data": {
      "text/plain": [
       "{'b', 'c'}"
      ]
     },
     "execution_count": 323,
     "metadata": {},
     "output_type": "execute_result"
    }
   ],
   "source": [
    "set_a.intersection(set_b)"
   ]
  },
  {
   "cell_type": "code",
   "execution_count": 324,
   "id": "ea90fa6b",
   "metadata": {},
   "outputs": [
    {
     "data": {
      "text/plain": [
       "{'a', 'b', 'c', 'd'}"
      ]
     },
     "execution_count": 324,
     "metadata": {},
     "output_type": "execute_result"
    }
   ],
   "source": [
    "set_a.union(set_b)"
   ]
  },
  {
   "cell_type": "markdown",
   "id": "bdfe7855-a8fe-4b38-b0bd-01842df2d85e",
   "metadata": {},
   "source": [
    "## Dictionaries<a class=\"anchor\" id=\"dict\"></a>\n",
    "\n",
    "- Key-value pairs\n",
    "- Indices have no order"
   ]
  },
  {
   "cell_type": "code",
   "execution_count": 17,
   "id": "147ac08f",
   "metadata": {},
   "outputs": [],
   "source": [
    "d = {'name':'a','age':29,'prev_companies':['abc','def']}"
   ]
  },
  {
   "cell_type": "code",
   "execution_count": 18,
   "id": "f9e6932e",
   "metadata": {},
   "outputs": [
    {
     "data": {
      "text/plain": [
       "{'name': 'a', 'age': 29, 'prev_companies': ['abc', 'def']}"
      ]
     },
     "execution_count": 18,
     "metadata": {},
     "output_type": "execute_result"
    }
   ],
   "source": [
    "d"
   ]
  },
  {
   "cell_type": "markdown",
   "id": "5aa7f5e7",
   "metadata": {},
   "source": [
    "### How do i get stuff"
   ]
  },
  {
   "cell_type": "code",
   "execution_count": 19,
   "id": "edcb54fe-745f-454e-8cfe-040c1a7d0f4e",
   "metadata": {},
   "outputs": [
    {
     "data": {
      "text/plain": [
       "'a'"
      ]
     },
     "execution_count": 19,
     "metadata": {},
     "output_type": "execute_result"
    }
   ],
   "source": [
    "d['name']"
   ]
  },
  {
   "cell_type": "code",
   "execution_count": 22,
   "id": "a92c33c8-6034-406c-abec-a74585d5a17d",
   "metadata": {},
   "outputs": [
    {
     "data": {
      "text/plain": [
       "['abc', 'def']"
      ]
     },
     "execution_count": 22,
     "metadata": {},
     "output_type": "execute_result"
    }
   ],
   "source": [
    "d['prev_companies']"
   ]
  },
  {
   "cell_type": "code",
   "execution_count": 26,
   "id": "b014113c",
   "metadata": {},
   "outputs": [
    {
     "data": {
      "text/plain": [
       "'abc'"
      ]
     },
     "execution_count": 26,
     "metadata": {},
     "output_type": "execute_result"
    }
   ],
   "source": [
    "d['prev_companies'][-2]"
   ]
  },
  {
   "cell_type": "code",
   "execution_count": null,
   "id": "894c9c54-db19-4e22-a0bf-7f78dfcca435",
   "metadata": {},
   "outputs": [],
   "source": [
    "d['prev_companies'][-1]"
   ]
  },
  {
   "cell_type": "code",
   "execution_count": null,
   "id": "abc8c3d7",
   "metadata": {},
   "outputs": [],
   "source": []
  },
  {
   "cell_type": "code",
   "execution_count": null,
   "id": "76941ecb",
   "metadata": {},
   "outputs": [],
   "source": []
  },
  {
   "cell_type": "code",
   "execution_count": null,
   "id": "6b1d4584",
   "metadata": {},
   "outputs": [],
   "source": []
  },
  {
   "cell_type": "code",
   "execution_count": null,
   "id": "2799078f",
   "metadata": {},
   "outputs": [],
   "source": []
  },
  {
   "cell_type": "code",
   "execution_count": null,
   "id": "4349e29d",
   "metadata": {},
   "outputs": [],
   "source": []
  },
  {
   "cell_type": "code",
   "execution_count": null,
   "id": "e8126239",
   "metadata": {},
   "outputs": [],
   "source": []
  },
  {
   "cell_type": "code",
   "execution_count": null,
   "id": "983d7f18",
   "metadata": {},
   "outputs": [],
   "source": []
  }
 ],
 "metadata": {
  "kernelspec": {
   "display_name": "Python 3 (ipykernel)",
   "language": "python",
   "name": "python3"
  },
  "language_info": {
   "codemirror_mode": {
    "name": "ipython",
    "version": 3
   },
   "file_extension": ".py",
   "mimetype": "text/x-python",
   "name": "python",
   "nbconvert_exporter": "python",
   "pygments_lexer": "ipython3",
   "version": "3.9.18"
  }
 },
 "nbformat": 4,
 "nbformat_minor": 5
}
