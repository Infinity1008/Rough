{
 "cells": [
  {
   "cell_type": "markdown",
   "id": "2a25017d-270f-4ea4-be67-9ce63bbe8ab0",
   "metadata": {},
   "source": [
    "**package dependencies**\n",
    "- pandas=1.4.3\n",
    "- sklearn=1.1.1\n",
    "- matplotlib=3.5.2\n",
    "- jupyterlab=3.4.3\n",
    "- python=3.9.13"
   ]
  },
  {
   "cell_type": "code",
   "execution_count": 2,
   "id": "d90cd284-3929-49b3-9b34-9308a9c2bb4a",
   "metadata": {},
   "outputs": [
    {
     "data": {
      "text/html": [
       "<div>\n",
       "<style scoped>\n",
       "    .dataframe tbody tr th:only-of-type {\n",
       "        vertical-align: middle;\n",
       "    }\n",
       "\n",
       "    .dataframe tbody tr th {\n",
       "        vertical-align: top;\n",
       "    }\n",
       "\n",
       "    .dataframe thead th {\n",
       "        text-align: right;\n",
       "    }\n",
       "</style>\n",
       "<table border=\"1\" class=\"dataframe\">\n",
       "  <thead>\n",
       "    <tr style=\"text-align: right;\">\n",
       "      <th></th>\n",
       "      <th>BAD</th>\n",
       "      <th>LOAN</th>\n",
       "      <th>MORTDUE</th>\n",
       "      <th>VALUE</th>\n",
       "      <th>REASON</th>\n",
       "      <th>JOB</th>\n",
       "      <th>YOJ</th>\n",
       "      <th>DEROG</th>\n",
       "      <th>DELINQ</th>\n",
       "      <th>CLAGE</th>\n",
       "      <th>NINQ</th>\n",
       "      <th>CLNO</th>\n",
       "      <th>DEBTINC</th>\n",
       "    </tr>\n",
       "  </thead>\n",
       "  <tbody>\n",
       "    <tr>\n",
       "      <th>0</th>\n",
       "      <td>1</td>\n",
       "      <td>1100</td>\n",
       "      <td>25860.0</td>\n",
       "      <td>39025.0</td>\n",
       "      <td>HomeImp</td>\n",
       "      <td>Other</td>\n",
       "      <td>10.5</td>\n",
       "      <td>0.0</td>\n",
       "      <td>0.0</td>\n",
       "      <td>94.366667</td>\n",
       "      <td>1.0</td>\n",
       "      <td>9.0</td>\n",
       "      <td>NaN</td>\n",
       "    </tr>\n",
       "    <tr>\n",
       "      <th>1</th>\n",
       "      <td>1</td>\n",
       "      <td>1300</td>\n",
       "      <td>70053.0</td>\n",
       "      <td>68400.0</td>\n",
       "      <td>HomeImp</td>\n",
       "      <td>Other</td>\n",
       "      <td>7.0</td>\n",
       "      <td>0.0</td>\n",
       "      <td>2.0</td>\n",
       "      <td>121.833333</td>\n",
       "      <td>0.0</td>\n",
       "      <td>14.0</td>\n",
       "      <td>NaN</td>\n",
       "    </tr>\n",
       "  </tbody>\n",
       "</table>\n",
       "</div>"
      ],
      "text/plain": [
       "   BAD  LOAN  MORTDUE    VALUE   REASON    JOB   YOJ  DEROG  DELINQ  \\\n",
       "0    1  1100  25860.0  39025.0  HomeImp  Other  10.5    0.0     0.0   \n",
       "1    1  1300  70053.0  68400.0  HomeImp  Other   7.0    0.0     2.0   \n",
       "\n",
       "        CLAGE  NINQ  CLNO  DEBTINC  \n",
       "0   94.366667   1.0   9.0      NaN  \n",
       "1  121.833333   0.0  14.0      NaN  "
      ]
     },
     "execution_count": 2,
     "metadata": {},
     "output_type": "execute_result"
    }
   ],
   "source": [
    "import pandas as pd\n",
    "df=pd.read_csv('hmeq.csv')\n",
    "df.head(2)"
   ]
  },
  {
   "cell_type": "markdown",
   "id": "69becc89-30a1-48f2-9f64-05647c67f36f",
   "metadata": {},
   "source": [
    "**Data**\n",
    "\n",
    "- BAD: 1 = client defaulted on loan 0 = loan repaid\n",
    "- LOAN: Amount of the loan request\n",
    "- MORTDUE: Amount due on existing mortgage\n",
    "- VALUE: Value of current property\n",
    "- REASON: DebtCon = debt consolidation HomeImp = home improvement\n",
    "- JOB: Six occupational categories\n",
    "- YOJ: Years at present job\n",
    "- DEROG: Number of major derogatory reports\n",
    "- DELINQ: Number of delinquent credit lines\n",
    "- CLAGE: Age of oldest trade line in months\n",
    "- NINQ: Number of recent credit lines\n",
    "- CLNO: Number of credit lines\n",
    "- DEBTINC: Debt-to-income ratio\n"
   ]
  },
  {
   "cell_type": "code",
   "execution_count": 3,
   "id": "268b9deb-9547-4355-bc86-769557bdd78f",
   "metadata": {},
   "outputs": [
    {
     "data": {
      "text/plain": [
       "BAD           0\n",
       "LOAN          0\n",
       "MORTDUE     518\n",
       "VALUE       112\n",
       "REASON      252\n",
       "JOB         279\n",
       "YOJ         515\n",
       "DEROG       708\n",
       "DELINQ      580\n",
       "CLAGE       308\n",
       "NINQ        510\n",
       "CLNO        222\n",
       "DEBTINC    1267\n",
       "dtype: int64"
      ]
     },
     "execution_count": 3,
     "metadata": {},
     "output_type": "execute_result"
    }
   ],
   "source": [
    "df.isnull().sum()"
   ]
  },
  {
   "cell_type": "code",
   "execution_count": 4,
   "id": "6ccc6e37-d9f2-41c3-8a19-e01d1f12c5e1",
   "metadata": {},
   "outputs": [],
   "source": [
    "df_na = df.dropna()"
   ]
  },
  {
   "cell_type": "code",
   "execution_count": 5,
   "id": "6737e32d-ac47-43cd-9abd-35604dc10be9",
   "metadata": {},
   "outputs": [],
   "source": [
    "clust_var=[\"LOAN\",\"MORTDUE\",\"VALUE\",\"YOJ\",\"DEROG\",\"DELINQ\",\"CLAGE\",\"NINQ\",\"CLNO\",\"DEBTINC\"]"
   ]
  },
  {
   "cell_type": "code",
   "execution_count": 6,
   "id": "d82bc4d6-f0a3-437b-b1e8-5c1cff046f01",
   "metadata": {},
   "outputs": [],
   "source": [
    "data_clust=df_na[clust_var]"
   ]
  },
  {
   "cell_type": "code",
   "execution_count": 7,
   "id": "49ab1420-62da-4869-a67b-724d58300f12",
   "metadata": {},
   "outputs": [],
   "source": [
    "from sklearn.preprocessing import StandardScaler"
   ]
  },
  {
   "cell_type": "code",
   "execution_count": 8,
   "id": "5bb49a5c-d0cb-41fe-b819-dbcbf5c2db72",
   "metadata": {},
   "outputs": [],
   "source": [
    "scale = StandardScaler()"
   ]
  },
  {
   "cell_type": "code",
   "execution_count": 9,
   "id": "0cf887ec-dfd5-4d10-9688-7f457b079e7a",
   "metadata": {},
   "outputs": [],
   "source": [
    "scaled_df = scale.fit_transform(data_clust)"
   ]
  },
  {
   "cell_type": "code",
   "execution_count": 10,
   "id": "ebc7fa61",
   "metadata": {},
   "outputs": [
    {
     "data": {
      "text/plain": [
       "array([[-1.6051791 , -1.01359437, -1.22772765, ..., -0.02417185,\n",
       "        -1.50375539,  0.37460073],\n",
       "       [-1.59598268, -1.05897162, -1.17812979, ..., -0.66952199,\n",
       "        -1.50375539,  0.34583182],\n",
       "       [-1.55000061,  0.57931136,  0.24582581, ..., -0.66952199,\n",
       "        -0.97104339, -0.32036154],\n",
       "       ...,\n",
       "       [ 6.44168445, -0.49246566, -0.26639908, ..., -0.66952199,\n",
       "        -0.75795859,  0.17875445],\n",
       "       [ 6.49686294, -0.57397173, -0.28582522, ..., -0.66952199,\n",
       "        -0.65141619,  0.02583963],\n",
       "       [ 6.50605935, -0.60854804, -0.33931561, ..., -0.66952199,\n",
       "        -0.65141619,  0.0548497 ]])"
      ]
     },
     "execution_count": 10,
     "metadata": {},
     "output_type": "execute_result"
    }
   ],
   "source": [
    "scaled_df"
   ]
  },
  {
   "cell_type": "code",
   "execution_count": 11,
   "id": "f79dd9af-8929-4bd9-9b5f-022f7edf8c61",
   "metadata": {},
   "outputs": [],
   "source": [
    "from sklearn.cluster import KMeans"
   ]
  },
  {
   "cell_type": "code",
   "execution_count": 12,
   "id": "6836a26d-41c6-48f5-947e-fd12731033d7",
   "metadata": {},
   "outputs": [],
   "source": [
    "mod = KMeans(n_clusters=4)"
   ]
  },
  {
   "cell_type": "code",
   "execution_count": 15,
   "id": "9cec6635-9af6-4485-bb59-66a940aae62e",
   "metadata": {},
   "outputs": [
    {
     "name": "stderr",
     "output_type": "stream",
     "text": [
      "/home/infinity/anaconda3/lib/python3.9/site-packages/sklearn/cluster/_kmeans.py:870: FutureWarning: The default value of `n_init` will change from 10 to 'auto' in 1.4. Set the value of `n_init` explicitly to suppress the warning\n",
      "  warnings.warn(\n"
     ]
    }
   ],
   "source": [
    "mod = mod.fit(scaled_df)"
   ]
  },
  {
   "cell_type": "code",
   "execution_count": 19,
   "id": "97008f07",
   "metadata": {},
   "outputs": [
    {
     "data": {
      "text/plain": [
       "3364"
      ]
     },
     "execution_count": 19,
     "metadata": {},
     "output_type": "execute_result"
    }
   ],
   "source": [
    "len(mod.labels_)"
   ]
  },
  {
   "cell_type": "code",
   "execution_count": 20,
   "id": "ccd478bd",
   "metadata": {},
   "outputs": [
    {
     "data": {
      "text/plain": [
       "array([1, 1, 1, ..., 2, 2, 2], dtype=int32)"
      ]
     },
     "execution_count": 20,
     "metadata": {},
     "output_type": "execute_result"
    }
   ],
   "source": [
    "mod.labels_"
   ]
  },
  {
   "cell_type": "code",
   "execution_count": 22,
   "id": "753907cf",
   "metadata": {},
   "outputs": [
    {
     "data": {
      "text/plain": [
       "(3364, 14)"
      ]
     },
     "execution_count": 22,
     "metadata": {},
     "output_type": "execute_result"
    }
   ],
   "source": [
    "df_na.shape"
   ]
  },
  {
   "cell_type": "code",
   "execution_count": 21,
   "id": "0fb22b54-a256-49d3-83bf-817068ab1204",
   "metadata": {},
   "outputs": [
    {
     "name": "stderr",
     "output_type": "stream",
     "text": [
      "/tmp/ipykernel_18470/4062743754.py:1: SettingWithCopyWarning: \n",
      "A value is trying to be set on a copy of a slice from a DataFrame.\n",
      "Try using .loc[row_indexer,col_indexer] = value instead\n",
      "\n",
      "See the caveats in the documentation: https://pandas.pydata.org/pandas-docs/stable/user_guide/indexing.html#returning-a-view-versus-a-copy\n",
      "  df_na['cluster_4'] = mod.labels_\n"
     ]
    }
   ],
   "source": [
    "df_na['cluster_4'] = mod.labels_"
   ]
  },
  {
   "cell_type": "code",
   "execution_count": 26,
   "id": "d86f4702-c370-4677-9d91-f59d8bf96248",
   "metadata": {},
   "outputs": [
    {
     "data": {
      "text/html": [
       "<div>\n",
       "<style scoped>\n",
       "    .dataframe tbody tr th:only-of-type {\n",
       "        vertical-align: middle;\n",
       "    }\n",
       "\n",
       "    .dataframe tbody tr th {\n",
       "        vertical-align: top;\n",
       "    }\n",
       "\n",
       "    .dataframe thead th {\n",
       "        text-align: right;\n",
       "    }\n",
       "</style>\n",
       "<table border=\"1\" class=\"dataframe\">\n",
       "  <thead>\n",
       "    <tr style=\"text-align: right;\">\n",
       "      <th></th>\n",
       "      <th>BAD</th>\n",
       "      <th>LOAN</th>\n",
       "      <th>MORTDUE</th>\n",
       "      <th>VALUE</th>\n",
       "      <th>REASON</th>\n",
       "      <th>JOB</th>\n",
       "      <th>YOJ</th>\n",
       "      <th>DEROG</th>\n",
       "      <th>DELINQ</th>\n",
       "      <th>CLAGE</th>\n",
       "      <th>NINQ</th>\n",
       "      <th>CLNO</th>\n",
       "      <th>DEBTINC</th>\n",
       "      <th>cluster_4</th>\n",
       "    </tr>\n",
       "  </thead>\n",
       "  <tbody>\n",
       "    <tr>\n",
       "      <th>5</th>\n",
       "      <td>1</td>\n",
       "      <td>1700</td>\n",
       "      <td>30548.0</td>\n",
       "      <td>40320.0</td>\n",
       "      <td>HomeImp</td>\n",
       "      <td>Other</td>\n",
       "      <td>9.0</td>\n",
       "      <td>0.0</td>\n",
       "      <td>0.0</td>\n",
       "      <td>101.466002</td>\n",
       "      <td>1.0</td>\n",
       "      <td>8.0</td>\n",
       "      <td>37.113614</td>\n",
       "      <td>1</td>\n",
       "    </tr>\n",
       "    <tr>\n",
       "      <th>7</th>\n",
       "      <td>1</td>\n",
       "      <td>1800</td>\n",
       "      <td>28502.0</td>\n",
       "      <td>43034.0</td>\n",
       "      <td>HomeImp</td>\n",
       "      <td>Other</td>\n",
       "      <td>11.0</td>\n",
       "      <td>0.0</td>\n",
       "      <td>0.0</td>\n",
       "      <td>88.766030</td>\n",
       "      <td>0.0</td>\n",
       "      <td>8.0</td>\n",
       "      <td>36.884894</td>\n",
       "      <td>1</td>\n",
       "    </tr>\n",
       "  </tbody>\n",
       "</table>\n",
       "</div>"
      ],
      "text/plain": [
       "   BAD  LOAN  MORTDUE    VALUE   REASON    JOB   YOJ  DEROG  DELINQ  \\\n",
       "5    1  1700  30548.0  40320.0  HomeImp  Other   9.0    0.0     0.0   \n",
       "7    1  1800  28502.0  43034.0  HomeImp  Other  11.0    0.0     0.0   \n",
       "\n",
       "        CLAGE  NINQ  CLNO    DEBTINC  cluster_4  \n",
       "5  101.466002   1.0   8.0  37.113614          1  \n",
       "7   88.766030   0.0   8.0  36.884894          1  "
      ]
     },
     "execution_count": 26,
     "metadata": {},
     "output_type": "execute_result"
    }
   ],
   "source": [
    "df_na.head(2)"
   ]
  },
  {
   "cell_type": "markdown",
   "id": "f04663a2",
   "metadata": {},
   "source": [
    "# Cluster Profiling"
   ]
  },
  {
   "cell_type": "code",
   "execution_count": 27,
   "id": "9409e23f-2388-42b2-8b5b-8110aaf5be60",
   "metadata": {},
   "outputs": [
    {
     "name": "stderr",
     "output_type": "stream",
     "text": [
      "/tmp/ipykernel_18470/2173819283.py:1: FutureWarning: The default value of numeric_only in DataFrameGroupBy.mean is deprecated. In a future version, numeric_only will default to False. Either specify numeric_only or select only columns which should be valid for the function.\n",
      "  df_na.groupby('cluster_4').mean()\n"
     ]
    },
    {
     "data": {
      "text/html": [
       "<div>\n",
       "<style scoped>\n",
       "    .dataframe tbody tr th:only-of-type {\n",
       "        vertical-align: middle;\n",
       "    }\n",
       "\n",
       "    .dataframe tbody tr th {\n",
       "        vertical-align: top;\n",
       "    }\n",
       "\n",
       "    .dataframe thead th {\n",
       "        text-align: right;\n",
       "    }\n",
       "</style>\n",
       "<table border=\"1\" class=\"dataframe\">\n",
       "  <thead>\n",
       "    <tr style=\"text-align: right;\">\n",
       "      <th></th>\n",
       "      <th>BAD</th>\n",
       "      <th>LOAN</th>\n",
       "      <th>MORTDUE</th>\n",
       "      <th>VALUE</th>\n",
       "      <th>YOJ</th>\n",
       "      <th>DEROG</th>\n",
       "      <th>DELINQ</th>\n",
       "      <th>CLAGE</th>\n",
       "      <th>NINQ</th>\n",
       "      <th>CLNO</th>\n",
       "      <th>DEBTINC</th>\n",
       "    </tr>\n",
       "    <tr>\n",
       "      <th>cluster_4</th>\n",
       "      <th></th>\n",
       "      <th></th>\n",
       "      <th></th>\n",
       "      <th></th>\n",
       "      <th></th>\n",
       "      <th></th>\n",
       "      <th></th>\n",
       "      <th></th>\n",
       "      <th></th>\n",
       "      <th></th>\n",
       "      <th></th>\n",
       "    </tr>\n",
       "  </thead>\n",
       "  <tbody>\n",
       "    <tr>\n",
       "      <th>0</th>\n",
       "      <td>0.422111</td>\n",
       "      <td>16563.819095</td>\n",
       "      <td>64479.527638</td>\n",
       "      <td>91864.989950</td>\n",
       "      <td>7.085427</td>\n",
       "      <td>1.683417</td>\n",
       "      <td>1.944724</td>\n",
       "      <td>165.568584</td>\n",
       "      <td>1.728643</td>\n",
       "      <td>26.311558</td>\n",
       "      <td>34.843068</td>\n",
       "    </tr>\n",
       "    <tr>\n",
       "      <th>1</th>\n",
       "      <td>0.084707</td>\n",
       "      <td>16185.673678</td>\n",
       "      <td>62145.012507</td>\n",
       "      <td>86812.417851</td>\n",
       "      <td>5.436612</td>\n",
       "      <td>0.042638</td>\n",
       "      <td>0.142126</td>\n",
       "      <td>144.106537</td>\n",
       "      <td>1.042638</td>\n",
       "      <td>19.238772</td>\n",
       "      <td>33.459011</td>\n",
       "    </tr>\n",
       "    <tr>\n",
       "      <th>2</th>\n",
       "      <td>0.066978</td>\n",
       "      <td>29847.663551</td>\n",
       "      <td>141051.738318</td>\n",
       "      <td>187590.607477</td>\n",
       "      <td>8.054517</td>\n",
       "      <td>0.063863</td>\n",
       "      <td>0.144860</td>\n",
       "      <td>216.670939</td>\n",
       "      <td>0.962617</td>\n",
       "      <td>27.733645</td>\n",
       "      <td>37.037748</td>\n",
       "    </tr>\n",
       "    <tr>\n",
       "      <th>3</th>\n",
       "      <td>0.031414</td>\n",
       "      <td>17678.534031</td>\n",
       "      <td>57335.089005</td>\n",
       "      <td>91907.481675</td>\n",
       "      <td>18.982984</td>\n",
       "      <td>0.056283</td>\n",
       "      <td>0.272251</td>\n",
       "      <td>239.958724</td>\n",
       "      <td>0.908377</td>\n",
       "      <td>22.918848</td>\n",
       "      <td>33.069702</td>\n",
       "    </tr>\n",
       "  </tbody>\n",
       "</table>\n",
       "</div>"
      ],
      "text/plain": [
       "                BAD          LOAN        MORTDUE          VALUE        YOJ  \\\n",
       "cluster_4                                                                    \n",
       "0          0.422111  16563.819095   64479.527638   91864.989950   7.085427   \n",
       "1          0.084707  16185.673678   62145.012507   86812.417851   5.436612   \n",
       "2          0.066978  29847.663551  141051.738318  187590.607477   8.054517   \n",
       "3          0.031414  17678.534031   57335.089005   91907.481675  18.982984   \n",
       "\n",
       "              DEROG    DELINQ       CLAGE      NINQ       CLNO    DEBTINC  \n",
       "cluster_4                                                                  \n",
       "0          1.683417  1.944724  165.568584  1.728643  26.311558  34.843068  \n",
       "1          0.042638  0.142126  144.106537  1.042638  19.238772  33.459011  \n",
       "2          0.063863  0.144860  216.670939  0.962617  27.733645  37.037748  \n",
       "3          0.056283  0.272251  239.958724  0.908377  22.918848  33.069702  "
      ]
     },
     "execution_count": 27,
     "metadata": {},
     "output_type": "execute_result"
    }
   ],
   "source": [
    "df_na.groupby('cluster_4').mean()"
   ]
  },
  {
   "cell_type": "markdown",
   "id": "21f5c9f4",
   "metadata": {},
   "source": [
    "**Data**\n",
    "\n",
    "- BAD: 1 = client defaulted on loan 0 = loan repaid\n",
    "- LOAN: Amount of the loan request\n",
    "- MORTDUE: Amount due on existing mortgage\n",
    "- VALUE: Value of current property\n",
    "- REASON: DebtCon = debt consolidation HomeImp = home improvement\n",
    "- JOB: Six occupational categories\n",
    "- YOJ: Years at present job\n",
    "- DEROG: Number of major derogatory reports\n",
    "- DELINQ: Number of delinquent credit lines\n",
    "- CLAGE: Age of oldest trade line in months\n",
    "- NINQ: Number of recent credit lines\n",
    "- CLNO: Number of credit lines\n",
    "- DEBTINC: Debt-to-income ratio\n"
   ]
  },
  {
   "cell_type": "code",
   "execution_count": 23,
   "id": "922660a9-8e24-4019-9784-96a04941b8fa",
   "metadata": {},
   "outputs": [
    {
     "name": "stderr",
     "output_type": "stream",
     "text": [
      "/var/folders/7h/01sjg2sx6tl3y72r2klm24c80000gn/T/ipykernel_3931/751415334.py:1: FutureWarning: Dropping of nuisance columns in DataFrame reductions (with 'numeric_only=None') is deprecated; in a future version this will raise TypeError.  Select only valid columns before calling the reduction.\n",
      "  df_na.mean()\n"
     ]
    },
    {
     "data": {
      "text/plain": [
       "BAD               0.089180\n",
       "LOAN          19154.399524\n",
       "MORTDUE       76249.621581\n",
       "VALUE        107501.385850\n",
       "YOJ               9.110285\n",
       "DEROG             0.146849\n",
       "DELINQ            0.278835\n",
       "CLAGE           180.993684\n",
       "NINQ              1.037455\n",
       "CLNO             22.114150\n",
       "DEBTINC          34.135451\n",
       "cluster_4         1.318074\n",
       "dtype: float64"
      ]
     },
     "execution_count": 23,
     "metadata": {},
     "output_type": "execute_result"
    }
   ],
   "source": [
    "df_na.mean()"
   ]
  },
  {
   "cell_type": "markdown",
   "id": "162ee8f2-6188-4815-8ab1-382295393f8d",
   "metadata": {},
   "source": [
    "**Profiles**\n",
    "- Cluster 0 and 1 have average bad rate. Cluster 0 is characterized by high loan amount mortgage due and debt to income ratio\n",
    "- Custer 2 is high risk cluster, this has above average delinquent credit lines.\n",
    "- Cluster 3 is low risk cluster with above average years on job and age of oldest trade line in months"
   ]
  },
  {
   "cell_type": "code",
   "execution_count": null,
   "id": "bbb409ce-347c-41de-814a-1ab445db3174",
   "metadata": {},
   "outputs": [],
   "source": []
  }
 ],
 "metadata": {
  "kernelspec": {
   "display_name": "Python 3 (ipykernel)",
   "language": "python",
   "name": "python3"
  },
  "language_info": {
   "codemirror_mode": {
    "name": "ipython",
    "version": 3
   },
   "file_extension": ".py",
   "mimetype": "text/x-python",
   "name": "python",
   "nbconvert_exporter": "python",
   "pygments_lexer": "ipython3",
   "version": "3.9.16"
  }
 },
 "nbformat": 4,
 "nbformat_minor": 5
}
