{
 "cells": [
  {
   "cell_type": "markdown",
   "id": "78318f19",
   "metadata": {},
   "source": [
    "# Clustering\n",
    "\n",
    "![](https://upload.wikimedia.org/wikipedia/commons/e/ea/K-means_convergence.gif)"
   ]
  },
  {
   "cell_type": "code",
   "execution_count": 1,
   "id": "44a77c97",
   "metadata": {},
   "outputs": [],
   "source": [
    "import pandas as pd"
   ]
  },
  {
   "cell_type": "code",
   "execution_count": 2,
   "id": "ddc741b0",
   "metadata": {},
   "outputs": [],
   "source": [
    "df = pd.read_csv('flights.csv')"
   ]
  },
  {
   "cell_type": "code",
   "execution_count": 3,
   "id": "6dcee4bb",
   "metadata": {},
   "outputs": [
    {
     "data": {
      "text/html": [
       "<div>\n",
       "<style scoped>\n",
       "    .dataframe tbody tr th:only-of-type {\n",
       "        vertical-align: middle;\n",
       "    }\n",
       "\n",
       "    .dataframe tbody tr th {\n",
       "        vertical-align: top;\n",
       "    }\n",
       "\n",
       "    .dataframe thead th {\n",
       "        text-align: right;\n",
       "    }\n",
       "</style>\n",
       "<table border=\"1\" class=\"dataframe\">\n",
       "  <thead>\n",
       "    <tr style=\"text-align: right;\">\n",
       "      <th></th>\n",
       "      <th>travelCode</th>\n",
       "      <th>userCode</th>\n",
       "      <th>from</th>\n",
       "      <th>to</th>\n",
       "      <th>flightType</th>\n",
       "      <th>price</th>\n",
       "      <th>time</th>\n",
       "      <th>distance</th>\n",
       "      <th>agency</th>\n",
       "      <th>date</th>\n",
       "    </tr>\n",
       "  </thead>\n",
       "  <tbody>\n",
       "    <tr>\n",
       "      <th>0</th>\n",
       "      <td>0</td>\n",
       "      <td>0</td>\n",
       "      <td>Recife (PE)</td>\n",
       "      <td>Florianopolis (SC)</td>\n",
       "      <td>firstClass</td>\n",
       "      <td>1434.38</td>\n",
       "      <td>1.76</td>\n",
       "      <td>676.53</td>\n",
       "      <td>FlyingDrops</td>\n",
       "      <td>09/26/2019</td>\n",
       "    </tr>\n",
       "    <tr>\n",
       "      <th>1</th>\n",
       "      <td>0</td>\n",
       "      <td>0</td>\n",
       "      <td>Florianopolis (SC)</td>\n",
       "      <td>Recife (PE)</td>\n",
       "      <td>firstClass</td>\n",
       "      <td>1292.29</td>\n",
       "      <td>1.76</td>\n",
       "      <td>676.53</td>\n",
       "      <td>FlyingDrops</td>\n",
       "      <td>09/30/2019</td>\n",
       "    </tr>\n",
       "    <tr>\n",
       "      <th>2</th>\n",
       "      <td>1</td>\n",
       "      <td>0</td>\n",
       "      <td>Brasilia (DF)</td>\n",
       "      <td>Florianopolis (SC)</td>\n",
       "      <td>firstClass</td>\n",
       "      <td>1487.52</td>\n",
       "      <td>1.66</td>\n",
       "      <td>637.56</td>\n",
       "      <td>CloudFy</td>\n",
       "      <td>10/03/2019</td>\n",
       "    </tr>\n",
       "    <tr>\n",
       "      <th>3</th>\n",
       "      <td>1</td>\n",
       "      <td>0</td>\n",
       "      <td>Florianopolis (SC)</td>\n",
       "      <td>Brasilia (DF)</td>\n",
       "      <td>firstClass</td>\n",
       "      <td>1127.36</td>\n",
       "      <td>1.66</td>\n",
       "      <td>637.56</td>\n",
       "      <td>CloudFy</td>\n",
       "      <td>10/04/2019</td>\n",
       "    </tr>\n",
       "    <tr>\n",
       "      <th>4</th>\n",
       "      <td>2</td>\n",
       "      <td>0</td>\n",
       "      <td>Aracaju (SE)</td>\n",
       "      <td>Salvador (BH)</td>\n",
       "      <td>firstClass</td>\n",
       "      <td>1684.05</td>\n",
       "      <td>2.16</td>\n",
       "      <td>830.86</td>\n",
       "      <td>CloudFy</td>\n",
       "      <td>10/10/2019</td>\n",
       "    </tr>\n",
       "    <tr>\n",
       "      <th>...</th>\n",
       "      <td>...</td>\n",
       "      <td>...</td>\n",
       "      <td>...</td>\n",
       "      <td>...</td>\n",
       "      <td>...</td>\n",
       "      <td>...</td>\n",
       "      <td>...</td>\n",
       "      <td>...</td>\n",
       "      <td>...</td>\n",
       "      <td>...</td>\n",
       "    </tr>\n",
       "    <tr>\n",
       "      <th>271883</th>\n",
       "      <td>135941</td>\n",
       "      <td>1339</td>\n",
       "      <td>Campo Grande (MS)</td>\n",
       "      <td>Florianopolis (SC)</td>\n",
       "      <td>firstClass</td>\n",
       "      <td>1446.34</td>\n",
       "      <td>1.49</td>\n",
       "      <td>573.81</td>\n",
       "      <td>CloudFy</td>\n",
       "      <td>07/12/2020</td>\n",
       "    </tr>\n",
       "    <tr>\n",
       "      <th>271884</th>\n",
       "      <td>135942</td>\n",
       "      <td>1339</td>\n",
       "      <td>Florianopolis (SC)</td>\n",
       "      <td>Natal (RN)</td>\n",
       "      <td>economic</td>\n",
       "      <td>726.95</td>\n",
       "      <td>1.84</td>\n",
       "      <td>709.37</td>\n",
       "      <td>CloudFy</td>\n",
       "      <td>07/16/2020</td>\n",
       "    </tr>\n",
       "    <tr>\n",
       "      <th>271885</th>\n",
       "      <td>135942</td>\n",
       "      <td>1339</td>\n",
       "      <td>Natal (RN)</td>\n",
       "      <td>Florianopolis (SC)</td>\n",
       "      <td>economic</td>\n",
       "      <td>873.07</td>\n",
       "      <td>1.84</td>\n",
       "      <td>709.37</td>\n",
       "      <td>CloudFy</td>\n",
       "      <td>07/20/2020</td>\n",
       "    </tr>\n",
       "    <tr>\n",
       "      <th>271886</th>\n",
       "      <td>135943</td>\n",
       "      <td>1339</td>\n",
       "      <td>Florianopolis (SC)</td>\n",
       "      <td>Rio de Janeiro (RJ)</td>\n",
       "      <td>economic</td>\n",
       "      <td>313.62</td>\n",
       "      <td>1.21</td>\n",
       "      <td>466.30</td>\n",
       "      <td>CloudFy</td>\n",
       "      <td>07/23/2020</td>\n",
       "    </tr>\n",
       "    <tr>\n",
       "      <th>271887</th>\n",
       "      <td>135943</td>\n",
       "      <td>1339</td>\n",
       "      <td>Rio de Janeiro (RJ)</td>\n",
       "      <td>Florianopolis (SC)</td>\n",
       "      <td>economic</td>\n",
       "      <td>533.69</td>\n",
       "      <td>1.21</td>\n",
       "      <td>466.30</td>\n",
       "      <td>CloudFy</td>\n",
       "      <td>07/26/2020</td>\n",
       "    </tr>\n",
       "  </tbody>\n",
       "</table>\n",
       "<p>271888 rows × 10 columns</p>\n",
       "</div>"
      ],
      "text/plain": [
       "        travelCode  userCode                 from                   to  \\\n",
       "0                0         0          Recife (PE)   Florianopolis (SC)   \n",
       "1                0         0   Florianopolis (SC)          Recife (PE)   \n",
       "2                1         0        Brasilia (DF)   Florianopolis (SC)   \n",
       "3                1         0   Florianopolis (SC)        Brasilia (DF)   \n",
       "4                2         0         Aracaju (SE)        Salvador (BH)   \n",
       "...            ...       ...                  ...                  ...   \n",
       "271883      135941      1339    Campo Grande (MS)   Florianopolis (SC)   \n",
       "271884      135942      1339   Florianopolis (SC)           Natal (RN)   \n",
       "271885      135942      1339           Natal (RN)   Florianopolis (SC)   \n",
       "271886      135943      1339   Florianopolis (SC)  Rio de Janeiro (RJ)   \n",
       "271887      135943      1339  Rio de Janeiro (RJ)   Florianopolis (SC)   \n",
       "\n",
       "        flightType    price  time  distance       agency        date  \n",
       "0       firstClass  1434.38  1.76    676.53  FlyingDrops  09/26/2019  \n",
       "1       firstClass  1292.29  1.76    676.53  FlyingDrops  09/30/2019  \n",
       "2       firstClass  1487.52  1.66    637.56      CloudFy  10/03/2019  \n",
       "3       firstClass  1127.36  1.66    637.56      CloudFy  10/04/2019  \n",
       "4       firstClass  1684.05  2.16    830.86      CloudFy  10/10/2019  \n",
       "...            ...      ...   ...       ...          ...         ...  \n",
       "271883  firstClass  1446.34  1.49    573.81      CloudFy  07/12/2020  \n",
       "271884    economic   726.95  1.84    709.37      CloudFy  07/16/2020  \n",
       "271885    economic   873.07  1.84    709.37      CloudFy  07/20/2020  \n",
       "271886    economic   313.62  1.21    466.30      CloudFy  07/23/2020  \n",
       "271887    economic   533.69  1.21    466.30      CloudFy  07/26/2020  \n",
       "\n",
       "[271888 rows x 10 columns]"
      ]
     },
     "execution_count": 3,
     "metadata": {},
     "output_type": "execute_result"
    }
   ],
   "source": [
    "df"
   ]
  },
  {
   "cell_type": "code",
   "execution_count": 8,
   "id": "66be2f23",
   "metadata": {},
   "outputs": [
    {
     "data": {
      "text/plain": [
       "travelCode    0\n",
       "userCode      0\n",
       "from          0\n",
       "to            0\n",
       "flightType    0\n",
       "price         0\n",
       "time          0\n",
       "distance      0\n",
       "agency        0\n",
       "date          0\n",
       "dtype: int64"
      ]
     },
     "execution_count": 8,
     "metadata": {},
     "output_type": "execute_result"
    }
   ],
   "source": [
    "df.isnull().sum()"
   ]
  },
  {
   "cell_type": "code",
   "execution_count": 9,
   "id": "6737e32d-ac47-43cd-9abd-35604dc10be9",
   "metadata": {},
   "outputs": [],
   "source": [
    "clust_var=['price','time','distance']"
   ]
  },
  {
   "cell_type": "code",
   "execution_count": 10,
   "id": "d82bc4d6-f0a3-437b-b1e8-5c1cff046f01",
   "metadata": {},
   "outputs": [],
   "source": [
    "data_clust=df[clust_var]"
   ]
  },
  {
   "cell_type": "code",
   "execution_count": 11,
   "id": "49ab1420-62da-4869-a67b-724d58300f12",
   "metadata": {},
   "outputs": [],
   "source": [
    "from sklearn.preprocessing import StandardScaler"
   ]
  },
  {
   "cell_type": "code",
   "execution_count": 12,
   "id": "5bb49a5c-d0cb-41fe-b819-dbcbf5c2db72",
   "metadata": {},
   "outputs": [],
   "source": [
    "scale = StandardScaler()"
   ]
  },
  {
   "cell_type": "code",
   "execution_count": 13,
   "id": "0cf887ec-dfd5-4d10-9688-7f457b079e7a",
   "metadata": {},
   "outputs": [],
   "source": [
    "scaled_df = scale.fit_transform(data_clust)"
   ]
  },
  {
   "cell_type": "code",
   "execution_count": 21,
   "id": "4a9c322b",
   "metadata": {},
   "outputs": [
    {
     "data": {
      "text/plain": [
       "array([[ 1.3165614 ,  0.62456747,  0.62041611],\n",
       "       [ 0.92438475,  0.62456747,  0.62041611],\n",
       "       [ 1.46323088,  0.4402491 ,  0.43382366],\n",
       "       ...,\n",
       "       [-0.23268677,  0.77202216,  0.77765746],\n",
       "       [-1.77680124, -0.38918354, -0.38618715],\n",
       "       [-1.16939527, -0.38918354, -0.38618715]])"
      ]
     },
     "execution_count": 21,
     "metadata": {},
     "output_type": "execute_result"
    }
   ],
   "source": [
    "scaled_df"
   ]
  },
  {
   "cell_type": "code",
   "execution_count": 22,
   "id": "f79dd9af-8929-4bd9-9b5f-022f7edf8c61",
   "metadata": {},
   "outputs": [],
   "source": [
    "from sklearn.cluster import KMeans"
   ]
  },
  {
   "cell_type": "code",
   "execution_count": 24,
   "id": "7a650d63",
   "metadata": {},
   "outputs": [
    {
     "name": "stderr",
     "output_type": "stream",
     "text": [
      "/home/infinity/anaconda3/lib/python3.9/site-packages/sklearn/cluster/_kmeans.py:870: FutureWarning: The default value of `n_init` will change from 10 to 'auto' in 1.4. Set the value of `n_init` explicitly to suppress the warning\n",
      "  warnings.warn(\n",
      "/home/infinity/anaconda3/lib/python3.9/site-packages/sklearn/cluster/_kmeans.py:870: FutureWarning: The default value of `n_init` will change from 10 to 'auto' in 1.4. Set the value of `n_init` explicitly to suppress the warning\n",
      "  warnings.warn(\n",
      "/home/infinity/anaconda3/lib/python3.9/site-packages/sklearn/cluster/_kmeans.py:870: FutureWarning: The default value of `n_init` will change from 10 to 'auto' in 1.4. Set the value of `n_init` explicitly to suppress the warning\n",
      "  warnings.warn(\n",
      "/home/infinity/anaconda3/lib/python3.9/site-packages/sklearn/cluster/_kmeans.py:870: FutureWarning: The default value of `n_init` will change from 10 to 'auto' in 1.4. Set the value of `n_init` explicitly to suppress the warning\n",
      "  warnings.warn(\n",
      "/home/infinity/anaconda3/lib/python3.9/site-packages/sklearn/cluster/_kmeans.py:870: FutureWarning: The default value of `n_init` will change from 10 to 'auto' in 1.4. Set the value of `n_init` explicitly to suppress the warning\n",
      "  warnings.warn(\n",
      "/home/infinity/anaconda3/lib/python3.9/site-packages/sklearn/cluster/_kmeans.py:870: FutureWarning: The default value of `n_init` will change from 10 to 'auto' in 1.4. Set the value of `n_init` explicitly to suppress the warning\n",
      "  warnings.warn(\n",
      "/home/infinity/anaconda3/lib/python3.9/site-packages/sklearn/cluster/_kmeans.py:870: FutureWarning: The default value of `n_init` will change from 10 to 'auto' in 1.4. Set the value of `n_init` explicitly to suppress the warning\n",
      "  warnings.warn(\n",
      "/home/infinity/anaconda3/lib/python3.9/site-packages/sklearn/cluster/_kmeans.py:870: FutureWarning: The default value of `n_init` will change from 10 to 'auto' in 1.4. Set the value of `n_init` explicitly to suppress the warning\n",
      "  warnings.warn(\n",
      "/home/infinity/anaconda3/lib/python3.9/site-packages/sklearn/cluster/_kmeans.py:870: FutureWarning: The default value of `n_init` will change from 10 to 'auto' in 1.4. Set the value of `n_init` explicitly to suppress the warning\n",
      "  warnings.warn(\n",
      "/home/infinity/anaconda3/lib/python3.9/site-packages/sklearn/cluster/_kmeans.py:870: FutureWarning: The default value of `n_init` will change from 10 to 'auto' in 1.4. Set the value of `n_init` explicitly to suppress the warning\n",
      "  warnings.warn(\n",
      "/home/infinity/anaconda3/lib/python3.9/site-packages/sklearn/cluster/_kmeans.py:870: FutureWarning: The default value of `n_init` will change from 10 to 'auto' in 1.4. Set the value of `n_init` explicitly to suppress the warning\n",
      "  warnings.warn(\n"
     ]
    }
   ],
   "source": [
    "WSS = []\n",
    "for i in range(1,12):\n",
    "    m = KMeans(n_clusters=i)\n",
    "    m = m.fit(scaled_df)\n",
    "    WSS.append(m.inertia_)"
   ]
  },
  {
   "cell_type": "code",
   "execution_count": 27,
   "id": "4ae859df",
   "metadata": {},
   "outputs": [
    {
     "data": {
      "text/plain": [
       "[<matplotlib.lines.Line2D at 0x7ff16e307040>]"
      ]
     },
     "execution_count": 27,
     "metadata": {},
     "output_type": "execute_result"
    },
    {
     "data": {
      "image/png": "[encoded data removed]",
      "text/plain": [
       "<Figure size 640x480 with 1 Axes>"
      ]
     },
     "metadata": {},
     "output_type": "display_data"
    }
   ],
   "source": [
    "import matplotlib.pyplot as plt\n",
    "x = list(range(1,12))\n",
    "plt.plot(x,WSS,\"-\")"
   ]
  },
  {
   "cell_type": "code",
   "execution_count": 28,
   "id": "f25921a9",
   "metadata": {},
   "outputs": [
    {
     "data": {
      "text/plain": [
       "[815664.0000000047,\n",
       " 342235.8781277306,\n",
       " 211307.69711134292,\n",
       " 154989.46124547263,\n",
       " 121615.37315499748,\n",
       " 101283.82287032696,\n",
       " 84162.82002373258,\n",
       " 72953.8614444864,\n",
       " 63742.5756809906,\n",
       " 56369.48411165953,\n",
       " 52001.379216414876]"
      ]
     },
     "execution_count": 28,
     "metadata": {},
     "output_type": "execute_result"
    }
   ],
   "source": [
    "WSS"
   ]
  },
  {
   "cell_type": "code",
   "execution_count": 29,
   "id": "1eb95b68",
   "metadata": {},
   "outputs": [
    {
     "ename": "IndexError",
     "evalue": "only integers, slices (`:`), ellipsis (`...`), numpy.newaxis (`None`) and integer or boolean arrays are valid indices",
     "output_type": "error",
     "traceback": [
      "\u001b[0;31m---------------------------------------------------------------------------\u001b[0m",
      "\u001b[0;31mIndexError\u001b[0m                                Traceback (most recent call last)",
      "Cell \u001b[0;32mIn[29], line 1\u001b[0m\n\u001b[0;32m----> 1\u001b[0m scaled_df[\u001b[38;5;124m'\u001b[39m\u001b[38;5;124mcluster_4\u001b[39m\u001b[38;5;124m'\u001b[39m] \u001b[38;5;241m=\u001b[39m mod\u001b[38;5;241m.\u001b[39mlabels_\n",
      "\u001b[0;31mIndexError\u001b[0m: only integers, slices (`:`), ellipsis (`...`), numpy.newaxis (`None`) and integer or boolean arrays are valid indices"
     ]
    }
   ],
   "source": [
    "scaled_df['cluster_4'] = mod.labels_"
   ]
  },
  {
   "cell_type": "code",
   "execution_count": 31,
   "id": "6f0f6236",
   "metadata": {},
   "outputs": [
    {
     "data": {
      "text/html": [
       "<div>\n",
       "<style scoped>\n",
       "    .dataframe tbody tr th:only-of-type {\n",
       "        vertical-align: middle;\n",
       "    }\n",
       "\n",
       "    .dataframe tbody tr th {\n",
       "        vertical-align: top;\n",
       "    }\n",
       "\n",
       "    .dataframe thead th {\n",
       "        text-align: right;\n",
       "    }\n",
       "</style>\n",
       "<table border=\"1\" class=\"dataframe\">\n",
       "  <thead>\n",
       "    <tr style=\"text-align: right;\">\n",
       "      <th></th>\n",
       "      <th>price</th>\n",
       "      <th>time</th>\n",
       "      <th>distance</th>\n",
       "    </tr>\n",
       "  </thead>\n",
       "  <tbody>\n",
       "    <tr>\n",
       "      <th>0</th>\n",
       "      <td>1434.38</td>\n",
       "      <td>1.76</td>\n",
       "      <td>676.53</td>\n",
       "    </tr>\n",
       "    <tr>\n",
       "      <th>1</th>\n",
       "      <td>1292.29</td>\n",
       "      <td>1.76</td>\n",
       "      <td>676.53</td>\n",
       "    </tr>\n",
       "    <tr>\n",
       "      <th>2</th>\n",
       "      <td>1487.52</td>\n",
       "      <td>1.66</td>\n",
       "      <td>637.56</td>\n",
       "    </tr>\n",
       "    <tr>\n",
       "      <th>3</th>\n",
       "      <td>1127.36</td>\n",
       "      <td>1.66</td>\n",
       "      <td>637.56</td>\n",
       "    </tr>\n",
       "    <tr>\n",
       "      <th>4</th>\n",
       "      <td>1684.05</td>\n",
       "      <td>2.16</td>\n",
       "      <td>830.86</td>\n",
       "    </tr>\n",
       "    <tr>\n",
       "      <th>...</th>\n",
       "      <td>...</td>\n",
       "      <td>...</td>\n",
       "      <td>...</td>\n",
       "    </tr>\n",
       "    <tr>\n",
       "      <th>271883</th>\n",
       "      <td>1446.34</td>\n",
       "      <td>1.49</td>\n",
       "      <td>573.81</td>\n",
       "    </tr>\n",
       "    <tr>\n",
       "      <th>271884</th>\n",
       "      <td>726.95</td>\n",
       "      <td>1.84</td>\n",
       "      <td>709.37</td>\n",
       "    </tr>\n",
       "    <tr>\n",
       "      <th>271885</th>\n",
       "      <td>873.07</td>\n",
       "      <td>1.84</td>\n",
       "      <td>709.37</td>\n",
       "    </tr>\n",
       "    <tr>\n",
       "      <th>271886</th>\n",
       "      <td>313.62</td>\n",
       "      <td>1.21</td>\n",
       "      <td>466.30</td>\n",
       "    </tr>\n",
       "    <tr>\n",
       "      <th>271887</th>\n",
       "      <td>533.69</td>\n",
       "      <td>1.21</td>\n",
       "      <td>466.30</td>\n",
       "    </tr>\n",
       "  </tbody>\n",
       "</table>\n",
       "<p>271888 rows × 3 columns</p>\n",
       "</div>"
      ],
      "text/plain": [
       "          price  time  distance\n",
       "0       1434.38  1.76    676.53\n",
       "1       1292.29  1.76    676.53\n",
       "2       1487.52  1.66    637.56\n",
       "3       1127.36  1.66    637.56\n",
       "4       1684.05  2.16    830.86\n",
       "...         ...   ...       ...\n",
       "271883  1446.34  1.49    573.81\n",
       "271884   726.95  1.84    709.37\n",
       "271885   873.07  1.84    709.37\n",
       "271886   313.62  1.21    466.30\n",
       "271887   533.69  1.21    466.30\n",
       "\n",
       "[271888 rows x 3 columns]"
      ]
     },
     "execution_count": 31,
     "metadata": {},
     "output_type": "execute_result"
    }
   ],
   "source": [
    "data_clust"
   ]
  },
  {
   "cell_type": "code",
   "execution_count": 33,
   "id": "8e7adc6c",
   "metadata": {},
   "outputs": [
    {
     "data": {
      "text/plain": [
       "271888"
      ]
     },
     "execution_count": 33,
     "metadata": {},
     "output_type": "execute_result"
    }
   ],
   "source": [
    "len(mod.labels_)"
   ]
  },
  {
   "cell_type": "code",
   "execution_count": 34,
   "id": "9a2f3042",
   "metadata": {},
   "outputs": [
    {
     "name": "stderr",
     "output_type": "stream",
     "text": [
      "/tmp/ipykernel_19923/3738499433.py:1: SettingWithCopyWarning: \n",
      "A value is trying to be set on a copy of a slice from a DataFrame.\n",
      "Try using .loc[row_indexer,col_indexer] = value instead\n",
      "\n",
      "See the caveats in the documentation: https://pandas.pydata.org/pandas-docs/stable/user_guide/indexing.html#returning-a-view-versus-a-copy\n",
      "  data_clust['cluster_4'] = mod.labels_\n"
     ]
    }
   ],
   "source": [
    "data_clust['cluster_4'] = mod.labels_"
   ]
  },
  {
   "cell_type": "code",
   "execution_count": 35,
   "id": "9fef22e0",
   "metadata": {},
   "outputs": [
    {
     "data": {
      "text/html": [
       "<div>\n",
       "<style scoped>\n",
       "    .dataframe tbody tr th:only-of-type {\n",
       "        vertical-align: middle;\n",
       "    }\n",
       "\n",
       "    .dataframe tbody tr th {\n",
       "        vertical-align: top;\n",
       "    }\n",
       "\n",
       "    .dataframe thead th {\n",
       "        text-align: right;\n",
       "    }\n",
       "</style>\n",
       "<table border=\"1\" class=\"dataframe\">\n",
       "  <thead>\n",
       "    <tr style=\"text-align: right;\">\n",
       "      <th></th>\n",
       "      <th>price</th>\n",
       "      <th>time</th>\n",
       "      <th>distance</th>\n",
       "      <th>cluster_4</th>\n",
       "    </tr>\n",
       "  </thead>\n",
       "  <tbody>\n",
       "    <tr>\n",
       "      <th>0</th>\n",
       "      <td>1434.38</td>\n",
       "      <td>1.76</td>\n",
       "      <td>676.53</td>\n",
       "      <td>0</td>\n",
       "    </tr>\n",
       "    <tr>\n",
       "      <th>1</th>\n",
       "      <td>1292.29</td>\n",
       "      <td>1.76</td>\n",
       "      <td>676.53</td>\n",
       "      <td>0</td>\n",
       "    </tr>\n",
       "    <tr>\n",
       "      <th>2</th>\n",
       "      <td>1487.52</td>\n",
       "      <td>1.66</td>\n",
       "      <td>637.56</td>\n",
       "      <td>0</td>\n",
       "    </tr>\n",
       "    <tr>\n",
       "      <th>3</th>\n",
       "      <td>1127.36</td>\n",
       "      <td>1.66</td>\n",
       "      <td>637.56</td>\n",
       "      <td>0</td>\n",
       "    </tr>\n",
       "    <tr>\n",
       "      <th>4</th>\n",
       "      <td>1684.05</td>\n",
       "      <td>2.16</td>\n",
       "      <td>830.86</td>\n",
       "      <td>3</td>\n",
       "    </tr>\n",
       "    <tr>\n",
       "      <th>...</th>\n",
       "      <td>...</td>\n",
       "      <td>...</td>\n",
       "      <td>...</td>\n",
       "      <td>...</td>\n",
       "    </tr>\n",
       "    <tr>\n",
       "      <th>271883</th>\n",
       "      <td>1446.34</td>\n",
       "      <td>1.49</td>\n",
       "      <td>573.81</td>\n",
       "      <td>0</td>\n",
       "    </tr>\n",
       "    <tr>\n",
       "      <th>271884</th>\n",
       "      <td>726.95</td>\n",
       "      <td>1.84</td>\n",
       "      <td>709.37</td>\n",
       "      <td>1</td>\n",
       "    </tr>\n",
       "    <tr>\n",
       "      <th>271885</th>\n",
       "      <td>873.07</td>\n",
       "      <td>1.84</td>\n",
       "      <td>709.37</td>\n",
       "      <td>1</td>\n",
       "    </tr>\n",
       "    <tr>\n",
       "      <th>271886</th>\n",
       "      <td>313.62</td>\n",
       "      <td>1.21</td>\n",
       "      <td>466.30</td>\n",
       "      <td>1</td>\n",
       "    </tr>\n",
       "    <tr>\n",
       "      <th>271887</th>\n",
       "      <td>533.69</td>\n",
       "      <td>1.21</td>\n",
       "      <td>466.30</td>\n",
       "      <td>1</td>\n",
       "    </tr>\n",
       "  </tbody>\n",
       "</table>\n",
       "<p>271888 rows × 4 columns</p>\n",
       "</div>"
      ],
      "text/plain": [
       "          price  time  distance  cluster_4\n",
       "0       1434.38  1.76    676.53          0\n",
       "1       1292.29  1.76    676.53          0\n",
       "2       1487.52  1.66    637.56          0\n",
       "3       1127.36  1.66    637.56          0\n",
       "4       1684.05  2.16    830.86          3\n",
       "...         ...   ...       ...        ...\n",
       "271883  1446.34  1.49    573.81          0\n",
       "271884   726.95  1.84    709.37          1\n",
       "271885   873.07  1.84    709.37          1\n",
       "271886   313.62  1.21    466.30          1\n",
       "271887   533.69  1.21    466.30          1\n",
       "\n",
       "[271888 rows x 4 columns]"
      ]
     },
     "execution_count": 35,
     "metadata": {},
     "output_type": "execute_result"
    }
   ],
   "source": [
    "data_clust"
   ]
  },
  {
   "cell_type": "markdown",
   "id": "fe9f8ad4",
   "metadata": {},
   "source": [
    "# Cluster Profiling"
   ]
  },
  {
   "cell_type": "code",
   "execution_count": 36,
   "id": "9409e23f-2388-42b2-8b5b-8110aaf5be60",
   "metadata": {},
   "outputs": [
    {
     "data": {
      "text/html": [
       "<div>\n",
       "<style scoped>\n",
       "    .dataframe tbody tr th:only-of-type {\n",
       "        vertical-align: middle;\n",
       "    }\n",
       "\n",
       "    .dataframe tbody tr th {\n",
       "        vertical-align: top;\n",
       "    }\n",
       "\n",
       "    .dataframe thead th {\n",
       "        text-align: right;\n",
       "    }\n",
       "</style>\n",
       "<table border=\"1\" class=\"dataframe\">\n",
       "  <thead>\n",
       "    <tr style=\"text-align: right;\">\n",
       "      <th></th>\n",
       "      <th>price</th>\n",
       "      <th>time</th>\n",
       "      <th>distance</th>\n",
       "    </tr>\n",
       "    <tr>\n",
       "      <th>cluster_4</th>\n",
       "      <th></th>\n",
       "      <th></th>\n",
       "      <th></th>\n",
       "    </tr>\n",
       "  </thead>\n",
       "  <tbody>\n",
       "    <tr>\n",
       "      <th>0</th>\n",
       "      <td>1288.618413</td>\n",
       "      <td>1.589760</td>\n",
       "      <td>611.847532</td>\n",
       "    </tr>\n",
       "    <tr>\n",
       "      <th>1</th>\n",
       "      <td>748.293333</td>\n",
       "      <td>1.440549</td>\n",
       "      <td>554.507723</td>\n",
       "    </tr>\n",
       "    <tr>\n",
       "      <th>2</th>\n",
       "      <td>626.687722</td>\n",
       "      <td>0.647388</td>\n",
       "      <td>249.006855</td>\n",
       "    </tr>\n",
       "    <tr>\n",
       "      <th>3</th>\n",
       "      <td>1286.123471</td>\n",
       "      <td>2.201788</td>\n",
       "      <td>847.459518</td>\n",
       "    </tr>\n",
       "  </tbody>\n",
       "</table>\n",
       "</div>"
      ],
      "text/plain": [
       "                 price      time    distance\n",
       "cluster_4                                   \n",
       "0          1288.618413  1.589760  611.847532\n",
       "1           748.293333  1.440549  554.507723\n",
       "2           626.687722  0.647388  249.006855\n",
       "3          1286.123471  2.201788  847.459518"
      ]
     },
     "execution_count": 36,
     "metadata": {},
     "output_type": "execute_result"
    }
   ],
   "source": [
    "data_clust.groupby('cluster_4').mean()"
   ]
  },
  {
   "cell_type": "code",
   "execution_count": 37,
   "id": "dd3b9b9e",
   "metadata": {},
   "outputs": [
    {
     "data": {
      "text/html": [
       "<div>\n",
       "<style scoped>\n",
       "    .dataframe tbody tr th:only-of-type {\n",
       "        vertical-align: middle;\n",
       "    }\n",
       "\n",
       "    .dataframe tbody tr th {\n",
       "        vertical-align: top;\n",
       "    }\n",
       "\n",
       "    .dataframe thead th {\n",
       "        text-align: right;\n",
       "    }\n",
       "</style>\n",
       "<table border=\"1\" class=\"dataframe\">\n",
       "  <thead>\n",
       "    <tr style=\"text-align: right;\">\n",
       "      <th></th>\n",
       "      <th>price</th>\n",
       "      <th>time</th>\n",
       "      <th>distance</th>\n",
       "      <th>cluster_4</th>\n",
       "    </tr>\n",
       "  </thead>\n",
       "  <tbody>\n",
       "    <tr>\n",
       "      <th>count</th>\n",
       "      <td>271888.00000</td>\n",
       "      <td>271888.000000</td>\n",
       "      <td>271888.000000</td>\n",
       "      <td>271888.000000</td>\n",
       "    </tr>\n",
       "    <tr>\n",
       "      <th>mean</th>\n",
       "      <td>957.37503</td>\n",
       "      <td>1.421147</td>\n",
       "      <td>546.955535</td>\n",
       "      <td>1.320930</td>\n",
       "    </tr>\n",
       "    <tr>\n",
       "      <th>std</th>\n",
       "      <td>362.31189</td>\n",
       "      <td>0.542541</td>\n",
       "      <td>208.851288</td>\n",
       "      <td>1.049888</td>\n",
       "    </tr>\n",
       "    <tr>\n",
       "      <th>min</th>\n",
       "      <td>301.51000</td>\n",
       "      <td>0.440000</td>\n",
       "      <td>168.220000</td>\n",
       "      <td>0.000000</td>\n",
       "    </tr>\n",
       "    <tr>\n",
       "      <th>25%</th>\n",
       "      <td>672.66000</td>\n",
       "      <td>1.040000</td>\n",
       "      <td>401.660000</td>\n",
       "      <td>0.000000</td>\n",
       "    </tr>\n",
       "    <tr>\n",
       "      <th>50%</th>\n",
       "      <td>904.00000</td>\n",
       "      <td>1.460000</td>\n",
       "      <td>562.140000</td>\n",
       "      <td>1.000000</td>\n",
       "    </tr>\n",
       "    <tr>\n",
       "      <th>75%</th>\n",
       "      <td>1222.24000</td>\n",
       "      <td>1.760000</td>\n",
       "      <td>676.530000</td>\n",
       "      <td>2.000000</td>\n",
       "    </tr>\n",
       "    <tr>\n",
       "      <th>max</th>\n",
       "      <td>1754.17000</td>\n",
       "      <td>2.440000</td>\n",
       "      <td>937.770000</td>\n",
       "      <td>3.000000</td>\n",
       "    </tr>\n",
       "  </tbody>\n",
       "</table>\n",
       "</div>"
      ],
      "text/plain": [
       "              price           time       distance      cluster_4\n",
       "count  271888.00000  271888.000000  271888.000000  271888.000000\n",
       "mean      957.37503       1.421147     546.955535       1.320930\n",
       "std       362.31189       0.542541     208.851288       1.049888\n",
       "min       301.51000       0.440000     168.220000       0.000000\n",
       "25%       672.66000       1.040000     401.660000       0.000000\n",
       "50%       904.00000       1.460000     562.140000       1.000000\n",
       "75%      1222.24000       1.760000     676.530000       2.000000\n",
       "max      1754.17000       2.440000     937.770000       3.000000"
      ]
     },
     "execution_count": 37,
     "metadata": {},
     "output_type": "execute_result"
    }
   ],
   "source": [
    "data_clust.describe()"
   ]
  },
  {
   "cell_type": "code",
   "execution_count": 38,
   "id": "66136dc3",
   "metadata": {},
   "outputs": [
    {
     "name": "stderr",
     "output_type": "stream",
     "text": [
      "/home/infinity/anaconda3/lib/python3.9/site-packages/sklearn/cluster/_kmeans.py:870: FutureWarning: The default value of `n_init` will change from 10 to 'auto' in 1.4. Set the value of `n_init` explicitly to suppress the warning\n",
      "  warnings.warn(\n",
      "/home/infinity/anaconda3/lib/python3.9/site-packages/sklearn/cluster/_kmeans.py:870: FutureWarning: The default value of `n_init` will change from 10 to 'auto' in 1.4. Set the value of `n_init` explicitly to suppress the warning\n",
      "  warnings.warn(\n",
      "/home/infinity/anaconda3/lib/python3.9/site-packages/sklearn/cluster/_kmeans.py:870: FutureWarning: The default value of `n_init` will change from 10 to 'auto' in 1.4. Set the value of `n_init` explicitly to suppress the warning\n",
      "  warnings.warn(\n",
      "/home/infinity/anaconda3/lib/python3.9/site-packages/sklearn/cluster/_kmeans.py:870: FutureWarning: The default value of `n_init` will change from 10 to 'auto' in 1.4. Set the value of `n_init` explicitly to suppress the warning\n",
      "  warnings.warn(\n",
      "/home/infinity/anaconda3/lib/python3.9/site-packages/sklearn/cluster/_kmeans.py:870: FutureWarning: The default value of `n_init` will change from 10 to 'auto' in 1.4. Set the value of `n_init` explicitly to suppress the warning\n",
      "  warnings.warn(\n",
      "/home/infinity/anaconda3/lib/python3.9/site-packages/sklearn/cluster/_kmeans.py:870: FutureWarning: The default value of `n_init` will change from 10 to 'auto' in 1.4. Set the value of `n_init` explicitly to suppress the warning\n",
      "  warnings.warn(\n",
      "/home/infinity/anaconda3/lib/python3.9/site-packages/sklearn/cluster/_kmeans.py:870: FutureWarning: The default value of `n_init` will change from 10 to 'auto' in 1.4. Set the value of `n_init` explicitly to suppress the warning\n",
      "  warnings.warn(\n",
      "/home/infinity/anaconda3/lib/python3.9/site-packages/sklearn/cluster/_kmeans.py:870: FutureWarning: The default value of `n_init` will change from 10 to 'auto' in 1.4. Set the value of `n_init` explicitly to suppress the warning\n",
      "  warnings.warn(\n",
      "/home/infinity/anaconda3/lib/python3.9/site-packages/sklearn/cluster/_kmeans.py:870: FutureWarning: The default value of `n_init` will change from 10 to 'auto' in 1.4. Set the value of `n_init` explicitly to suppress the warning\n",
      "  warnings.warn(\n",
      "/home/infinity/anaconda3/lib/python3.9/site-packages/sklearn/cluster/_kmeans.py:870: FutureWarning: The default value of `n_init` will change from 10 to 'auto' in 1.4. Set the value of `n_init` explicitly to suppress the warning\n",
      "  warnings.warn(\n",
      "/home/infinity/anaconda3/lib/python3.9/site-packages/sklearn/cluster/_kmeans.py:870: FutureWarning: The default value of `n_init` will change from 10 to 'auto' in 1.4. Set the value of `n_init` explicitly to suppress the warning\n",
      "  warnings.warn(\n"
     ]
    }
   ],
   "source": [
    "from sklearn.cluster import KMeans\n",
    "WSS = []\n",
    "for i in range(1,12):\n",
    "    m = KMeans(n_clusters=i)\n",
    "    m = m.fit(scaled_df)\n",
    "    WSS.append(m.inertia_)"
   ]
  },
  {
   "cell_type": "code",
   "execution_count": 39,
   "id": "a825f9dd",
   "metadata": {},
   "outputs": [
    {
     "data": {
      "text/plain": [
       "[815664.0000000047,\n",
       " 342235.8781277307,\n",
       " 211307.6971113429,\n",
       " 154984.0267293071,\n",
       " 121615.37315499746,\n",
       " 101283.82287032699,\n",
       " 84162.82002373258,\n",
       " 73088.01150316489,\n",
       " 63450.68648841296,\n",
       " 56322.55178567948,\n",
       " 52619.722933049445]"
      ]
     },
     "execution_count": 39,
     "metadata": {},
     "output_type": "execute_result"
    }
   ],
   "source": [
    "WSS"
   ]
  },
  {
   "cell_type": "code",
   "execution_count": null,
   "id": "16f8ff94",
   "metadata": {},
   "outputs": [],
   "source": []
  },
  {
   "cell_type": "code",
   "execution_count": null,
   "id": "0055c752",
   "metadata": {},
   "outputs": [],
   "source": []
  },
  {
   "cell_type": "code",
   "execution_count": null,
   "id": "3d11c511",
   "metadata": {},
   "outputs": [],
   "source": []
  },
  {
   "cell_type": "code",
   "execution_count": null,
   "id": "c5e8c9ab",
   "metadata": {},
   "outputs": [],
   "source": []
  },
  {
   "cell_type": "code",
   "execution_count": null,
   "id": "78b5f30c",
   "metadata": {},
   "outputs": [],
   "source": []
  },
  {
   "cell_type": "code",
   "execution_count": null,
   "id": "138d8072",
   "metadata": {},
   "outputs": [],
   "source": []
  },
  {
   "cell_type": "code",
   "execution_count": null,
   "id": "0eec231b",
   "metadata": {},
   "outputs": [],
   "source": []
  },
  {
   "cell_type": "code",
   "execution_count": null,
   "id": "e6460f84",
   "metadata": {},
   "outputs": [],
   "source": []
  },
  {
   "cell_type": "code",
   "execution_count": null,
   "id": "96087ce0",
   "metadata": {},
   "outputs": [],
   "source": []
  },
  {
   "cell_type": "code",
   "execution_count": null,
   "id": "57e67df4",
   "metadata": {},
   "outputs": [],
   "source": []
  },
  {
   "cell_type": "code",
   "execution_count": null,
   "id": "fd0e8c86",
   "metadata": {},
   "outputs": [],
   "source": []
  },
  {
   "cell_type": "code",
   "execution_count": null,
   "id": "f57d1496",
   "metadata": {},
   "outputs": [],
   "source": []
  },
  {
   "cell_type": "code",
   "execution_count": null,
   "id": "b4998ebc",
   "metadata": {},
   "outputs": [],
   "source": []
  }
 ],
 "metadata": {
  "kernelspec": {
   "display_name": "Python 3 (ipykernel)",
   "language": "python",
   "name": "python3"
  },
  "language_info": {
   "codemirror_mode": {
    "name": "ipython",
    "version": 3
   },
   "file_extension": ".py",
   "mimetype": "text/x-python",
   "name": "python",
   "nbconvert_exporter": "python",
   "pygments_lexer": "ipython3",
   "version": "3.9.16"
  }
 },
 "nbformat": 4,
 "nbformat_minor": 5
}
