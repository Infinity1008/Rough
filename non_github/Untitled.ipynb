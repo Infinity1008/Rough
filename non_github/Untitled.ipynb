{
 "cells": [
  {
   "cell_type": "code",
   "execution_count": 22,
   "id": "e3455a71",
   "metadata": {},
   "outputs": [],
   "source": [
    "import pytesseract"
   ]
  },
  {
   "cell_type": "code",
   "execution_count": 23,
   "id": "4a2e7398",
   "metadata": {},
   "outputs": [],
   "source": [
    "from PIL import Image"
   ]
  },
  {
   "cell_type": "markdown",
   "id": "d906e341",
   "metadata": {},
   "source": [
    "### Simple image to string"
   ]
  },
  {
   "cell_type": "code",
   "execution_count": 4,
   "id": "dc693b20",
   "metadata": {},
   "outputs": [
    {
     "data": {
      "text/plain": [
       "'BROWN & WILLIAMSON\\n1994 COLLECTION\\n\\nPHOTOCOPYING VARIANCE FORM\\n\\n \\n\\n‘This form was placed before Bates 1p __(?\\n\\n  \\n\\nAT THE TIME OF REPRODUCTION, THE\\nFOLLOWING Nt ot 7\\n\\nDOCUMENT COPIES ARE IN THE SAME SEQUENCE AS THEY APPEARED\\nIN THE ORIGINAL.\\n\\nPAGE NUMBER(S) WERE MISSING\\nIN THE ORIGINAL,\\n\\nPOOR QUALITY onrcrNAL. facil\\nZ\\n\\nOVERLAY ITEM COULD NOT BE REMOVED WITHOUT DANAGE TO THE\\nORIGINAL.\\n\\nNO DOCUMENTS WERE FOUND WITHIN THE ORIGINAL:\\n\\n©) FILE FOLDER\\n©) REDROPE EXPANDABLE FILE\\nco HANGING FILE\\n\\n©) ENVELOPE,\\n\\nane) OTHER (SPECIFY)\\n\\n \\n\\nDOCUMENT COPIES WERE REPRODUCED IN COLOR [0 PERMIT\\nCORRECTION INTERPRETATION,\\n\\nBATES NUMBER ___ NOT USED.\\n\\nOTHER VARIANCE (EXPLAIN).\\n\\x0c'"
      ]
     },
     "execution_count": 4,
     "metadata": {},
     "output_type": "execute_result"
    }
   ],
   "source": [
    "pytesseract.image_to_string(Image.open('images/0001463448.png'))"
   ]
  },
  {
   "cell_type": "code",
   "execution_count": 6,
   "id": "e9ef8ceb",
   "metadata": {},
   "outputs": [
    {
     "name": "stdout",
     "output_type": "stream",
     "text": [
      "BROWN & WILLIAMSON\n",
      "1994 COLLECTION\n",
      "\n",
      "PHOTOCOPYING VARIANCE FORM\n",
      "\n",
      " \n",
      "\n",
      "‘This form was placed before Bates 1p __(?\n",
      "\n",
      "  \n",
      "\n",
      "AT THE TIME OF REPRODUCTION, THE\n",
      "FOLLOWING Nt ot 7\n",
      "\n",
      "DOCUMENT COPIES ARE IN THE SAME SEQUENCE AS THEY APPEARED\n",
      "IN THE ORIGINAL.\n",
      "\n",
      "PAGE NUMBER(S) WERE MISSING\n",
      "IN THE ORIGINAL,\n",
      "\n",
      "POOR QUALITY onrcrNAL. facil\n",
      "Z\n",
      "\n",
      "OVERLAY ITEM COULD NOT BE REMOVED WITHOUT DANAGE TO THE\n",
      "ORIGINAL.\n",
      "\n",
      "NO DOCUMENTS WERE FOUND WITHIN THE ORIGINAL:\n",
      "\n",
      "©) FILE FOLDER\n",
      "©) REDROPE EXPANDABLE FILE\n",
      "co HANGING FILE\n",
      "\n",
      "©) ENVELOPE,\n",
      "\n",
      "ane) OTHER (SPECIFY)\n",
      "\n",
      " \n",
      "\n",
      "DOCUMENT COPIES WERE REPRODUCED IN COLOR [0 PERMIT\n",
      "CORRECTION INTERPRETATION,\n",
      "\n",
      "BATES NUMBER ___ NOT USED.\n",
      "\n",
      "OTHER VARIANCE (EXPLAIN).\n",
      "\f",
      "\n"
     ]
    }
   ],
   "source": [
    "print(pytesseract.image_to_string(Image.open('images/0001463448.png')))"
   ]
  },
  {
   "cell_type": "markdown",
   "id": "eff6912c",
   "metadata": {},
   "source": [
    "### List of available languages"
   ]
  },
  {
   "cell_type": "code",
   "execution_count": 7,
   "id": "833eba0a",
   "metadata": {},
   "outputs": [
    {
     "data": {
      "text/plain": [
       "['eng', 'osd']"
      ]
     },
     "execution_count": 7,
     "metadata": {},
     "output_type": "execute_result"
    }
   ],
   "source": [
    "pytesseract.get_languages(config='')"
   ]
  },
  {
   "cell_type": "code",
   "execution_count": 8,
   "id": "9dcdc243",
   "metadata": {},
   "outputs": [
    {
     "name": "stdout",
     "output_type": "stream",
     "text": [
      "['eng', 'osd']\n"
     ]
    }
   ],
   "source": [
    "print(pytesseract.get_languages(config=''))"
   ]
  },
  {
   "cell_type": "markdown",
   "id": "15f47131",
   "metadata": {},
   "source": [
    "### French text image to string"
   ]
  },
  {
   "cell_type": "code",
   "execution_count": 10,
   "id": "472e944b",
   "metadata": {},
   "outputs": [],
   "source": [
    "# pytesseract.image_to_string(Image.open('test-european.jpg'), lang='fra')"
   ]
  },
  {
   "cell_type": "code",
   "execution_count": null,
   "id": "3978a8dd",
   "metadata": {},
   "outputs": [],
   "source": [
    "print(pytesseract.image_to_string(Image.open('test-european.jpg'), lang='fra'))"
   ]
  },
  {
   "cell_type": "markdown",
   "id": "52daa5da",
   "metadata": {},
   "source": [
    "### Batch processing with a single file containing the list of multiple image file paths"
   ]
  },
  {
   "cell_type": "code",
   "execution_count": 11,
   "id": "4786f0d7",
   "metadata": {},
   "outputs": [],
   "source": [
    "# print(pytesseract.image_to_string('images.txt'))"
   ]
  },
  {
   "cell_type": "markdown",
   "id": "055c6dbf",
   "metadata": {},
   "source": [
    "### Timeout/terminate the tesseract job after a period of time"
   ]
  },
  {
   "cell_type": "code",
   "execution_count": 12,
   "id": "1685c57f",
   "metadata": {},
   "outputs": [],
   "source": [
    "# try:\n",
    "#     print(pytesseract.image_to_string('test.jpg', timeout=2)) # Timeout after 2 seconds\n",
    "#     print(pytesseract.image_to_string('test.jpg', timeout=0.5)) # Timeout after half a second\n",
    "# except RuntimeError as timeout_error:\n",
    "#     # Tesseract processing is terminated\n",
    "#     pass"
   ]
  },
  {
   "cell_type": "markdown",
   "id": "cd264bf6",
   "metadata": {},
   "source": [
    "### Get bounding box estimates"
   ]
  },
  {
   "cell_type": "code",
   "execution_count": 13,
   "id": "2011e7e6",
   "metadata": {},
   "outputs": [
    {
     "data": {
      "text/plain": [
       "'B 300 887 307 897 0\\nR 300 887 315 897 0\\nO 308 887 324 897 0\\nW 319 887 334 897 0\\nN 325 888 342 897 0\\n& 352 888 358 897 0\\nW 367 888 376 899 0\\nI 368 888 387 899 0\\nL 380 888 394 899 0\\nL 387 888 401 899 0\\nI 367 888 434 898 0\\nA 405 888 420 899 0\\nM 412 888 427 899 0\\nS 421 888 436 899 0\\nO 429 888 443 899 0\\nN 436 889 452 899 0\\n1 306 867 313 877 0\\n9 315 868 321 877 0\\n9 324 868 330 878 0\\n4 333 869 339 878 0\\nC 362 870 370 879 0\\nO 370 870 378 879 0\\nL 372 870 386 880 0\\nL 379 871 394 880 0\\nE 395 871 403 879 0\\nC 404 871 412 880 0\\nT 413 871 420 880 0\\nI 420 871 427 880 0\\nO 428 871 436 880 0\\nN 437 872 445 880 0\\nP 256 836 275 864 0\\nH 265 836 285 864 0\\nO 275 836 294 864 0\\nT 284 836 303 864 0\\nO 296 836 310 864 0\\nC 303 836 317 864 0\\nO 312 836 327 864 0\\nP 319 836 334 864 0\\nY 326 836 345 864 0\\nI 338 836 352 864 0\\nN 345 836 359 864 0\\nG 352 836 371 864 0\\nV 370 844 443 857 0\\nA 379 836 394 864 0\\nR 386 836 401 864 0\\nI 398 836 413 864 0\\nA 405 836 420 864 0\\nN 412 836 427 864 0\\nC 422 836 436 864 0\\nE 429 836 443 864 0\\nF 447 836 462 864 0\\nO 454 836 469 864 0\\nR 464 836 478 864 0\\nM 471 836 485 864 0\\n~ 95 816 659 822 0\\n‘ 95 791 96 801 0\\nT 95 791 99 801 0\\nh 95 791 112 801 0\\ni 105 791 120 801 0\\ns 114 791 129 801 0\\nf 140 791 146 800 0\\no 148 791 155 798 0\\nr 151 791 166 800 0\\nm 156 791 173 798 0\\nw 182 791 191 798 0\\na 192 791 199 798 0\\ns 201 791 208 798 0\\np 217 788 226 798 0\\nl 227 790 234 800 0\\na 235 791 243 798 0\\nc 236 788 251 800 0\\ne 244 791 260 798 0\\nd 261 791 269 800 0\\nb 279 791 286 800 0\\ne 279 791 294 800 0\\nf 288 791 303 800 0\\no 296 791 311 800 0\\nr 305 791 311 798 0\\ne 313 791 329 798 0\\nB 338 791 346 800 0\\na 347 792 354 798 0\\nt 355 791 363 801 0\\ne 364 792 371 798 0\\ns 373 792 379 798 0\\n1 389 792 396 801 0\\np 398 792 406 801 0\\n_ 431 792 432 808 0\\n_ 431 792 432 808 0\\n( 431 792 435 808 0\\n? 431 792 444 808 0\\n~ 451 790 485 811 0\\n~ 531 788 604 812 0\\nA 239 762 248 772 0\\nT 248 763 256 772 0\\nT 265 763 275 772 0\\nH 267 763 282 772 0\\nE 265 763 291 772 0\\nT 300 763 307 772 0\\nI 308 763 315 772 0\\nM 312 763 326 772 0\\nE 316 763 333 772 0\\nO 343 764 350 772 0\\nF 351 764 359 772 0\\nR 368 762 378 773 0\\nE 368 764 384 773 0\\nP 386 764 393 773 0\\nR 386 762 401 773 0\\nO 393 764 409 773 0\\nD 411 764 419 773 0\\nU 419 764 427 773 0\\nC 421 762 436 773 0\\nT 428 764 436 773 0\\nI 436 764 444 773 0\\nO 445 764 451 773 0\\nN 453 764 469 773 0\\n, 472 762 475 767 0\\nT 486 764 497 773 0\\nH 486 764 512 773 0\\nE 496 764 512 773 0\\nF 249 749 256 758 0\\nO 252 749 266 758 0\\nL 259 749 273 758 0\\nL 266 749 285 758 0\\nO 275 750 291 758 0\\nW 292 750 299 758 0\\nI 294 749 308 758 0\\nN 301 750 307 758 0\\nG 308 750 325 758 0\\nN 334 750 341 758 0\\nt 334 750 342 758 0\\no 385 750 393 759 0\\nt 388 741 398 769 0\\n7 498 751 501 758 0\\nD 183 707 193 716 0\\nO 183 707 200 716 0\\nC 195 707 210 716 0\\nU 202 707 217 716 0\\nM 201 707 234 716 0\\nE 221 707 235 716 0\\nN 228 707 242 716 0\\nT 235 707 252 716 0\\nC 261 707 269 716 0\\nO 263 707 277 716 0\\nP 270 707 286 716 0\\nI 279 707 294 716 0\\nE 287 707 302 716 0\\nS 304 707 311 716 0\\nA 319 707 331 716 0\\nR 319 707 345 716 0\\nE 330 707 345 716 0\\nI 354 708 360 716 0\\nN 362 708 369 716 0\\nT 378 708 386 717 0\\nH 382 708 396 717 0\\nE 387 708 403 717 0\\nS 411 708 419 717 0\\nA 412 708 431 717 0\\nM 419 708 445 717 0\\nE 430 708 445 717 0\\nS 453 708 460 717 0\\nE 462 708 469 717 0\\nQ 470 707 477 717 0\\nU 478 708 486 717 0\\nE 480 707 494 718 0\\nN 487 708 504 717 0\\nC 498 707 513 718 0\\nE 505 708 521 718 0\\nA 529 708 539 718 0\\nS 529 708 546 718 0\\nT 554 708 564 718 0\\nH 554 708 579 718 0\\nE 564 708 583 718 0\\nY 580 708 588 718 0\\nA 595 708 613 718 0\\nP 601 707 616 718 0\\nP 615 708 622 718 0\\nE 617 707 632 718 0\\nA 624 707 639 718 0\\nR 623 707 656 717 0\\nE 640 707 655 718 0\\nD 658 707 665 716 0\\nI 182 693 190 702 0\\nN 191 693 199 702 0\\nT 209 693 217 702 0\\nH 218 693 226 702 0\\nE 227 693 234 702 0\\nO 244 693 252 702 0\\nR 253 693 261 702 0\\nI 255 693 269 702 0\\nG 262 693 279 702 0\\nI 280 693 286 702 0\\nN 288 693 295 702 0\\nA 290 693 304 702 0\\nL 296 693 304 702 0\\n. 305 693 318 702 0\\nP 183 637 191 646 0\\nA 183 637 191 646 0\\nG 191 637 208 646 0\\nE 209 637 217 646 0\\nN 222 635 233 646 0\\nU 222 637 248 646 0\\nM 235 635 249 646 0\\nB 241 635 256 646 0\\nE 249 637 257 646 0\\nR 258 637 275 646 0\\n( 267 635 282 646 0\\nS 278 635 281 646 0\\n) 284 635 297 646 0\\nW 566 639 574 647 0\\nE 566 639 582 647 0\\nR 576 639 590 647 0\\nE 583 639 600 647 0\\nM 604 639 613 647 0\\nI 615 638 621 647 0\\nS 623 639 630 647 0\\nS 624 637 639 647 0\\nI 632 638 647 647 0\\nN 648 638 656 647 0\\nG 658 637 665 646 0\\nI 183 623 190 632 0\\nN 192 623 199 632 0\\nT 209 623 217 632 0\\nH 209 623 226 632 0\\nE 227 623 235 632 0\\nO 244 623 252 632 0\\nR 253 623 261 632 0\\nI 256 623 270 633 0\\nG 263 623 269 632 0\\nI 271 624 279 632 0\\nN 280 624 287 633 0\\nA 288 624 295 632 0\\nL 296 624 304 633 0\\n, 305 624 313 633 0\\nP 183 567 191 576 0\\nO 192 568 200 576 0\\nO 201 568 208 576 0\\nR 210 568 218 576 0\\nQ 227 566 235 576 0\\nU 228 566 244 577 0\\nA 236 568 244 577 0\\nL 245 568 253 577 0\\nI 254 568 262 577 0\\nT 263 568 270 577 0\\nY 271 568 287 577 0\\no 296 568 304 577 0\\nn 305 568 313 577 0\\nr 308 568 319 577 0\\nc 314 568 329 577 0\\nr 331 568 337 577 0\\nN 339 568 346 577 0\\nA 347 569 355 577 0\\nL 356 568 364 577 0\\n. 367 569 370 571 0\\nf 395 566 407 585 0\\na 403 569 416 579 0\\nc 408 566 430 585 0\\ni 417 569 436 585 0\\nl 435 569 465 581 0\\nZ 392 558 395 565 0\\nO 183 512 191 520 0\\nV 183 512 203 521 0\\nE 192 512 208 520 0\\nR 209 512 218 520 0\\nL 214 512 228 521 0\\nA 219 512 235 521 0\\nY 236 512 243 521 0\\nI 255 512 262 521 0\\nT 263 512 271 521 0\\nE 272 512 280 521 0\\nM 281 512 289 521 0\\nC 300 513 307 521 0\\nO 308 513 315 521 0\\nU 309 513 324 521 0\\nL 316 513 324 521 0\\nD 325 513 341 521 0\\nN 351 512 359 521 0\\nO 351 513 367 521 0\\nT 368 512 376 521 0\\nB 387 513 393 521 0\\nE 394 512 401 521 0\\nR 412 512 420 521 0\\nE 412 512 428 521 0\\nM 429 513 437 521 0\\nO 430 512 445 521 0\\nV 438 513 445 521 0\\nE 446 513 462 521 0\\nD 463 513 470 521 0\\nW 480 513 489 521 0\\nI 490 513 496 522 0\\nT 491 512 506 522 0\\nH 498 513 514 521 0\\nO 515 513 523 521 0\\nU 517 512 532 522 0\\nT 524 512 541 521 0\\nD 552 513 560 521 0\\nA 554 512 569 521 0\\nN 561 512 576 521 0\\nA 560 512 586 521 0\\nG 586 513 594 521 0\\nE 595 513 603 521 0\\nT 613 512 621 521 0\\nO 622 513 630 521 0\\nT 639 512 648 521 0\\nH 639 512 657 521 0\\nE 658 513 665 521 0\\nO 183 498 191 506 0\\nR 186 498 200 507 0\\nI 192 498 200 506 0\\nG 201 498 217 506 0\\nI 219 498 226 507 0\\nN 221 498 235 507 0\\nA 227 498 235 507 0\\nL 236 498 244 507 0\\n. 245 498 259 507 0\\nN 182 442 191 451 0\\nO 192 442 200 451 0\\nD 210 442 217 451 0\\nO 218 442 226 451 0\\nC 228 442 235 451 0\\nU 229 438 244 452 0\\nM 236 443 261 452 0\\nE 248 438 262 452 0\\nN 255 438 269 452 0\\nT 262 438 279 452 0\\nS 280 444 287 452 0\\nW 296 444 304 452 0\\nE 296 444 312 452 0\\nR 308 444 323 452 0\\nE 313 444 329 452 0\\nF 339 444 346 452 0\\nO 348 444 355 452 0\\nU 350 443 365 452 0\\nN 356 443 372 452 0\\nD 373 443 380 452 0\\nW 389 443 397 452 0\\nI 398 443 405 452 0\\nT 399 443 414 452 0\\nH 406 443 423 452 0\\nI 424 443 431 452 0\\nN 432 443 440 452 0\\nT 448 443 456 452 0\\nH 457 443 464 452 0\\nE 465 443 473 452 0\\nO 482 443 490 452 0\\nR 491 443 500 452 0\\nI 501 443 507 452 0\\nG 509 443 517 452 0\\nI 518 443 525 452 0\\nN 526 443 535 452 0\\nA 528 443 542 452 0\\nL 535 443 543 452 0\\n: 545 443 558 452 0\\n© 230 413 234 424 0\\n) 263 414 267 425 0\\nF 314 416 323 426 0\\nI 314 416 329 426 0\\nL 324 416 339 426 0\\nE 331 416 346 425 0\\nF 356 416 363 425 0\\nO 364 416 372 425 0\\nL 373 416 381 425 0\\nD 382 416 389 424 0\\nE 389 416 396 425 0\\nR 398 416 406 425 0\\n© 230 385 234 397 0\\n) 264 385 267 398 0\\nR 313 388 322 398 0\\nE 313 388 329 398 0\\nD 331 388 338 397 0\\nR 339 389 347 397 0\\nO 348 388 355 397 0\\nP 356 388 364 397 0\\nE 365 388 372 397 0\\nE 381 388 388 397 0\\nX 389 388 396 397 0\\nP 398 388 405 396 0\\nA 400 388 416 397 0\\nN 406 388 423 396 0\\nD 424 388 431 396 0\\nA 432 388 440 396 0\\nB 441 388 448 396 0\\nL 441 388 457 397 0\\nE 450 388 464 397 0\\nF 474 388 481 397 0\\nI 483 388 490 397 0\\nL 485 388 500 397 0\\nE 492 388 508 397 0\\nc 230 357 234 369 0\\no 233 357 234 369 0\\nH 313 361 322 370 0\\nA 313 361 338 370 0\\nN 323 361 338 370 0\\nG 339 361 346 370 0\\nI 340 361 355 370 0\\nN 348 361 354 370 0\\nG 356 361 372 370 0\\nF 381 360 388 369 0\\nI 381 360 396 369 0\\nL 390 360 396 369 0\\nE 398 360 414 369 0\\n© 230 330 234 341 0\\n) 264 329 267 342 0\\nE 313 333 322 342 0\\nN 313 333 329 342 0\\nV 313 333 346 342 0\\nE 330 333 346 342 0\\nL 340 333 355 342 0\\nO 348 333 363 342 0\\nP 357 333 372 342 0\\nE 364 333 380 342 0\\n, 374 333 380 342 0\\na 230 301 234 313 0\\nn 241 301 256 314 0\\ne 248 301 264 314 0\\n) 263 302 267 314 0\\nO 313 305 322 314 0\\nT 313 305 329 314 0\\nH 323 305 338 314 0\\nE 330 306 338 314 0\\nR 339 305 355 314 0\\n( 362 303 366 314 0\\nS 369 305 375 314 0\\nP 377 305 384 314 0\\nE 385 305 392 314 0\\nC 386 301 401 314 0\\nI 394 305 408 313 0\\nF 403 301 418 314 0\\nY 410 305 418 313 0\\n) 419 301 432 314 0\\n~ 440 300 665 304 0\\nD 183 248 191 257 0\\nO 192 249 200 257 0\\nC 193 248 212 258 0\\nU 202 248 221 258 0\\nM 201 249 234 257 0\\nE 221 248 235 258 0\\nN 235 249 243 257 0\\nT 244 249 253 258 0\\nC 270 250 278 258 0\\nO 279 250 286 258 0\\nP 279 250 294 259 0\\nI 288 250 302 259 0\\nE 304 250 311 259 0\\nS 312 251 319 259 0\\nW 336 251 345 259 0\\nE 336 251 353 259 0\\nR 344 251 364 259 0\\nE 354 251 370 259 0\\nR 386 249 394 259 0\\nE 386 250 401 259 0\\nP 403 250 410 258 0\\nR 411 249 419 258 0\\nO 420 249 427 258 0\\nD 429 249 436 258 0\\nU 430 249 445 259 0\\nC 437 249 452 258 0\\nE 454 249 460 258 0\\nD 462 249 469 257 0\\nI 486 248 493 257 0\\nN 495 248 503 257 0\\nC 520 248 529 257 0\\nO 520 249 537 257 0\\nL 531 248 550 257 0\\nO 538 249 554 257 0\\nR 555 248 564 257 0\\n[ 579 249 587 257 0\\n0 588 249 596 257 0\\nP 613 249 620 259 0\\nE 613 249 620 258 0\\nR 621 249 629 258 0\\nM 630 249 646 258 0\\nI 648 250 655 259 0\\nT 656 250 664 259 0\\nC 183 235 191 243 0\\nO 192 235 200 243 0\\nR 193 235 212 244 0\\nR 201 235 226 243 0\\nE 211 235 226 244 0\\nC 218 235 238 244 0\\nT 227 235 243 244 0\\nI 245 236 251 244 0\\nO 246 235 261 244 0\\nN 253 236 270 244 0\\nI 280 236 286 245 0\\nN 288 236 295 245 0\\nT 296 236 304 245 0\\nE 305 237 311 245 0\\nR 313 237 321 245 0\\nP 322 237 329 245 0\\nR 323 236 338 245 0\\nE 329 237 346 245 0\\nT 347 237 354 245 0\\nA 355 237 363 245 0\\nT 356 236 371 245 0\\nI 364 237 372 245 0\\nO 373 237 379 245 0\\nN 380 237 387 245 0\\n, 389 236 402 245 0\\nB 183 181 190 189 0\\nA 191 181 199 189 0\\nT 200 181 208 189 0\\nE 202 181 217 189 0\\nS 209 181 225 189 0\\nN 235 181 247 191 0\\nU 235 181 261 190 0\\nM 246 181 261 191 0\\nB 263 182 269 190 0\\nE 271 182 278 190 0\\nR 279 182 287 191 0\\n_ 295 179 298 180 0\\n_ 295 179 315 180 0\\n_ 306 179 323 180 0\\nN 516 180 524 189 0\\nO 526 181 533 189 0\\nT 534 180 542 189 0\\nU 552 180 560 189 0\\nS 554 180 568 189 0\\nE 561 180 568 189 0\\nD 570 180 577 189 0\\n. 578 180 592 188 0\\nO 182 126 190 134 0\\nT 191 126 199 134 0\\nH 200 126 208 134 0\\nE 210 126 217 134 0\\nR 218 126 226 134 0\\nV 235 127 243 135 0\\nA 238 127 253 136 0\\nR 244 127 261 135 0\\nI 263 127 269 136 0\\nA 264 127 279 136 0\\nN 270 128 286 136 0\\nC 287 128 295 136 0\\nE 296 127 303 136 0\\n( 315 126 318 136 0\\nE 321 128 328 136 0\\nX 330 129 337 137 0\\nP 332 126 346 138 0\\nL 339 129 346 137 0\\nA 347 129 363 138 0\\nI 355 126 370 138 0\\nN 364 129 370 137 0\\n) 372 128 379 137 0\\n. 381 126 392 136 0\\n'"
      ]
     },
     "execution_count": 13,
     "metadata": {},
     "output_type": "execute_result"
    }
   ],
   "source": [
    "pytesseract.image_to_boxes(Image.open('images/0001463448.png'))"
   ]
  },
  {
   "cell_type": "code",
   "execution_count": 15,
   "id": "0674ed84",
   "metadata": {},
   "outputs": [],
   "source": [
    "# print(pytesseract.image_to_boxes(Image.open('images/0001463448.png')))"
   ]
  },
  {
   "cell_type": "markdown",
   "id": "638187ec",
   "metadata": {},
   "source": [
    "### Get verbose data including boxes, confidences, line and page numbers"
   ]
  },
  {
   "cell_type": "code",
   "execution_count": 16,
   "id": "d1ee8ef4",
   "metadata": {},
   "outputs": [
    {
     "data": {
      "text/plain": [
       "'level\\tpage_num\\tblock_num\\tpar_num\\tline_num\\tword_num\\tleft\\ttop\\twidth\\theight\\tconf\\ttext\\n1\\t1\\t0\\t0\\t0\\t0\\t0\\t0\\t762\\t1000\\t-1\\t\\n2\\t1\\t1\\t0\\t0\\t0\\t300\\t101\\t152\\t32\\t-1\\t\\n3\\t1\\t1\\t1\\t0\\t0\\t300\\t101\\t152\\t32\\t-1\\t\\n4\\t1\\t1\\t1\\t1\\t0\\t300\\t101\\t152\\t12\\t-1\\t\\n5\\t1\\t1\\t1\\t1\\t1\\t300\\t103\\t42\\t10\\t92\\tBROWN\\n5\\t1\\t1\\t1\\t1\\t2\\t352\\t103\\t6\\t9\\t92\\t&\\n5\\t1\\t1\\t1\\t1\\t3\\t367\\t101\\t85\\t11\\t95\\tWILLIAMSON\\n4\\t1\\t1\\t1\\t2\\t0\\t306\\t120\\t139\\t13\\t-1\\t\\n5\\t1\\t1\\t1\\t2\\t1\\t306\\t122\\t33\\t11\\t95\\t1994\\n5\\t1\\t1\\t1\\t2\\t2\\t362\\t120\\t83\\t10\\t71\\tCOLLECTION\\n2\\t1\\t2\\t0\\t0\\t0\\t265\\t143\\t222\\t13\\t-1\\t\\n3\\t1\\t2\\t1\\t0\\t0\\t265\\t143\\t222\\t13\\t-1\\t\\n4\\t1\\t2\\t1\\t1\\t0\\t265\\t143\\t222\\t13\\t-1\\t\\n5\\t1\\t2\\t1\\t1\\t1\\t256\\t136\\t115\\t28\\t91\\tPHOTOCOPYING\\n5\\t1\\t2\\t1\\t1\\t2\\t370\\t136\\t73\\t28\\t19\\tVARIANCE\\n5\\t1\\t2\\t1\\t1\\t3\\t447\\t136\\t38\\t28\\t81\\tFORM\\n2\\t1\\t3\\t0\\t0\\t0\\t95\\t178\\t564\\t6\\t-1\\t\\n3\\t1\\t3\\t1\\t0\\t0\\t95\\t178\\t564\\t6\\t-1\\t\\n4\\t1\\t3\\t1\\t1\\t0\\t95\\t178\\t564\\t6\\t-1\\t\\n5\\t1\\t3\\t1\\t1\\t1\\t95\\t178\\t564\\t6\\t95\\t \\n2\\t1\\t4\\t0\\t0\\t0\\t95\\t192\\t349\\t20\\t-1\\t\\n3\\t1\\t4\\t1\\t0\\t0\\t95\\t192\\t349\\t20\\t-1\\t\\n4\\t1\\t4\\t1\\t1\\t0\\t95\\t192\\t349\\t20\\t-1\\t\\n5\\t1\\t4\\t1\\t1\\t1\\t95\\t199\\t34\\t10\\t76\\t‘This\\n5\\t1\\t4\\t1\\t1\\t2\\t140\\t200\\t33\\t9\\t96\\tform\\n5\\t1\\t4\\t1\\t1\\t3\\t182\\t202\\t26\\t7\\t96\\twas\\n5\\t1\\t4\\t1\\t1\\t4\\t217\\t200\\t52\\t12\\t96\\tplaced\\n5\\t1\\t4\\t1\\t1\\t5\\t279\\t200\\t50\\t9\\t96\\tbefore\\n5\\t1\\t4\\t1\\t1\\t6\\t338\\t199\\t41\\t10\\t83\\tBates\\n5\\t1\\t4\\t1\\t1\\t7\\t389\\t199\\t17\\t9\\t70\\t1p\\n5\\t1\\t4\\t1\\t1\\t8\\t431\\t192\\t13\\t16\\t43\\t__(?\\n2\\t1\\t5\\t0\\t0\\t0\\t451\\t188\\t153\\t24\\t-1\\t\\n3\\t1\\t5\\t1\\t0\\t0\\t451\\t188\\t153\\t24\\t-1\\t\\n4\\t1\\t5\\t1\\t1\\t0\\t451\\t188\\t153\\t24\\t-1\\t\\n5\\t1\\t5\\t1\\t1\\t1\\t451\\t188\\t153\\t24\\t95\\t  \\n2\\t1\\t6\\t0\\t0\\t0\\t239\\t227\\t273\\t32\\t-1\\t\\n3\\t1\\t6\\t1\\t0\\t0\\t239\\t227\\t273\\t24\\t-1\\t\\n4\\t1\\t6\\t1\\t1\\t0\\t239\\t227\\t273\\t11\\t-1\\t\\n5\\t1\\t6\\t1\\t1\\t1\\t239\\t228\\t17\\t10\\t92\\tAT\\n5\\t1\\t6\\t1\\t1\\t2\\t265\\t228\\t26\\t9\\t92\\tTHE\\n5\\t1\\t6\\t1\\t1\\t3\\t300\\t228\\t33\\t9\\t92\\tTIME\\n5\\t1\\t6\\t1\\t1\\t4\\t343\\t228\\t16\\t8\\t96\\tOF\\n5\\t1\\t6\\t1\\t1\\t5\\t368\\t227\\t107\\t11\\t96\\tREPRODUCTION,\\n5\\t1\\t6\\t1\\t1\\t6\\t486\\t227\\t26\\t9\\t96\\tTHE\\n4\\t1\\t6\\t1\\t2\\t0\\t249\\t231\\t252\\t28\\t-1\\t\\n5\\t1\\t6\\t1\\t2\\t1\\t249\\t242\\t76\\t9\\t93\\tFOLLOWING\\n5\\t1\\t6\\t1\\t2\\t2\\t334\\t242\\t8\\t8\\t34\\tNt\\n5\\t1\\t6\\t1\\t2\\t3\\t385\\t231\\t13\\t28\\t10\\tot\\n5\\t1\\t6\\t1\\t2\\t4\\t498\\t242\\t3\\t7\\t45\\t7\\n2\\t1\\t7\\t0\\t0\\t0\\t182\\t282\\t483\\t25\\t-1\\t\\n3\\t1\\t7\\t1\\t0\\t0\\t182\\t282\\t483\\t25\\t-1\\t\\n4\\t1\\t7\\t1\\t1\\t0\\t183\\t282\\t482\\t11\\t-1\\t\\n5\\t1\\t7\\t1\\t1\\t1\\t183\\t284\\t69\\t9\\t96\\tDOCUMENT\\n5\\t1\\t7\\t1\\t1\\t2\\t261\\t284\\t50\\t9\\t96\\tCOPIES\\n5\\t1\\t7\\t1\\t1\\t3\\t319\\t284\\t26\\t9\\t96\\tARE\\n5\\t1\\t7\\t1\\t1\\t4\\t354\\t284\\t15\\t8\\t96\\tIN\\n5\\t1\\t7\\t1\\t1\\t5\\t378\\t283\\t25\\t9\\t96\\tTHE\\n5\\t1\\t7\\t1\\t1\\t6\\t411\\t283\\t34\\t9\\t96\\tSAME\\n5\\t1\\t7\\t1\\t1\\t7\\t453\\t282\\t68\\t11\\t96\\tSEQUENCE\\n5\\t1\\t7\\t1\\t1\\t8\\t529\\t282\\t17\\t10\\t96\\tAS\\n5\\t1\\t7\\t1\\t1\\t9\\t554\\t282\\t34\\t10\\t96\\tTHEY\\n5\\t1\\t7\\t1\\t1\\t10\\t595\\t282\\t70\\t11\\t93\\tAPPEARED\\n4\\t1\\t7\\t1\\t2\\t0\\t182\\t298\\t136\\t9\\t-1\\t\\n5\\t1\\t7\\t1\\t2\\t1\\t182\\t298\\t17\\t9\\t86\\tIN\\n5\\t1\\t7\\t1\\t2\\t2\\t209\\t298\\t25\\t9\\t93\\tTHE\\n5\\t1\\t7\\t1\\t2\\t3\\t244\\t298\\t74\\t9\\t95\\tORIGINAL.\\n2\\t1\\t8\\t0\\t0\\t0\\t183\\t353\\t482\\t24\\t-1\\t\\n3\\t1\\t8\\t1\\t0\\t0\\t183\\t353\\t482\\t24\\t-1\\t\\n4\\t1\\t8\\t1\\t1\\t0\\t183\\t353\\t482\\t12\\t-1\\t\\n5\\t1\\t8\\t1\\t1\\t1\\t183\\t354\\t34\\t9\\t85\\tPAGE\\n5\\t1\\t8\\t1\\t1\\t2\\t222\\t354\\t75\\t11\\t95\\tNUMBER(S)\\n5\\t1\\t8\\t1\\t1\\t3\\t566\\t353\\t34\\t8\\t96\\tWERE\\n5\\t1\\t8\\t1\\t1\\t4\\t604\\t353\\t61\\t10\\t95\\tMISSING\\n4\\t1\\t8\\t1\\t2\\t0\\t183\\t367\\t130\\t10\\t-1\\t\\n5\\t1\\t8\\t1\\t2\\t1\\t183\\t368\\t16\\t9\\t86\\tIN\\n5\\t1\\t8\\t1\\t2\\t2\\t209\\t368\\t26\\t9\\t86\\tTHE\\n5\\t1\\t8\\t1\\t2\\t3\\t244\\t367\\t69\\t10\\t85\\tORIGINAL,\\n2\\t1\\t9\\t0\\t0\\t0\\t183\\t415\\t282\\t27\\t-1\\t\\n3\\t1\\t9\\t1\\t0\\t0\\t183\\t415\\t282\\t27\\t-1\\t\\n4\\t1\\t9\\t1\\t1\\t0\\t183\\t415\\t282\\t19\\t-1\\t\\n5\\t1\\t9\\t1\\t1\\t1\\t183\\t424\\t35\\t9\\t96\\tPOOR\\n5\\t1\\t9\\t1\\t1\\t2\\t227\\t423\\t60\\t11\\t93\\tQUALITY\\n5\\t1\\t9\\t1\\t1\\t3\\t296\\t423\\t74\\t9\\t12\\tonrcrNAL.\\n5\\t1\\t9\\t1\\t1\\t4\\t395\\t415\\t70\\t19\\t34\\tfacil\\n4\\t1\\t9\\t1\\t2\\t0\\t392\\t435\\t3\\t7\\t-1\\t\\n5\\t1\\t9\\t1\\t2\\t1\\t392\\t435\\t3\\t7\\t70\\tZ\\n2\\t1\\t10\\t0\\t0\\t0\\t183\\t478\\t482\\t24\\t-1\\t\\n3\\t1\\t10\\t1\\t0\\t0\\t183\\t478\\t482\\t24\\t-1\\t\\n4\\t1\\t10\\t1\\t1\\t0\\t183\\t478\\t482\\t10\\t-1\\t\\n5\\t1\\t10\\t1\\t1\\t1\\t183\\t479\\t60\\t9\\t69\\tOVERLAY\\n5\\t1\\t10\\t1\\t1\\t2\\t255\\t479\\t34\\t9\\t96\\tITEM\\n5\\t1\\t10\\t1\\t1\\t3\\t300\\t479\\t41\\t8\\t96\\tCOULD\\n5\\t1\\t10\\t1\\t1\\t4\\t351\\t479\\t25\\t9\\t94\\tNOT\\n5\\t1\\t10\\t1\\t1\\t5\\t387\\t479\\t14\\t9\\t95\\tBE\\n5\\t1\\t10\\t1\\t1\\t6\\t412\\t479\\t58\\t9\\t88\\tREMOVED\\n5\\t1\\t10\\t1\\t1\\t7\\t480\\t478\\t61\\t10\\t93\\tWITHOUT\\n5\\t1\\t10\\t1\\t1\\t8\\t552\\t479\\t51\\t9\\t84\\tDANAGE\\n5\\t1\\t10\\t1\\t1\\t9\\t613\\t479\\t17\\t9\\t72\\tTO\\n5\\t1\\t10\\t1\\t1\\t10\\t639\\t479\\t26\\t9\\t95\\tTHE\\n4\\t1\\t10\\t1\\t2\\t0\\t183\\t493\\t76\\t9\\t-1\\t\\n5\\t1\\t10\\t1\\t2\\t1\\t183\\t493\\t76\\t9\\t89\\tORIGINAL.\\n2\\t1\\t11\\t0\\t0\\t0\\t182\\t548\\t376\\t14\\t-1\\t\\n3\\t1\\t11\\t1\\t0\\t0\\t182\\t548\\t376\\t14\\t-1\\t\\n4\\t1\\t11\\t1\\t1\\t0\\t182\\t548\\t376\\t14\\t-1\\t\\n5\\t1\\t11\\t1\\t1\\t1\\t182\\t549\\t18\\t9\\t96\\tNO\\n5\\t1\\t11\\t1\\t1\\t2\\t210\\t548\\t77\\t14\\t96\\tDOCUMENTS\\n5\\t1\\t11\\t1\\t1\\t3\\t296\\t548\\t33\\t8\\t96\\tWERE\\n5\\t1\\t11\\t1\\t1\\t4\\t339\\t548\\t41\\t9\\t96\\tFOUND\\n5\\t1\\t11\\t1\\t1\\t5\\t389\\t548\\t51\\t9\\t96\\tWITHIN\\n5\\t1\\t11\\t1\\t1\\t6\\t448\\t548\\t25\\t9\\t96\\tTHE\\n5\\t1\\t11\\t1\\t1\\t7\\t482\\t548\\t76\\t9\\t96\\tORIGINAL:\\n2\\t1\\t12\\t0\\t0\\t0\\t230\\t574\\t278\\t125\\t-1\\t\\n3\\t1\\t12\\t1\\t0\\t0\\t230\\t574\\t278\\t69\\t-1\\t\\n4\\t1\\t12\\t1\\t1\\t0\\t230\\t574\\t176\\t13\\t-1\\t\\n5\\t1\\t12\\t1\\t1\\t1\\t230\\t575\\t37\\t12\\t41\\t©)\\n5\\t1\\t12\\t1\\t1\\t2\\t314\\t574\\t32\\t10\\t84\\tFILE\\n5\\t1\\t12\\t1\\t1\\t3\\t356\\t575\\t50\\t9\\t95\\tFOLDER\\n4\\t1\\t12\\t1\\t2\\t0\\t230\\t602\\t278\\t13\\t-1\\t\\n5\\t1\\t12\\t1\\t2\\t1\\t230\\t602\\t37\\t13\\t32\\t©)\\n5\\t1\\t12\\t1\\t2\\t2\\t313\\t602\\t59\\t10\\t93\\tREDROPE\\n5\\t1\\t12\\t1\\t2\\t3\\t381\\t603\\t83\\t9\\t91\\tEXPANDABLE\\n5\\t1\\t12\\t1\\t2\\t4\\t474\\t603\\t34\\t9\\t91\\tFILE\\n4\\t1\\t12\\t1\\t3\\t0\\t230\\t630\\t184\\t13\\t-1\\t\\n5\\t1\\t12\\t1\\t3\\t1\\t230\\t631\\t4\\t12\\t18\\tco\\n5\\t1\\t12\\t1\\t3\\t2\\t313\\t630\\t59\\t9\\t88\\tHANGING\\n5\\t1\\t12\\t1\\t3\\t3\\t381\\t631\\t33\\t9\\t90\\tFILE\\n3\\t1\\t12\\t2\\t0\\t0\\t230\\t658\\t150\\t13\\t-1\\t\\n4\\t1\\t12\\t2\\t1\\t0\\t230\\t658\\t150\\t13\\t-1\\t\\n5\\t1\\t12\\t2\\t1\\t1\\t230\\t658\\t37\\t13\\t56\\t©)\\n5\\t1\\t12\\t2\\t1\\t2\\t313\\t658\\t67\\t9\\t69\\tENVELOPE,\\n3\\t1\\t12\\t3\\t0\\t0\\t230\\t686\\t202\\t13\\t-1\\t\\n4\\t1\\t12\\t3\\t1\\t0\\t230\\t686\\t202\\t13\\t-1\\t\\n5\\t1\\t12\\t3\\t1\\t1\\t230\\t686\\t37\\t13\\t42\\tane)\\n5\\t1\\t12\\t3\\t1\\t2\\t313\\t686\\t42\\t9\\t94\\tOTHER\\n5\\t1\\t12\\t3\\t1\\t3\\t362\\t686\\t70\\t13\\t95\\t(SPECIFY)\\n2\\t1\\t13\\t0\\t0\\t0\\t440\\t696\\t225\\t4\\t-1\\t\\n3\\t1\\t13\\t1\\t0\\t0\\t440\\t696\\t225\\t4\\t-1\\t\\n4\\t1\\t13\\t1\\t1\\t0\\t440\\t696\\t225\\t4\\t-1\\t\\n5\\t1\\t13\\t1\\t1\\t1\\t440\\t696\\t225\\t4\\t95\\t \\n2\\t1\\t14\\t0\\t0\\t0\\t183\\t741\\t481\\t24\\t-1\\t\\n3\\t1\\t14\\t1\\t0\\t0\\t183\\t741\\t481\\t24\\t-1\\t\\n4\\t1\\t14\\t1\\t1\\t0\\t183\\t741\\t481\\t11\\t-1\\t\\n5\\t1\\t14\\t1\\t1\\t1\\t183\\t742\\t70\\t10\\t90\\tDOCUMENT\\n5\\t1\\t14\\t1\\t1\\t2\\t270\\t741\\t49\\t9\\t95\\tCOPIES\\n5\\t1\\t14\\t1\\t1\\t3\\t336\\t741\\t34\\t8\\t94\\tWERE\\n5\\t1\\t14\\t1\\t1\\t4\\t386\\t741\\t83\\t10\\t94\\tREPRODUCED\\n5\\t1\\t14\\t1\\t1\\t5\\t486\\t743\\t17\\t9\\t95\\tIN\\n5\\t1\\t14\\t1\\t1\\t6\\t520\\t743\\t44\\t9\\t96\\tCOLOR\\n5\\t1\\t14\\t1\\t1\\t7\\t579\\t743\\t17\\t8\\t51\\t[0\\n5\\t1\\t14\\t1\\t1\\t8\\t613\\t741\\t51\\t10\\t92\\tPERMIT\\n4\\t1\\t14\\t1\\t2\\t0\\t183\\t755\\t219\\t10\\t-1\\t\\n5\\t1\\t14\\t1\\t2\\t1\\t183\\t756\\t87\\t9\\t95\\tCORRECTION\\n5\\t1\\t14\\t1\\t2\\t2\\t280\\t755\\t122\\t9\\t73\\tINTERPRETATION,\\n2\\t1\\t15\\t0\\t0\\t0\\t183\\t809\\t409\\t12\\t-1\\t\\n3\\t1\\t15\\t1\\t0\\t0\\t183\\t809\\t409\\t12\\t-1\\t\\n4\\t1\\t15\\t1\\t1\\t0\\t183\\t809\\t409\\t12\\t-1\\t\\n5\\t1\\t15\\t1\\t1\\t1\\t183\\t811\\t42\\t8\\t96\\tBATES\\n5\\t1\\t15\\t1\\t1\\t2\\t235\\t809\\t52\\t10\\t87\\tNUMBER\\n5\\t1\\t15\\t1\\t1\\t3\\t295\\t820\\t28\\t1\\t44\\t___\\n5\\t1\\t15\\t1\\t1\\t4\\t516\\t811\\t26\\t9\\t95\\tNOT\\n5\\t1\\t15\\t1\\t1\\t5\\t552\\t811\\t40\\t9\\t94\\tUSED.\\n2\\t1\\t16\\t0\\t0\\t0\\t182\\t862\\t210\\t12\\t-1\\t\\n3\\t1\\t16\\t1\\t0\\t0\\t182\\t862\\t210\\t12\\t-1\\t\\n4\\t1\\t16\\t1\\t1\\t0\\t182\\t862\\t210\\t12\\t-1\\t\\n5\\t1\\t16\\t1\\t1\\t1\\t182\\t866\\t44\\t8\\t96\\tOTHER\\n5\\t1\\t16\\t1\\t1\\t2\\t235\\t864\\t68\\t9\\t92\\tVARIANCE\\n5\\t1\\t16\\t1\\t1\\t3\\t315\\t862\\t77\\t12\\t83\\t(EXPLAIN).\\n'"
      ]
     },
     "execution_count": 16,
     "metadata": {},
     "output_type": "execute_result"
    }
   ],
   "source": [
    "pytesseract.image_to_data(Image.open('images/0001463448.png'))"
   ]
  },
  {
   "cell_type": "code",
   "execution_count": 18,
   "id": "901a58eb",
   "metadata": {},
   "outputs": [],
   "source": [
    "# print(pytesseract.image_to_data(Image.open('images/0001463448.png')))"
   ]
  },
  {
   "cell_type": "markdown",
   "id": "119af5e2",
   "metadata": {},
   "source": [
    "### Get information about orientation and script detection"
   ]
  },
  {
   "cell_type": "code",
   "execution_count": 19,
   "id": "208c07d3",
   "metadata": {},
   "outputs": [
    {
     "data": {
      "text/plain": [
       "'Page number: 0\\nOrientation in degrees: 180\\nRotate: 180\\nOrientation confidence: 0.96\\nScript: Katakana\\nScript confidence: 0.00\\n'"
      ]
     },
     "execution_count": 19,
     "metadata": {},
     "output_type": "execute_result"
    }
   ],
   "source": [
    "pytesseract.image_to_osd(Image.open('images/0001463448.png'))"
   ]
  },
  {
   "cell_type": "code",
   "execution_count": 20,
   "id": "6fda01f5",
   "metadata": {},
   "outputs": [
    {
     "name": "stdout",
     "output_type": "stream",
     "text": [
      "Page number: 0\n",
      "Orientation in degrees: 180\n",
      "Rotate: 180\n",
      "Orientation confidence: 0.96\n",
      "Script: Katakana\n",
      "Script confidence: 0.00\n",
      "\n"
     ]
    }
   ],
   "source": [
    "print(pytesseract.image_to_osd(Image.open('images/0001463448.png')))"
   ]
  },
  {
   "cell_type": "markdown",
   "id": "d7e755fa",
   "metadata": {},
   "source": [
    "### Get a searchable PDF"
   ]
  },
  {
   "cell_type": "code",
   "execution_count": null,
   "id": "56093fae",
   "metadata": {},
   "outputs": [],
   "source": [
    "pdf = pytesseract.image_to_pdf_or_hocr('test.png', extension='pdf')"
   ]
  },
  {
   "cell_type": "code",
   "execution_count": null,
   "id": "9a567718",
   "metadata": {},
   "outputs": [],
   "source": [
    "with open('test.pdf', 'w+b') as f:\n",
    "    f.write(pdf) # pdf type is bytes by default"
   ]
  },
  {
   "cell_type": "markdown",
   "id": "cdad6070",
   "metadata": {},
   "source": [
    "### Get HOCR output"
   ]
  },
  {
   "cell_type": "code",
   "execution_count": null,
   "id": "8af859b4",
   "metadata": {},
   "outputs": [],
   "source": [
    "hocr = pytesseract.image_to_pdf_or_hocr('test.png', extension='hocr')\n",
    "hocr"
   ]
  },
  {
   "cell_type": "markdown",
   "id": "0435dec1",
   "metadata": {},
   "source": [
    "### Get ALTO XML output"
   ]
  },
  {
   "cell_type": "code",
   "execution_count": null,
   "id": "77d7fa5c",
   "metadata": {},
   "outputs": [],
   "source": [
    "xml = pytesseract.image_to_alto_xml('test.png')"
   ]
  },
  {
   "cell_type": "markdown",
   "id": "21319c72",
   "metadata": {},
   "source": [
    "<h1><center>Functions</center></h1>\n",
    "\n",
    "\n",
    "```get_languages``` - Returns all currently supported languages by Tesseract OCR.\n",
    "\n",
    "```get_tesseract_version``` - Returns the Tesseract version installed in the system.\n",
    "\n",
    "```image_to_string``` - Returns unmodified output as string from Tesseract OCR processing\n",
    "\n",
    "```image_to_boxes``` - Returns result containing recognized characters and their box boundaries\n",
    "\n",
    "```image_to_data``` - Returns result containing box boundaries, confidences, and other information. Requires Tesseract 3.05+. For more information, please check the Tesseract TSV documentation\n",
    "\n",
    "```image_to_osd``` - Returns result containing information about orientation and script detection.\n",
    "\n",
    "```image_to_alto_xml``` - Returns result in the form of Tesseract’s ALTO XML format.\n",
    "\n",
    "```run_and_get_output``` - Returns the raw output from Tesseract OCR. Gives a bit more control over the parameters that are sent to tesseract."
   ]
  },
  {
   "cell_type": "code",
   "execution_count": null,
   "id": "f86e50c9",
   "metadata": {},
   "outputs": [],
   "source": []
  },
  {
   "cell_type": "code",
   "execution_count": null,
   "id": "3646bf03",
   "metadata": {},
   "outputs": [],
   "source": []
  },
  {
   "cell_type": "code",
   "execution_count": null,
   "id": "ae93ef30",
   "metadata": {},
   "outputs": [],
   "source": []
  },
  {
   "cell_type": "code",
   "execution_count": null,
   "id": "01521015",
   "metadata": {},
   "outputs": [],
   "source": [
    "import pytesseract\n",
    "\n",
    "from PIL import Image\n",
    "\n",
    "### Simple image to string\n",
    "\n",
    "pytesseract.image_to_string(Image.open('images/0001463448.png'))\n",
    "\n",
    "print(pytesseract.image_to_string(Image.open('images/0001463448.png')))\n",
    "\n",
    "### List of available languages\n",
    "\n",
    "pytesseract.get_languages(config='')\n",
    "\n",
    "print(pytesseract.get_languages(config=''))\n",
    "\n",
    "### French text image to string\n",
    "\n",
    "# pytesseract.image_to_string(Image.open('test-european.jpg'), lang='fra')\n",
    "\n",
    "print(pytesseract.image_to_string(Image.open('test-european.jpg'), lang='fra'))\n",
    "\n",
    "### Batch processing with a single file containing the list of multiple image file paths\n",
    "\n",
    "# print(pytesseract.image_to_string('images.txt'))\n",
    "\n",
    "### Timeout/terminate the tesseract job after a period of time\n",
    "\n",
    "# try:\n",
    "#     print(pytesseract.image_to_string('test.jpg', timeout=2)) # Timeout after 2 seconds\n",
    "#     print(pytesseract.image_to_string('test.jpg', timeout=0.5)) # Timeout after half a second\n",
    "# except RuntimeError as timeout_error:\n",
    "#     # Tesseract processing is terminated\n",
    "#     pass\n",
    "\n",
    "### Get bounding box estimates\n",
    "\n",
    "pytesseract.image_to_boxes(Image.open('images/0001463448.png'))\n",
    "\n",
    "# print(pytesseract.image_to_boxes(Image.open('images/0001463448.png')))\n",
    "\n",
    "### Get verbose data including boxes, confidences, line and page numbers\n",
    "\n",
    "pytesseract.image_to_data(Image.open('images/0001463448.png'))\n",
    "\n",
    "# print(pytesseract.image_to_data(Image.open('images/0001463448.png')))\n",
    "\n",
    "### Get information about orientation and script detection\n",
    "\n",
    "pytesseract.image_to_osd(Image.open('images/0001463448.png'))\n",
    "\n",
    "print(pytesseract.image_to_osd(Image.open('images/0001463448.png')))\n",
    "\n",
    "### Get a searchable PDF\n",
    "\n",
    "pdf = pytesseract.image_to_pdf_or_hocr('test.png', extension='pdf')\n",
    "\n",
    "with open('test.pdf', 'w+b') as f:\n",
    "    f.write(pdf) # pdf type is bytes by default\n",
    "\n",
    "### Get HOCR output\n",
    "\n",
    "hocr = pytesseract.image_to_pdf_or_hocr('test.png', extension='hocr')\n",
    "hocr\n",
    "\n",
    "### Get ALTO XML output\n",
    "\n",
    "xml = pytesseract.image_to_alto_xml('test.png')\n",
    "\n",
    "<h1><center>Functions</center></h1>\n",
    "\n",
    "\n",
    "```get_languages``` - Returns all currently supported languages by Tesseract OCR.\n",
    "\n",
    "```get_tesseract_version``` - Returns the Tesseract version installed in the system.\n",
    "\n",
    "```image_to_string``` - Returns unmodified output as string from Tesseract OCR processing\n",
    "\n",
    "```image_to_boxes``` - Returns result containing recognized characters and their box boundaries\n",
    "\n",
    "```image_to_data``` - Returns result containing box boundaries, confidences, and other information. Requires Tesseract 3.05+. For more information, please check the Tesseract TSV documentation\n",
    "\n",
    "```image_to_osd``` - Returns result containing information about orientation and script detection.\n",
    "\n",
    "```image_to_alto_xml``` - Returns result in the form of Tesseract’s ALTO XML format.\n",
    "\n",
    "```run_and_get_output``` - Returns the raw output from Tesseract OCR. Gives a bit more control over the parameters that are sent to tesseract.\n",
    "\n",
    "\n",
    "\n",
    "\n",
    "\n"
   ]
  }
 ],
 "metadata": {
  "kernelspec": {
   "display_name": "Python 3 (ipykernel)",
   "language": "python",
   "name": "python3"
  },
  "language_info": {
   "codemirror_mode": {
    "name": "ipython",
    "version": 3
   },
   "file_extension": ".py",
   "mimetype": "text/x-python",
   "name": "python",
   "nbconvert_exporter": "python",
   "pygments_lexer": "ipython3",
   "version": "3.9.18"
  }
 },
 "nbformat": 4,
 "nbformat_minor": 5
}
