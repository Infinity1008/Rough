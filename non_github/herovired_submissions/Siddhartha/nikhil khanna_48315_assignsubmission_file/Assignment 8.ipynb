{
 "cells": [
  {
   "cell_type": "markdown",
   "id": "cfd940bd",
   "metadata": {},
   "source": [
    "##The average selling price of a food item in a restaurant is Rs 250.00 and the standard deviation\n",
    "of the price is Rs 47.00. The median value is an indication of the central value of the data and is\n",
    "close to the mean of Rs 202.00. If you know these details, will you become a regular customer\n",
    "of the restaurant?"
   ]
  },
  {
   "cell_type": "code",
   "execution_count": null,
   "id": "67d2b38f",
   "metadata": {},
   "outputs": [],
   "source": []
  },
  {
   "cell_type": "code",
   "execution_count": 1,
   "id": "85a57562",
   "metadata": {},
   "outputs": [
    {
     "name": "stdout",
     "output_type": "stream",
     "text": [
      "Coefficient of Variation: 0.188\n"
     ]
    }
   ],
   "source": [
    "mean_price = 250.00\n",
    "std_dev = 47.00\n",
    "cv = std_dev / mean_price\n",
    "print(\"Coefficient of Variation:\", cv)"
   ]
  },
  {
   "cell_type": "code",
   "execution_count": 2,
   "id": "1a7dad30",
   "metadata": {},
   "outputs": [
    {
     "name": "stdout",
     "output_type": "stream",
     "text": [
      "Skewness: 1.0212765957446808\n"
     ]
    }
   ],
   "source": [
    "import scipy.stats as stats\n",
    "\n",
    "expected_median = 202.00\n",
    "skewness = (mean_price - expected_median) / std_dev\n",
    "print(\"Skewness:\", skewness)\n"
   ]
  },
  {
   "cell_type": "markdown",
   "id": "21c0904f",
   "metadata": {},
   "source": [
    "It means Skewness is postive but the prices are relatively high so it is good to try food once in a while but overall the price \n",
    "is too high"
   ]
  },
  {
   "cell_type": "markdown",
   "id": "f7cf5cca",
   "metadata": {},
   "source": [
    "####In a residential locality, the average size of a house is 2224 square feet with a standard\n",
    "deviation of 248 square feet which indicates that the distribution of size is fairly the same\n",
    "across the data and the median value of the house is 2220 square feet. Does the locality have\n",
    "bigger or smaller-sized houses?"
   ]
  },
  {
   "cell_type": "code",
   "execution_count": 4,
   "id": "16f9c92b",
   "metadata": {},
   "outputs": [
    {
     "name": "stdout",
     "output_type": "stream",
     "text": [
      "The locality has bigger-sized houses.\n"
     ]
    }
   ],
   "source": [
    "mean_size = 2224\n",
    "median_size = 2220\n",
    "\n",
    "if mean_size > median_size:\n",
    "    print(\"The locality has bigger-sized houses.\")\n",
    "elif mean_size < median_size:\n",
    "    print(\"The locality has smaller-sized houses.\")\n",
    "else:\n",
    "    print(\"The locality has houses of similar size.\")"
   ]
  },
  {
   "cell_type": "code",
   "execution_count": null,
   "id": "9225a060",
   "metadata": {},
   "outputs": [],
   "source": [
    "You want to invest in real estate, and you have the data belonging to locality X and Y. Some of\n",
    "the house prices in locality X are 2.00 L,10.00 L, 8.00 L, and 12.00 L and the prices of houses in\n",
    "Y are 2.5 L, 9.50 L, 8.15 L, and 12.50 L. Conduct a statistical measure to decide which locality is\n",
    "best for investment"
   ]
  },
  {
   "cell_type": "code",
   "execution_count": 6,
   "id": "8a74522f",
   "metadata": {},
   "outputs": [
    {
     "name": "stdout",
     "output_type": "stream",
     "text": [
      "Locality X:\n",
      "Mean: 8.0\n",
      "Median: 9.0\n",
      "Standard Deviation: 3.7416573867739413\n",
      "Locality Y:\n",
      "Mean: 8.1625\n",
      "Median: 8.825\n",
      "Standard Deviation: 3.6285973529726334\n"
     ]
    }
   ],
   "source": [
    "import numpy as np\n",
    "\n",
    "# House prices in locality X\n",
    "prices_x = np.array([2.00, 10.00, 8.00, 12.00])\n",
    "\n",
    "# House prices in locality Y\n",
    "prices_y = np.array([2.50, 9.50, 8.15, 12.50])\n",
    "\n",
    "# Calculate mean\n",
    "mean_x = np.mean(prices_x)\n",
    "mean_y = np.mean(prices_y)\n",
    "\n",
    "# Calculate median\n",
    "median_x = np.median(prices_x)\n",
    "median_y = np.median(prices_y)\n",
    "\n",
    "# Calculate standard deviation\n",
    "std_dev_x = np.std(prices_x)\n",
    "std_dev_y = np.std(prices_y)\n",
    "\n",
    "# Print the statistics\n",
    "print(\"Locality X:\")\n",
    "print(\"Mean:\", mean_x)\n",
    "print(\"Median:\", median_x)\n",
    "print(\"Standard Deviation:\", std_dev_x)\n",
    "\n",
    "print(\"Locality Y:\")\n",
    "print(\"Mean:\", mean_y)\n",
    "print(\"Median:\", median_y)\n",
    "print(\"Standard Deviation:\", std_dev_y)\n"
   ]
  },
  {
   "cell_type": "markdown",
   "id": "261a8067",
   "metadata": {},
   "source": [
    "As checked Locality Y is more suitable to buy house as compared to X locality"
   ]
  },
  {
   "cell_type": "markdown",
   "id": "7843b991",
   "metadata": {},
   "source": [
    "####To answer the questions related to the less-than-cumulative frequency distribution table of COVID-infected patients' ages, let's analyze the data provided.\n",
    "\n",
    "Age (in yrs.)\tNo. of Patients\n",
    "5 - 15\t6\n",
    "15 - 25\t11\n",
    "25 - 35\t21\n",
    "35 - 45\t23\n",
    "45 - 55\t14\n",
    "55 - 65\t5"
   ]
  },
  {
   "cell_type": "markdown",
   "id": "e6c07faa",
   "metadata": {},
   "source": [
    "A.Which class interval has the highest frequency?"
   ]
  },
  {
   "cell_type": "code",
   "execution_count": 9,
   "id": "d288526b",
   "metadata": {},
   "outputs": [
    {
     "name": "stdout",
     "output_type": "stream",
     "text": [
      "Class interval with the highest frequency: 35 - 45\n"
     ]
    }
   ],
   "source": [
    "import numpy as np\n",
    "\n",
    "# Age ranges\n",
    "age_ranges = ['5 - 15', '15 - 25', '25 - 35', '35 - 45', '45 - 55', '55 - 65']\n",
    "\n",
    "# Frequencies\n",
    "frequencies = [6, 11, 21, 23, 14, 5]\n",
    "\n",
    "# Find the index of the class interval with the highest frequency\n",
    "max_frequency_index = np.argmax(frequencies)\n",
    "\n",
    "# Get the class interval with the highest frequency\n",
    "class_interval_with_highest_frequency = age_ranges[max_frequency_index]\n",
    "\n",
    "# Print the result\n",
    "print(\"Class interval with the highest frequency:\", class_interval_with_highest_frequency)\n"
   ]
  },
  {
   "cell_type": "code",
   "execution_count": null,
   "id": "50cb3d51",
   "metadata": {},
   "outputs": [],
   "source": [
    "Which age was affected the least?"
   ]
  },
  {
   "cell_type": "code",
   "execution_count": 10,
   "id": "a39fbe40",
   "metadata": {},
   "outputs": [
    {
     "name": "stdout",
     "output_type": "stream",
     "text": [
      "Age affected the least: 55 - 65\n"
     ]
    }
   ],
   "source": [
    "import numpy as np\n",
    "\n",
    "# Age ranges\n",
    "age_ranges = ['5 - 15', '15 - 25', '25 - 35', '35 - 45', '45 - 55', '55 - 65']\n",
    "\n",
    "# Frequencies\n",
    "frequencies = [6, 11, 21, 23, 14, 5]\n",
    "\n",
    "# Find the index of the age range with the lowest frequency\n",
    "min_frequency_index = np.argmin(frequencies)\n",
    "\n",
    "# Get the age range affected the least\n",
    "age_affected_the_least = age_ranges[min_frequency_index]\n",
    "\n",
    "# Print the result\n",
    "print(\"Age affected the least:\", age_affected_the_least)"
   ]
  },
  {
   "cell_type": "code",
   "execution_count": 11,
   "id": "6a7f7ae0",
   "metadata": {},
   "outputs": [
    {
     "name": "stdout",
     "output_type": "stream",
     "text": [
      "Number of patients of age 45 years and above: 19\n"
     ]
    }
   ],
   "source": [
    "import numpy as np\n",
    "\n",
    "age_ranges = ['5 - 15', '15 - 25', '25 - 35', '35 - 45', '45 - 55', '55 - 65']\n",
    "\n",
    "# Frequencies\n",
    "frequencies = [6, 11, 21, 23, 14, 5]\n",
    "\n",
    "\n",
    "start_index = age_ranges.index('45 - 55')\n",
    "\n",
    "\n",
    "patients_45_and_above = np.sum(frequencies[start_index:])\n",
    "\n",
    "\n",
    "print(\"Number of patients of age 45 years and above:\", patients_45_and_above)\n"
   ]
  },
  {
   "cell_type": "code",
   "execution_count": 12,
   "id": "f64e0e3a",
   "metadata": {},
   "outputs": [
    {
     "name": "stdout",
     "output_type": "stream",
     "text": [
      "Median class interval of age: 35 - 45\n"
     ]
    }
   ],
   "source": [
    "import numpy as np\n",
    "\n",
    "# Age ranges\n",
    "age_ranges = ['5 - 15', '15 - 25', '25 - 35', '35 - 45', '45 - 55', '55 - 65']\n",
    "\n",
    "# Cumulative frequencies\n",
    "cumulative_frequencies = [6, 17, 38, 61, 75, 80]\n",
    "\n",
    "# Total number of patients\n",
    "total_patients = cumulative_frequencies[-1]\n",
    "\n",
    "# Find the index of the median class interval\n",
    "median_index = np.searchsorted(cumulative_frequencies, total_patients // 2, side='right')\n",
    "\n",
    "# Get the median class interval\n",
    "median_class_interval = age_ranges[median_index]\n",
    "\n",
    "# Print the result\n",
    "print(\"Median class interval of age:\", median_class_interval)\n"
   ]
  },
  {
   "cell_type": "markdown",
   "id": "1fcf6333",
   "metadata": {},
   "source": [
    "Assume, you are a trader and have invested over the years for your retirement. Lately, with the\n",
    "fluctuating economical condition, you are worried about the average return on investment. What\n",
    "average method is appropriate to compute the average return for the data given in the table?"
   ]
  },
  {
   "cell_type": "code",
   "execution_count": 13,
   "id": "d67cd79a",
   "metadata": {},
   "outputs": [
    {
     "name": "stdout",
     "output_type": "stream",
     "text": [
      "Average return on investment: -0.013782225866666683\n"
     ]
    }
   ],
   "source": [
    "# Year\n",
    "years = [2015, 2016, 2017, 2018, 2019, 2020]\n",
    "\n",
    "# Return\n",
    "returns = [0.36, 0.23, -0.48, -0.30, 0.15, 0.31]\n",
    "\n",
    "# Computed the average return using the Time-Weighted Average Return method\n",
    "total_return = 1.0  # Initial investment value\n",
    "for ret in returns:\n",
    "    total_return *= (1 + ret)\n",
    "\n",
    "average_return = (total_return - 1) / len(years)\n",
    "\n",
    "# Print the result\n",
    "print(\"Average return on investment:\", average_return)\n"
   ]
  },
  {
   "cell_type": "markdown",
   "id": "ba1c479e",
   "metadata": {},
   "source": [
    "Suppose you have been told to measure the height of all men on the earth. What strategy would\n",
    "you use?"
   ]
  },
  {
   "cell_type": "markdown",
   "id": "88b9f5ee",
   "metadata": {},
   "source": [
    "Measuring the height of all men on Earth is not feasible due to logistical challenges. However, if we want to estimate the average height of men using Python, we can employ statistical sampling techniques. Here's an example strategy using the numpy and scipy libraries:\n",
    "\n",
    "1.Define the target population: Specify the characteristics of the population we want to estimate the average height for, such as all adult men globally.\n",
    "\n",
    "2.Determine the sample size: Decide on the desired sample size, which is the number of individuals we will measure. A larger sample size generally leads to more accurate estimates, but it may be limited by resources and practicality.\n",
    "\n",
    "3.Randomly sample individuals: Using random sampling methods to select individuals from the target population. The numpy library provides functions like random.choice or random.sample for random sampling.\n",
    "\n",
    "4.Measure the height: Collect height measurements for the selected individuals. Ensure consistency in measurement techniques and accuracy in recording the data.\n",
    "\n",
    "5.Calculate sample statistics: Use the collected height measurements to compute sample statistics, such as the mean height and standard deviation. The numpy library can help with statistical calculations.\n",
    "\n",
    "Estimate the average height: Based on the sample statistics, estimate the average height of men in the target population. You can also calculate confidence intervals to provide a range of plausible values. The scipy library offers functions like t.interval for estimating confidence intervals.\n",
    "\n",
    "\n",
    "\n",
    "\n",
    "\n",
    "\n"
   ]
  },
  {
   "cell_type": "markdown",
   "id": "3ced2e39",
   "metadata": {},
   "source": [
    "Calculate the z score of the following numbers:\n",
    " X = [4.5,6.2,7.3,9.1,10.4,11]"
   ]
  },
  {
   "cell_type": "code",
   "execution_count": 16,
   "id": "92eae0fc",
   "metadata": {},
   "outputs": [
    {
     "name": "stdout",
     "output_type": "stream",
     "text": [
      "Z-scores: [-1.553856019598407, -0.816677814951721, -0.3396801531215125, 0.44086147532791964, 1.004585984763621, 1.2647665275800983]\n"
     ]
    }
   ],
   "source": [
    "import numpy as np\n",
    "\n",
    "X = [4.5, 6.2, 7.3, 9.1, 10.4, 11]\n",
    "\n",
    "# Calculate mean and standard deviation\n",
    "mean = np.mean(X)\n",
    "std_dev = np.std(X)\n",
    "\n",
    "# Calculate z-scores\n",
    "z_scores = [(x - mean) / std_dev for x in X]\n",
    "\n",
    "# Print the z-scores\n",
    "print(\"Z-scores:\", z_scores)\n"
   ]
  },
  {
   "cell_type": "code",
   "execution_count": 17,
   "id": "f87bac52",
   "metadata": {},
   "outputs": [
    {
     "name": "stdout",
     "output_type": "stream",
     "text": [
      "   Unnamed: 0         Unnamed: 1 Unnamed: 2\n",
      "0         NaN                NaN        NaN\n",
      "1         NaN                NaN        NaN\n",
      "2         NaN                NaN        NaN\n",
      "3         NaN                NaN        NaN\n",
      "4         NaN  Data Description:        NaN\n"
     ]
    }
   ],
   "source": []
  },
  {
   "cell_type": "code",
   "execution_count": 21,
   "id": "84e03974",
   "metadata": {},
   "outputs": [
    {
     "name": "stderr",
     "output_type": "stream",
     "text": [
      "C:\\Users\\HP\\anaconda3\\lib\\site-packages\\openpyxl\\worksheet\\_read_only.py:79: UserWarning: Unknown extension is not supported and will be removed\n",
      "  for idx, row in parser.parse():\n"
     ]
    }
   ],
   "source": [
    "df = pd.read_excel(r'C:\\Users\\HP\\Desktop\\assignment\\Bank Personal Loan Modelling (2).xlsx')\n",
    "df1 = pd.read_excel(r'C:\\Users\\HP\\Desktop\\assignment\\Bank Personal Loan Modelling (2).xlsx', sheet_name='Data')"
   ]
  },
  {
   "cell_type": "code",
   "execution_count": 22,
   "id": "5bfc9c33",
   "metadata": {},
   "outputs": [
    {
     "data": {
      "text/html": [
       "<div>\n",
       "<style scoped>\n",
       "    .dataframe tbody tr th:only-of-type {\n",
       "        vertical-align: middle;\n",
       "    }\n",
       "\n",
       "    .dataframe tbody tr th {\n",
       "        vertical-align: top;\n",
       "    }\n",
       "\n",
       "    .dataframe thead th {\n",
       "        text-align: right;\n",
       "    }\n",
       "</style>\n",
       "<table border=\"1\" class=\"dataframe\">\n",
       "  <thead>\n",
       "    <tr style=\"text-align: right;\">\n",
       "      <th></th>\n",
       "      <th>ID</th>\n",
       "      <th>Age</th>\n",
       "      <th>Experience</th>\n",
       "      <th>Income</th>\n",
       "      <th>ZIP Code</th>\n",
       "      <th>Family</th>\n",
       "      <th>CCAvg</th>\n",
       "      <th>Education</th>\n",
       "      <th>Mortgage</th>\n",
       "      <th>Personal Loan</th>\n",
       "      <th>Securities Account</th>\n",
       "      <th>CD Account</th>\n",
       "      <th>Online</th>\n",
       "      <th>CreditCard</th>\n",
       "    </tr>\n",
       "  </thead>\n",
       "  <tbody>\n",
       "    <tr>\n",
       "      <th>0</th>\n",
       "      <td>1</td>\n",
       "      <td>25</td>\n",
       "      <td>1</td>\n",
       "      <td>49</td>\n",
       "      <td>91107</td>\n",
       "      <td>4</td>\n",
       "      <td>1.6</td>\n",
       "      <td>1</td>\n",
       "      <td>0</td>\n",
       "      <td>0</td>\n",
       "      <td>1</td>\n",
       "      <td>0</td>\n",
       "      <td>0</td>\n",
       "      <td>0</td>\n",
       "    </tr>\n",
       "    <tr>\n",
       "      <th>1</th>\n",
       "      <td>2</td>\n",
       "      <td>45</td>\n",
       "      <td>19</td>\n",
       "      <td>34</td>\n",
       "      <td>90089</td>\n",
       "      <td>3</td>\n",
       "      <td>1.5</td>\n",
       "      <td>1</td>\n",
       "      <td>0</td>\n",
       "      <td>0</td>\n",
       "      <td>1</td>\n",
       "      <td>0</td>\n",
       "      <td>0</td>\n",
       "      <td>0</td>\n",
       "    </tr>\n",
       "    <tr>\n",
       "      <th>2</th>\n",
       "      <td>3</td>\n",
       "      <td>39</td>\n",
       "      <td>15</td>\n",
       "      <td>11</td>\n",
       "      <td>94720</td>\n",
       "      <td>1</td>\n",
       "      <td>1.0</td>\n",
       "      <td>1</td>\n",
       "      <td>0</td>\n",
       "      <td>0</td>\n",
       "      <td>0</td>\n",
       "      <td>0</td>\n",
       "      <td>0</td>\n",
       "      <td>0</td>\n",
       "    </tr>\n",
       "    <tr>\n",
       "      <th>3</th>\n",
       "      <td>4</td>\n",
       "      <td>35</td>\n",
       "      <td>9</td>\n",
       "      <td>100</td>\n",
       "      <td>94112</td>\n",
       "      <td>1</td>\n",
       "      <td>2.7</td>\n",
       "      <td>2</td>\n",
       "      <td>0</td>\n",
       "      <td>0</td>\n",
       "      <td>0</td>\n",
       "      <td>0</td>\n",
       "      <td>0</td>\n",
       "      <td>0</td>\n",
       "    </tr>\n",
       "    <tr>\n",
       "      <th>4</th>\n",
       "      <td>5</td>\n",
       "      <td>35</td>\n",
       "      <td>8</td>\n",
       "      <td>45</td>\n",
       "      <td>91330</td>\n",
       "      <td>4</td>\n",
       "      <td>1.0</td>\n",
       "      <td>2</td>\n",
       "      <td>0</td>\n",
       "      <td>0</td>\n",
       "      <td>0</td>\n",
       "      <td>0</td>\n",
       "      <td>0</td>\n",
       "      <td>1</td>\n",
       "    </tr>\n",
       "  </tbody>\n",
       "</table>\n",
       "</div>"
      ],
      "text/plain": [
       "   ID  Age  Experience  Income  ZIP Code  Family  CCAvg  Education  Mortgage  \\\n",
       "0   1   25           1      49     91107       4    1.6          1         0   \n",
       "1   2   45          19      34     90089       3    1.5          1         0   \n",
       "2   3   39          15      11     94720       1    1.0          1         0   \n",
       "3   4   35           9     100     94112       1    2.7          2         0   \n",
       "4   5   35           8      45     91330       4    1.0          2         0   \n",
       "\n",
       "   Personal Loan  Securities Account  CD Account  Online  CreditCard  \n",
       "0              0                   1           0       0           0  \n",
       "1              0                   1           0       0           0  \n",
       "2              0                   0           0       0           0  \n",
       "3              0                   0           0       0           0  \n",
       "4              0                   0           0       0           1  "
      ]
     },
     "execution_count": 22,
     "metadata": {},
     "output_type": "execute_result"
    }
   ],
   "source": [
    "df1.head()"
   ]
  },
  {
   "cell_type": "code",
   "execution_count": 23,
   "id": "f535bb7f",
   "metadata": {},
   "outputs": [
    {
     "name": "stdout",
     "output_type": "stream",
     "text": [
      "                ID          Age   Experience       Income      ZIP Code  \\\n",
      "count  5000.000000  5000.000000  5000.000000  5000.000000   5000.000000   \n",
      "mean   2500.500000    45.338400    20.104600    73.774200  93152.503000   \n",
      "std    1443.520003    11.463166    11.467954    46.033729   2121.852197   \n",
      "min       1.000000    23.000000    -3.000000     8.000000   9307.000000   \n",
      "25%    1250.750000    35.000000    10.000000    39.000000  91911.000000   \n",
      "50%    2500.500000    45.000000    20.000000    64.000000  93437.000000   \n",
      "75%    3750.250000    55.000000    30.000000    98.000000  94608.000000   \n",
      "max    5000.000000    67.000000    43.000000   224.000000  96651.000000   \n",
      "\n",
      "            Family        CCAvg    Education     Mortgage  Personal Loan  \\\n",
      "count  5000.000000  5000.000000  5000.000000  5000.000000    5000.000000   \n",
      "mean      2.396400     1.937913     1.881000    56.498800       0.096000   \n",
      "std       1.147663     1.747666     0.839869   101.713802       0.294621   \n",
      "min       1.000000     0.000000     1.000000     0.000000       0.000000   \n",
      "25%       1.000000     0.700000     1.000000     0.000000       0.000000   \n",
      "50%       2.000000     1.500000     2.000000     0.000000       0.000000   \n",
      "75%       3.000000     2.500000     3.000000   101.000000       0.000000   \n",
      "max       4.000000    10.000000     3.000000   635.000000       1.000000   \n",
      "\n",
      "       Securities Account  CD Account       Online   CreditCard  \n",
      "count         5000.000000  5000.00000  5000.000000  5000.000000  \n",
      "mean             0.104400     0.06040     0.596800     0.294000  \n",
      "std              0.305809     0.23825     0.490589     0.455637  \n",
      "min              0.000000     0.00000     0.000000     0.000000  \n",
      "25%              0.000000     0.00000     0.000000     0.000000  \n",
      "50%              0.000000     0.00000     1.000000     0.000000  \n",
      "75%              0.000000     0.00000     1.000000     1.000000  \n",
      "max              1.000000     1.00000     1.000000     1.000000  \n"
     ]
    }
   ],
   "source": [
    "import pandas as pd\n",
    "\n",
    "summary = df1.describe()\n",
    "\n",
    "print(summary)"
   ]
  },
  {
   "cell_type": "markdown",
   "id": "21ba5fe2",
   "metadata": {},
   "source": [
    "Give all the measures of central tendency for all the quantitative variables which are continuous\n",
    "and discrete"
   ]
  },
  {
   "cell_type": "code",
   "execution_count": 24,
   "id": "8152ebd5",
   "metadata": {},
   "outputs": [
    {
     "name": "stdout",
     "output_type": "stream",
     "text": [
      "Mean values:\n",
      "ID                     2500.500000\n",
      "Age                      45.338400\n",
      "Experience               20.104600\n",
      "Income                   73.774200\n",
      "ZIP Code              93152.503000\n",
      "Family                    2.396400\n",
      "CCAvg                     1.937913\n",
      "Education                 1.881000\n",
      "Mortgage                 56.498800\n",
      "Personal Loan             0.096000\n",
      "Securities Account        0.104400\n",
      "CD Account                0.060400\n",
      "Online                    0.596800\n",
      "CreditCard                0.294000\n",
      "dtype: float64\n",
      "\n",
      "Median values:\n",
      "ID                     2500.5\n",
      "Age                      45.0\n",
      "Experience               20.0\n",
      "Income                   64.0\n",
      "ZIP Code              93437.0\n",
      "Family                    2.0\n",
      "CCAvg                     1.5\n",
      "Education                 2.0\n",
      "Mortgage                  0.0\n",
      "Personal Loan             0.0\n",
      "Securities Account        0.0\n",
      "CD Account                0.0\n",
      "Online                    1.0\n",
      "CreditCard                0.0\n",
      "dtype: float64\n",
      "\n",
      "Mode values:\n",
      "ID                        1.0\n",
      "Age                      35.0\n",
      "Experience               32.0\n",
      "Income                   44.0\n",
      "ZIP Code              94720.0\n",
      "Family                    1.0\n",
      "CCAvg                     0.3\n",
      "Education                 1.0\n",
      "Mortgage                  0.0\n",
      "Personal Loan             0.0\n",
      "Securities Account        0.0\n",
      "CD Account                0.0\n",
      "Online                    1.0\n",
      "CreditCard                0.0\n",
      "Name: 0, dtype: float64\n"
     ]
    }
   ],
   "source": [
    "import pandas as pd\n",
    "\n",
    "# Calculate mean for all quantitative variables\n",
    "mean_values = df1.mean()\n",
    "\n",
    "# Calculate median for all quantitative variables\n",
    "median_values = df1.median()\n",
    "\n",
    "# Calculate mode for all quantitative variables\n",
    "mode_values = df1.mode().iloc[0]\n",
    "\n",
    "# Print the results\n",
    "print(\"Mean values:\")\n",
    "print(mean_values)\n",
    "print(\"\\nMedian values:\")\n",
    "print(median_values)\n",
    "print(\"\\nMode values:\")\n",
    "print(mode_values)\n",
    "\n",
    "\n",
    "\n",
    "\n",
    "\n",
    "\n"
   ]
  },
  {
   "cell_type": "code",
   "execution_count": null,
   "id": "8ffefbb4",
   "metadata": {},
   "outputs": [],
   "source": [
    "Can you apply any statistical method to observe any similarity in distribution between age and\n",
    "experience variables?"
   ]
  },
  {
   "cell_type": "markdown",
   "id": "6ade4b4d",
   "metadata": {},
   "source": [
    "we can apply statistical methods to observe any similarity in the distribution between the \"Age\" and \"Experience\" variables in the Bank Personal Loan Modelling dataset. One common method is by using statistical tests to compare the distributions.\n",
    "\n",
    "One such test is the Kolmogorov-Smirnov test, which is used to compare the distributions of two samples. In this case, we can use the ks_2samp function from the scipy.stats module to perform the test. Here's an example:\n",
    "\n",
    "\n"
   ]
  },
  {
   "cell_type": "code",
   "execution_count": 26,
   "id": "65580e75",
   "metadata": {},
   "outputs": [
    {
     "name": "stdout",
     "output_type": "stream",
     "text": [
      "Kolmogorov-Smirnov test results:\n",
      "KS statistic: 0.6464\n",
      "P-value: 0.0\n"
     ]
    }
   ],
   "source": [
    "from scipy.stats import ks_2samp\n",
    "\n",
    "# Perform the Kolmogorov-Smirnov test\n",
    "ks_statistic, p_value = ks_2samp(df1[\"Age\"], df1[\"Experience\"])\n",
    "\n",
    "# Print the test results\n",
    "print(\"Kolmogorov-Smirnov test results:\")\n",
    "print(\"KS statistic:\", ks_statistic)\n",
    "print(\"P-value:\", p_value)"
   ]
  },
  {
   "cell_type": "markdown",
   "id": "67d257d1",
   "metadata": {},
   "source": [
    "Who are the most frequent family members present in this dataset?"
   ]
  },
  {
   "cell_type": "code",
   "execution_count": 27,
   "id": "9d9e136a",
   "metadata": {},
   "outputs": [
    {
     "name": "stdout",
     "output_type": "stream",
     "text": [
      "The most frequent family members are: 1\n"
     ]
    }
   ],
   "source": [
    "import pandas as pd\n",
    "\n",
    "family_counts = df1['Family'].value_counts()\n",
    "\n",
    "# Get the most frequent family members\n",
    "most_frequent_family = family_counts.idxmax()\n",
    "\n",
    "# Print the most frequent family members\n",
    "print(\"The most frequent family members are:\", most_frequent_family)"
   ]
  },
  {
   "cell_type": "markdown",
   "id": "ba8eeca9",
   "metadata": {},
   "source": [
    "What is the coefficient of variation you can observe in the ‘Income’ variable?"
   ]
  },
  {
   "cell_type": "code",
   "execution_count": 28,
   "id": "db86fff5",
   "metadata": {},
   "outputs": [
    {
     "name": "stdout",
     "output_type": "stream",
     "text": [
      "Coefficient of Variation (Income): 62.39814097758612\n"
     ]
    }
   ],
   "source": [
    "import pandas as pd\n",
    "\n",
    "# Calculate the coefficient of variation for the 'Income' variable\n",
    "income_cv = (df1['Income'].std() / df1['Income'].mean()) * 100\n",
    "\n",
    "# Print the coefficient of variation\n",
    "print(\"Coefficient of Variation (Income):\", income_cv)"
   ]
  },
  {
   "cell_type": "code",
   "execution_count": 29,
   "id": "5c5e4e01",
   "metadata": {},
   "outputs": [],
   "source": [
    "import pandas as pd\n",
    "import numpy as np\n",
    "\n",
    "# Replacing zero values in 'Mortgage' with NaN\n",
    "df1['Mortgage'] = df1['Mortgage'].replace(0, np.nan)\n",
    "\n",
    "# Calculating the median value\n",
    "median_mortgage = df1['Mortgage'].median()\n",
    "\n",
    "# Imputing NaN values with the median\n",
    "df1['Mortgage'].fillna(median_mortgage, inplace=True)\n"
   ]
  },
  {
   "cell_type": "code",
   "execution_count": 30,
   "id": "df6c17da",
   "metadata": {},
   "outputs": [],
   "source": [
    "df1['Mortgage'].fillna(median_mortgage, inplace=True)"
   ]
  },
  {
   "cell_type": "code",
   "execution_count": 31,
   "id": "72f0937d",
   "metadata": {
    "scrolled": true
   },
   "outputs": [
    {
     "data": {
      "text/plain": [
       "0       153.0\n",
       "1       153.0\n",
       "2       153.0\n",
       "3       153.0\n",
       "4       153.0\n",
       "        ...  \n",
       "4995    153.0\n",
       "4996     85.0\n",
       "4997    153.0\n",
       "4998    153.0\n",
       "4999    153.0\n",
       "Name: Mortgage, Length: 5000, dtype: float64"
      ]
     },
     "execution_count": 31,
     "metadata": {},
     "output_type": "execute_result"
    }
   ],
   "source": [
    "df1['Mortgage']"
   ]
  },
  {
   "cell_type": "markdown",
   "id": "8b31df17",
   "metadata": {},
   "source": [
    ". Do customers with credit cards have any impact on their experience and income?"
   ]
  },
  {
   "cell_type": "code",
   "execution_count": 32,
   "id": "58bfb4a7",
   "metadata": {},
   "outputs": [
    {
     "name": "stdout",
     "output_type": "stream",
     "text": [
      "Statistics for Customers with Credit Cards:\n",
      "Experience    20.263946\n",
      "Income        73.604082\n",
      "Name: 1, dtype: float64\n",
      "\n",
      "Statistics for Customers without Credit Cards:\n",
      "Experience    20.038244\n",
      "Income        73.845042\n",
      "Name: 0, dtype: float64\n"
     ]
    }
   ],
   "source": [
    "import pandas as pd\n",
    "\n",
    "\n",
    "grouped_data = df1.groupby('CreditCard')\n",
    "stats = grouped_data[['Experience', 'Income']].mean()\n",
    "\n",
    "\n",
    "print(\"Statistics for Customers with Credit Cards:\")\n",
    "print(stats.loc[1])  \n",
    "\n",
    "print(\"\\nStatistics for Customers without Credit Cards:\")\n",
    "print(stats.loc[0]) "
   ]
  },
  {
   "cell_type": "code",
   "execution_count": 35,
   "id": "65e4a0f0",
   "metadata": {},
   "outputs": [
    {
     "ename": "NameError",
     "evalue": "name 'plt' is not defined",
     "output_type": "error",
     "traceback": [
      "\u001b[1;31m---------------------------------------------------------------------------\u001b[0m",
      "\u001b[1;31mNameError\u001b[0m                                 Traceback (most recent call last)",
      "\u001b[1;32m~\\AppData\\Local\\Temp\\ipykernel_23484\\2217733384.py\u001b[0m in \u001b[0;36m<module>\u001b[1;34m\u001b[0m\n\u001b[0;32m      5\u001b[0m \u001b[1;33m\u001b[0m\u001b[0m\n\u001b[0;32m      6\u001b[0m \u001b[1;31m# Set plot title and labels\u001b[0m\u001b[1;33m\u001b[0m\u001b[1;33m\u001b[0m\u001b[0m\n\u001b[1;32m----> 7\u001b[1;33m \u001b[0mplt\u001b[0m\u001b[1;33m.\u001b[0m\u001b[0mtitle\u001b[0m\u001b[1;33m(\u001b[0m\u001b[1;34m\"Box Plot - Income\"\u001b[0m\u001b[1;33m)\u001b[0m\u001b[1;33m\u001b[0m\u001b[1;33m\u001b[0m\u001b[0m\n\u001b[0m\u001b[0;32m      8\u001b[0m \u001b[0mplt\u001b[0m\u001b[1;33m.\u001b[0m\u001b[0mylabel\u001b[0m\u001b[1;33m(\u001b[0m\u001b[1;34m\"Income ($000)\"\u001b[0m\u001b[1;33m)\u001b[0m\u001b[1;33m\u001b[0m\u001b[1;33m\u001b[0m\u001b[0m\n\u001b[0;32m      9\u001b[0m \u001b[1;33m\u001b[0m\u001b[0m\n",
      "\u001b[1;31mNameError\u001b[0m: name 'plt' is not defined"
     ]
    },
    {
     "data": {
      "image/png": "[encoded data removed]",
      "text/plain": [
       "<Figure size 640x480 with 1 Axes>"
      ]
     },
     "metadata": {},
     "output_type": "display_data"
    }
   ],
   "source": [
    "\n",
    "import seaborn as sns\n",
    "\n",
    "# Create a box plot for the 'Income' variable\n",
    "sns.boxplot(data=df1, y='Income')\n",
    "\n",
    "# Set plot title and labels\n",
    "plt.title(\"Box Plot - Income\")\n",
    "plt.ylabel(\"Income ($000)\")\n",
    "\n",
    "# Show the plot\n",
    "plt.show()\n",
    "\n",
    "\n",
    "\n",
    "\n",
    "\n",
    "\n"
   ]
  },
  {
   "cell_type": "markdown",
   "id": "58c72243",
   "metadata": {},
   "source": [
    ". Give us the deciles values of the variable ‘Income’ in the dataset."
   ]
  },
  {
   "cell_type": "code",
   "execution_count": 36,
   "id": "bd58a6b7",
   "metadata": {},
   "outputs": [
    {
     "name": "stdout",
     "output_type": "stream",
     "text": [
      "Deciles of Income:\n",
      "Decile 1: 22.0\n",
      "Decile 2: 33.0\n",
      "Decile 3: 42.0\n",
      "Decile 4: 52.0\n",
      "Decile 5: 64.0\n",
      "Decile 6: 78.0\n",
      "Decile 7: 88.29999999999973\n",
      "Decile 8: 113.0\n",
      "Decile 9: 145.0\n"
     ]
    }
   ],
   "source": [
    "import numpy as np\n",
    "\n",
    "# Calculate the deciles of the 'Income' variable\n",
    "deciles = np.percentile(df1['Income'], np.arange(10, 100, 10))\n",
    "\n",
    "# Print the deciles values\n",
    "print(\"Deciles of Income:\")\n",
    "for i in range(len(deciles)):\n",
    "    print(f\"Decile {i+1}: {deciles[i]}\")"
   ]
  },
  {
   "cell_type": "code",
   "execution_count": 37,
   "id": "4f77c62a",
   "metadata": {},
   "outputs": [
    {
     "name": "stdout",
     "output_type": "stream",
     "text": [
      "Interquartile Ranges (IQR):\n",
      "Age: 20.0\n",
      "Experience: 20.0\n",
      "Income: 59.0\n",
      "CCAvg: 1.8\n",
      "Mortgage: 0.0\n"
     ]
    }
   ],
   "source": [
    "import numpy as np\n",
    "\n",
    "\n",
    "continuous_vars = ['Age', 'Experience', 'Income', 'CCAvg', 'Mortgage']\n",
    "\n",
    "\n",
    "iqr_values = {}\n",
    "for var in continuous_vars:\n",
    "    q3 = np.percentile(df1[var], 75)\n",
    "    q1 = np.percentile(df1[var], 25)\n",
    "    iqr = q3 - q1\n",
    "    iqr_values[var] = iqr\n",
    "\n",
    "\n",
    "print(\"Interquartile Ranges (IQR):\")\n",
    "for var, iqr in iqr_values.items():\n",
    "    print(f\"{var}: {iqr}\")\n"
   ]
  },
  {
   "cell_type": "code",
   "execution_count": 38,
   "id": "a3df1e08",
   "metadata": {},
   "outputs": [
    {
     "name": "stdout",
     "output_type": "stream",
     "text": [
      "Average Credit Card Spending by Income:\n",
      "Income\n",
      "8      0.428986\n",
      "9      0.384615\n",
      "10     0.481159\n",
      "11     0.402469\n",
      "12     0.522222\n",
      "         ...   \n",
      "203    9.400000\n",
      "204    5.366667\n",
      "205    7.566667\n",
      "218    6.666667\n",
      "224    6.666667\n",
      "Name: CCAvg, Length: 162, dtype: float64\n"
     ]
    }
   ],
   "source": [
    "import pandas as pd\n",
    "\n",
    "\n",
    "avg_spending = df1.groupby('Income')['CCAvg'].mean()\n",
    "\n",
    "# Print the average credit card spending for each income group\n",
    "print(\"Average Credit Card Spending by Income:\")\n",
    "print(avg_spending)\n"
   ]
  },
  {
   "cell_type": "code",
   "execution_count": 39,
   "id": "ec8cb5af",
   "metadata": {},
   "outputs": [
    {
     "name": "stdout",
     "output_type": "stream",
     "text": [
      "Average Payment Amount by Internet Banking Usage:\n",
      "Online\n",
      "0    72.978671\n",
      "1    74.311662\n",
      "Name: Income, dtype: float64\n"
     ]
    }
   ],
   "source": [
    "import pandas as pd\n",
    "\n",
    "\n",
    "avg_payment = df1.groupby('Online')['Income'].mean()\n",
    "\n",
    "print(\"Average Payment Amount by Internet Banking Usage:\")\n",
    "print(avg_payment)\n"
   ]
  },
  {
   "cell_type": "markdown",
   "id": "c7d5fc24",
   "metadata": {},
   "source": [
    ". Calculate the Z score of the ‘income’ variable."
   ]
  },
  {
   "cell_type": "code",
   "execution_count": 40,
   "id": "625e0864",
   "metadata": {},
   "outputs": [
    {
     "name": "stdout",
     "output_type": "stream",
     "text": [
      "Z-scores of Income:\n",
      "0      -0.538229\n",
      "1      -0.864109\n",
      "2      -1.363793\n",
      "3       0.569765\n",
      "4      -0.625130\n",
      "          ...   \n",
      "4995   -0.733757\n",
      "4996   -1.276892\n",
      "4997   -1.081363\n",
      "4998   -0.538229\n",
      "4999    0.200434\n",
      "Name: Income, Length: 5000, dtype: float64\n"
     ]
    }
   ],
   "source": [
    "from scipy import stats\n",
    "\n",
    "\n",
    "z_scores = stats.zscore(df1['Income'])\n",
    "\n",
    "# Print the Z-scores\n",
    "print(\"Z-scores of Income:\")\n",
    "print(z_scores)\n"
   ]
  },
  {
   "cell_type": "code",
   "execution_count": null,
   "id": "1385488f",
   "metadata": {},
   "outputs": [],
   "source": []
  }
 ],
 "metadata": {
  "kernelspec": {
   "display_name": "Python 3 (ipykernel)",
   "language": "python",
   "name": "python3"
  },
  "language_info": {
   "codemirror_mode": {
    "name": "ipython",
    "version": 3
   },
   "file_extension": ".py",
   "mimetype": "text/x-python",
   "name": "python",
   "nbconvert_exporter": "python",
   "pygments_lexer": "ipython3",
   "version": "3.9.16"
  }
 },
 "nbformat": 4,
 "nbformat_minor": 5
}
