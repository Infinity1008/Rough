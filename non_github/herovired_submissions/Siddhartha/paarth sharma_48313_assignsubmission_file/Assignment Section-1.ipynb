{
 "cells": [
  {
   "cell_type": "code",
   "execution_count": 2,
   "id": "a11be0dd",
   "metadata": {},
   "outputs": [],
   "source": [
    "import pandas as pd\n",
    "import numpy as np"
   ]
  },
  {
   "cell_type": "markdown",
   "id": "d1708a9c",
   "metadata": {},
   "source": [
    "# Q1"
   ]
  },
  {
   "cell_type": "markdown",
   "id": "a1a51032",
   "metadata": {},
   "source": [
    "Whether I choose to become a regular customer of a restaurant depends on several factors, including the food quality, restaurant atmosphere, and customer service. However, based on the given information, the mean price is significantly higher than the median value. This indicates that there are several menu items that are driving the average price up.\n",
    "\n",
    "Additionally, the standard deviation of Rs 47.00 suggests that the prices of food items at the restaurant vary to some extent. This means that while some items may be priced higher than the average, others may be priced lower. Considering this information, I classify the restaurant as being in the expensive category.\n",
    "\n",
    "Based on these observations, I would prefer to visit the restaurant occasionally, but I do not envision myself becoming a regular customer."
   ]
  },
  {
   "cell_type": "markdown",
   "id": "f91f29b0",
   "metadata": {},
   "source": [
    "# Q2"
   ]
  },
  {
   "cell_type": "markdown",
   "id": "563f5505",
   "metadata": {},
   "source": [
    "Since the average size is larger than the median, it suggests that there are some significantly larger houses in the locality, pulling the average up. Additionally, the small standard deviation indicates that most of the houses have sizes close to the mean. Therefore, based on these observations, it is reasonable to conclude that the locality consists of bigger-sized houses."
   ]
  },
  {
   "cell_type": "markdown",
   "id": "ed69e9ae",
   "metadata": {},
   "source": [
    "# Q3"
   ]
  },
  {
   "cell_type": "code",
   "execution_count": 2,
   "id": "bf8de522",
   "metadata": {},
   "outputs": [
    {
     "data": {
      "text/html": [
       "<div>\n",
       "<style scoped>\n",
       "    .dataframe tbody tr th:only-of-type {\n",
       "        vertical-align: middle;\n",
       "    }\n",
       "\n",
       "    .dataframe tbody tr th {\n",
       "        vertical-align: top;\n",
       "    }\n",
       "\n",
       "    .dataframe thead th {\n",
       "        text-align: right;\n",
       "    }\n",
       "</style>\n",
       "<table border=\"1\" class=\"dataframe\">\n",
       "  <thead>\n",
       "    <tr style=\"text-align: right;\">\n",
       "      <th></th>\n",
       "      <th>X</th>\n",
       "      <th>Y</th>\n",
       "    </tr>\n",
       "  </thead>\n",
       "  <tbody>\n",
       "    <tr>\n",
       "      <th>0</th>\n",
       "      <td>2</td>\n",
       "      <td>2.50</td>\n",
       "    </tr>\n",
       "    <tr>\n",
       "      <th>1</th>\n",
       "      <td>10</td>\n",
       "      <td>9.50</td>\n",
       "    </tr>\n",
       "    <tr>\n",
       "      <th>2</th>\n",
       "      <td>8</td>\n",
       "      <td>8.15</td>\n",
       "    </tr>\n",
       "    <tr>\n",
       "      <th>3</th>\n",
       "      <td>12</td>\n",
       "      <td>12.50</td>\n",
       "    </tr>\n",
       "  </tbody>\n",
       "</table>\n",
       "</div>"
      ],
      "text/plain": [
       "    X      Y\n",
       "0   2   2.50\n",
       "1  10   9.50\n",
       "2   8   8.15\n",
       "3  12  12.50"
      ]
     },
     "execution_count": 2,
     "metadata": {},
     "output_type": "execute_result"
    }
   ],
   "source": [
    "Q3 = pd.DataFrame({\"X\": [2,10,8,12], \"Y\": [2.5,9.5,8.15,12.50]})\n",
    "Q3"
   ]
  },
  {
   "cell_type": "code",
   "execution_count": 8,
   "id": "be75d47e",
   "metadata": {},
   "outputs": [
    {
     "name": "stdout",
     "output_type": "stream",
     "text": [
      "The standard deviation of the prices in 'X' locality is 4.320493798938574\n",
      "The standard deviation of the prices in 'Y' locality is 4.189943317039027\n"
     ]
    }
   ],
   "source": [
    "print(\"The standard deviation of the prices in 'X' locality is\", Q3[\"X\"].std())\n",
    "print(\"The standard deviation of the prices in 'Y' locality is\", Q3[\"Y\"].std())"
   ]
  },
  {
   "cell_type": "markdown",
   "id": "b2b5665d",
   "metadata": {},
   "source": [
    "Based on the standard deviations, we can see that Locality Y has a slightly lower standard deviation compared to Locality X. This indicates that the house prices in Locality Y are less variable or have less dispersion around the mean which suggests potentially lower risk in terms of price fluctuations."
   ]
  },
  {
   "cell_type": "markdown",
   "id": "d3b2dc5d",
   "metadata": {},
   "source": [
    "# Q4"
   ]
  },
  {
   "cell_type": "code",
   "execution_count": 4,
   "id": "6f3e6520",
   "metadata": {},
   "outputs": [
    {
     "data": {
      "text/html": [
       "<div>\n",
       "<style scoped>\n",
       "    .dataframe tbody tr th:only-of-type {\n",
       "        vertical-align: middle;\n",
       "    }\n",
       "\n",
       "    .dataframe tbody tr th {\n",
       "        vertical-align: top;\n",
       "    }\n",
       "\n",
       "    .dataframe thead th {\n",
       "        text-align: right;\n",
       "    }\n",
       "</style>\n",
       "<table border=\"1\" class=\"dataframe\">\n",
       "  <thead>\n",
       "    <tr style=\"text-align: right;\">\n",
       "      <th></th>\n",
       "      <th>Age(in yrs.)</th>\n",
       "      <th>No. of Patients</th>\n",
       "    </tr>\n",
       "  </thead>\n",
       "  <tbody>\n",
       "    <tr>\n",
       "      <th>0</th>\n",
       "      <td>5-15</td>\n",
       "      <td>6</td>\n",
       "    </tr>\n",
       "    <tr>\n",
       "      <th>1</th>\n",
       "      <td>10-25</td>\n",
       "      <td>11</td>\n",
       "    </tr>\n",
       "    <tr>\n",
       "      <th>2</th>\n",
       "      <td>25-35</td>\n",
       "      <td>21</td>\n",
       "    </tr>\n",
       "    <tr>\n",
       "      <th>3</th>\n",
       "      <td>35-45</td>\n",
       "      <td>23</td>\n",
       "    </tr>\n",
       "    <tr>\n",
       "      <th>4</th>\n",
       "      <td>45-55</td>\n",
       "      <td>14</td>\n",
       "    </tr>\n",
       "    <tr>\n",
       "      <th>5</th>\n",
       "      <td>55-65</td>\n",
       "      <td>5</td>\n",
       "    </tr>\n",
       "  </tbody>\n",
       "</table>\n",
       "</div>"
      ],
      "text/plain": [
       "  Age(in yrs.)  No. of Patients\n",
       "0         5-15                6\n",
       "1        10-25               11\n",
       "2        25-35               21\n",
       "3        35-45               23\n",
       "4        45-55               14\n",
       "5        55-65                5"
      ]
     },
     "execution_count": 4,
     "metadata": {},
     "output_type": "execute_result"
    }
   ],
   "source": [
    "q4 = pd.DataFrame({\"Age(in yrs.)\": ['5-15','10-25','25-35','35-45','45-55','55-65'],\n",
    "                  \"No. of Patients\": [6,11,21,23,14,5]})\n",
    "q4"
   ]
  },
  {
   "cell_type": "code",
   "execution_count": 7,
   "id": "c94a1fc0",
   "metadata": {},
   "outputs": [
    {
     "data": {
      "text/plain": [
       "23"
      ]
     },
     "execution_count": 7,
     "metadata": {},
     "output_type": "execute_result"
    }
   ],
   "source": [
    "#Q4(a)\n",
    "q4[\"No. of Patients\"].max()"
   ]
  },
  {
   "cell_type": "markdown",
   "id": "497e5373",
   "metadata": {},
   "source": [
    "# Q5"
   ]
  },
  {
   "cell_type": "code",
   "execution_count": 14,
   "id": "3520e761",
   "metadata": {
    "scrolled": true
   },
   "outputs": [
    {
     "data": {
      "text/html": [
       "<div>\n",
       "<style scoped>\n",
       "    .dataframe tbody tr th:only-of-type {\n",
       "        vertical-align: middle;\n",
       "    }\n",
       "\n",
       "    .dataframe tbody tr th {\n",
       "        vertical-align: top;\n",
       "    }\n",
       "\n",
       "    .dataframe thead th {\n",
       "        text-align: right;\n",
       "    }\n",
       "</style>\n",
       "<table border=\"1\" class=\"dataframe\">\n",
       "  <thead>\n",
       "    <tr style=\"text-align: right;\">\n",
       "      <th></th>\n",
       "      <th>Year</th>\n",
       "      <th>Return</th>\n",
       "      <th>Asset Price</th>\n",
       "    </tr>\n",
       "  </thead>\n",
       "  <tbody>\n",
       "    <tr>\n",
       "      <th>0</th>\n",
       "      <td>2015</td>\n",
       "      <td>0.36</td>\n",
       "      <td>5000</td>\n",
       "    </tr>\n",
       "    <tr>\n",
       "      <th>1</th>\n",
       "      <td>2016</td>\n",
       "      <td>0.23</td>\n",
       "      <td>6400</td>\n",
       "    </tr>\n",
       "    <tr>\n",
       "      <th>2</th>\n",
       "      <td>2017</td>\n",
       "      <td>-0.48</td>\n",
       "      <td>7890</td>\n",
       "    </tr>\n",
       "    <tr>\n",
       "      <th>3</th>\n",
       "      <td>2018</td>\n",
       "      <td>-0.30</td>\n",
       "      <td>9023</td>\n",
       "    </tr>\n",
       "    <tr>\n",
       "      <th>4</th>\n",
       "      <td>2019</td>\n",
       "      <td>0.15</td>\n",
       "      <td>4567</td>\n",
       "    </tr>\n",
       "    <tr>\n",
       "      <th>5</th>\n",
       "      <td>2020</td>\n",
       "      <td>0.31</td>\n",
       "      <td>3890</td>\n",
       "    </tr>\n",
       "  </tbody>\n",
       "</table>\n",
       "</div>"
      ],
      "text/plain": [
       "   Year  Return  Asset Price\n",
       "0  2015    0.36         5000\n",
       "1  2016    0.23         6400\n",
       "2  2017   -0.48         7890\n",
       "3  2018   -0.30         9023\n",
       "4  2019    0.15         4567\n",
       "5  2020    0.31         3890"
      ]
     },
     "execution_count": 14,
     "metadata": {},
     "output_type": "execute_result"
    }
   ],
   "source": [
    "Q5 = pd.DataFrame({\n",
    "    \"Year\": [2015,2016,2017,2018,2019,2020],\n",
    "    \"Return\": [0.36,0.23,-0.48,-0.30,0.15,0.31],\n",
    "    \"Asset Price\": [5000,6400,7890,9023,4567,3890]\n",
    "})\n",
    "Q5"
   ]
  },
  {
   "cell_type": "code",
   "execution_count": 16,
   "id": "7fbbf525",
   "metadata": {},
   "outputs": [],
   "source": [
    "from scipy.stats import gmean"
   ]
  },
  {
   "cell_type": "code",
   "execution_count": 18,
   "id": "f9054e71",
   "metadata": {},
   "outputs": [
    {
     "name": "stdout",
     "output_type": "stream",
     "text": [
      "nan\n"
     ]
    }
   ],
   "source": [
    "print(gmean(Q5['Return']))"
   ]
  },
  {
   "cell_type": "markdown",
   "id": "2e5b60ad",
   "metadata": {},
   "source": [
    "# Q6"
   ]
  },
  {
   "cell_type": "markdown",
   "id": "090014d1",
   "metadata": {},
   "source": [
    "I will conduct random sampling on a country-by-country basis, selecting a substantial sample size of men from each country. From these samples, I will calculate the mean size for each group. Finally, I will calculate the overall mean by considering all the individual means, resulting in a reliable estimate of the average size of men worldwide"
   ]
  },
  {
   "cell_type": "markdown",
   "id": "9eda7b7d",
   "metadata": {},
   "source": [
    "# Q7"
   ]
  },
  {
   "cell_type": "code",
   "execution_count": 5,
   "id": "22cc1745",
   "metadata": {},
   "outputs": [
    {
     "name": "stdout",
     "output_type": "stream",
     "text": [
      "mean = 8.083333333333334\n",
      "std deviation = 2.3060909686210462\n",
      "z-score for 4.5 is -1.553856019598407\n",
      "z-score for 6.2 is -0.816677814951721\n",
      "z-score for 7.3 is -0.3396801531215125\n",
      "z-score for 9.1 is 0.44086147532791964\n",
      "z-score for 10.4 is 1.004585984763621\n",
      "z-score for 11 is 1.2647665275800983\n"
     ]
    }
   ],
   "source": [
    "X = [4.5,6.2,7.3,9.1,10.4,11]\n",
    "m = np.mean(X)\n",
    "print(\"mean =\", m)\n",
    "std = np.std(X)\n",
    "print(\"std deviation =\", std)\n",
    "for i in range(0,len(X)):\n",
    "    z = (X[i] - m)/std\n",
    "    print(f\"z-score for {X[i]} is\", z)\n",
    "    "
   ]
  },
  {
   "cell_type": "code",
   "execution_count": null,
   "id": "5db83b75",
   "metadata": {},
   "outputs": [],
   "source": []
  }
 ],
 "metadata": {
  "kernelspec": {
   "display_name": "Python 3 (ipykernel)",
   "language": "python",
   "name": "python3"
  },
  "language_info": {
   "codemirror_mode": {
    "name": "ipython",
    "version": 3
   },
   "file_extension": ".py",
   "mimetype": "text/x-python",
   "name": "python",
   "nbconvert_exporter": "python",
   "pygments_lexer": "ipython3",
   "version": "3.9.16"
  }
 },
 "nbformat": 4,
 "nbformat_minor": 5
}
