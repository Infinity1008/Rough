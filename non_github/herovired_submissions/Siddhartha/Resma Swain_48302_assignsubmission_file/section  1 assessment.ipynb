{
 "cells": [
  {
   "cell_type": "code",
   "execution_count": 4,
   "id": "48b7c42e",
   "metadata": {},
   "outputs": [],
   "source": [
    "import pandas as pd\n",
    "import numpy as np"
   ]
  },
  {
   "cell_type": "markdown",
   "id": "0f4a8479",
   "metadata": {},
   "source": [
    "### Q1- . The average selling price of a food item in a restaurant is Rs 250.00 and the standard deviation of the price is Rs 47.00. The median value is an indication of the central value of the data and is close to the mean of Rs 202.00. If you know these details, will you become a regular customer of the restaurant? "
   ]
  },
  {
   "cell_type": "code",
   "execution_count": 14,
   "id": "fb2ae169",
   "metadata": {},
   "outputs": [
    {
     "name": "stdout",
     "output_type": "stream",
     "text": [
      "The median price is relatively high.\n",
      "The price variability is relatively low.\n",
      "Based on the given details, you may want to further evaluate your decision.\n"
     ]
    }
   ],
   "source": [
    "\n",
    "average_price = 250.00\n",
    "standard_deviation = 47.00\n",
    "median_value = 202.00\n",
    "\n",
    "# Decision criteria\n",
    "price_threshold = 200.00  # Define your own price threshold\n",
    "\n",
    "# Compare the median and mean values\n",
    "if median_value >= price_threshold:\n",
    "    print(\"The median price is relatively high.\")\n",
    "else:\n",
    "    print(\"The median price is relatively low.\")\n",
    "\n",
    "# Check standard deviation\n",
    "if standard_deviation <= 50.00:  # Define your own acceptable standard deviation\n",
    "    print(\"The price variability is relatively low.\")\n",
    "else:\n",
    "    print(\"The price variability is relatively high.\")\n",
    "\n",
    "# Make a decision\n",
    "if median_value <= price_threshold and standard_deviation <= 50.00:  # Define your own criteria\n",
    "    print(\"Based on the given details, you might consider becoming a regular customer.\")\n",
    "else:\n",
    "    print(\"Based on the given details, you may want to further evaluate your decision.\")"
   ]
  },
  {
   "cell_type": "markdown",
   "id": "7f121c7f",
   "metadata": {},
   "source": [
    "### Q2 In a residential locality, the average size of a house is 2224 square feet with a standard deviation of 248 square feet which indicates that the distribution of size is fairly the same across the data and the median value of the house is 2220 square feet. Does the locality have bigger or smaller-sized houses? "
   ]
  },
  {
   "cell_type": "code",
   "execution_count": 15,
   "id": "0e828712",
   "metadata": {},
   "outputs": [
    {
     "name": "stdout",
     "output_type": "stream",
     "text": [
      "The residential locality has smaller-sized houses.\n"
     ]
    }
   ],
   "source": [
    "import scipy.stats as stats\n",
    "\n",
    "average_size = 2224\n",
    "standard_deviation = 248\n",
    "median_value = 2220\n",
    "\n",
    "\n",
    "median_zscore = (median_value - average_size) / standard_deviation\n",
    "\n",
    "\n",
    "average_zscore = 0\n",
    "\n",
    "\n",
    "if median_zscore < average_zscore:\n",
    "    print(\"The residential locality has smaller-sized houses.\")\n",
    "elif median_zscore > average_zscore:\n",
    "    print(\"The residential locality has bigger-sized houses.\")\n",
    "else:\n",
    "    print(\"The residential locality has houses of similar sizes.\")"
   ]
  },
  {
   "cell_type": "markdown",
   "id": "d30b4e96",
   "metadata": {},
   "source": [
    "### Q3- You want to invest in real estate, and you have the data belonging to locality X and Y. Some of the house prices in locality X are 2.00 L,10.00 L, 8.00 L, and 12.00 L and the prices of houses in Y are 2.5 L, 9.50 L, 8.15 L, and 12.50 L. Conduct a statistical measure to decide which locality is best for investment. "
   ]
  },
  {
   "cell_type": "code",
   "execution_count": 12,
   "id": "31c5be3a",
   "metadata": {},
   "outputs": [
    {
     "name": "stdout",
     "output_type": "stream",
     "text": [
      "Locality X:\n",
      "Mean: 8.0\n",
      "Standard Deviation: 3.7416573867739413\n",
      "\n",
      "Locality Y:\n",
      "Mean: 8.1625\n",
      "Standard Deviation: 3.6285973529726334\n"
     ]
    }
   ],
   "source": [
    "\n",
    "# House prices in locality X\n",
    "house_prices_x = [2.00, 10.00, 8.00, 12.00]\n",
    "\n",
    "# House prices in locality Y\n",
    "house_prices_y = [2.5, 9.50, 8.15, 12.50]\n",
    "\n",
    "# Calculate mean and standard deviation for locality X\n",
    "mean_x = np.mean(house_prices_x)\n",
    "std_x = np.std(house_prices_x)\n",
    "\n",
    "# Calculate mean and standard deviation for locality Y\n",
    "mean_y = np.mean(house_prices_y)\n",
    "std_y = np.std(house_prices_y)\n",
    "\n",
    "print(\"Locality X:\")\n",
    "print(\"Mean:\", mean_x)\n",
    "print(\"Standard Deviation:\", std_x)\n",
    "print()\n",
    "print(\"Locality Y:\")\n",
    "print(\"Mean:\", mean_y)\n",
    "print(\"Standard Deviation:\", std_y)"
   ]
  },
  {
   "cell_type": "markdown",
   "id": "8b9af835",
   "metadata": {},
   "source": [
    "### Q4 -During a survey, the ages of 80 patients, infected by COVID and admitted to one of the city hospitals, were recorded. The collected data is represented in the less-than-cumulative frequency distribution table. Read the questions below the table and provide your answers. \n",
    "\n"
   ]
  },
  {
   "cell_type": "code",
   "execution_count": 11,
   "id": "13714e36",
   "metadata": {},
   "outputs": [
    {
     "name": "stdout",
     "output_type": "stream",
     "text": [
      "a. Class interval with the highest frequency: 35 - 45\n",
      "b. Age affected the least: 55 - 65\n",
      "c. Number of patients aged 45 years and above: 37\n",
      "d. Modal class interval: 35 - 45\n",
      "e. Median class interval of age: 35 - 45\n"
     ]
    }
   ],
   "source": [
    "\n",
    "\n",
    "# Create a DataFrame with the given data\n",
    "data = {\n",
    "    'Age (in yrs.)': ['5 - 15', '15 - 25', '25 - 35', '35 - 45', '45 - 55', '55 - 65'],\n",
    "    'No. of Patients': [6, 11, 21, 23, 14, 5]\n",
    "}\n",
    "\n",
    "df = pd.DataFrame(data)\n",
    "\n",
    "# a. Find the class interval with the highest frequency\n",
    "highest_frequency = df['No. of Patients'].max()\n",
    "class_interval_highest_freq = df.loc[df['No. of Patients'] == highest_frequency, 'Age (in yrs.)'].values[0]\n",
    "\n",
    "# b. Find the age affected the least (lowest frequency)\n",
    "lowest_frequency = df['No. of Patients'].min()\n",
    "age_affected_least = df.loc[df['No. of Patients'] == lowest_frequency, 'Age (in yrs.)'].values[0]\n",
    "\n",
    "# c. Find the number of patients aged 45 years and above\n",
    "patients_45_and_above = df[df['Age (in yrs.)'].str.contains('45')]['No. of Patients'].sum()\n",
    "\n",
    "# d. Find the modal class interval (the class with the highest frequency)\n",
    "modal_class_interval = df.loc[df['No. of Patients'].idxmax(), 'Age (in yrs.)']\n",
    "\n",
    "# e. Find the median class interval\n",
    "total_patients = df['No. of Patients'].sum()\n",
    "cumulative_frequency = df['No. of Patients'].cumsum()\n",
    "median_frequency = total_patients / 2\n",
    "median_class_interval = df.loc[cumulative_frequency >= median_frequency, 'Age (in yrs.)'].values[0]\n",
    "\n",
    "# Print the answers\n",
    "print(\"a. Class interval with the highest frequency:\", class_interval_highest_freq)\n",
    "print(\"b. Age affected the least:\", age_affected_least)\n",
    "print(\"c. Number of patients aged 45 years and above:\", patients_45_and_above)\n",
    "print(\"d. Modal class interval:\", modal_class_interval)\n",
    "print(\"e. Median class interval of age:\", median_class_interval)\n"
   ]
  },
  {
   "cell_type": "markdown",
   "id": "c0363dd4",
   "metadata": {},
   "source": [
    "### Q5"
   ]
  },
  {
   "cell_type": "code",
   "execution_count": 10,
   "id": "abcd853e",
   "metadata": {},
   "outputs": [
    {
     "name": "stdout",
     "output_type": "stream",
     "text": [
      "Average return: -1.4282599080668423\n"
     ]
    }
   ],
   "source": [
    "\n",
    "\n",
    "returns = [0.36, 0.23, -0.48, -0.30, 0.15, 0.31]\n",
    "\n",
    "# Convert percentage returns to decimal form\n",
    "decimal_returns = [1 + r for r in returns]\n",
    "\n",
    "# Calculate the cumulative return\n",
    "cumulative_return = np.prod(decimal_returns)\n",
    "\n",
    "# Calculate the average return using the geometric mean\n",
    "average_return = (cumulative_return ** (1 / len(returns))) - 1\n",
    "average_return *= 100\n",
    "\n",
    "print(\"Average return:\", average_return)\n"
   ]
  },
  {
   "cell_type": "markdown",
   "id": "25d69ae2",
   "metadata": {},
   "source": [
    "### Q6"
   ]
  },
  {
   "cell_type": "code",
   "execution_count": 9,
   "id": "7e7b4392",
   "metadata": {},
   "outputs": [
    {
     "name": "stdout",
     "output_type": "stream",
     "text": [
      "Average height: 174.98805691318418\n"
     ]
    }
   ],
   "source": [
    "\n",
    "\n",
    "# Simulated height data in centimeters\n",
    "heights = np.random.normal(loc=175, scale=7, size=1000)  # Example data with a mean of 175cm and standard deviation of 7cm\n",
    "\n",
    "# Calculate the average height\n",
    "average_height = np.mean(heights)\n",
    "\n",
    "print(\"Average height:\", average_height)\n"
   ]
  },
  {
   "cell_type": "markdown",
   "id": "8e5397d2",
   "metadata": {},
   "source": [
    "### Q7- calculate the z score of the following  numbers: x=[4.5,6.2,7.3,9.1,10.4,11]"
   ]
  },
  {
   "cell_type": "code",
   "execution_count": 34,
   "id": "fb28b58c",
   "metadata": {},
   "outputs": [
    {
     "name": "stdout",
     "output_type": "stream",
     "text": [
      "[-1.55385602 -0.81667781 -0.33968015  0.44086148  1.00458598  1.26476653]\n"
     ]
    }
   ],
   "source": [
    "x = np.array([4.5, 6.2, 7.3, 9.1, 10.4, 11])\n",
    "mean = np.mean(x)\n",
    "std_dev = np.std(x)\n",
    "\n",
    "z_scores = (x - mean) / std_dev\n",
    "\n",
    "print(z_scores)"
   ]
  }
 ],
 "metadata": {
  "kernelspec": {
   "display_name": "Python 3 (ipykernel)",
   "language": "python",
   "name": "python3"
  },
  "language_info": {
   "codemirror_mode": {
    "name": "ipython",
    "version": 3
   },
   "file_extension": ".py",
   "mimetype": "text/x-python",
   "name": "python",
   "nbconvert_exporter": "python",
   "pygments_lexer": "ipython3",
   "version": "3.10.9"
  }
 },
 "nbformat": 4,
 "nbformat_minor": 5
}
