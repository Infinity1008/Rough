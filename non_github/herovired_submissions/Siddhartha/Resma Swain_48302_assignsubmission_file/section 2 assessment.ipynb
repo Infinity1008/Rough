{
 "cells": [
  {
   "cell_type": "code",
   "execution_count": 2,
   "id": "af2346d1",
   "metadata": {},
   "outputs": [],
   "source": [
    "import pandas as pd\n",
    "import numpy as np"
   ]
  },
  {
   "cell_type": "code",
   "execution_count": 3,
   "id": "386421e7",
   "metadata": {
    "scrolled": false
   },
   "outputs": [
    {
     "name": "stderr",
     "output_type": "stream",
     "text": [
      "C:\\Users\\RUPAM\\anaconda3\\lib\\site-packages\\openpyxl\\worksheet\\_read_only.py:79: UserWarning: Unknown extension is not supported and will be removed\n",
      "  for idx, row in parser.parse():\n"
     ]
    }
   ],
   "source": [
    "df=pd.read_excel(\"Bank Personal Loan Modelling.xlsx\",sheet_name=\"Data\")"
   ]
  },
  {
   "cell_type": "code",
   "execution_count": 4,
   "id": "d18c1276",
   "metadata": {},
   "outputs": [
    {
     "data": {
      "text/html": [
       "<div>\n",
       "<style scoped>\n",
       "    .dataframe tbody tr th:only-of-type {\n",
       "        vertical-align: middle;\n",
       "    }\n",
       "\n",
       "    .dataframe tbody tr th {\n",
       "        vertical-align: top;\n",
       "    }\n",
       "\n",
       "    .dataframe thead th {\n",
       "        text-align: right;\n",
       "    }\n",
       "</style>\n",
       "<table border=\"1\" class=\"dataframe\">\n",
       "  <thead>\n",
       "    <tr style=\"text-align: right;\">\n",
       "      <th></th>\n",
       "      <th>ID</th>\n",
       "      <th>Age</th>\n",
       "      <th>Experience</th>\n",
       "      <th>Income</th>\n",
       "      <th>ZIP Code</th>\n",
       "      <th>Family</th>\n",
       "      <th>CCAvg</th>\n",
       "      <th>Education</th>\n",
       "      <th>Mortgage</th>\n",
       "      <th>Personal Loan</th>\n",
       "      <th>Securities Account</th>\n",
       "      <th>CD Account</th>\n",
       "      <th>Online</th>\n",
       "      <th>CreditCard</th>\n",
       "    </tr>\n",
       "  </thead>\n",
       "  <tbody>\n",
       "    <tr>\n",
       "      <th>0</th>\n",
       "      <td>1</td>\n",
       "      <td>25</td>\n",
       "      <td>1</td>\n",
       "      <td>49</td>\n",
       "      <td>91107</td>\n",
       "      <td>4</td>\n",
       "      <td>1.6</td>\n",
       "      <td>1</td>\n",
       "      <td>0</td>\n",
       "      <td>0</td>\n",
       "      <td>1</td>\n",
       "      <td>0</td>\n",
       "      <td>0</td>\n",
       "      <td>0</td>\n",
       "    </tr>\n",
       "    <tr>\n",
       "      <th>1</th>\n",
       "      <td>2</td>\n",
       "      <td>45</td>\n",
       "      <td>19</td>\n",
       "      <td>34</td>\n",
       "      <td>90089</td>\n",
       "      <td>3</td>\n",
       "      <td>1.5</td>\n",
       "      <td>1</td>\n",
       "      <td>0</td>\n",
       "      <td>0</td>\n",
       "      <td>1</td>\n",
       "      <td>0</td>\n",
       "      <td>0</td>\n",
       "      <td>0</td>\n",
       "    </tr>\n",
       "    <tr>\n",
       "      <th>2</th>\n",
       "      <td>3</td>\n",
       "      <td>39</td>\n",
       "      <td>15</td>\n",
       "      <td>11</td>\n",
       "      <td>94720</td>\n",
       "      <td>1</td>\n",
       "      <td>1.0</td>\n",
       "      <td>1</td>\n",
       "      <td>0</td>\n",
       "      <td>0</td>\n",
       "      <td>0</td>\n",
       "      <td>0</td>\n",
       "      <td>0</td>\n",
       "      <td>0</td>\n",
       "    </tr>\n",
       "    <tr>\n",
       "      <th>3</th>\n",
       "      <td>4</td>\n",
       "      <td>35</td>\n",
       "      <td>9</td>\n",
       "      <td>100</td>\n",
       "      <td>94112</td>\n",
       "      <td>1</td>\n",
       "      <td>2.7</td>\n",
       "      <td>2</td>\n",
       "      <td>0</td>\n",
       "      <td>0</td>\n",
       "      <td>0</td>\n",
       "      <td>0</td>\n",
       "      <td>0</td>\n",
       "      <td>0</td>\n",
       "    </tr>\n",
       "    <tr>\n",
       "      <th>4</th>\n",
       "      <td>5</td>\n",
       "      <td>35</td>\n",
       "      <td>8</td>\n",
       "      <td>45</td>\n",
       "      <td>91330</td>\n",
       "      <td>4</td>\n",
       "      <td>1.0</td>\n",
       "      <td>2</td>\n",
       "      <td>0</td>\n",
       "      <td>0</td>\n",
       "      <td>0</td>\n",
       "      <td>0</td>\n",
       "      <td>0</td>\n",
       "      <td>1</td>\n",
       "    </tr>\n",
       "    <tr>\n",
       "      <th>...</th>\n",
       "      <td>...</td>\n",
       "      <td>...</td>\n",
       "      <td>...</td>\n",
       "      <td>...</td>\n",
       "      <td>...</td>\n",
       "      <td>...</td>\n",
       "      <td>...</td>\n",
       "      <td>...</td>\n",
       "      <td>...</td>\n",
       "      <td>...</td>\n",
       "      <td>...</td>\n",
       "      <td>...</td>\n",
       "      <td>...</td>\n",
       "      <td>...</td>\n",
       "    </tr>\n",
       "    <tr>\n",
       "      <th>4995</th>\n",
       "      <td>4996</td>\n",
       "      <td>29</td>\n",
       "      <td>3</td>\n",
       "      <td>40</td>\n",
       "      <td>92697</td>\n",
       "      <td>1</td>\n",
       "      <td>1.9</td>\n",
       "      <td>3</td>\n",
       "      <td>0</td>\n",
       "      <td>0</td>\n",
       "      <td>0</td>\n",
       "      <td>0</td>\n",
       "      <td>1</td>\n",
       "      <td>0</td>\n",
       "    </tr>\n",
       "    <tr>\n",
       "      <th>4996</th>\n",
       "      <td>4997</td>\n",
       "      <td>30</td>\n",
       "      <td>4</td>\n",
       "      <td>15</td>\n",
       "      <td>92037</td>\n",
       "      <td>4</td>\n",
       "      <td>0.4</td>\n",
       "      <td>1</td>\n",
       "      <td>85</td>\n",
       "      <td>0</td>\n",
       "      <td>0</td>\n",
       "      <td>0</td>\n",
       "      <td>1</td>\n",
       "      <td>0</td>\n",
       "    </tr>\n",
       "    <tr>\n",
       "      <th>4997</th>\n",
       "      <td>4998</td>\n",
       "      <td>63</td>\n",
       "      <td>39</td>\n",
       "      <td>24</td>\n",
       "      <td>93023</td>\n",
       "      <td>2</td>\n",
       "      <td>0.3</td>\n",
       "      <td>3</td>\n",
       "      <td>0</td>\n",
       "      <td>0</td>\n",
       "      <td>0</td>\n",
       "      <td>0</td>\n",
       "      <td>0</td>\n",
       "      <td>0</td>\n",
       "    </tr>\n",
       "    <tr>\n",
       "      <th>4998</th>\n",
       "      <td>4999</td>\n",
       "      <td>65</td>\n",
       "      <td>40</td>\n",
       "      <td>49</td>\n",
       "      <td>90034</td>\n",
       "      <td>3</td>\n",
       "      <td>0.5</td>\n",
       "      <td>2</td>\n",
       "      <td>0</td>\n",
       "      <td>0</td>\n",
       "      <td>0</td>\n",
       "      <td>0</td>\n",
       "      <td>1</td>\n",
       "      <td>0</td>\n",
       "    </tr>\n",
       "    <tr>\n",
       "      <th>4999</th>\n",
       "      <td>5000</td>\n",
       "      <td>28</td>\n",
       "      <td>4</td>\n",
       "      <td>83</td>\n",
       "      <td>92612</td>\n",
       "      <td>3</td>\n",
       "      <td>0.8</td>\n",
       "      <td>1</td>\n",
       "      <td>0</td>\n",
       "      <td>0</td>\n",
       "      <td>0</td>\n",
       "      <td>0</td>\n",
       "      <td>1</td>\n",
       "      <td>1</td>\n",
       "    </tr>\n",
       "  </tbody>\n",
       "</table>\n",
       "<p>5000 rows × 14 columns</p>\n",
       "</div>"
      ],
      "text/plain": [
       "        ID  Age  Experience  Income  ZIP Code  Family  CCAvg  Education  \\\n",
       "0        1   25           1      49     91107       4    1.6          1   \n",
       "1        2   45          19      34     90089       3    1.5          1   \n",
       "2        3   39          15      11     94720       1    1.0          1   \n",
       "3        4   35           9     100     94112       1    2.7          2   \n",
       "4        5   35           8      45     91330       4    1.0          2   \n",
       "...    ...  ...         ...     ...       ...     ...    ...        ...   \n",
       "4995  4996   29           3      40     92697       1    1.9          3   \n",
       "4996  4997   30           4      15     92037       4    0.4          1   \n",
       "4997  4998   63          39      24     93023       2    0.3          3   \n",
       "4998  4999   65          40      49     90034       3    0.5          2   \n",
       "4999  5000   28           4      83     92612       3    0.8          1   \n",
       "\n",
       "      Mortgage  Personal Loan  Securities Account  CD Account  Online  \\\n",
       "0            0              0                   1           0       0   \n",
       "1            0              0                   1           0       0   \n",
       "2            0              0                   0           0       0   \n",
       "3            0              0                   0           0       0   \n",
       "4            0              0                   0           0       0   \n",
       "...        ...            ...                 ...         ...     ...   \n",
       "4995         0              0                   0           0       1   \n",
       "4996        85              0                   0           0       1   \n",
       "4997         0              0                   0           0       0   \n",
       "4998         0              0                   0           0       1   \n",
       "4999         0              0                   0           0       1   \n",
       "\n",
       "      CreditCard  \n",
       "0              0  \n",
       "1              0  \n",
       "2              0  \n",
       "3              0  \n",
       "4              1  \n",
       "...          ...  \n",
       "4995           0  \n",
       "4996           0  \n",
       "4997           0  \n",
       "4998           0  \n",
       "4999           1  \n",
       "\n",
       "[5000 rows x 14 columns]"
      ]
     },
     "execution_count": 4,
     "metadata": {},
     "output_type": "execute_result"
    }
   ],
   "source": [
    "df"
   ]
  },
  {
   "cell_type": "code",
   "execution_count": 13,
   "id": "92ae2575",
   "metadata": {},
   "outputs": [
    {
     "data": {
      "text/html": [
       "<div>\n",
       "<style scoped>\n",
       "    .dataframe tbody tr th:only-of-type {\n",
       "        vertical-align: middle;\n",
       "    }\n",
       "\n",
       "    .dataframe tbody tr th {\n",
       "        vertical-align: top;\n",
       "    }\n",
       "\n",
       "    .dataframe thead th {\n",
       "        text-align: right;\n",
       "    }\n",
       "</style>\n",
       "<table border=\"1\" class=\"dataframe\">\n",
       "  <thead>\n",
       "    <tr style=\"text-align: right;\">\n",
       "      <th></th>\n",
       "      <th>ID</th>\n",
       "      <th>Age</th>\n",
       "      <th>Experience</th>\n",
       "      <th>Income</th>\n",
       "      <th>ZIP Code</th>\n",
       "      <th>Family</th>\n",
       "      <th>CCAvg</th>\n",
       "      <th>Education</th>\n",
       "      <th>Mortgage</th>\n",
       "      <th>Personal Loan</th>\n",
       "      <th>Securities Account</th>\n",
       "      <th>CD Account</th>\n",
       "      <th>Online</th>\n",
       "      <th>CreditCard</th>\n",
       "    </tr>\n",
       "  </thead>\n",
       "  <tbody>\n",
       "    <tr>\n",
       "      <th>count</th>\n",
       "      <td>5000.000000</td>\n",
       "      <td>5000.000000</td>\n",
       "      <td>5000.000000</td>\n",
       "      <td>5000.000000</td>\n",
       "      <td>5000.000000</td>\n",
       "      <td>5000.000000</td>\n",
       "      <td>5000.000000</td>\n",
       "      <td>5000.000000</td>\n",
       "      <td>5000.000000</td>\n",
       "      <td>5000.000000</td>\n",
       "      <td>5000.000000</td>\n",
       "      <td>5000.00000</td>\n",
       "      <td>5000.000000</td>\n",
       "      <td>5000.000000</td>\n",
       "    </tr>\n",
       "    <tr>\n",
       "      <th>mean</th>\n",
       "      <td>2500.500000</td>\n",
       "      <td>45.338400</td>\n",
       "      <td>20.104600</td>\n",
       "      <td>73.774200</td>\n",
       "      <td>93152.503000</td>\n",
       "      <td>2.396400</td>\n",
       "      <td>1.937913</td>\n",
       "      <td>1.881000</td>\n",
       "      <td>56.498800</td>\n",
       "      <td>0.096000</td>\n",
       "      <td>0.104400</td>\n",
       "      <td>0.06040</td>\n",
       "      <td>0.596800</td>\n",
       "      <td>0.294000</td>\n",
       "    </tr>\n",
       "    <tr>\n",
       "      <th>std</th>\n",
       "      <td>1443.520003</td>\n",
       "      <td>11.463166</td>\n",
       "      <td>11.467954</td>\n",
       "      <td>46.033729</td>\n",
       "      <td>2121.852197</td>\n",
       "      <td>1.147663</td>\n",
       "      <td>1.747666</td>\n",
       "      <td>0.839869</td>\n",
       "      <td>101.713802</td>\n",
       "      <td>0.294621</td>\n",
       "      <td>0.305809</td>\n",
       "      <td>0.23825</td>\n",
       "      <td>0.490589</td>\n",
       "      <td>0.455637</td>\n",
       "    </tr>\n",
       "    <tr>\n",
       "      <th>min</th>\n",
       "      <td>1.000000</td>\n",
       "      <td>23.000000</td>\n",
       "      <td>-3.000000</td>\n",
       "      <td>8.000000</td>\n",
       "      <td>9307.000000</td>\n",
       "      <td>1.000000</td>\n",
       "      <td>0.000000</td>\n",
       "      <td>1.000000</td>\n",
       "      <td>0.000000</td>\n",
       "      <td>0.000000</td>\n",
       "      <td>0.000000</td>\n",
       "      <td>0.00000</td>\n",
       "      <td>0.000000</td>\n",
       "      <td>0.000000</td>\n",
       "    </tr>\n",
       "    <tr>\n",
       "      <th>25%</th>\n",
       "      <td>1250.750000</td>\n",
       "      <td>35.000000</td>\n",
       "      <td>10.000000</td>\n",
       "      <td>39.000000</td>\n",
       "      <td>91911.000000</td>\n",
       "      <td>1.000000</td>\n",
       "      <td>0.700000</td>\n",
       "      <td>1.000000</td>\n",
       "      <td>0.000000</td>\n",
       "      <td>0.000000</td>\n",
       "      <td>0.000000</td>\n",
       "      <td>0.00000</td>\n",
       "      <td>0.000000</td>\n",
       "      <td>0.000000</td>\n",
       "    </tr>\n",
       "    <tr>\n",
       "      <th>50%</th>\n",
       "      <td>2500.500000</td>\n",
       "      <td>45.000000</td>\n",
       "      <td>20.000000</td>\n",
       "      <td>64.000000</td>\n",
       "      <td>93437.000000</td>\n",
       "      <td>2.000000</td>\n",
       "      <td>1.500000</td>\n",
       "      <td>2.000000</td>\n",
       "      <td>0.000000</td>\n",
       "      <td>0.000000</td>\n",
       "      <td>0.000000</td>\n",
       "      <td>0.00000</td>\n",
       "      <td>1.000000</td>\n",
       "      <td>0.000000</td>\n",
       "    </tr>\n",
       "    <tr>\n",
       "      <th>75%</th>\n",
       "      <td>3750.250000</td>\n",
       "      <td>55.000000</td>\n",
       "      <td>30.000000</td>\n",
       "      <td>98.000000</td>\n",
       "      <td>94608.000000</td>\n",
       "      <td>3.000000</td>\n",
       "      <td>2.500000</td>\n",
       "      <td>3.000000</td>\n",
       "      <td>101.000000</td>\n",
       "      <td>0.000000</td>\n",
       "      <td>0.000000</td>\n",
       "      <td>0.00000</td>\n",
       "      <td>1.000000</td>\n",
       "      <td>1.000000</td>\n",
       "    </tr>\n",
       "    <tr>\n",
       "      <th>max</th>\n",
       "      <td>5000.000000</td>\n",
       "      <td>67.000000</td>\n",
       "      <td>43.000000</td>\n",
       "      <td>224.000000</td>\n",
       "      <td>96651.000000</td>\n",
       "      <td>4.000000</td>\n",
       "      <td>10.000000</td>\n",
       "      <td>3.000000</td>\n",
       "      <td>635.000000</td>\n",
       "      <td>1.000000</td>\n",
       "      <td>1.000000</td>\n",
       "      <td>1.00000</td>\n",
       "      <td>1.000000</td>\n",
       "      <td>1.000000</td>\n",
       "    </tr>\n",
       "  </tbody>\n",
       "</table>\n",
       "</div>"
      ],
      "text/plain": [
       "                ID          Age   Experience       Income      ZIP Code  \\\n",
       "count  5000.000000  5000.000000  5000.000000  5000.000000   5000.000000   \n",
       "mean   2500.500000    45.338400    20.104600    73.774200  93152.503000   \n",
       "std    1443.520003    11.463166    11.467954    46.033729   2121.852197   \n",
       "min       1.000000    23.000000    -3.000000     8.000000   9307.000000   \n",
       "25%    1250.750000    35.000000    10.000000    39.000000  91911.000000   \n",
       "50%    2500.500000    45.000000    20.000000    64.000000  93437.000000   \n",
       "75%    3750.250000    55.000000    30.000000    98.000000  94608.000000   \n",
       "max    5000.000000    67.000000    43.000000   224.000000  96651.000000   \n",
       "\n",
       "            Family        CCAvg    Education     Mortgage  Personal Loan  \\\n",
       "count  5000.000000  5000.000000  5000.000000  5000.000000    5000.000000   \n",
       "mean      2.396400     1.937913     1.881000    56.498800       0.096000   \n",
       "std       1.147663     1.747666     0.839869   101.713802       0.294621   \n",
       "min       1.000000     0.000000     1.000000     0.000000       0.000000   \n",
       "25%       1.000000     0.700000     1.000000     0.000000       0.000000   \n",
       "50%       2.000000     1.500000     2.000000     0.000000       0.000000   \n",
       "75%       3.000000     2.500000     3.000000   101.000000       0.000000   \n",
       "max       4.000000    10.000000     3.000000   635.000000       1.000000   \n",
       "\n",
       "       Securities Account  CD Account       Online   CreditCard  \n",
       "count         5000.000000  5000.00000  5000.000000  5000.000000  \n",
       "mean             0.104400     0.06040     0.596800     0.294000  \n",
       "std              0.305809     0.23825     0.490589     0.455637  \n",
       "min              0.000000     0.00000     0.000000     0.000000  \n",
       "25%              0.000000     0.00000     0.000000     0.000000  \n",
       "50%              0.000000     0.00000     1.000000     0.000000  \n",
       "75%              0.000000     0.00000     1.000000     1.000000  \n",
       "max              1.000000     1.00000     1.000000     1.000000  "
      ]
     },
     "execution_count": 13,
     "metadata": {},
     "output_type": "execute_result"
    }
   ],
   "source": [
    "df.describe()"
   ]
  },
  {
   "cell_type": "markdown",
   "id": "18b7b5c9",
   "metadata": {},
   "source": [
    "### Q9- Give all the measure of central tendency for all the quantitative variables which are continuous and discrete"
   ]
  },
  {
   "cell_type": "code",
   "execution_count": 16,
   "id": "34fa6764",
   "metadata": {},
   "outputs": [
    {
     "name": "stdout",
     "output_type": "stream",
     "text": [
      "Variable: Age\n",
      "Mean: 45.3384\n",
      "Median: 45.0\n",
      "Mode: 35\n",
      "\n",
      "Variable: Experience\n",
      "Mean: 20.1046\n",
      "Median: 20.0\n",
      "Mode: 32\n",
      "\n",
      "Variable: Income\n",
      "Mean: 73.7742\n",
      "Median: 64.0\n",
      "Mode: 44\n",
      "\n",
      "Variable: Family\n",
      "Mean: 2.3964\n",
      "Median: 2.0\n",
      "Mode: 1\n",
      "\n",
      "Variable: CCAvg\n",
      "Mean: 1.9379133333333332\n",
      "Median: 1.5\n",
      "Mode: 0.3\n",
      "\n",
      "Variable: Mortgage\n",
      "Mean: 56.4988\n",
      "Median: 0.0\n",
      "Mode: 0\n",
      "\n"
     ]
    }
   ],
   "source": [
    "from scipy import stats\n",
    "quantitative_variables = ['Age', 'Experience', 'Income', 'Family', 'CCAvg', 'Mortgage']\n",
    "\n",
    "for variable in quantitative_variables:\n",
    "    mean = df[variable].mean()\n",
    "    median = df[variable].median()\n",
    "    \n",
    "    \n",
    "    print(\"Variable:\", variable)\n",
    "    print(\"Mean:\", mean)\n",
    "    print(\"Median:\", median)\n",
    "    print(\"Mode:\", mode)\n",
    "    print()\n"
   ]
  },
  {
   "cell_type": "markdown",
   "id": "1010569d",
   "metadata": {},
   "source": [
    "### Q10 Can you apply any statistical method to observe any similarity in distribution between age and experience variable."
   ]
  },
  {
   "cell_type": "code",
   "execution_count": 18,
   "id": "6910583a",
   "metadata": {},
   "outputs": [
    {
     "name": "stdout",
     "output_type": "stream",
     "text": [
      "0.994214856968332\n"
     ]
    }
   ],
   "source": [
    "correlation = df['Age'].corr(df['Experience'])\n",
    "print(correlation)"
   ]
  },
  {
   "cell_type": "markdown",
   "id": "8ffa724e",
   "metadata": {},
   "source": [
    "### Q11 who are the most frequent family members preent in this dataset"
   ]
  },
  {
   "cell_type": "code",
   "execution_count": 19,
   "id": "b3f018ac",
   "metadata": {},
   "outputs": [
    {
     "name": "stdout",
     "output_type": "stream",
     "text": [
      "Most frequent family members:\n",
      "0    1\n",
      "Name: Family, dtype: int64\n"
     ]
    }
   ],
   "source": [
    "\n",
    "family_mode = df['Family'].mode()\n",
    "\n",
    "print(\"Most frequent family members:\")\n",
    "print(family_mode)"
   ]
  },
  {
   "cell_type": "markdown",
   "id": "e7304891",
   "metadata": {},
   "source": [
    "### Q12. what is the coefficient of variation you can observe in the 'income' variable"
   ]
  },
  {
   "cell_type": "code",
   "execution_count": 21,
   "id": "e0970356",
   "metadata": {},
   "outputs": [
    {
     "name": "stdout",
     "output_type": "stream",
     "text": [
      "Coefficient of Variation for 'Income': 62.39814097758612\n"
     ]
    }
   ],
   "source": [
    "\n",
    "income_cv = (df['Income'].std() / df['Income'].mean()) * 100\n",
    "\n",
    "print(\"Coefficient of Variation for 'Income':\", income_cv)\n"
   ]
  },
  {
   "cell_type": "markdown",
   "id": "ce862c86",
   "metadata": {},
   "source": [
    "### Q13 The 'mortgage' variable is having a lots of zeros . impute with some business logical value that you feel fit for the data"
   ]
  },
  {
   "cell_type": "code",
   "execution_count": 22,
   "id": "151f855e",
   "metadata": {},
   "outputs": [
    {
     "name": "stdout",
     "output_type": "stream",
     "text": [
      "Original 'mortgage' values:\n",
      "0        0\n",
      "1        0\n",
      "2        0\n",
      "3        0\n",
      "4        0\n",
      "        ..\n",
      "4995     0\n",
      "4996    85\n",
      "4997     0\n",
      "4998     0\n",
      "4999     0\n",
      "Name: Mortgage, Length: 5000, dtype: int64\n",
      "\n",
      "Imputed 'mortgage' values:\n",
      "0        0\n",
      "1        0\n",
      "2        0\n",
      "3        0\n",
      "4        0\n",
      "        ..\n",
      "4995     0\n",
      "4996    85\n",
      "4997     0\n",
      "4998     0\n",
      "4999     0\n",
      "Name: Mortgage, Length: 5000, dtype: int64\n"
     ]
    }
   ],
   "source": [
    "# Impute 'mortgage' variable with -1 for customers without a mortgage\n",
    "df['Mortgage_imputed'] = np.where(df['Mortgage'] == 0, -1, df['Mortgage'])\n",
    "\n",
    "# Print the original and imputed 'mortgage' values\n",
    "print(\"Original 'mortgage' values:\")\n",
    "print(df['Mortgage'])\n",
    "\n",
    "print(\"\\nImputed 'mortgage' values:\")\n",
    "print(df['Mortgage'])"
   ]
  },
  {
   "cell_type": "markdown",
   "id": "0cf3592e",
   "metadata": {},
   "source": [
    "### Q14 - Do customer with credit card have any impact on their experience and income\n",
    "\n"
   ]
  },
  {
   "cell_type": "code",
   "execution_count": 23,
   "id": "80576d95",
   "metadata": {},
   "outputs": [
    {
     "name": "stdout",
     "output_type": "stream",
     "text": [
      "Mean values for customers with and without a credit card:\n",
      "            Experience     Income\n",
      "CreditCard                       \n",
      "0            20.038244  73.845042\n",
      "1            20.263946  73.604082\n"
     ]
    }
   ],
   "source": [
    "grouped_data = df.groupby(['CreditCard'])[['Experience', 'Income']].mean()\n",
    "\n",
    "\n",
    "print(\"Mean values for customers with and without a credit card:\")\n",
    "print(grouped_data)\n"
   ]
  },
  {
   "cell_type": "markdown",
   "id": "f7c7a012",
   "metadata": {},
   "source": [
    "### Q15 - Do you see any outliers in the dataset ? if yes what plot is suitable to showcase to the stakeholders"
   ]
  },
  {
   "cell_type": "code",
   "execution_count": 24,
   "id": "9a175a0c",
   "metadata": {},
   "outputs": [
    {
     "data": {
      "image/png": "[encoded data removed]",
      "text/plain": [
       "<Figure size 1200x500 with 3 Axes>"
      ]
     },
     "metadata": {},
     "output_type": "display_data"
    }
   ],
   "source": [
    "import matplotlib.pyplot as plt\n",
    "\n",
    "# Create subplots for box plots\n",
    "fig, axes = plt.subplots(nrows=1, ncols=3, figsize=(12, 5))\n",
    "\n",
    "# Box plot for 'Income'\n",
    "axes[0].boxplot(df['Income'])\n",
    "axes[0].set_title('Income')\n",
    "\n",
    "# Box plot for 'CCAvg'\n",
    "axes[1].boxplot(df['CCAvg'])\n",
    "axes[1].set_title('CCAvg')\n",
    "\n",
    "# Box plot for 'Mortgage'\n",
    "axes[2].boxplot(df['Mortgage'])\n",
    "axes[2].set_title('Mortgage')\n",
    "\n",
    "# Adjust spacing between subplots\n",
    "plt.tight_layout()\n",
    "\n",
    "# Show the plot\n",
    "plt.show()"
   ]
  },
  {
   "cell_type": "markdown",
   "id": "4f93adbc",
   "metadata": {},
   "source": [
    "### Q16 - Give us the deciles values of the variable 'income' in the dataset\n",
    "\n"
   ]
  },
  {
   "cell_type": "code",
   "execution_count": 26,
   "id": "44c7ea8a",
   "metadata": {},
   "outputs": [
    {
     "name": "stdout",
     "output_type": "stream",
     "text": [
      "Deciles of 'Income':\n",
      "Decile 10: 22.0\n",
      "Decile 20: 33.0\n",
      "Decile 30: 42.0\n",
      "Decile 40: 52.0\n",
      "Decile 50: 64.0\n",
      "Decile 60: 78.0\n",
      "Decile 70: 88.29999999999973\n",
      "Decile 80: 113.0\n",
      "Decile 90: 145.0\n"
     ]
    }
   ],
   "source": [
    "deciles = np.percentile(df['Income'], np.arange(10, 100, 10))\n",
    "\n",
    "print(\"Deciles of 'Income':\")\n",
    "for i, decile in enumerate(deciles, start=1):\n",
    "    print(f\"Decile {i * 10}: {decile}\")"
   ]
  },
  {
   "cell_type": "markdown",
   "id": "cdb99031",
   "metadata": {},
   "source": [
    "### Q17- Give the iqr of all the variables which are quantitative and continuous"
   ]
  },
  {
   "cell_type": "code",
   "execution_count": 27,
   "id": "5333de83",
   "metadata": {},
   "outputs": [
    {
     "name": "stdout",
     "output_type": "stream",
     "text": [
      "Interquartile Ranges (IQR) of quantitative and continuous variables:\n",
      "Age            20.0\n",
      "Experience     20.0\n",
      "Income         59.0\n",
      "CCAvg           1.8\n",
      "Mortgage      101.0\n",
      "dtype: float64\n"
     ]
    }
   ],
   "source": [
    "quant_continuous_vars = ['Age', 'Experience', 'Income', 'CCAvg', 'Mortgage']\n",
    "\n",
    "\n",
    "iqr = df[quant_continuous_vars].quantile(0.75) - df[quant_continuous_vars].quantile(0.25)\n",
    "\n",
    "print(\"Interquartile Ranges (IQR) of quantitative and continuous variables:\")\n",
    "print(iqr)\n"
   ]
  },
  {
   "cell_type": "markdown",
   "id": "46165396",
   "metadata": {},
   "source": [
    "### Q18- do the higher income holder spend more on credit cards"
   ]
  },
  {
   "cell_type": "code",
   "execution_count": 28,
   "id": "5a1f78aa",
   "metadata": {},
   "outputs": [
    {
     "name": "stdout",
     "output_type": "stream",
     "text": [
      "Mean Credit Card Spending by Income:\n",
      "Income\n",
      "8      0.428986\n",
      "9      0.384615\n",
      "10     0.481159\n",
      "11     0.402469\n",
      "12     0.522222\n",
      "         ...   \n",
      "203    9.400000\n",
      "204    5.366667\n",
      "205    7.566667\n",
      "218    6.666667\n",
      "224    6.666667\n",
      "Name: CCAvg, Length: 162, dtype: float64\n"
     ]
    }
   ],
   "source": [
    "mean_cc_avg_by_income = df.groupby('Income')['CCAvg'].mean()\n",
    "\n",
    "print(\"Mean Credit Card Spending by Income:\")\n",
    "print(mean_cc_avg_by_income)\n"
   ]
  },
  {
   "cell_type": "markdown",
   "id": "cfcd7cbe",
   "metadata": {},
   "source": [
    "### Q19 Do customers using bank internet facilities paid higher?"
   ]
  },
  {
   "cell_type": "code",
   "execution_count": 29,
   "id": "96022971",
   "metadata": {},
   "outputs": [
    {
     "name": "stdout",
     "output_type": "stream",
     "text": [
      "Average Income for Customers Using Bank Internet Facilities: 74.31166219839142\n",
      "Average Credit Card Spending for Customers Using Bank Internet Facilities: 1.9456101190476192\n"
     ]
    }
   ],
   "source": [
    "# Calculate the average income and credit card spending for customers using bank internet facilities\n",
    "avg_income_online = df[df['Online'] == 1]['Income'].mean()\n",
    "avg_ccavg_online = df[df['Online'] == 1]['CCAvg'].mean()\n",
    "\n",
    "# Calculate the average income and credit card spending for customers not using bank internet facilities\n",
    "avg_income_offline = df[df['Online'] == 0]['Income'].mean()\n",
    "avg_ccavg_offline = df[df['Online'] == 0]['CCAvg'].mean()\n",
    "\n",
    "# Print the results\n",
    "print(\"Average Income for Customers Using Bank Internet Facilities:\", avg_income_online)\n",
    "print(\"Average Credit Card Spending for Customers Using Bank Internet Facilities:\",avg_ccavg_offline)"
   ]
  },
  {
   "cell_type": "markdown",
   "id": "13c97f53",
   "metadata": {},
   "source": [
    "### Q20 calculate the z score of the income variable.¶"
   ]
  },
  {
   "cell_type": "code",
   "execution_count": 30,
   "id": "ed559667",
   "metadata": {},
   "outputs": [
    {
     "name": "stdout",
     "output_type": "stream",
     "text": [
      "0      -0.538175\n",
      "1      -0.864023\n",
      "2      -1.363657\n",
      "3       0.569708\n",
      "4      -0.625068\n",
      "          ...   \n",
      "4995   -0.733684\n",
      "4996   -1.276764\n",
      "4997   -1.081255\n",
      "4998   -0.538175\n",
      "4999    0.200414\n",
      "Name: Income, Length: 5000, dtype: float64\n"
     ]
    }
   ],
   "source": [
    "mean_income = df['Income'].mean()\n",
    "std_income = df['Income'].std()\n",
    "\n",
    "\n",
    "z_scores = (df['Income'] - mean_income) / std_income\n",
    "\n",
    "print(z_scores)"
   ]
  },
  {
   "cell_type": "code",
   "execution_count": null,
   "id": "0e62572a",
   "metadata": {},
   "outputs": [],
   "source": []
  }
 ],
 "metadata": {
  "kernelspec": {
   "display_name": "Python 3 (ipykernel)",
   "language": "python",
   "name": "python3"
  },
  "language_info": {
   "codemirror_mode": {
    "name": "ipython",
    "version": 3
   },
   "file_extension": ".py",
   "mimetype": "text/x-python",
   "name": "python",
   "nbconvert_exporter": "python",
   "pygments_lexer": "ipython3",
   "version": "3.9.16"
  }
 },
 "nbformat": 4,
 "nbformat_minor": 5
}
