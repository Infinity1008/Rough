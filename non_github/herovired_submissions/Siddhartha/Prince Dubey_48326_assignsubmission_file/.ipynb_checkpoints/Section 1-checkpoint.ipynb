{
 "cells": [
  {
   "cell_type": "code",
   "execution_count": 3,
   "id": "cc1d023e",
   "metadata": {},
   "outputs": [
    {
     "name": "stdout",
     "output_type": "stream",
     "text": [
      "Calculated Mean: 250.0\n",
      "Calculated Standard Deviation: 47.0\n",
      "Is the median close to the mean?: False\n"
     ]
    }
   ],
   "source": [
    "Section1 qst 1\n",
    "\n",
    "import statistics\n",
    "mean = 250.00\n",
    "standard_deviation = 47.00\n",
    "median = 202.00\n",
    "data = [mean - standard_deviation, mean, mean + standard_deviation]\n",
    "calculated_mean = statistics.mean(data)\n",
    "calculated_std_dev = statistics.stdev(data)\n",
    "is_close = abs(median - calculated_mean) <= calculated_std_dev\n",
    "print(f\"Calculated Mean: {calculated_mean}\")\n",
    "print(f\"Calculated Standard Deviation: {calculated_std_dev}\")\n",
    "print(f\"Is the median close to the mean?: {is_close}\")\n",
    "Z_Score= (mean-median) / std_dev\n"
   ]
  },
  {
   "cell_type": "code",
   "execution_count": 3,
   "id": "876fa03b",
   "metadata": {},
   "outputs": [
    {
     "name": "stdout",
     "output_type": "stream",
     "text": [
      "The locality has bigger-sized houses.\n"
     ]
    }
   ],
   "source": [
    "average_size = 2224\n",
    "standard_deviation = 248\n",
    "median_size = 2220\n",
    "\n",
    "if median_size > average_size:\n",
    "    print(\"The locality has smaller-sized houses.\")\n",
    "elif median_size < average_size:\n",
    "    print(\"The locality has bigger-sized houses.\")\n",
    "else:\n",
    "    print(\"The locality has houses of similar size.\")\n"
   ]
  },
  {
   "cell_type": "code",
   "execution_count": 4,
   "id": "494f9c2b",
   "metadata": {},
   "outputs": [
    {
     "name": "stdout",
     "output_type": "stream",
     "text": [
      "Statistical Measures:\n",
      "Locality X:\n",
      "Mean: 8.00 L\n",
      "Standard Deviation: 3.74 L\n",
      "Locality Y:\n",
      "Mean: 8.16 L\n",
      "Standard Deviation: 3.63 L\n",
      "Locality Y is better for investment.\n"
     ]
    }
   ],
   "source": [
    "import numpy as np\n",
    "\n",
    "\n",
    "prices_X = np.array([2.00, 10.00, 8.00, 12.00])\n",
    "prices_Y = np.array([2.5, 9.50, 8.15, 12.50])\n",
    "\n",
    "\n",
    "mean_X = np.mean(prices_X)\n",
    "mean_Y = np.mean(prices_Y)\n",
    "\n",
    "std_dev_X = np.std(prices_X)\n",
    "std_dev_Y = np.std(prices_Y)\n",
    "\n",
    "print(\"Statistical Measures:\")\n",
    "print(\"Locality X:\")\n",
    "print(f\"Mean: {mean_X:.2f} L\")\n",
    "print(f\"Standard Deviation: {std_dev_X:.2f} L\")\n",
    "print(\"Locality Y:\")\n",
    "print(f\"Mean: {mean_Y:.2f} L\")\n",
    "print(f\"Standard Deviation: {std_dev_Y:.2f} L\")\n",
    "\n",
    "\n",
    "if mean_X > mean_Y and std_dev_X < std_dev_Y:\n",
    "    print(\"Locality X is better for investment.\")\n",
    "elif mean_X < mean_Y and std_dev_X > std_dev_Y:\n",
    "    print(\"Locality Y is better for investment.\")\n",
    "else:\n",
    "    print(\"Both localities have similar investment potential.\")\n"
   ]
  },
  {
   "cell_type": "code",
   "execution_count": 5,
   "id": "7d446f25",
   "metadata": {},
   "outputs": [
    {
     "name": "stdout",
     "output_type": "stream",
     "text": [
      "Class interval with the highest frequency: 35 - 45\n",
      "Class interval with the lowest frequency: 55 - 65\n",
      "Number of patients aged 45 years and above: 19\n",
      "Modal class interval: 35 - 45\n",
      "Median class interval of age: 35 - 45\n"
     ]
    }
   ],
   "source": [
    "# Frequency distribution table\n",
    "age_intervals = ['5 - 15', '15 - 25', '25 - 35', '35 - 45', '45 - 55', '55 - 65']\n",
    "patient_counts = [6, 11, 21, 23, 14, 5]\n",
    "\n",
    "# a. Which class interval has the highest frequency?\n",
    "highest_frequency = max(patient_counts)\n",
    "highest_frequency_index = patient_counts.index(highest_frequency)\n",
    "class_interval_highest_frequency = age_intervals[highest_frequency_index]\n",
    "print(\"Class interval with the highest frequency:\", class_interval_highest_frequency)\n",
    "\n",
    "# b. Which age was affected the least?\n",
    "lowest_frequency = min(patient_counts)\n",
    "lowest_frequency_index = patient_counts.index(lowest_frequency)\n",
    "class_interval_lowest_frequency = age_intervals[lowest_frequency_index]\n",
    "print(\"Class interval with the lowest frequency:\", class_interval_lowest_frequency)\n",
    "\n",
    "# c. How many patients of age 45 years and above were admitted?\n",
    "patients_45_above = sum(patient_counts[4:])\n",
    "print(\"Number of patients aged 45 years and above:\", patients_45_above)\n",
    "\n",
    "# d. Which is the modal class interval in the above dataset?\n",
    "modal_class_index = patient_counts.index(highest_frequency)\n",
    "modal_class_interval = age_intervals[modal_class_index]\n",
    "print(\"Modal class interval:\", modal_class_interval)\n",
    "\n",
    "# e. What is the median class interval of age?\n",
    "total_patients = sum(patient_counts)\n",
    "half_total_patients = total_patients / 2\n",
    "\n",
    "cumulative_frequency = 0\n",
    "median_class_interval = \"\"\n",
    "\n",
    "for i, count in enumerate(patient_counts):\n",
    "    cumulative_frequency += count\n",
    "    if cumulative_frequency >= half_total_patients:\n",
    "        median_class_interval = age_intervals[i]\n",
    "        break\n",
    "\n",
    "print(\"Median class interval of age:\", median_class_interval)\n"
   ]
  },
  {
   "cell_type": "code",
   "execution_count": 6,
   "id": "d29158ed",
   "metadata": {},
   "outputs": [
    {
     "name": "stdout",
     "output_type": "stream",
     "text": [
      "Arithmetic Average Return: 4.50%\n"
     ]
    }
   ],
   "source": [
    "# Year, Return, and Asset Price data\n",
    "years = [2015, 2016, 2017, 2018, 2019, 2020]\n",
    "returns = [0.36, 0.23, -0.48, -0.30, 0.15, 0.31]\n",
    "asset_prices = [5000, 6400, 7890, 9023, 4567, 3890]\n",
    "\n",
    "# Calculate the arithmetic average return\n",
    "arithmetic_average_return = sum(returns) / len(returns)\n",
    "\n",
    "# Print the arithmetic average return\n",
    "print(\"Arithmetic Average Return: {:.2%}\".format(arithmetic_average_return))\n",
    "\n"
   ]
  },
  {
   "cell_type": "code",
   "execution_count": 7,
   "id": "d51cb347",
   "metadata": {},
   "outputs": [
    {
     "ename": "ValueError",
     "evalue": "Sample larger than population or is negative",
     "output_type": "error",
     "traceback": [
      "\u001b[1;31m---------------------------------------------------------------------------\u001b[0m",
      "\u001b[1;31mValueError\u001b[0m                                Traceback (most recent call last)",
      "Cell \u001b[1;32mIn[7], line 9\u001b[0m\n\u001b[0;32m      6\u001b[0m sample_size \u001b[38;5;241m=\u001b[39m \u001b[38;5;241m1000\u001b[39m  \n\u001b[0;32m      8\u001b[0m \u001b[38;5;66;03m# Generate a random sample of men's heights\u001b[39;00m\n\u001b[1;32m----> 9\u001b[0m sample_heights \u001b[38;5;241m=\u001b[39m \u001b[43mrandom\u001b[49m\u001b[38;5;241;43m.\u001b[39;49m\u001b[43msample\u001b[49m\u001b[43m(\u001b[49m\u001b[38;5;28;43mrange\u001b[39;49m\u001b[43m(\u001b[49m\u001b[38;5;241;43m150\u001b[39;49m\u001b[43m,\u001b[49m\u001b[43m \u001b[49m\u001b[38;5;241;43m220\u001b[39;49m\u001b[43m)\u001b[49m\u001b[43m,\u001b[49m\u001b[43m \u001b[49m\u001b[43msample_size\u001b[49m\u001b[43m)\u001b[49m  \n\u001b[0;32m     11\u001b[0m average_height \u001b[38;5;241m=\u001b[39m \u001b[38;5;28msum\u001b[39m(sample_heights) \u001b[38;5;241m/\u001b[39m sample_size\n\u001b[0;32m     13\u001b[0m \u001b[38;5;66;03m# Print the average height\u001b[39;00m\n",
      "File \u001b[1;32m~\\anaconda3\\lib\\random.py:482\u001b[0m, in \u001b[0;36mRandom.sample\u001b[1;34m(self, population, k, counts)\u001b[0m\n\u001b[0;32m    480\u001b[0m randbelow \u001b[38;5;241m=\u001b[39m \u001b[38;5;28mself\u001b[39m\u001b[38;5;241m.\u001b[39m_randbelow\n\u001b[0;32m    481\u001b[0m \u001b[38;5;28;01mif\u001b[39;00m \u001b[38;5;129;01mnot\u001b[39;00m \u001b[38;5;241m0\u001b[39m \u001b[38;5;241m<\u001b[39m\u001b[38;5;241m=\u001b[39m k \u001b[38;5;241m<\u001b[39m\u001b[38;5;241m=\u001b[39m n:\n\u001b[1;32m--> 482\u001b[0m     \u001b[38;5;28;01mraise\u001b[39;00m \u001b[38;5;167;01mValueError\u001b[39;00m(\u001b[38;5;124m\"\u001b[39m\u001b[38;5;124mSample larger than population or is negative\u001b[39m\u001b[38;5;124m\"\u001b[39m)\n\u001b[0;32m    483\u001b[0m result \u001b[38;5;241m=\u001b[39m [\u001b[38;5;28;01mNone\u001b[39;00m] \u001b[38;5;241m*\u001b[39m k\n\u001b[0;32m    484\u001b[0m setsize \u001b[38;5;241m=\u001b[39m \u001b[38;5;241m21\u001b[39m        \u001b[38;5;66;03m# size of a small set minus size of an empty list\u001b[39;00m\n",
      "\u001b[1;31mValueError\u001b[0m: Sample larger than population or is negative"
     ]
    }
   ],
   "source": [
    "import random\n",
    "\n",
    "# Define the population size\n",
    "population_size = 7.9 * 10**9  \n",
    "\n",
    "sample_size = 1000  \n",
    "\n",
    "# Generate a random sample of men's heights\n",
    "sample_heights = random.sample(range(150, 220), sample_size)  \n",
    "\n",
    "average_height = sum(sample_heights) / sample_size\n",
    "\n",
    "# Print the average height\n",
    "print(\"Average Height of the Sample: {:.2f} cm\".format(average_height))\n"
   ]
  },
  {
   "cell_type": "code",
   "execution_count": 8,
   "id": "c33fd631",
   "metadata": {},
   "outputs": [
    {
     "name": "stdout",
     "output_type": "stream",
     "text": [
      "Z-scores:  [-1.553856019598407, -0.816677814951721, -0.3396801531215125, 0.44086147532791964, 1.004585984763621, 1.2647665275800983]\n"
     ]
    }
   ],
   "source": [
    "X = [4.5, 6.2, 7.3, 9.1, 10.4, 11]\n",
    "\n",
    "# Calculate the mean and standard deviation\n",
    "mean = np.mean(X)\n",
    "std_dev = np.std(X)\n",
    "\n",
    "# Calculate the z-scores\n",
    "z_scores = [(x - mean) / std_dev for x in X]\n",
    "\n",
    "print(\"Z-scores: \", z_scores)"
   ]
  },
  {
   "cell_type": "code",
   "execution_count": null,
   "id": "db610b6b",
   "metadata": {},
   "outputs": [],
   "source": []
  }
 ],
 "metadata": {
  "kernelspec": {
   "display_name": "Python 3 (ipykernel)",
   "language": "python",
   "name": "python3"
  },
  "language_info": {
   "codemirror_mode": {
    "name": "ipython",
    "version": 3
   },
   "file_extension": ".py",
   "mimetype": "text/x-python",
   "name": "python",
   "nbconvert_exporter": "python",
   "pygments_lexer": "ipython3",
   "version": "3.9.16"
  }
 },
 "nbformat": 4,
 "nbformat_minor": 5
}
