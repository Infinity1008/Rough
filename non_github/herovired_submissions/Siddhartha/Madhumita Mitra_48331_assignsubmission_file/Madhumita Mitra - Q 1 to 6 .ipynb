{
 "cells": [
  {
   "cell_type": "markdown",
   "id": "024cad3f",
   "metadata": {},
   "source": [
    "# Q1.  Answer\n"
   ]
  },
  {
   "cell_type": "markdown",
   "id": "9f758b9b",
   "metadata": {},
   "source": [
    "import statistics\n",
    "\n",
    "mean_sellprice=250.00\n",
    "std_sellprice=47.00\n",
    "median_sellprice=202.00\n",
    "\n",
    "Mean Sell Price: The mean sell price of Rs 250.00 indicates the average price of food items in the restaurant. If a person's budget aligns with this average price, they may find it reasonable and be more inclined to become a regular customer.\n",
    "\n",
    "Standard Deviation: The standard deviation of Rs 47.00 represents the variability or dispersion of prices around the mean. A higher standard deviation suggests a wider range of prices, which could attract customers with different budget preferences. However, a higher standard deviation could also mean some food items are priced significantly higher than the mean, which might discourage potential regular customers.\n",
    "\n",
    "Median Sell Price: The median sell price of Rs 202.00 represents the middle value in the distribution of prices. It is close to the mean sell price, suggesting that the distribution of prices is relatively symmetric. This indicates that there are food items priced both below and above the mean, potentially catering to different customer preferences.\n",
    "\n",
    "Based on these data points, it is challenging to definitively determine whether I would become a regular customer. Factors such as personal budget, preferences, taste, ambiance, and overall customer experience play a significant role for making a choice."
   ]
  },
  {
   "cell_type": "code",
   "execution_count": null,
   "id": "b2995238",
   "metadata": {},
   "outputs": [],
   "source": []
  },
  {
   "cell_type": "code",
   "execution_count": null,
   "id": "272b4db6",
   "metadata": {},
   "outputs": [],
   "source": []
  },
  {
   "cell_type": "code",
   "execution_count": null,
   "id": "e5c2df65",
   "metadata": {},
   "outputs": [],
   "source": []
  },
  {
   "cell_type": "code",
   "execution_count": null,
   "id": "1a2eeba8",
   "metadata": {},
   "outputs": [],
   "source": []
  },
  {
   "cell_type": "markdown",
   "id": "493d9bee",
   "metadata": {},
   "source": []
  },
  {
   "cell_type": "markdown",
   "id": "4be55d5b",
   "metadata": {},
   "source": [
    "# Q2.  Answer"
   ]
  },
  {
   "cell_type": "markdown",
   "id": "45b416f8",
   "metadata": {},
   "source": [
    "The average size of a house is given as 2224 square feet, which indicates the typical or average size in the locality. The median size is provided as 2220 square feet, which represents the middle value when the house sizes are arranged in ascending order.\n",
    "\n",
    "Since the median value (2220 square feet) is close to the average value (2224 square feet), it suggests that the distribution of house sizes in the locality is fairly symmetric. This means that there is no strong indication of houses being consistently bigger or smaller overall.\n",
    "\n",
    "However, without additional information or a more detailed analysis, it is difficult to definitively conclude whether the houses in the locality are generally bigger or smaller. It is possible that there is a range of house sizes, with some houses being larger and some smaller, but the overall distribution is relatively balanced around the average size."
   ]
  },
  {
   "cell_type": "markdown",
   "id": "3b761f8c",
   "metadata": {},
   "source": [
    "# Q3.  Answer\n",
    "\n",
    "\n",
    "You want to invest in real estate, and you have the data belonging to locality X and Y. Some of \n",
    "the house prices in locality X are 2.00 L,10.00 L, 8.00 L, and 12.00 L and the prices of houses in \n",
    "Y are 2.5 L, 9.50 L, 8.15 L, and 12.50 L. Conduct a statistical measure to decide which locality is \n",
    "best for investment.\n",
    "\n",
    "The average house prices in Locality Y is higher than Locality X and also shows a higher deviation from the mean, BUT there are other factors to decide which will be the best for investment such as location, market trends, and potential growth should also be taken into account."
   ]
  },
  {
   "cell_type": "code",
   "execution_count": 6,
   "id": "652bd21d",
   "metadata": {
    "scrolled": true
   },
   "outputs": [
    {
     "name": "stdout",
     "output_type": "stream",
     "text": [
      "Locality X:\n",
      "Mean house price: 8.0\n",
      "Median house price: 9.0\n",
      "Range house price: 10.0\n",
      "std house price: 3.7416573867739413\n",
      "\n",
      "Locality Y:\n",
      "Mean house price: 8.1625\n",
      "Median house price: 8.825\n",
      "Range house price: 10.0\n",
      "std house price: 3.6285973529726334\n",
      "Locality X Z-scores: [-1.60356745  0.53452248  0.          1.06904497]\n",
      "Locality Y Z-scores: [-1.56052035  0.36859973 -0.00344486  1.19536548]\n"
     ]
    }
   ],
   "source": [
    "import numpy as np\n",
    "import statistics\n",
    "\n",
    "# House prices in locality X and Y\n",
    "house_prices_X = [2.00, 10.00, 8.00, 12.00]\n",
    "house_prices_Y = [2.5, 9.50, 8.15, 12.50]\n",
    "\n",
    "\n",
    "# Calculate the mean house prices\n",
    "mean_price_X = np.mean(house_prices_X)\n",
    "mean_price_Y = np.mean(house_prices_Y)\n",
    "\n",
    "\n",
    "# Calculate the median house prices\n",
    "median_price_X = np.median(house_prices_X)\n",
    "median_price_Y = np.median(house_prices_Y)\n",
    "\n",
    "# Calculate the range house prices\n",
    "range_x = np.ptp(house_prices_X)\n",
    "range_y = np.ptp(house_prices_Y)\n",
    "\n",
    "# Calculate the STD house prices\n",
    "STD_x = np.std(house_prices_X)\n",
    "STD_y = np.std(house_prices_Y)\n",
    "\n",
    "\n",
    "# Print the mean and median house prices\n",
    "print(\"Locality X:\")\n",
    "print(\"Mean house price:\", mean_price_X)\n",
    "print(\"Median house price:\", median_price_X)\n",
    "print(\"Range house price:\", range_x)\n",
    "print(\"std house price:\", STD_x)\n",
    "\n",
    "print()\n",
    "print(\"Locality Y:\")\n",
    "print(\"Mean house price:\", mean_price_Y)\n",
    "print(\"Median house price:\", median_price_Y)\n",
    "\n",
    "print(\"Range house price:\", range_y)\n",
    "print(\"std house price:\", STD_y)\n",
    "\n",
    "# Calculate the Z-scores for each locality\n",
    "z_scores_X = (house_prices_X - mean_price_X) / STD_x\n",
    "z_scores_Y = (house_prices_Y - mean_price_Y) / STD_y\n",
    "\n",
    "# Print the Z-scores for each locality\n",
    "print(\"Locality X Z-scores:\", z_scores_X)\n",
    "print(\"Locality Y Z-scores:\", z_scores_Y)"
   ]
  },
  {
   "cell_type": "code",
   "execution_count": null,
   "id": "c91edf82",
   "metadata": {},
   "outputs": [],
   "source": []
  },
  {
   "cell_type": "markdown",
   "id": "df230bf8",
   "metadata": {},
   "source": [
    "# Q4.  Answer"
   ]
  },
  {
   "cell_type": "markdown",
   "id": "e5dd25f1",
   "metadata": {},
   "source": [
    "During a survey, the ages of 80 patients, infected by COVID and admitted to one of the city \n",
    "hospitals, were recorded. The collected data is represented in the less-than-cumulative \n",
    "frequency distribution table. Read the questions below the table and provide your answers.\n",
    "Age (in yrs.) No. of Patients\n",
    "5 - 15  = 6\n",
    "15 - 25 = 11\n",
    "25 - 35 = 21\n",
    "35 - 45 = 23\n",
    "45 - 55 = 14\n",
    "55 - 65  = 5\n",
    "a. Which class interval has the highest frequency?\n",
    "b. Which age was affected the least?\n",
    "c. How many patients of age 45 years and above were admitted?\n",
    "d. Which is the modal class interval in the above dataset?\n",
    "e. What is the median class interval of age?"
   ]
  },
  {
   "cell_type": "markdown",
   "id": "45b5b6cf",
   "metadata": {},
   "source": [
    "a. The class interval with the highest frequency is \"35 - 45\" with 23 patients.\n",
    "\n",
    "b. The age that was affected the least is \"55 - 65\" with 5 patients.\n",
    "\n",
    "c. sum the frequencies of the class intervals \"45 - 55\" and \"55 - 65\".\n",
    "\n",
    "Number of patients of age 45 years and above = Frequency of \"45 - 55\" + Frequency of \"55 - 65\" = 14 + 5 = 19 patients.\n",
    "\n",
    "d. The modal class interval is the class interval with the highest frequency. In this case, the modal class interval is \"35 - 45\" with a frequency of 23 patients.\n",
    "\n",
    "e. To find the median class interval, we need to determine the class interval that contains the median value. Since the total number of patients is 80, the median value will be the 40th value when the ages are arranged in ascending order.\n",
    "\n",
    "Counting the frequencies cumulatively, we can determine that the median lies in the \"25 - 35\" class interval since the cumulative frequency (prior to this interval) is less than 40, but the cumulative frequency including this interval is greater than or equal to 40.\n",
    "\n",
    "Therefore, the median class interval is \"25 - 35\"."
   ]
  },
  {
   "cell_type": "code",
   "execution_count": null,
   "id": "23fd6d94",
   "metadata": {},
   "outputs": [],
   "source": []
  },
  {
   "cell_type": "code",
   "execution_count": null,
   "id": "87459be8",
   "metadata": {},
   "outputs": [],
   "source": []
  },
  {
   "cell_type": "markdown",
   "id": "91327a56",
   "metadata": {},
   "source": [
    "# Q5.  Answer"
   ]
  },
  {
   "cell_type": "markdown",
   "id": "f0e11ce7",
   "metadata": {},
   "source": [
    "Assume, you are a trader and have invested over the years for your retirement. Lately, with the \n",
    "fluctuating economical condition, you are worried about the average return on investment. What \n",
    "average method is appropriate to compute the average return for the data given in the table?"
   ]
  },
  {
   "cell_type": "code",
   "execution_count": null,
   "id": "a292559e",
   "metadata": {},
   "outputs": [],
   "source": [
    "36% is represented as 0.36."
   ]
  },
  {
   "cell_type": "code",
   "execution_count": 11,
   "id": "6a66a7ec",
   "metadata": {},
   "outputs": [
    {
     "name": "stdout",
     "output_type": "stream",
     "text": [
      "Average Return: 4.500000000000001\n"
     ]
    }
   ],
   "source": [
    "returns = [0.36, 0.23, -0.48, -0.30, 0.15, 0.31]\n",
    "\n",
    "# Compute the average return\n",
    "average_return = (sum(returns) / len(returns))* 100\n",
    "\n",
    "# Print the average return\n",
    "print(\"Average Return:\", average_return)"
   ]
  },
  {
   "cell_type": "code",
   "execution_count": 10,
   "id": "46d89365",
   "metadata": {},
   "outputs": [
    {
     "name": "stdout",
     "output_type": "stream",
     "text": [
      "Geometric Mean: -1.4282599080668423 %\n"
     ]
    }
   ],
   "source": [
    "import math\n",
    "\n",
    "returns = [0.36, 0.23, -0.48, -0.30, 0.15, 0.31]\n",
    "\n",
    "# Compute the geometric mean\n",
    "product = 1\n",
    "for value in returns:\n",
    "    product *= (1 + value)\n",
    "\n",
    "geometric_mean = (math.pow(product, 1 / len(returns)) - 1) * 100\n",
    "\n",
    "# Print the geometric mean\n",
    "print(\"Geometric Mean:\", geometric_mean, \"%\")"
   ]
  },
  {
   "cell_type": "code",
   "execution_count": null,
   "id": "b9da3911",
   "metadata": {},
   "outputs": [],
   "source": []
  },
  {
   "cell_type": "markdown",
   "id": "6005f640",
   "metadata": {},
   "source": [
    "# Q6.  Answer"
   ]
  },
  {
   "cell_type": "code",
   "execution_count": null,
   "id": "459f8a97",
   "metadata": {},
   "outputs": [],
   "source": [
    "Suppose you have been told to measure the height of all men on the earth. What strategy would \n",
    "you use?"
   ]
  },
  {
   "cell_type": "markdown",
   "id": "7a5378e6",
   "metadata": {},
   "source": [
    "Define the target population: Determine the specific population you want to measure, such as adult men or men of a certain age group.\n",
    "\n",
    "Determine the sample size: Decide on an appropriate sample size based on statistical considerations. The sample size should be large enough to represent the target population accurately but manageable in terms of resources and time.\n",
    "\n",
    "Random sampling: Use random sampling techniques to select individuals from the target population. Random sampling helps ensure that each individual has an equal chance of being included in the sample, increasing the representativeness of the sample.\n",
    "\n",
    "Data collection: Measure the height of the selected individuals using standardized and consistent measurement methods. This may involve using measuring tapes, height scales, or other appropriate measurement tools.\n",
    "\n",
    "Data analysis: Analyze the collected data to calculate statistics such as the sample mean, variance, and confidence intervals. These statistics will provide estimates of the average height and the range of heights for the target population.\n",
    "\n",
    "Extrapolation: Use statistical inference techniques to generalize the findings from the sample to the entire population. This extrapolation will provide an estimate of the average height of all men on Earth, along with a measure of uncertainty."
   ]
  },
  {
   "cell_type": "code",
   "execution_count": null,
   "id": "1b04e444",
   "metadata": {},
   "outputs": [],
   "source": []
  }
 ],
 "metadata": {
  "kernelspec": {
   "display_name": "Python 3 (ipykernel)",
   "language": "python",
   "name": "python3"
  },
  "language_info": {
   "codemirror_mode": {
    "name": "ipython",
    "version": 3
   },
   "file_extension": ".py",
   "mimetype": "text/x-python",
   "name": "python",
   "nbconvert_exporter": "python",
   "pygments_lexer": "ipython3",
   "version": "3.9.16"
  }
 },
 "nbformat": 4,
 "nbformat_minor": 5
}
