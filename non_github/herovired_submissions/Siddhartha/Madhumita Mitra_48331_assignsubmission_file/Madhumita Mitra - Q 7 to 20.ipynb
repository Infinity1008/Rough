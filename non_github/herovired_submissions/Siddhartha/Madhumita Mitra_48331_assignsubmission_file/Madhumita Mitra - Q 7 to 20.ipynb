{
 "cells": [
  {
   "cell_type": "code",
   "execution_count": 1,
   "id": "3aa07b75",
   "metadata": {},
   "outputs": [],
   "source": [
    "import pandas as pd\n",
    "import numpy as np"
   ]
  },
  {
   "cell_type": "markdown",
   "id": "1843f87b",
   "metadata": {},
   "source": [
    "# SECTION 1 - Q7.Calculate the z score of the following numbers:\n",
    " X = [4.5,6.2,7.3,9.1,10.4,11]"
   ]
  },
  {
   "cell_type": "code",
   "execution_count": 157,
   "id": "508a7d6a",
   "metadata": {},
   "outputs": [
    {
     "name": "stdout",
     "output_type": "stream",
     "text": [
      "0   -1.418470\n",
      "1   -0.745521\n",
      "2   -0.310084\n",
      "3    0.402450\n",
      "4    0.917057\n",
      "5    1.154569\n",
      "dtype: float64\n"
     ]
    }
   ],
   "source": [
    "\n",
    "X = [4.5, 6.2, 7.3, 9.1, 10.4, 11]\n",
    "\n",
    "# First Create a pandas Series\n",
    "series_X = pd.Series(X)\n",
    "\n",
    "# Then Calculate the Z-scores using pandas\n",
    "z_scores = (series_X - series_X.mean()) / series_X.std()\n",
    "\n",
    "# Then Print Z-scores\n",
    "print(z_scores)"
   ]
  },
  {
   "cell_type": "markdown",
   "id": "a96c9ae0",
   "metadata": {},
   "source": []
  },
  {
   "cell_type": "markdown",
   "id": "b6cdeb37",
   "metadata": {},
   "source": [
    "# SECTION 2 - FROM QUESTION 8 TO 20. GIVEN BELOW"
   ]
  },
  {
   "cell_type": "code",
   "execution_count": 12,
   "id": "cdbfb33b",
   "metadata": {},
   "outputs": [],
   "source": [
    "df  = pd.read_csv('bank_personal_loan_modelling.csv')"
   ]
  },
  {
   "cell_type": "code",
   "execution_count": 13,
   "id": "0b2374b8",
   "metadata": {},
   "outputs": [
    {
     "name": "stdout",
     "output_type": "stream",
     "text": [
      "<class 'pandas.core.frame.DataFrame'>\n",
      "RangeIndex: 5000 entries, 0 to 4999\n",
      "Data columns (total 14 columns):\n",
      " #   Column              Non-Null Count  Dtype  \n",
      "---  ------              --------------  -----  \n",
      " 0   ID                  5000 non-null   int64  \n",
      " 1   Age                 5000 non-null   int64  \n",
      " 2   Experience          5000 non-null   int64  \n",
      " 3   Income              5000 non-null   int64  \n",
      " 4   ZIP Code            5000 non-null   int64  \n",
      " 5   Family              5000 non-null   int64  \n",
      " 6   CCAvg               5000 non-null   float64\n",
      " 7   Education           5000 non-null   int64  \n",
      " 8   Mortgage            5000 non-null   int64  \n",
      " 9   Personal Loan       5000 non-null   int64  \n",
      " 10  Securities Account  5000 non-null   int64  \n",
      " 11  CD Account          5000 non-null   int64  \n",
      " 12  Online              5000 non-null   int64  \n",
      " 13  CreditCard          5000 non-null   int64  \n",
      "dtypes: float64(1), int64(13)\n",
      "memory usage: 547.0 KB\n"
     ]
    }
   ],
   "source": [
    "df.info()    "
   ]
  },
  {
   "cell_type": "code",
   "execution_count": 14,
   "id": "22aaea5a",
   "metadata": {},
   "outputs": [
    {
     "data": {
      "text/plain": [
       "(5000, 14)"
      ]
     },
     "execution_count": 14,
     "metadata": {},
     "output_type": "execute_result"
    }
   ],
   "source": [
    "df.shape"
   ]
  },
  {
   "cell_type": "code",
   "execution_count": 15,
   "id": "c456ad41",
   "metadata": {},
   "outputs": [
    {
     "data": {
      "text/plain": [
       "ID                      int64\n",
       "Age                     int64\n",
       "Experience              int64\n",
       "Income                  int64\n",
       "ZIP Code                int64\n",
       "Family                  int64\n",
       "CCAvg                 float64\n",
       "Education               int64\n",
       "Mortgage                int64\n",
       "Personal Loan           int64\n",
       "Securities Account      int64\n",
       "CD Account              int64\n",
       "Online                  int64\n",
       "CreditCard              int64\n",
       "dtype: object"
      ]
     },
     "execution_count": 15,
     "metadata": {},
     "output_type": "execute_result"
    }
   ],
   "source": [
    "df.dtypes"
   ]
  },
  {
   "cell_type": "code",
   "execution_count": 44,
   "id": "48f7362a",
   "metadata": {},
   "outputs": [
    {
     "data": {
      "text/plain": [
       "ID                    0\n",
       "Age                   0\n",
       "Experience            0\n",
       "Income                0\n",
       "ZIP Code              0\n",
       "Family                0\n",
       "CCAvg                 0\n",
       "Education             0\n",
       "Mortgage              0\n",
       "Personal Loan         0\n",
       "Securities Account    0\n",
       "CD Account            0\n",
       "Online                0\n",
       "CreditCard            0\n",
       "dtype: int64"
      ]
     },
     "execution_count": 44,
     "metadata": {},
     "output_type": "execute_result"
    }
   ],
   "source": [
    "df.isnull().sum()"
   ]
  },
  {
   "cell_type": "code",
   "execution_count": 27,
   "id": "ec773a9d",
   "metadata": {
    "scrolled": true
   },
   "outputs": [
    {
     "data": {
      "text/plain": [
       "89     -1\n",
       "226    -1\n",
       "315    -2\n",
       "451    -2\n",
       "524    -1\n",
       "536    -1\n",
       "540    -1\n",
       "576    -1\n",
       "583    -1\n",
       "597    -2\n",
       "649    -1\n",
       "670    -1\n",
       "686    -1\n",
       "793    -2\n",
       "889    -2\n",
       "909    -1\n",
       "1173   -1\n",
       "1428   -1\n",
       "1522   -1\n",
       "1905   -1\n",
       "2102   -1\n",
       "2430   -1\n",
       "2466   -2\n",
       "2545   -1\n",
       "2618   -3\n",
       "2717   -2\n",
       "2848   -1\n",
       "2876   -2\n",
       "2962   -2\n",
       "2980   -1\n",
       "3076   -1\n",
       "3130   -2\n",
       "3157   -1\n",
       "3279   -1\n",
       "3284   -1\n",
       "3292   -1\n",
       "3394   -1\n",
       "3425   -1\n",
       "3626   -3\n",
       "3796   -2\n",
       "3824   -1\n",
       "3887   -2\n",
       "3946   -1\n",
       "4015   -1\n",
       "4088   -1\n",
       "4116   -2\n",
       "4285   -3\n",
       "4411   -2\n",
       "4481   -2\n",
       "4514   -3\n",
       "4582   -1\n",
       "4957   -1\n",
       "Name: Experience, dtype: int64"
      ]
     },
     "execution_count": 27,
     "metadata": {},
     "output_type": "execute_result"
    }
   ],
   "source": [
    "df['Experience'][df['Experience'] < 0]"
   ]
  },
  {
   "cell_type": "markdown",
   "id": "c7a2a909",
   "metadata": {},
   "source": [
    "*** removing negative experience which is not possible"
   ]
  },
  {
   "cell_type": "code",
   "execution_count": 30,
   "id": "ee3425bd",
   "metadata": {},
   "outputs": [],
   "source": [
    "df['Experience'][df['Experience'] < 0]= df['Experience'].mean()"
   ]
  },
  {
   "cell_type": "code",
   "execution_count": 31,
   "id": "d8a4aa6f",
   "metadata": {},
   "outputs": [
    {
     "data": {
      "text/plain": [
       "Series([], Name: Experience, dtype: float64)"
      ]
     },
     "execution_count": 31,
     "metadata": {},
     "output_type": "execute_result"
    }
   ],
   "source": [
    "df['Experience'][df['Experience'] < 0]"
   ]
  },
  {
   "cell_type": "code",
   "execution_count": 24,
   "id": "5853f526",
   "metadata": {
    "scrolled": false
   },
   "outputs": [
    {
     "data": {
      "text/html": [
       "<div>\n",
       "<style scoped>\n",
       "    .dataframe tbody tr th:only-of-type {\n",
       "        vertical-align: middle;\n",
       "    }\n",
       "\n",
       "    .dataframe tbody tr th {\n",
       "        vertical-align: top;\n",
       "    }\n",
       "\n",
       "    .dataframe thead th {\n",
       "        text-align: right;\n",
       "    }\n",
       "</style>\n",
       "<table border=\"1\" class=\"dataframe\">\n",
       "  <thead>\n",
       "    <tr style=\"text-align: right;\">\n",
       "      <th></th>\n",
       "      <th>ID</th>\n",
       "      <th>Age</th>\n",
       "      <th>Experience</th>\n",
       "      <th>Income</th>\n",
       "      <th>ZIP Code</th>\n",
       "      <th>Family</th>\n",
       "      <th>CCAvg</th>\n",
       "      <th>Education</th>\n",
       "      <th>Mortgage</th>\n",
       "      <th>Personal Loan</th>\n",
       "      <th>Securities Account</th>\n",
       "      <th>CD Account</th>\n",
       "      <th>Online</th>\n",
       "      <th>CreditCard</th>\n",
       "    </tr>\n",
       "  </thead>\n",
       "  <tbody>\n",
       "    <tr>\n",
       "      <th>0</th>\n",
       "      <td>1</td>\n",
       "      <td>25</td>\n",
       "      <td>1</td>\n",
       "      <td>49</td>\n",
       "      <td>91107</td>\n",
       "      <td>4</td>\n",
       "      <td>1.6</td>\n",
       "      <td>1</td>\n",
       "      <td>0</td>\n",
       "      <td>0</td>\n",
       "      <td>1</td>\n",
       "      <td>0</td>\n",
       "      <td>0</td>\n",
       "      <td>0</td>\n",
       "    </tr>\n",
       "    <tr>\n",
       "      <th>1</th>\n",
       "      <td>2</td>\n",
       "      <td>45</td>\n",
       "      <td>19</td>\n",
       "      <td>34</td>\n",
       "      <td>90089</td>\n",
       "      <td>3</td>\n",
       "      <td>1.5</td>\n",
       "      <td>1</td>\n",
       "      <td>0</td>\n",
       "      <td>0</td>\n",
       "      <td>1</td>\n",
       "      <td>0</td>\n",
       "      <td>0</td>\n",
       "      <td>0</td>\n",
       "    </tr>\n",
       "    <tr>\n",
       "      <th>2</th>\n",
       "      <td>3</td>\n",
       "      <td>39</td>\n",
       "      <td>15</td>\n",
       "      <td>11</td>\n",
       "      <td>94720</td>\n",
       "      <td>1</td>\n",
       "      <td>1.0</td>\n",
       "      <td>1</td>\n",
       "      <td>0</td>\n",
       "      <td>0</td>\n",
       "      <td>0</td>\n",
       "      <td>0</td>\n",
       "      <td>0</td>\n",
       "      <td>0</td>\n",
       "    </tr>\n",
       "    <tr>\n",
       "      <th>3</th>\n",
       "      <td>4</td>\n",
       "      <td>35</td>\n",
       "      <td>9</td>\n",
       "      <td>100</td>\n",
       "      <td>94112</td>\n",
       "      <td>1</td>\n",
       "      <td>2.7</td>\n",
       "      <td>2</td>\n",
       "      <td>0</td>\n",
       "      <td>0</td>\n",
       "      <td>0</td>\n",
       "      <td>0</td>\n",
       "      <td>0</td>\n",
       "      <td>0</td>\n",
       "    </tr>\n",
       "    <tr>\n",
       "      <th>4</th>\n",
       "      <td>5</td>\n",
       "      <td>35</td>\n",
       "      <td>8</td>\n",
       "      <td>45</td>\n",
       "      <td>91330</td>\n",
       "      <td>4</td>\n",
       "      <td>1.0</td>\n",
       "      <td>2</td>\n",
       "      <td>0</td>\n",
       "      <td>0</td>\n",
       "      <td>0</td>\n",
       "      <td>0</td>\n",
       "      <td>0</td>\n",
       "      <td>1</td>\n",
       "    </tr>\n",
       "    <tr>\n",
       "      <th>...</th>\n",
       "      <td>...</td>\n",
       "      <td>...</td>\n",
       "      <td>...</td>\n",
       "      <td>...</td>\n",
       "      <td>...</td>\n",
       "      <td>...</td>\n",
       "      <td>...</td>\n",
       "      <td>...</td>\n",
       "      <td>...</td>\n",
       "      <td>...</td>\n",
       "      <td>...</td>\n",
       "      <td>...</td>\n",
       "      <td>...</td>\n",
       "      <td>...</td>\n",
       "    </tr>\n",
       "    <tr>\n",
       "      <th>4995</th>\n",
       "      <td>4996</td>\n",
       "      <td>29</td>\n",
       "      <td>3</td>\n",
       "      <td>40</td>\n",
       "      <td>92697</td>\n",
       "      <td>1</td>\n",
       "      <td>1.9</td>\n",
       "      <td>3</td>\n",
       "      <td>0</td>\n",
       "      <td>0</td>\n",
       "      <td>0</td>\n",
       "      <td>0</td>\n",
       "      <td>1</td>\n",
       "      <td>0</td>\n",
       "    </tr>\n",
       "    <tr>\n",
       "      <th>4996</th>\n",
       "      <td>4997</td>\n",
       "      <td>30</td>\n",
       "      <td>4</td>\n",
       "      <td>15</td>\n",
       "      <td>92037</td>\n",
       "      <td>4</td>\n",
       "      <td>0.4</td>\n",
       "      <td>1</td>\n",
       "      <td>85</td>\n",
       "      <td>0</td>\n",
       "      <td>0</td>\n",
       "      <td>0</td>\n",
       "      <td>1</td>\n",
       "      <td>0</td>\n",
       "    </tr>\n",
       "    <tr>\n",
       "      <th>4997</th>\n",
       "      <td>4998</td>\n",
       "      <td>63</td>\n",
       "      <td>39</td>\n",
       "      <td>24</td>\n",
       "      <td>93023</td>\n",
       "      <td>2</td>\n",
       "      <td>0.3</td>\n",
       "      <td>3</td>\n",
       "      <td>0</td>\n",
       "      <td>0</td>\n",
       "      <td>0</td>\n",
       "      <td>0</td>\n",
       "      <td>0</td>\n",
       "      <td>0</td>\n",
       "    </tr>\n",
       "    <tr>\n",
       "      <th>4998</th>\n",
       "      <td>4999</td>\n",
       "      <td>65</td>\n",
       "      <td>40</td>\n",
       "      <td>49</td>\n",
       "      <td>90034</td>\n",
       "      <td>3</td>\n",
       "      <td>0.5</td>\n",
       "      <td>2</td>\n",
       "      <td>0</td>\n",
       "      <td>0</td>\n",
       "      <td>0</td>\n",
       "      <td>0</td>\n",
       "      <td>1</td>\n",
       "      <td>0</td>\n",
       "    </tr>\n",
       "    <tr>\n",
       "      <th>4999</th>\n",
       "      <td>5000</td>\n",
       "      <td>28</td>\n",
       "      <td>4</td>\n",
       "      <td>83</td>\n",
       "      <td>92612</td>\n",
       "      <td>3</td>\n",
       "      <td>0.8</td>\n",
       "      <td>1</td>\n",
       "      <td>0</td>\n",
       "      <td>0</td>\n",
       "      <td>0</td>\n",
       "      <td>0</td>\n",
       "      <td>1</td>\n",
       "      <td>1</td>\n",
       "    </tr>\n",
       "  </tbody>\n",
       "</table>\n",
       "<p>5000 rows × 14 columns</p>\n",
       "</div>"
      ],
      "text/plain": [
       "        ID  Age  Experience  Income  ZIP Code  Family  CCAvg  Education  \\\n",
       "0        1   25           1      49     91107       4    1.6          1   \n",
       "1        2   45          19      34     90089       3    1.5          1   \n",
       "2        3   39          15      11     94720       1    1.0          1   \n",
       "3        4   35           9     100     94112       1    2.7          2   \n",
       "4        5   35           8      45     91330       4    1.0          2   \n",
       "...    ...  ...         ...     ...       ...     ...    ...        ...   \n",
       "4995  4996   29           3      40     92697       1    1.9          3   \n",
       "4996  4997   30           4      15     92037       4    0.4          1   \n",
       "4997  4998   63          39      24     93023       2    0.3          3   \n",
       "4998  4999   65          40      49     90034       3    0.5          2   \n",
       "4999  5000   28           4      83     92612       3    0.8          1   \n",
       "\n",
       "      Mortgage  Personal Loan  Securities Account  CD Account  Online  \\\n",
       "0            0              0                   1           0       0   \n",
       "1            0              0                   1           0       0   \n",
       "2            0              0                   0           0       0   \n",
       "3            0              0                   0           0       0   \n",
       "4            0              0                   0           0       0   \n",
       "...        ...            ...                 ...         ...     ...   \n",
       "4995         0              0                   0           0       1   \n",
       "4996        85              0                   0           0       1   \n",
       "4997         0              0                   0           0       0   \n",
       "4998         0              0                   0           0       1   \n",
       "4999         0              0                   0           0       1   \n",
       "\n",
       "      CreditCard  \n",
       "0              0  \n",
       "1              0  \n",
       "2              0  \n",
       "3              0  \n",
       "4              1  \n",
       "...          ...  \n",
       "4995           0  \n",
       "4996           0  \n",
       "4997           0  \n",
       "4998           0  \n",
       "4999           1  \n",
       "\n",
       "[5000 rows x 14 columns]"
      ]
     },
     "execution_count": 24,
     "metadata": {},
     "output_type": "execute_result"
    }
   ],
   "source": [
    "df"
   ]
  },
  {
   "cell_type": "code",
   "execution_count": 45,
   "id": "0519e470",
   "metadata": {
    "scrolled": true
   },
   "outputs": [
    {
     "data": {
      "text/plain": [
       "Index(['ID', 'Age', 'Experience', 'Income', 'ZIP Code', 'Family', 'CCAvg',\n",
       "       'Education', 'Mortgage', 'Personal Loan', 'Securities Account',\n",
       "       'CD Account', 'Online', 'CreditCard'],\n",
       "      dtype='object')"
      ]
     },
     "execution_count": 45,
     "metadata": {},
     "output_type": "execute_result"
    }
   ],
   "source": [
    "df.columns"
   ]
  },
  {
   "cell_type": "markdown",
   "id": "350c46d4",
   "metadata": {},
   "source": [
    "***converting monthly CCAvg to annual CCAvg so multiplying by 12"
   ]
  },
  {
   "cell_type": "code",
   "execution_count": 160,
   "id": "c24c404f",
   "metadata": {},
   "outputs": [],
   "source": [
    "df['ann_CCAvg'] = df['CCAvg'] * 12"
   ]
  },
  {
   "cell_type": "code",
   "execution_count": 159,
   "id": "74d9aa08",
   "metadata": {},
   "outputs": [
    {
     "data": {
      "text/html": [
       "<div>\n",
       "<style scoped>\n",
       "    .dataframe tbody tr th:only-of-type {\n",
       "        vertical-align: middle;\n",
       "    }\n",
       "\n",
       "    .dataframe tbody tr th {\n",
       "        vertical-align: top;\n",
       "    }\n",
       "\n",
       "    .dataframe thead th {\n",
       "        text-align: right;\n",
       "    }\n",
       "</style>\n",
       "<table border=\"1\" class=\"dataframe\">\n",
       "  <thead>\n",
       "    <tr style=\"text-align: right;\">\n",
       "      <th></th>\n",
       "      <th>ID</th>\n",
       "      <th>Age</th>\n",
       "      <th>Experience</th>\n",
       "      <th>Income</th>\n",
       "      <th>ZIP Code</th>\n",
       "      <th>Family</th>\n",
       "      <th>CCAvg</th>\n",
       "      <th>Education</th>\n",
       "      <th>Mortgage</th>\n",
       "      <th>Personal Loan</th>\n",
       "      <th>Securities Account</th>\n",
       "      <th>CD Account</th>\n",
       "      <th>Online</th>\n",
       "      <th>CreditCard</th>\n",
       "      <th>ann_CCAvg</th>\n",
       "      <th>Income_zscore</th>\n",
       "    </tr>\n",
       "  </thead>\n",
       "  <tbody>\n",
       "    <tr>\n",
       "      <th>0</th>\n",
       "      <td>1</td>\n",
       "      <td>25</td>\n",
       "      <td>1.0</td>\n",
       "      <td>49</td>\n",
       "      <td>91107</td>\n",
       "      <td>4</td>\n",
       "      <td>1.6</td>\n",
       "      <td>1</td>\n",
       "      <td>183.676203</td>\n",
       "      <td>0</td>\n",
       "      <td>1</td>\n",
       "      <td>0</td>\n",
       "      <td>0</td>\n",
       "      <td>0</td>\n",
       "      <td>19.2</td>\n",
       "      <td>-0.538175</td>\n",
       "    </tr>\n",
       "    <tr>\n",
       "      <th>1</th>\n",
       "      <td>2</td>\n",
       "      <td>45</td>\n",
       "      <td>19.0</td>\n",
       "      <td>34</td>\n",
       "      <td>90089</td>\n",
       "      <td>3</td>\n",
       "      <td>1.5</td>\n",
       "      <td>1</td>\n",
       "      <td>183.676203</td>\n",
       "      <td>0</td>\n",
       "      <td>1</td>\n",
       "      <td>0</td>\n",
       "      <td>0</td>\n",
       "      <td>0</td>\n",
       "      <td>18.0</td>\n",
       "      <td>-0.864023</td>\n",
       "    </tr>\n",
       "    <tr>\n",
       "      <th>2</th>\n",
       "      <td>3</td>\n",
       "      <td>39</td>\n",
       "      <td>15.0</td>\n",
       "      <td>11</td>\n",
       "      <td>94720</td>\n",
       "      <td>1</td>\n",
       "      <td>1.0</td>\n",
       "      <td>1</td>\n",
       "      <td>183.676203</td>\n",
       "      <td>0</td>\n",
       "      <td>0</td>\n",
       "      <td>0</td>\n",
       "      <td>0</td>\n",
       "      <td>0</td>\n",
       "      <td>12.0</td>\n",
       "      <td>-1.363657</td>\n",
       "    </tr>\n",
       "    <tr>\n",
       "      <th>3</th>\n",
       "      <td>4</td>\n",
       "      <td>35</td>\n",
       "      <td>9.0</td>\n",
       "      <td>100</td>\n",
       "      <td>94112</td>\n",
       "      <td>1</td>\n",
       "      <td>2.7</td>\n",
       "      <td>2</td>\n",
       "      <td>183.676203</td>\n",
       "      <td>0</td>\n",
       "      <td>0</td>\n",
       "      <td>0</td>\n",
       "      <td>0</td>\n",
       "      <td>0</td>\n",
       "      <td>32.4</td>\n",
       "      <td>0.569708</td>\n",
       "    </tr>\n",
       "    <tr>\n",
       "      <th>4</th>\n",
       "      <td>5</td>\n",
       "      <td>35</td>\n",
       "      <td>8.0</td>\n",
       "      <td>45</td>\n",
       "      <td>91330</td>\n",
       "      <td>4</td>\n",
       "      <td>1.0</td>\n",
       "      <td>2</td>\n",
       "      <td>183.676203</td>\n",
       "      <td>0</td>\n",
       "      <td>0</td>\n",
       "      <td>0</td>\n",
       "      <td>0</td>\n",
       "      <td>1</td>\n",
       "      <td>12.0</td>\n",
       "      <td>-0.625068</td>\n",
       "    </tr>\n",
       "    <tr>\n",
       "      <th>...</th>\n",
       "      <td>...</td>\n",
       "      <td>...</td>\n",
       "      <td>...</td>\n",
       "      <td>...</td>\n",
       "      <td>...</td>\n",
       "      <td>...</td>\n",
       "      <td>...</td>\n",
       "      <td>...</td>\n",
       "      <td>...</td>\n",
       "      <td>...</td>\n",
       "      <td>...</td>\n",
       "      <td>...</td>\n",
       "      <td>...</td>\n",
       "      <td>...</td>\n",
       "      <td>...</td>\n",
       "      <td>...</td>\n",
       "    </tr>\n",
       "    <tr>\n",
       "      <th>4995</th>\n",
       "      <td>4996</td>\n",
       "      <td>29</td>\n",
       "      <td>3.0</td>\n",
       "      <td>40</td>\n",
       "      <td>92697</td>\n",
       "      <td>1</td>\n",
       "      <td>1.9</td>\n",
       "      <td>3</td>\n",
       "      <td>183.676203</td>\n",
       "      <td>0</td>\n",
       "      <td>0</td>\n",
       "      <td>0</td>\n",
       "      <td>1</td>\n",
       "      <td>0</td>\n",
       "      <td>22.8</td>\n",
       "      <td>-0.733684</td>\n",
       "    </tr>\n",
       "    <tr>\n",
       "      <th>4996</th>\n",
       "      <td>4997</td>\n",
       "      <td>30</td>\n",
       "      <td>4.0</td>\n",
       "      <td>15</td>\n",
       "      <td>92037</td>\n",
       "      <td>4</td>\n",
       "      <td>0.4</td>\n",
       "      <td>1</td>\n",
       "      <td>85.000000</td>\n",
       "      <td>0</td>\n",
       "      <td>0</td>\n",
       "      <td>0</td>\n",
       "      <td>1</td>\n",
       "      <td>0</td>\n",
       "      <td>4.8</td>\n",
       "      <td>-1.276764</td>\n",
       "    </tr>\n",
       "    <tr>\n",
       "      <th>4997</th>\n",
       "      <td>4998</td>\n",
       "      <td>63</td>\n",
       "      <td>39.0</td>\n",
       "      <td>24</td>\n",
       "      <td>93023</td>\n",
       "      <td>2</td>\n",
       "      <td>0.3</td>\n",
       "      <td>3</td>\n",
       "      <td>183.676203</td>\n",
       "      <td>0</td>\n",
       "      <td>0</td>\n",
       "      <td>0</td>\n",
       "      <td>0</td>\n",
       "      <td>0</td>\n",
       "      <td>3.6</td>\n",
       "      <td>-1.081255</td>\n",
       "    </tr>\n",
       "    <tr>\n",
       "      <th>4998</th>\n",
       "      <td>4999</td>\n",
       "      <td>65</td>\n",
       "      <td>40.0</td>\n",
       "      <td>49</td>\n",
       "      <td>90034</td>\n",
       "      <td>3</td>\n",
       "      <td>0.5</td>\n",
       "      <td>2</td>\n",
       "      <td>183.676203</td>\n",
       "      <td>0</td>\n",
       "      <td>0</td>\n",
       "      <td>0</td>\n",
       "      <td>1</td>\n",
       "      <td>0</td>\n",
       "      <td>6.0</td>\n",
       "      <td>-0.538175</td>\n",
       "    </tr>\n",
       "    <tr>\n",
       "      <th>4999</th>\n",
       "      <td>5000</td>\n",
       "      <td>28</td>\n",
       "      <td>4.0</td>\n",
       "      <td>83</td>\n",
       "      <td>92612</td>\n",
       "      <td>3</td>\n",
       "      <td>0.8</td>\n",
       "      <td>1</td>\n",
       "      <td>183.676203</td>\n",
       "      <td>0</td>\n",
       "      <td>0</td>\n",
       "      <td>0</td>\n",
       "      <td>1</td>\n",
       "      <td>1</td>\n",
       "      <td>9.6</td>\n",
       "      <td>0.200414</td>\n",
       "    </tr>\n",
       "  </tbody>\n",
       "</table>\n",
       "<p>5000 rows × 16 columns</p>\n",
       "</div>"
      ],
      "text/plain": [
       "        ID  Age  Experience  Income  ZIP Code  Family  CCAvg  Education  \\\n",
       "0        1   25         1.0      49     91107       4    1.6          1   \n",
       "1        2   45        19.0      34     90089       3    1.5          1   \n",
       "2        3   39        15.0      11     94720       1    1.0          1   \n",
       "3        4   35         9.0     100     94112       1    2.7          2   \n",
       "4        5   35         8.0      45     91330       4    1.0          2   \n",
       "...    ...  ...         ...     ...       ...     ...    ...        ...   \n",
       "4995  4996   29         3.0      40     92697       1    1.9          3   \n",
       "4996  4997   30         4.0      15     92037       4    0.4          1   \n",
       "4997  4998   63        39.0      24     93023       2    0.3          3   \n",
       "4998  4999   65        40.0      49     90034       3    0.5          2   \n",
       "4999  5000   28         4.0      83     92612       3    0.8          1   \n",
       "\n",
       "        Mortgage  Personal Loan  Securities Account  CD Account  Online  \\\n",
       "0     183.676203              0                   1           0       0   \n",
       "1     183.676203              0                   1           0       0   \n",
       "2     183.676203              0                   0           0       0   \n",
       "3     183.676203              0                   0           0       0   \n",
       "4     183.676203              0                   0           0       0   \n",
       "...          ...            ...                 ...         ...     ...   \n",
       "4995  183.676203              0                   0           0       1   \n",
       "4996   85.000000              0                   0           0       1   \n",
       "4997  183.676203              0                   0           0       0   \n",
       "4998  183.676203              0                   0           0       1   \n",
       "4999  183.676203              0                   0           0       1   \n",
       "\n",
       "      CreditCard  ann_CCAvg  Income_zscore  \n",
       "0              0       19.2      -0.538175  \n",
       "1              0       18.0      -0.864023  \n",
       "2              0       12.0      -1.363657  \n",
       "3              0       32.4       0.569708  \n",
       "4              1       12.0      -0.625068  \n",
       "...          ...        ...            ...  \n",
       "4995           0       22.8      -0.733684  \n",
       "4996           0        4.8      -1.276764  \n",
       "4997           0        3.6      -1.081255  \n",
       "4998           0        6.0      -0.538175  \n",
       "4999           1        9.6       0.200414  \n",
       "\n",
       "[5000 rows x 16 columns]"
      ]
     },
     "execution_count": 159,
     "metadata": {},
     "output_type": "execute_result"
    }
   ],
   "source": [
    "df"
   ]
  },
  {
   "cell_type": "markdown",
   "id": "6119e01e",
   "metadata": {},
   "source": [
    "# Q8. Statistical summary for all the variables in the dataset."
   ]
  },
  {
   "cell_type": "code",
   "execution_count": 49,
   "id": "02b3bbac",
   "metadata": {
    "scrolled": true
   },
   "outputs": [
    {
     "data": {
      "text/html": [
       "<div>\n",
       "<style scoped>\n",
       "    .dataframe tbody tr th:only-of-type {\n",
       "        vertical-align: middle;\n",
       "    }\n",
       "\n",
       "    .dataframe tbody tr th {\n",
       "        vertical-align: top;\n",
       "    }\n",
       "\n",
       "    .dataframe thead th {\n",
       "        text-align: right;\n",
       "    }\n",
       "</style>\n",
       "<table border=\"1\" class=\"dataframe\">\n",
       "  <thead>\n",
       "    <tr style=\"text-align: right;\">\n",
       "      <th></th>\n",
       "      <th>ID</th>\n",
       "      <th>Age</th>\n",
       "      <th>Experience</th>\n",
       "      <th>Income</th>\n",
       "      <th>ZIP Code</th>\n",
       "      <th>Family</th>\n",
       "      <th>CCAvg</th>\n",
       "      <th>Education</th>\n",
       "      <th>Mortgage</th>\n",
       "      <th>Personal Loan</th>\n",
       "      <th>Securities Account</th>\n",
       "      <th>CD Account</th>\n",
       "      <th>Online</th>\n",
       "      <th>CreditCard</th>\n",
       "      <th>ann_CCAvg</th>\n",
       "    </tr>\n",
       "  </thead>\n",
       "  <tbody>\n",
       "    <tr>\n",
       "      <th>count</th>\n",
       "      <td>5000.000000</td>\n",
       "      <td>5000.000000</td>\n",
       "      <td>5000.000000</td>\n",
       "      <td>5000.000000</td>\n",
       "      <td>5000.000000</td>\n",
       "      <td>5000.000000</td>\n",
       "      <td>5000.000000</td>\n",
       "      <td>5000.000000</td>\n",
       "      <td>5000.000000</td>\n",
       "      <td>5000.000000</td>\n",
       "      <td>5000.000000</td>\n",
       "      <td>5000.00000</td>\n",
       "      <td>5000.000000</td>\n",
       "      <td>5000.000000</td>\n",
       "      <td>5000.000000</td>\n",
       "    </tr>\n",
       "    <tr>\n",
       "      <th>mean</th>\n",
       "      <td>2500.500000</td>\n",
       "      <td>45.338400</td>\n",
       "      <td>20.328688</td>\n",
       "      <td>73.774200</td>\n",
       "      <td>93152.503000</td>\n",
       "      <td>2.396400</td>\n",
       "      <td>1.937938</td>\n",
       "      <td>1.881000</td>\n",
       "      <td>56.498800</td>\n",
       "      <td>0.096000</td>\n",
       "      <td>0.104400</td>\n",
       "      <td>0.06040</td>\n",
       "      <td>0.596800</td>\n",
       "      <td>0.294000</td>\n",
       "      <td>23.255256</td>\n",
       "    </tr>\n",
       "    <tr>\n",
       "      <th>std</th>\n",
       "      <td>1443.520003</td>\n",
       "      <td>11.463166</td>\n",
       "      <td>11.253009</td>\n",
       "      <td>46.033729</td>\n",
       "      <td>2121.852197</td>\n",
       "      <td>1.147663</td>\n",
       "      <td>1.747659</td>\n",
       "      <td>0.839869</td>\n",
       "      <td>101.713802</td>\n",
       "      <td>0.294621</td>\n",
       "      <td>0.305809</td>\n",
       "      <td>0.23825</td>\n",
       "      <td>0.490589</td>\n",
       "      <td>0.455637</td>\n",
       "      <td>20.971908</td>\n",
       "    </tr>\n",
       "    <tr>\n",
       "      <th>min</th>\n",
       "      <td>1.000000</td>\n",
       "      <td>23.000000</td>\n",
       "      <td>0.000000</td>\n",
       "      <td>8.000000</td>\n",
       "      <td>9307.000000</td>\n",
       "      <td>1.000000</td>\n",
       "      <td>0.000000</td>\n",
       "      <td>1.000000</td>\n",
       "      <td>0.000000</td>\n",
       "      <td>0.000000</td>\n",
       "      <td>0.000000</td>\n",
       "      <td>0.00000</td>\n",
       "      <td>0.000000</td>\n",
       "      <td>0.000000</td>\n",
       "      <td>0.000000</td>\n",
       "    </tr>\n",
       "    <tr>\n",
       "      <th>25%</th>\n",
       "      <td>1250.750000</td>\n",
       "      <td>35.000000</td>\n",
       "      <td>11.000000</td>\n",
       "      <td>39.000000</td>\n",
       "      <td>91911.000000</td>\n",
       "      <td>1.000000</td>\n",
       "      <td>0.700000</td>\n",
       "      <td>1.000000</td>\n",
       "      <td>0.000000</td>\n",
       "      <td>0.000000</td>\n",
       "      <td>0.000000</td>\n",
       "      <td>0.00000</td>\n",
       "      <td>0.000000</td>\n",
       "      <td>0.000000</td>\n",
       "      <td>8.400000</td>\n",
       "    </tr>\n",
       "    <tr>\n",
       "      <th>50%</th>\n",
       "      <td>2500.500000</td>\n",
       "      <td>45.000000</td>\n",
       "      <td>20.104600</td>\n",
       "      <td>64.000000</td>\n",
       "      <td>93437.000000</td>\n",
       "      <td>2.000000</td>\n",
       "      <td>1.500000</td>\n",
       "      <td>2.000000</td>\n",
       "      <td>0.000000</td>\n",
       "      <td>0.000000</td>\n",
       "      <td>0.000000</td>\n",
       "      <td>0.00000</td>\n",
       "      <td>1.000000</td>\n",
       "      <td>0.000000</td>\n",
       "      <td>18.000000</td>\n",
       "    </tr>\n",
       "    <tr>\n",
       "      <th>75%</th>\n",
       "      <td>3750.250000</td>\n",
       "      <td>55.000000</td>\n",
       "      <td>30.000000</td>\n",
       "      <td>98.000000</td>\n",
       "      <td>94608.000000</td>\n",
       "      <td>3.000000</td>\n",
       "      <td>2.500000</td>\n",
       "      <td>3.000000</td>\n",
       "      <td>101.000000</td>\n",
       "      <td>0.000000</td>\n",
       "      <td>0.000000</td>\n",
       "      <td>0.00000</td>\n",
       "      <td>1.000000</td>\n",
       "      <td>1.000000</td>\n",
       "      <td>30.000000</td>\n",
       "    </tr>\n",
       "    <tr>\n",
       "      <th>max</th>\n",
       "      <td>5000.000000</td>\n",
       "      <td>67.000000</td>\n",
       "      <td>43.000000</td>\n",
       "      <td>224.000000</td>\n",
       "      <td>96651.000000</td>\n",
       "      <td>4.000000</td>\n",
       "      <td>10.000000</td>\n",
       "      <td>3.000000</td>\n",
       "      <td>635.000000</td>\n",
       "      <td>1.000000</td>\n",
       "      <td>1.000000</td>\n",
       "      <td>1.00000</td>\n",
       "      <td>1.000000</td>\n",
       "      <td>1.000000</td>\n",
       "      <td>120.000000</td>\n",
       "    </tr>\n",
       "  </tbody>\n",
       "</table>\n",
       "</div>"
      ],
      "text/plain": [
       "                ID          Age   Experience       Income      ZIP Code  \\\n",
       "count  5000.000000  5000.000000  5000.000000  5000.000000   5000.000000   \n",
       "mean   2500.500000    45.338400    20.328688    73.774200  93152.503000   \n",
       "std    1443.520003    11.463166    11.253009    46.033729   2121.852197   \n",
       "min       1.000000    23.000000     0.000000     8.000000   9307.000000   \n",
       "25%    1250.750000    35.000000    11.000000    39.000000  91911.000000   \n",
       "50%    2500.500000    45.000000    20.104600    64.000000  93437.000000   \n",
       "75%    3750.250000    55.000000    30.000000    98.000000  94608.000000   \n",
       "max    5000.000000    67.000000    43.000000   224.000000  96651.000000   \n",
       "\n",
       "            Family        CCAvg    Education     Mortgage  Personal Loan  \\\n",
       "count  5000.000000  5000.000000  5000.000000  5000.000000    5000.000000   \n",
       "mean      2.396400     1.937938     1.881000    56.498800       0.096000   \n",
       "std       1.147663     1.747659     0.839869   101.713802       0.294621   \n",
       "min       1.000000     0.000000     1.000000     0.000000       0.000000   \n",
       "25%       1.000000     0.700000     1.000000     0.000000       0.000000   \n",
       "50%       2.000000     1.500000     2.000000     0.000000       0.000000   \n",
       "75%       3.000000     2.500000     3.000000   101.000000       0.000000   \n",
       "max       4.000000    10.000000     3.000000   635.000000       1.000000   \n",
       "\n",
       "       Securities Account  CD Account       Online   CreditCard    ann_CCAvg  \n",
       "count         5000.000000  5000.00000  5000.000000  5000.000000  5000.000000  \n",
       "mean             0.104400     0.06040     0.596800     0.294000    23.255256  \n",
       "std              0.305809     0.23825     0.490589     0.455637    20.971908  \n",
       "min              0.000000     0.00000     0.000000     0.000000     0.000000  \n",
       "25%              0.000000     0.00000     0.000000     0.000000     8.400000  \n",
       "50%              0.000000     0.00000     1.000000     0.000000    18.000000  \n",
       "75%              0.000000     0.00000     1.000000     1.000000    30.000000  \n",
       "max              1.000000     1.00000     1.000000     1.000000   120.000000  "
      ]
     },
     "execution_count": 49,
     "metadata": {},
     "output_type": "execute_result"
    }
   ],
   "source": [
    "df.describe()"
   ]
  },
  {
   "cell_type": "code",
   "execution_count": null,
   "id": "94454be3",
   "metadata": {},
   "outputs": [],
   "source": []
  },
  {
   "cell_type": "markdown",
   "id": "074aee0b",
   "metadata": {},
   "source": [
    "# Q9. Measures of central tendency for all the quantitative variables which are \n",
    "continuous (\"Age\",\"Experience\",\"Income\",\"ann_CCAvg\", \"Mortgage\") \n",
    "and discrete ('Family','Education', 'Personal Loan', 'Securities Account','CD Account', 'Online', 'CreditCard')."
   ]
  },
  {
   "cell_type": "code",
   "execution_count": 90,
   "id": "ffdf8ffd",
   "metadata": {},
   "outputs": [
    {
     "name": "stdout",
     "output_type": "stream",
     "text": [
      "Age           45.338400\n",
      "Experience    20.328688\n",
      "Income        73.774200\n",
      "ann_CCAvg     23.255256\n",
      "Mortgage      56.498800\n",
      "dtype: float64\n"
     ]
    }
   ],
   "source": [
    "print(df[[\"Age\",\"Experience\",\"Income\",\"ann_CCAvg\", \"Mortgage\"]].mean())"
   ]
  },
  {
   "cell_type": "code",
   "execution_count": 91,
   "id": "b7bb596c",
   "metadata": {},
   "outputs": [
    {
     "name": "stdout",
     "output_type": "stream",
     "text": [
      "Age           45.0000\n",
      "Experience    20.1046\n",
      "Income        64.0000\n",
      "ann_CCAvg     18.0000\n",
      "Mortgage       0.0000\n",
      "dtype: float64\n"
     ]
    }
   ],
   "source": [
    "print(df[[\"Age\",\"Experience\",\"Income\",\"ann_CCAvg\",\"Mortgage\" ]].median())"
   ]
  },
  {
   "cell_type": "code",
   "execution_count": 74,
   "id": "7024ba55",
   "metadata": {},
   "outputs": [
    {
     "name": "stdout",
     "output_type": "stream",
     "text": [
      "35\n"
     ]
    }
   ],
   "source": [
    "print(df[\"Age\"].mode()[0])"
   ]
  },
  {
   "cell_type": "code",
   "execution_count": 39,
   "id": "669b6096",
   "metadata": {},
   "outputs": [
    {
     "data": {
      "text/plain": [
       "32.0"
      ]
     },
     "execution_count": 39,
     "metadata": {},
     "output_type": "execute_result"
    }
   ],
   "source": [
    "df[\"Experience\"].mode()[0]"
   ]
  },
  {
   "cell_type": "code",
   "execution_count": 40,
   "id": "1b95195b",
   "metadata": {},
   "outputs": [
    {
     "data": {
      "text/plain": [
       "44"
      ]
     },
     "execution_count": 40,
     "metadata": {},
     "output_type": "execute_result"
    }
   ],
   "source": [
    "df[\"Income\"].mode()[0]"
   ]
  },
  {
   "cell_type": "code",
   "execution_count": 41,
   "id": "6b854a40",
   "metadata": {},
   "outputs": [
    {
     "data": {
      "text/plain": [
       "0    35\n",
       "Name: Age, dtype: int64"
      ]
     },
     "execution_count": 41,
     "metadata": {},
     "output_type": "execute_result"
    }
   ],
   "source": [
    "df[\"Age\"].mode()"
   ]
  },
  {
   "cell_type": "code",
   "execution_count": 42,
   "id": "03ca7411",
   "metadata": {},
   "outputs": [
    {
     "data": {
      "text/plain": [
       "0    32.0\n",
       "Name: Experience, dtype: float64"
      ]
     },
     "execution_count": 42,
     "metadata": {},
     "output_type": "execute_result"
    }
   ],
   "source": [
    "df[\"Experience\"].mode()"
   ]
  },
  {
   "cell_type": "code",
   "execution_count": 43,
   "id": "6c82f1e8",
   "metadata": {},
   "outputs": [
    {
     "data": {
      "text/plain": [
       "0    44\n",
       "Name: Income, dtype: int64"
      ]
     },
     "execution_count": 43,
     "metadata": {},
     "output_type": "execute_result"
    }
   ],
   "source": [
    "df[\"Income\"].mode()"
   ]
  },
  {
   "cell_type": "code",
   "execution_count": 52,
   "id": "95b35e04",
   "metadata": {},
   "outputs": [
    {
     "data": {
      "text/plain": [
       "0    3.6\n",
       "Name: ann_CCAvg, dtype: float64"
      ]
     },
     "execution_count": 52,
     "metadata": {},
     "output_type": "execute_result"
    }
   ],
   "source": [
    "df[\"ann_CCAvg\"].mode()"
   ]
  },
  {
   "cell_type": "code",
   "execution_count": 161,
   "id": "2e05d7c2",
   "metadata": {},
   "outputs": [
    {
     "name": "stdout",
     "output_type": "stream",
     "text": [
      "   Family  Education  Personal Loan  Securities Account  CD Account  Online  \\\n",
      "0       1          1              0                   0           0       1   \n",
      "\n",
      "   CreditCard  \n",
      "0           0  \n"
     ]
    }
   ],
   "source": [
    "print(df[['Family',\n",
    "       'Education', 'Personal Loan', 'Securities Account',\n",
    "       'CD Account', 'Online', 'CreditCard']].mode())"
   ]
  },
  {
   "cell_type": "markdown",
   "id": "560e0055",
   "metadata": {},
   "source": []
  },
  {
   "cell_type": "markdown",
   "id": "d02dab31",
   "metadata": {},
   "source": [
    "# Q10. statistical method to observe any similarity in distribution between age and \n",
    "experience variables"
   ]
  },
  {
   "cell_type": "code",
   "execution_count": 80,
   "id": "dc291590",
   "metadata": {},
   "outputs": [
    {
     "name": "stdout",
     "output_type": "stream",
     "text": [
      "Range_age 44\n"
     ]
    }
   ],
   "source": [
    "print(\"Range_age\", df['Age'].max() - df['Age'].min())\n"
   ]
  },
  {
   "cell_type": "code",
   "execution_count": 58,
   "id": "ff94a9b1",
   "metadata": {},
   "outputs": [
    {
     "data": {
      "text/plain": [
       "43.0"
      ]
     },
     "execution_count": 58,
     "metadata": {},
     "output_type": "execute_result"
    }
   ],
   "source": [
    "Range_exp=df['Experience'].max() - df['Experience'].min()\n",
    "Range_exp"
   ]
  },
  {
   "cell_type": "code",
   "execution_count": 59,
   "id": "ab6813a6",
   "metadata": {},
   "outputs": [
    {
     "data": {
      "text/plain": [
       "131.4041662732552"
      ]
     },
     "execution_count": 59,
     "metadata": {},
     "output_type": "execute_result"
    }
   ],
   "source": [
    "df['Age'].var() "
   ]
  },
  {
   "cell_type": "code",
   "execution_count": 60,
   "id": "1a60fa60",
   "metadata": {},
   "outputs": [
    {
     "data": {
      "text/plain": [
       "126.6302041327269"
      ]
     },
     "execution_count": 60,
     "metadata": {},
     "output_type": "execute_result"
    }
   ],
   "source": [
    "df['Experience'].var()"
   ]
  },
  {
   "cell_type": "code",
   "execution_count": 61,
   "id": "f8330736",
   "metadata": {},
   "outputs": [
    {
     "data": {
      "text/plain": [
       "11.463165630542692"
      ]
     },
     "execution_count": 61,
     "metadata": {},
     "output_type": "execute_result"
    }
   ],
   "source": [
    "df['Age'].std()"
   ]
  },
  {
   "cell_type": "code",
   "execution_count": 62,
   "id": "d123dc76",
   "metadata": {
    "scrolled": true
   },
   "outputs": [
    {
     "data": {
      "text/plain": [
       "11.253008670250232"
      ]
     },
     "execution_count": 62,
     "metadata": {},
     "output_type": "execute_result"
    }
   ],
   "source": [
    "df['Experience'].std()"
   ]
  },
  {
   "cell_type": "code",
   "execution_count": 105,
   "id": "31319c41",
   "metadata": {},
   "outputs": [
    {
     "data": {
      "text/plain": [
       "<AxesSubplot:ylabel='Frequency'>"
      ]
     },
     "execution_count": 105,
     "metadata": {},
     "output_type": "execute_result"
    },
    {
     "data": {
      "image/png": "[encoded data removed]",
      "text/plain": [
       "<Figure size 432x288 with 1 Axes>"
      ]
     },
     "metadata": {
      "needs_background": "light"
     },
     "output_type": "display_data"
    }
   ],
   "source": [
    "# Create histograms for 'Age' and 'Experience'\n",
    "df[[\"Age\", \"Experience\"]].plot(kind=\"hist\", bins=5, edgecolor='black')"
   ]
  },
  {
   "cell_type": "code",
   "execution_count": null,
   "id": "b1d0b9db",
   "metadata": {},
   "outputs": [],
   "source": []
  },
  {
   "cell_type": "markdown",
   "id": "195e892b",
   "metadata": {},
   "source": [
    "# **Q11. Most frequent family members present in this dataset is 1"
   ]
  },
  {
   "cell_type": "code",
   "execution_count": 83,
   "id": "7e0f12d3",
   "metadata": {},
   "outputs": [
    {
     "name": "stdout",
     "output_type": "stream",
     "text": [
      "0    1\n",
      "Name: Family, dtype: int64\n"
     ]
    }
   ],
   "source": [
    "print(df['Family'].mode())"
   ]
  },
  {
   "cell_type": "code",
   "execution_count": null,
   "id": "823b588f",
   "metadata": {},
   "outputs": [],
   "source": []
  },
  {
   "cell_type": "code",
   "execution_count": null,
   "id": "744d11fa",
   "metadata": {},
   "outputs": [],
   "source": []
  },
  {
   "cell_type": "markdown",
   "id": "1510067c",
   "metadata": {},
   "source": [
    "# Q12. Coefficient of variation you can observe in the ‘Income’ variable"
   ]
  },
  {
   "cell_type": "code",
   "execution_count": 85,
   "id": "0dbfd19a",
   "metadata": {},
   "outputs": [
    {
     "name": "stdout",
     "output_type": "stream",
     "text": [
      "Coefficient of Variation: 62.40%\n"
     ]
    }
   ],
   "source": [
    "# First Calculate the mean and standard deviation of the 'Income' data\n",
    "mean_income = df['Income'].mean()\n",
    "std_income =df['Income'].std()\n",
    "\n",
    "# Then Calculate the coefficient of variation\n",
    "coefficient_of_variation = (std_income / mean_income) * 100\n",
    "\n",
    "# Print the coefficient of variation\n",
    "print(\"Coefficient of Variation: {:.2f}%\".format(coefficient_of_variation))"
   ]
  },
  {
   "cell_type": "code",
   "execution_count": 87,
   "id": "5bf51f94",
   "metadata": {},
   "outputs": [
    {
     "data": {
      "text/plain": [
       "ID                    5000\n",
       "Age                     45\n",
       "Experience              45\n",
       "Income                 162\n",
       "ZIP Code               467\n",
       "Family                   4\n",
       "CCAvg                  108\n",
       "Education                3\n",
       "Mortgage               347\n",
       "Personal Loan            2\n",
       "Securities Account       2\n",
       "CD Account               2\n",
       "Online                   2\n",
       "CreditCard               2\n",
       "ann_CCAvg              108\n",
       "dtype: int64"
      ]
     },
     "execution_count": 87,
     "metadata": {},
     "output_type": "execute_result"
    }
   ],
   "source": [
    "df.nunique()"
   ]
  },
  {
   "cell_type": "code",
   "execution_count": 89,
   "id": "4a9afd8a",
   "metadata": {
    "scrolled": true
   },
   "outputs": [
    {
     "data": {
      "text/plain": [
       "array([  0, 155, 104, 134, 111, 260, 163, 159,  97, 122, 193, 198, 285,\n",
       "       412, 153, 211, 207, 240, 455, 112, 336, 132, 118, 174, 126, 236,\n",
       "       166, 136, 309, 103, 366, 101, 251, 276, 161, 149, 188, 116, 135,\n",
       "       244, 164,  81, 315, 140,  95,  89,  90, 105, 100, 282, 209, 249,\n",
       "        91,  98, 145, 150, 169, 280,  99,  78, 264, 113, 117, 325, 121,\n",
       "       138,  77, 158, 109, 131, 391,  88, 129, 196, 617, 123, 167, 190,\n",
       "       248,  82, 402, 360, 392, 185, 419, 270, 148, 466, 175, 147, 220,\n",
       "       133, 182, 290, 125, 124, 224, 141, 119, 139, 115, 458, 172, 156,\n",
       "       547, 470, 304, 221, 108, 179, 271, 378, 176,  76, 314,  87, 203,\n",
       "       180, 230, 137, 152, 485, 300, 272, 144,  94, 208, 275,  83, 218,\n",
       "       327, 322, 205, 227, 239,  85, 160, 364, 449,  75, 107,  92, 187,\n",
       "       355, 106, 587, 214, 307, 263, 310, 127, 252, 170, 265, 177, 305,\n",
       "       372,  79, 301, 232, 289, 212, 250,  84, 130, 303, 256, 259, 204,\n",
       "       524, 157, 231, 287, 247, 333, 229, 357, 361, 294,  86, 329, 142,\n",
       "       184, 442, 233, 215, 394, 475, 197, 228, 297, 128, 241, 437, 178,\n",
       "       428, 162, 234, 257, 219, 337, 382, 397, 181, 120, 380, 200, 433,\n",
       "       222, 483, 154, 171, 146, 110, 201, 277, 268, 237, 102,  93, 354,\n",
       "       195, 194, 238, 226, 318, 342, 266, 114, 245, 341, 421, 359, 565,\n",
       "       319, 151, 267, 601, 567, 352, 284, 199,  80, 334, 389, 186, 246,\n",
       "       589, 242, 143, 323, 535, 293, 398, 343, 255, 311, 446, 223, 262,\n",
       "       422, 192, 217, 168, 299, 505, 400, 165, 183, 326, 298, 569, 374,\n",
       "       216, 191, 408, 406, 452, 432, 312, 477, 396, 582, 358, 213, 467,\n",
       "       331, 295, 235, 635, 385, 328, 522, 496, 415, 461, 344, 206, 368,\n",
       "       321, 296, 373, 292, 383, 427, 189, 202,  96, 429, 431, 286, 508,\n",
       "       210, 416, 553, 403, 225, 500, 313, 410, 273, 381, 330, 345, 253,\n",
       "       258, 351, 353, 308, 278, 464, 509, 243, 173, 481, 281, 306, 577,\n",
       "       302, 405, 571, 581, 550, 283, 612, 590, 541])"
      ]
     },
     "execution_count": 89,
     "metadata": {},
     "output_type": "execute_result"
    }
   ],
   "source": [
    "df[\"Mortgage\"].unique()\n"
   ]
  },
  {
   "cell_type": "markdown",
   "id": "bba3a34a",
   "metadata": {},
   "source": [
    "# Q13. The ‘Mortgage’ variable is having a lot of zeroes. Impute with some business logical value that  -  MEAN as other two Mode and Median are zero."
   ]
  },
  {
   "cell_type": "code",
   "execution_count": 95,
   "id": "7c2425a7",
   "metadata": {},
   "outputs": [
    {
     "data": {
      "text/plain": [
       "array([  0, 155, 104, 134, 111, 260, 163, 159,  97, 122, 193, 198, 285,\n",
       "       412, 153, 211, 207, 240, 455, 112, 336, 132, 118, 174, 126, 236,\n",
       "       166, 136, 309, 103, 366, 101, 251, 276, 161, 149, 188, 116, 135,\n",
       "       244, 164,  81, 315, 140,  95,  89,  90, 105, 100, 282, 209, 249,\n",
       "        91,  98, 145, 150, 169, 280,  99,  78, 264, 113, 117, 325, 121,\n",
       "       138,  77, 158, 109, 131, 391,  88, 129, 196, 617, 123, 167, 190,\n",
       "       248,  82, 402, 360, 392, 185, 419, 270, 148, 466, 175, 147, 220,\n",
       "       133, 182, 290, 125, 124, 224, 141, 119, 139, 115, 458, 172, 156,\n",
       "       547, 470, 304, 221, 108, 179, 271, 378, 176,  76, 314,  87, 203,\n",
       "       180, 230, 137, 152, 485, 300, 272, 144,  94, 208, 275,  83, 218,\n",
       "       327, 322, 205, 227, 239,  85, 160, 364, 449,  75, 107,  92, 187,\n",
       "       355, 106, 587, 214, 307, 263, 310, 127, 252, 170, 265, 177, 305,\n",
       "       372,  79, 301, 232, 289, 212, 250,  84, 130, 303, 256, 259, 204,\n",
       "       524, 157, 231, 287, 247, 333, 229, 357, 361, 294,  86, 329, 142,\n",
       "       184, 442, 233, 215, 394, 475, 197, 228, 297, 128, 241, 437, 178,\n",
       "       428, 162, 234, 257, 219, 337, 382, 397, 181, 120, 380, 200, 433,\n",
       "       222, 483, 154, 171, 146, 110, 201, 277, 268, 237, 102,  93, 354,\n",
       "       195, 194, 238, 226, 318, 342, 266, 114, 245, 341, 421, 359, 565,\n",
       "       319, 151, 267, 601, 567, 352, 284, 199,  80, 334, 389, 186, 246,\n",
       "       589, 242, 143, 323, 535, 293, 398, 343, 255, 311, 446, 223, 262,\n",
       "       422, 192, 217, 168, 299, 505, 400, 165, 183, 326, 298, 569, 374,\n",
       "       216, 191, 408, 406, 452, 432, 312, 477, 396, 582, 358, 213, 467,\n",
       "       331, 295, 235, 635, 385, 328, 522, 496, 415, 461, 344, 206, 368,\n",
       "       321, 296, 373, 292, 383, 427, 189, 202,  96, 429, 431, 286, 508,\n",
       "       210, 416, 553, 403, 225, 500, 313, 410, 273, 381, 330, 345, 253,\n",
       "       258, 351, 353, 308, 278, 464, 509, 243, 173, 481, 281, 306, 577,\n",
       "       302, 405, 571, 581, 550, 283, 612, 590, 541])"
      ]
     },
     "execution_count": 95,
     "metadata": {},
     "output_type": "execute_result"
    }
   ],
   "source": [
    "df[\"Mortgage\"].unique()"
   ]
  },
  {
   "cell_type": "code",
   "execution_count": 99,
   "id": "f29ccc9c",
   "metadata": {},
   "outputs": [
    {
     "name": "stdout",
     "output_type": "stream",
     "text": [
      "        ID  Age  Experience  Income  ZIP Code  Family  CCAvg  Education  \\\n",
      "0        1   25         1.0      49     91107       4    1.6          1   \n",
      "1        2   45        19.0      34     90089       3    1.5          1   \n",
      "2        3   39        15.0      11     94720       1    1.0          1   \n",
      "3        4   35         9.0     100     94112       1    2.7          2   \n",
      "4        5   35         8.0      45     91330       4    1.0          2   \n",
      "...    ...  ...         ...     ...       ...     ...    ...        ...   \n",
      "4995  4996   29         3.0      40     92697       1    1.9          3   \n",
      "4996  4997   30         4.0      15     92037       4    0.4          1   \n",
      "4997  4998   63        39.0      24     93023       2    0.3          3   \n",
      "4998  4999   65        40.0      49     90034       3    0.5          2   \n",
      "4999  5000   28         4.0      83     92612       3    0.8          1   \n",
      "\n",
      "        Mortgage  Personal Loan  Securities Account  CD Account  Online  \\\n",
      "0     183.676203              0                   1           0       0   \n",
      "1     183.676203              0                   1           0       0   \n",
      "2     183.676203              0                   0           0       0   \n",
      "3     183.676203              0                   0           0       0   \n",
      "4     183.676203              0                   0           0       0   \n",
      "...          ...            ...                 ...         ...     ...   \n",
      "4995  183.676203              0                   0           0       1   \n",
      "4996   85.000000              0                   0           0       1   \n",
      "4997  183.676203              0                   0           0       0   \n",
      "4998  183.676203              0                   0           0       1   \n",
      "4999  183.676203              0                   0           0       1   \n",
      "\n",
      "      CreditCard  ann_CCAvg  \n",
      "0              0       19.2  \n",
      "1              0       18.0  \n",
      "2              0       12.0  \n",
      "3              0       32.4  \n",
      "4              1       12.0  \n",
      "...          ...        ...  \n",
      "4995           0       22.8  \n",
      "4996           0        4.8  \n",
      "4997           0        3.6  \n",
      "4998           0        6.0  \n",
      "4999           1        9.6  \n",
      "\n",
      "[5000 rows x 15 columns]\n"
     ]
    }
   ],
   "source": [
    "# Calculate the mean of the 'Mortgage' column excluding zeros\n",
    "Mortgage_mean = df.loc[df[\"Mortgage\"] != 0, \"Mortgage\"].mean()\n",
    "\n",
    "# Impute zeros with the mean value\n",
    "df.loc[df[\"Mortgage\"] == 0, \"Mortgage\"] = Mortgage_mean\n"
   ]
  },
  {
   "cell_type": "code",
   "execution_count": 102,
   "id": "ebafc931",
   "metadata": {},
   "outputs": [
    {
     "data": {
      "text/plain": [
       "array([False])"
      ]
     },
     "execution_count": 102,
     "metadata": {},
     "output_type": "execute_result"
    }
   ],
   "source": [
    "df[\"Mortgage\"].isnull()"
   ]
  },
  {
   "cell_type": "code",
   "execution_count": null,
   "id": "4f13162e",
   "metadata": {},
   "outputs": [],
   "source": []
  },
  {
   "cell_type": "markdown",
   "id": "c3313e21",
   "metadata": {},
   "source": [
    "# Q14. Customers with credit cards have any impact on their experience and income- \n",
    "\n",
    "Income - Customers without credit card has higher income than customers without cc as per mean\n",
    "Experience - customers with credit card has higher experience than customers without credit card - using both mean and median"
   ]
  },
  {
   "cell_type": "code",
   "execution_count": 108,
   "id": "94a84864",
   "metadata": {},
   "outputs": [
    {
     "data": {
      "text/plain": [
       "array([0, 1])"
      ]
     },
     "execution_count": 108,
     "metadata": {},
     "output_type": "execute_result"
    }
   ],
   "source": [
    "df['CreditCard'].unique()"
   ]
  },
  {
   "cell_type": "code",
   "execution_count": 124,
   "id": "af6158ab",
   "metadata": {},
   "outputs": [
    {
     "data": {
      "text/plain": [
       "Income        73.845042\n",
       "Experience    20.264552\n",
       "dtype: float64"
      ]
     },
     "execution_count": 124,
     "metadata": {},
     "output_type": "execute_result"
    }
   ],
   "source": [
    "Cust_without_CC_mean = df.loc[df['CreditCard'] == 0, ('Income','Experience' )].mean()\n",
    "Cust_without_CC_mean"
   ]
  },
  {
   "cell_type": "code",
   "execution_count": 125,
   "id": "9f0b0bba",
   "metadata": {},
   "outputs": [
    {
     "data": {
      "text/plain": [
       "Income        73.604082\n",
       "Experience    20.482700\n",
       "dtype: float64"
      ]
     },
     "execution_count": 125,
     "metadata": {},
     "output_type": "execute_result"
    }
   ],
   "source": [
    "Cust_with_CC_mean = df.loc[df['CreditCard'] == 1, ('Income','Experience' )].mean()\n",
    "Cust_with_CC_mean"
   ]
  },
  {
   "cell_type": "code",
   "execution_count": 119,
   "id": "634c26ee",
   "metadata": {},
   "outputs": [
    {
     "data": {
      "text/plain": [
       "Income        63.5\n",
       "Experience    20.0\n",
       "dtype: float64"
      ]
     },
     "execution_count": 119,
     "metadata": {},
     "output_type": "execute_result"
    }
   ],
   "source": [
    "Cust_without_CC_median = df.loc[df['CreditCard'] == 0, ('Income','Experience' )].median()\n",
    "Cust_without_CC_median"
   ]
  },
  {
   "cell_type": "code",
   "execution_count": 120,
   "id": "f488ad96",
   "metadata": {},
   "outputs": [
    {
     "data": {
      "text/plain": [
       "Income        64.0000\n",
       "Experience    20.1046\n",
       "dtype: float64"
      ]
     },
     "execution_count": 120,
     "metadata": {},
     "output_type": "execute_result"
    }
   ],
   "source": [
    "Cust_with_CC_median = df.loc[df['CreditCard'] == 1, ('Income','Experience' )].median()\n",
    "Cust_with_CC_median"
   ]
  },
  {
   "cell_type": "code",
   "execution_count": null,
   "id": "ca21e769",
   "metadata": {},
   "outputs": [],
   "source": []
  },
  {
   "cell_type": "markdown",
   "id": "6178fabd",
   "metadata": {},
   "source": [
    "# Q15. Do you see any outliers in the dataset? If yes what plot is suitable to showcase to the \n",
    "stakeholders? in income , ccavg"
   ]
  },
  {
   "cell_type": "code",
   "execution_count": 129,
   "id": "f7b1ec94",
   "metadata": {
    "scrolled": true
   },
   "outputs": [
    {
     "data": {
      "text/plain": [
       "<AxesSubplot:>"
      ]
     },
     "execution_count": 129,
     "metadata": {},
     "output_type": "execute_result"
    },
    {
     "data": {
      "image/png": "[encoded data removed]",
      "text/plain": [
       "<Figure size 432x288 with 1 Axes>"
      ]
     },
     "metadata": {
      "needs_background": "light"
     },
     "output_type": "display_data"
    }
   ],
   "source": [
    "df[[\"Age\",\"Experience\",\"Income\",\"ann_CCAvg\", \"Mortgage\"]].plot.box()"
   ]
  },
  {
   "cell_type": "code",
   "execution_count": 133,
   "id": "1e085de2",
   "metadata": {},
   "outputs": [
    {
     "data": {
      "text/plain": [
       "<AxesSubplot:>"
      ]
     },
     "execution_count": 133,
     "metadata": {},
     "output_type": "execute_result"
    },
    {
     "data": {
      "image/png": "[encoded data removed]",
      "text/plain": [
       "<Figure size 432x288 with 1 Axes>"
      ]
     },
     "metadata": {
      "needs_background": "light"
     },
     "output_type": "display_data"
    }
   ],
   "source": [
    "df[\"Income\"].plot.box()"
   ]
  },
  {
   "cell_type": "code",
   "execution_count": 134,
   "id": "9cd35005",
   "metadata": {},
   "outputs": [
    {
     "data": {
      "text/plain": [
       "<AxesSubplot:>"
      ]
     },
     "execution_count": 134,
     "metadata": {},
     "output_type": "execute_result"
    },
    {
     "data": {
      "image/png": "[encoded data removed]",
      "text/plain": [
       "<Figure size 432x288 with 1 Axes>"
      ]
     },
     "metadata": {
      "needs_background": "light"
     },
     "output_type": "display_data"
    }
   ],
   "source": [
    "df[\"ann_CCAvg\"].plot.box()"
   ]
  },
  {
   "cell_type": "code",
   "execution_count": 135,
   "id": "6ac97625",
   "metadata": {
    "scrolled": true
   },
   "outputs": [
    {
     "data": {
      "text/plain": [
       "<AxesSubplot:>"
      ]
     },
     "execution_count": 135,
     "metadata": {},
     "output_type": "execute_result"
    },
    {
     "data": {
      "image/png": "[encoded data removed]",
      "text/plain": [
       "<Figure size 432x288 with 1 Axes>"
      ]
     },
     "metadata": {
      "needs_background": "light"
     },
     "output_type": "display_data"
    }
   ],
   "source": [
    "df[\"Mortgage\"].plot.box()"
   ]
  },
  {
   "cell_type": "code",
   "execution_count": 131,
   "id": "e842db45",
   "metadata": {},
   "outputs": [
    {
     "name": "stdout",
     "output_type": "stream",
     "text": [
      "      Age  Experience  Income  ann_CCAvg    Mortgage\n",
      "0.1  30.0      5.0000    22.0        3.6  119.000000\n",
      "0.2  34.0      9.0000    33.0        6.0  183.676203\n",
      "0.3  38.0     13.0000    42.0        9.6  183.676203\n",
      "0.4  42.0     17.0000    52.0       14.4  183.676203\n",
      "0.5  45.0     20.1046    64.0       18.0  183.676203\n",
      "0.6  50.0     24.0000    78.0       22.8  183.676203\n",
      "0.7  53.0     28.0000    88.3       27.6  183.676203\n",
      "0.8  57.0     32.0000   113.0       33.6  183.676203\n",
      "0.9  61.0     36.0000   145.0       51.6  200.000000\n"
     ]
    }
   ],
   "source": [
    "deciles = df[[\"Age\",\"Experience\",\"Income\",\"ann_CCAvg\", \"Mortgage\"]].quantile([0.1, 0.2, 0.3, 0.4, 0.5, 0.6, 0.7, 0.8, 0.9])\n",
    "\n",
    "# Print the deciles values\n",
    "print(deciles)"
   ]
  },
  {
   "cell_type": "markdown",
   "id": "b5b41d79",
   "metadata": {},
   "source": [
    "# Q16.. Give us the deciles values of the variable ‘Income’ in the dataset."
   ]
  },
  {
   "cell_type": "code",
   "execution_count": 132,
   "id": "fb9d7484",
   "metadata": {
    "scrolled": true
   },
   "outputs": [
    {
     "name": "stdout",
     "output_type": "stream",
     "text": [
      "0.1     22.0\n",
      "0.2     33.0\n",
      "0.3     42.0\n",
      "0.4     52.0\n",
      "0.5     64.0\n",
      "0.6     78.0\n",
      "0.7     88.3\n",
      "0.8    113.0\n",
      "0.9    145.0\n",
      "Name: Income, dtype: float64\n"
     ]
    }
   ],
   "source": [
    "deciles = df[\"Income\"].quantile([0.1, 0.2, 0.3, 0.4, 0.5, 0.6, 0.7, 0.8, 0.9])\n",
    "\n",
    "# Print the deciles values\n",
    "print(deciles)"
   ]
  },
  {
   "cell_type": "code",
   "execution_count": null,
   "id": "caafdf6c",
   "metadata": {},
   "outputs": [],
   "source": []
  },
  {
   "cell_type": "code",
   "execution_count": null,
   "id": "edd1cd2f",
   "metadata": {},
   "outputs": [],
   "source": []
  },
  {
   "cell_type": "markdown",
   "id": "07ed163b",
   "metadata": {},
   "source": [
    "# Q17. IQR of all the variables which are quantitative and continuous."
   ]
  },
  {
   "cell_type": "code",
   "execution_count": 136,
   "id": "e07d8b4b",
   "metadata": {},
   "outputs": [
    {
     "name": "stdout",
     "output_type": "stream",
     "text": [
      "Q1:\n",
      "Age            35.000000\n",
      "Experience     11.000000\n",
      "Income         39.000000\n",
      "ann_CCAvg       8.400000\n",
      "Mortgage      183.676203\n",
      "Name: 0.25, dtype: float64\n",
      "\n",
      "Q3:\n",
      "Age            55.000000\n",
      "Experience     30.000000\n",
      "Income         98.000000\n",
      "ann_CCAvg      30.000000\n",
      "Mortgage      183.676203\n",
      "Name: 0.75, dtype: float64\n",
      "\n",
      "IQR:\n",
      "Age           20.0\n",
      "Experience    19.0\n",
      "Income        59.0\n",
      "ann_CCAvg     21.6\n",
      "Mortgage       0.0\n",
      "dtype: float64\n"
     ]
    }
   ],
   "source": [
    "columns = ['Age', 'Experience', 'Income', 'ann_CCAvg', 'Mortgage']\n",
    "q1 = df[columns].quantile(0.25)\n",
    "q3 = df[columns].quantile(0.75)\n",
    "iqr = q3 - q1\n",
    "\n",
    "# Print the results\n",
    "print(\"Q1:\")\n",
    "print(q1)\n",
    "print(\"\\nQ3:\")\n",
    "print(q3)\n",
    "print(\"\\nIQR:\")\n",
    "print(iqr)"
   ]
  },
  {
   "cell_type": "code",
   "execution_count": null,
   "id": "a5f689ad",
   "metadata": {},
   "outputs": [],
   "source": []
  },
  {
   "cell_type": "markdown",
   "id": "7a3a4dcd",
   "metadata": {},
   "source": [
    "# Q18. yes , the higher-income holders spend more on credit cards from Q1 and Q3"
   ]
  },
  {
   "cell_type": "code",
   "execution_count": null,
   "id": "7527320b",
   "metadata": {},
   "outputs": [],
   "source": []
  },
  {
   "cell_type": "markdown",
   "id": "e75ee35e",
   "metadata": {},
   "source": [
    "# Q19. Customers using bank internet facilities paid higher - customers using internet has higher income"
   ]
  },
  {
   "cell_type": "code",
   "execution_count": 149,
   "id": "51a7b2c6",
   "metadata": {},
   "outputs": [
    {
     "data": {
      "text/plain": [
       "ID                     2504.939980\n",
       "Age                      45.147321\n",
       "Experience               20.144495\n",
       "Income                   72.978671\n",
       "ZIP Code              93108.647817\n",
       "Family                    2.381944\n",
       "CCAvg                     1.945615\n",
       "Education                 1.896329\n",
       "Mortgage                183.973511\n",
       "Personal Loan             0.093750\n",
       "Securities Account        0.099702\n",
       "CD Account                0.009425\n",
       "Online                    0.000000\n",
       "CreditCard                0.291667\n",
       "ann_CCAvg                23.347381\n",
       "dtype: float64"
      ]
     },
     "execution_count": 149,
     "metadata": {},
     "output_type": "execute_result"
    }
   ],
   "source": [
    "Cust_offline = df.loc[df['Online'] == 0]\n",
    "Cust_offline.mean()"
   ]
  },
  {
   "cell_type": "code",
   "execution_count": 146,
   "id": "0e7e1e78",
   "metadata": {
    "scrolled": true
   },
   "outputs": [
    {
     "data": {
      "text/plain": [
       "ID                     2497.500335\n",
       "Age                      45.467493\n",
       "Experience               20.453129\n",
       "Income                   74.311662\n",
       "ZIP Code              93182.131702\n",
       "Family                    2.406166\n",
       "CCAvg                     1.932751\n",
       "Education                 1.870643\n",
       "Mortgage                183.475341\n",
       "Personal Loan             0.097520\n",
       "Securities Account        0.107574\n",
       "CD Account                0.094839\n",
       "Online                    1.000000\n",
       "CreditCard                0.295576\n",
       "ann_CCAvg                23.193016\n",
       "dtype: float64"
      ]
     },
     "execution_count": 146,
     "metadata": {},
     "output_type": "execute_result"
    }
   ],
   "source": [
    "Cust_online = df.loc[df['Online'] == 1]\n",
    "Cust_online.mean()"
   ]
  },
  {
   "cell_type": "code",
   "execution_count": null,
   "id": "72a612c2",
   "metadata": {},
   "outputs": [],
   "source": []
  },
  {
   "cell_type": "markdown",
   "id": "a5bdafdd",
   "metadata": {},
   "source": [
    "# 20. Calculate the Z score of the ‘income’ variable."
   ]
  },
  {
   "cell_type": "code",
   "execution_count": 155,
   "id": "f054f138",
   "metadata": {},
   "outputs": [
    {
     "name": "stdout",
     "output_type": "stream",
     "text": [
      "        ID  Age  Experience  Income  ZIP Code  Family  CCAvg  Education  \\\n",
      "0        1   25         1.0      49     91107       4    1.6          1   \n",
      "1        2   45        19.0      34     90089       3    1.5          1   \n",
      "2        3   39        15.0      11     94720       1    1.0          1   \n",
      "3        4   35         9.0     100     94112       1    2.7          2   \n",
      "4        5   35         8.0      45     91330       4    1.0          2   \n",
      "...    ...  ...         ...     ...       ...     ...    ...        ...   \n",
      "4995  4996   29         3.0      40     92697       1    1.9          3   \n",
      "4996  4997   30         4.0      15     92037       4    0.4          1   \n",
      "4997  4998   63        39.0      24     93023       2    0.3          3   \n",
      "4998  4999   65        40.0      49     90034       3    0.5          2   \n",
      "4999  5000   28         4.0      83     92612       3    0.8          1   \n",
      "\n",
      "        Mortgage  Personal Loan  Securities Account  CD Account  Online  \\\n",
      "0     183.676203              0                   1           0       0   \n",
      "1     183.676203              0                   1           0       0   \n",
      "2     183.676203              0                   0           0       0   \n",
      "3     183.676203              0                   0           0       0   \n",
      "4     183.676203              0                   0           0       0   \n",
      "...          ...            ...                 ...         ...     ...   \n",
      "4995  183.676203              0                   0           0       1   \n",
      "4996   85.000000              0                   0           0       1   \n",
      "4997  183.676203              0                   0           0       0   \n",
      "4998  183.676203              0                   0           0       1   \n",
      "4999  183.676203              0                   0           0       1   \n",
      "\n",
      "      CreditCard  ann_CCAvg  Income_zscore  \n",
      "0              0       19.2      -0.538175  \n",
      "1              0       18.0      -0.864023  \n",
      "2              0       12.0      -1.363657  \n",
      "3              0       32.4       0.569708  \n",
      "4              1       12.0      -0.625068  \n",
      "...          ...        ...            ...  \n",
      "4995           0       22.8      -0.733684  \n",
      "4996           0        4.8      -1.276764  \n",
      "4997           0        3.6      -1.081255  \n",
      "4998           0        6.0      -0.538175  \n",
      "4999           1        9.6       0.200414  \n",
      "\n",
      "[5000 rows x 16 columns]\n"
     ]
    }
   ],
   "source": [
    "\n",
    "df['Income_zscore'] = (df['Income'] - df['Income'].mean()) / df['Income'].std()\n",
    "print(df)"
   ]
  },
  {
   "cell_type": "code",
   "execution_count": null,
   "id": "a2663441",
   "metadata": {},
   "outputs": [],
   "source": []
  }
 ],
 "metadata": {
  "kernelspec": {
   "display_name": "Python 3 (ipykernel)",
   "language": "python",
   "name": "python3"
  },
  "language_info": {
   "codemirror_mode": {
    "name": "ipython",
    "version": 3
   },
   "file_extension": ".py",
   "mimetype": "text/x-python",
   "name": "python",
   "nbconvert_exporter": "python",
   "pygments_lexer": "ipython3",
   "version": "3.9.16"
  }
 },
 "nbformat": 4,
 "nbformat_minor": 5
}
