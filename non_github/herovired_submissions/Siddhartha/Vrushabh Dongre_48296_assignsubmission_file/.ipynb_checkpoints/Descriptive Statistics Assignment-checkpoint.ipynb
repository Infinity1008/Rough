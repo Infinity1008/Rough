{
 "cells": [
  {
   "cell_type": "markdown",
   "id": "95c11660",
   "metadata": {},
   "source": [
    "##                                  Section 1\n"
   ]
  },
  {
   "cell_type": "markdown",
   "id": "5122eecb",
   "metadata": {},
   "source": [
    "#### 1. The average selling price of a food item in a restaurant is Rs 250.00 and the standard deviation of the price is Rs 47.00. The median value is an indication of the central value of the data and is close to the mean of Rs 202.00. If you know these details, will you become a regular customer of the restaurant?"
   ]
  },
  {
   "cell_type": "code",
   "execution_count": 2,
   "id": "7c6a5072",
   "metadata": {},
   "outputs": [
    {
     "name": "stdout",
     "output_type": "stream",
     "text": [
      "mean=Rs. 250\n",
      "median=Rs. 202\n",
      "std_deviation=Rs. 47\n",
      "Z-score: -1.0212765957446808\n",
      "Prices of items does not fall in acceptable range.\n"
     ]
    }
   ],
   "source": [
    "# average price of a food item (mean)= Rs.250\n",
    "print(\"mean=Rs.\",250)\n",
    "# Median Vavlue of food item = Rs.202\n",
    "print(\"median=Rs.\",202)\n",
    "# Std deviation of price = Rs.47\n",
    "print(\"std_deviation=Rs.\",47)\n",
    "\n",
    "mean = 250.00\n",
    "standard_deviation = 47.00\n",
    "average_price_of_item = 202.00  #considering median as average selling price of food item\n",
    "\n",
    "z_score = (average_price_of_item - mean) / standard_deviation\n",
    "print(\"Z-score:\", z_score)\n",
    "\n",
    "# Assuming,\n",
    "if -1 <= z_score <= 1:\n",
    "    print(\"Prices of items falls in acceptable range.\")\n",
    "else:\n",
    "    print(\"Prices of items does not fall in acceptable range.\")"
   ]
  },
  {
   "cell_type": "markdown",
   "id": "9418b571",
   "metadata": {},
   "source": [
    "**Conclusion:-**\n",
    "\n",
    "***Although data seems to be incomplete to draw any conclusion as we will require some sample data on the basis of which judgemnent can be passed. Given data suggest that standard deviation is less but on the other hand median is lesser than mean which says prices of few items are relatively higher and data is positively skewed. The final decision making will have to take few other factors into consideration. Apparently I am personally not going to become a regular customer of this restaurant if there are other better options comparatively***\n"
   ]
  },
  {
   "cell_type": "code",
   "execution_count": 66,
   "id": "9ed49da7",
   "metadata": {},
   "outputs": [],
   "source": [
    "####################################################################################################################"
   ]
  },
  {
   "cell_type": "markdown",
   "id": "be1274eb",
   "metadata": {},
   "source": [
    "#### 2. In a residential locality, the average size of a house is 2224 square feet with a standard deviation of 248 square feet which indicates that the distribution of size is fairly the same across the data and the median value of the house is 2220 square feet. Does the locality have bigger or smaller-sized houses?"
   ]
  },
  {
   "cell_type": "code",
   "execution_count": 8,
   "id": "2328b019",
   "metadata": {},
   "outputs": [
    {
     "name": "stdout",
     "output_type": "stream",
     "text": [
      "mean= 2224\n",
      "median= 2220\n",
      "std_deviation= 248\n",
      "The mean size of house is greater than median value of houses\n"
     ]
    }
   ],
   "source": [
    "#average size of house = 2224 sq.ft\n",
    "print('mean=',2224)\n",
    "#median value of house = 2220 sq.ft\n",
    "print('median=',2220)\n",
    "#standard deviation of house = 248 sq.ft\n",
    "print('std_deviation=',248)\n",
    "\n",
    "# Here,\n",
    "mean= 2224\n",
    "median= 2220\n",
    "if mean>median:\n",
    "    print(\"The mean size of house is greater than median value of houses\")\n",
    "else:\n",
    "    print(\"The mean size of house is lesser or equal to median value of houses\")"
   ]
  },
  {
   "cell_type": "markdown",
   "id": "ae831806",
   "metadata": {},
   "source": [
    "**Conclusion:-**\n",
    "\n",
    "***As mentioned in the question that standard deviation is lesser, thus data falls approximately in normal distribution. Also mean size of houses is greater than median value thus we can infer that locality have some bigger sized houses. However predictions can be done using this, but if we have to come at solid conclusion we will require range and few sample sizes in this data***"
   ]
  },
  {
   "cell_type": "code",
   "execution_count": 67,
   "id": "2db70439",
   "metadata": {},
   "outputs": [],
   "source": [
    "###########################################################################################################################"
   ]
  },
  {
   "cell_type": "markdown",
   "id": "c4326c65",
   "metadata": {},
   "source": [
    "#### 3. You want to invest in real estate, and you have the data belonging to locality X and Y. Some of the house prices in locality X are 2.00 L,10.00 L, 8.00 L, and 12.00 L and the prices of houses in Y are 2.5 L, 9.50 L, 8.15 L, and 12.50 L. Conduct a statistical measure to decide which locality is best for investment."
   ]
  },
  {
   "cell_type": "code",
   "execution_count": 1,
   "id": "465c20df",
   "metadata": {},
   "outputs": [
    {
     "name": "stdout",
     "output_type": "stream",
     "text": [
      "Mean house price in locality X: 8.0\n",
      "Mean house price in locality Y: 8.1625\n",
      "Median house price in locality X: 9.0\n",
      "Median house price in locality Y: 8.825\n",
      "Std_deviation of house price in locality X: 4.320493798938574\n",
      "Std_deviation of house price in locality Y: 4.189943317039027\n"
     ]
    }
   ],
   "source": [
    "import pandas as pd\n",
    "\n",
    "# Prices in locality X\n",
    "price_x= pd.Series([2.00, 10.00, 8.00, 12.00])\n",
    "\n",
    "# Prices in locality Y\n",
    "price_y = pd.Series([2.5, 9.50, 8.15, 12.50])\n",
    "\n",
    "# Lets calculate the mean prices of houses in each locality\n",
    "print(\"Mean house price in locality X:\", price_x.mean())\n",
    "print(\"Mean house price in locality Y:\", price_y.mean())\n",
    "\n",
    "# Calculate the median prices of houses in each locality\n",
    "print(\"Median house price in locality X:\", price_x.median())\n",
    "print(\"Median house price in locality Y:\", price_y.median())\n",
    "\n",
    "# Calculate the standard deviation of prices of houses in each locality for dispersion of data\n",
    "print(\"Std_deviation of house price in locality X:\", price_x.std())\n",
    "print(\"Std_deviation of house price in locality Y:\", price_y.std())"
   ]
  },
  {
   "cell_type": "markdown",
   "id": "61c36f23",
   "metadata": {},
   "source": [
    "**Conclusion:-**\n",
    "\n",
    "***1.The mean prices of houses at locality X is slightly lesser than locality Y.The standard deviation of prices of houses at locality X is slightly higher than locality Y. The median prices of houses at locality X is higher than locality Y. We can conclude that Locality X has highly dispersed data and wide range of houses available and median value is higher so this locality has better value in appreciation of real estate. However other factors like market, other facilities at location, one's personal reason behind investment plays a vital role in decision making. Those who are looking for cheaper properties can opt for locality Y***"
   ]
  },
  {
   "cell_type": "code",
   "execution_count": 68,
   "id": "b319c73b",
   "metadata": {},
   "outputs": [],
   "source": [
    "###################################################################################################################"
   ]
  },
  {
   "cell_type": "markdown",
   "id": "7afe0f7c",
   "metadata": {},
   "source": [
    "#### 4. During a survey, the ages of 80 patients, infected by COVID and admitted to one of the city hospitals, were recorded. The collected data is represented in the less-than-cumulative frequency distribution table. Read the questions below the table and provide your answers."
   ]
  },
  {
   "cell_type": "code",
   "execution_count": 19,
   "id": "a7bf0ba9",
   "metadata": {},
   "outputs": [
    {
     "data": {
      "text/html": [
       "<div>\n",
       "<style scoped>\n",
       "    .dataframe tbody tr th:only-of-type {\n",
       "        vertical-align: middle;\n",
       "    }\n",
       "\n",
       "    .dataframe tbody tr th {\n",
       "        vertical-align: top;\n",
       "    }\n",
       "\n",
       "    .dataframe thead th {\n",
       "        text-align: right;\n",
       "    }\n",
       "</style>\n",
       "<table border=\"1\" class=\"dataframe\">\n",
       "  <thead>\n",
       "    <tr style=\"text-align: right;\">\n",
       "      <th></th>\n",
       "      <th>Age</th>\n",
       "      <th>Num_of_patients</th>\n",
       "    </tr>\n",
       "  </thead>\n",
       "  <tbody>\n",
       "    <tr>\n",
       "      <th>0</th>\n",
       "      <td>5-15</td>\n",
       "      <td>6</td>\n",
       "    </tr>\n",
       "    <tr>\n",
       "      <th>1</th>\n",
       "      <td>15-25</td>\n",
       "      <td>11</td>\n",
       "    </tr>\n",
       "    <tr>\n",
       "      <th>2</th>\n",
       "      <td>25-35</td>\n",
       "      <td>21</td>\n",
       "    </tr>\n",
       "    <tr>\n",
       "      <th>3</th>\n",
       "      <td>35-45</td>\n",
       "      <td>23</td>\n",
       "    </tr>\n",
       "    <tr>\n",
       "      <th>4</th>\n",
       "      <td>45-55</td>\n",
       "      <td>14</td>\n",
       "    </tr>\n",
       "    <tr>\n",
       "      <th>5</th>\n",
       "      <td>55-65</td>\n",
       "      <td>5</td>\n",
       "    </tr>\n",
       "  </tbody>\n",
       "</table>\n",
       "</div>"
      ],
      "text/plain": [
       "     Age  Num_of_patients\n",
       "0   5-15                6\n",
       "1  15-25               11\n",
       "2  25-35               21\n",
       "3  35-45               23\n",
       "4  45-55               14\n",
       "5  55-65                5"
      ]
     },
     "execution_count": 19,
     "metadata": {},
     "output_type": "execute_result"
    }
   ],
   "source": [
    "df = pd.DataFrame(\n",
    "    {\n",
    "        \"Age\": [\"5-15\", \"15-25\", \"25-35\",\"35-45\",\"45-55\",\"55-65\"],\n",
    "        \"Num_of_patients\": [6,11,21,23,14,5],\n",
    "    }\n",
    ")\n",
    "df"
   ]
  },
  {
   "cell_type": "code",
   "execution_count": 41,
   "id": "d86b2d62",
   "metadata": {},
   "outputs": [
    {
     "name": "stdout",
     "output_type": "stream",
     "text": [
      "Class interval with highest frequency is 35-45\n",
      "Age which was affected the least is 55-65\n",
      "patients of age 45 years and above admitted were 25\n",
      "Modal class interval is 35-45\n"
     ]
    }
   ],
   "source": [
    "# Que1. Which class interval has the highest frequency?\n",
    "#Soln:-\n",
    "highest_frequency=df[\"Num_of_patients\"].idxmax()\n",
    "Highest_frequency_class_interval=df.loc[highest_frequency,'Age']\n",
    "print(\"Class interval with highest frequency is\",Highest_frequency_class_interval)\n",
    "\n",
    "#Que2. Which age was affected the least?\n",
    "#Soln:-\n",
    "lowest_frequency=df[\"Num_of_patients\"].idxmin()\n",
    "Lowest_frequency_class_interval=df.loc[lowest_frequency,'Age']\n",
    "print(\"Age which was affected the least is\",Lowest_frequency_class_interval)\n",
    "\n",
    "#Que3. How many patients of age 45 years and above were admitted?\n",
    "#Soln:-\n",
    "# Dataframe for people above age of 45 years\n",
    "New_df=df[df[\"Age\"] >= '45-55']\n",
    "Total_num_of_patients=New_df[\"Num_of_patients\"].sum()\n",
    "print(\"patients of age 45 years and above admitted were\",Total_num_of_patients)\n",
    "\n",
    "#Que4. Which is the modal class interval in the above dataset?\n",
    "#Soln:-\n",
    "highest_frequency=df[\"Num_of_patients\"].idxmax()\n",
    "Highest_frequency_class_interval=df.loc[highest_frequency,'Age']\n",
    "print(\"Modal class interval is\",Highest_frequency_class_interval)\n",
    "\n"
   ]
  },
  {
   "cell_type": "code",
   "execution_count": 12,
   "id": "7e87f39e",
   "metadata": {},
   "outputs": [
    {
     "name": "stdout",
     "output_type": "stream",
     "text": [
      "L1 = 36 , cumsum_before = 38, freq_medain = 23, width = 10\n",
      "Approximated median =  36.869565217391305\n"
     ]
    }
   ],
   "source": [
    "#Que5. What is the median class interval of age?\n",
    "#Soln:-\n",
    "# Approximating median by pure python and pandas functions\n",
    "import pandas as pd\n",
    "\n",
    "df = pd.DataFrame.from_dict({'low_range':[5,16,26,36,46,56], 'high_range':[15,25,35,45,55,65], 'Num_of_patients':[6,11,21,23,14,5]})\n",
    "\n",
    "N = df['Num_of_patients'].sum()\n",
    "# calulating L1\n",
    "index = abs(df['Num_of_patients'].cumsum() - N/2).idxmin()\n",
    "L1 = df['low_range'][index + 1]\n",
    "cumsum_before = df['Num_of_patients'].cumsum()[index]\n",
    "freq_median = df['Num_of_patients'][index + 1]\n",
    "width = df['high_range'][index + 1] - df['low_range'][index + 1]  + 1\n",
    "\n",
    "median = L1 + (N/2 - cumsum_before ) / freq_median * width\n",
    "\n",
    "print(\"L1 = {} , cumsum_before = {}, freq_medain = {}, width = {}\".format(L1, cumsum_before, freq_median, width ) )\n",
    "print(\"Approximated median = \", median)\n",
    "\n",
    "\n",
    "\n",
    "#This solution has been learnt from google solutions. Requires due attention"
   ]
  },
  {
   "cell_type": "code",
   "execution_count": 69,
   "id": "77276c15",
   "metadata": {},
   "outputs": [],
   "source": [
    "######################################################################################################################"
   ]
  },
  {
   "cell_type": "markdown",
   "id": "998c8872",
   "metadata": {},
   "source": [
    "#### 5. Assume, you are a trader and have invested over the years for your retirement. Lately, with the fluctuating economical condition, you are worried about the average return on investment. What average method is appropriate to compute the average return for the data given in the table?"
   ]
  },
  {
   "cell_type": "code",
   "execution_count": 44,
   "id": "1bbf528e",
   "metadata": {},
   "outputs": [
    {
     "data": {
      "text/html": [
       "<div>\n",
       "<style scoped>\n",
       "    .dataframe tbody tr th:only-of-type {\n",
       "        vertical-align: middle;\n",
       "    }\n",
       "\n",
       "    .dataframe tbody tr th {\n",
       "        vertical-align: top;\n",
       "    }\n",
       "\n",
       "    .dataframe thead th {\n",
       "        text-align: right;\n",
       "    }\n",
       "</style>\n",
       "<table border=\"1\" class=\"dataframe\">\n",
       "  <thead>\n",
       "    <tr style=\"text-align: right;\">\n",
       "      <th></th>\n",
       "      <th>Year</th>\n",
       "      <th>Return_in_%</th>\n",
       "      <th>Asset_Price</th>\n",
       "    </tr>\n",
       "  </thead>\n",
       "  <tbody>\n",
       "    <tr>\n",
       "      <th>0</th>\n",
       "      <td>2015</td>\n",
       "      <td>36</td>\n",
       "      <td>5000</td>\n",
       "    </tr>\n",
       "    <tr>\n",
       "      <th>1</th>\n",
       "      <td>2016</td>\n",
       "      <td>23</td>\n",
       "      <td>6400</td>\n",
       "    </tr>\n",
       "    <tr>\n",
       "      <th>2</th>\n",
       "      <td>2017</td>\n",
       "      <td>-48</td>\n",
       "      <td>7890</td>\n",
       "    </tr>\n",
       "    <tr>\n",
       "      <th>3</th>\n",
       "      <td>2018</td>\n",
       "      <td>-30</td>\n",
       "      <td>9023</td>\n",
       "    </tr>\n",
       "    <tr>\n",
       "      <th>4</th>\n",
       "      <td>2019</td>\n",
       "      <td>15</td>\n",
       "      <td>4567</td>\n",
       "    </tr>\n",
       "    <tr>\n",
       "      <th>5</th>\n",
       "      <td>2020</td>\n",
       "      <td>31</td>\n",
       "      <td>3890</td>\n",
       "    </tr>\n",
       "  </tbody>\n",
       "</table>\n",
       "</div>"
      ],
      "text/plain": [
       "   Year  Return_in_%  Asset_Price\n",
       "0  2015           36         5000\n",
       "1  2016           23         6400\n",
       "2  2017          -48         7890\n",
       "3  2018          -30         9023\n",
       "4  2019           15         4567\n",
       "5  2020           31         3890"
      ]
     },
     "execution_count": 44,
     "metadata": {},
     "output_type": "execute_result"
    }
   ],
   "source": [
    "df1 = pd.DataFrame(\n",
    "    {\n",
    "        \"Year\": [2015,2016,2017,2018,2019,2020],\n",
    "        \"Return_in_%\": [36,23,-48,-30,15,31],\n",
    "        \"Asset_Price\": [5000,6400,7890,9023,4567,3890]\n",
    "    }\n",
    ")\n",
    "df1"
   ]
  },
  {
   "cell_type": "code",
   "execution_count": 47,
   "id": "9d0c4591",
   "metadata": {},
   "outputs": [
    {
     "name": "stdout",
     "output_type": "stream",
     "text": [
      "average return on investment is 4.5\n"
     ]
    }
   ],
   "source": [
    "# We are going to use arithmetic mean method for calculating mean as there are negative values in return\n",
    "average_return_percent =df1['Return_in_%'].mean()\n",
    "print(\"average return on investment is\",average_return_percent)"
   ]
  },
  {
   "cell_type": "code",
   "execution_count": 72,
   "id": "165f8270",
   "metadata": {},
   "outputs": [],
   "source": [
    "#####################################################################################################################"
   ]
  },
  {
   "cell_type": "markdown",
   "id": "2d638b29",
   "metadata": {},
   "source": [
    "#### 6. Suppose you have been told to measure the height of all men on the earth. What strategy would you use?"
   ]
  },
  {
   "cell_type": "markdown",
   "id": "fd9e3547",
   "metadata": {},
   "source": [
    "**Conclusion:-**\n",
    "\n",
    "***Sampling method would be more appropriate to evaluate the height of all men on earth. We can take proper sample from various regions, age group, lifestyle, etc and calculate the average height of all the men on earth and thus giving broad view about required attribute.***"
   ]
  },
  {
   "cell_type": "code",
   "execution_count": 71,
   "id": "7de64b60",
   "metadata": {},
   "outputs": [],
   "source": [
    "#####################################################################################################################"
   ]
  },
  {
   "cell_type": "markdown",
   "id": "361f7ed7",
   "metadata": {},
   "source": [
    "#### 7. Calculate the z score of the following numbers:\n",
    "X = [4.5,6.2,7.3,9.1,10.4,11]"
   ]
  },
  {
   "cell_type": "code",
   "execution_count": 10,
   "id": "24400382",
   "metadata": {},
   "outputs": [
    {
     "name": "stdout",
     "output_type": "stream",
     "text": [
      "Z-scores:\n",
      " 0   -1.553856\n",
      "1   -0.816678\n",
      "2   -0.339680\n",
      "3    0.440861\n",
      "4    1.004586\n",
      "5    1.264767\n",
      "dtype: float64\n"
     ]
    }
   ],
   "source": [
    "import pandas as pd\n",
    "import scipy.stats as stats\n",
    "\n",
    "X = pd.Series([4.5, 6.2, 7.3, 9.1, 10.4, 11])\n",
    "\n",
    "z_scores= stats.zscore(X)\n",
    "\n",
    "print(\"Z-scores:\\n\",z_scores)"
   ]
  },
  {
   "cell_type": "code",
   "execution_count": 73,
   "id": "951577c5",
   "metadata": {},
   "outputs": [],
   "source": [
    "#####################################################################################################################"
   ]
  },
  {
   "cell_type": "markdown",
   "id": "357589ff",
   "metadata": {},
   "source": [
    "## Section 2"
   ]
  },
  {
   "cell_type": "code",
   "execution_count": 19,
   "id": "7704dc90",
   "metadata": {},
   "outputs": [
    {
     "data": {
      "text/html": [
       "<div>\n",
       "<style scoped>\n",
       "    .dataframe tbody tr th:only-of-type {\n",
       "        vertical-align: middle;\n",
       "    }\n",
       "\n",
       "    .dataframe tbody tr th {\n",
       "        vertical-align: top;\n",
       "    }\n",
       "\n",
       "    .dataframe thead th {\n",
       "        text-align: right;\n",
       "    }\n",
       "</style>\n",
       "<table border=\"1\" class=\"dataframe\">\n",
       "  <thead>\n",
       "    <tr style=\"text-align: right;\">\n",
       "      <th></th>\n",
       "      <th>ID</th>\n",
       "      <th>Age</th>\n",
       "      <th>Experience</th>\n",
       "      <th>Income</th>\n",
       "      <th>ZIP Code</th>\n",
       "      <th>Family</th>\n",
       "      <th>CCAvg</th>\n",
       "      <th>Education</th>\n",
       "      <th>Mortgage</th>\n",
       "      <th>Personal Loan</th>\n",
       "      <th>Securities Account</th>\n",
       "      <th>CD Account</th>\n",
       "      <th>Online</th>\n",
       "      <th>CreditCard</th>\n",
       "    </tr>\n",
       "  </thead>\n",
       "  <tbody>\n",
       "    <tr>\n",
       "      <th>0</th>\n",
       "      <td>1</td>\n",
       "      <td>25</td>\n",
       "      <td>1</td>\n",
       "      <td>49</td>\n",
       "      <td>91107</td>\n",
       "      <td>4</td>\n",
       "      <td>1.6</td>\n",
       "      <td>1</td>\n",
       "      <td>0</td>\n",
       "      <td>0</td>\n",
       "      <td>1</td>\n",
       "      <td>0</td>\n",
       "      <td>0</td>\n",
       "      <td>0</td>\n",
       "    </tr>\n",
       "    <tr>\n",
       "      <th>1</th>\n",
       "      <td>2</td>\n",
       "      <td>45</td>\n",
       "      <td>19</td>\n",
       "      <td>34</td>\n",
       "      <td>90089</td>\n",
       "      <td>3</td>\n",
       "      <td>1.5</td>\n",
       "      <td>1</td>\n",
       "      <td>0</td>\n",
       "      <td>0</td>\n",
       "      <td>1</td>\n",
       "      <td>0</td>\n",
       "      <td>0</td>\n",
       "      <td>0</td>\n",
       "    </tr>\n",
       "    <tr>\n",
       "      <th>2</th>\n",
       "      <td>3</td>\n",
       "      <td>39</td>\n",
       "      <td>15</td>\n",
       "      <td>11</td>\n",
       "      <td>94720</td>\n",
       "      <td>1</td>\n",
       "      <td>1.0</td>\n",
       "      <td>1</td>\n",
       "      <td>0</td>\n",
       "      <td>0</td>\n",
       "      <td>0</td>\n",
       "      <td>0</td>\n",
       "      <td>0</td>\n",
       "      <td>0</td>\n",
       "    </tr>\n",
       "    <tr>\n",
       "      <th>3</th>\n",
       "      <td>4</td>\n",
       "      <td>35</td>\n",
       "      <td>9</td>\n",
       "      <td>100</td>\n",
       "      <td>94112</td>\n",
       "      <td>1</td>\n",
       "      <td>2.7</td>\n",
       "      <td>2</td>\n",
       "      <td>0</td>\n",
       "      <td>0</td>\n",
       "      <td>0</td>\n",
       "      <td>0</td>\n",
       "      <td>0</td>\n",
       "      <td>0</td>\n",
       "    </tr>\n",
       "    <tr>\n",
       "      <th>4</th>\n",
       "      <td>5</td>\n",
       "      <td>35</td>\n",
       "      <td>8</td>\n",
       "      <td>45</td>\n",
       "      <td>91330</td>\n",
       "      <td>4</td>\n",
       "      <td>1.0</td>\n",
       "      <td>2</td>\n",
       "      <td>0</td>\n",
       "      <td>0</td>\n",
       "      <td>0</td>\n",
       "      <td>0</td>\n",
       "      <td>0</td>\n",
       "      <td>1</td>\n",
       "    </tr>\n",
       "  </tbody>\n",
       "</table>\n",
       "</div>"
      ],
      "text/plain": [
       "   ID  Age  Experience  Income  ZIP Code  Family  CCAvg  Education  Mortgage  \\\n",
       "0   1   25           1      49     91107       4    1.6          1         0   \n",
       "1   2   45          19      34     90089       3    1.5          1         0   \n",
       "2   3   39          15      11     94720       1    1.0          1         0   \n",
       "3   4   35           9     100     94112       1    2.7          2         0   \n",
       "4   5   35           8      45     91330       4    1.0          2         0   \n",
       "\n",
       "   Personal Loan  Securities Account  CD Account  Online  CreditCard  \n",
       "0              0                   1           0       0           0  \n",
       "1              0                   1           0       0           0  \n",
       "2              0                   0           0       0           0  \n",
       "3              0                   0           0       0           0  \n",
       "4              0                   0           0       0           1  "
      ]
     },
     "execution_count": 19,
     "metadata": {},
     "output_type": "execute_result"
    }
   ],
   "source": [
    "import pandas as pd\n",
    "import numpy as np\n",
    "\n",
    "df3=pd.read_excel(r\"C:\\Users\\ASUS\\Desktop\\Python Week 4\\Bank_Personal_Loan_Modelling.xlsx\")\n",
    "df3.head()"
   ]
  },
  {
   "cell_type": "markdown",
   "id": "60c89d9e",
   "metadata": {},
   "source": [
    "#### 8. Give the statistical summary for all the variables in the dataset."
   ]
  },
  {
   "cell_type": "code",
   "execution_count": 31,
   "id": "0948f1df",
   "metadata": {},
   "outputs": [
    {
     "data": {
      "text/html": [
       "<div>\n",
       "<style scoped>\n",
       "    .dataframe tbody tr th:only-of-type {\n",
       "        vertical-align: middle;\n",
       "    }\n",
       "\n",
       "    .dataframe tbody tr th {\n",
       "        vertical-align: top;\n",
       "    }\n",
       "\n",
       "    .dataframe thead th {\n",
       "        text-align: right;\n",
       "    }\n",
       "</style>\n",
       "<table border=\"1\" class=\"dataframe\">\n",
       "  <thead>\n",
       "    <tr style=\"text-align: right;\">\n",
       "      <th></th>\n",
       "      <th>Age</th>\n",
       "      <th>Experience</th>\n",
       "      <th>Income</th>\n",
       "      <th>Family</th>\n",
       "      <th>CCAvg</th>\n",
       "      <th>Mortgage</th>\n",
       "      <th>Personal Loan</th>\n",
       "    </tr>\n",
       "  </thead>\n",
       "  <tbody>\n",
       "    <tr>\n",
       "      <th>count</th>\n",
       "      <td>5000.000000</td>\n",
       "      <td>5000.000000</td>\n",
       "      <td>5000.000000</td>\n",
       "      <td>5000.000000</td>\n",
       "      <td>5000.000000</td>\n",
       "      <td>5000.000000</td>\n",
       "      <td>5000.000000</td>\n",
       "    </tr>\n",
       "    <tr>\n",
       "      <th>mean</th>\n",
       "      <td>45.338400</td>\n",
       "      <td>20.104600</td>\n",
       "      <td>73.774200</td>\n",
       "      <td>2.396400</td>\n",
       "      <td>1.937913</td>\n",
       "      <td>56.498800</td>\n",
       "      <td>0.096000</td>\n",
       "    </tr>\n",
       "    <tr>\n",
       "      <th>std</th>\n",
       "      <td>11.463166</td>\n",
       "      <td>11.467954</td>\n",
       "      <td>46.033729</td>\n",
       "      <td>1.147663</td>\n",
       "      <td>1.747666</td>\n",
       "      <td>101.713802</td>\n",
       "      <td>0.294621</td>\n",
       "    </tr>\n",
       "    <tr>\n",
       "      <th>min</th>\n",
       "      <td>23.000000</td>\n",
       "      <td>-3.000000</td>\n",
       "      <td>8.000000</td>\n",
       "      <td>1.000000</td>\n",
       "      <td>0.000000</td>\n",
       "      <td>0.000000</td>\n",
       "      <td>0.000000</td>\n",
       "    </tr>\n",
       "    <tr>\n",
       "      <th>25%</th>\n",
       "      <td>35.000000</td>\n",
       "      <td>10.000000</td>\n",
       "      <td>39.000000</td>\n",
       "      <td>1.000000</td>\n",
       "      <td>0.700000</td>\n",
       "      <td>0.000000</td>\n",
       "      <td>0.000000</td>\n",
       "    </tr>\n",
       "    <tr>\n",
       "      <th>50%</th>\n",
       "      <td>45.000000</td>\n",
       "      <td>20.000000</td>\n",
       "      <td>64.000000</td>\n",
       "      <td>2.000000</td>\n",
       "      <td>1.500000</td>\n",
       "      <td>0.000000</td>\n",
       "      <td>0.000000</td>\n",
       "    </tr>\n",
       "    <tr>\n",
       "      <th>75%</th>\n",
       "      <td>55.000000</td>\n",
       "      <td>30.000000</td>\n",
       "      <td>98.000000</td>\n",
       "      <td>3.000000</td>\n",
       "      <td>2.500000</td>\n",
       "      <td>101.000000</td>\n",
       "      <td>0.000000</td>\n",
       "    </tr>\n",
       "    <tr>\n",
       "      <th>max</th>\n",
       "      <td>67.000000</td>\n",
       "      <td>43.000000</td>\n",
       "      <td>224.000000</td>\n",
       "      <td>4.000000</td>\n",
       "      <td>10.000000</td>\n",
       "      <td>635.000000</td>\n",
       "      <td>1.000000</td>\n",
       "    </tr>\n",
       "  </tbody>\n",
       "</table>\n",
       "</div>"
      ],
      "text/plain": [
       "               Age   Experience       Income       Family        CCAvg  \\\n",
       "count  5000.000000  5000.000000  5000.000000  5000.000000  5000.000000   \n",
       "mean     45.338400    20.104600    73.774200     2.396400     1.937913   \n",
       "std      11.463166    11.467954    46.033729     1.147663     1.747666   \n",
       "min      23.000000    -3.000000     8.000000     1.000000     0.000000   \n",
       "25%      35.000000    10.000000    39.000000     1.000000     0.700000   \n",
       "50%      45.000000    20.000000    64.000000     2.000000     1.500000   \n",
       "75%      55.000000    30.000000    98.000000     3.000000     2.500000   \n",
       "max      67.000000    43.000000   224.000000     4.000000    10.000000   \n",
       "\n",
       "          Mortgage  Personal Loan  \n",
       "count  5000.000000    5000.000000  \n",
       "mean     56.498800       0.096000  \n",
       "std     101.713802       0.294621  \n",
       "min       0.000000       0.000000  \n",
       "25%       0.000000       0.000000  \n",
       "50%       0.000000       0.000000  \n",
       "75%     101.000000       0.000000  \n",
       "max     635.000000       1.000000  "
      ]
     },
     "execution_count": 31,
     "metadata": {},
     "output_type": "execute_result"
    }
   ],
   "source": [
    "df3[['Age','Experience','Income','Family','CCAvg','Mortgage',\"Personal Loan\"]].describe()"
   ]
  },
  {
   "cell_type": "code",
   "execution_count": 74,
   "id": "c4990211",
   "metadata": {},
   "outputs": [],
   "source": [
    "#####################################################################################################################"
   ]
  },
  {
   "cell_type": "markdown",
   "id": "8c30ec1c",
   "metadata": {},
   "source": [
    "#### 9. Give all the measures of central tendency for all the quantitative variables which are continuous and discrete."
   ]
  },
  {
   "cell_type": "code",
   "execution_count": 4,
   "id": "0a752c29",
   "metadata": {},
   "outputs": [
    {
     "data": {
      "text/html": [
       "<div>\n",
       "<style scoped>\n",
       "    .dataframe tbody tr th:only-of-type {\n",
       "        vertical-align: middle;\n",
       "    }\n",
       "\n",
       "    .dataframe tbody tr th {\n",
       "        vertical-align: top;\n",
       "    }\n",
       "\n",
       "    .dataframe thead th {\n",
       "        text-align: right;\n",
       "    }\n",
       "</style>\n",
       "<table border=\"1\" class=\"dataframe\">\n",
       "  <thead>\n",
       "    <tr style=\"text-align: right;\">\n",
       "      <th></th>\n",
       "      <th>ID</th>\n",
       "      <th>Age</th>\n",
       "      <th>Experience</th>\n",
       "      <th>Income</th>\n",
       "      <th>ZIP Code</th>\n",
       "      <th>Family</th>\n",
       "      <th>CCAvg</th>\n",
       "      <th>Education</th>\n",
       "      <th>Mortgage</th>\n",
       "      <th>Personal Loan</th>\n",
       "      <th>Securities Account</th>\n",
       "      <th>CD Account</th>\n",
       "      <th>Online</th>\n",
       "      <th>CreditCard</th>\n",
       "    </tr>\n",
       "  </thead>\n",
       "  <tbody>\n",
       "    <tr>\n",
       "      <th>mean</th>\n",
       "      <td>2500.5</td>\n",
       "      <td>45.3384</td>\n",
       "      <td>20.1046</td>\n",
       "      <td>73.7742</td>\n",
       "      <td>93152.503</td>\n",
       "      <td>2.3964</td>\n",
       "      <td>1.937913</td>\n",
       "      <td>1.881</td>\n",
       "      <td>56.4988</td>\n",
       "      <td>0.096</td>\n",
       "      <td>0.1044</td>\n",
       "      <td>0.0604</td>\n",
       "      <td>0.5968</td>\n",
       "      <td>0.294</td>\n",
       "    </tr>\n",
       "    <tr>\n",
       "      <th>median</th>\n",
       "      <td>2500.5</td>\n",
       "      <td>45.0000</td>\n",
       "      <td>20.0000</td>\n",
       "      <td>64.0000</td>\n",
       "      <td>93437.000</td>\n",
       "      <td>2.0000</td>\n",
       "      <td>1.500000</td>\n",
       "      <td>2.000</td>\n",
       "      <td>0.0000</td>\n",
       "      <td>0.000</td>\n",
       "      <td>0.0000</td>\n",
       "      <td>0.0000</td>\n",
       "      <td>1.0000</td>\n",
       "      <td>0.000</td>\n",
       "    </tr>\n",
       "  </tbody>\n",
       "</table>\n",
       "</div>"
      ],
      "text/plain": [
       "            ID      Age  Experience   Income   ZIP Code  Family     CCAvg  \\\n",
       "mean    2500.5  45.3384     20.1046  73.7742  93152.503  2.3964  1.937913   \n",
       "median  2500.5  45.0000     20.0000  64.0000  93437.000  2.0000  1.500000   \n",
       "\n",
       "        Education  Mortgage  Personal Loan  Securities Account  CD Account  \\\n",
       "mean        1.881   56.4988          0.096              0.1044      0.0604   \n",
       "median      2.000    0.0000          0.000              0.0000      0.0000   \n",
       "\n",
       "        Online  CreditCard  \n",
       "mean    0.5968       0.294  \n",
       "median  1.0000       0.000  "
      ]
     },
     "execution_count": 4,
     "metadata": {},
     "output_type": "execute_result"
    }
   ],
   "source": [
    "Mean_Median= df3.agg(['mean','median'])\n",
    "Mean_Median"
   ]
  },
  {
   "cell_type": "code",
   "execution_count": 49,
   "id": "ac74fbb0",
   "metadata": {},
   "outputs": [],
   "source": [
    "Mode= df3[['Age','Experience','Income','Family','CCAvg','Mortgage',\"Personal Loan\",\"Securities Account\",\"CD Account\",'Online','CreditCard']].mode()"
   ]
  },
  {
   "cell_type": "code",
   "execution_count": 50,
   "id": "1655f8f4",
   "metadata": {},
   "outputs": [
    {
     "data": {
      "text/html": [
       "<div>\n",
       "<style scoped>\n",
       "    .dataframe tbody tr th:only-of-type {\n",
       "        vertical-align: middle;\n",
       "    }\n",
       "\n",
       "    .dataframe tbody tr th {\n",
       "        vertical-align: top;\n",
       "    }\n",
       "\n",
       "    .dataframe thead th {\n",
       "        text-align: right;\n",
       "    }\n",
       "</style>\n",
       "<table border=\"1\" class=\"dataframe\">\n",
       "  <thead>\n",
       "    <tr style=\"text-align: right;\">\n",
       "      <th></th>\n",
       "      <th>Age</th>\n",
       "      <th>Experience</th>\n",
       "      <th>Income</th>\n",
       "      <th>Family</th>\n",
       "      <th>CCAvg</th>\n",
       "      <th>Mortgage</th>\n",
       "      <th>Personal Loan</th>\n",
       "      <th>Securities Account</th>\n",
       "      <th>CD Account</th>\n",
       "      <th>Online</th>\n",
       "      <th>CreditCard</th>\n",
       "    </tr>\n",
       "  </thead>\n",
       "  <tbody>\n",
       "    <tr>\n",
       "      <th>0</th>\n",
       "      <td>35</td>\n",
       "      <td>32</td>\n",
       "      <td>44</td>\n",
       "      <td>1</td>\n",
       "      <td>0.3</td>\n",
       "      <td>0</td>\n",
       "      <td>0</td>\n",
       "      <td>0</td>\n",
       "      <td>0</td>\n",
       "      <td>1</td>\n",
       "      <td>0</td>\n",
       "    </tr>\n",
       "  </tbody>\n",
       "</table>\n",
       "</div>"
      ],
      "text/plain": [
       "   Age  Experience  Income  Family  CCAvg  Mortgage  Personal Loan  \\\n",
       "0   35          32      44       1    0.3         0              0   \n",
       "\n",
       "   Securities Account  CD Account  Online  CreditCard  \n",
       "0                   0           0       1           0  "
      ]
     },
     "execution_count": 50,
     "metadata": {},
     "output_type": "execute_result"
    }
   ],
   "source": [
    "Mode"
   ]
  },
  {
   "cell_type": "code",
   "execution_count": 75,
   "id": "49dc2dfb",
   "metadata": {},
   "outputs": [],
   "source": [
    "#####################################################################################################################"
   ]
  },
  {
   "cell_type": "markdown",
   "id": "d3dec47d",
   "metadata": {},
   "source": [
    "#### 10. Can you apply any statistical method to observe any similarity in distribution between age and experience variables?"
   ]
  },
  {
   "cell_type": "code",
   "execution_count": 58,
   "id": "a2235027",
   "metadata": {},
   "outputs": [
    {
     "name": "stdout",
     "output_type": "stream",
     "text": [
      "Age          -0.029341\n",
      "Experience   -0.026325\n",
      "dtype: float64\n"
     ]
    }
   ],
   "source": [
    "Skewness= df3[['Age','Experience']].skew()\n",
    "print(Skewness)"
   ]
  },
  {
   "cell_type": "code",
   "execution_count": 61,
   "id": "c8e75a58",
   "metadata": {},
   "outputs": [
    {
     "name": "stdout",
     "output_type": "stream",
     "text": [
      "Age          -1.153067\n",
      "Experience   -1.121523\n",
      "dtype: float64\n"
     ]
    }
   ],
   "source": [
    "Kurtosis= df3[['Age','Experience']].kurt()\n",
    "print(Kurtosis)"
   ]
  },
  {
   "cell_type": "markdown",
   "id": "48d607a2",
   "metadata": {},
   "source": [
    "**Comment:-**\n",
    "***The skewness is less than -5 for both Age and Experience thus both are negatively skewed. The Kurtosis is also less than 3 for Age and Experience thus there are few outliers in both the variables and both the curves would be platykurtic***"
   ]
  },
  {
   "cell_type": "code",
   "execution_count": 76,
   "id": "6e9e5a91",
   "metadata": {},
   "outputs": [],
   "source": [
    "#####################################################################################################################"
   ]
  },
  {
   "cell_type": "markdown",
   "id": "ce641e70",
   "metadata": {},
   "source": [
    "#### 11. Who are the most frequent family members present in this dataset?"
   ]
  },
  {
   "cell_type": "code",
   "execution_count": 37,
   "id": "633eb597",
   "metadata": {},
   "outputs": [
    {
     "data": {
      "text/plain": [
       "0    1\n",
       "Name: Family, dtype: int64"
      ]
     },
     "execution_count": 37,
     "metadata": {},
     "output_type": "execute_result"
    }
   ],
   "source": [
    "# We can find Most frequent family member using mode\n",
    "df3['Family'].mode()"
   ]
  },
  {
   "cell_type": "code",
   "execution_count": 77,
   "id": "5d3dfb35",
   "metadata": {},
   "outputs": [],
   "source": [
    "#####################################################################################################################"
   ]
  },
  {
   "cell_type": "markdown",
   "id": "f640097b",
   "metadata": {},
   "source": [
    "#### 12. What is the coefficient of variation you can observe in the ‘Income’ variable?"
   ]
  },
  {
   "cell_type": "code",
   "execution_count": 69,
   "id": "c60ad4b2",
   "metadata": {},
   "outputs": [
    {
     "name": "stdout",
     "output_type": "stream",
     "text": [
      "73.7742\n",
      "46.033729321086334\n",
      "Coeff_of_Variation in percent is 62.39814097758612\n"
     ]
    }
   ],
   "source": [
    "Mean= df3['Income'].mean()\n",
    "print(Mean)\n",
    "\n",
    "Std_Deviation= df3['Income'].std()\n",
    "print(Std_Deviation)\n",
    "\n",
    "Coeff_of_Variation= (Std_Deviation/Mean)*100\n",
    "print(\"Coeff_of_Variation in percent is\",Coeff_of_Variation)"
   ]
  },
  {
   "cell_type": "code",
   "execution_count": 78,
   "id": "2f3048e9",
   "metadata": {},
   "outputs": [],
   "source": [
    "#####################################################################################################################"
   ]
  },
  {
   "cell_type": "markdown",
   "id": "93db2783",
   "metadata": {},
   "source": [
    "#### 13. The ‘Mortgage’ variable is having a lot of zeroes. Impute with some business logical value that you feel fit for the data."
   ]
  },
  {
   "cell_type": "code",
   "execution_count": 21,
   "id": "5849b0f3",
   "metadata": {},
   "outputs": [
    {
     "data": {
      "text/plain": [
       "array([  0, 155, 104, 134, 111, 260, 163, 159,  97, 122, 193, 198, 285,\n",
       "       412, 153, 211, 207, 240, 455, 112, 336, 132, 118, 174, 126, 236,\n",
       "       166, 136, 309, 103, 366, 101, 251, 276, 161, 149, 188, 116, 135,\n",
       "       244, 164,  81, 315, 140,  95,  89,  90, 105, 100, 282, 209, 249,\n",
       "        91,  98, 145, 150, 169, 280,  99,  78, 264, 113, 117, 325, 121,\n",
       "       138,  77, 158, 109, 131, 391,  88, 129, 196, 617, 123, 167, 190,\n",
       "       248,  82, 402, 360, 392, 185, 419, 270, 148, 466, 175, 147, 220,\n",
       "       133, 182, 290, 125, 124, 224, 141, 119, 139, 115, 458, 172, 156,\n",
       "       547, 470, 304, 221, 108, 179, 271, 378, 176,  76, 314,  87, 203,\n",
       "       180, 230, 137, 152, 485, 300, 272, 144,  94, 208, 275,  83, 218,\n",
       "       327, 322, 205, 227, 239,  85, 160, 364, 449,  75, 107,  92, 187,\n",
       "       355, 106, 587, 214, 307, 263, 310, 127, 252, 170, 265, 177, 305,\n",
       "       372,  79, 301, 232, 289, 212, 250,  84, 130, 303, 256, 259, 204,\n",
       "       524, 157, 231, 287, 247, 333, 229, 357, 361, 294,  86, 329, 142,\n",
       "       184, 442, 233, 215, 394, 475, 197, 228, 297, 128, 241, 437, 178,\n",
       "       428, 162, 234, 257, 219, 337, 382, 397, 181, 120, 380, 200, 433,\n",
       "       222, 483, 154, 171, 146, 110, 201, 277, 268, 237, 102,  93, 354,\n",
       "       195, 194, 238, 226, 318, 342, 266, 114, 245, 341, 421, 359, 565,\n",
       "       319, 151, 267, 601, 567, 352, 284, 199,  80, 334, 389, 186, 246,\n",
       "       589, 242, 143, 323, 535, 293, 398, 343, 255, 311, 446, 223, 262,\n",
       "       422, 192, 217, 168, 299, 505, 400, 165, 183, 326, 298, 569, 374,\n",
       "       216, 191, 408, 406, 452, 432, 312, 477, 396, 582, 358, 213, 467,\n",
       "       331, 295, 235, 635, 385, 328, 522, 496, 415, 461, 344, 206, 368,\n",
       "       321, 296, 373, 292, 383, 427, 189, 202,  96, 429, 431, 286, 508,\n",
       "       210, 416, 553, 403, 225, 500, 313, 410, 273, 381, 330, 345, 253,\n",
       "       258, 351, 353, 308, 278, 464, 509, 243, 173, 481, 281, 306, 577,\n",
       "       302, 405, 571, 581, 550, 283, 612, 590, 541], dtype=int64)"
      ]
     },
     "execution_count": 21,
     "metadata": {},
     "output_type": "execute_result"
    }
   ],
   "source": [
    "df3['Mortgage'].unique()"
   ]
  },
  {
   "cell_type": "code",
   "execution_count": 26,
   "id": "4bec3991",
   "metadata": {},
   "outputs": [
    {
     "data": {
      "text/plain": [
       "153.0"
      ]
     },
     "execution_count": 26,
     "metadata": {},
     "output_type": "execute_result"
    }
   ],
   "source": [
    "median_value = df3[df3['Mortgage'] != 0]['Mortgage'].median()\n",
    "median_value"
   ]
  },
  {
   "cell_type": "code",
   "execution_count": 27,
   "id": "afd9daae",
   "metadata": {},
   "outputs": [],
   "source": [
    "df3['Mortgage'] = df3['Mortgage'].replace(0, median_value)"
   ]
  },
  {
   "cell_type": "code",
   "execution_count": 28,
   "id": "c2176611",
   "metadata": {},
   "outputs": [
    {
     "data": {
      "text/html": [
       "<div>\n",
       "<style scoped>\n",
       "    .dataframe tbody tr th:only-of-type {\n",
       "        vertical-align: middle;\n",
       "    }\n",
       "\n",
       "    .dataframe tbody tr th {\n",
       "        vertical-align: top;\n",
       "    }\n",
       "\n",
       "    .dataframe thead th {\n",
       "        text-align: right;\n",
       "    }\n",
       "</style>\n",
       "<table border=\"1\" class=\"dataframe\">\n",
       "  <thead>\n",
       "    <tr style=\"text-align: right;\">\n",
       "      <th></th>\n",
       "      <th>ID</th>\n",
       "      <th>Age</th>\n",
       "      <th>Experience</th>\n",
       "      <th>Income</th>\n",
       "      <th>ZIP Code</th>\n",
       "      <th>Family</th>\n",
       "      <th>CCAvg</th>\n",
       "      <th>Education</th>\n",
       "      <th>Mortgage</th>\n",
       "      <th>Personal Loan</th>\n",
       "      <th>Securities Account</th>\n",
       "      <th>CD Account</th>\n",
       "      <th>Online</th>\n",
       "      <th>CreditCard</th>\n",
       "    </tr>\n",
       "  </thead>\n",
       "  <tbody>\n",
       "    <tr>\n",
       "      <th>0</th>\n",
       "      <td>1</td>\n",
       "      <td>25</td>\n",
       "      <td>1</td>\n",
       "      <td>49</td>\n",
       "      <td>91107</td>\n",
       "      <td>4</td>\n",
       "      <td>1.6</td>\n",
       "      <td>1</td>\n",
       "      <td>153</td>\n",
       "      <td>0</td>\n",
       "      <td>1</td>\n",
       "      <td>0</td>\n",
       "      <td>0</td>\n",
       "      <td>0</td>\n",
       "    </tr>\n",
       "    <tr>\n",
       "      <th>1</th>\n",
       "      <td>2</td>\n",
       "      <td>45</td>\n",
       "      <td>19</td>\n",
       "      <td>34</td>\n",
       "      <td>90089</td>\n",
       "      <td>3</td>\n",
       "      <td>1.5</td>\n",
       "      <td>1</td>\n",
       "      <td>153</td>\n",
       "      <td>0</td>\n",
       "      <td>1</td>\n",
       "      <td>0</td>\n",
       "      <td>0</td>\n",
       "      <td>0</td>\n",
       "    </tr>\n",
       "    <tr>\n",
       "      <th>2</th>\n",
       "      <td>3</td>\n",
       "      <td>39</td>\n",
       "      <td>15</td>\n",
       "      <td>11</td>\n",
       "      <td>94720</td>\n",
       "      <td>1</td>\n",
       "      <td>1.0</td>\n",
       "      <td>1</td>\n",
       "      <td>153</td>\n",
       "      <td>0</td>\n",
       "      <td>0</td>\n",
       "      <td>0</td>\n",
       "      <td>0</td>\n",
       "      <td>0</td>\n",
       "    </tr>\n",
       "    <tr>\n",
       "      <th>3</th>\n",
       "      <td>4</td>\n",
       "      <td>35</td>\n",
       "      <td>9</td>\n",
       "      <td>100</td>\n",
       "      <td>94112</td>\n",
       "      <td>1</td>\n",
       "      <td>2.7</td>\n",
       "      <td>2</td>\n",
       "      <td>153</td>\n",
       "      <td>0</td>\n",
       "      <td>0</td>\n",
       "      <td>0</td>\n",
       "      <td>0</td>\n",
       "      <td>0</td>\n",
       "    </tr>\n",
       "    <tr>\n",
       "      <th>4</th>\n",
       "      <td>5</td>\n",
       "      <td>35</td>\n",
       "      <td>8</td>\n",
       "      <td>45</td>\n",
       "      <td>91330</td>\n",
       "      <td>4</td>\n",
       "      <td>1.0</td>\n",
       "      <td>2</td>\n",
       "      <td>153</td>\n",
       "      <td>0</td>\n",
       "      <td>0</td>\n",
       "      <td>0</td>\n",
       "      <td>0</td>\n",
       "      <td>1</td>\n",
       "    </tr>\n",
       "    <tr>\n",
       "      <th>...</th>\n",
       "      <td>...</td>\n",
       "      <td>...</td>\n",
       "      <td>...</td>\n",
       "      <td>...</td>\n",
       "      <td>...</td>\n",
       "      <td>...</td>\n",
       "      <td>...</td>\n",
       "      <td>...</td>\n",
       "      <td>...</td>\n",
       "      <td>...</td>\n",
       "      <td>...</td>\n",
       "      <td>...</td>\n",
       "      <td>...</td>\n",
       "      <td>...</td>\n",
       "    </tr>\n",
       "    <tr>\n",
       "      <th>4995</th>\n",
       "      <td>4996</td>\n",
       "      <td>29</td>\n",
       "      <td>3</td>\n",
       "      <td>40</td>\n",
       "      <td>92697</td>\n",
       "      <td>1</td>\n",
       "      <td>1.9</td>\n",
       "      <td>3</td>\n",
       "      <td>153</td>\n",
       "      <td>0</td>\n",
       "      <td>0</td>\n",
       "      <td>0</td>\n",
       "      <td>1</td>\n",
       "      <td>0</td>\n",
       "    </tr>\n",
       "    <tr>\n",
       "      <th>4996</th>\n",
       "      <td>4997</td>\n",
       "      <td>30</td>\n",
       "      <td>4</td>\n",
       "      <td>15</td>\n",
       "      <td>92037</td>\n",
       "      <td>4</td>\n",
       "      <td>0.4</td>\n",
       "      <td>1</td>\n",
       "      <td>85</td>\n",
       "      <td>0</td>\n",
       "      <td>0</td>\n",
       "      <td>0</td>\n",
       "      <td>1</td>\n",
       "      <td>0</td>\n",
       "    </tr>\n",
       "    <tr>\n",
       "      <th>4997</th>\n",
       "      <td>4998</td>\n",
       "      <td>63</td>\n",
       "      <td>39</td>\n",
       "      <td>24</td>\n",
       "      <td>93023</td>\n",
       "      <td>2</td>\n",
       "      <td>0.3</td>\n",
       "      <td>3</td>\n",
       "      <td>153</td>\n",
       "      <td>0</td>\n",
       "      <td>0</td>\n",
       "      <td>0</td>\n",
       "      <td>0</td>\n",
       "      <td>0</td>\n",
       "    </tr>\n",
       "    <tr>\n",
       "      <th>4998</th>\n",
       "      <td>4999</td>\n",
       "      <td>65</td>\n",
       "      <td>40</td>\n",
       "      <td>49</td>\n",
       "      <td>90034</td>\n",
       "      <td>3</td>\n",
       "      <td>0.5</td>\n",
       "      <td>2</td>\n",
       "      <td>153</td>\n",
       "      <td>0</td>\n",
       "      <td>0</td>\n",
       "      <td>0</td>\n",
       "      <td>1</td>\n",
       "      <td>0</td>\n",
       "    </tr>\n",
       "    <tr>\n",
       "      <th>4999</th>\n",
       "      <td>5000</td>\n",
       "      <td>28</td>\n",
       "      <td>4</td>\n",
       "      <td>83</td>\n",
       "      <td>92612</td>\n",
       "      <td>3</td>\n",
       "      <td>0.8</td>\n",
       "      <td>1</td>\n",
       "      <td>153</td>\n",
       "      <td>0</td>\n",
       "      <td>0</td>\n",
       "      <td>0</td>\n",
       "      <td>1</td>\n",
       "      <td>1</td>\n",
       "    </tr>\n",
       "  </tbody>\n",
       "</table>\n",
       "<p>5000 rows × 14 columns</p>\n",
       "</div>"
      ],
      "text/plain": [
       "        ID  Age  Experience  Income  ZIP Code  Family  CCAvg  Education  \\\n",
       "0        1   25           1      49     91107       4    1.6          1   \n",
       "1        2   45          19      34     90089       3    1.5          1   \n",
       "2        3   39          15      11     94720       1    1.0          1   \n",
       "3        4   35           9     100     94112       1    2.7          2   \n",
       "4        5   35           8      45     91330       4    1.0          2   \n",
       "...    ...  ...         ...     ...       ...     ...    ...        ...   \n",
       "4995  4996   29           3      40     92697       1    1.9          3   \n",
       "4996  4997   30           4      15     92037       4    0.4          1   \n",
       "4997  4998   63          39      24     93023       2    0.3          3   \n",
       "4998  4999   65          40      49     90034       3    0.5          2   \n",
       "4999  5000   28           4      83     92612       3    0.8          1   \n",
       "\n",
       "      Mortgage  Personal Loan  Securities Account  CD Account  Online  \\\n",
       "0          153              0                   1           0       0   \n",
       "1          153              0                   1           0       0   \n",
       "2          153              0                   0           0       0   \n",
       "3          153              0                   0           0       0   \n",
       "4          153              0                   0           0       0   \n",
       "...        ...            ...                 ...         ...     ...   \n",
       "4995       153              0                   0           0       1   \n",
       "4996        85              0                   0           0       1   \n",
       "4997       153              0                   0           0       0   \n",
       "4998       153              0                   0           0       1   \n",
       "4999       153              0                   0           0       1   \n",
       "\n",
       "      CreditCard  \n",
       "0              0  \n",
       "1              0  \n",
       "2              0  \n",
       "3              0  \n",
       "4              1  \n",
       "...          ...  \n",
       "4995           0  \n",
       "4996           0  \n",
       "4997           0  \n",
       "4998           0  \n",
       "4999           1  \n",
       "\n",
       "[5000 rows x 14 columns]"
      ]
     },
     "execution_count": 28,
     "metadata": {},
     "output_type": "execute_result"
    }
   ],
   "source": [
    "df3"
   ]
  },
  {
   "cell_type": "code",
   "execution_count": 79,
   "id": "23b69d68",
   "metadata": {},
   "outputs": [],
   "source": [
    "#####################################################################################################################"
   ]
  },
  {
   "cell_type": "markdown",
   "id": "f423e44c",
   "metadata": {},
   "source": [
    "#### 14. Do customers with credit cards have any impact on their experience and income?"
   ]
  },
  {
   "cell_type": "code",
   "execution_count": 19,
   "id": "e116fc85",
   "metadata": {},
   "outputs": [
    {
     "data": {
      "text/html": [
       "<div>\n",
       "<style scoped>\n",
       "    .dataframe tbody tr th:only-of-type {\n",
       "        vertical-align: middle;\n",
       "    }\n",
       "\n",
       "    .dataframe tbody tr th {\n",
       "        vertical-align: top;\n",
       "    }\n",
       "\n",
       "    .dataframe thead th {\n",
       "        text-align: right;\n",
       "    }\n",
       "</style>\n",
       "<table border=\"1\" class=\"dataframe\">\n",
       "  <thead>\n",
       "    <tr style=\"text-align: right;\">\n",
       "      <th></th>\n",
       "      <th>Experience</th>\n",
       "      <th>Income</th>\n",
       "      <th>CreditCard</th>\n",
       "    </tr>\n",
       "  </thead>\n",
       "  <tbody>\n",
       "    <tr>\n",
       "      <th>0</th>\n",
       "      <td>1</td>\n",
       "      <td>49</td>\n",
       "      <td>0</td>\n",
       "    </tr>\n",
       "    <tr>\n",
       "      <th>1</th>\n",
       "      <td>19</td>\n",
       "      <td>34</td>\n",
       "      <td>0</td>\n",
       "    </tr>\n",
       "    <tr>\n",
       "      <th>2</th>\n",
       "      <td>15</td>\n",
       "      <td>11</td>\n",
       "      <td>0</td>\n",
       "    </tr>\n",
       "    <tr>\n",
       "      <th>3</th>\n",
       "      <td>9</td>\n",
       "      <td>100</td>\n",
       "      <td>0</td>\n",
       "    </tr>\n",
       "    <tr>\n",
       "      <th>4</th>\n",
       "      <td>8</td>\n",
       "      <td>45</td>\n",
       "      <td>1</td>\n",
       "    </tr>\n",
       "    <tr>\n",
       "      <th>5</th>\n",
       "      <td>13</td>\n",
       "      <td>29</td>\n",
       "      <td>0</td>\n",
       "    </tr>\n",
       "    <tr>\n",
       "      <th>6</th>\n",
       "      <td>27</td>\n",
       "      <td>72</td>\n",
       "      <td>0</td>\n",
       "    </tr>\n",
       "    <tr>\n",
       "      <th>7</th>\n",
       "      <td>24</td>\n",
       "      <td>22</td>\n",
       "      <td>1</td>\n",
       "    </tr>\n",
       "    <tr>\n",
       "      <th>8</th>\n",
       "      <td>10</td>\n",
       "      <td>81</td>\n",
       "      <td>0</td>\n",
       "    </tr>\n",
       "    <tr>\n",
       "      <th>9</th>\n",
       "      <td>9</td>\n",
       "      <td>180</td>\n",
       "      <td>0</td>\n",
       "    </tr>\n",
       "  </tbody>\n",
       "</table>\n",
       "</div>"
      ],
      "text/plain": [
       "   Experience  Income  CreditCard\n",
       "0           1      49           0\n",
       "1          19      34           0\n",
       "2          15      11           0\n",
       "3           9     100           0\n",
       "4           8      45           1\n",
       "5          13      29           0\n",
       "6          27      72           0\n",
       "7          24      22           1\n",
       "8          10      81           0\n",
       "9           9     180           0"
      ]
     },
     "execution_count": 19,
     "metadata": {},
     "output_type": "execute_result"
    }
   ],
   "source": [
    "New_df= df3[['Experience','Income','CreditCard']]\n",
    "New_df.head(10)"
   ]
  },
  {
   "cell_type": "code",
   "execution_count": 24,
   "id": "22ae58ba",
   "metadata": {},
   "outputs": [
    {
     "data": {
      "text/html": [
       "<div>\n",
       "<style scoped>\n",
       "    .dataframe tbody tr th:only-of-type {\n",
       "        vertical-align: middle;\n",
       "    }\n",
       "\n",
       "    .dataframe tbody tr th {\n",
       "        vertical-align: top;\n",
       "    }\n",
       "\n",
       "    .dataframe thead th {\n",
       "        text-align: right;\n",
       "    }\n",
       "</style>\n",
       "<table border=\"1\" class=\"dataframe\">\n",
       "  <thead>\n",
       "    <tr style=\"text-align: right;\">\n",
       "      <th></th>\n",
       "      <th>Experience</th>\n",
       "      <th>Income</th>\n",
       "    </tr>\n",
       "    <tr>\n",
       "      <th>CreditCard</th>\n",
       "      <th></th>\n",
       "      <th></th>\n",
       "    </tr>\n",
       "  </thead>\n",
       "  <tbody>\n",
       "    <tr>\n",
       "      <th>0</th>\n",
       "      <td>20.038244</td>\n",
       "      <td>73.845042</td>\n",
       "    </tr>\n",
       "    <tr>\n",
       "      <th>1</th>\n",
       "      <td>20.263946</td>\n",
       "      <td>73.604082</td>\n",
       "    </tr>\n",
       "  </tbody>\n",
       "</table>\n",
       "</div>"
      ],
      "text/plain": [
       "            Experience     Income\n",
       "CreditCard                       \n",
       "0            20.038244  73.845042\n",
       "1            20.263946  73.604082"
      ]
     },
     "execution_count": 24,
     "metadata": {},
     "output_type": "execute_result"
    }
   ],
   "source": [
    "grouped = New_df.groupby('CreditCard')\n",
    "grouped.mean()"
   ]
  },
  {
   "cell_type": "code",
   "execution_count": 48,
   "id": "a10d1cc0",
   "metadata": {},
   "outputs": [
    {
     "data": {
      "text/html": [
       "<div>\n",
       "<style scoped>\n",
       "    .dataframe tbody tr th:only-of-type {\n",
       "        vertical-align: middle;\n",
       "    }\n",
       "\n",
       "    .dataframe tbody tr th {\n",
       "        vertical-align: top;\n",
       "    }\n",
       "\n",
       "    .dataframe thead th {\n",
       "        text-align: right;\n",
       "    }\n",
       "</style>\n",
       "<table border=\"1\" class=\"dataframe\">\n",
       "  <thead>\n",
       "    <tr style=\"text-align: right;\">\n",
       "      <th></th>\n",
       "      <th>Experience</th>\n",
       "      <th>Income</th>\n",
       "    </tr>\n",
       "    <tr>\n",
       "      <th>CreditCard</th>\n",
       "      <th></th>\n",
       "      <th></th>\n",
       "    </tr>\n",
       "  </thead>\n",
       "  <tbody>\n",
       "    <tr>\n",
       "      <th>0</th>\n",
       "      <td>20.0</td>\n",
       "      <td>63.5</td>\n",
       "    </tr>\n",
       "    <tr>\n",
       "      <th>1</th>\n",
       "      <td>20.0</td>\n",
       "      <td>64.0</td>\n",
       "    </tr>\n",
       "  </tbody>\n",
       "</table>\n",
       "</div>"
      ],
      "text/plain": [
       "            Experience  Income\n",
       "CreditCard                    \n",
       "0                 20.0    63.5\n",
       "1                 20.0    64.0"
      ]
     },
     "execution_count": 48,
     "metadata": {},
     "output_type": "execute_result"
    }
   ],
   "source": [
    "grouped.median()"
   ]
  },
  {
   "cell_type": "markdown",
   "id": "989345d4",
   "metadata": {},
   "source": [
    "**Comment:-**\n",
    "***As we can see from outputs that mean of the experience and Income for the customers having and not having credit cards are approximately close respectively. Even their medians have just a slight change in their values. Hence according to data, credit card have negligible impact on experience and income.***"
   ]
  },
  {
   "cell_type": "code",
   "execution_count": 80,
   "id": "35dbe533",
   "metadata": {},
   "outputs": [],
   "source": [
    "#####################################################################################################################"
   ]
  },
  {
   "cell_type": "markdown",
   "id": "ece42463",
   "metadata": {},
   "source": [
    "#### 15. Do you see any outliers in the dataset? If yes what plot is suitable to showcase to the stakeholders?"
   ]
  },
  {
   "cell_type": "code",
   "execution_count": 20,
   "id": "76fa7cf6",
   "metadata": {},
   "outputs": [],
   "source": [
    "def find_outliers_IQR(df3):\n",
    "\n",
    "   q1=df3.quantile(0.25)\n",
    "\n",
    "   q3=df3.quantile(0.75)\n",
    "\n",
    "   IQR=q3-q1\n",
    "\n",
    "   outliers = df3[((df3<(q1-1.5*IQR)) | (df3>(q3+1.5*IQR)))]\n",
    "\n",
    "   return outliers"
   ]
  },
  {
   "cell_type": "code",
   "execution_count": 46,
   "id": "d19518a3",
   "metadata": {},
   "outputs": [
    {
     "data": {
      "text/html": [
       "<div>\n",
       "<style scoped>\n",
       "    .dataframe tbody tr th:only-of-type {\n",
       "        vertical-align: middle;\n",
       "    }\n",
       "\n",
       "    .dataframe tbody tr th {\n",
       "        vertical-align: top;\n",
       "    }\n",
       "\n",
       "    .dataframe thead th {\n",
       "        text-align: right;\n",
       "    }\n",
       "</style>\n",
       "<table border=\"1\" class=\"dataframe\">\n",
       "  <thead>\n",
       "    <tr style=\"text-align: right;\">\n",
       "      <th></th>\n",
       "      <th>ID</th>\n",
       "      <th>Age</th>\n",
       "      <th>Experience</th>\n",
       "      <th>Income</th>\n",
       "      <th>ZIP Code</th>\n",
       "      <th>Family</th>\n",
       "      <th>CCAvg</th>\n",
       "      <th>Education</th>\n",
       "      <th>Mortgage</th>\n",
       "      <th>Personal Loan</th>\n",
       "      <th>Securities Account</th>\n",
       "      <th>CD Account</th>\n",
       "      <th>Online</th>\n",
       "      <th>CreditCard</th>\n",
       "    </tr>\n",
       "  </thead>\n",
       "  <tbody>\n",
       "    <tr>\n",
       "      <th>0</th>\n",
       "      <td>NaN</td>\n",
       "      <td>NaN</td>\n",
       "      <td>NaN</td>\n",
       "      <td>NaN</td>\n",
       "      <td>NaN</td>\n",
       "      <td>NaN</td>\n",
       "      <td>NaN</td>\n",
       "      <td>NaN</td>\n",
       "      <td>NaN</td>\n",
       "      <td>NaN</td>\n",
       "      <td>1.0</td>\n",
       "      <td>NaN</td>\n",
       "      <td>NaN</td>\n",
       "      <td>NaN</td>\n",
       "    </tr>\n",
       "    <tr>\n",
       "      <th>1</th>\n",
       "      <td>NaN</td>\n",
       "      <td>NaN</td>\n",
       "      <td>NaN</td>\n",
       "      <td>NaN</td>\n",
       "      <td>NaN</td>\n",
       "      <td>NaN</td>\n",
       "      <td>NaN</td>\n",
       "      <td>NaN</td>\n",
       "      <td>NaN</td>\n",
       "      <td>NaN</td>\n",
       "      <td>1.0</td>\n",
       "      <td>NaN</td>\n",
       "      <td>NaN</td>\n",
       "      <td>NaN</td>\n",
       "    </tr>\n",
       "    <tr>\n",
       "      <th>2</th>\n",
       "      <td>NaN</td>\n",
       "      <td>NaN</td>\n",
       "      <td>NaN</td>\n",
       "      <td>NaN</td>\n",
       "      <td>NaN</td>\n",
       "      <td>NaN</td>\n",
       "      <td>NaN</td>\n",
       "      <td>NaN</td>\n",
       "      <td>NaN</td>\n",
       "      <td>NaN</td>\n",
       "      <td>NaN</td>\n",
       "      <td>NaN</td>\n",
       "      <td>NaN</td>\n",
       "      <td>NaN</td>\n",
       "    </tr>\n",
       "    <tr>\n",
       "      <th>3</th>\n",
       "      <td>NaN</td>\n",
       "      <td>NaN</td>\n",
       "      <td>NaN</td>\n",
       "      <td>NaN</td>\n",
       "      <td>NaN</td>\n",
       "      <td>NaN</td>\n",
       "      <td>NaN</td>\n",
       "      <td>NaN</td>\n",
       "      <td>NaN</td>\n",
       "      <td>NaN</td>\n",
       "      <td>NaN</td>\n",
       "      <td>NaN</td>\n",
       "      <td>NaN</td>\n",
       "      <td>NaN</td>\n",
       "    </tr>\n",
       "    <tr>\n",
       "      <th>4</th>\n",
       "      <td>NaN</td>\n",
       "      <td>NaN</td>\n",
       "      <td>NaN</td>\n",
       "      <td>NaN</td>\n",
       "      <td>NaN</td>\n",
       "      <td>NaN</td>\n",
       "      <td>NaN</td>\n",
       "      <td>NaN</td>\n",
       "      <td>NaN</td>\n",
       "      <td>NaN</td>\n",
       "      <td>NaN</td>\n",
       "      <td>NaN</td>\n",
       "      <td>NaN</td>\n",
       "      <td>NaN</td>\n",
       "    </tr>\n",
       "    <tr>\n",
       "      <th>...</th>\n",
       "      <td>...</td>\n",
       "      <td>...</td>\n",
       "      <td>...</td>\n",
       "      <td>...</td>\n",
       "      <td>...</td>\n",
       "      <td>...</td>\n",
       "      <td>...</td>\n",
       "      <td>...</td>\n",
       "      <td>...</td>\n",
       "      <td>...</td>\n",
       "      <td>...</td>\n",
       "      <td>...</td>\n",
       "      <td>...</td>\n",
       "      <td>...</td>\n",
       "    </tr>\n",
       "    <tr>\n",
       "      <th>4995</th>\n",
       "      <td>NaN</td>\n",
       "      <td>NaN</td>\n",
       "      <td>NaN</td>\n",
       "      <td>NaN</td>\n",
       "      <td>NaN</td>\n",
       "      <td>NaN</td>\n",
       "      <td>NaN</td>\n",
       "      <td>NaN</td>\n",
       "      <td>NaN</td>\n",
       "      <td>NaN</td>\n",
       "      <td>NaN</td>\n",
       "      <td>NaN</td>\n",
       "      <td>NaN</td>\n",
       "      <td>NaN</td>\n",
       "    </tr>\n",
       "    <tr>\n",
       "      <th>4996</th>\n",
       "      <td>NaN</td>\n",
       "      <td>NaN</td>\n",
       "      <td>NaN</td>\n",
       "      <td>NaN</td>\n",
       "      <td>NaN</td>\n",
       "      <td>NaN</td>\n",
       "      <td>NaN</td>\n",
       "      <td>NaN</td>\n",
       "      <td>NaN</td>\n",
       "      <td>NaN</td>\n",
       "      <td>NaN</td>\n",
       "      <td>NaN</td>\n",
       "      <td>NaN</td>\n",
       "      <td>NaN</td>\n",
       "    </tr>\n",
       "    <tr>\n",
       "      <th>4997</th>\n",
       "      <td>NaN</td>\n",
       "      <td>NaN</td>\n",
       "      <td>NaN</td>\n",
       "      <td>NaN</td>\n",
       "      <td>NaN</td>\n",
       "      <td>NaN</td>\n",
       "      <td>NaN</td>\n",
       "      <td>NaN</td>\n",
       "      <td>NaN</td>\n",
       "      <td>NaN</td>\n",
       "      <td>NaN</td>\n",
       "      <td>NaN</td>\n",
       "      <td>NaN</td>\n",
       "      <td>NaN</td>\n",
       "    </tr>\n",
       "    <tr>\n",
       "      <th>4998</th>\n",
       "      <td>NaN</td>\n",
       "      <td>NaN</td>\n",
       "      <td>NaN</td>\n",
       "      <td>NaN</td>\n",
       "      <td>NaN</td>\n",
       "      <td>NaN</td>\n",
       "      <td>NaN</td>\n",
       "      <td>NaN</td>\n",
       "      <td>NaN</td>\n",
       "      <td>NaN</td>\n",
       "      <td>NaN</td>\n",
       "      <td>NaN</td>\n",
       "      <td>NaN</td>\n",
       "      <td>NaN</td>\n",
       "    </tr>\n",
       "    <tr>\n",
       "      <th>4999</th>\n",
       "      <td>NaN</td>\n",
       "      <td>NaN</td>\n",
       "      <td>NaN</td>\n",
       "      <td>NaN</td>\n",
       "      <td>NaN</td>\n",
       "      <td>NaN</td>\n",
       "      <td>NaN</td>\n",
       "      <td>NaN</td>\n",
       "      <td>NaN</td>\n",
       "      <td>NaN</td>\n",
       "      <td>NaN</td>\n",
       "      <td>NaN</td>\n",
       "      <td>NaN</td>\n",
       "      <td>NaN</td>\n",
       "    </tr>\n",
       "  </tbody>\n",
       "</table>\n",
       "<p>5000 rows × 14 columns</p>\n",
       "</div>"
      ],
      "text/plain": [
       "      ID  Age  Experience  Income  ZIP Code  Family  CCAvg  Education  \\\n",
       "0    NaN  NaN         NaN     NaN       NaN     NaN    NaN        NaN   \n",
       "1    NaN  NaN         NaN     NaN       NaN     NaN    NaN        NaN   \n",
       "2    NaN  NaN         NaN     NaN       NaN     NaN    NaN        NaN   \n",
       "3    NaN  NaN         NaN     NaN       NaN     NaN    NaN        NaN   \n",
       "4    NaN  NaN         NaN     NaN       NaN     NaN    NaN        NaN   \n",
       "...   ..  ...         ...     ...       ...     ...    ...        ...   \n",
       "4995 NaN  NaN         NaN     NaN       NaN     NaN    NaN        NaN   \n",
       "4996 NaN  NaN         NaN     NaN       NaN     NaN    NaN        NaN   \n",
       "4997 NaN  NaN         NaN     NaN       NaN     NaN    NaN        NaN   \n",
       "4998 NaN  NaN         NaN     NaN       NaN     NaN    NaN        NaN   \n",
       "4999 NaN  NaN         NaN     NaN       NaN     NaN    NaN        NaN   \n",
       "\n",
       "      Mortgage  Personal Loan  Securities Account  CD Account  Online  \\\n",
       "0          NaN            NaN                 1.0         NaN     NaN   \n",
       "1          NaN            NaN                 1.0         NaN     NaN   \n",
       "2          NaN            NaN                 NaN         NaN     NaN   \n",
       "3          NaN            NaN                 NaN         NaN     NaN   \n",
       "4          NaN            NaN                 NaN         NaN     NaN   \n",
       "...        ...            ...                 ...         ...     ...   \n",
       "4995       NaN            NaN                 NaN         NaN     NaN   \n",
       "4996       NaN            NaN                 NaN         NaN     NaN   \n",
       "4997       NaN            NaN                 NaN         NaN     NaN   \n",
       "4998       NaN            NaN                 NaN         NaN     NaN   \n",
       "4999       NaN            NaN                 NaN         NaN     NaN   \n",
       "\n",
       "      CreditCard  \n",
       "0            NaN  \n",
       "1            NaN  \n",
       "2            NaN  \n",
       "3            NaN  \n",
       "4            NaN  \n",
       "...          ...  \n",
       "4995         NaN  \n",
       "4996         NaN  \n",
       "4997         NaN  \n",
       "4998         NaN  \n",
       "4999         NaN  \n",
       "\n",
       "[5000 rows x 14 columns]"
      ]
     },
     "execution_count": 46,
     "metadata": {},
     "output_type": "execute_result"
    }
   ],
   "source": [
    "outliers = find_outliers_IQR(df3)\n",
    "outliers"
   ]
  },
  {
   "cell_type": "code",
   "execution_count": 23,
   "id": "a2d8761f",
   "metadata": {},
   "outputs": [
    {
     "name": "stdout",
     "output_type": "stream",
     "text": [
      "max outlier value:ID                       NaN\n",
      "Age                      NaN\n",
      "Experience               NaN\n",
      "Income                 224.0\n",
      "ZIP Code              9307.0\n",
      "Family                   NaN\n",
      "CCAvg                   10.0\n",
      "Education                NaN\n",
      "Mortgage               635.0\n",
      "Personal Loan            1.0\n",
      "Securities Account       1.0\n",
      "CD Account               1.0\n",
      "Online                   NaN\n",
      "CreditCard               NaN\n",
      "dtype: float64\n",
      "min outlier value:ID                       NaN\n",
      "Age                      NaN\n",
      "Experience               NaN\n",
      "Income                 188.0\n",
      "ZIP Code              9307.0\n",
      "Family                   NaN\n",
      "CCAvg                    5.3\n",
      "Education                NaN\n",
      "Mortgage               253.0\n",
      "Personal Loan            1.0\n",
      "Securities Account       1.0\n",
      "CD Account               1.0\n",
      "Online                   NaN\n",
      "CreditCard               NaN\n",
      "dtype: float64\n"
     ]
    }
   ],
   "source": [
    "outliers = find_outliers_IQR(df3)\n",
    "\n",
    "print(\"max outlier value:\" + str(outliers.max()))\n",
    "\n",
    "print(\"min outlier value:\" + str(outliers.min()))"
   ]
  },
  {
   "cell_type": "markdown",
   "id": "012ddaa5",
   "metadata": {},
   "source": [
    "**Comment:-**\n",
    "***Box plot will be most suitable to showcase outliers to the stakeholders.***"
   ]
  },
  {
   "cell_type": "code",
   "execution_count": 81,
   "id": "f6c4b45e",
   "metadata": {},
   "outputs": [],
   "source": [
    "#####################################################################################################################"
   ]
  },
  {
   "cell_type": "markdown",
   "id": "84ecad7c",
   "metadata": {},
   "source": [
    "#### 16. Give us the deciles values of the variable ‘Income’ in the dataset."
   ]
  },
  {
   "cell_type": "code",
   "execution_count": 86,
   "id": "a2cfbf6d",
   "metadata": {},
   "outputs": [
    {
     "name": "stdout",
     "output_type": "stream",
     "text": [
      "0.1     22.0\n",
      "0.2     33.0\n",
      "0.3     42.0\n",
      "0.4     52.0\n",
      "0.5     64.0\n",
      "0.6     78.0\n",
      "0.7     88.3\n",
      "0.8    113.0\n",
      "0.9    145.0\n",
      "Name: Income, dtype: float64\n"
     ]
    }
   ],
   "source": [
    "deciles = df3['Income'].quantile([0.1, 0.2, 0.3, 0.4, 0.5, 0.6, 0.7, 0.8, 0.9])\n",
    "print(deciles)"
   ]
  },
  {
   "cell_type": "code",
   "execution_count": 82,
   "id": "11de48cb",
   "metadata": {},
   "outputs": [],
   "source": [
    "#####################################################################################################################"
   ]
  },
  {
   "cell_type": "markdown",
   "id": "79b8d6c3",
   "metadata": {},
   "source": [
    "#### 17. Give the IQR of all the variables which are quantitative and continuous."
   ]
  },
  {
   "cell_type": "code",
   "execution_count": 89,
   "id": "55106b72",
   "metadata": {},
   "outputs": [],
   "source": [
    "def df3_IQR(df3):\n",
    "\n",
    "   q1=df3.quantile(0.25)\n",
    "\n",
    "   q3=df3.quantile(0.75)\n",
    "\n",
    "   IQR=q3-q1\n",
    "\n",
    "   return IQR"
   ]
  },
  {
   "cell_type": "code",
   "execution_count": 92,
   "id": "32966408",
   "metadata": {},
   "outputs": [
    {
     "data": {
      "text/plain": [
       "Age              20.0\n",
       "Experience       20.0\n",
       "Income           59.0\n",
       "Family            2.0\n",
       "CCAvg             1.8\n",
       "Mortgage          0.0\n",
       "Personal Loan     0.0\n",
       "dtype: float64"
      ]
     },
     "execution_count": 92,
     "metadata": {},
     "output_type": "execute_result"
    }
   ],
   "source": [
    "IQR= df3_IQR(df3[['Age','Experience','Income','Family','CCAvg','Mortgage',\"Personal Loan\"]])\n",
    "IQR"
   ]
  },
  {
   "cell_type": "code",
   "execution_count": null,
   "id": "3288f94b",
   "metadata": {},
   "outputs": [],
   "source": [
    "#####################################################################################################################"
   ]
  },
  {
   "cell_type": "markdown",
   "id": "4273f553",
   "metadata": {},
   "source": [
    "#### 18. Do the higher-income holders spend more on credit cards?"
   ]
  },
  {
   "cell_type": "code",
   "execution_count": 93,
   "id": "c2643a68",
   "metadata": {},
   "outputs": [
    {
     "data": {
      "text/html": [
       "<div>\n",
       "<style scoped>\n",
       "    .dataframe tbody tr th:only-of-type {\n",
       "        vertical-align: middle;\n",
       "    }\n",
       "\n",
       "    .dataframe tbody tr th {\n",
       "        vertical-align: top;\n",
       "    }\n",
       "\n",
       "    .dataframe thead th {\n",
       "        text-align: right;\n",
       "    }\n",
       "</style>\n",
       "<table border=\"1\" class=\"dataframe\">\n",
       "  <thead>\n",
       "    <tr style=\"text-align: right;\">\n",
       "      <th></th>\n",
       "      <th>ID</th>\n",
       "      <th>Age</th>\n",
       "      <th>Experience</th>\n",
       "      <th>Income</th>\n",
       "      <th>ZIP Code</th>\n",
       "      <th>Family</th>\n",
       "      <th>CCAvg</th>\n",
       "      <th>Education</th>\n",
       "      <th>Mortgage</th>\n",
       "      <th>Personal Loan</th>\n",
       "      <th>Securities Account</th>\n",
       "      <th>CD Account</th>\n",
       "      <th>Online</th>\n",
       "      <th>CreditCard</th>\n",
       "    </tr>\n",
       "  </thead>\n",
       "  <tbody>\n",
       "    <tr>\n",
       "      <th>0</th>\n",
       "      <td>1</td>\n",
       "      <td>25</td>\n",
       "      <td>1</td>\n",
       "      <td>49</td>\n",
       "      <td>91107</td>\n",
       "      <td>4</td>\n",
       "      <td>1.6</td>\n",
       "      <td>1</td>\n",
       "      <td>153</td>\n",
       "      <td>0</td>\n",
       "      <td>1</td>\n",
       "      <td>0</td>\n",
       "      <td>0</td>\n",
       "      <td>0</td>\n",
       "    </tr>\n",
       "    <tr>\n",
       "      <th>1</th>\n",
       "      <td>2</td>\n",
       "      <td>45</td>\n",
       "      <td>19</td>\n",
       "      <td>34</td>\n",
       "      <td>90089</td>\n",
       "      <td>3</td>\n",
       "      <td>1.5</td>\n",
       "      <td>1</td>\n",
       "      <td>153</td>\n",
       "      <td>0</td>\n",
       "      <td>1</td>\n",
       "      <td>0</td>\n",
       "      <td>0</td>\n",
       "      <td>0</td>\n",
       "    </tr>\n",
       "    <tr>\n",
       "      <th>2</th>\n",
       "      <td>3</td>\n",
       "      <td>39</td>\n",
       "      <td>15</td>\n",
       "      <td>11</td>\n",
       "      <td>94720</td>\n",
       "      <td>1</td>\n",
       "      <td>1.0</td>\n",
       "      <td>1</td>\n",
       "      <td>153</td>\n",
       "      <td>0</td>\n",
       "      <td>0</td>\n",
       "      <td>0</td>\n",
       "      <td>0</td>\n",
       "      <td>0</td>\n",
       "    </tr>\n",
       "    <tr>\n",
       "      <th>3</th>\n",
       "      <td>4</td>\n",
       "      <td>35</td>\n",
       "      <td>9</td>\n",
       "      <td>100</td>\n",
       "      <td>94112</td>\n",
       "      <td>1</td>\n",
       "      <td>2.7</td>\n",
       "      <td>2</td>\n",
       "      <td>153</td>\n",
       "      <td>0</td>\n",
       "      <td>0</td>\n",
       "      <td>0</td>\n",
       "      <td>0</td>\n",
       "      <td>0</td>\n",
       "    </tr>\n",
       "    <tr>\n",
       "      <th>4</th>\n",
       "      <td>5</td>\n",
       "      <td>35</td>\n",
       "      <td>8</td>\n",
       "      <td>45</td>\n",
       "      <td>91330</td>\n",
       "      <td>4</td>\n",
       "      <td>1.0</td>\n",
       "      <td>2</td>\n",
       "      <td>153</td>\n",
       "      <td>0</td>\n",
       "      <td>0</td>\n",
       "      <td>0</td>\n",
       "      <td>0</td>\n",
       "      <td>1</td>\n",
       "    </tr>\n",
       "    <tr>\n",
       "      <th>...</th>\n",
       "      <td>...</td>\n",
       "      <td>...</td>\n",
       "      <td>...</td>\n",
       "      <td>...</td>\n",
       "      <td>...</td>\n",
       "      <td>...</td>\n",
       "      <td>...</td>\n",
       "      <td>...</td>\n",
       "      <td>...</td>\n",
       "      <td>...</td>\n",
       "      <td>...</td>\n",
       "      <td>...</td>\n",
       "      <td>...</td>\n",
       "      <td>...</td>\n",
       "    </tr>\n",
       "    <tr>\n",
       "      <th>4995</th>\n",
       "      <td>4996</td>\n",
       "      <td>29</td>\n",
       "      <td>3</td>\n",
       "      <td>40</td>\n",
       "      <td>92697</td>\n",
       "      <td>1</td>\n",
       "      <td>1.9</td>\n",
       "      <td>3</td>\n",
       "      <td>153</td>\n",
       "      <td>0</td>\n",
       "      <td>0</td>\n",
       "      <td>0</td>\n",
       "      <td>1</td>\n",
       "      <td>0</td>\n",
       "    </tr>\n",
       "    <tr>\n",
       "      <th>4996</th>\n",
       "      <td>4997</td>\n",
       "      <td>30</td>\n",
       "      <td>4</td>\n",
       "      <td>15</td>\n",
       "      <td>92037</td>\n",
       "      <td>4</td>\n",
       "      <td>0.4</td>\n",
       "      <td>1</td>\n",
       "      <td>85</td>\n",
       "      <td>0</td>\n",
       "      <td>0</td>\n",
       "      <td>0</td>\n",
       "      <td>1</td>\n",
       "      <td>0</td>\n",
       "    </tr>\n",
       "    <tr>\n",
       "      <th>4997</th>\n",
       "      <td>4998</td>\n",
       "      <td>63</td>\n",
       "      <td>39</td>\n",
       "      <td>24</td>\n",
       "      <td>93023</td>\n",
       "      <td>2</td>\n",
       "      <td>0.3</td>\n",
       "      <td>3</td>\n",
       "      <td>153</td>\n",
       "      <td>0</td>\n",
       "      <td>0</td>\n",
       "      <td>0</td>\n",
       "      <td>0</td>\n",
       "      <td>0</td>\n",
       "    </tr>\n",
       "    <tr>\n",
       "      <th>4998</th>\n",
       "      <td>4999</td>\n",
       "      <td>65</td>\n",
       "      <td>40</td>\n",
       "      <td>49</td>\n",
       "      <td>90034</td>\n",
       "      <td>3</td>\n",
       "      <td>0.5</td>\n",
       "      <td>2</td>\n",
       "      <td>153</td>\n",
       "      <td>0</td>\n",
       "      <td>0</td>\n",
       "      <td>0</td>\n",
       "      <td>1</td>\n",
       "      <td>0</td>\n",
       "    </tr>\n",
       "    <tr>\n",
       "      <th>4999</th>\n",
       "      <td>5000</td>\n",
       "      <td>28</td>\n",
       "      <td>4</td>\n",
       "      <td>83</td>\n",
       "      <td>92612</td>\n",
       "      <td>3</td>\n",
       "      <td>0.8</td>\n",
       "      <td>1</td>\n",
       "      <td>153</td>\n",
       "      <td>0</td>\n",
       "      <td>0</td>\n",
       "      <td>0</td>\n",
       "      <td>1</td>\n",
       "      <td>1</td>\n",
       "    </tr>\n",
       "  </tbody>\n",
       "</table>\n",
       "<p>5000 rows × 14 columns</p>\n",
       "</div>"
      ],
      "text/plain": [
       "        ID  Age  Experience  Income  ZIP Code  Family  CCAvg  Education  \\\n",
       "0        1   25           1      49     91107       4    1.6          1   \n",
       "1        2   45          19      34     90089       3    1.5          1   \n",
       "2        3   39          15      11     94720       1    1.0          1   \n",
       "3        4   35           9     100     94112       1    2.7          2   \n",
       "4        5   35           8      45     91330       4    1.0          2   \n",
       "...    ...  ...         ...     ...       ...     ...    ...        ...   \n",
       "4995  4996   29           3      40     92697       1    1.9          3   \n",
       "4996  4997   30           4      15     92037       4    0.4          1   \n",
       "4997  4998   63          39      24     93023       2    0.3          3   \n",
       "4998  4999   65          40      49     90034       3    0.5          2   \n",
       "4999  5000   28           4      83     92612       3    0.8          1   \n",
       "\n",
       "      Mortgage  Personal Loan  Securities Account  CD Account  Online  \\\n",
       "0          153              0                   1           0       0   \n",
       "1          153              0                   1           0       0   \n",
       "2          153              0                   0           0       0   \n",
       "3          153              0                   0           0       0   \n",
       "4          153              0                   0           0       0   \n",
       "...        ...            ...                 ...         ...     ...   \n",
       "4995       153              0                   0           0       1   \n",
       "4996        85              0                   0           0       1   \n",
       "4997       153              0                   0           0       0   \n",
       "4998       153              0                   0           0       1   \n",
       "4999       153              0                   0           0       1   \n",
       "\n",
       "      CreditCard  \n",
       "0              0  \n",
       "1              0  \n",
       "2              0  \n",
       "3              0  \n",
       "4              1  \n",
       "...          ...  \n",
       "4995           0  \n",
       "4996           0  \n",
       "4997           0  \n",
       "4998           0  \n",
       "4999           1  \n",
       "\n",
       "[5000 rows x 14 columns]"
      ]
     },
     "execution_count": 93,
     "metadata": {},
     "output_type": "execute_result"
    }
   ],
   "source": [
    "df3"
   ]
  },
  {
   "cell_type": "code",
   "execution_count": 96,
   "id": "18df552b",
   "metadata": {},
   "outputs": [
    {
     "name": "stdout",
     "output_type": "stream",
     "text": [
      "0.6459925919173632\n"
     ]
    }
   ],
   "source": [
    "print(df3['Income'].corr(df3['CCAvg']))"
   ]
  },
  {
   "cell_type": "code",
   "execution_count": 31,
   "id": "55cb3d0a",
   "metadata": {},
   "outputs": [
    {
     "data": {
      "text/plain": [
       "Income\n",
       "191    4.348718\n",
       "192    3.283333\n",
       "193    6.366667\n",
       "194    4.400000\n",
       "195    4.436667\n",
       "198    4.155556\n",
       "199    6.555556\n",
       "200    6.100000\n",
       "201    6.920000\n",
       "202    7.350000\n",
       "203    9.400000\n",
       "204    5.366667\n",
       "205    7.566667\n",
       "218    6.666667\n",
       "224    6.666667\n",
       "Name: CCAvg, dtype: float64"
      ]
     },
     "execution_count": 31,
     "metadata": {},
     "output_type": "execute_result"
    }
   ],
   "source": [
    "grouped_Income = df3.groupby('Income')['CCAvg'].mean()\n",
    "grouped_Income.tail(15)"
   ]
  },
  {
   "cell_type": "markdown",
   "id": "b5b44023",
   "metadata": {},
   "source": [
    "**Comment:-**\n",
    "***The data shows that there is not such direct relation for higher income makers spends more on credit cards.***"
   ]
  },
  {
   "cell_type": "code",
   "execution_count": null,
   "id": "30eda495",
   "metadata": {},
   "outputs": [],
   "source": [
    "#####################################################################################################################"
   ]
  },
  {
   "cell_type": "markdown",
   "id": "9de6702f",
   "metadata": {},
   "source": [
    "#### 19. Do customers using bank internet facilities paid higher?"
   ]
  },
  {
   "cell_type": "code",
   "execution_count": 105,
   "id": "1919e525",
   "metadata": {},
   "outputs": [],
   "source": [
    "grouped_Online = df3.groupby('Online')['Income'].mean()"
   ]
  },
  {
   "cell_type": "code",
   "execution_count": 106,
   "id": "ba2e5e74",
   "metadata": {},
   "outputs": [
    {
     "data": {
      "text/plain": [
       "Online\n",
       "0    72.978671\n",
       "1    74.311662\n",
       "Name: Income, dtype: float64"
      ]
     },
     "execution_count": 106,
     "metadata": {},
     "output_type": "execute_result"
    }
   ],
   "source": [
    "grouped_Online"
   ]
  },
  {
   "cell_type": "markdown",
   "id": "51160892",
   "metadata": {},
   "source": [
    "**Comment:-**\n",
    "***The data shows that the customers using bank internet facilities are paid slightly higher than those who don't use it.***"
   ]
  },
  {
   "cell_type": "markdown",
   "id": "ea939f8f",
   "metadata": {},
   "source": [
    "#### 20. Calculate the Z score of the ‘income’ variable."
   ]
  },
  {
   "cell_type": "code",
   "execution_count": 83,
   "id": "2c3ae555",
   "metadata": {},
   "outputs": [
    {
     "data": {
      "text/plain": [
       "0      -0.538175\n",
       "1      -0.864023\n",
       "2      -1.363657\n",
       "3       0.569708\n",
       "4      -0.625068\n",
       "          ...   \n",
       "4995   -0.733684\n",
       "4996   -1.276764\n",
       "4997   -1.081255\n",
       "4998   -0.538175\n",
       "4999    0.200414\n",
       "Name: Income_zscore, Length: 5000, dtype: float64"
      ]
     },
     "execution_count": 83,
     "metadata": {},
     "output_type": "execute_result"
    }
   ],
   "source": [
    "df3['Income_zscore'] = (df3['Income'] - df3['Income'].mean()) / df3['Income'].std()\n",
    "\n",
    "df3['Income_zscore']"
   ]
  },
  {
   "cell_type": "code",
   "execution_count": null,
   "id": "f4e05d25",
   "metadata": {},
   "outputs": [],
   "source": [
    "#####################################################################################################################"
   ]
  }
 ],
 "metadata": {
  "kernelspec": {
   "display_name": "Python 3 (ipykernel)",
   "language": "python",
   "name": "python3"
  },
  "language_info": {
   "codemirror_mode": {
    "name": "ipython",
    "version": 3
   },
   "file_extension": ".py",
   "mimetype": "text/x-python",
   "name": "python",
   "nbconvert_exporter": "python",
   "pygments_lexer": "ipython3",
   "version": "3.9.16"
  }
 },
 "nbformat": 4,
 "nbformat_minor": 5
}
