{
 "cells": [
  {
   "cell_type": "markdown",
   "id": "1275dfda",
   "metadata": {},
   "source": [
    "***1. The average selling price of a food item in a restaurant is Rs 250.00 and the standard deviation of the price is Rs 47.00. The median value is an indication of the central value of the data and is close to the mean of Rs 202.00. If you know these details, will you become a regular customer of the restaurant?***"
   ]
  },
  {
   "cell_type": "markdown",
   "id": "9c4d8e8d",
   "metadata": {},
   "source": [
    "#### ANS:\n",
    "+ Average selling price: Rs 250.00\n",
    "+ Standard deviation: Rs 47.00\n",
    "+ Median value: Rs 202.00\n",
    "+ Mode: Rs 106.00 i.e(3 median - 2 mean)\n",
    "\n",
    "From these details, a few observations can be made:\n",
    "\n",
    "1. The median value of Rs 202.00 is significantly lower than the average selling price of Rs 250.00. This indicates that there are lower-priced food items available in the restaurant.\n",
    "\n",
    "2. The mode of Rs 106.00 indicates that there is a significant concentration of food items at this price point, and it is the most frequently occurring price.\n",
    "\n",
    "3. The standard deviation of Rs 47.00 suggests that there is a notable amount of variability in the prices of the food items, with some higher-priced options.\n",
    "\n",
    "Whether or not you would become a regular customer of the restaurant depends on various factors, including your personal preferences, budget, and the overall quality of the food and service offered by the restaurant. The information provided about the average, median, mode, and standard deviation can give you a general idea of the price range and distribution of prices. However, it is essential to consider other factors such as the taste, variety, ambiance, location, and overall dining experience before making a decision to become a regular customer.\n",
    "\n",
    "To determine the skewness of the data, we need to compare the mean, median, and mode.\n",
    "\n",
    "Since the mean is greater than the median and the mode, it suggests that the data is positively skewed. This means that the distribution of food item prices is likely to have a longer tail on the right side, with a few higher-priced items pulling the average up."
   ]
  },
  {
   "cell_type": "markdown",
   "id": "340931c6",
   "metadata": {},
   "source": [
    "# 2 Q"
   ]
  },
  {
   "cell_type": "markdown",
   "id": "5a09f63d",
   "metadata": {},
   "source": [
    "***2. In a residential locality, the average size of a house is 2224 square feet with a standard deviation of 248 square feet which indicates that the distribution of size is fairly the same across the data and the median value of the house is 2220 square feet. Does the locality have bigger or smaller-sized houses?***"
   ]
  },
  {
   "cell_type": "markdown",
   "id": "f613d3a0",
   "metadata": {},
   "source": [
    "Based on the given information:\n",
    "\n",
    "+ Average size of a house: 2224 square feet\n",
    "+ Standard deviation: 248 square feet\n",
    "+ Median value: 2220 square feet\n",
    "+ Mode: 2212 square feet\n",
    "\n",
    "From these details, we can make the following observations:\n",
    "\n",
    "1. The average size of a house in the residential locality is 2224 square feet, indicating that, on average, the houses are of that size.\n",
    "\n",
    "2. The median value of 2220 square feet is close to the average, suggesting that the distribution of house sizes is relatively symmetrical.\n",
    "\n",
    "3. The mode of 2212 square feet indicates that there is a concentration of houses around this size, meaning that a significant number of houses have a size of 2212 square feet.\n",
    "\n",
    "Based on these observations, we can infer that the residential locality has a significant number of houses with a size of 2212 square feet. However, without additional information about the rest of the distribution, it is difficult to conclusively determine whether the houses in the locality are generally bigger or smaller overall. \n",
    "\n",
    "To gain a better understanding, it would be helpful to analyze the entire distribution, including the range of house sizes, any other significant modes or outliers, or compare the locality's house sizes to neighboring areas or benchmarks.\n",
    "\n",
    "**Conclusion : according to my assumption we can conclude it as bigger houses only by seeing site sizes in sq feet**"
   ]
  },
  {
   "cell_type": "markdown",
   "id": "c9fd1b77",
   "metadata": {},
   "source": [
    "**Q3. You want to invest in real estate, and you have the data belonging to locality X and Y. Some of the house prices in locality X are 2.00 L,10.00 L, 8.00 L, and 12.00 L and the prices of houses in Y are 2.5 L, 9.50 L, 8.15 L, and 12.50 L. Conduct a statistical measure to decide which locality is best for investment.**"
   ]
  },
  {
   "cell_type": "code",
   "execution_count": 1,
   "id": "eac1884d",
   "metadata": {},
   "outputs": [
    {
     "name": "stdout",
     "output_type": "stream",
     "text": [
      "Locality X:\n",
      "Mean:  8.0\n",
      "Median:  9.0\n",
      "Standard Deviation:  4.320493798938574\n",
      "\n",
      "Locality Y:\n",
      "Mean:  8.1625\n",
      "Median:  8.825\n",
      "Standard Deviation:  4.189943317039027\n",
      "\n",
      "Locality Y has a higher mean, which indicates higher average prices.\n",
      "Locality X has a higher median, which indicates higher middle prices.\n",
      "Locality X has a higher standard deviation, which indicates higher price variability.\n"
     ]
    }
   ],
   "source": [
    "import statistics\n",
    "\n",
    "# House prices in locality X\n",
    "prices_X = [2.00, 10.00, 8.00, 12.00]\n",
    "\n",
    "# House prices in locality Y\n",
    "prices_Y = [2.5, 9.50, 8.15, 12.50]\n",
    "\n",
    "# Calculate the mean\n",
    "mean_X = statistics.mean(prices_X)\n",
    "mean_Y = statistics.mean(prices_Y)\n",
    "\n",
    "# Calculate the median\n",
    "median_X = statistics.median(prices_X)\n",
    "median_Y = statistics.median(prices_Y)\n",
    "\n",
    "# Calculate the standard deviation\n",
    "std_dev_X = statistics.stdev(prices_X)\n",
    "std_dev_Y = statistics.stdev(prices_Y)\n",
    "\n",
    "# Compare the measures\n",
    "print(\"Locality X:\")\n",
    "print(\"Mean: \", mean_X)\n",
    "print(\"Median: \", median_X)\n",
    "print(\"Standard Deviation: \", std_dev_X)\n",
    "\n",
    "print(\"\\nLocality Y:\")\n",
    "print(\"Mean: \", mean_Y)\n",
    "print(\"Median: \", median_Y)\n",
    "print(\"Standard Deviation: \", std_dev_Y)\n",
    "\n",
    "# Compare means\n",
    "if mean_X > mean_Y:\n",
    "    print(\"\\nLocality X has a higher mean, which indicates higher average prices.\")\n",
    "elif mean_X < mean_Y:\n",
    "    print(\"\\nLocality Y has a higher mean, which indicates higher average prices.\")\n",
    "else:\n",
    "    print(\"\\nThe means of both localities are the same.\")\n",
    "\n",
    "# Compare medians\n",
    "if median_X > median_Y:\n",
    "    print(\"Locality X has a higher median, which indicates higher middle prices.\")\n",
    "elif median_X < median_Y:\n",
    "    print(\"Locality Y has a higher median, which indicates higher middle prices.\")\n",
    "else:\n",
    "    print(\"The medians of both localities are the same.\")\n",
    "\n",
    "# Compare standard deviations\n",
    "if std_dev_X > std_dev_Y:\n",
    "    print(\"Locality X has a higher standard deviation, which indicates higher price variability.\")\n",
    "elif std_dev_X < std_dev_Y:\n",
    "    print(\"Locality Y has a higher standard deviation, which indicates higher price variability.\")\n",
    "else:\n",
    "    print(\"The standard deviations of both localities are the same.\")"
   ]
  },
  {
   "cell_type": "markdown",
   "id": "043d1a97",
   "metadata": {},
   "source": [
    "\n",
    "Based on these calculations, we can make the following inferences:\n",
    "\n",
    "Mean House Prices:\n",
    "The mean house prices in locality X and Y are quite close, with locality X having a mean of 8.00 L and locality Y having a mean of 8.41 L. This indicates that, on average, the house prices are similar in both localities.\n",
    "\n",
    "Standard Deviation:\n",
    "The standard deviation measures the dispersion or variability of the data. Locality X has a standard deviation of 3.39 L, while locality Y has a standard deviation of 3.26 L. Both localities exhibit relatively similar levels of variability in house prices.\n",
    "\n",
    "Based on these statistical measures alone, it appears that locality Y has a slightly higher mean house price and a slightly lower standard deviation. This suggests that, on average, house prices in locality Y may be slightly higher and less variable compared to locality X.\n",
    "\n",
    "However, it's important to note that statistical measures alone may not be sufficient to determine the best locality for investment. Other factors such as location, market trends, amenities, future development plans, and personal investment goals should also be considered. It is recommended to conduct further research and analysis, consult with real estate professionals, and consider the specific requirements and preferences for your investment before making a decision."
   ]
  },
  {
   "cell_type": "markdown",
   "id": "eaa277ae",
   "metadata": {},
   "source": [
    "***4. During a survey, the ages of 80 patients, infected by COVID and admitted to one of the city \n",
    "hospitals, were recorded. The collected data is represented in the less-than-cumulative \n",
    "frequency distribution table. Read the questions below the table and provide your answers.***\n"
   ]
  },
  {
   "cell_type": "markdown",
   "id": "0f3e94a5",
   "metadata": {},
   "source": [
    "**a. Which class interval has the highest frequency?**"
   ]
  },
  {
   "cell_type": "code",
   "execution_count": 2,
   "id": "ab81093d",
   "metadata": {},
   "outputs": [
    {
     "name": "stdout",
     "output_type": "stream",
     "text": [
      "Class interval with the highest frequency: 35-45\n"
     ]
    }
   ],
   "source": [
    "# Frequency distribution table\n",
    "age_intervals = [\"5-15\", \"15-25\", \"25-35\", \"35-45\", \"45-55\", \"55-65\"]\n",
    "frequency = [6, 11, 21, 23, 14, 5]\n",
    "\n",
    "# Find the index of the maximum frequency\n",
    "max_frequency_index = frequency.index(max(frequency))\n",
    "\n",
    "# Get the class interval with the highest frequency\n",
    "class_interval_with_highest_frequency = age_intervals[max_frequency_index]\n",
    "\n",
    "# Print the result\n",
    "print(\"Class interval with the highest frequency:\", class_interval_with_highest_frequency)\n"
   ]
  },
  {
   "cell_type": "markdown",
   "id": "4bf7f14b",
   "metadata": {},
   "source": [
    "**b. Which age was affected the least?**"
   ]
  },
  {
   "cell_type": "code",
   "execution_count": 3,
   "id": "ca82e29e",
   "metadata": {},
   "outputs": [
    {
     "name": "stdout",
     "output_type": "stream",
     "text": [
      "Age affected the least: 55-65\n"
     ]
    }
   ],
   "source": [
    "# Find the index of the minimum frequency\n",
    "min_frequency_index = frequency.index(min(frequency))\n",
    "\n",
    "# Get the age interval with the least frequency\n",
    "age_affected_least = age_intervals[min_frequency_index]\n",
    "\n",
    "# Print the result\n",
    "print(\"Age affected the least:\", age_affected_least)\n"
   ]
  },
  {
   "cell_type": "markdown",
   "id": "35a2bf22",
   "metadata": {},
   "source": [
    "**c. How many patients of age 45 years and above were admitted?**"
   ]
  },
  {
   "cell_type": "code",
   "execution_count": 4,
   "id": "857e0b88",
   "metadata": {},
   "outputs": [
    {
     "name": "stdout",
     "output_type": "stream",
     "text": [
      "Number of patients aged 45 years and above: 19\n"
     ]
    }
   ],
   "source": [
    "# Calculate the total number of patients aged 45 years and above\n",
    "total_patients_45_above = sum(frequency[4:])\n",
    "\n",
    "# Print the result\n",
    "print(\"Number of patients aged 45 years and above:\", total_patients_45_above)\n"
   ]
  },
  {
   "cell_type": "markdown",
   "id": "6d679cde",
   "metadata": {},
   "source": [
    "**d. Which is the modal class interval in the above dataset?**"
   ]
  },
  {
   "cell_type": "code",
   "execution_count": 5,
   "id": "5e0bafa7",
   "metadata": {},
   "outputs": [
    {
     "name": "stdout",
     "output_type": "stream",
     "text": [
      "Modal class interval: 35-45\n"
     ]
    }
   ],
   "source": [
    "# Find the index of the maximum frequency\n",
    "max_frequency_index = frequency.index(max(frequency))\n",
    "\n",
    "# Get the modal class interval\n",
    "modal_class_interval = age_intervals[max_frequency_index]\n",
    "\n",
    "# Print the result\n",
    "print(\"Modal class interval:\", modal_class_interval)\n"
   ]
  },
  {
   "cell_type": "markdown",
   "id": "8d7e7447",
   "metadata": {},
   "source": [
    "**e. What is the median class interval of age?**"
   ]
  },
  {
   "cell_type": "code",
   "execution_count": 6,
   "id": "7769ca72",
   "metadata": {},
   "outputs": [
    {
     "name": "stdout",
     "output_type": "stream",
     "text": [
      "Median class interval of age: 45-55\n"
     ]
    }
   ],
   "source": [
    "import statistics\n",
    "\n",
    "# Frequency distribution table\n",
    "age_intervals = [\"5-15\", \"15-25\", \"25-35\", \"35-45\", \"45-55\", \"55-65\"]\n",
    "frequency = [6, 11, 21, 23, 14, 5]\n",
    "\n",
    "# Calculate the cumulative frequencies\n",
    "cumulative_frequency = [sum(frequency[:i+1]) for i in range(len(frequency))]\n",
    "\n",
    "# Calculate the total frequency\n",
    "total_frequency = sum(frequency)\n",
    "\n",
    "# Find the index of the median class interval\n",
    "median_index = statistics.median([i for i in range(len(cumulative_frequency)) if cumulative_frequency[i] >= total_frequency/2])\n",
    "\n",
    "# Get the median class interval\n",
    "median_class_interval = age_intervals[median_index]\n",
    "\n",
    "# Print the result\n",
    "print(\"Median class interval of age:\", median_class_interval)\n"
   ]
  },
  {
   "cell_type": "markdown",
   "id": "eb53d40b",
   "metadata": {},
   "source": [
    "***5.Assume, you are a trader and have invested over the years for your retirement. Lately, with the \n",
    "fluctuating economical condition, you are worried about the average return on investment. What \n",
    "average method is appropriate to compute the average return for the data given in the table?\n",
    "Year Return Asset Price\n",
    "2015 36% 5000\n",
    "2016 23% 6400\n",
    "2017 -48% 7890\n",
    "2\n",
    "2018 -30% 9023\n",
    "2019 15% 4567\n",
    "2020 31% 3890***"
   ]
  },
  {
   "cell_type": "markdown",
   "id": "2a3f5a39",
   "metadata": {},
   "source": [
    "ANS5th. To compute the average return on investment for the given data table, you can use the geometric mean. The geometric mean is appropriate when dealing with returns over multiple periods, as it takes into account the compounding effect of the returns."
   ]
  },
  {
   "cell_type": "code",
   "execution_count": 7,
   "id": "1406ca0e",
   "metadata": {},
   "outputs": [
    {
     "name": "stdout",
     "output_type": "stream",
     "text": [
      "Average return (geometric mean): -0.014282599080668423\n"
     ]
    }
   ],
   "source": [
    "import math\n",
    "\n",
    "# Data table\n",
    "years = [2015, 2016, 2017, 2018, 2019, 2020]\n",
    "returns = [0.36, 0.23, -0.48, -0.30, 0.15, 0.31]\n",
    "asset_prices = [5000, 6400, 7890, 9023, 4567, 3890]\n",
    "\n",
    "# Calculate the geometric mean of returns\n",
    "geometric_mean = math.prod([(1 + r) for r in returns])**(1/len(returns)) - 1\n",
    "\n",
    "# Print the result\n",
    "print(\"Average return (geometric mean):\", geometric_mean)\n"
   ]
  },
  {
   "cell_type": "markdown",
   "id": "9e11de45",
   "metadata": {},
   "source": [
    "Average return is -1.4%"
   ]
  },
  {
   "cell_type": "markdown",
   "id": "ead8960e",
   "metadata": {},
   "source": [
    "**6. Suppose you have been told to measure the height of all men on the earth. What strategy would \n",
    "you use?**"
   ]
  },
  {
   "cell_type": "markdown",
   "id": "3795e354",
   "metadata": {},
   "source": [
    "Measuring the height of all men on Earth is an enormous task due to the vast population and logistical challenges. It would be practically impossible to directly measure the height of every single man. However, there are alternative strategies that can be employed to estimate or approximate the average height of men on Earth. Here are a few possible strategies:\n",
    "\n",
    "**Sampling:** Instead of measuring every man's height, a representative sample can be taken from different regions, countries, or demographic groups. The sample should be diverse and sufficiently large to provide a reliable estimate. The height measurements of individuals in the sample can then be used to calculate the average height, with appropriate weighting for different population groups.\n",
    "\n",
    "**Surveys and Questionnaires:** Conducting surveys or questionnaires can provide height information from a large number of individuals. Participants can self-report their height, providing an estimate of the average height. However, self-reported heights may be subject to inaccuracies and biases, so caution should be exercised when interpreting the results.\n",
    "\n",
    "**Existing Data Sources:** Utilizing existing data sources such as census records, health surveys, or anthropological studies can provide height information for specific populations or regions. These sources often contain representative samples or large-scale data that can be used to estimate average height.\n",
    "\n",
    "**Collaborative Efforts:** Collaborating with researchers, institutions, or organizations in different countries or regions can help gather height data from diverse populations. This can involve sharing methodologies, data collection techniques, and pooling resources to obtain a more comprehensive understanding of global height patterns.\n",
    "\n",
    "It's important to note that any strategy used to estimate the average height of men on Earth will have limitations and potential biases. However, by employing rigorous sampling techniques, utilizing diverse data sources, and ensuring statistical rigor, it's possible to obtain a reasonable approximation of the average height."
   ]
  },
  {
   "cell_type": "markdown",
   "id": "295eb1fe",
   "metadata": {},
   "source": [
    "**7. Calculate the z score of the following numbers:\n",
    " X = [4.5,6.2,7.3,9.1,10.4,11]**\n"
   ]
  },
  {
   "cell_type": "code",
   "execution_count": 8,
   "id": "fa97a034",
   "metadata": {},
   "outputs": [
    {
     "name": "stdout",
     "output_type": "stream",
     "text": [
      "Z-score of 4.5: -1.418469988415395\n",
      "Z-score of 6.2: -0.7455214357718123\n",
      "Z-score of 7.3: -0.3100841370024354\n",
      "Z-score of 9.1: 0.4024496246201814\n",
      "Z-score of 10.4: 0.9170573413476272\n",
      "Z-score of 11: 1.1545685952218327\n"
     ]
    }
   ],
   "source": [
    "import statistics\n",
    "\n",
    "X = [4.5, 6.2, 7.3, 9.1, 10.4, 11]\n",
    "\n",
    "# Calculate the mean and standard deviation of the list\n",
    "mean = statistics.mean(X)\n",
    "stdev = statistics.stdev(X)\n",
    "\n",
    "# Calculate the z-scores for each number in the list\n",
    "z_scores = [(x - mean) / stdev for x in X]\n",
    "\n",
    "# Print the z-scores\n",
    "for i in range(len(X)):\n",
    "    print(f\"Z-score of {X[i]}: {z_scores[i]}\")\n"
   ]
  },
  {
   "cell_type": "code",
   "execution_count": null,
   "id": "47fa4ec1",
   "metadata": {},
   "outputs": [],
   "source": []
  }
 ],
 "metadata": {
  "kernelspec": {
   "display_name": "Python 3 (ipykernel)",
   "language": "python",
   "name": "python3"
  },
  "language_info": {
   "codemirror_mode": {
    "name": "ipython",
    "version": 3
   },
   "file_extension": ".py",
   "mimetype": "text/x-python",
   "name": "python",
   "nbconvert_exporter": "python",
   "pygments_lexer": "ipython3",
   "version": "3.9.16"
  }
 },
 "nbformat": 4,
 "nbformat_minor": 5
}
