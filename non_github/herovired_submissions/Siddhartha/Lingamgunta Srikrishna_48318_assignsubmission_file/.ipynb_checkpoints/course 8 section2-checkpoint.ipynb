{
 "cells": [
  {
   "cell_type": "code",
   "execution_count": 1,
   "id": "0d183e62",
   "metadata": {},
   "outputs": [
    {
     "name": "stderr",
     "output_type": "stream",
     "text": [
      "C:\\Users\\Srikrishna\\anaconda3\\lib\\site-packages\\openpyxl\\worksheet\\_read_only.py:79: UserWarning: Unknown extension is not supported and will be removed\n",
      "  for idx, row in parser.parse():\n"
     ]
    },
    {
     "data": {
      "text/html": [
       "<div>\n",
       "<style scoped>\n",
       "    .dataframe tbody tr th:only-of-type {\n",
       "        vertical-align: middle;\n",
       "    }\n",
       "\n",
       "    .dataframe tbody tr th {\n",
       "        vertical-align: top;\n",
       "    }\n",
       "\n",
       "    .dataframe thead th {\n",
       "        text-align: right;\n",
       "    }\n",
       "</style>\n",
       "<table border=\"1\" class=\"dataframe\">\n",
       "  <thead>\n",
       "    <tr style=\"text-align: right;\">\n",
       "      <th></th>\n",
       "      <th>ID</th>\n",
       "      <th>Age</th>\n",
       "      <th>Experience</th>\n",
       "      <th>Income</th>\n",
       "      <th>ZIP Code</th>\n",
       "      <th>Family</th>\n",
       "      <th>CCAvg</th>\n",
       "      <th>Education</th>\n",
       "      <th>Mortgage</th>\n",
       "      <th>Personal Loan</th>\n",
       "      <th>Securities Account</th>\n",
       "      <th>CD Account</th>\n",
       "      <th>Online</th>\n",
       "      <th>CreditCard</th>\n",
       "    </tr>\n",
       "  </thead>\n",
       "  <tbody>\n",
       "    <tr>\n",
       "      <th>0</th>\n",
       "      <td>1</td>\n",
       "      <td>25</td>\n",
       "      <td>1</td>\n",
       "      <td>49</td>\n",
       "      <td>91107</td>\n",
       "      <td>4</td>\n",
       "      <td>1.6</td>\n",
       "      <td>1</td>\n",
       "      <td>0</td>\n",
       "      <td>0</td>\n",
       "      <td>1</td>\n",
       "      <td>0</td>\n",
       "      <td>0</td>\n",
       "      <td>0</td>\n",
       "    </tr>\n",
       "    <tr>\n",
       "      <th>1</th>\n",
       "      <td>2</td>\n",
       "      <td>45</td>\n",
       "      <td>19</td>\n",
       "      <td>34</td>\n",
       "      <td>90089</td>\n",
       "      <td>3</td>\n",
       "      <td>1.5</td>\n",
       "      <td>1</td>\n",
       "      <td>0</td>\n",
       "      <td>0</td>\n",
       "      <td>1</td>\n",
       "      <td>0</td>\n",
       "      <td>0</td>\n",
       "      <td>0</td>\n",
       "    </tr>\n",
       "    <tr>\n",
       "      <th>2</th>\n",
       "      <td>3</td>\n",
       "      <td>39</td>\n",
       "      <td>15</td>\n",
       "      <td>11</td>\n",
       "      <td>94720</td>\n",
       "      <td>1</td>\n",
       "      <td>1.0</td>\n",
       "      <td>1</td>\n",
       "      <td>0</td>\n",
       "      <td>0</td>\n",
       "      <td>0</td>\n",
       "      <td>0</td>\n",
       "      <td>0</td>\n",
       "      <td>0</td>\n",
       "    </tr>\n",
       "    <tr>\n",
       "      <th>3</th>\n",
       "      <td>4</td>\n",
       "      <td>35</td>\n",
       "      <td>9</td>\n",
       "      <td>100</td>\n",
       "      <td>94112</td>\n",
       "      <td>1</td>\n",
       "      <td>2.7</td>\n",
       "      <td>2</td>\n",
       "      <td>0</td>\n",
       "      <td>0</td>\n",
       "      <td>0</td>\n",
       "      <td>0</td>\n",
       "      <td>0</td>\n",
       "      <td>0</td>\n",
       "    </tr>\n",
       "    <tr>\n",
       "      <th>4</th>\n",
       "      <td>5</td>\n",
       "      <td>35</td>\n",
       "      <td>8</td>\n",
       "      <td>45</td>\n",
       "      <td>91330</td>\n",
       "      <td>4</td>\n",
       "      <td>1.0</td>\n",
       "      <td>2</td>\n",
       "      <td>0</td>\n",
       "      <td>0</td>\n",
       "      <td>0</td>\n",
       "      <td>0</td>\n",
       "      <td>0</td>\n",
       "      <td>1</td>\n",
       "    </tr>\n",
       "  </tbody>\n",
       "</table>\n",
       "</div>"
      ],
      "text/plain": [
       "   ID  Age  Experience  Income  ZIP Code  Family  CCAvg  Education  Mortgage  \\\n",
       "0   1   25           1      49     91107       4    1.6          1         0   \n",
       "1   2   45          19      34     90089       3    1.5          1         0   \n",
       "2   3   39          15      11     94720       1    1.0          1         0   \n",
       "3   4   35           9     100     94112       1    2.7          2         0   \n",
       "4   5   35           8      45     91330       4    1.0          2         0   \n",
       "\n",
       "   Personal Loan  Securities Account  CD Account  Online  CreditCard  \n",
       "0              0                   1           0       0           0  \n",
       "1              0                   1           0       0           0  \n",
       "2              0                   0           0       0           0  \n",
       "3              0                   0           0       0           0  \n",
       "4              0                   0           0       0           1  "
      ]
     },
     "execution_count": 1,
     "metadata": {},
     "output_type": "execute_result"
    }
   ],
   "source": [
    "import pandas as pd\n",
    "loans = pd.read_excel(\"Bank Personal Loan Modelling.xlsx\", sheet_name=\"Data\")\n",
    "loans.head()"
   ]
  },
  {
   "cell_type": "code",
   "execution_count": 2,
   "id": "aa91af04",
   "metadata": {
    "scrolled": true
   },
   "outputs": [
    {
     "name": "stdout",
     "output_type": "stream",
     "text": [
      "<class 'pandas.core.frame.DataFrame'>\n",
      "RangeIndex: 5000 entries, 0 to 4999\n",
      "Data columns (total 14 columns):\n",
      " #   Column              Non-Null Count  Dtype  \n",
      "---  ------              --------------  -----  \n",
      " 0   ID                  5000 non-null   int64  \n",
      " 1   Age                 5000 non-null   int64  \n",
      " 2   Experience          5000 non-null   int64  \n",
      " 3   Income              5000 non-null   int64  \n",
      " 4   ZIP Code            5000 non-null   int64  \n",
      " 5   Family              5000 non-null   int64  \n",
      " 6   CCAvg               5000 non-null   float64\n",
      " 7   Education           5000 non-null   int64  \n",
      " 8   Mortgage            5000 non-null   int64  \n",
      " 9   Personal Loan       5000 non-null   int64  \n",
      " 10  Securities Account  5000 non-null   int64  \n",
      " 11  CD Account          5000 non-null   int64  \n",
      " 12  Online              5000 non-null   int64  \n",
      " 13  CreditCard          5000 non-null   int64  \n",
      "dtypes: float64(1), int64(13)\n",
      "memory usage: 547.0 KB\n"
     ]
    }
   ],
   "source": [
    "loans.info()"
   ]
  },
  {
   "cell_type": "code",
   "execution_count": null,
   "id": "497ef598",
   "metadata": {},
   "outputs": [],
   "source": []
  },
  {
   "cell_type": "markdown",
   "id": "679f2e27",
   "metadata": {},
   "source": [
    "**8. Give the statistical summary for all the variables in the dataset.**\n"
   ]
  },
  {
   "cell_type": "code",
   "execution_count": 3,
   "id": "99168596",
   "metadata": {},
   "outputs": [
    {
     "data": {
      "text/html": [
       "<div>\n",
       "<style scoped>\n",
       "    .dataframe tbody tr th:only-of-type {\n",
       "        vertical-align: middle;\n",
       "    }\n",
       "\n",
       "    .dataframe tbody tr th {\n",
       "        vertical-align: top;\n",
       "    }\n",
       "\n",
       "    .dataframe thead th {\n",
       "        text-align: right;\n",
       "    }\n",
       "</style>\n",
       "<table border=\"1\" class=\"dataframe\">\n",
       "  <thead>\n",
       "    <tr style=\"text-align: right;\">\n",
       "      <th></th>\n",
       "      <th>Age</th>\n",
       "      <th>Experience</th>\n",
       "      <th>Income</th>\n",
       "      <th>Family</th>\n",
       "      <th>CCAvg</th>\n",
       "      <th>Education</th>\n",
       "      <th>Mortgage</th>\n",
       "      <th>Personal Loan</th>\n",
       "      <th>Securities Account</th>\n",
       "      <th>CD Account</th>\n",
       "      <th>Online</th>\n",
       "      <th>CreditCard</th>\n",
       "    </tr>\n",
       "  </thead>\n",
       "  <tbody>\n",
       "    <tr>\n",
       "      <th>count</th>\n",
       "      <td>5000.000000</td>\n",
       "      <td>5000.000000</td>\n",
       "      <td>5000.000000</td>\n",
       "      <td>5000.000000</td>\n",
       "      <td>5000.000000</td>\n",
       "      <td>5000.000000</td>\n",
       "      <td>5000.000000</td>\n",
       "      <td>5000.000000</td>\n",
       "      <td>5000.000000</td>\n",
       "      <td>5000.00000</td>\n",
       "      <td>5000.000000</td>\n",
       "      <td>5000.000000</td>\n",
       "    </tr>\n",
       "    <tr>\n",
       "      <th>mean</th>\n",
       "      <td>45.338400</td>\n",
       "      <td>20.104600</td>\n",
       "      <td>73.774200</td>\n",
       "      <td>2.396400</td>\n",
       "      <td>1.937913</td>\n",
       "      <td>1.881000</td>\n",
       "      <td>56.498800</td>\n",
       "      <td>0.096000</td>\n",
       "      <td>0.104400</td>\n",
       "      <td>0.06040</td>\n",
       "      <td>0.596800</td>\n",
       "      <td>0.294000</td>\n",
       "    </tr>\n",
       "    <tr>\n",
       "      <th>std</th>\n",
       "      <td>11.463166</td>\n",
       "      <td>11.467954</td>\n",
       "      <td>46.033729</td>\n",
       "      <td>1.147663</td>\n",
       "      <td>1.747666</td>\n",
       "      <td>0.839869</td>\n",
       "      <td>101.713802</td>\n",
       "      <td>0.294621</td>\n",
       "      <td>0.305809</td>\n",
       "      <td>0.23825</td>\n",
       "      <td>0.490589</td>\n",
       "      <td>0.455637</td>\n",
       "    </tr>\n",
       "    <tr>\n",
       "      <th>min</th>\n",
       "      <td>23.000000</td>\n",
       "      <td>-3.000000</td>\n",
       "      <td>8.000000</td>\n",
       "      <td>1.000000</td>\n",
       "      <td>0.000000</td>\n",
       "      <td>1.000000</td>\n",
       "      <td>0.000000</td>\n",
       "      <td>0.000000</td>\n",
       "      <td>0.000000</td>\n",
       "      <td>0.00000</td>\n",
       "      <td>0.000000</td>\n",
       "      <td>0.000000</td>\n",
       "    </tr>\n",
       "    <tr>\n",
       "      <th>25%</th>\n",
       "      <td>35.000000</td>\n",
       "      <td>10.000000</td>\n",
       "      <td>39.000000</td>\n",
       "      <td>1.000000</td>\n",
       "      <td>0.700000</td>\n",
       "      <td>1.000000</td>\n",
       "      <td>0.000000</td>\n",
       "      <td>0.000000</td>\n",
       "      <td>0.000000</td>\n",
       "      <td>0.00000</td>\n",
       "      <td>0.000000</td>\n",
       "      <td>0.000000</td>\n",
       "    </tr>\n",
       "    <tr>\n",
       "      <th>50%</th>\n",
       "      <td>45.000000</td>\n",
       "      <td>20.000000</td>\n",
       "      <td>64.000000</td>\n",
       "      <td>2.000000</td>\n",
       "      <td>1.500000</td>\n",
       "      <td>2.000000</td>\n",
       "      <td>0.000000</td>\n",
       "      <td>0.000000</td>\n",
       "      <td>0.000000</td>\n",
       "      <td>0.00000</td>\n",
       "      <td>1.000000</td>\n",
       "      <td>0.000000</td>\n",
       "    </tr>\n",
       "    <tr>\n",
       "      <th>75%</th>\n",
       "      <td>55.000000</td>\n",
       "      <td>30.000000</td>\n",
       "      <td>98.000000</td>\n",
       "      <td>3.000000</td>\n",
       "      <td>2.500000</td>\n",
       "      <td>3.000000</td>\n",
       "      <td>101.000000</td>\n",
       "      <td>0.000000</td>\n",
       "      <td>0.000000</td>\n",
       "      <td>0.00000</td>\n",
       "      <td>1.000000</td>\n",
       "      <td>1.000000</td>\n",
       "    </tr>\n",
       "    <tr>\n",
       "      <th>max</th>\n",
       "      <td>67.000000</td>\n",
       "      <td>43.000000</td>\n",
       "      <td>224.000000</td>\n",
       "      <td>4.000000</td>\n",
       "      <td>10.000000</td>\n",
       "      <td>3.000000</td>\n",
       "      <td>635.000000</td>\n",
       "      <td>1.000000</td>\n",
       "      <td>1.000000</td>\n",
       "      <td>1.00000</td>\n",
       "      <td>1.000000</td>\n",
       "      <td>1.000000</td>\n",
       "    </tr>\n",
       "  </tbody>\n",
       "</table>\n",
       "</div>"
      ],
      "text/plain": [
       "               Age   Experience       Income       Family        CCAvg  \\\n",
       "count  5000.000000  5000.000000  5000.000000  5000.000000  5000.000000   \n",
       "mean     45.338400    20.104600    73.774200     2.396400     1.937913   \n",
       "std      11.463166    11.467954    46.033729     1.147663     1.747666   \n",
       "min      23.000000    -3.000000     8.000000     1.000000     0.000000   \n",
       "25%      35.000000    10.000000    39.000000     1.000000     0.700000   \n",
       "50%      45.000000    20.000000    64.000000     2.000000     1.500000   \n",
       "75%      55.000000    30.000000    98.000000     3.000000     2.500000   \n",
       "max      67.000000    43.000000   224.000000     4.000000    10.000000   \n",
       "\n",
       "         Education     Mortgage  Personal Loan  Securities Account  \\\n",
       "count  5000.000000  5000.000000    5000.000000         5000.000000   \n",
       "mean      1.881000    56.498800       0.096000            0.104400   \n",
       "std       0.839869   101.713802       0.294621            0.305809   \n",
       "min       1.000000     0.000000       0.000000            0.000000   \n",
       "25%       1.000000     0.000000       0.000000            0.000000   \n",
       "50%       2.000000     0.000000       0.000000            0.000000   \n",
       "75%       3.000000   101.000000       0.000000            0.000000   \n",
       "max       3.000000   635.000000       1.000000            1.000000   \n",
       "\n",
       "       CD Account       Online   CreditCard  \n",
       "count  5000.00000  5000.000000  5000.000000  \n",
       "mean      0.06040     0.596800     0.294000  \n",
       "std       0.23825     0.490589     0.455637  \n",
       "min       0.00000     0.000000     0.000000  \n",
       "25%       0.00000     0.000000     0.000000  \n",
       "50%       0.00000     1.000000     0.000000  \n",
       "75%       0.00000     1.000000     1.000000  \n",
       "max       1.00000     1.000000     1.000000  "
      ]
     },
     "execution_count": 3,
     "metadata": {},
     "output_type": "execute_result"
    }
   ],
   "source": [
    "loans.drop(['ID', 'ZIP Code'], axis=1).describe()"
   ]
  },
  {
   "cell_type": "markdown",
   "id": "d157a507",
   "metadata": {},
   "source": [
    "**9. Give all the measures of central tendency for all the quantitative variables which are continuous \n",
    "and discrete.**"
   ]
  },
  {
   "cell_type": "code",
   "execution_count": 4,
   "id": "0ae8392d",
   "metadata": {},
   "outputs": [
    {
     "data": {
      "text/plain": [
       "Age                   45.338400\n",
       "Experience            20.104600\n",
       "Income                73.774200\n",
       "Family                 2.396400\n",
       "CCAvg                  1.937913\n",
       "Education              1.881000\n",
       "Mortgage              56.498800\n",
       "Personal Loan          0.096000\n",
       "Securities Account     0.104400\n",
       "CD Account             0.060400\n",
       "Online                 0.596800\n",
       "CreditCard             0.294000\n",
       "dtype: float64"
      ]
     },
     "execution_count": 4,
     "metadata": {},
     "output_type": "execute_result"
    }
   ],
   "source": [
    "loans.drop(['ID', 'ZIP Code'], axis=1).mean()"
   ]
  },
  {
   "cell_type": "code",
   "execution_count": 5,
   "id": "9a6bef68",
   "metadata": {},
   "outputs": [
    {
     "data": {
      "text/plain": [
       "Age                   45.0\n",
       "Experience            20.0\n",
       "Income                64.0\n",
       "Family                 2.0\n",
       "CCAvg                  1.5\n",
       "Education              2.0\n",
       "Mortgage               0.0\n",
       "Personal Loan          0.0\n",
       "Securities Account     0.0\n",
       "CD Account             0.0\n",
       "Online                 1.0\n",
       "CreditCard             0.0\n",
       "dtype: float64"
      ]
     },
     "execution_count": 5,
     "metadata": {},
     "output_type": "execute_result"
    }
   ],
   "source": [
    "loans.drop(['ID', 'ZIP Code'], axis=1).median()"
   ]
  },
  {
   "cell_type": "code",
   "execution_count": 7,
   "id": "b6cc801f",
   "metadata": {},
   "outputs": [
    {
     "data": {
      "text/html": [
       "<div>\n",
       "<style scoped>\n",
       "    .dataframe tbody tr th:only-of-type {\n",
       "        vertical-align: middle;\n",
       "    }\n",
       "\n",
       "    .dataframe tbody tr th {\n",
       "        vertical-align: top;\n",
       "    }\n",
       "\n",
       "    .dataframe thead th {\n",
       "        text-align: right;\n",
       "    }\n",
       "</style>\n",
       "<table border=\"1\" class=\"dataframe\">\n",
       "  <thead>\n",
       "    <tr style=\"text-align: right;\">\n",
       "      <th></th>\n",
       "      <th>Age</th>\n",
       "      <th>Experience</th>\n",
       "      <th>Income</th>\n",
       "      <th>Family</th>\n",
       "      <th>CCAvg</th>\n",
       "      <th>Education</th>\n",
       "      <th>Mortgage</th>\n",
       "      <th>Personal Loan</th>\n",
       "      <th>Securities Account</th>\n",
       "      <th>CD Account</th>\n",
       "      <th>Online</th>\n",
       "      <th>CreditCard</th>\n",
       "    </tr>\n",
       "  </thead>\n",
       "  <tbody>\n",
       "    <tr>\n",
       "      <th>0</th>\n",
       "      <td>35</td>\n",
       "      <td>32</td>\n",
       "      <td>44</td>\n",
       "      <td>1</td>\n",
       "      <td>0.3</td>\n",
       "      <td>1</td>\n",
       "      <td>0</td>\n",
       "      <td>0</td>\n",
       "      <td>0</td>\n",
       "      <td>0</td>\n",
       "      <td>1</td>\n",
       "      <td>0</td>\n",
       "    </tr>\n",
       "  </tbody>\n",
       "</table>\n",
       "</div>"
      ],
      "text/plain": [
       "   Age  Experience  Income  Family  CCAvg  Education  Mortgage  Personal Loan  \\\n",
       "0   35          32      44       1    0.3          1         0              0   \n",
       "\n",
       "   Securities Account  CD Account  Online  CreditCard  \n",
       "0                   0           0       1           0  "
      ]
     },
     "execution_count": 7,
     "metadata": {},
     "output_type": "execute_result"
    }
   ],
   "source": [
    "loans.drop(['ID', 'ZIP Code'], axis=1).mode()"
   ]
  },
  {
   "cell_type": "markdown",
   "id": "df63d2aa",
   "metadata": {},
   "source": [
    "**10. Can you apply any statistical method to observe any similarity in distribution between age and \n",
    "experience variables?**"
   ]
  },
  {
   "cell_type": "code",
   "execution_count": 12,
   "id": "6f7ac316",
   "metadata": {},
   "outputs": [
    {
     "name": "stdout",
     "output_type": "stream",
     "text": [
      "correlation between age and experience is:  0.9942148569683317\n"
     ]
    }
   ],
   "source": [
    "x = loans['Age'].corr(loans['Experience'])\n",
    "print(\"correlation between age and experience is: \", x)"
   ]
  },
  {
   "cell_type": "markdown",
   "id": "a508c9e3",
   "metadata": {},
   "source": [
    "**11. Who are the most frequent family members present in this dataset?**"
   ]
  },
  {
   "cell_type": "code",
   "execution_count": 14,
   "id": "10f17f48",
   "metadata": {},
   "outputs": [
    {
     "data": {
      "text/plain": [
       "0    1\n",
       "Name: Family, dtype: int64"
      ]
     },
     "execution_count": 14,
     "metadata": {},
     "output_type": "execute_result"
    }
   ],
   "source": [
    "loans['Family'].mode()"
   ]
  },
  {
   "cell_type": "markdown",
   "id": "fdc9b545",
   "metadata": {},
   "source": [
    "**12. What is the coefficient of variation you can observe in the ‘Income’ variable?**"
   ]
  },
  {
   "cell_type": "code",
   "execution_count": 28,
   "id": "9455699b",
   "metadata": {},
   "outputs": [
    {
     "name": "stdout",
     "output_type": "stream",
     "text": [
      "coeffecient of variance for income is: 160.2611847617716\n"
     ]
    }
   ],
   "source": [
    "mean = loans['Income'].mean()\n",
    "std = loans['Income'].std()\n",
    "print(\"coeffecient of variance for income is:\", (mean/std)*100)\n"
   ]
  },
  {
   "cell_type": "markdown",
   "id": "1bd22228",
   "metadata": {},
   "source": [
    "**13. The ‘Mortgage’ variable is having a lot of zeroes. Impute with some business logical value that you feel fit for the data.**\n"
   ]
  },
  {
   "cell_type": "code",
   "execution_count": 20,
   "id": "3a07a8c0",
   "metadata": {},
   "outputs": [],
   "source": [
    "impute=loans['Mortgage'].mean()"
   ]
  },
  {
   "cell_type": "code",
   "execution_count": 21,
   "id": "95adea8d",
   "metadata": {},
   "outputs": [],
   "source": [
    "loans['Mortgage']=loans['Mortgage'].replace(0,impute)"
   ]
  },
  {
   "cell_type": "code",
   "execution_count": 22,
   "id": "7dc9bca9",
   "metadata": {},
   "outputs": [
    {
     "data": {
      "text/plain": [
       "0       56.4988\n",
       "1       56.4988\n",
       "2       56.4988\n",
       "3       56.4988\n",
       "4       56.4988\n",
       "         ...   \n",
       "4995    56.4988\n",
       "4996    85.0000\n",
       "4997    56.4988\n",
       "4998    56.4988\n",
       "4999    56.4988\n",
       "Name: Mortgage, Length: 5000, dtype: float64"
      ]
     },
     "execution_count": 22,
     "metadata": {},
     "output_type": "execute_result"
    }
   ],
   "source": [
    "loans['Mortgage']"
   ]
  },
  {
   "cell_type": "markdown",
   "id": "0fd0e0d7",
   "metadata": {},
   "source": [
    "**14. Do customers with credit cards have any impact on their experience and income?**\n"
   ]
  },
  {
   "cell_type": "code",
   "execution_count": 23,
   "id": "de0ced40",
   "metadata": {},
   "outputs": [
    {
     "name": "stdout",
     "output_type": "stream",
     "text": [
      "correlation between age and experience is:  0.008967447335361334\n"
     ]
    }
   ],
   "source": [
    "x = loans['CreditCard'].corr(loans['Experience'])\n",
    "print(\"correlation between age and experience is: \", x)"
   ]
  },
  {
   "cell_type": "code",
   "execution_count": 24,
   "id": "9d91390e",
   "metadata": {},
   "outputs": [
    {
     "name": "stdout",
     "output_type": "stream",
     "text": [
      "correlation between age and experience is:  -0.0023850077511431583\n"
     ]
    }
   ],
   "source": [
    "x = loans['CreditCard'].corr(loans['Income'])\n",
    "print(\"correlation between age and experience is: \", x)"
   ]
  },
  {
   "cell_type": "markdown",
   "id": "8e1289a7",
   "metadata": {},
   "source": [
    "**15. Do you see any outliers in the dataset? If yes what plot is suitable to showcase to the stakeholders?**"
   ]
  },
  {
   "cell_type": "code",
   "execution_count": 32,
   "id": "431bf032",
   "metadata": {},
   "outputs": [
    {
     "name": "stdout",
     "output_type": "stream",
     "text": [
      "39.0 64.0 98.0\n",
      "minimum value is: -12.0 maximum value is : 149.0\n"
     ]
    },
    {
     "data": {
      "text/plain": [
       "<Axes: >"
      ]
     },
     "execution_count": 32,
     "metadata": {},
     "output_type": "execute_result"
    },
    {
     "data": {
      "image/png": "[encoded data removed]",
      "text/plain": [
       "<Figure size 640x480 with 1 Axes>"
      ]
     },
     "metadata": {},
     "output_type": "display_data"
    }
   ],
   "source": [
    "q1 = loans['Income'].quantile(.25)\n",
    "q2 = loans['Income'].quantile(.50)\n",
    "q3 = loans['Income'].quantile(.75)\n",
    "print(q1,q2,q3)\n",
    "iqr = q3-q2\n",
    "min = q1-(1.5*iqr)\n",
    "max = q3+(1.5*iqr)\n",
    "print(\"minimum value is:\",min , \"maximum value is :\", max)\n",
    "loans['Income'].plot(kind='box')"
   ]
  },
  {
   "cell_type": "markdown",
   "id": "d418124a",
   "metadata": {},
   "source": [
    "***Conclusion:*** **Stakeholders are having outliers, so, boxplot with quartile is choosen relevant one**"
   ]
  },
  {
   "cell_type": "markdown",
   "id": "814c9ee5",
   "metadata": {},
   "source": [
    "**16. Give us the deciles values of the variable ‘Income’ in the dataset.**\n"
   ]
  },
  {
   "cell_type": "code",
   "execution_count": 27,
   "id": "ffcf9cb4",
   "metadata": {},
   "outputs": [
    {
     "name": "stdout",
     "output_type": "stream",
     "text": [
      "        ID  Age  Experience  Income  ZIP Code  Family  CCAvg  Education  \\\n",
      "0        1   25           1      49     91107       4    1.6          1   \n",
      "1        2   45          19      34     90089       3    1.5          1   \n",
      "2        3   39          15      11     94720       1    1.0          1   \n",
      "3        4   35           9     100     94112       1    2.7          2   \n",
      "4        5   35           8      45     91330       4    1.0          2   \n",
      "...    ...  ...         ...     ...       ...     ...    ...        ...   \n",
      "4995  4996   29           3      40     92697       1    1.9          3   \n",
      "4996  4997   30           4      15     92037       4    0.4          1   \n",
      "4997  4998   63          39      24     93023       2    0.3          3   \n",
      "4998  4999   65          40      49     90034       3    0.5          2   \n",
      "4999  5000   28           4      83     92612       3    0.8          1   \n",
      "\n",
      "      Mortgage  Personal Loan  Securities Account  CD Account  Online  \\\n",
      "0      56.4988              0                   1           0       0   \n",
      "1      56.4988              0                   1           0       0   \n",
      "2      56.4988              0                   0           0       0   \n",
      "3      56.4988              0                   0           0       0   \n",
      "4      56.4988              0                   0           0       0   \n",
      "...        ...            ...                 ...         ...     ...   \n",
      "4995   56.4988              0                   0           0       1   \n",
      "4996   85.0000              0                   0           0       1   \n",
      "4997   56.4988              0                   0           0       0   \n",
      "4998   56.4988              0                   0           0       1   \n",
      "4999   56.4988              0                   0           0       1   \n",
      "\n",
      "      CreditCard  Decile_rank  \n",
      "0              0            3  \n",
      "1              0            2  \n",
      "2              0            0  \n",
      "3              0            7  \n",
      "4              1            3  \n",
      "...          ...          ...  \n",
      "4995           0            2  \n",
      "4996           0            0  \n",
      "4997           0            1  \n",
      "4998           0            3  \n",
      "4999           1            6  \n",
      "\n",
      "[5000 rows x 15 columns]\n"
     ]
    }
   ],
   "source": [
    "loans['Decile_rank'] = pd.qcut(loans['Income'], 10,\n",
    "                            labels = False)\n",
    "print(loans)"
   ]
  },
  {
   "cell_type": "markdown",
   "id": "b5d6d4a0",
   "metadata": {},
   "source": [
    "***17. Give the IQR of all the variables which are quantitative and continuous.***\n"
   ]
  },
  {
   "cell_type": "code",
   "execution_count": 30,
   "id": "7ada8fa4",
   "metadata": {
    "scrolled": false
   },
   "outputs": [
    {
     "name": "stdout",
     "output_type": "stream",
     "text": [
      "Age                   20.0000\n",
      "Experience            20.0000\n",
      "Income                59.0000\n",
      "Family                 2.0000\n",
      "CCAvg                  1.8000\n",
      "Education              2.0000\n",
      "Mortgage              44.5012\n",
      "Personal Loan          0.0000\n",
      "Securities Account     0.0000\n",
      "CD Account             0.0000\n",
      "Online                 1.0000\n",
      "CreditCard             1.0000\n",
      "Decile_rank            5.0000\n",
      "dtype: float64\n"
     ]
    }
   ],
   "source": [
    "q1 = loans.drop(['ID', 'ZIP Code'], axis=1).quantile(.25) # 25th percentile value\n",
    "q3 = loans.drop(['ID', 'ZIP Code'], axis=1).quantile(.75) # 75th percentile value\n",
    "iqr=q3-q1                # Differnce between two quarters\n",
    "print(iqr) "
   ]
  },
  {
   "cell_type": "markdown",
   "id": "4453d200",
   "metadata": {},
   "source": [
    "***18. Do the higher-income holders spend more on credit cards?***\n"
   ]
  },
  {
   "cell_type": "code",
   "execution_count": 38,
   "id": "4dadf893",
   "metadata": {},
   "outputs": [
    {
     "name": "stdout",
     "output_type": "stream",
     "text": [
      "correlation between income holders and credit cards is : 0.6459925919173632\n"
     ]
    }
   ],
   "source": [
    "x = loans['Income'].corr(loans['CCAvg'])\n",
    "print(\"correlation between income holders and credit cards is :\", x)"
   ]
  },
  {
   "cell_type": "markdown",
   "id": "a86417d1",
   "metadata": {},
   "source": [
    "**Conclusion:** There is more chances to spend more on credit cards by higher income people."
   ]
  },
  {
   "cell_type": "markdown",
   "id": "6d5c7f4b",
   "metadata": {},
   "source": [
    "**19. Do customers using bank internet facilities paid higher?**\n"
   ]
  },
  {
   "cell_type": "code",
   "execution_count": 39,
   "id": "ea7c9586",
   "metadata": {},
   "outputs": [
    {
     "name": "stdout",
     "output_type": "stream",
     "text": [
      "relation between the online and income is: 0.014205919317825822\n"
     ]
    }
   ],
   "source": [
    "t=loans['Online'].corr(loans['Income'])\n",
    "print (\"relation between the online and income is:\", t)"
   ]
  },
  {
   "cell_type": "markdown",
   "id": "5ee7dc31",
   "metadata": {},
   "source": [
    "**Conclusion:** This relation between the online and income is lower so not paid higher mostly is the conclusion"
   ]
  },
  {
   "cell_type": "markdown",
   "id": "c6127faf",
   "metadata": {},
   "source": [
    "**20. Calculate the Z score of the ‘income’ variable.**\n"
   ]
  },
  {
   "cell_type": "code",
   "execution_count": 43,
   "id": "4ec88a9d",
   "metadata": {},
   "outputs": [
    {
     "data": {
      "text/plain": [
       "0      -0.538229\n",
       "1      -0.864109\n",
       "2      -1.363793\n",
       "3       0.569765\n",
       "4      -0.625130\n",
       "          ...   \n",
       "4995   -0.733757\n",
       "4996   -1.276892\n",
       "4997   -1.081363\n",
       "4998   -0.538229\n",
       "4999    0.200434\n",
       "Name: Income, Length: 5000, dtype: float64"
      ]
     },
     "execution_count": 43,
     "metadata": {},
     "output_type": "execute_result"
    }
   ],
   "source": [
    "from scipy.stats import zscore\n",
    "zscore(loans['Income'])"
   ]
  },
  {
   "cell_type": "code",
   "execution_count": null,
   "id": "dd500535",
   "metadata": {},
   "outputs": [],
   "source": []
  }
 ],
 "metadata": {
  "kernelspec": {
   "display_name": "Python 3 (ipykernel)",
   "language": "python",
   "name": "python3"
  },
  "language_info": {
   "codemirror_mode": {
    "name": "ipython",
    "version": 3
   },
   "file_extension": ".py",
   "mimetype": "text/x-python",
   "name": "python",
   "nbconvert_exporter": "python",
   "pygments_lexer": "ipython3",
   "version": "3.9.16"
  }
 },
 "nbformat": 4,
 "nbformat_minor": 5
}
