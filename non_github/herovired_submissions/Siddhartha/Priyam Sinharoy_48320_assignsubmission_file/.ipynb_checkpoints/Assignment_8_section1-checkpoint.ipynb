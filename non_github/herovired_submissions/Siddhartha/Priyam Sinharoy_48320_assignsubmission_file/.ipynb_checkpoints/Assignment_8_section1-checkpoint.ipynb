{
 "cells": [
  {
   "cell_type": "markdown",
   "id": "ee1e39e0",
   "metadata": {},
   "source": [
    "Q7. Calculate the z score of the following numbers:\n",
    "X = [4.5,6.2,7.3,9.1,10.4,11]"
   ]
  },
  {
   "cell_type": "code",
   "execution_count": 65,
   "id": "841e14fc",
   "metadata": {},
   "outputs": [],
   "source": [
    "import numpy as np\n",
    "import pandas as pd\n",
    "import scipy.stats as stats"
   ]
  },
  {
   "cell_type": "code",
   "execution_count": 66,
   "id": "63e250f1",
   "metadata": {},
   "outputs": [],
   "source": [
    "x=np.array([4.5,6.2,7.3,9.1,10.4,11])\n"
   ]
  },
  {
   "cell_type": "code",
   "execution_count": 67,
   "id": "a6be0961",
   "metadata": {},
   "outputs": [],
   "source": [
    "y=stats.zscore(x)"
   ]
  },
  {
   "cell_type": "code",
   "execution_count": 68,
   "id": "146bb7d7",
   "metadata": {},
   "outputs": [
    {
     "name": "stdout",
     "output_type": "stream",
     "text": [
      "The z score of data is [-1.55385602 -0.81667781 -0.33968015  0.44086148  1.00458598  1.26476653]\n"
     ]
    }
   ],
   "source": [
    "print('The z score of data is {}'.format(y))"
   ]
  },
  {
   "cell_type": "markdown",
   "id": "5f62ed46",
   "metadata": {},
   "source": [
    "Q6. Suppose you have been told to measure the height of all men on the earth. What strategy would you use?"
   ]
  },
  {
   "cell_type": "markdown",
   "id": "2495c519",
   "metadata": {},
   "source": [
    "1. Take random sample of 10,000 men. Draw the sizes from a normal distribution.\n",
    "2. calculate average,variance and standard deviations of the sample population.\n",
    "3. Take average height as 175 cm for normal distribution.(Value taken from internet)"
   ]
  },
  {
   "cell_type": "code",
   "execution_count": 69,
   "id": "3b81cda8",
   "metadata": {},
   "outputs": [],
   "source": [
    "np.random.seed(40)\n",
    "xy=np.random.normal(loc=175,scale=9,size=10000)"
   ]
  },
  {
   "cell_type": "code",
   "execution_count": 70,
   "id": "8c0a0140",
   "metadata": {},
   "outputs": [
    {
     "name": "stdout",
     "output_type": "stream",
     "text": [
      "\n",
      "Mean:  175.03187351095653\n",
      "\n",
      "std:  8.992438905186528\n",
      "\n",
      "variance:  80.86395746351228\n",
      "\n",
      "median: 175.08955447683195\n",
      "\n",
      "min: 135.15026330928336\n",
      "\n",
      "max: 212.92221238251358\n",
      "\n",
      "range: 77.77194907323022\n"
     ]
    }
   ],
   "source": [
    "r1 = np.mean(xy)\n",
    "print(\"\\nMean: \", r1)\n",
    "  \n",
    "r2 = np.std(xy)\n",
    "print(\"\\nstd: \", r2)\n",
    "  \n",
    "r3 = np.var(xy)\n",
    "print(\"\\nvariance: \", r3)\n",
    "\n",
    "r4=np.median(xy)\n",
    "print(\"\\nmedian:\",r4)\n",
    "\n",
    "r5=np.min(xy)\n",
    "print(\"\\nmin:\",r5)\n",
    "\n",
    "r6=np.max(xy)\n",
    "print(\"\\nmax:\",r6)\n",
    "\n",
    "r7=np.ptp(xy)\n",
    "print(\"\\nrange:\",r7)\n",
    "\n",
    "\n"
   ]
  },
  {
   "cell_type": "markdown",
   "id": "a9db685c",
   "metadata": {},
   "source": [
    "Q1. The average selling price of a food item in a restaurant is Rs 250.00 and the standard deviation of the price is Rs 47.00. The median value is an indication of the central value of the data and is close to the mean of Rs 202.00. If you know these details, will you become a regular customer of the restaurant?"
   ]
  },
  {
   "cell_type": "markdown",
   "id": "4c52cdeb",
   "metadata": {},
   "source": [
    "Ans. calculate z score from the given data. If z-score is negative then the data point is below average,if the zscore is positive then the data point is above average."
   ]
  },
  {
   "cell_type": "code",
   "execution_count": 71,
   "id": "40a1f383",
   "metadata": {},
   "outputs": [
    {
     "name": "stdout",
     "output_type": "stream",
     "text": [
      "-1.0212765957446808\n"
     ]
    }
   ],
   "source": [
    "x=202\n",
    "u=250\n",
    "sd=47\n",
    "z_score=(x-u)/sd\n",
    "print(z_score)"
   ]
  },
  {
   "cell_type": "markdown",
   "id": "99c67bdb",
   "metadata": {},
   "source": [
    "as the Zscore is negative the data point is below average, most of the food cost are above the median value i.e. 202, which is costly. I will not become a regular customer of the resturant."
   ]
  },
  {
   "cell_type": "markdown",
   "id": "0f9a1401",
   "metadata": {},
   "source": [
    "-"
   ]
  },
  {
   "cell_type": "markdown",
   "id": "2e4fd32e",
   "metadata": {},
   "source": [
    "3. You want to invest in real estate, and you have the data belonging to locality X and Y. Some of the house prices in locality X are 2.00 L,10.00 L, 8.00 L, and 12.00 L and the prices of houses in Y are 2.5 L, 9.50 L, 8.15 L, and 12.50 L. Conduct a statistical measure to decide which locality is best for investment."
   ]
  },
  {
   "cell_type": "code",
   "execution_count": 72,
   "id": "1a329d8d",
   "metadata": {},
   "outputs": [
    {
     "name": "stdout",
     "output_type": "stream",
     "text": [
      "Mean of community x is 8.0\n",
      "Mean of community y is 8.1625\n",
      "Median of community x is 9.0\n",
      "Median of community y is 8.825\n",
      "Standard deviation of community x is 3.7416573867739413\n",
      "Standard deviation of community y is 3.6285973529726334\n",
      "Range of community x is 10.0\n",
      "Range of community y is 10.0\n"
     ]
    }
   ],
   "source": [
    "x=np.array([2.00,10.00,8.00,12.00])\n",
    "y=np.array([2.5,9.50,8.15,12.50])\n",
    "\n",
    "# Finding mean\n",
    "print(\"Mean of community x is\",x.mean())\n",
    "print(\"Mean of community y is\",y.mean())\n",
    "# Finding Median\n",
    "print(\"Median of community x is\",np.median(x))\n",
    "print(\"Median of community y is\",np.median(y))\n",
    "# Finding Standard deviation\n",
    "print(\"Standard deviation of community x is\",np.std(x))\n",
    "print(\"Standard deviation of community y is\",np.std(y))\n",
    "# Finding Range\n",
    "print(\"Range of community x is\",np.ptp(x))\n",
    "print(\"Range of community y is\",np.ptp(y))"
   ]
  },
  {
   "cell_type": "markdown",
   "id": "e224d580",
   "metadata": {},
   "source": [
    "community x is better for investment as average price of real estate is low.\n",
    "\n",
    "\n",
    "\n"
   ]
  },
  {
   "cell_type": "markdown",
   "id": "38a026dd",
   "metadata": {},
   "source": [
    "-"
   ]
  },
  {
   "cell_type": "markdown",
   "id": "533c5fbe",
   "metadata": {},
   "source": [
    "2. In a residential locality, the average size of a house is 2224 square feet with a standard deviation of 248 square feet which indicates that the distribution of size is fairly the same across the data and the median value of the house is 2220 square feet. Does the locality have bigger or smaller-sized houses?"
   ]
  },
  {
   "cell_type": "code",
   "execution_count": 73,
   "id": "cca78443",
   "metadata": {},
   "outputs": [
    {
     "name": "stdout",
     "output_type": "stream",
     "text": [
      "-0.016129032258064516\n"
     ]
    }
   ],
   "source": [
    "x=2220\n",
    "u=2224\n",
    "sd=248\n",
    "z_score=(x-u)/sd\n",
    "print(z_score)"
   ]
  },
  {
   "cell_type": "markdown",
   "id": "a3170cba",
   "metadata": {},
   "source": [
    "4. During a survey, the ages of 80 patients, infected by COVID and admitted to one of the city hospitals, were recorded. The collected data is represented in the less-than-cumulative frequency distribution table. Read the questions below the table and provide your answers."
   ]
  },
  {
   "cell_type": "code",
   "execution_count": 77,
   "id": "ceb4cecc",
   "metadata": {},
   "outputs": [
    {
     "data": {
      "text/html": [
       "<div>\n",
       "<style scoped>\n",
       "    .dataframe tbody tr th:only-of-type {\n",
       "        vertical-align: middle;\n",
       "    }\n",
       "\n",
       "    .dataframe tbody tr th {\n",
       "        vertical-align: top;\n",
       "    }\n",
       "\n",
       "    .dataframe thead th {\n",
       "        text-align: right;\n",
       "    }\n",
       "</style>\n",
       "<table border=\"1\" class=\"dataframe\">\n",
       "  <thead>\n",
       "    <tr style=\"text-align: right;\">\n",
       "      <th></th>\n",
       "      <th>Age in years</th>\n",
       "      <th>No of patients</th>\n",
       "    </tr>\n",
       "  </thead>\n",
       "  <tbody>\n",
       "    <tr>\n",
       "      <th>0</th>\n",
       "      <td>5-15</td>\n",
       "      <td>6</td>\n",
       "    </tr>\n",
       "    <tr>\n",
       "      <th>1</th>\n",
       "      <td>15-25</td>\n",
       "      <td>11</td>\n",
       "    </tr>\n",
       "    <tr>\n",
       "      <th>2</th>\n",
       "      <td>25-35</td>\n",
       "      <td>21</td>\n",
       "    </tr>\n",
       "    <tr>\n",
       "      <th>3</th>\n",
       "      <td>35-45</td>\n",
       "      <td>23</td>\n",
       "    </tr>\n",
       "    <tr>\n",
       "      <th>4</th>\n",
       "      <td>45-55</td>\n",
       "      <td>14</td>\n",
       "    </tr>\n",
       "    <tr>\n",
       "      <th>5</th>\n",
       "      <td>55-65</td>\n",
       "      <td>5</td>\n",
       "    </tr>\n",
       "  </tbody>\n",
       "</table>\n",
       "</div>"
      ],
      "text/plain": [
       "  Age in years  No of patients\n",
       "0         5-15               6\n",
       "1        15-25              11\n",
       "2        25-35              21\n",
       "3        35-45              23\n",
       "4        45-55              14\n",
       "5        55-65               5"
      ]
     },
     "execution_count": 77,
     "metadata": {},
     "output_type": "execute_result"
    }
   ],
   "source": [
    "data_df = { 'Age in years':['5-15','15-25','25-35','35-45','45-55','55-65'],\n",
    "    'No of patients':[6,11,21,23,14,5]}\n",
    "df=pd.DataFrame(data_df)\n",
    "df"
   ]
  },
  {
   "cell_type": "markdown",
   "id": "631c691c",
   "metadata": {},
   "source": [
    "a. Which class interval has the highest frequency?"
   ]
  },
  {
   "cell_type": "code",
   "execution_count": 85,
   "id": "ea62a0e0",
   "metadata": {},
   "outputs": [
    {
     "data": {
      "text/plain": [
       "Age in years      35-45\n",
       "No of patients       23\n",
       "Name: 3, dtype: object"
      ]
     },
     "execution_count": 85,
     "metadata": {},
     "output_type": "execute_result"
    }
   ],
   "source": [
    "df.loc[df['No of patients'].idxmax()]"
   ]
  },
  {
   "cell_type": "markdown",
   "id": "ddabf415",
   "metadata": {},
   "source": [
    "b. Which age was affected the least?"
   ]
  },
  {
   "cell_type": "code",
   "execution_count": 86,
   "id": "9aa77a16",
   "metadata": {},
   "outputs": [],
   "source": [
    "least_affected_age=df.loc[df['No of patients'].idxmin()][\"Age in years\"]"
   ]
  },
  {
   "cell_type": "code",
   "execution_count": 87,
   "id": "724734b5",
   "metadata": {},
   "outputs": [
    {
     "data": {
      "text/plain": [
       "'55-65'"
      ]
     },
     "execution_count": 87,
     "metadata": {},
     "output_type": "execute_result"
    }
   ],
   "source": [
    "least_affected_age"
   ]
  },
  {
   "cell_type": "markdown",
   "id": "8962392b",
   "metadata": {},
   "source": [
    "e. What is the median class interval of age?\n"
   ]
  },
  {
   "cell_type": "code",
   "execution_count": 93,
   "id": "0d9516b9",
   "metadata": {},
   "outputs": [
    {
     "data": {
      "text/plain": [
       "12.5"
      ]
     },
     "execution_count": 93,
     "metadata": {},
     "output_type": "execute_result"
    }
   ],
   "source": [
    "df['No of patients'].median()"
   ]
  },
  {
   "cell_type": "markdown",
   "id": "878e6e07",
   "metadata": {},
   "source": [
    "d. Which is the modal class interval in the above dataset?"
   ]
  },
  {
   "cell_type": "code",
   "execution_count": 95,
   "id": "3a4cee36",
   "metadata": {},
   "outputs": [
    {
     "data": {
      "text/plain": [
       "'35-45'"
      ]
     },
     "execution_count": 95,
     "metadata": {},
     "output_type": "execute_result"
    }
   ],
   "source": [
    "modal_class_interval=df.loc[df['No of patients'].idxmax()][\"Age in years\"]\n",
    "modal_class_interval"
   ]
  },
  {
   "cell_type": "markdown",
   "id": "a11a4b71",
   "metadata": {},
   "source": [
    "c. How many patients of age 45 years and above were admitted?"
   ]
  },
  {
   "cell_type": "markdown",
   "id": "953f7625",
   "metadata": {},
   "source": [
    "Ans. 19 patients above 45 years were admitted."
   ]
  },
  {
   "cell_type": "markdown",
   "id": "3847da08",
   "metadata": {},
   "source": [
    "-"
   ]
  },
  {
   "cell_type": "markdown",
   "id": "b2ef13b7",
   "metadata": {},
   "source": [
    "5. Assume, you are a trader and have invested over the years for your retirement. Lately, with the fluctuating economical condition, you are worried about the average return on investment. What average method is appropriate to compute the average return for the data given in the table?"
   ]
  },
  {
   "cell_type": "code",
   "execution_count": 97,
   "id": "1bb169fa",
   "metadata": {},
   "outputs": [
    {
     "name": "stdout",
     "output_type": "stream",
     "text": [
      "-1.43%\n"
     ]
    }
   ],
   "source": [
    "years=[2015,2016,2017,2018,2019,2020]\n",
    "returns=[0.36,0.23,-0.48,-0.30,0.15,0.31]\n",
    "asset_price=[5000,6400,7890,9023,4567,3890]\n",
    "\n",
    "geo_mean_return = np.prod(1+np.array(returns))**(1/len(returns))-1\n",
    "print(\"{:.2%}\".format(geo_mean_return))"
   ]
  },
  {
   "cell_type": "code",
   "execution_count": null,
   "id": "770f4e99",
   "metadata": {},
   "outputs": [],
   "source": []
  }
 ],
 "metadata": {
  "kernelspec": {
   "display_name": "Python 3 (ipykernel)",
   "language": "python",
   "name": "python3"
  },
  "language_info": {
   "codemirror_mode": {
    "name": "ipython",
    "version": 3
   },
   "file_extension": ".py",
   "mimetype": "text/x-python",
   "name": "python",
   "nbconvert_exporter": "python",
   "pygments_lexer": "ipython3",
   "version": "3.9.16"
  }
 },
 "nbformat": 4,
 "nbformat_minor": 5
}
