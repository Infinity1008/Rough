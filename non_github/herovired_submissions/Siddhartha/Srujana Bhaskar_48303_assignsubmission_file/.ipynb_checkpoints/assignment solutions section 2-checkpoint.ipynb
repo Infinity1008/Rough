{
 "cells": [
  {
   "cell_type": "code",
   "execution_count": 1,
   "id": "3b1f7931",
   "metadata": {},
   "outputs": [],
   "source": [
    "import pandas as pd\n",
    "import numpy as np\n",
    "import math"
   ]
  },
  {
   "cell_type": "markdown",
   "id": "515a7584",
   "metadata": {},
   "source": [
    "### Section 2"
   ]
  },
  {
   "cell_type": "code",
   "execution_count": 2,
   "id": "25e25df1",
   "metadata": {},
   "outputs": [
    {
     "name": "stderr",
     "output_type": "stream",
     "text": [
      "C:\\Users\\hp\\anaconda3\\lib\\site-packages\\openpyxl\\worksheet\\_read_only.py:79: UserWarning: Unknown extension is not supported and will be removed\n",
      "  for idx, row in parser.parse():\n"
     ]
    }
   ],
   "source": [
    "df=pd.read_excel(r\"C:\\Users\\hp\\OneDrive\\Documents\\HERO\\PYTHON\\statistics\\stasts assignment]\\Bank Personal Loan Modelling.xlsx\",sheet_name=\"Data\")"
   ]
  },
  {
   "cell_type": "code",
   "execution_count": 3,
   "id": "a1a4bb33",
   "metadata": {},
   "outputs": [
    {
     "data": {
      "text/html": [
       "<div>\n",
       "<style scoped>\n",
       "    .dataframe tbody tr th:only-of-type {\n",
       "        vertical-align: middle;\n",
       "    }\n",
       "\n",
       "    .dataframe tbody tr th {\n",
       "        vertical-align: top;\n",
       "    }\n",
       "\n",
       "    .dataframe thead th {\n",
       "        text-align: right;\n",
       "    }\n",
       "</style>\n",
       "<table border=\"1\" class=\"dataframe\">\n",
       "  <thead>\n",
       "    <tr style=\"text-align: right;\">\n",
       "      <th></th>\n",
       "      <th>ID</th>\n",
       "      <th>Age</th>\n",
       "      <th>Experience</th>\n",
       "      <th>Income</th>\n",
       "      <th>ZIP Code</th>\n",
       "      <th>Family</th>\n",
       "      <th>CCAvg</th>\n",
       "      <th>Education</th>\n",
       "      <th>Mortgage</th>\n",
       "      <th>Personal Loan</th>\n",
       "      <th>Securities Account</th>\n",
       "      <th>CD Account</th>\n",
       "      <th>Online</th>\n",
       "      <th>CreditCard</th>\n",
       "    </tr>\n",
       "  </thead>\n",
       "  <tbody>\n",
       "    <tr>\n",
       "      <th>0</th>\n",
       "      <td>1</td>\n",
       "      <td>25</td>\n",
       "      <td>1</td>\n",
       "      <td>49</td>\n",
       "      <td>91107</td>\n",
       "      <td>4</td>\n",
       "      <td>1.6</td>\n",
       "      <td>1</td>\n",
       "      <td>0</td>\n",
       "      <td>0</td>\n",
       "      <td>1</td>\n",
       "      <td>0</td>\n",
       "      <td>0</td>\n",
       "      <td>0</td>\n",
       "    </tr>\n",
       "    <tr>\n",
       "      <th>1</th>\n",
       "      <td>2</td>\n",
       "      <td>45</td>\n",
       "      <td>19</td>\n",
       "      <td>34</td>\n",
       "      <td>90089</td>\n",
       "      <td>3</td>\n",
       "      <td>1.5</td>\n",
       "      <td>1</td>\n",
       "      <td>0</td>\n",
       "      <td>0</td>\n",
       "      <td>1</td>\n",
       "      <td>0</td>\n",
       "      <td>0</td>\n",
       "      <td>0</td>\n",
       "    </tr>\n",
       "    <tr>\n",
       "      <th>2</th>\n",
       "      <td>3</td>\n",
       "      <td>39</td>\n",
       "      <td>15</td>\n",
       "      <td>11</td>\n",
       "      <td>94720</td>\n",
       "      <td>1</td>\n",
       "      <td>1.0</td>\n",
       "      <td>1</td>\n",
       "      <td>0</td>\n",
       "      <td>0</td>\n",
       "      <td>0</td>\n",
       "      <td>0</td>\n",
       "      <td>0</td>\n",
       "      <td>0</td>\n",
       "    </tr>\n",
       "    <tr>\n",
       "      <th>3</th>\n",
       "      <td>4</td>\n",
       "      <td>35</td>\n",
       "      <td>9</td>\n",
       "      <td>100</td>\n",
       "      <td>94112</td>\n",
       "      <td>1</td>\n",
       "      <td>2.7</td>\n",
       "      <td>2</td>\n",
       "      <td>0</td>\n",
       "      <td>0</td>\n",
       "      <td>0</td>\n",
       "      <td>0</td>\n",
       "      <td>0</td>\n",
       "      <td>0</td>\n",
       "    </tr>\n",
       "    <tr>\n",
       "      <th>4</th>\n",
       "      <td>5</td>\n",
       "      <td>35</td>\n",
       "      <td>8</td>\n",
       "      <td>45</td>\n",
       "      <td>91330</td>\n",
       "      <td>4</td>\n",
       "      <td>1.0</td>\n",
       "      <td>2</td>\n",
       "      <td>0</td>\n",
       "      <td>0</td>\n",
       "      <td>0</td>\n",
       "      <td>0</td>\n",
       "      <td>0</td>\n",
       "      <td>1</td>\n",
       "    </tr>\n",
       "    <tr>\n",
       "      <th>...</th>\n",
       "      <td>...</td>\n",
       "      <td>...</td>\n",
       "      <td>...</td>\n",
       "      <td>...</td>\n",
       "      <td>...</td>\n",
       "      <td>...</td>\n",
       "      <td>...</td>\n",
       "      <td>...</td>\n",
       "      <td>...</td>\n",
       "      <td>...</td>\n",
       "      <td>...</td>\n",
       "      <td>...</td>\n",
       "      <td>...</td>\n",
       "      <td>...</td>\n",
       "    </tr>\n",
       "    <tr>\n",
       "      <th>4995</th>\n",
       "      <td>4996</td>\n",
       "      <td>29</td>\n",
       "      <td>3</td>\n",
       "      <td>40</td>\n",
       "      <td>92697</td>\n",
       "      <td>1</td>\n",
       "      <td>1.9</td>\n",
       "      <td>3</td>\n",
       "      <td>0</td>\n",
       "      <td>0</td>\n",
       "      <td>0</td>\n",
       "      <td>0</td>\n",
       "      <td>1</td>\n",
       "      <td>0</td>\n",
       "    </tr>\n",
       "    <tr>\n",
       "      <th>4996</th>\n",
       "      <td>4997</td>\n",
       "      <td>30</td>\n",
       "      <td>4</td>\n",
       "      <td>15</td>\n",
       "      <td>92037</td>\n",
       "      <td>4</td>\n",
       "      <td>0.4</td>\n",
       "      <td>1</td>\n",
       "      <td>85</td>\n",
       "      <td>0</td>\n",
       "      <td>0</td>\n",
       "      <td>0</td>\n",
       "      <td>1</td>\n",
       "      <td>0</td>\n",
       "    </tr>\n",
       "    <tr>\n",
       "      <th>4997</th>\n",
       "      <td>4998</td>\n",
       "      <td>63</td>\n",
       "      <td>39</td>\n",
       "      <td>24</td>\n",
       "      <td>93023</td>\n",
       "      <td>2</td>\n",
       "      <td>0.3</td>\n",
       "      <td>3</td>\n",
       "      <td>0</td>\n",
       "      <td>0</td>\n",
       "      <td>0</td>\n",
       "      <td>0</td>\n",
       "      <td>0</td>\n",
       "      <td>0</td>\n",
       "    </tr>\n",
       "    <tr>\n",
       "      <th>4998</th>\n",
       "      <td>4999</td>\n",
       "      <td>65</td>\n",
       "      <td>40</td>\n",
       "      <td>49</td>\n",
       "      <td>90034</td>\n",
       "      <td>3</td>\n",
       "      <td>0.5</td>\n",
       "      <td>2</td>\n",
       "      <td>0</td>\n",
       "      <td>0</td>\n",
       "      <td>0</td>\n",
       "      <td>0</td>\n",
       "      <td>1</td>\n",
       "      <td>0</td>\n",
       "    </tr>\n",
       "    <tr>\n",
       "      <th>4999</th>\n",
       "      <td>5000</td>\n",
       "      <td>28</td>\n",
       "      <td>4</td>\n",
       "      <td>83</td>\n",
       "      <td>92612</td>\n",
       "      <td>3</td>\n",
       "      <td>0.8</td>\n",
       "      <td>1</td>\n",
       "      <td>0</td>\n",
       "      <td>0</td>\n",
       "      <td>0</td>\n",
       "      <td>0</td>\n",
       "      <td>1</td>\n",
       "      <td>1</td>\n",
       "    </tr>\n",
       "  </tbody>\n",
       "</table>\n",
       "<p>5000 rows × 14 columns</p>\n",
       "</div>"
      ],
      "text/plain": [
       "        ID  Age  Experience  Income  ZIP Code  Family  CCAvg  Education  \\\n",
       "0        1   25           1      49     91107       4    1.6          1   \n",
       "1        2   45          19      34     90089       3    1.5          1   \n",
       "2        3   39          15      11     94720       1    1.0          1   \n",
       "3        4   35           9     100     94112       1    2.7          2   \n",
       "4        5   35           8      45     91330       4    1.0          2   \n",
       "...    ...  ...         ...     ...       ...     ...    ...        ...   \n",
       "4995  4996   29           3      40     92697       1    1.9          3   \n",
       "4996  4997   30           4      15     92037       4    0.4          1   \n",
       "4997  4998   63          39      24     93023       2    0.3          3   \n",
       "4998  4999   65          40      49     90034       3    0.5          2   \n",
       "4999  5000   28           4      83     92612       3    0.8          1   \n",
       "\n",
       "      Mortgage  Personal Loan  Securities Account  CD Account  Online  \\\n",
       "0            0              0                   1           0       0   \n",
       "1            0              0                   1           0       0   \n",
       "2            0              0                   0           0       0   \n",
       "3            0              0                   0           0       0   \n",
       "4            0              0                   0           0       0   \n",
       "...        ...            ...                 ...         ...     ...   \n",
       "4995         0              0                   0           0       1   \n",
       "4996        85              0                   0           0       1   \n",
       "4997         0              0                   0           0       0   \n",
       "4998         0              0                   0           0       1   \n",
       "4999         0              0                   0           0       1   \n",
       "\n",
       "      CreditCard  \n",
       "0              0  \n",
       "1              0  \n",
       "2              0  \n",
       "3              0  \n",
       "4              1  \n",
       "...          ...  \n",
       "4995           0  \n",
       "4996           0  \n",
       "4997           0  \n",
       "4998           0  \n",
       "4999           1  \n",
       "\n",
       "[5000 rows x 14 columns]"
      ]
     },
     "execution_count": 3,
     "metadata": {},
     "output_type": "execute_result"
    }
   ],
   "source": [
    "df"
   ]
  },
  {
   "cell_type": "code",
   "execution_count": 6,
   "id": "d8744476",
   "metadata": {},
   "outputs": [
    {
     "name": "stdout",
     "output_type": "stream",
     "text": [
      "<class 'pandas.core.frame.DataFrame'>\n",
      "RangeIndex: 5000 entries, 0 to 4999\n",
      "Data columns (total 14 columns):\n",
      " #   Column              Non-Null Count  Dtype  \n",
      "---  ------              --------------  -----  \n",
      " 0   ID                  5000 non-null   int64  \n",
      " 1   Age                 5000 non-null   int64  \n",
      " 2   Experience          5000 non-null   int64  \n",
      " 3   Income              5000 non-null   int64  \n",
      " 4   ZIP Code            5000 non-null   int64  \n",
      " 5   Family              5000 non-null   int64  \n",
      " 6   CCAvg               5000 non-null   float64\n",
      " 7   Education           5000 non-null   int64  \n",
      " 8   Mortgage            5000 non-null   int64  \n",
      " 9   Personal Loan       5000 non-null   int64  \n",
      " 10  Securities Account  5000 non-null   int64  \n",
      " 11  CD Account          5000 non-null   int64  \n",
      " 12  Online              5000 non-null   int64  \n",
      " 13  CreditCard          5000 non-null   int64  \n",
      "dtypes: float64(1), int64(13)\n",
      "memory usage: 547.0 KB\n"
     ]
    }
   ],
   "source": [
    "df.info()"
   ]
  },
  {
   "cell_type": "markdown",
   "id": "ccf4627f",
   "metadata": {},
   "source": [
    "### 8. Give the statistical summary for all the variables in the dataset"
   ]
  },
  {
   "cell_type": "code",
   "execution_count": 12,
   "id": "71dca572",
   "metadata": {},
   "outputs": [
    {
     "data": {
      "text/html": [
       "<div>\n",
       "<style scoped>\n",
       "    .dataframe tbody tr th:only-of-type {\n",
       "        vertical-align: middle;\n",
       "    }\n",
       "\n",
       "    .dataframe tbody tr th {\n",
       "        vertical-align: top;\n",
       "    }\n",
       "\n",
       "    .dataframe thead th {\n",
       "        text-align: right;\n",
       "    }\n",
       "</style>\n",
       "<table border=\"1\" class=\"dataframe\">\n",
       "  <thead>\n",
       "    <tr style=\"text-align: right;\">\n",
       "      <th></th>\n",
       "      <th>ID</th>\n",
       "      <th>Age</th>\n",
       "      <th>Experience</th>\n",
       "      <th>Income</th>\n",
       "      <th>ZIP Code</th>\n",
       "      <th>Family</th>\n",
       "      <th>CCAvg</th>\n",
       "      <th>Education</th>\n",
       "      <th>Mortgage</th>\n",
       "      <th>Personal Loan</th>\n",
       "      <th>Securities Account</th>\n",
       "      <th>CD Account</th>\n",
       "      <th>Online</th>\n",
       "      <th>CreditCard</th>\n",
       "    </tr>\n",
       "  </thead>\n",
       "  <tbody>\n",
       "    <tr>\n",
       "      <th>count</th>\n",
       "      <td>5000.000000</td>\n",
       "      <td>5000.000000</td>\n",
       "      <td>5000.000000</td>\n",
       "      <td>5000.000000</td>\n",
       "      <td>5000.000000</td>\n",
       "      <td>5000.000000</td>\n",
       "      <td>5000.000000</td>\n",
       "      <td>5000.000000</td>\n",
       "      <td>5000.000000</td>\n",
       "      <td>5000.000000</td>\n",
       "      <td>5000.000000</td>\n",
       "      <td>5000.00000</td>\n",
       "      <td>5000.000000</td>\n",
       "      <td>5000.000000</td>\n",
       "    </tr>\n",
       "    <tr>\n",
       "      <th>mean</th>\n",
       "      <td>2500.500000</td>\n",
       "      <td>45.338400</td>\n",
       "      <td>20.104600</td>\n",
       "      <td>73.774200</td>\n",
       "      <td>93152.503000</td>\n",
       "      <td>2.396400</td>\n",
       "      <td>1.937913</td>\n",
       "      <td>1.881000</td>\n",
       "      <td>56.498800</td>\n",
       "      <td>0.096000</td>\n",
       "      <td>0.104400</td>\n",
       "      <td>0.06040</td>\n",
       "      <td>0.596800</td>\n",
       "      <td>0.294000</td>\n",
       "    </tr>\n",
       "    <tr>\n",
       "      <th>std</th>\n",
       "      <td>1443.520003</td>\n",
       "      <td>11.463166</td>\n",
       "      <td>11.467954</td>\n",
       "      <td>46.033729</td>\n",
       "      <td>2121.852197</td>\n",
       "      <td>1.147663</td>\n",
       "      <td>1.747666</td>\n",
       "      <td>0.839869</td>\n",
       "      <td>101.713802</td>\n",
       "      <td>0.294621</td>\n",
       "      <td>0.305809</td>\n",
       "      <td>0.23825</td>\n",
       "      <td>0.490589</td>\n",
       "      <td>0.455637</td>\n",
       "    </tr>\n",
       "    <tr>\n",
       "      <th>min</th>\n",
       "      <td>1.000000</td>\n",
       "      <td>23.000000</td>\n",
       "      <td>-3.000000</td>\n",
       "      <td>8.000000</td>\n",
       "      <td>9307.000000</td>\n",
       "      <td>1.000000</td>\n",
       "      <td>0.000000</td>\n",
       "      <td>1.000000</td>\n",
       "      <td>0.000000</td>\n",
       "      <td>0.000000</td>\n",
       "      <td>0.000000</td>\n",
       "      <td>0.00000</td>\n",
       "      <td>0.000000</td>\n",
       "      <td>0.000000</td>\n",
       "    </tr>\n",
       "    <tr>\n",
       "      <th>25%</th>\n",
       "      <td>1250.750000</td>\n",
       "      <td>35.000000</td>\n",
       "      <td>10.000000</td>\n",
       "      <td>39.000000</td>\n",
       "      <td>91911.000000</td>\n",
       "      <td>1.000000</td>\n",
       "      <td>0.700000</td>\n",
       "      <td>1.000000</td>\n",
       "      <td>0.000000</td>\n",
       "      <td>0.000000</td>\n",
       "      <td>0.000000</td>\n",
       "      <td>0.00000</td>\n",
       "      <td>0.000000</td>\n",
       "      <td>0.000000</td>\n",
       "    </tr>\n",
       "    <tr>\n",
       "      <th>50%</th>\n",
       "      <td>2500.500000</td>\n",
       "      <td>45.000000</td>\n",
       "      <td>20.000000</td>\n",
       "      <td>64.000000</td>\n",
       "      <td>93437.000000</td>\n",
       "      <td>2.000000</td>\n",
       "      <td>1.500000</td>\n",
       "      <td>2.000000</td>\n",
       "      <td>0.000000</td>\n",
       "      <td>0.000000</td>\n",
       "      <td>0.000000</td>\n",
       "      <td>0.00000</td>\n",
       "      <td>1.000000</td>\n",
       "      <td>0.000000</td>\n",
       "    </tr>\n",
       "    <tr>\n",
       "      <th>75%</th>\n",
       "      <td>3750.250000</td>\n",
       "      <td>55.000000</td>\n",
       "      <td>30.000000</td>\n",
       "      <td>98.000000</td>\n",
       "      <td>94608.000000</td>\n",
       "      <td>3.000000</td>\n",
       "      <td>2.500000</td>\n",
       "      <td>3.000000</td>\n",
       "      <td>101.000000</td>\n",
       "      <td>0.000000</td>\n",
       "      <td>0.000000</td>\n",
       "      <td>0.00000</td>\n",
       "      <td>1.000000</td>\n",
       "      <td>1.000000</td>\n",
       "    </tr>\n",
       "    <tr>\n",
       "      <th>max</th>\n",
       "      <td>5000.000000</td>\n",
       "      <td>67.000000</td>\n",
       "      <td>43.000000</td>\n",
       "      <td>224.000000</td>\n",
       "      <td>96651.000000</td>\n",
       "      <td>4.000000</td>\n",
       "      <td>10.000000</td>\n",
       "      <td>3.000000</td>\n",
       "      <td>635.000000</td>\n",
       "      <td>1.000000</td>\n",
       "      <td>1.000000</td>\n",
       "      <td>1.00000</td>\n",
       "      <td>1.000000</td>\n",
       "      <td>1.000000</td>\n",
       "    </tr>\n",
       "  </tbody>\n",
       "</table>\n",
       "</div>"
      ],
      "text/plain": [
       "                ID          Age   Experience       Income      ZIP Code  \\\n",
       "count  5000.000000  5000.000000  5000.000000  5000.000000   5000.000000   \n",
       "mean   2500.500000    45.338400    20.104600    73.774200  93152.503000   \n",
       "std    1443.520003    11.463166    11.467954    46.033729   2121.852197   \n",
       "min       1.000000    23.000000    -3.000000     8.000000   9307.000000   \n",
       "25%    1250.750000    35.000000    10.000000    39.000000  91911.000000   \n",
       "50%    2500.500000    45.000000    20.000000    64.000000  93437.000000   \n",
       "75%    3750.250000    55.000000    30.000000    98.000000  94608.000000   \n",
       "max    5000.000000    67.000000    43.000000   224.000000  96651.000000   \n",
       "\n",
       "            Family        CCAvg    Education     Mortgage  Personal Loan  \\\n",
       "count  5000.000000  5000.000000  5000.000000  5000.000000    5000.000000   \n",
       "mean      2.396400     1.937913     1.881000    56.498800       0.096000   \n",
       "std       1.147663     1.747666     0.839869   101.713802       0.294621   \n",
       "min       1.000000     0.000000     1.000000     0.000000       0.000000   \n",
       "25%       1.000000     0.700000     1.000000     0.000000       0.000000   \n",
       "50%       2.000000     1.500000     2.000000     0.000000       0.000000   \n",
       "75%       3.000000     2.500000     3.000000   101.000000       0.000000   \n",
       "max       4.000000    10.000000     3.000000   635.000000       1.000000   \n",
       "\n",
       "       Securities Account  CD Account       Online   CreditCard  \n",
       "count         5000.000000  5000.00000  5000.000000  5000.000000  \n",
       "mean             0.104400     0.06040     0.596800     0.294000  \n",
       "std              0.305809     0.23825     0.490589     0.455637  \n",
       "min              0.000000     0.00000     0.000000     0.000000  \n",
       "25%              0.000000     0.00000     0.000000     0.000000  \n",
       "50%              0.000000     0.00000     1.000000     0.000000  \n",
       "75%              0.000000     0.00000     1.000000     1.000000  \n",
       "max              1.000000     1.00000     1.000000     1.000000  "
      ]
     },
     "execution_count": 12,
     "metadata": {},
     "output_type": "execute_result"
    }
   ],
   "source": [
    "df.describe()"
   ]
  },
  {
   "cell_type": "markdown",
   "id": "c1ebb339",
   "metadata": {},
   "source": [
    "### 9. Give all the measures of central tendency for all the quantitative variables which are continuous and discrete."
   ]
  },
  {
   "cell_type": "code",
   "execution_count": 8,
   "id": "9ddaae49",
   "metadata": {},
   "outputs": [
    {
     "data": {
      "text/plain": [
       "Age                   45.338400\n",
       "Experience            20.104600\n",
       "Income                73.774200\n",
       "Family                 2.396400\n",
       "CCAvg                  1.937913\n",
       "Education              1.881000\n",
       "Mortgage              56.498800\n",
       "Personal Loan          0.096000\n",
       "Securities Account     0.104400\n",
       "CD Account             0.060400\n",
       "Online                 0.596800\n",
       "CreditCard             0.294000\n",
       "dtype: float64"
      ]
     },
     "execution_count": 8,
     "metadata": {},
     "output_type": "execute_result"
    }
   ],
   "source": [
    "#continuous\n",
    "df.drop(['ID', 'ZIP Code'], axis=1).mean()"
   ]
  },
  {
   "cell_type": "code",
   "execution_count": 9,
   "id": "c39fca9d",
   "metadata": {},
   "outputs": [
    {
     "data": {
      "text/plain": [
       "Age                   45.0\n",
       "Experience            20.0\n",
       "Income                64.0\n",
       "Family                 2.0\n",
       "CCAvg                  1.5\n",
       "Education              2.0\n",
       "Mortgage               0.0\n",
       "Personal Loan          0.0\n",
       "Securities Account     0.0\n",
       "CD Account             0.0\n",
       "Online                 1.0\n",
       "CreditCard             0.0\n",
       "dtype: float64"
      ]
     },
     "execution_count": 9,
     "metadata": {},
     "output_type": "execute_result"
    }
   ],
   "source": [
    "df.drop(['ID', 'ZIP Code'], axis=1).median()"
   ]
  },
  {
   "cell_type": "code",
   "execution_count": 11,
   "id": "a96dd8c2",
   "metadata": {},
   "outputs": [
    {
     "data": {
      "text/html": [
       "<div>\n",
       "<style scoped>\n",
       "    .dataframe tbody tr th:only-of-type {\n",
       "        vertical-align: middle;\n",
       "    }\n",
       "\n",
       "    .dataframe tbody tr th {\n",
       "        vertical-align: top;\n",
       "    }\n",
       "\n",
       "    .dataframe thead th {\n",
       "        text-align: right;\n",
       "    }\n",
       "</style>\n",
       "<table border=\"1\" class=\"dataframe\">\n",
       "  <thead>\n",
       "    <tr style=\"text-align: right;\">\n",
       "      <th></th>\n",
       "      <th>Age</th>\n",
       "      <th>Experience</th>\n",
       "      <th>Income</th>\n",
       "      <th>Family</th>\n",
       "      <th>CCAvg</th>\n",
       "      <th>Education</th>\n",
       "      <th>Mortgage</th>\n",
       "      <th>Personal Loan</th>\n",
       "      <th>Securities Account</th>\n",
       "      <th>CD Account</th>\n",
       "      <th>Online</th>\n",
       "      <th>CreditCard</th>\n",
       "    </tr>\n",
       "  </thead>\n",
       "  <tbody>\n",
       "    <tr>\n",
       "      <th>0</th>\n",
       "      <td>35</td>\n",
       "      <td>32</td>\n",
       "      <td>44</td>\n",
       "      <td>1</td>\n",
       "      <td>0.3</td>\n",
       "      <td>1</td>\n",
       "      <td>0</td>\n",
       "      <td>0</td>\n",
       "      <td>0</td>\n",
       "      <td>0</td>\n",
       "      <td>1</td>\n",
       "      <td>0</td>\n",
       "    </tr>\n",
       "  </tbody>\n",
       "</table>\n",
       "</div>"
      ],
      "text/plain": [
       "   Age  Experience  Income  Family  CCAvg  Education  Mortgage  Personal Loan  \\\n",
       "0   35          32      44       1    0.3          1         0              0   \n",
       "\n",
       "   Securities Account  CD Account  Online  CreditCard  \n",
       "0                   0           0       1           0  "
      ]
     },
     "execution_count": 11,
     "metadata": {},
     "output_type": "execute_result"
    }
   ],
   "source": [
    "df.drop(['ID', 'ZIP Code'], axis=1).mode()"
   ]
  },
  {
   "cell_type": "code",
   "execution_count": 34,
   "id": "2ef4848a",
   "metadata": {},
   "outputs": [
    {
     "name": "stdout",
     "output_type": "stream",
     "text": [
      "Family    2.3964\n",
      "dtype: float64\n"
     ]
    }
   ],
   "source": [
    "# descrete\n",
    "print(df[['Family']].mean())"
   ]
  },
  {
   "cell_type": "code",
   "execution_count": 32,
   "id": "87bb92d5",
   "metadata": {},
   "outputs": [
    {
     "name": "stdout",
     "output_type": "stream",
     "text": [
      "Family    2.0\n",
      "dtype: float64\n"
     ]
    }
   ],
   "source": [
    "print(df[['Family']].median())"
   ]
  },
  {
   "cell_type": "code",
   "execution_count": 38,
   "id": "258068a1",
   "metadata": {},
   "outputs": [
    {
     "name": "stdout",
     "output_type": "stream",
     "text": [
      "   Family\n",
      "0       1\n"
     ]
    }
   ],
   "source": [
    "print(df[['Family']].mode())"
   ]
  },
  {
   "cell_type": "markdown",
   "id": "5026d8cb",
   "metadata": {},
   "source": [
    "### 10. Can you apply any statistical method to observe any similarity in distribution between age and experience variables?"
   ]
  },
  {
   "cell_type": "code",
   "execution_count": 47,
   "id": "1f381a4f",
   "metadata": {
    "scrolled": true
   },
   "outputs": [
    {
     "name": "stdout",
     "output_type": "stream",
     "text": [
      "correlation between age and experience is:  0.9942148569683337\n"
     ]
    }
   ],
   "source": [
    " i= df.corr()['Age']['Experience']\n",
    "print(\"correlation between age and experience is: \",i)"
   ]
  },
  {
   "cell_type": "markdown",
   "id": "594ec811",
   "metadata": {},
   "source": [
    "### 11. Who are the most frequent family members present in this dataset"
   ]
  },
  {
   "cell_type": "code",
   "execution_count": 42,
   "id": "ae23cbee",
   "metadata": {},
   "outputs": [
    {
     "data": {
      "text/plain": [
       "0    1\n",
       "Name: Family, dtype: int64"
      ]
     },
     "execution_count": 42,
     "metadata": {},
     "output_type": "execute_result"
    }
   ],
   "source": [
    "df['Family'].mode()"
   ]
  },
  {
   "cell_type": "markdown",
   "id": "4751db8f",
   "metadata": {},
   "source": [
    "### 12. What is the coefficient of variation you can observe in the ‘Income’ variable"
   ]
  },
  {
   "cell_type": "code",
   "execution_count": 4,
   "id": "97a09c76",
   "metadata": {},
   "outputs": [
    {
     "name": "stdout",
     "output_type": "stream",
     "text": [
      "coeffecient of variance for income is:  62.39814097758612\n"
     ]
    }
   ],
   "source": [
    "x =df['Income'].mean()\n",
    "y = df['Income'].std()\n",
    "print(\"coeffecient of variance for income is: \",(y/x)*100)"
   ]
  },
  {
   "cell_type": "markdown",
   "id": "3a0dc836",
   "metadata": {},
   "source": [
    "### 13. The ‘Mortgage’ variable is having a lot of zeroes. Impute with some business logical value that you feel fit for the data"
   ]
  },
  {
   "cell_type": "code",
   "execution_count": 13,
   "id": "17d61b68",
   "metadata": {},
   "outputs": [],
   "source": [
    "impute=df['Mortgage'].mean()"
   ]
  },
  {
   "cell_type": "code",
   "execution_count": 16,
   "id": "bcfb34cc",
   "metadata": {},
   "outputs": [
    {
     "data": {
      "text/plain": [
       "0       56.4988\n",
       "1       56.4988\n",
       "2       56.4988\n",
       "3       56.4988\n",
       "4       56.4988\n",
       "         ...   \n",
       "4995    56.4988\n",
       "4996    85.0000\n",
       "4997    56.4988\n",
       "4998    56.4988\n",
       "4999    56.4988\n",
       "Name: Mortgage, Length: 5000, dtype: float64"
      ]
     },
     "execution_count": 16,
     "metadata": {},
     "output_type": "execute_result"
    }
   ],
   "source": [
    "df['Mortgage']=df['Mortgage'].replace(0,impute)\n",
    "df['Mortgage']"
   ]
  },
  {
   "cell_type": "markdown",
   "id": "d83f227c",
   "metadata": {},
   "source": [
    "### 14. Do customers with credit cards have any impact on their experience and income"
   ]
  },
  {
   "cell_type": "code",
   "execution_count": 19,
   "id": "1310c7b1",
   "metadata": {},
   "outputs": [
    {
     "name": "stdout",
     "output_type": "stream",
     "text": [
      "correlation between age and experience is:  0.008967447335361374\n"
     ]
    }
   ],
   "source": [
    "x = df['CreditCard'].corr(df['Experience'])\n",
    "print(\"correlation between age and experience is: \", x)"
   ]
  },
  {
   "cell_type": "code",
   "execution_count": 20,
   "id": "c3c96d62",
   "metadata": {},
   "outputs": [
    {
     "name": "stdout",
     "output_type": "stream",
     "text": [
      "correlation between age and experience is:  -0.0023850077511431513\n"
     ]
    }
   ],
   "source": [
    "x = df['CreditCard'].corr(df['Income'])\n",
    "print(\"correlation between age and experience is: \", x)"
   ]
  },
  {
   "cell_type": "markdown",
   "id": "dd035bb9",
   "metadata": {},
   "source": [
    "### 15. Do you see any outliers in the dataset? If yes what plot is suitable to showcase to the stakeholders?\n"
   ]
  },
  {
   "cell_type": "code",
   "execution_count": 52,
   "id": "66c658e5",
   "metadata": {},
   "outputs": [
    {
     "name": "stdout",
     "output_type": "stream",
     "text": [
      "4.756796669311615\n",
      "39.0 64.0 98.0\n"
     ]
    }
   ],
   "source": [
    "print(df['Mortgage'].kurt())\n",
    "q1 = df['Income'].quantile(.25)\n",
    "q2 = df['Income'].quantile(.50)\n",
    "q3 = df['Income'].quantile(.75)\n",
    "print(q1,q2,q3)"
   ]
  },
  {
   "cell_type": "code",
   "execution_count": 53,
   "id": "6e203a30",
   "metadata": {},
   "outputs": [
    {
     "name": "stdout",
     "output_type": "stream",
     "text": [
      "inter quartile range is:  34.0\n"
     ]
    }
   ],
   "source": [
    "iqr = q3-q2\n",
    "print(\"inter quartile range is: \",iqr)"
   ]
  },
  {
   "cell_type": "code",
   "execution_count": 54,
   "id": "82710fd5",
   "metadata": {
    "scrolled": true
   },
   "outputs": [
    {
     "name": "stdout",
     "output_type": "stream",
     "text": [
      "quartile deviation is:  29.5\n"
     ]
    }
   ],
   "source": [
    "q_d = (q3-q1)/2\n",
    "print(\"quartile deviation is: \",q_d)"
   ]
  },
  {
   "cell_type": "code",
   "execution_count": 55,
   "id": "437a7e8d",
   "metadata": {},
   "outputs": [
    {
     "name": "stdout",
     "output_type": "stream",
     "text": [
      "co_eff of Q.D is:  0.4306569343065693\n"
     ]
    }
   ],
   "source": [
    "co_eff = (q3-q1)/(q3+q1)\n",
    "print(\"co_eff of Q.D is: \",co_eff)"
   ]
  },
  {
   "cell_type": "code",
   "execution_count": 56,
   "id": "4a76241d",
   "metadata": {},
   "outputs": [
    {
     "name": "stdout",
     "output_type": "stream",
     "text": [
      "minimum value is: -12.0 maximum value is : 149.0\n"
     ]
    }
   ],
   "source": [
    "#print(\"minimum of income: \", df['Income'].min())\n",
    "#print(\"maximum of income: \", df['Income'].max())\n",
    "min = q1-(1.5*iqr)\n",
    "max = q3+(1.5*iqr)\n",
    "print(\"minimum value is:\",min , \"maximum value is :\", max)"
   ]
  },
  {
   "cell_type": "code",
   "execution_count": 57,
   "id": "507410ac",
   "metadata": {},
   "outputs": [
    {
     "data": {
      "text/plain": [
       "<Axes: >"
      ]
     },
     "execution_count": 57,
     "metadata": {},
     "output_type": "execute_result"
    },
    {
     "data": {
      "image/png": "[encoded data removed]",
      "text/plain": [
       "<Figure size 640x480 with 1 Axes>"
      ]
     },
     "metadata": {},
     "output_type": "display_data"
    }
   ],
   "source": [
    "df['Income'].plot(kind='box')"
   ]
  },
  {
   "cell_type": "markdown",
   "id": "de52b963",
   "metadata": {},
   "source": [
    "### 16. Give us the deciles values of the variable ‘Income’ in the dataset.\n"
   ]
  },
  {
   "cell_type": "code",
   "execution_count": 58,
   "id": "2bd51269",
   "metadata": {
    "scrolled": true
   },
   "outputs": [
    {
     "name": "stdout",
     "output_type": "stream",
     "text": [
      "first quartile value:  22.0\n",
      "second quartile value:  33.0\n",
      "third quartile value:  42.0\n",
      "fourth quartile value:  52.0\n",
      "fifth quartile value:  64.0\n",
      "sixth quartile value:  78.0\n",
      "seventh quartile value:  88.29999999999973\n",
      "eighth quartile value:  113.0\n",
      "ninth quartile value:  145.0\n",
      "tenth quartile value:  224.0\n"
     ]
    }
   ],
   "source": [
    " q1 = df['Income'].quantile(.10)\n",
    "q2 = df['Income'].quantile(.20)\n",
    "q3 = df['Income'].quantile(.30)\n",
    "q4 = df['Income'].quantile(.40)\n",
    "q5 = df['Income'].quantile(.50)\n",
    "q6 = df['Income'].quantile(.60)\n",
    "q7 = df['Income'].quantile(.70)\n",
    "q8 = df['Income'].quantile(.80)\n",
    "q9 = df['Income'].quantile(.90)\n",
    "q10 = df['Income'].quantile(1.0)\n",
    "print(\"first quartile value: \",q1)\n",
    "print(\"second quartile value: \",q2)\n",
    "print(\"third quartile value: \",q3)\n",
    "print(\"fourth quartile value: \",q4)\n",
    "print(\"fifth quartile value: \",q5)\n",
    "print(\"sixth quartile value: \",q6)\n",
    "print(\"seventh quartile value: \",q7)\n",
    "print(\"eighth quartile value: \",q8)\n",
    "print(\"ninth quartile value: \",q9)\n",
    "print(\"tenth quartile value: \",q10)"
   ]
  },
  {
   "cell_type": "code",
   "execution_count": 21,
   "id": "b2ea9ed2",
   "metadata": {},
   "outputs": [
    {
     "name": "stdout",
     "output_type": "stream",
     "text": [
      "        ID  Age  Experience  Income  ZIP Code  Family  CCAvg  Education  \\\n",
      "0        1   25           1      49     91107       4    1.6          1   \n",
      "1        2   45          19      34     90089       3    1.5          1   \n",
      "2        3   39          15      11     94720       1    1.0          1   \n",
      "3        4   35           9     100     94112       1    2.7          2   \n",
      "4        5   35           8      45     91330       4    1.0          2   \n",
      "...    ...  ...         ...     ...       ...     ...    ...        ...   \n",
      "4995  4996   29           3      40     92697       1    1.9          3   \n",
      "4996  4997   30           4      15     92037       4    0.4          1   \n",
      "4997  4998   63          39      24     93023       2    0.3          3   \n",
      "4998  4999   65          40      49     90034       3    0.5          2   \n",
      "4999  5000   28           4      83     92612       3    0.8          1   \n",
      "\n",
      "      Mortgage  Personal Loan  Securities Account  CD Account  Online  \\\n",
      "0      56.4988              0                   1           0       0   \n",
      "1      56.4988              0                   1           0       0   \n",
      "2      56.4988              0                   0           0       0   \n",
      "3      56.4988              0                   0           0       0   \n",
      "4      56.4988              0                   0           0       0   \n",
      "...        ...            ...                 ...         ...     ...   \n",
      "4995   56.4988              0                   0           0       1   \n",
      "4996   85.0000              0                   0           0       1   \n",
      "4997   56.4988              0                   0           0       0   \n",
      "4998   56.4988              0                   0           0       1   \n",
      "4999   56.4988              0                   0           0       1   \n",
      "\n",
      "      CreditCard  Decile_rank  \n",
      "0              0            3  \n",
      "1              0            2  \n",
      "2              0            0  \n",
      "3              0            7  \n",
      "4              1            3  \n",
      "...          ...          ...  \n",
      "4995           0            2  \n",
      "4996           0            0  \n",
      "4997           0            1  \n",
      "4998           0            3  \n",
      "4999           1            6  \n",
      "\n",
      "[5000 rows x 15 columns]\n"
     ]
    }
   ],
   "source": [
    "df['Decile_rank'] = pd.qcut(df['Income'], 10,\n",
    "                            labels = False)\n",
    "print(df)"
   ]
  },
  {
   "cell_type": "markdown",
   "id": "ab6fefb3",
   "metadata": {},
   "source": [
    "### 17. Give the IQR of all the variables which are quantitative and continuous"
   ]
  },
  {
   "cell_type": "code",
   "execution_count": 22,
   "id": "87d402c8",
   "metadata": {},
   "outputs": [
    {
     "name": "stdout",
     "output_type": "stream",
     "text": [
      "Age                   20.0000\n",
      "Experience            20.0000\n",
      "Income                59.0000\n",
      "Family                 2.0000\n",
      "CCAvg                  1.8000\n",
      "Education              2.0000\n",
      "Mortgage              44.5012\n",
      "Personal Loan          0.0000\n",
      "Securities Account     0.0000\n",
      "CD Account             0.0000\n",
      "Online                 1.0000\n",
      "CreditCard             1.0000\n",
      "Decile_rank            5.0000\n",
      "dtype: float64\n"
     ]
    }
   ],
   "source": [
    "q1 = df.drop(['ID', 'ZIP Code'], axis=1).quantile(.25) # 25th percentile value\n",
    "q3 = df.drop(['ID', 'ZIP Code'], axis=1).quantile(.75) # 75th percentile value\n",
    "iqr=q3-q1                # Differnce between two quarters\n",
    "print(iqr) "
   ]
  },
  {
   "cell_type": "markdown",
   "id": "8ab29dc4",
   "metadata": {},
   "source": [
    "### 18. Do the higher-income holders spend more on credit cards"
   ]
  },
  {
   "cell_type": "code",
   "execution_count": 60,
   "id": "b65c4863",
   "metadata": {},
   "outputs": [
    {
     "name": "stdout",
     "output_type": "stream",
     "text": [
      "73.7742\n",
      "0.294\n",
      "correlation between income holders and credit cards is : 0.6459925919173632\n"
     ]
    }
   ],
   "source": [
    " print(df['Income'].mean())\n",
    "print(df['CreditCard'].mean())\n",
    "y = df['Income'].corr(df['CCAvg'])\n",
    "print(\"correlation between income holders and credit cards is :\",y)"
   ]
  },
  {
   "cell_type": "markdown",
   "id": "4e59a514",
   "metadata": {},
   "source": [
    "### 19. Do customers using bank internet facilities paid higher?"
   ]
  },
  {
   "cell_type": "code",
   "execution_count": 61,
   "id": "41b8c2f6",
   "metadata": {},
   "outputs": [
    {
     "name": "stdout",
     "output_type": "stream",
     "text": [
      "correlation between income and online is: 0.014205919317825793\n"
     ]
    }
   ],
   "source": [
    " print(\"correlation between income and online is:\",df['Income'].corr(df['Online']))"
   ]
  },
  {
   "cell_type": "markdown",
   "id": "6d69aafa",
   "metadata": {},
   "source": [
    "### 20. Calculate the Z score of the ‘income’ variable."
   ]
  },
  {
   "cell_type": "code",
   "execution_count": 23,
   "id": "8dc356c8",
   "metadata": {},
   "outputs": [
    {
     "data": {
      "text/plain": [
       "0      -0.538229\n",
       "1      -0.864109\n",
       "2      -1.363793\n",
       "3       0.569765\n",
       "4      -0.625130\n",
       "          ...   \n",
       "4995   -0.733757\n",
       "4996   -1.276892\n",
       "4997   -1.081363\n",
       "4998   -0.538229\n",
       "4999    0.200434\n",
       "Name: Income, Length: 5000, dtype: float64"
      ]
     },
     "execution_count": 23,
     "metadata": {},
     "output_type": "execute_result"
    }
   ],
   "source": [
    " from scipy.stats import zscore\n",
    "zscore(df['Income'])"
   ]
  },
  {
   "cell_type": "code",
   "execution_count": null,
   "id": "b77e51e9",
   "metadata": {},
   "outputs": [],
   "source": []
  }
 ],
 "metadata": {
  "kernelspec": {
   "display_name": "Python 3 (ipykernel)",
   "language": "python",
   "name": "python3"
  },
  "language_info": {
   "codemirror_mode": {
    "name": "ipython",
    "version": 3
   },
   "file_extension": ".py",
   "mimetype": "text/x-python",
   "name": "python",
   "nbconvert_exporter": "python",
   "pygments_lexer": "ipython3",
   "version": "3.9.16"
  }
 },
 "nbformat": 4,
 "nbformat_minor": 5
}
