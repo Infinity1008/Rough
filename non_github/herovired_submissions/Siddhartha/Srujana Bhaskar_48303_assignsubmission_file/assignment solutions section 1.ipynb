{
 "cells": [
  {
   "cell_type": "code",
   "execution_count": 6,
   "id": "785df8dc",
   "metadata": {},
   "outputs": [],
   "source": [
    "import pandas as pd\n",
    "import numpy as np\n",
    "import math"
   ]
  },
  {
   "cell_type": "markdown",
   "id": "13c43935",
   "metadata": {},
   "source": [
    "## section1 "
   ]
  },
  {
   "cell_type": "markdown",
   "id": "df88505c",
   "metadata": {},
   "source": [
    "##### 1 The average selling price of a food item in a restaurant is Rs 250.00 and the standard deviation of the price is Rs 47.00. The median value is an indication of the central value of the data and is close to the mean of Rs 202.00. If you know these details, will you become a regular customer of the restaurant?"
   ]
  },
  {
   "cell_type": "code",
   "execution_count": 2,
   "id": "4e3e55c3",
   "metadata": {},
   "outputs": [],
   "source": [
    "avg_price = 250\n",
    "std_dev = 47\n",
    "mean = 202\n"
   ]
  },
  {
   "cell_type": "code",
   "execution_count": 10,
   "id": "4e6a8d74",
   "metadata": {},
   "outputs": [
    {
     "name": "stdout",
     "output_type": "stream",
     "text": [
      "The z_score is : 1.0212765957446808\n"
     ]
    }
   ],
   "source": [
    "z_score = (avg_price - mean)/std_dev\n",
    "print(\"The z_score is :\",z_score)"
   ]
  },
  {
   "cell_type": "markdown",
   "id": "0b106f61",
   "metadata": {},
   "source": [
    "NOTE: Mode: Rs 106.00 i.e(3 median - 2 mean) The mode of Rs 106.00 indicates that there is a significant concentration of food items at this price point, and it is the most frequently occurring price.\n",
    "Since the mean is greater than the median and the mode, it suggests that the data is positively skewed. This means that the distribution of food item prices is likely to have a longer tail on the right side, with a few higher-priced items pulling the average up.\n",
    "A positive z-score indicates that the average selling price of the food item is above average, which means that the food item is relatively expensive compared to the mean. However, note that the z-score is less than 2, which means it is not very far from the mean, and the range of prices is about one standard deviation from the mean.\n",
    "Other factors such as taste preferences, convenience, and location, among others, might help you decide if you would be a regular customer of the restaurant or not.\n",
    "\n"
   ]
  },
  {
   "cell_type": "markdown",
   "id": "4ecbfdab",
   "metadata": {},
   "source": [
    "####  2. In a residential locality, the average size of a house is 2224 square feet with a standard deviation of 248 square feet which indicates that the distribution of size is fairly the same across the data and the median value of the house is 2220 square feet. Does the locality have bigger or smaller-sized houses?"
   ]
  },
  {
   "cell_type": "code",
   "execution_count": 11,
   "id": "fe191014",
   "metadata": {},
   "outputs": [],
   "source": [
    "mean=2224\n",
    "sd=248\n",
    "median=2220"
   ]
  },
  {
   "cell_type": "code",
   "execution_count": 12,
   "id": "e8f90231",
   "metadata": {},
   "outputs": [
    {
     "data": {
      "text/plain": [
       "-0.016129032258064516"
      ]
     },
     "execution_count": 12,
     "metadata": {},
     "output_type": "execute_result"
    }
   ],
   "source": [
    "z_score=(median-mean)/sd\n",
    "z_score"
   ]
  },
  {
   "cell_type": "code",
   "execution_count": 13,
   "id": "84d589de",
   "metadata": {},
   "outputs": [
    {
     "name": "stdout",
     "output_type": "stream",
     "text": [
      "Houses in this locality are on average smaller.\n"
     ]
    }
   ],
   "source": [
    "# Find whether houses in this locality are bigger or smaller than other localities\n",
    "if z_score > 0:\n",
    "    print(\"Houses in this locality are on average bigger.\")\n",
    "elif z_score == 0:\n",
    "    print(\"Houses in this locality are on average the same size as other localities.\")\n",
    "else:\n",
    "    print(\"Houses in this locality are on average smaller.\")\n"
   ]
  },
  {
   "cell_type": "markdown",
   "id": "c3c8ffc9",
   "metadata": {},
   "source": [
    "#### 3 You want to invest in real estate, and you have the data belonging to locality X and Y. Some of the house prices in locality X are 2.00 L,10.00 L, 8.00 L, and 12.00 L and the prices of houses in Y are 2.5 L, 9.50 L, 8.15 L, and 12.50 L. Conduct a statistical measure to decide which locality is best for investment"
   ]
  },
  {
   "cell_type": "code",
   "execution_count": 5,
   "id": "4f730e2f",
   "metadata": {},
   "outputs": [
    {
     "name": "stdout",
     "output_type": "stream",
     "text": [
      "Locality X:\n",
      "Mean:  8.0\n",
      "Median:  9.0\n",
      "Standard Deviation:  4.320493798938574\n",
      "\n",
      "Locality Y:\n",
      "Mean:  8.1625\n",
      "Median:  8.825\n",
      "Standard Deviation:  4.189943317039027\n",
      "\n",
      "Locality Y has a higher mean, which indicates higher average prices.\n",
      "Locality X has a higher median, which indicates higher middle prices.\n",
      "Locality X has a higher standard deviation, which indicates higher price variability.\n"
     ]
    }
   ],
   "source": [
    "import statistics\n",
    "\n",
    "# House prices in locality X\n",
    "prices_X = [2.00, 10.00, 8.00, 12.00]\n",
    "\n",
    "# House prices in locality Y\n",
    "prices_Y = [2.5, 9.50, 8.15, 12.50]\n",
    "\n",
    "# Calculate the mean\n",
    "mean_X = statistics.mean(prices_X)\n",
    "mean_Y = statistics.mean(prices_Y)\n",
    "\n",
    "# Calculate the median\n",
    "median_X = statistics.median(prices_X)\n",
    "median_Y = statistics.median(prices_Y)\n",
    "\n",
    "# Calculate the standard deviation\n",
    "std_dev_X = statistics.stdev(prices_X)\n",
    "std_dev_Y = statistics.stdev(prices_Y)\n",
    "\n",
    "# Compare the measures\n",
    "print(\"Locality X:\")\n",
    "print(\"Mean: \", mean_X)\n",
    "print(\"Median: \", median_X)\n",
    "print(\"Standard Deviation: \", std_dev_X)\n",
    "\n",
    "print(\"\\nLocality Y:\")\n",
    "print(\"Mean: \", mean_Y)\n",
    "print(\"Median: \", median_Y)\n",
    "print(\"Standard Deviation: \", std_dev_Y)\n",
    "\n",
    "# Compare means\n",
    "if mean_X > mean_Y:\n",
    "    print(\"\\nLocality X has a higher mean, which indicates higher average prices.\")\n",
    "elif mean_X < mean_Y:\n",
    "    print(\"\\nLocality Y has a higher mean, which indicates higher average prices.\")\n",
    "else:\n",
    "    print(\"\\nThe means of both localities are the same.\")\n",
    "\n",
    "# Compare medians\n",
    "if median_X > median_Y:\n",
    "    print(\"Locality X has a higher median, which indicates higher middle prices.\")\n",
    "elif median_X < median_Y:\n",
    "    print(\"Locality Y has a higher median, which indicates higher middle prices.\")\n",
    "else:\n",
    "    print(\"The medians of both localities are the same.\")\n",
    "\n",
    "# Compare standard deviations\n",
    "if std_dev_X > std_dev_Y:\n",
    "    print(\"Locality X has a higher standard deviation, which indicates higher price variability.\")\n",
    "elif std_dev_X < std_dev_Y:\n",
    "    print(\"Locality Y has a higher standard deviation, which indicates higher price variability.\")\n",
    "else:\n",
    "    print(\"The standard deviations of both localities are the same.\")"
   ]
  },
  {
   "cell_type": "markdown",
   "id": "0bde0c2f",
   "metadata": {},
   "source": [
    "Based on result:\n",
    "           Mean House Prices: The mean house prices in locality X and Y are quite close, with locality X having a mean of 8.00 L and locality Y having a mean of 8.41 L. This indicates that, on average, the house prices are similar in both localities.\n",
    "\n",
    "Standard Deviation: The standard deviation measures the dispersion or variability of the data. Locality X has a standard deviation of 3.39 L, while locality Y has a standard deviation of 3.26 L. Both localities exhibit relatively similar levels of variability in house prices.\n",
    "\n",
    "Based on these statistical measures alone, it appears that locality Y has a slightly higher mean house price and a slightly lower standard deviation. This suggests that, on average, house prices in locality Y may be slightly higher and less variable compared to locality X.\n"
   ]
  },
  {
   "cell_type": "markdown",
   "id": "72dcbff7",
   "metadata": {},
   "source": [
    "#### 4 During a survey, the ages of 80 patients, infected by COVID and admitted to one of the city hospitals, were recorded. The collected data is represented in the less-than-cumulative frequency distribution table. \n"
   ]
  },
  {
   "cell_type": "code",
   "execution_count": 8,
   "id": "f11894e9",
   "metadata": {},
   "outputs": [
    {
     "data": {
      "text/html": [
       "<div>\n",
       "<style scoped>\n",
       "    .dataframe tbody tr th:only-of-type {\n",
       "        vertical-align: middle;\n",
       "    }\n",
       "\n",
       "    .dataframe tbody tr th {\n",
       "        vertical-align: top;\n",
       "    }\n",
       "\n",
       "    .dataframe thead th {\n",
       "        text-align: right;\n",
       "    }\n",
       "</style>\n",
       "<table border=\"1\" class=\"dataframe\">\n",
       "  <thead>\n",
       "    <tr style=\"text-align: right;\">\n",
       "      <th></th>\n",
       "      <th>Age</th>\n",
       "      <th>patients</th>\n",
       "    </tr>\n",
       "  </thead>\n",
       "  <tbody>\n",
       "    <tr>\n",
       "      <th>0</th>\n",
       "      <td>5-15</td>\n",
       "      <td>6</td>\n",
       "    </tr>\n",
       "    <tr>\n",
       "      <th>1</th>\n",
       "      <td>15-25</td>\n",
       "      <td>11</td>\n",
       "    </tr>\n",
       "    <tr>\n",
       "      <th>2</th>\n",
       "      <td>25-35</td>\n",
       "      <td>21</td>\n",
       "    </tr>\n",
       "    <tr>\n",
       "      <th>3</th>\n",
       "      <td>35-45</td>\n",
       "      <td>23</td>\n",
       "    </tr>\n",
       "    <tr>\n",
       "      <th>4</th>\n",
       "      <td>45-55</td>\n",
       "      <td>14</td>\n",
       "    </tr>\n",
       "    <tr>\n",
       "      <th>5</th>\n",
       "      <td>55-65</td>\n",
       "      <td>5</td>\n",
       "    </tr>\n",
       "  </tbody>\n",
       "</table>\n",
       "</div>"
      ],
      "text/plain": [
       "     Age  patients\n",
       "0   5-15         6\n",
       "1  15-25        11\n",
       "2  25-35        21\n",
       "3  35-45        23\n",
       "4  45-55        14\n",
       "5  55-65         5"
      ]
     },
     "execution_count": 8,
     "metadata": {},
     "output_type": "execute_result"
    }
   ],
   "source": [
    "df=pd.DataFrame(data={'Age':[\"5-15\",\"15-25\",\"25-35\",\"35-45\",\"45-55\",\"55-65\"],'patients':[6,11,21,23,14,5]})\n",
    "df"
   ]
  },
  {
   "cell_type": "code",
   "execution_count": 10,
   "id": "1527cf54",
   "metadata": {},
   "outputs": [
    {
     "name": "stdout",
     "output_type": "stream",
     "text": [
      "Class interval with the highest frequency: 35-45\n"
     ]
    }
   ],
   "source": [
    "# a. Which class interval has the highest frequency\n",
    "Age = [\"5-15\", \"15-25\", \"25-35\", \"35-45\", \"45-55\", \"55-65\"]\n",
    "frequency = [6, 11, 21, 23, 14, 5]\n",
    "# Find the index of the maximum frequency\n",
    "max_frequency_index = frequency.index(max(frequency))\n",
    "\n",
    "# Get the class interval with the highest frequency\n",
    "class_interval_with_highest_frequency = Age[max_frequency_index]\n",
    "print(\"Class interval with the highest frequency:\", class_interval_with_highest_frequency)\n"
   ]
  },
  {
   "cell_type": "code",
   "execution_count": 12,
   "id": "fd95a6cc",
   "metadata": {},
   "outputs": [
    {
     "name": "stdout",
     "output_type": "stream",
     "text": [
      "Age affected the least: 55-65\n"
     ]
    }
   ],
   "source": [
    "#b. Which age was affected the least?\n",
    "# Find the index of the minimum frequency\n",
    "min_frequency_index = frequency.index(min(frequency))\n",
    "\n",
    "# Get the age interval with the least frequency\n",
    "age_affected_least = Age[min_frequency_index]\n",
    "print(\"Age affected the least:\", age_affected_least)\n"
   ]
  },
  {
   "cell_type": "code",
   "execution_count": 14,
   "id": "466be205",
   "metadata": {},
   "outputs": [
    {
     "name": "stdout",
     "output_type": "stream",
     "text": [
      "Number of patients aged 45 years and above: 19\n"
     ]
    }
   ],
   "source": [
    "#c. How many patients of age 45 years and above were admitted?\n",
    "total_patients_45_above = sum(frequency[4:])\n",
    "print(\"Number of patients aged 45 years and above:\", total_patients_45_above)\n"
   ]
  },
  {
   "cell_type": "code",
   "execution_count": 16,
   "id": "42a82c1c",
   "metadata": {},
   "outputs": [
    {
     "name": "stdout",
     "output_type": "stream",
     "text": [
      "Modal class interval: 35-45\n"
     ]
    }
   ],
   "source": [
    "#d. Which is the modal class interval in the above dataset?\n",
    "max_frequency_index = frequency.index(max(frequency))\n",
    "\n",
    "# Get the modal class interval\n",
    "modal_class_interval = Age[max_frequency_index]\n",
    "print(\"Modal class interval:\", modal_class_interval)"
   ]
  },
  {
   "cell_type": "code",
   "execution_count": 20,
   "id": "083aec3f",
   "metadata": {},
   "outputs": [
    {
     "name": "stdout",
     "output_type": "stream",
     "text": [
      "Median class interval of age: 45-55\n"
     ]
    }
   ],
   "source": [
    "#e. What is the median class interval of age?\n",
    "import statistics\n",
    "\n",
    "# Calculate the cumulative frequencies\n",
    "cumulative_frequency = [sum(frequency[:i+1]) for i in range(len(frequency))]\n",
    "\n",
    "# Calculate the total frequency\n",
    "total_frequency = sum(frequency)\n",
    "\n",
    "# Find the index of the median class interval\n",
    "median_index = statistics.median([i for i in range(len(cumulative_frequency)) if cumulative_frequency[i] >= total_frequency/2])\n",
    "\n",
    "# Get the median class interval\n",
    "median_class_interval = Age[median_index]\n",
    "\n",
    "print(\"Median class interval of age:\", median_class_interval)\n"
   ]
  },
  {
   "cell_type": "markdown",
   "id": "071462a0",
   "metadata": {},
   "source": [
    "### 5. Assume, you are a trader and have invested over the years for your retirement. Lately, with the fluctuating economical condition, you are worried about the average return on investment. What average method is appropriate to compute the average return for the data given in the table? Year Return Asset Price 2015 36% 5000 2016 23% 6400 2017 -48% 7890 2 2018 -30% 9023 2019 15% 4567 2020 31% 3890\n",
    "  "
   ]
  },
  {
   "cell_type": "code",
   "execution_count": 21,
   "id": "c3b0c4b6",
   "metadata": {},
   "outputs": [
    {
     "name": "stdout",
     "output_type": "stream",
     "text": [
      "Average return (geometric mean): -0.014282599080668423\n"
     ]
    }
   ],
   "source": [
    "import math\n",
    "\n",
    "# Data table\n",
    "years = [2015, 2016, 2017, 2018, 2019, 2020]\n",
    "returns = [0.36, 0.23, -0.48, -0.30, 0.15, 0.31]\n",
    "asset_prices = [5000, 6400, 7890, 9023, 4567, 3890]\n",
    "\n",
    "# Calculate the geometric mean of returns\n",
    "geometric_mean = math.prod([(1 + r) for r in returns])**(1/len(returns)) - 1\n",
    "\n",
    "# Print the result\n",
    "print(\"Average return (geometric mean):\", geometric_mean)\n"
   ]
  },
  {
   "cell_type": "markdown",
   "id": "de697b19",
   "metadata": {},
   "source": [
    "### 6. Suppose you have been told to measure the height of all men on the earth. What strategy would you use?"
   ]
  },
  {
   "cell_type": "code",
   "execution_count": 8,
   "id": "8c45f1fc",
   "metadata": {},
   "outputs": [],
   "source": [
    "import random\n",
    "list = []\n",
    "for i in range(100):\n",
    "    x = random.randint(150,185)\n",
    "    list.append(x)\n",
    "    i+=1"
   ]
  },
  {
   "cell_type": "code",
   "execution_count": 9,
   "id": "ec00020e",
   "metadata": {},
   "outputs": [
    {
     "name": "stdout",
     "output_type": "stream",
     "text": [
      "mean of list: 167.04\n"
     ]
    }
   ],
   "source": [
    "#print(list)\n",
    "m = np.mean(list)\n",
    "print(\"mean of list:\",m)"
   ]
  },
  {
   "cell_type": "markdown",
   "id": "688104a1",
   "metadata": {},
   "source": [
    "Measuring the height of every man on Earth is impossible due to logistical and practical constraints.\n",
    "However, if we assume this is a hypothetical scenario, one possible strategy in Python could be to collect \n",
    "data from various sources and use machine learning techniques to predict the height of men \n",
    "based on other characteristics such as weight, ethnicity, age, and other physical features. \n",
    "Here are a few steps that could be taken to implement such a strategy:\n",
    "\n",
    "1. Gather a large and diverse dataset of men's demographic data and their height measurements. This data can be collected from surveys, hospitals, and other institutions.\n",
    "\n",
    "2. Preprocess the data by cleaning and filtering out outliers, missing values, and irrelevant features.\n",
    "\n",
    "3. Split the dataset into training and testing sets.\n",
    "\n",
    "4. Apply a machine learning algorithm such as linear regression, neural networks, or decision trees to learn the relationship between the input features and the target variable (height).\n",
    "\n",
    "5. Evaluate the performance of the model using various metrics such as mean absolute error or mean squared error.\n",
    "\n",
    "6. Deploy the model in a production environment and use it to make predictions based on new input data.\n"
   ]
  },
  {
   "cell_type": "markdown",
   "id": "a4e9e04c",
   "metadata": {},
   "source": [
    "### 7. Calculate the z score of the following numbers:\n",
    " X = [4.5,6.2,7.3,9.1,10.4,11]"
   ]
  },
  {
   "cell_type": "code",
   "execution_count": 43,
   "id": "fefbe8e1",
   "metadata": {},
   "outputs": [
    {
     "name": "stdout",
     "output_type": "stream",
     "text": [
      "6\n"
     ]
    }
   ],
   "source": [
    "  x =[4.5,6.2,7.3,9.1,10.4,11]\n",
    "y = []\n",
    "print(len(x))"
   ]
  },
  {
   "cell_type": "code",
   "execution_count": 44,
   "id": "3c365232",
   "metadata": {},
   "outputs": [
    {
     "name": "stdout",
     "output_type": "stream",
     "text": [
      "mean =  8.083333333333334\n",
      "standard deviation =  2.3060909686210462\n"
     ]
    }
   ],
   "source": [
    "m = np.mean(x)\n",
    "sd = np.std(x)\n",
    "print(\"mean = \",m)\n",
    "print(\"standard deviation = \",sd)"
   ]
  },
  {
   "cell_type": "code",
   "execution_count": 45,
   "id": "6912af79",
   "metadata": {},
   "outputs": [
    {
     "name": "stdout",
     "output_type": "stream",
     "text": [
      "z score for  4.5  is -1.553856019598407\n"
     ]
    }
   ],
   "source": [
    "print(\"z score for \",x[0],\" is\", ((x[0]-m)/sd))"
   ]
  },
  {
   "cell_type": "code",
   "execution_count": 47,
   "id": "39de85ce",
   "metadata": {},
   "outputs": [
    {
     "name": "stdout",
     "output_type": "stream",
     "text": [
      "z score for 4.5 is: -1.553856019598407\n",
      "z score for 6.2 is: -0.816677814951721\n",
      "z score for 7.3 is: -0.3396801531215125\n",
      "z score for 9.1 is: 0.44086147532791964\n",
      "z score for 10.4 is: 1.004585984763621\n",
      "z score for 11 is: 1.2647665275800983\n",
      "[-1.553856019598407, -0.816677814951721, -0.3396801531215125, 0.44086147532791964, 1.004585984763621, 1.2647665275800983]\n"
     ]
    }
   ],
   "source": [
    "for i in range(0,len(x)):\n",
    "    z = ((x[i]-m)/sd)\n",
    "    y.append(z)\n",
    "    print(\"z score for\", x[i], \"is:\", y[i])\n",
    "    i+=1\n",
    "print(y)"
   ]
  },
  {
   "cell_type": "code",
   "execution_count": null,
   "id": "dbb79745",
   "metadata": {},
   "outputs": [],
   "source": []
  }
 ],
 "metadata": {
  "kernelspec": {
   "display_name": "Python 3 (ipykernel)",
   "language": "python",
   "name": "python3"
  },
  "language_info": {
   "codemirror_mode": {
    "name": "ipython",
    "version": 3
   },
   "file_extension": ".py",
   "mimetype": "text/x-python",
   "name": "python",
   "nbconvert_exporter": "python",
   "pygments_lexer": "ipython3",
   "version": "3.10.9"
  }
 },
 "nbformat": 4,
 "nbformat_minor": 5
}
