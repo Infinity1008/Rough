{
 "cells": [
  {
   "cell_type": "markdown",
   "id": "266ffb6c",
   "metadata": {},
   "source": [
    "<center><h1>Parametric Gaussian VaR</h1></center>\n",
    "\n",
    "It assumes portfolio returns follow a specific probability distribution (usually normal distribution) and estimates VaR based on the mean and standard deviation of returns.\n",
    "\n",
    "```z``` value for a ```VaR``` (5%) = -1.65 \n",
    "\n",
    "Daily Standard deviation (```σ```) = 0.014 \n",
    "\n",
    "Portfolio value = 1000000\n",
    "\t\n",
    "\n",
    "```VaR```\t= ```z * σ```\n",
    "\n",
    "```VaR``` (5%) on ```INR``` basis = ```VaR * Portfolio value``` \n",
    "\n",
    "---"
   ]
  },
  {
   "cell_type": "markdown",
   "id": "592c32a7",
   "metadata": {},
   "source": [
    "#### VaR"
   ]
  },
  {
   "cell_type": "code",
   "execution_count": 2,
   "id": "3c524821",
   "metadata": {},
   "outputs": [],
   "source": [
    "z = -1.65\n",
    "stdev = 0.014"
   ]
  },
  {
   "cell_type": "code",
   "execution_count": 3,
   "id": "a9d5cabe",
   "metadata": {},
   "outputs": [],
   "source": [
    "var = z * stdev"
   ]
  },
  {
   "cell_type": "code",
   "execution_count": 4,
   "id": "297af866",
   "metadata": {},
   "outputs": [
    {
     "data": {
      "text/plain": [
       "-0.0231"
      ]
     },
     "execution_count": 4,
     "metadata": {},
     "output_type": "execute_result"
    }
   ],
   "source": [
    "var"
   ]
  },
  {
   "cell_type": "markdown",
   "id": "d0311de5",
   "metadata": {},
   "source": [
    "#### VaR (5%) on INR basis"
   ]
  },
  {
   "cell_type": "code",
   "execution_count": 5,
   "id": "d7e5f608",
   "metadata": {},
   "outputs": [],
   "source": [
    "pftv = 1000000"
   ]
  },
  {
   "cell_type": "code",
   "execution_count": 6,
   "id": "aef95421",
   "metadata": {},
   "outputs": [
    {
     "data": {
      "text/plain": [
       "-23100.0"
      ]
     },
     "execution_count": 6,
     "metadata": {},
     "output_type": "execute_result"
    }
   ],
   "source": [
    "var * pftv"
   ]
  },
  {
   "cell_type": "markdown",
   "id": "76dbdd45",
   "metadata": {},
   "source": [
    "### Concusion\n",
    "There is a ```5%``` probabaility that on any given day, the loss in value on this particular asset will equal or exceed ```2.31%``` or ```INR 23,100```\n",
    "\n",
    "---"
   ]
  },
  {
   "cell_type": "markdown",
   "id": "68fa2df8",
   "metadata": {},
   "source": [
    "# If the expected return is non zero\n",
    "For a INR 1000000 portfolio, the expected 1-week portfolio return and standard deviation are 0.00188 and .0125 respectively. Calculate the 1 week VaR at 5% level of significance."
   ]
  },
  {
   "cell_type": "markdown",
   "id": "b2cae05c",
   "metadata": {},
   "source": [
    "```VaR``` = ```[Expected return-zσ] * portfolio value```\t\n",
    "\n",
    "```Expected return``` = 0.00188\n",
    "\n",
    "```Standard deviation (σ)``` = 0.0125\n",
    "\n",
    "```z value for a VaR (5%)``` = -1.65\n",
    "\n",
    "```Portfolio value``` = 1000000\n",
    "\n",
    "---"
   ]
  },
  {
   "cell_type": "code",
   "execution_count": 11,
   "id": "2a95cd73",
   "metadata": {},
   "outputs": [],
   "source": [
    "expected_return = 0.00188\n",
    "stddev= 0.0125\n",
    "z_value = -1.65\n",
    "Pftv = 1000000"
   ]
  },
  {
   "cell_type": "markdown",
   "id": "9cd84a18",
   "metadata": {},
   "source": [
    "```VaR``` = (```Expected_return``` - (```Standard_deviation ``` * ```z_value```))*```Portfolio_value```"
   ]
  },
  {
   "cell_type": "code",
   "execution_count": 12,
   "id": "e1bc0749",
   "metadata": {},
   "outputs": [],
   "source": [
    "VaR = (expected_return - (stddev * z_value)) * Pftv"
   ]
  },
  {
   "cell_type": "code",
   "execution_count": 13,
   "id": "cfc76c3a",
   "metadata": {},
   "outputs": [
    {
     "data": {
      "text/plain": [
       "22505.0"
      ]
     },
     "execution_count": 13,
     "metadata": {},
     "output_type": "execute_result"
    }
   ],
   "source": [
    "VaR"
   ]
  },
  {
   "cell_type": "markdown",
   "id": "6f507750",
   "metadata": {},
   "source": [
    "```VaR``` = 22505.0\n",
    "\n",
    "The banker can be 95% confident that the maximum 1-week loss will not exceed INR 22505\t\n",
    "\n",
    "---\n"
   ]
  },
  {
   "cell_type": "code",
   "execution_count": null,
   "id": "5efce560",
   "metadata": {},
   "outputs": [],
   "source": []
  },
  {
   "cell_type": "code",
   "execution_count": null,
   "id": "8385dec1",
   "metadata": {},
   "outputs": [],
   "source": []
  },
  {
   "cell_type": "code",
   "execution_count": null,
   "id": "a34acdb2",
   "metadata": {},
   "outputs": [],
   "source": []
  },
  {
   "cell_type": "code",
   "execution_count": null,
   "id": "9070b9d1",
   "metadata": {},
   "outputs": [],
   "source": []
  },
  {
   "cell_type": "code",
   "execution_count": null,
   "id": "53d4d4e3",
   "metadata": {},
   "outputs": [],
   "source": []
  }
 ],
 "metadata": {
  "kernelspec": {
   "display_name": "Python 3 (ipykernel)",
   "language": "python",
   "name": "python3"
  },
  "language_info": {
   "codemirror_mode": {
    "name": "ipython",
    "version": 3
   },
   "file_extension": ".py",
   "mimetype": "text/x-python",
   "name": "python",
   "nbconvert_exporter": "python",
   "pygments_lexer": "ipython3",
   "version": "3.9.18"
  }
 },
 "nbformat": 4,
 "nbformat_minor": 5
}
