{
 "cells": [
  {
   "cell_type": "markdown",
   "id": "3ba31da3",
   "metadata": {},
   "source": [
    "![image](https://miro.medium.com/max/500/1*8vPr-s5Si0YM9zaGaC3MkQ.png)"
   ]
  },
  {
   "cell_type": "markdown",
   "id": "6ad61972",
   "metadata": {},
   "source": [
    "### Question 1"
   ]
  },
  {
   "cell_type": "markdown",
   "id": "4d67ab0a",
   "metadata": {},
   "source": [
    "Create a function named round_number, that takes a float number with 1 decimal places as input and returns a rounded whole number as output.\n",
    "\n",
    "\n",
    "\n",
    "Eg. round_number(10.1) will give 10 as output"
   ]
  },
  {
   "cell_type": "code",
   "execution_count": 12,
   "id": "7ffd4dcf",
   "metadata": {},
   "outputs": [],
   "source": [
    "def round_number(number):\n",
    "    return round(number)"
   ]
  },
  {
   "cell_type": "code",
   "execution_count": 13,
   "id": "466756c9",
   "metadata": {},
   "outputs": [
    {
     "data": {
      "text/plain": [
       "11"
      ]
     },
     "execution_count": 13,
     "metadata": {},
     "output_type": "execute_result"
    }
   ],
   "source": [
    "round_number(10.95)"
   ]
  },
  {
   "cell_type": "code",
   "execution_count": 14,
   "id": "0d81c8d8",
   "metadata": {},
   "outputs": [],
   "source": [
    "a = round_number(10.95)"
   ]
  },
  {
   "cell_type": "code",
   "execution_count": 15,
   "id": "7059e59c",
   "metadata": {},
   "outputs": [
    {
     "data": {
      "text/plain": [
       "11"
      ]
     },
     "execution_count": 15,
     "metadata": {},
     "output_type": "execute_result"
    }
   ],
   "source": [
    "a"
   ]
  },
  {
   "cell_type": "code",
   "execution_count": 17,
   "id": "ab983fba",
   "metadata": {},
   "outputs": [
    {
     "data": {
      "text/plain": [
       "int"
      ]
     },
     "execution_count": 17,
     "metadata": {},
     "output_type": "execute_result"
    }
   ],
   "source": [
    "type(a)"
   ]
  },
  {
   "cell_type": "markdown",
   "id": "17dc46bb",
   "metadata": {},
   "source": [
    "### Additional"
   ]
  },
  {
   "cell_type": "code",
   "execution_count": 38,
   "id": "64164ecf",
   "metadata": {},
   "outputs": [],
   "source": [
    "# Function that adds 2 numbers\n",
    "def add_2_num(x,y):\n",
    "    \n",
    "    sum_of_2_numbers = x + y\n",
    "    \n",
    "    print(sum_of_2_numbers)\n",
    "    \n",
    "    # Do not forget THIS LINE !!!!!!!!!!\n",
    "    return sum_of_2_numbers"
   ]
  },
  {
   "cell_type": "code",
   "execution_count": 30,
   "id": "897da154",
   "metadata": {},
   "outputs": [],
   "source": [
    "# Function that adds 2 numbers\n",
    "def add_2_num(x,y):\n",
    "    print(x + y)\n",
    "    # Do not forget THIS LINE !!!!!!!!!!\n",
    "    return x + y"
   ]
  },
  {
   "cell_type": "code",
   "execution_count": 32,
   "id": "e9970801",
   "metadata": {},
   "outputs": [
    {
     "name": "stdout",
     "output_type": "stream",
     "text": [
      "12\n"
     ]
    }
   ],
   "source": [
    "add_2_num(10,2)"
   ]
  },
  {
   "cell_type": "code",
   "execution_count": 39,
   "id": "fa1603a8",
   "metadata": {},
   "outputs": [
    {
     "name": "stdout",
     "output_type": "stream",
     "text": [
      "30\n"
     ]
    }
   ],
   "source": [
    "new_variable = add_2_num(10,20)"
   ]
  },
  {
   "cell_type": "code",
   "execution_count": 40,
   "id": "4a3ed189",
   "metadata": {},
   "outputs": [
    {
     "data": {
      "text/plain": [
       "30"
      ]
     },
     "execution_count": 40,
     "metadata": {},
     "output_type": "execute_result"
    }
   ],
   "source": [
    "new_variable"
   ]
  },
  {
   "cell_type": "code",
   "execution_count": 41,
   "id": "79cc1ce1",
   "metadata": {},
   "outputs": [
    {
     "data": {
      "text/plain": [
       "int"
      ]
     },
     "execution_count": 41,
     "metadata": {},
     "output_type": "execute_result"
    }
   ],
   "source": [
    "type(new_variable)"
   ]
  },
  {
   "cell_type": "markdown",
   "id": "a1a0905f",
   "metadata": {},
   "source": [
    "# Note- Very important\n",
    "Please return the values from the functions, otherwise there is no way for you to get the output from the function"
   ]
  },
  {
   "cell_type": "markdown",
   "id": "c2a88938",
   "metadata": {},
   "source": [
    "### Question 3"
   ]
  },
  {
   "cell_type": "markdown",
   "id": "2e19b853",
   "metadata": {},
   "source": [
    "Write a function named no_of_items, that takes a list as an input and returns the number of items in the list as an output.\n",
    "\n",
    "\n",
    "\n",
    "\n",
    "\n",
    "Eg. [1,2,3] as input would give 3 as output."
   ]
  },
  {
   "cell_type": "code",
   "execution_count": null,
   "id": "461d837a",
   "metadata": {},
   "outputs": [],
   "source": []
  },
  {
   "cell_type": "code",
   "execution_count": null,
   "id": "1a7c8deb",
   "metadata": {},
   "outputs": [],
   "source": []
  },
  {
   "cell_type": "code",
   "execution_count": null,
   "id": "bfddfc98",
   "metadata": {},
   "outputs": [],
   "source": []
  },
  {
   "cell_type": "markdown",
   "id": "58b5a446",
   "metadata": {},
   "source": [
    "### Question 14"
   ]
  },
  {
   "cell_type": "markdown",
   "id": "a66f2e83",
   "metadata": {},
   "source": [
    "Write a function named maxintuple, that takes 2 tuples as inputs, and return True, if the maximum value of tuple 1 is greater than or equal to the maximum of tuple 2 and False if the maximum value of tuple 2 is greater than the maximum of tuple 1.\n",
    "\n",
    "\n",
    "\n",
    "maxintuple((1,2,3,4),(1,2,3)) -> True\n",
    "\n",
    "maxintuple((1,2,3),(1,2,3,4)) -> False\n",
    "\n",
    "maxintuple((1,2,3),(1,2,3)) -> True"
   ]
  },
  {
   "cell_type": "code",
   "execution_count": null,
   "id": "dc4da41f",
   "metadata": {},
   "outputs": [],
   "source": []
  },
  {
   "cell_type": "markdown",
   "id": "bd0c88a4",
   "metadata": {},
   "source": [
    "----"
   ]
  },
  {
   "cell_type": "markdown",
   "id": "2b7acaae",
   "metadata": {},
   "source": [
    "# Note:- This is a jupyter thing, do not rely on it !!!!!! Please "
   ]
  },
  {
   "cell_type": "code",
   "execution_count": 42,
   "id": "20cec0c0",
   "metadata": {},
   "outputs": [],
   "source": [
    "def simple_function(x):\n",
    "    square = x ** 2\n",
    "    return square"
   ]
  },
  {
   "cell_type": "code",
   "execution_count": 87,
   "id": "92a337ec",
   "metadata": {},
   "outputs": [
    {
     "data": {
      "text/plain": [
       "4"
      ]
     },
     "execution_count": 87,
     "metadata": {},
     "output_type": "execute_result"
    }
   ],
   "source": [
    "simple_function(2)"
   ]
  },
  {
   "cell_type": "markdown",
   "id": "75fefdc6",
   "metadata": {},
   "source": [
    "### How to slice a list in different ways "
   ]
  },
  {
   "cell_type": "code",
   "execution_count": 47,
   "id": "08bd5101",
   "metadata": {},
   "outputs": [],
   "source": [
    "a = [1,2,3,4,5,7,8,9]"
   ]
  },
  {
   "cell_type": "code",
   "execution_count": 48,
   "id": "0da8af13",
   "metadata": {},
   "outputs": [
    {
     "data": {
      "text/plain": [
       "1"
      ]
     },
     "execution_count": 48,
     "metadata": {},
     "output_type": "execute_result"
    }
   ],
   "source": [
    "a[0]"
   ]
  },
  {
   "cell_type": "code",
   "execution_count": 49,
   "id": "6c318f90",
   "metadata": {},
   "outputs": [
    {
     "data": {
      "text/plain": [
       "9"
      ]
     },
     "execution_count": 49,
     "metadata": {},
     "output_type": "execute_result"
    }
   ],
   "source": [
    "a[-1]"
   ]
  },
  {
   "cell_type": "code",
   "execution_count": 50,
   "id": "5eb03c0e",
   "metadata": {},
   "outputs": [
    {
     "data": {
      "text/plain": [
       "[1, 2, 3]"
      ]
     },
     "execution_count": 50,
     "metadata": {},
     "output_type": "execute_result"
    }
   ],
   "source": [
    "a[0:3]"
   ]
  },
  {
   "cell_type": "code",
   "execution_count": 52,
   "id": "ed1e8621",
   "metadata": {},
   "outputs": [
    {
     "data": {
      "text/plain": [
       "[7, 8]"
      ]
     },
     "execution_count": 52,
     "metadata": {},
     "output_type": "execute_result"
    }
   ],
   "source": [
    "a[-3:-1]"
   ]
  },
  {
   "cell_type": "code",
   "execution_count": 54,
   "id": "ac06b193",
   "metadata": {},
   "outputs": [
    {
     "data": {
      "text/plain": [
       "[2, 3, 4, 5, 7, 8]"
      ]
     },
     "execution_count": 54,
     "metadata": {},
     "output_type": "execute_result"
    }
   ],
   "source": [
    "a[1:7]"
   ]
  },
  {
   "cell_type": "code",
   "execution_count": 55,
   "id": "06b7d153",
   "metadata": {},
   "outputs": [
    {
     "data": {
      "text/plain": [
       "[2, 3, 4, 5, 7, 8, 9]"
      ]
     },
     "execution_count": 55,
     "metadata": {},
     "output_type": "execute_result"
    }
   ],
   "source": [
    "a[1:]"
   ]
  },
  {
   "cell_type": "code",
   "execution_count": 56,
   "id": "53502a66",
   "metadata": {},
   "outputs": [
    {
     "data": {
      "text/plain": [
       "[1, 2, 3, 4, 5]"
      ]
     },
     "execution_count": 56,
     "metadata": {},
     "output_type": "execute_result"
    }
   ],
   "source": [
    "a[:5]"
   ]
  },
  {
   "cell_type": "code",
   "execution_count": 57,
   "id": "df5c7ba0",
   "metadata": {},
   "outputs": [
    {
     "data": {
      "text/plain": [
       "[1, 2, 3, 4, 5, 7, 8, 9]"
      ]
     },
     "execution_count": 57,
     "metadata": {},
     "output_type": "execute_result"
    }
   ],
   "source": [
    "a[::1]"
   ]
  },
  {
   "cell_type": "code",
   "execution_count": 58,
   "id": "a6120190",
   "metadata": {},
   "outputs": [
    {
     "data": {
      "text/plain": [
       "[1, 3, 5, 8]"
      ]
     },
     "execution_count": 58,
     "metadata": {},
     "output_type": "execute_result"
    }
   ],
   "source": [
    "a[::2]"
   ]
  },
  {
   "cell_type": "code",
   "execution_count": 59,
   "id": "c5186db9",
   "metadata": {},
   "outputs": [
    {
     "data": {
      "text/plain": [
       "[1, 4, 8]"
      ]
     },
     "execution_count": 59,
     "metadata": {},
     "output_type": "execute_result"
    }
   ],
   "source": [
    "a[::3]"
   ]
  },
  {
   "cell_type": "code",
   "execution_count": 60,
   "id": "679af1f0",
   "metadata": {},
   "outputs": [
    {
     "data": {
      "text/plain": [
       "[1, 5]"
      ]
     },
     "execution_count": 60,
     "metadata": {},
     "output_type": "execute_result"
    }
   ],
   "source": [
    "a[::4]"
   ]
  },
  {
   "cell_type": "code",
   "execution_count": 61,
   "id": "7906636a",
   "metadata": {},
   "outputs": [
    {
     "data": {
      "text/plain": [
       "[9, 8, 7, 5, 4, 3, 2, 1]"
      ]
     },
     "execution_count": 61,
     "metadata": {},
     "output_type": "execute_result"
    }
   ],
   "source": [
    "a[::-1]"
   ]
  },
  {
   "cell_type": "code",
   "execution_count": 62,
   "id": "26eeba29",
   "metadata": {},
   "outputs": [
    {
     "data": {
      "text/plain": [
       "[9, 7, 4, 2]"
      ]
     },
     "execution_count": 62,
     "metadata": {},
     "output_type": "execute_result"
    }
   ],
   "source": [
    "a[::-2]"
   ]
  },
  {
   "cell_type": "code",
   "execution_count": 63,
   "id": "e6a1f34c",
   "metadata": {},
   "outputs": [
    {
     "data": {
      "text/plain": [
       "[9, 5, 2]"
      ]
     },
     "execution_count": 63,
     "metadata": {},
     "output_type": "execute_result"
    }
   ],
   "source": [
    "a[::-3]"
   ]
  },
  {
   "cell_type": "markdown",
   "id": "35cb5038",
   "metadata": {},
   "source": [
    "### Question 12"
   ]
  },
  {
   "cell_type": "markdown",
   "id": "77ad909f",
   "metadata": {},
   "source": [
    "Write a function named returnevenonly, that takes a list as an input and returns only the even item inside that list.\n",
    "\n",
    "\n",
    "\n",
    "Return list with only even items in the list"
   ]
  },
  {
   "cell_type": "code",
   "execution_count": 70,
   "id": "f3df4b75",
   "metadata": {},
   "outputs": [],
   "source": [
    "a = [9,8,7,6,5,4,3,2,1]"
   ]
  },
  {
   "cell_type": "code",
   "execution_count": 77,
   "id": "8d82969c",
   "metadata": {},
   "outputs": [
    {
     "name": "stdout",
     "output_type": "stream",
     "text": [
      "This is an even loop number\n",
      "8\n",
      "This is an even loop number\n",
      "6\n",
      "This is an even loop number\n",
      "4\n",
      "This is an even loop number\n",
      "2\n"
     ]
    }
   ],
   "source": [
    "count = 0\n",
    "for i in a:\n",
    "#     print(i)\n",
    "    count += 1\n",
    "    print('The loop number is ' + str(count))\n",
    "    if count % 2 == 0:\n",
    "        print('This is an even loop number')\n",
    "        print(i)"
   ]
  },
  {
   "cell_type": "code",
   "execution_count": 88,
   "id": "64d8a3b2",
   "metadata": {},
   "outputs": [],
   "source": [
    "def even(a):\n",
    "    dummy = []\n",
    "    for i in a:\n",
    "        if i%2==0:\n",
    "            dummy.append(i)\n",
    "    print(dummy)"
   ]
  },
  {
   "cell_type": "code",
   "execution_count": 90,
   "id": "fc9bf463",
   "metadata": {},
   "outputs": [
    {
     "name": "stdout",
     "output_type": "stream",
     "text": [
      "[2, 4]\n"
     ]
    }
   ],
   "source": [
    "even([1,2,3,4,5]) "
   ]
  },
  {
   "cell_type": "code",
   "execution_count": null,
   "id": "11a834f5",
   "metadata": {},
   "outputs": [],
   "source": []
  },
  {
   "cell_type": "code",
   "execution_count": 110,
   "id": "8ea2323d",
   "metadata": {},
   "outputs": [],
   "source": [
    "a = [1,2,3]"
   ]
  },
  {
   "cell_type": "code",
   "execution_count": 111,
   "id": "abd78256",
   "metadata": {},
   "outputs": [
    {
     "data": {
      "text/plain": [
       "[1, 2, 3]"
      ]
     },
     "execution_count": 111,
     "metadata": {},
     "output_type": "execute_result"
    }
   ],
   "source": [
    "a"
   ]
  },
  {
   "cell_type": "code",
   "execution_count": 112,
   "id": "4e7a34b5",
   "metadata": {},
   "outputs": [],
   "source": [
    "a.append(99)"
   ]
  },
  {
   "cell_type": "code",
   "execution_count": 113,
   "id": "02cc9b10",
   "metadata": {},
   "outputs": [
    {
     "data": {
      "text/plain": [
       "[1, 2, 3, 99]"
      ]
     },
     "execution_count": 113,
     "metadata": {},
     "output_type": "execute_result"
    }
   ],
   "source": [
    "a"
   ]
  },
  {
   "cell_type": "code",
   "execution_count": 107,
   "id": "82c581de",
   "metadata": {},
   "outputs": [],
   "source": [
    "a = a.append(10)"
   ]
  },
  {
   "cell_type": "code",
   "execution_count": 108,
   "id": "9aeb855e",
   "metadata": {},
   "outputs": [],
   "source": [
    "a"
   ]
  },
  {
   "cell_type": "code",
   "execution_count": 109,
   "id": "3611793d",
   "metadata": {},
   "outputs": [
    {
     "data": {
      "text/plain": [
       "NoneType"
      ]
     },
     "execution_count": 109,
     "metadata": {},
     "output_type": "execute_result"
    }
   ],
   "source": [
    "type(a)"
   ]
  },
  {
   "cell_type": "code",
   "execution_count": 116,
   "id": "3910f40f",
   "metadata": {},
   "outputs": [],
   "source": [
    "b = a[2:5]"
   ]
  },
  {
   "cell_type": "code",
   "execution_count": 117,
   "id": "819b907d",
   "metadata": {},
   "outputs": [
    {
     "data": {
      "text/plain": [
       "[3, 99]"
      ]
     },
     "execution_count": 117,
     "metadata": {},
     "output_type": "execute_result"
    }
   ],
   "source": [
    "b"
   ]
  },
  {
   "cell_type": "code",
   "execution_count": 122,
   "id": "47c9ebfd",
   "metadata": {},
   "outputs": [
    {
     "data": {
      "text/plain": [
       "[]"
      ]
     },
     "execution_count": 122,
     "metadata": {},
     "output_type": "execute_result"
    }
   ],
   "source": [
    "a[2:5]"
   ]
  },
  {
   "cell_type": "code",
   "execution_count": 123,
   "id": "d1215816",
   "metadata": {},
   "outputs": [],
   "source": [
    "a = [1,2,3]"
   ]
  },
  {
   "cell_type": "code",
   "execution_count": 124,
   "id": "ca80b9e7",
   "metadata": {},
   "outputs": [],
   "source": [
    "a = a[2:5]"
   ]
  },
  {
   "cell_type": "code",
   "execution_count": null,
   "id": "5e9cb734",
   "metadata": {},
   "outputs": [],
   "source": []
  },
  {
   "cell_type": "code",
   "execution_count": 139,
   "id": "68fcd0c8",
   "metadata": {},
   "outputs": [],
   "source": [
    "a = [1,2,3]"
   ]
  },
  {
   "cell_type": "code",
   "execution_count": 140,
   "id": "53175eab",
   "metadata": {},
   "outputs": [],
   "source": [
    "a.append({'a':[10,20,30]})"
   ]
  },
  {
   "cell_type": "code",
   "execution_count": 141,
   "id": "ebd77cf4",
   "metadata": {},
   "outputs": [
    {
     "data": {
      "text/plain": [
       "[1, 2, 3, {'a': [10, 20, 30]}]"
      ]
     },
     "execution_count": 141,
     "metadata": {},
     "output_type": "execute_result"
    }
   ],
   "source": [
    "a"
   ]
  }
 ],
 "metadata": {
  "kernelspec": {
   "display_name": "Python 3 (ipykernel)",
   "language": "python",
   "name": "python3"
  },
  "language_info": {
   "codemirror_mode": {
    "name": "ipython",
    "version": 3
   },
   "file_extension": ".py",
   "mimetype": "text/x-python",
   "name": "python",
   "nbconvert_exporter": "python",
   "pygments_lexer": "ipython3",
   "version": "3.9.12"
  }
 },
 "nbformat": 4,
 "nbformat_minor": 5
}
