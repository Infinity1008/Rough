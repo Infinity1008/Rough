{
 "cells": [
  {
   "cell_type": "markdown",
   "id": "8c8574f8",
   "metadata": {},
   "source": [
    "<h1><center>Python</center></h1>\n",
    "\n",
    "![](https://media1.giphy.com/media/KAq5w47R9rmTuvWOWa/giphy.gif)"
   ]
  },
  {
   "cell_type": "markdown",
   "id": "2da1d6f6",
   "metadata": {},
   "source": [
    "# Loops\n",
    "# Interview questions\n",
    "- Descriptive Statistics (If we have time)"
   ]
  },
  {
   "cell_type": "markdown",
   "id": "6401e7e3",
   "metadata": {},
   "source": [
    "# Loops\n",
    "- For loop\n",
    "- While "
   ]
  },
  {
   "cell_type": "code",
   "execution_count": 63,
   "id": "a8bfc2ab",
   "metadata": {},
   "outputs": [],
   "source": [
    "# For loop\n",
    "a = [10,20,30]"
   ]
  },
  {
   "cell_type": "code",
   "execution_count": 64,
   "id": "7c0d245b",
   "metadata": {},
   "outputs": [
    {
     "data": {
      "text/plain": [
       "[10, 20, 30]"
      ]
     },
     "execution_count": 64,
     "metadata": {},
     "output_type": "execute_result"
    }
   ],
   "source": [
    "a\n"
   ]
  },
  {
   "cell_type": "code",
   "execution_count": 65,
   "id": "883f2a10",
   "metadata": {},
   "outputs": [
    {
     "data": {
      "text/plain": [
       "list"
      ]
     },
     "execution_count": 65,
     "metadata": {},
     "output_type": "execute_result"
    }
   ],
   "source": [
    "type(a)"
   ]
  },
  {
   "cell_type": "code",
   "execution_count": 66,
   "id": "5b7f93e3",
   "metadata": {},
   "outputs": [
    {
     "name": "stdout",
     "output_type": "stream",
     "text": [
      "10\n",
      "This is end of a loop\n",
      "20\n",
      "This is end of a loop\n",
      "30\n",
      "This is end of a loop\n"
     ]
    }
   ],
   "source": [
    "for i in a:\n",
    "    print(i)\n",
    "    print(\"This is end of a loop\")"
   ]
  },
  {
   "cell_type": "code",
   "execution_count": 67,
   "id": "0c03a59a",
   "metadata": {},
   "outputs": [
    {
     "name": "stdout",
     "output_type": "stream",
     "text": [
      "20\n",
      "This is end of a loop\n",
      "30\n",
      "This is end of a loop\n",
      "40\n",
      "This is end of a loop\n"
     ]
    }
   ],
   "source": [
    "for i in a:\n",
    "    print(i + 10)\n",
    "    print(\"This is end of a loop\")"
   ]
  },
  {
   "cell_type": "code",
   "execution_count": 68,
   "id": "d8eb3740",
   "metadata": {},
   "outputs": [],
   "source": [
    "b = ['This', 10, 10.1, True, (1,2,3)]"
   ]
  },
  {
   "cell_type": "code",
   "execution_count": 69,
   "id": "8fde4c2d",
   "metadata": {},
   "outputs": [
    {
     "name": "stdout",
     "output_type": "stream",
     "text": [
      "<class 'str'>\n",
      "This is the end of a loop\n",
      "<class 'int'>\n",
      "This is the end of a loop\n",
      "<class 'float'>\n",
      "This is the end of a loop\n",
      "<class 'bool'>\n",
      "This is the end of a loop\n",
      "<class 'tuple'>\n",
      "This is the end of a loop\n"
     ]
    }
   ],
   "source": [
    "for i in b:\n",
    "    print(type(i))\n",
    "    print('This is the end of a loop')"
   ]
  },
  {
   "cell_type": "code",
   "execution_count": 70,
   "id": "5eca3c5e",
   "metadata": {},
   "outputs": [],
   "source": [
    "c = [(1,2,3)]"
   ]
  },
  {
   "cell_type": "code",
   "execution_count": 71,
   "id": "5257bdcb",
   "metadata": {},
   "outputs": [
    {
     "name": "stdout",
     "output_type": "stream",
     "text": [
      "<class 'tuple'>\n"
     ]
    }
   ],
   "source": [
    "for i in c:\n",
    "    print(type(i))"
   ]
  },
  {
   "cell_type": "code",
   "execution_count": 72,
   "id": "b64c2454",
   "metadata": {},
   "outputs": [
    {
     "name": "stdout",
     "output_type": "stream",
     "text": [
      "This is the initial Loop\n",
      "(1, 2, 3)\n",
      "<class 'tuple'>\n"
     ]
    }
   ],
   "source": [
    "# What will be the output\n",
    "for i in c:\n",
    "    print('This is the initial Loop')\n",
    "    print(i)\n",
    "    print(type(i))"
   ]
  },
  {
   "cell_type": "code",
   "execution_count": 73,
   "id": "b8d202a5",
   "metadata": {},
   "outputs": [
    {
     "name": "stdout",
     "output_type": "stream",
     "text": [
      "1\n",
      "This is the internal Loop\n",
      "2\n",
      "This is the internal Loop\n",
      "3\n",
      "This is the internal Loop\n"
     ]
    }
   ],
   "source": [
    "for j in (1,2,3):\n",
    "    print(j)\n",
    "    print('This is the internal Loop')"
   ]
  },
  {
   "cell_type": "code",
   "execution_count": 74,
   "id": "2fbb38ca",
   "metadata": {},
   "outputs": [
    {
     "name": "stdout",
     "output_type": "stream",
     "text": [
      "This is the initial Loop\n",
      "---------------------------------\n",
      "1\n",
      "2\n",
      "3\n",
      "This is the internal Loop\n",
      "---------------------------------\n",
      "Done\n"
     ]
    }
   ],
   "source": [
    "for i in c:\n",
    "    print('This is the initial Loop')\n",
    "    print('---------------------------------')\n",
    "    for j in i:\n",
    "        print(j)\n",
    "    print('This is the internal Loop')\n",
    "    print('---------------------------------')\n",
    "    \n",
    "    print('Done')"
   ]
  },
  {
   "cell_type": "markdown",
   "id": "9e11f4ed",
   "metadata": {},
   "source": [
    "# Fun part"
   ]
  },
  {
   "cell_type": "code",
   "execution_count": 75,
   "id": "efba2a98",
   "metadata": {},
   "outputs": [
    {
     "name": "stdout",
     "output_type": "stream",
     "text": [
      "0\n",
      "0\n",
      "0\n",
      "1\n",
      "0\n",
      "2\n",
      "1\n",
      "0\n",
      "1\n",
      "1\n",
      "1\n",
      "2\n",
      "2\n",
      "0\n",
      "2\n",
      "1\n",
      "2\n",
      "2\n",
      "3\n",
      "0\n",
      "3\n",
      "1\n",
      "3\n",
      "2\n",
      "4\n",
      "0\n",
      "4\n",
      "1\n",
      "4\n",
      "2\n"
     ]
    }
   ],
   "source": [
    "for i in range(5):\n",
    "    for j in range(3):\n",
    "        print(i)\n",
    "        print(j)"
   ]
  },
  {
   "cell_type": "code",
   "execution_count": 76,
   "id": "5a7e237d",
   "metadata": {},
   "outputs": [
    {
     "name": "stdout",
     "output_type": "stream",
     "text": [
      "0\n",
      "1\n",
      "2\n",
      "3\n",
      "4\n"
     ]
    }
   ],
   "source": [
    "# Let's break it down\n",
    "for i in range(5):\n",
    "    print(i)"
   ]
  },
  {
   "cell_type": "code",
   "execution_count": 77,
   "id": "2dff3ff9",
   "metadata": {},
   "outputs": [
    {
     "name": "stdout",
     "output_type": "stream",
     "text": [
      "10\n",
      "11\n",
      "12\n"
     ]
    }
   ],
   "source": [
    "# Let's break it down\n",
    "for i in range(10,13):\n",
    "    print(i)"
   ]
  },
  {
   "cell_type": "code",
   "execution_count": 78,
   "id": "fb7fa5d8",
   "metadata": {},
   "outputs": [
    {
     "name": "stdout",
     "output_type": "stream",
     "text": [
      "This is the start of outer loop\n",
      "This is the start of inner loop\n",
      "0\n",
      "10\n",
      "This is the end of inner loop\n",
      "------------------------------\n",
      "This is the start of inner loop\n",
      "0\n",
      "11\n",
      "This is the end of inner loop\n",
      "------------------------------\n",
      "This is the start of inner loop\n",
      "0\n",
      "12\n",
      "This is the end of inner loop\n",
      "------------------------------\n",
      "This is the end of outer loop\n",
      "This is the start of outer loop\n",
      "This is the start of inner loop\n",
      "1\n",
      "10\n",
      "This is the end of inner loop\n",
      "------------------------------\n",
      "This is the start of inner loop\n",
      "1\n",
      "11\n",
      "This is the end of inner loop\n",
      "------------------------------\n",
      "This is the start of inner loop\n",
      "1\n",
      "12\n",
      "This is the end of inner loop\n",
      "------------------------------\n",
      "This is the end of outer loop\n",
      "This is the start of outer loop\n",
      "This is the start of inner loop\n",
      "2\n",
      "10\n",
      "This is the end of inner loop\n",
      "------------------------------\n",
      "This is the start of inner loop\n",
      "2\n",
      "11\n",
      "This is the end of inner loop\n",
      "------------------------------\n",
      "This is the start of inner loop\n",
      "2\n",
      "12\n",
      "This is the end of inner loop\n",
      "------------------------------\n",
      "This is the end of outer loop\n",
      "This is the start of outer loop\n",
      "This is the start of inner loop\n",
      "3\n",
      "10\n",
      "This is the end of inner loop\n",
      "------------------------------\n",
      "This is the start of inner loop\n",
      "3\n",
      "11\n",
      "This is the end of inner loop\n",
      "------------------------------\n",
      "This is the start of inner loop\n",
      "3\n",
      "12\n",
      "This is the end of inner loop\n",
      "------------------------------\n",
      "This is the end of outer loop\n",
      "This is the start of outer loop\n",
      "This is the start of inner loop\n",
      "4\n",
      "10\n",
      "This is the end of inner loop\n",
      "------------------------------\n",
      "This is the start of inner loop\n",
      "4\n",
      "11\n",
      "This is the end of inner loop\n",
      "------------------------------\n",
      "This is the start of inner loop\n",
      "4\n",
      "12\n",
      "This is the end of inner loop\n",
      "------------------------------\n",
      "This is the end of outer loop\n"
     ]
    }
   ],
   "source": [
    "for i in range(5):\n",
    "    print('This is the start of outer loop')\n",
    "    for j in range(10,13):\n",
    "        print('This is the start of inner loop')\n",
    "        print(i)\n",
    "        print(j)\n",
    "        print('This is the end of inner loop')\n",
    "        print('------------------------------')\n",
    "                \n",
    "    print('This is the end of outer loop')"
   ]
  },
  {
   "cell_type": "markdown",
   "id": "b702e768",
   "metadata": {},
   "source": [
    "# If-else with for loops"
   ]
  },
  {
   "cell_type": "code",
   "execution_count": 79,
   "id": "89945b70",
   "metadata": {},
   "outputs": [
    {
     "name": "stdout",
     "output_type": "stream",
     "text": [
      "6\n",
      "7\n",
      "8\n",
      "9\n"
     ]
    }
   ],
   "source": [
    "for i in range(10):\n",
    "    if i > 5:\n",
    "        print(i)"
   ]
  },
  {
   "cell_type": "code",
   "execution_count": 80,
   "id": "8d44cf44",
   "metadata": {},
   "outputs": [
    {
     "name": "stdout",
     "output_type": "stream",
     "text": [
      "53\n",
      "54\n",
      "53\n",
      "54\n",
      "53\n",
      "54\n",
      "53\n",
      "54\n",
      "53\n",
      "54\n"
     ]
    }
   ],
   "source": [
    "for i in range(5):\n",
    "    for j in range(50,55):\n",
    "        if j > 52:\n",
    "            print(j)\n"
   ]
  },
  {
   "cell_type": "code",
   "execution_count": 81,
   "id": "55e388eb",
   "metadata": {},
   "outputs": [
    {
     "name": "stdout",
     "output_type": "stream",
     "text": [
      "53\n",
      "54\n"
     ]
    }
   ],
   "source": [
    "for j in range(50,55):\n",
    "    if j > 52:\n",
    "        print(j)"
   ]
  },
  {
   "cell_type": "code",
   "execution_count": 82,
   "id": "7886e399",
   "metadata": {},
   "outputs": [
    {
     "name": "stdout",
     "output_type": "stream",
     "text": [
      "hello\n",
      "hello\n",
      "hello\n",
      "hello\n",
      "hello\n"
     ]
    }
   ],
   "source": [
    "for i in range(5):\n",
    "    print('hello')"
   ]
  },
  {
   "cell_type": "code",
   "execution_count": 83,
   "id": "35fce06e",
   "metadata": {},
   "outputs": [],
   "source": [
    "a = ['b','c','d','e']"
   ]
  },
  {
   "cell_type": "code",
   "execution_count": 84,
   "id": "54487f21",
   "metadata": {},
   "outputs": [
    {
     "name": "stdout",
     "output_type": "stream",
     "text": [
      "Hello\n",
      "b\n",
      "Hello\n",
      "c\n",
      "Hello\n",
      "d\n",
      "Hello\n",
      "e\n"
     ]
    }
   ],
   "source": [
    "for i in a:\n",
    "    print('Hello')\n",
    "    print(i)"
   ]
  },
  {
   "cell_type": "markdown",
   "id": "44efe0cc",
   "metadata": {},
   "source": [
    "# While loops"
   ]
  },
  {
   "cell_type": "code",
   "execution_count": 85,
   "id": "a34d4261",
   "metadata": {},
   "outputs": [],
   "source": [
    "# Standard template\n",
    "# while condition:\n",
    "#     you write your code here"
   ]
  },
  {
   "cell_type": "code",
   "execution_count": 86,
   "id": "706962ff",
   "metadata": {},
   "outputs": [],
   "source": [
    "a = 10"
   ]
  },
  {
   "cell_type": "code",
   "execution_count": 87,
   "id": "e8375219",
   "metadata": {},
   "outputs": [],
   "source": [
    "# They tend to go into infinite loops\n",
    "# while a < 15:\n",
    "#     print('Hello')"
   ]
  },
  {
   "cell_type": "code",
   "execution_count": 88,
   "id": "175ebbd9",
   "metadata": {},
   "outputs": [],
   "source": [
    "a += 1"
   ]
  },
  {
   "cell_type": "code",
   "execution_count": 89,
   "id": "fe06dff3",
   "metadata": {},
   "outputs": [
    {
     "data": {
      "text/plain": [
       "11"
      ]
     },
     "execution_count": 89,
     "metadata": {},
     "output_type": "execute_result"
    }
   ],
   "source": [
    "a"
   ]
  },
  {
   "cell_type": "code",
   "execution_count": 90,
   "id": "944c26e0",
   "metadata": {},
   "outputs": [
    {
     "name": "stdout",
     "output_type": "stream",
     "text": [
      "Hello\n",
      "Hello\n",
      "Hello\n",
      "Hello\n",
      "Hello\n"
     ]
    }
   ],
   "source": [
    "a = 10\n",
    "while a < 15:\n",
    "    print('Hello')\n",
    "    a +=1"
   ]
  },
  {
   "cell_type": "code",
   "execution_count": 91,
   "id": "6cb9c0a5",
   "metadata": {},
   "outputs": [
    {
     "name": "stdout",
     "output_type": "stream",
     "text": [
      "11\n",
      "Hello\n",
      "12\n",
      "Hello\n",
      "13\n",
      "14\n",
      "15\n"
     ]
    }
   ],
   "source": [
    "a = 10\n",
    "while a < 15:\n",
    "    a +=1\n",
    "    print(a)\n",
    "    if a < 13:\n",
    "        print('Hello')"
   ]
  },
  {
   "cell_type": "markdown",
   "id": "960a4d0c",
   "metadata": {},
   "source": [
    "# Interview Questions"
   ]
  },
  {
   "cell_type": "code",
   "execution_count": 92,
   "id": "e2d86318",
   "metadata": {},
   "outputs": [],
   "source": [
    "a = \"hello world, how are you doing\""
   ]
  },
  {
   "cell_type": "code",
   "execution_count": 93,
   "id": "4ac1db44",
   "metadata": {},
   "outputs": [
    {
     "name": "stdout",
     "output_type": "stream",
     "text": [
      "h\n",
      "e\n",
      "l\n",
      "l\n",
      "o\n",
      " \n",
      "w\n",
      "o\n",
      "r\n",
      "l\n",
      "d\n",
      ",\n",
      " \n",
      "h\n",
      "o\n",
      "w\n",
      " \n",
      "a\n",
      "r\n",
      "e\n",
      " \n",
      "y\n",
      "o\n",
      "u\n",
      " \n",
      "d\n",
      "o\n",
      "i\n",
      "n\n",
      "g\n"
     ]
    }
   ],
   "source": [
    "counter = 0\n",
    "for i in a:\n",
    "    print(i)\n",
    "    if i == 'h':\n",
    "        counter +=1"
   ]
  },
  {
   "cell_type": "code",
   "execution_count": 94,
   "id": "42dc6ec2",
   "metadata": {},
   "outputs": [
    {
     "data": {
      "text/plain": [
       "2"
      ]
     },
     "execution_count": 94,
     "metadata": {},
     "output_type": "execute_result"
    }
   ],
   "source": [
    "counter"
   ]
  },
  {
   "cell_type": "code",
   "execution_count": 95,
   "id": "2033ba73",
   "metadata": {},
   "outputs": [
    {
     "data": {
      "text/plain": [
       "{' ', 'd', 'e', 'h', 'l', 'o', 'r', 'w'}"
      ]
     },
     "execution_count": 95,
     "metadata": {},
     "output_type": "execute_result"
    }
   ],
   "source": [
    "a = \"hello world\"\n",
    "set(a)"
   ]
  },
  {
   "cell_type": "code",
   "execution_count": 96,
   "id": "a83a4d11",
   "metadata": {},
   "outputs": [
    {
     "data": {
      "text/plain": [
       "1"
      ]
     },
     "execution_count": 96,
     "metadata": {},
     "output_type": "execute_result"
    }
   ],
   "source": [
    "a.count('h')\n"
   ]
  },
  {
   "cell_type": "code",
   "execution_count": 97,
   "id": "26d72a2e",
   "metadata": {},
   "outputs": [],
   "source": [
    "a = \"hello world, how are you doing\""
   ]
  },
  {
   "cell_type": "code",
   "execution_count": 98,
   "id": "64480400",
   "metadata": {},
   "outputs": [
    {
     "data": {
      "text/plain": [
       "5"
      ]
     },
     "execution_count": 98,
     "metadata": {},
     "output_type": "execute_result"
    }
   ],
   "source": [
    "a.count('o')"
   ]
  },
  {
   "cell_type": "code",
   "execution_count": 99,
   "id": "961ae468",
   "metadata": {},
   "outputs": [
    {
     "data": {
      "text/plain": [
       "{' ', ',', 'a', 'd', 'e', 'g', 'h', 'i', 'l', 'n', 'o', 'r', 'u', 'w', 'y'}"
      ]
     },
     "execution_count": 99,
     "metadata": {},
     "output_type": "execute_result"
    }
   ],
   "source": [
    "set(a)"
   ]
  },
  {
   "cell_type": "code",
   "execution_count": 100,
   "id": "2ede9480",
   "metadata": {},
   "outputs": [],
   "source": [
    "set_a = set(a)"
   ]
  },
  {
   "cell_type": "code",
   "execution_count": 101,
   "id": "505931d5",
   "metadata": {},
   "outputs": [
    {
     "data": {
      "text/plain": [
       "{' ', ',', 'a', 'd', 'e', 'g', 'h', 'i', 'l', 'n', 'o', 'r', 'u', 'w', 'y'}"
      ]
     },
     "execution_count": 101,
     "metadata": {},
     "output_type": "execute_result"
    }
   ],
   "source": [
    "set_a"
   ]
  },
  {
   "cell_type": "code",
   "execution_count": 102,
   "id": "d184145a",
   "metadata": {},
   "outputs": [
    {
     "name": "stdout",
     "output_type": "stream",
     "text": [
      "u 1\n",
      "o 5\n",
      "d 2\n",
      "a 1\n",
      "i 1\n",
      "e 2\n",
      "y 1\n",
      "  5\n",
      "l 3\n",
      "w 2\n",
      ", 1\n",
      "n 1\n",
      "g 1\n",
      "h 2\n",
      "r 2\n"
     ]
    }
   ],
   "source": [
    "for i in set(a):\n",
    "    print(i, a.count(i))"
   ]
  },
  {
   "cell_type": "code",
   "execution_count": 104,
   "id": "a59227c4",
   "metadata": {},
   "outputs": [
    {
     "ename": "NameError",
     "evalue": "name 'z' is not defined",
     "output_type": "error",
     "traceback": [
      "\u001b[0;31m---------------------------------------------------------------------------\u001b[0m",
      "\u001b[0;31mNameError\u001b[0m                                 Traceback (most recent call last)",
      "\u001b[0;32m/var/folders/qm/dbhwkv990ggf8k64763bvn1w0000gn/T/ipykernel_43338/139578720.py\u001b[0m in \u001b[0;36m<module>\u001b[0;34m\u001b[0m\n\u001b[0;32m----> 1\u001b[0;31m \u001b[0;32mfor\u001b[0m \u001b[0mi\u001b[0m \u001b[0;32min\u001b[0m \u001b[0;34m[\u001b[0m\u001b[0ma\u001b[0m\u001b[0;34m-\u001b[0m\u001b[0mz\u001b[0m\u001b[0;34m]\u001b[0m\u001b[0;34m:\u001b[0m\u001b[0;34m\u001b[0m\u001b[0;34m\u001b[0m\u001b[0m\n\u001b[0m\u001b[1;32m      2\u001b[0m     \u001b[0mprint\u001b[0m\u001b[0;34m(\u001b[0m\u001b[0mi\u001b[0m\u001b[0;34m)\u001b[0m\u001b[0;34m\u001b[0m\u001b[0;34m\u001b[0m\u001b[0m\n",
      "\u001b[0;31mNameError\u001b[0m: name 'z' is not defined"
     ]
    }
   ],
   "source": [
    "for i in [a-z]:\n",
    "    print(i)"
   ]
  },
  {
   "cell_type": "code",
   "execution_count": 105,
   "id": "6e6e98a2",
   "metadata": {},
   "outputs": [],
   "source": [
    "import string"
   ]
  },
  {
   "cell_type": "code",
   "execution_count": 107,
   "id": "fb3b4cf1",
   "metadata": {},
   "outputs": [
    {
     "data": {
      "text/plain": [
       "'abcdefghijklmnopqrstuvwxyz'"
      ]
     },
     "execution_count": 107,
     "metadata": {},
     "output_type": "execute_result"
    }
   ],
   "source": [
    "string.ascii_lowercase"
   ]
  },
  {
   "cell_type": "code",
   "execution_count": 108,
   "id": "456fe5e2",
   "metadata": {},
   "outputs": [
    {
     "data": {
      "text/plain": [
       "'ABCDEFGHIJKLMNOPQRSTUVWXYZ'"
      ]
     },
     "execution_count": 108,
     "metadata": {},
     "output_type": "execute_result"
    }
   ],
   "source": [
    "string.ascii_uppercase"
   ]
  },
  {
   "cell_type": "code",
   "execution_count": 109,
   "id": "35880f5d",
   "metadata": {},
   "outputs": [
    {
     "data": {
      "text/plain": [
       "'abcdefghijklmnopqrstuvwxyzABCDEFGHIJKLMNOPQRSTUVWXYZ'"
      ]
     },
     "execution_count": 109,
     "metadata": {},
     "output_type": "execute_result"
    }
   ],
   "source": [
    "string.ascii_letters"
   ]
  },
  {
   "cell_type": "code",
   "execution_count": 111,
   "id": "375a9104",
   "metadata": {},
   "outputs": [
    {
     "name": "stdout",
     "output_type": "stream",
     "text": [
      "a 1\n",
      "b 0\n",
      "c 0\n",
      "d 2\n",
      "e 2\n",
      "f 0\n",
      "g 1\n",
      "h 2\n",
      "i 1\n",
      "j 0\n",
      "k 0\n",
      "l 3\n",
      "m 0\n",
      "n 1\n",
      "o 5\n",
      "p 0\n",
      "q 0\n",
      "r 2\n",
      "s 0\n",
      "t 0\n",
      "u 1\n",
      "v 0\n",
      "w 2\n",
      "x 0\n",
      "y 1\n",
      "z 0\n"
     ]
    }
   ],
   "source": [
    "for i in string.ascii_lowercase:\n",
    "    print(i, a.count(i))"
   ]
  },
  {
   "cell_type": "code",
   "execution_count": null,
   "id": "fa10fde5",
   "metadata": {},
   "outputs": [],
   "source": [
    "def myfunc(x):\n",
    "    print(x)"
   ]
  },
  {
   "cell_type": "code",
   "execution_count": null,
   "id": "1220fa78",
   "metadata": {},
   "outputs": [],
   "source": []
  },
  {
   "cell_type": "code",
   "execution_count": null,
   "id": "afd3bb2e",
   "metadata": {},
   "outputs": [],
   "source": []
  },
  {
   "cell_type": "code",
   "execution_count": null,
   "id": "a9e96b1c",
   "metadata": {},
   "outputs": [],
   "source": []
  },
  {
   "cell_type": "code",
   "execution_count": null,
   "id": "c4b221ed",
   "metadata": {},
   "outputs": [],
   "source": []
  }
 ],
 "metadata": {
  "kernelspec": {
   "display_name": "Python 3 (ipykernel)",
   "language": "python",
   "name": "python3"
  },
  "language_info": {
   "codemirror_mode": {
    "name": "ipython",
    "version": 3
   },
   "file_extension": ".py",
   "mimetype": "text/x-python",
   "name": "python",
   "nbconvert_exporter": "python",
   "pygments_lexer": "ipython3",
   "version": "3.7.15"
  }
 },
 "nbformat": 4,
 "nbformat_minor": 5
}
