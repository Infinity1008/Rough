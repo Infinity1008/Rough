{
 "cells": [
  {
   "cell_type": "markdown",
   "id": "db995b8f-8ca0-457c-b1cf-1b6266127240",
   "metadata": {},
   "source": [
    "# Rapids "
   ]
  },
  {
   "cell_type": "code",
   "execution_count": null,
   "id": "f9dde2d9-90e3-4c01-a6a0-8da7cfbbfbe3",
   "metadata": {},
   "outputs": [],
   "source": []
  }
 ],
 "metadata": {
  "kernelspec": {
   "display_name": "Python 3 (ipykernel)",
   "language": "python",
   "name": "python3"
  },
  "language_info": {
   "codemirror_mode": {
    "name": "ipython",
    "version": 3
   },
   "file_extension": ".py",
   "mimetype": "text/x-python",
   "name": "python",
   "nbconvert_exporter": "python",
   "pygments_lexer": "ipython3",
   "version": "3.10.12"
  }
 },
 "nbformat": 4,
 "nbformat_minor": 5
}
