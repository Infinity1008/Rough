{
 "cells": [
  {
   "cell_type": "markdown",
   "id": "b199a560",
   "metadata": {},
   "source": [
    "## Practice Questions"
   ]
  },
  {
   "cell_type": "markdown",
   "id": "dc41af54",
   "metadata": {},
   "source": [
    "### Question 1\n",
    "Python program to interchange first and last elements in a list\n",
    "\n",
    "### Question 2\n",
    "Check if element exists in list in Python\n",
    "\n",
    "### Question 3\n",
    "Reverse words in a given String in Python\n",
    "\n",
    "### Question 4\n",
    "Python | Check if a Substring is Present in a Given String\n",
    "\n",
    "### Question 5\n",
    "Python program to print even length words in a string\n",
    "\n",
    "### Question 6\n",
    "Python | Merging two Dictionaries\n",
    "\n",
    "### Question 7\n",
    "Python | Merging two Dictionaries\n"
   ]
  },
  {
   "cell_type": "code",
   "execution_count": null,
   "id": "3d02e68d",
   "metadata": {},
   "outputs": [],
   "source": []
  },
  {
   "cell_type": "code",
   "execution_count": null,
   "id": "31f21ba8",
   "metadata": {},
   "outputs": [],
   "source": []
  },
  {
   "cell_type": "code",
   "execution_count": null,
   "id": "4fd86971",
   "metadata": {},
   "outputs": [],
   "source": []
  }
 ],
 "metadata": {
  "kernelspec": {
   "display_name": "Python 3 (ipykernel)",
   "language": "python",
   "name": "python3"
  },
  "language_info": {
   "codemirror_mode": {
    "name": "ipython",
    "version": 3
   },
   "file_extension": ".py",
   "mimetype": "text/x-python",
   "name": "python",
   "nbconvert_exporter": "python",
   "pygments_lexer": "ipython3",
   "version": "3.7.11"
  }
 },
 "nbformat": 4,
 "nbformat_minor": 5
}
