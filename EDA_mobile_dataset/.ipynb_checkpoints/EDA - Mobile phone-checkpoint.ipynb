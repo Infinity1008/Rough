{
 "cells": [
  {
   "cell_type": "markdown",
   "id": "59d1e3a0",
   "metadata": {},
   "source": [
    "<h1><center>Pandas & Numpy Mini Project</center></h1>\n",
    "\n",
    "\n",
    "## About Dataset\n",
    "\n",
    "- The dataset is in a table named \"Mobile\" inside a database file that you will need to load.\n",
    "- This Dataset is about information on smartphones, and feature phone available in the Indian market.\n",
    "- The Dataset is having 5 columns -> model name, price, ratings, reviews, and specifications.\n",
    "\n",
    "Do not confuse the duplicated values in the name and the price columns, because for the same model there are the same phones available with different color options like Google pixel 6pro. It is available in 2-3 color options but the price remains the same.\n",
    "\n",
    "## You are to perform these things on the dataset. \n",
    "- Data cleaning\n",
    "- Feature engineering\n",
    "- Data Visualisation \n",
    "\n",
    "The objective of this project is to see what insights you can extract out of this dataset \n",
    "\n",
    "## Some hints on what can be done\n",
    "- Which phone model sold the most units\n",
    "- Which color was the most common\n",
    "- What ram was the most common\n",
    "- Which company sold the most phones\n",
    "- Which company had the highest average rating for their phones\n",
    "\n",
    "These are just some of the examples of things you can uncover with this dataset. Feel free to get creative with your code and see what all insights you can extract from this dataset. Best of luck"
   ]
  },
  {
   "cell_type": "code",
   "execution_count": 1,
   "id": "42e173d9",
   "metadata": {},
   "outputs": [],
   "source": [
    "import pandas as pd"
   ]
  },
  {
   "cell_type": "code",
   "execution_count": null,
   "id": "b73f24fd",
   "metadata": {},
   "outputs": [],
   "source": []
  },
  {
   "cell_type": "code",
   "execution_count": null,
   "id": "02d79532",
   "metadata": {},
   "outputs": [],
   "source": []
  },
  {
   "cell_type": "code",
   "execution_count": null,
   "id": "ce650286",
   "metadata": {},
   "outputs": [],
   "source": []
  },
  {
   "cell_type": "code",
   "execution_count": null,
   "id": "aa2de30e",
   "metadata": {},
   "outputs": [],
   "source": []
  }
 ],
 "metadata": {
  "kernelspec": {
   "display_name": "Python 3 (ipykernel)",
   "language": "python",
   "name": "python3"
  },
  "language_info": {
   "codemirror_mode": {
    "name": "ipython",
    "version": 3
   },
   "file_extension": ".py",
   "mimetype": "text/x-python",
   "name": "python",
   "nbconvert_exporter": "python",
   "pygments_lexer": "ipython3",
   "version": "3.7.15"
  }
 },
 "nbformat": 4,
 "nbformat_minor": 5
}
