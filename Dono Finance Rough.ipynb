{
 "cells": [
  {
   "cell_type": "markdown",
   "id": "cd802ae2",
   "metadata": {},
   "source": [
    "<center><h1>Expected shortfall</h1></center>\n",
    "\n"
   ]
  },
  {
   "cell_type": "code",
   "execution_count": 1,
   "id": "6f8b06eb",
   "metadata": {},
   "outputs": [],
   "source": [
    "import pandas as pd"
   ]
  },
  {
   "cell_type": "code",
   "execution_count": 2,
   "id": "4b5dd97e",
   "metadata": {},
   "outputs": [],
   "source": [
    "df = pd.read_csv('Expected_shortfall_data.csv')"
   ]
  },
  {
   "cell_type": "code",
   "execution_count": 3,
   "id": "5bb8c06b",
   "metadata": {},
   "outputs": [
    {
     "data": {
      "text/html": [
       "<div>\n",
       "<style scoped>\n",
       "    .dataframe tbody tr th:only-of-type {\n",
       "        vertical-align: middle;\n",
       "    }\n",
       "\n",
       "    .dataframe tbody tr th {\n",
       "        vertical-align: top;\n",
       "    }\n",
       "\n",
       "    .dataframe thead th {\n",
       "        text-align: right;\n",
       "    }\n",
       "</style>\n",
       "<table border=\"1\" class=\"dataframe\">\n",
       "  <thead>\n",
       "    <tr style=\"text-align: right;\">\n",
       "      <th></th>\n",
       "      <th>Obs</th>\n",
       "      <th>Loss data</th>\n",
       "      <th>Loss data (ascending order)</th>\n",
       "      <th>Ranking</th>\n",
       "    </tr>\n",
       "  </thead>\n",
       "  <tbody>\n",
       "    <tr>\n",
       "      <th>0</th>\n",
       "      <td>1</td>\n",
       "      <td>8000</td>\n",
       "      <td>-17715</td>\n",
       "      <td>1</td>\n",
       "    </tr>\n",
       "    <tr>\n",
       "      <th>1</th>\n",
       "      <td>2</td>\n",
       "      <td>-5429</td>\n",
       "      <td>-14116</td>\n",
       "      <td>2</td>\n",
       "    </tr>\n",
       "    <tr>\n",
       "      <th>2</th>\n",
       "      <td>3</td>\n",
       "      <td>1086</td>\n",
       "      <td>-10682</td>\n",
       "      <td>3</td>\n",
       "    </tr>\n",
       "    <tr>\n",
       "      <th>3</th>\n",
       "      <td>4</td>\n",
       "      <td>7601</td>\n",
       "      <td>-9275</td>\n",
       "      <td>4</td>\n",
       "    </tr>\n",
       "    <tr>\n",
       "      <th>4</th>\n",
       "      <td>5</td>\n",
       "      <td>-14116</td>\n",
       "      <td>-9122</td>\n",
       "      <td>5</td>\n",
       "    </tr>\n",
       "    <tr>\n",
       "      <th>...</th>\n",
       "      <td>...</td>\n",
       "      <td>...</td>\n",
       "      <td>...</td>\n",
       "      <td>...</td>\n",
       "    </tr>\n",
       "    <tr>\n",
       "      <th>95</th>\n",
       "      <td>96</td>\n",
       "      <td>258</td>\n",
       "      <td>8686</td>\n",
       "      <td>96</td>\n",
       "    </tr>\n",
       "    <tr>\n",
       "      <th>96</th>\n",
       "      <td>97</td>\n",
       "      <td>1134</td>\n",
       "      <td>8780</td>\n",
       "      <td>97</td>\n",
       "    </tr>\n",
       "    <tr>\n",
       "      <th>97</th>\n",
       "      <td>98</td>\n",
       "      <td>1673</td>\n",
       "      <td>8809</td>\n",
       "      <td>98</td>\n",
       "    </tr>\n",
       "    <tr>\n",
       "      <th>98</th>\n",
       "      <td>99</td>\n",
       "      <td>-7440</td>\n",
       "      <td>12088</td>\n",
       "      <td>99</td>\n",
       "    </tr>\n",
       "    <tr>\n",
       "      <th>99</th>\n",
       "      <td>100</td>\n",
       "      <td>-5040</td>\n",
       "      <td>13495</td>\n",
       "      <td>100</td>\n",
       "    </tr>\n",
       "  </tbody>\n",
       "</table>\n",
       "<p>100 rows × 4 columns</p>\n",
       "</div>"
      ],
      "text/plain": [
       "    Obs  Loss data   Loss data (ascending order)  Ranking\n",
       "0     1        8000                       -17715        1\n",
       "1     2       -5429                       -14116        2\n",
       "2     3        1086                       -10682        3\n",
       "3     4        7601                        -9275        4\n",
       "4     5      -14116                        -9122        5\n",
       "..  ...         ...                          ...      ...\n",
       "95   96         258                         8686       96\n",
       "96   97        1134                         8780       97\n",
       "97   98        1673                         8809       98\n",
       "98   99       -7440                        12088       99\n",
       "99  100       -5040                        13495      100\n",
       "\n",
       "[100 rows x 4 columns]"
      ]
     },
     "execution_count": 3,
     "metadata": {},
     "output_type": "execute_result"
    }
   ],
   "source": [
    "df"
   ]
  },
  {
   "cell_type": "markdown",
   "id": "2dd25fd1",
   "metadata": {},
   "source": [
    "# Statistics\n",
    "Total number of returns\t= 100\n",
    "\n",
    "Confidence level = 95%"
   ]
  },
  {
   "cell_type": "code",
   "execution_count": 4,
   "id": "581928c2",
   "metadata": {},
   "outputs": [],
   "source": [
    "tnc = 100\n",
    "cfd_ivl = 0.95"
   ]
  },
  {
   "cell_type": "markdown",
   "id": "8671a73d",
   "metadata": {},
   "source": [
    "### Aplha (Level of significance)"
   ]
  },
  {
   "cell_type": "code",
   "execution_count": 6,
   "id": "172fcf18",
   "metadata": {},
   "outputs": [
    {
     "data": {
      "text/plain": [
       "0.050000000000000044"
      ]
     },
     "execution_count": 6,
     "metadata": {},
     "output_type": "execute_result"
    }
   ],
   "source": [
    "alpha = 1 - cfd_ivl\n",
    "alpha"
   ]
  },
  {
   "cell_type": "code",
   "execution_count": 8,
   "id": "d6b9e4c7",
   "metadata": {},
   "outputs": [
    {
     "data": {
      "text/plain": [
       "0.05"
      ]
     },
     "execution_count": 8,
     "metadata": {},
     "output_type": "execute_result"
    }
   ],
   "source": [
    "alpha = round(alpha,2)\n",
    "alpha"
   ]
  },
  {
   "cell_type": "markdown",
   "id": "295218d0",
   "metadata": {},
   "source": [
    "### Historic VaR is at position"
   ]
  },
  {
   "cell_type": "code",
   "execution_count": 10,
   "id": "9d3ce02f",
   "metadata": {},
   "outputs": [
    {
     "data": {
      "text/html": [
       "<div>\n",
       "<style scoped>\n",
       "    .dataframe tbody tr th:only-of-type {\n",
       "        vertical-align: middle;\n",
       "    }\n",
       "\n",
       "    .dataframe tbody tr th {\n",
       "        vertical-align: top;\n",
       "    }\n",
       "\n",
       "    .dataframe thead th {\n",
       "        text-align: right;\n",
       "    }\n",
       "</style>\n",
       "<table border=\"1\" class=\"dataframe\">\n",
       "  <thead>\n",
       "    <tr style=\"text-align: right;\">\n",
       "      <th></th>\n",
       "      <th>Obs</th>\n",
       "      <th>Loss data</th>\n",
       "      <th>Loss data (ascending order)</th>\n",
       "      <th>Ranking</th>\n",
       "    </tr>\n",
       "  </thead>\n",
       "  <tbody>\n",
       "    <tr>\n",
       "      <th>0</th>\n",
       "      <td>1</td>\n",
       "      <td>8000</td>\n",
       "      <td>-17715</td>\n",
       "      <td>1</td>\n",
       "    </tr>\n",
       "    <tr>\n",
       "      <th>1</th>\n",
       "      <td>2</td>\n",
       "      <td>-5429</td>\n",
       "      <td>-14116</td>\n",
       "      <td>2</td>\n",
       "    </tr>\n",
       "    <tr>\n",
       "      <th>2</th>\n",
       "      <td>3</td>\n",
       "      <td>1086</td>\n",
       "      <td>-10682</td>\n",
       "      <td>3</td>\n",
       "    </tr>\n",
       "    <tr>\n",
       "      <th>3</th>\n",
       "      <td>4</td>\n",
       "      <td>7601</td>\n",
       "      <td>-9275</td>\n",
       "      <td>4</td>\n",
       "    </tr>\n",
       "    <tr>\n",
       "      <th>4</th>\n",
       "      <td>5</td>\n",
       "      <td>-14116</td>\n",
       "      <td>-9122</td>\n",
       "      <td>5</td>\n",
       "    </tr>\n",
       "    <tr>\n",
       "      <th>5</th>\n",
       "      <td>6</td>\n",
       "      <td>2063</td>\n",
       "      <td>-8883</td>\n",
       "      <td>6</td>\n",
       "    </tr>\n",
       "    <tr>\n",
       "      <th>6</th>\n",
       "      <td>7</td>\n",
       "      <td>-5056</td>\n",
       "      <td>-8846</td>\n",
       "      <td>7</td>\n",
       "    </tr>\n",
       "    <tr>\n",
       "      <th>7</th>\n",
       "      <td>8</td>\n",
       "      <td>-6462</td>\n",
       "      <td>-8808</td>\n",
       "      <td>8</td>\n",
       "    </tr>\n",
       "    <tr>\n",
       "      <th>8</th>\n",
       "      <td>9</td>\n",
       "      <td>7869</td>\n",
       "      <td>-8323</td>\n",
       "      <td>9</td>\n",
       "    </tr>\n",
       "    <tr>\n",
       "      <th>9</th>\n",
       "      <td>10</td>\n",
       "      <td>-9275</td>\n",
       "      <td>-8188</td>\n",
       "      <td>10</td>\n",
       "    </tr>\n",
       "  </tbody>\n",
       "</table>\n",
       "</div>"
      ],
      "text/plain": [
       "   Obs  Loss data   Loss data (ascending order)  Ranking\n",
       "0    1        8000                       -17715        1\n",
       "1    2       -5429                       -14116        2\n",
       "2    3        1086                       -10682        3\n",
       "3    4        7601                        -9275        4\n",
       "4    5      -14116                        -9122        5\n",
       "5    6        2063                        -8883        6\n",
       "6    7       -5056                        -8846        7\n",
       "7    8       -6462                        -8808        8\n",
       "8    9        7869                        -8323        9\n",
       "9   10       -9275                        -8188       10"
      ]
     },
     "execution_count": 10,
     "metadata": {},
     "output_type": "execute_result"
    }
   ],
   "source": [
    "df.head(10)"
   ]
  },
  {
   "cell_type": "markdown",
   "id": "7c63d86d",
   "metadata": {},
   "source": [
    "<center>Is at position 5</center>"
   ]
  },
  {
   "cell_type": "code",
   "execution_count": 15,
   "id": "3f3cfc2e",
   "metadata": {},
   "outputs": [
    {
     "data": {
      "text/plain": [
       "-9122"
      ]
     },
     "execution_count": 15,
     "metadata": {},
     "output_type": "execute_result"
    }
   ],
   "source": [
    "df.iloc[4,2]"
   ]
  },
  {
   "cell_type": "code",
   "execution_count": 17,
   "id": "f7c5c906",
   "metadata": {},
   "outputs": [
    {
     "data": {
      "text/plain": [
       "-9122"
      ]
     },
     "execution_count": 17,
     "metadata": {},
     "output_type": "execute_result"
    }
   ],
   "source": [
    "var_amt = df.iloc[4,2]\n",
    "var_amt"
   ]
  },
  {
   "cell_type": "markdown",
   "id": "fa914d2e",
   "metadata": {},
   "source": [
    "# Calculating Tail Loss"
   ]
  },
  {
   "cell_type": "code",
   "execution_count": 31,
   "id": "ea1b6ae7",
   "metadata": {},
   "outputs": [],
   "source": [
    "def tail_loss(x):\n",
    "    if x > var_amt:\n",
    "        return 0 \n",
    "    else:\n",
    "        return 1"
   ]
  },
  {
   "cell_type": "code",
   "execution_count": 32,
   "id": "82936541",
   "metadata": {},
   "outputs": [
    {
     "data": {
      "text/plain": [
       "0     1\n",
       "1     1\n",
       "2     1\n",
       "3     1\n",
       "4     1\n",
       "     ..\n",
       "95    0\n",
       "96    0\n",
       "97    0\n",
       "98    0\n",
       "99    0\n",
       "Name: Loss data (ascending order), Length: 100, dtype: int64"
      ]
     },
     "execution_count": 32,
     "metadata": {},
     "output_type": "execute_result"
    }
   ],
   "source": [
    "# Applying our function\n",
    "df['Loss data (ascending order)'].apply(tail_loss)"
   ]
  },
  {
   "cell_type": "code",
   "execution_count": 33,
   "id": "22c6bbd4",
   "metadata": {},
   "outputs": [],
   "source": [
    "df['Tail Loss'] = df['Loss data (ascending order)'].apply(tail_loss)"
   ]
  },
  {
   "cell_type": "code",
   "execution_count": 34,
   "id": "72a8b1ce",
   "metadata": {},
   "outputs": [
    {
     "data": {
      "text/html": [
       "<div>\n",
       "<style scoped>\n",
       "    .dataframe tbody tr th:only-of-type {\n",
       "        vertical-align: middle;\n",
       "    }\n",
       "\n",
       "    .dataframe tbody tr th {\n",
       "        vertical-align: top;\n",
       "    }\n",
       "\n",
       "    .dataframe thead th {\n",
       "        text-align: right;\n",
       "    }\n",
       "</style>\n",
       "<table border=\"1\" class=\"dataframe\">\n",
       "  <thead>\n",
       "    <tr style=\"text-align: right;\">\n",
       "      <th></th>\n",
       "      <th>Obs</th>\n",
       "      <th>Loss data</th>\n",
       "      <th>Loss data (ascending order)</th>\n",
       "      <th>Ranking</th>\n",
       "      <th>Tail Loss</th>\n",
       "    </tr>\n",
       "  </thead>\n",
       "  <tbody>\n",
       "    <tr>\n",
       "      <th>0</th>\n",
       "      <td>1</td>\n",
       "      <td>8000</td>\n",
       "      <td>-17715</td>\n",
       "      <td>1</td>\n",
       "      <td>1</td>\n",
       "    </tr>\n",
       "    <tr>\n",
       "      <th>1</th>\n",
       "      <td>2</td>\n",
       "      <td>-5429</td>\n",
       "      <td>-14116</td>\n",
       "      <td>2</td>\n",
       "      <td>1</td>\n",
       "    </tr>\n",
       "    <tr>\n",
       "      <th>2</th>\n",
       "      <td>3</td>\n",
       "      <td>1086</td>\n",
       "      <td>-10682</td>\n",
       "      <td>3</td>\n",
       "      <td>1</td>\n",
       "    </tr>\n",
       "    <tr>\n",
       "      <th>3</th>\n",
       "      <td>4</td>\n",
       "      <td>7601</td>\n",
       "      <td>-9275</td>\n",
       "      <td>4</td>\n",
       "      <td>1</td>\n",
       "    </tr>\n",
       "    <tr>\n",
       "      <th>4</th>\n",
       "      <td>5</td>\n",
       "      <td>-14116</td>\n",
       "      <td>-9122</td>\n",
       "      <td>5</td>\n",
       "      <td>1</td>\n",
       "    </tr>\n",
       "    <tr>\n",
       "      <th>...</th>\n",
       "      <td>...</td>\n",
       "      <td>...</td>\n",
       "      <td>...</td>\n",
       "      <td>...</td>\n",
       "      <td>...</td>\n",
       "    </tr>\n",
       "    <tr>\n",
       "      <th>95</th>\n",
       "      <td>96</td>\n",
       "      <td>258</td>\n",
       "      <td>8686</td>\n",
       "      <td>96</td>\n",
       "      <td>0</td>\n",
       "    </tr>\n",
       "    <tr>\n",
       "      <th>96</th>\n",
       "      <td>97</td>\n",
       "      <td>1134</td>\n",
       "      <td>8780</td>\n",
       "      <td>97</td>\n",
       "      <td>0</td>\n",
       "    </tr>\n",
       "    <tr>\n",
       "      <th>97</th>\n",
       "      <td>98</td>\n",
       "      <td>1673</td>\n",
       "      <td>8809</td>\n",
       "      <td>98</td>\n",
       "      <td>0</td>\n",
       "    </tr>\n",
       "    <tr>\n",
       "      <th>98</th>\n",
       "      <td>99</td>\n",
       "      <td>-7440</td>\n",
       "      <td>12088</td>\n",
       "      <td>99</td>\n",
       "      <td>0</td>\n",
       "    </tr>\n",
       "    <tr>\n",
       "      <th>99</th>\n",
       "      <td>100</td>\n",
       "      <td>-5040</td>\n",
       "      <td>13495</td>\n",
       "      <td>100</td>\n",
       "      <td>0</td>\n",
       "    </tr>\n",
       "  </tbody>\n",
       "</table>\n",
       "<p>100 rows × 5 columns</p>\n",
       "</div>"
      ],
      "text/plain": [
       "    Obs  Loss data   Loss data (ascending order)  Ranking  Tail Loss\n",
       "0     1        8000                       -17715        1          1\n",
       "1     2       -5429                       -14116        2          1\n",
       "2     3        1086                       -10682        3          1\n",
       "3     4        7601                        -9275        4          1\n",
       "4     5      -14116                        -9122        5          1\n",
       "..  ...         ...                          ...      ...        ...\n",
       "95   96         258                         8686       96          0\n",
       "96   97        1134                         8780       97          0\n",
       "97   98        1673                         8809       98          0\n",
       "98   99       -7440                        12088       99          0\n",
       "99  100       -5040                        13495      100          0\n",
       "\n",
       "[100 rows x 5 columns]"
      ]
     },
     "execution_count": 34,
     "metadata": {},
     "output_type": "execute_result"
    }
   ],
   "source": [
    "df"
   ]
  },
  {
   "cell_type": "markdown",
   "id": "fd8aebe5",
   "metadata": {},
   "source": [
    "# Expected Shortfall\n",
    "\n",
    "Getting the rows with tail loss is 1"
   ]
  },
  {
   "cell_type": "code",
   "execution_count": 35,
   "id": "428b024e",
   "metadata": {},
   "outputs": [
    {
     "data": {
      "text/html": [
       "<div>\n",
       "<style scoped>\n",
       "    .dataframe tbody tr th:only-of-type {\n",
       "        vertical-align: middle;\n",
       "    }\n",
       "\n",
       "    .dataframe tbody tr th {\n",
       "        vertical-align: top;\n",
       "    }\n",
       "\n",
       "    .dataframe thead th {\n",
       "        text-align: right;\n",
       "    }\n",
       "</style>\n",
       "<table border=\"1\" class=\"dataframe\">\n",
       "  <thead>\n",
       "    <tr style=\"text-align: right;\">\n",
       "      <th></th>\n",
       "      <th>Obs</th>\n",
       "      <th>Loss data</th>\n",
       "      <th>Loss data (ascending order)</th>\n",
       "      <th>Ranking</th>\n",
       "      <th>Tail Loss</th>\n",
       "    </tr>\n",
       "  </thead>\n",
       "  <tbody>\n",
       "    <tr>\n",
       "      <th>0</th>\n",
       "      <td>1</td>\n",
       "      <td>8000</td>\n",
       "      <td>-17715</td>\n",
       "      <td>1</td>\n",
       "      <td>1</td>\n",
       "    </tr>\n",
       "    <tr>\n",
       "      <th>1</th>\n",
       "      <td>2</td>\n",
       "      <td>-5429</td>\n",
       "      <td>-14116</td>\n",
       "      <td>2</td>\n",
       "      <td>1</td>\n",
       "    </tr>\n",
       "    <tr>\n",
       "      <th>2</th>\n",
       "      <td>3</td>\n",
       "      <td>1086</td>\n",
       "      <td>-10682</td>\n",
       "      <td>3</td>\n",
       "      <td>1</td>\n",
       "    </tr>\n",
       "    <tr>\n",
       "      <th>3</th>\n",
       "      <td>4</td>\n",
       "      <td>7601</td>\n",
       "      <td>-9275</td>\n",
       "      <td>4</td>\n",
       "      <td>1</td>\n",
       "    </tr>\n",
       "    <tr>\n",
       "      <th>4</th>\n",
       "      <td>5</td>\n",
       "      <td>-14116</td>\n",
       "      <td>-9122</td>\n",
       "      <td>5</td>\n",
       "      <td>1</td>\n",
       "    </tr>\n",
       "  </tbody>\n",
       "</table>\n",
       "</div>"
      ],
      "text/plain": [
       "   Obs  Loss data   Loss data (ascending order)  Ranking  Tail Loss\n",
       "0    1        8000                       -17715        1          1\n",
       "1    2       -5429                       -14116        2          1\n",
       "2    3        1086                       -10682        3          1\n",
       "3    4        7601                        -9275        4          1\n",
       "4    5      -14116                        -9122        5          1"
      ]
     },
     "execution_count": 35,
     "metadata": {},
     "output_type": "execute_result"
    }
   ],
   "source": [
    "df[df['Tail Loss'] == 1]"
   ]
  },
  {
   "cell_type": "code",
   "execution_count": 37,
   "id": "904eb126",
   "metadata": {},
   "outputs": [
    {
     "data": {
      "text/plain": [
       "-12182.0"
      ]
     },
     "execution_count": 37,
     "metadata": {},
     "output_type": "execute_result"
    }
   ],
   "source": [
    "df[df['Tail Loss'] == 1]['Loss data (ascending order)'].mean()"
   ]
  },
  {
   "cell_type": "code",
   "execution_count": null,
   "id": "76e9c092",
   "metadata": {},
   "outputs": [],
   "source": []
  },
  {
   "cell_type": "code",
   "execution_count": null,
   "id": "4d071ebf",
   "metadata": {},
   "outputs": [],
   "source": []
  },
  {
   "cell_type": "markdown",
   "id": "bb80e6db",
   "metadata": {},
   "source": [
    "<h1><Center>Historical VAR</Center></h1>\n",
    "\n",
    "Suppose a bank holds a portfolio of various assets, including stocks and bonds. The bank wants to calculate the one-day VaR for this portfolio at a 95% confidence level. This means that the bank wants to estimate the maximum potential loss over the next day with 95% confidence.\n"
   ]
  },
  {
   "cell_type": "code",
   "execution_count": 1,
   "id": "b066d5a0",
   "metadata": {},
   "outputs": [],
   "source": [
    "import pandas as pd\n",
    "import numpy as np\n",
    "import matplotlib.pyplot as plt"
   ]
  },
  {
   "cell_type": "code",
   "execution_count": 9,
   "id": "f25faeea",
   "metadata": {},
   "outputs": [],
   "source": [
    "df = pd.read_csv('Historical_VAR.csv',names=['Date', 'Asset 1', 'Asset 1 return (%)'],skiprows=1)"
   ]
  },
  {
   "cell_type": "code",
   "execution_count": 10,
   "id": "52e92802",
   "metadata": {},
   "outputs": [
    {
     "data": {
      "text/plain": [
       "Index(['Date', 'Asset 1', 'Asset 1 return (%)'], dtype='object')"
      ]
     },
     "execution_count": 10,
     "metadata": {},
     "output_type": "execute_result"
    }
   ],
   "source": [
    "df.columns"
   ]
  },
  {
   "cell_type": "code",
   "execution_count": 12,
   "id": "4171b954",
   "metadata": {},
   "outputs": [],
   "source": [
    "df['Rank'] = np.arange(1,253)"
   ]
  },
  {
   "cell_type": "code",
   "execution_count": 39,
   "id": "c80ca58f",
   "metadata": {},
   "outputs": [
    {
     "data": {
      "text/html": [
       "<div>\n",
       "<style scoped>\n",
       "    .dataframe tbody tr th:only-of-type {\n",
       "        vertical-align: middle;\n",
       "    }\n",
       "\n",
       "    .dataframe tbody tr th {\n",
       "        vertical-align: top;\n",
       "    }\n",
       "\n",
       "    .dataframe thead th {\n",
       "        text-align: right;\n",
       "    }\n",
       "</style>\n",
       "<table border=\"1\" class=\"dataframe\">\n",
       "  <thead>\n",
       "    <tr style=\"text-align: right;\">\n",
       "      <th></th>\n",
       "      <th>Date</th>\n",
       "      <th>Asset 1</th>\n",
       "      <th>Asset 1 return (%)</th>\n",
       "      <th>Rank</th>\n",
       "    </tr>\n",
       "  </thead>\n",
       "  <tbody>\n",
       "    <tr>\n",
       "      <th>0</th>\n",
       "      <td>03-01-2019</td>\n",
       "      <td>142.19</td>\n",
       "      <td>-9.9607</td>\n",
       "      <td>1</td>\n",
       "    </tr>\n",
       "    <tr>\n",
       "      <th>1</th>\n",
       "      <td>02-11-2018</td>\n",
       "      <td>207.48</td>\n",
       "      <td>-6.6331</td>\n",
       "      <td>2</td>\n",
       "    </tr>\n",
       "    <tr>\n",
       "      <th>2</th>\n",
       "      <td>12-11-2018</td>\n",
       "      <td>194.17</td>\n",
       "      <td>-5.0374</td>\n",
       "      <td>3</td>\n",
       "    </tr>\n",
       "    <tr>\n",
       "      <th>3</th>\n",
       "      <td>20-11-2018</td>\n",
       "      <td>176.98</td>\n",
       "      <td>-4.7778</td>\n",
       "      <td>4</td>\n",
       "    </tr>\n",
       "    <tr>\n",
       "      <th>4</th>\n",
       "      <td>10-10-2018</td>\n",
       "      <td>216.36</td>\n",
       "      <td>-4.6326</td>\n",
       "      <td>5</td>\n",
       "    </tr>\n",
       "    <tr>\n",
       "      <th>...</th>\n",
       "      <td>...</td>\n",
       "      <td>...</td>\n",
       "      <td>...</td>\n",
       "      <td>...</td>\n",
       "    </tr>\n",
       "    <tr>\n",
       "      <th>247</th>\n",
       "      <td>02-05-2018</td>\n",
       "      <td>176.57</td>\n",
       "      <td>4.4175</td>\n",
       "      <td>248</td>\n",
       "    </tr>\n",
       "    <tr>\n",
       "      <th>248</th>\n",
       "      <td>26-03-2018</td>\n",
       "      <td>172.77</td>\n",
       "      <td>4.7472</td>\n",
       "      <td>249</td>\n",
       "    </tr>\n",
       "    <tr>\n",
       "      <th>249</th>\n",
       "      <td>01-08-2018</td>\n",
       "      <td>201.50</td>\n",
       "      <td>5.8910</td>\n",
       "      <td>250</td>\n",
       "    </tr>\n",
       "    <tr>\n",
       "      <th>250</th>\n",
       "      <td>30-01-2019</td>\n",
       "      <td>165.25</td>\n",
       "      <td>6.8335</td>\n",
       "      <td>251</td>\n",
       "    </tr>\n",
       "    <tr>\n",
       "      <th>251</th>\n",
       "      <td>26-12-2018</td>\n",
       "      <td>157.17</td>\n",
       "      <td>7.0422</td>\n",
       "      <td>252</td>\n",
       "    </tr>\n",
       "  </tbody>\n",
       "</table>\n",
       "<p>252 rows × 4 columns</p>\n",
       "</div>"
      ],
      "text/plain": [
       "           Date  Asset 1  Asset 1 return (%)  Rank\n",
       "0    03-01-2019   142.19             -9.9607     1\n",
       "1    02-11-2018   207.48             -6.6331     2\n",
       "2    12-11-2018   194.17             -5.0374     3\n",
       "3    20-11-2018   176.98             -4.7778     4\n",
       "4    10-10-2018   216.36             -4.6326     5\n",
       "..          ...      ...                 ...   ...\n",
       "247  02-05-2018   176.57              4.4175   248\n",
       "248  26-03-2018   172.77              4.7472   249\n",
       "249  01-08-2018   201.50              5.8910   250\n",
       "250  30-01-2019   165.25              6.8335   251\n",
       "251  26-12-2018   157.17              7.0422   252\n",
       "\n",
       "[252 rows x 4 columns]"
      ]
     },
     "execution_count": 39,
     "metadata": {},
     "output_type": "execute_result"
    }
   ],
   "source": [
    "df"
   ]
  },
  {
   "cell_type": "markdown",
   "id": "2e24b4bb",
   "metadata": {},
   "source": [
    "### Data Preprocessing"
   ]
  },
  {
   "cell_type": "code",
   "execution_count": 15,
   "id": "b131e231",
   "metadata": {},
   "outputs": [],
   "source": [
    "df['Asset 1 return (%)'] = df['Asset 1 return (%)'].str.replace('%', '')"
   ]
  },
  {
   "cell_type": "code",
   "execution_count": 21,
   "id": "2f7c65d9",
   "metadata": {},
   "outputs": [],
   "source": [
    "df['Asset 1 return (%)'] = pd.to_numeric(df['Asset 1 return (%)'])"
   ]
  },
  {
   "cell_type": "code",
   "execution_count": 22,
   "id": "239c8b20",
   "metadata": {},
   "outputs": [
    {
     "data": {
      "text/html": [
       "<div>\n",
       "<style scoped>\n",
       "    .dataframe tbody tr th:only-of-type {\n",
       "        vertical-align: middle;\n",
       "    }\n",
       "\n",
       "    .dataframe tbody tr th {\n",
       "        vertical-align: top;\n",
       "    }\n",
       "\n",
       "    .dataframe thead th {\n",
       "        text-align: right;\n",
       "    }\n",
       "</style>\n",
       "<table border=\"1\" class=\"dataframe\">\n",
       "  <thead>\n",
       "    <tr style=\"text-align: right;\">\n",
       "      <th></th>\n",
       "      <th>Date</th>\n",
       "      <th>Asset 1</th>\n",
       "      <th>Asset 1 return (%)</th>\n",
       "      <th>Rank</th>\n",
       "    </tr>\n",
       "  </thead>\n",
       "  <tbody>\n",
       "    <tr>\n",
       "      <th>0</th>\n",
       "      <td>03-01-2019</td>\n",
       "      <td>142.19</td>\n",
       "      <td>-9.9607</td>\n",
       "      <td>1</td>\n",
       "    </tr>\n",
       "    <tr>\n",
       "      <th>1</th>\n",
       "      <td>02-11-2018</td>\n",
       "      <td>207.48</td>\n",
       "      <td>-6.6331</td>\n",
       "      <td>2</td>\n",
       "    </tr>\n",
       "    <tr>\n",
       "      <th>2</th>\n",
       "      <td>12-11-2018</td>\n",
       "      <td>194.17</td>\n",
       "      <td>-5.0374</td>\n",
       "      <td>3</td>\n",
       "    </tr>\n",
       "    <tr>\n",
       "      <th>3</th>\n",
       "      <td>20-11-2018</td>\n",
       "      <td>176.98</td>\n",
       "      <td>-4.7778</td>\n",
       "      <td>4</td>\n",
       "    </tr>\n",
       "    <tr>\n",
       "      <th>4</th>\n",
       "      <td>10-10-2018</td>\n",
       "      <td>216.36</td>\n",
       "      <td>-4.6326</td>\n",
       "      <td>5</td>\n",
       "    </tr>\n",
       "    <tr>\n",
       "      <th>...</th>\n",
       "      <td>...</td>\n",
       "      <td>...</td>\n",
       "      <td>...</td>\n",
       "      <td>...</td>\n",
       "    </tr>\n",
       "    <tr>\n",
       "      <th>247</th>\n",
       "      <td>02-05-2018</td>\n",
       "      <td>176.57</td>\n",
       "      <td>4.4175</td>\n",
       "      <td>248</td>\n",
       "    </tr>\n",
       "    <tr>\n",
       "      <th>248</th>\n",
       "      <td>26-03-2018</td>\n",
       "      <td>172.77</td>\n",
       "      <td>4.7472</td>\n",
       "      <td>249</td>\n",
       "    </tr>\n",
       "    <tr>\n",
       "      <th>249</th>\n",
       "      <td>01-08-2018</td>\n",
       "      <td>201.50</td>\n",
       "      <td>5.8910</td>\n",
       "      <td>250</td>\n",
       "    </tr>\n",
       "    <tr>\n",
       "      <th>250</th>\n",
       "      <td>30-01-2019</td>\n",
       "      <td>165.25</td>\n",
       "      <td>6.8335</td>\n",
       "      <td>251</td>\n",
       "    </tr>\n",
       "    <tr>\n",
       "      <th>251</th>\n",
       "      <td>26-12-2018</td>\n",
       "      <td>157.17</td>\n",
       "      <td>7.0422</td>\n",
       "      <td>252</td>\n",
       "    </tr>\n",
       "  </tbody>\n",
       "</table>\n",
       "<p>252 rows × 4 columns</p>\n",
       "</div>"
      ],
      "text/plain": [
       "           Date  Asset 1  Asset 1 return (%)  Rank\n",
       "0    03-01-2019   142.19             -9.9607     1\n",
       "1    02-11-2018   207.48             -6.6331     2\n",
       "2    12-11-2018   194.17             -5.0374     3\n",
       "3    20-11-2018   176.98             -4.7778     4\n",
       "4    10-10-2018   216.36             -4.6326     5\n",
       "..          ...      ...                 ...   ...\n",
       "247  02-05-2018   176.57              4.4175   248\n",
       "248  26-03-2018   172.77              4.7472   249\n",
       "249  01-08-2018   201.50              5.8910   250\n",
       "250  30-01-2019   165.25              6.8335   251\n",
       "251  26-12-2018   157.17              7.0422   252\n",
       "\n",
       "[252 rows x 4 columns]"
      ]
     },
     "execution_count": 22,
     "metadata": {},
     "output_type": "execute_result"
    }
   ],
   "source": [
    "df"
   ]
  },
  {
   "cell_type": "code",
   "execution_count": 40,
   "id": "58d20ee3",
   "metadata": {},
   "outputs": [
    {
     "name": "stdout",
     "output_type": "stream",
     "text": [
      "<class 'pandas.core.frame.DataFrame'>\n",
      "RangeIndex: 252 entries, 0 to 251\n",
      "Data columns (total 4 columns):\n",
      " #   Column              Non-Null Count  Dtype  \n",
      "---  ------              --------------  -----  \n",
      " 0   Date                252 non-null    object \n",
      " 1   Asset 1             252 non-null    float64\n",
      " 2   Asset 1 return (%)  252 non-null    float64\n",
      " 3   Rank                252 non-null    int64  \n",
      "dtypes: float64(2), int64(1), object(1)\n",
      "memory usage: 8.0+ KB\n"
     ]
    }
   ],
   "source": [
    "df.info()"
   ]
  },
  {
   "cell_type": "markdown",
   "id": "d37a4bb3",
   "metadata": {},
   "source": [
    "# Statistics\n",
    "Total number of returns = 252 \n",
    "\n",
    "Confidence Level = 95%\n",
    "\n",
    "Alpha (Level of Significance) = 5%"
   ]
  },
  {
   "cell_type": "markdown",
   "id": "2267beb2",
   "metadata": {},
   "source": [
    "### Historic VaR is at position"
   ]
  },
  {
   "cell_type": "code",
   "execution_count": 47,
   "id": "8ee7a874",
   "metadata": {},
   "outputs": [
    {
     "data": {
      "text/plain": [
       "12.600000000000001"
      ]
     },
     "execution_count": 47,
     "metadata": {},
     "output_type": "execute_result"
    }
   ],
   "source": [
    "historic_var = 252 * 0.05\n",
    "historic_var"
   ]
  },
  {
   "cell_type": "markdown",
   "id": "7eadaf5b",
   "metadata": {},
   "source": [
    "### Historic VaR is at position (rounded)"
   ]
  },
  {
   "cell_type": "code",
   "execution_count": 51,
   "id": "89d4f5bb",
   "metadata": {},
   "outputs": [
    {
     "data": {
      "text/plain": [
       "13"
      ]
     },
     "execution_count": 51,
     "metadata": {},
     "output_type": "execute_result"
    }
   ],
   "source": [
    "round(historic_var)"
   ]
  },
  {
   "cell_type": "code",
   "execution_count": 61,
   "id": "cfefe820",
   "metadata": {},
   "outputs": [
    {
     "data": {
      "text/plain": [
       "Text(0, 0.5, 'Labels')"
      ]
     },
     "execution_count": 61,
     "metadata": {},
     "output_type": "execute_result"
    },
    {
     "data": {
      "image/png": "[encoded data removed]",
      "text/plain": [
       "<Figure size 640x480 with 1 Axes>"
      ]
     },
     "metadata": {},
     "output_type": "display_data"
    }
   ],
   "source": [
    "counts, edges, bars = plt.hist(df['Asset 1 return (%)'],bins=20)\n",
    "plt.bar_label(bars)\n",
    "plt.title(\"Distribution of returns\")\n",
    "plt.xlabel(\"Frequency\")\n",
    "plt.ylabel(\"Labels\")"
   ]
  },
  {
   "cell_type": "markdown",
   "id": "d7b3cb5a",
   "metadata": {},
   "source": [
    "### Value of my asset (INR)"
   ]
  },
  {
   "cell_type": "code",
   "execution_count": 64,
   "id": "937056ed",
   "metadata": {},
   "outputs": [
    {
     "data": {
      "text/plain": [
       "1000000"
      ]
     },
     "execution_count": 64,
     "metadata": {},
     "output_type": "execute_result"
    }
   ],
   "source": [
    "voa = 1000000\n",
    "voa"
   ]
  },
  {
   "cell_type": "markdown",
   "id": "46d594f2",
   "metadata": {},
   "source": [
    "### VaR amount (INR)"
   ]
  },
  {
   "cell_type": "code",
   "execution_count": 76,
   "id": "d88c6b3c",
   "metadata": {},
   "outputs": [
    {
     "data": {
      "text/plain": [
       "-3.1192"
      ]
     },
     "execution_count": 76,
     "metadata": {},
     "output_type": "execute_result"
    }
   ],
   "source": [
    "df.iloc[12,2]"
   ]
  },
  {
   "cell_type": "code",
   "execution_count": 79,
   "id": "bbbead41",
   "metadata": {},
   "outputs": [
    {
     "data": {
      "text/plain": [
       "-31192.0"
      ]
     },
     "execution_count": 79,
     "metadata": {},
     "output_type": "execute_result"
    }
   ],
   "source": [
    "(voa * df.iloc[12,2])/100"
   ]
  },
  {
   "cell_type": "markdown",
   "id": "c4fae663",
   "metadata": {},
   "source": [
    "At a 95% confidence interval, the lower tail displays the lowest 5% of the underlying distribution's returns. For this distribution, the value associated with a 95% confidence interval is a return of -3.1192%. If a bank has invested INR 1,000,000 in this asset , one day VaR is INR 31,191.7 (-3.1192*1000000)"
   ]
  },
  {
   "cell_type": "code",
   "execution_count": null,
   "id": "09e306a9",
   "metadata": {},
   "outputs": [],
   "source": []
  },
  {
   "cell_type": "code",
   "execution_count": null,
   "id": "5e67b263",
   "metadata": {},
   "outputs": [],
   "source": []
  },
  {
   "cell_type": "code",
   "execution_count": null,
   "id": "145a68c6",
   "metadata": {},
   "outputs": [],
   "source": []
  },
  {
   "cell_type": "markdown",
   "id": "701577ca",
   "metadata": {},
   "source": [
    "<center><h1>Log-normal VaR</h1></center>\n",
    "\n",
    "Assuming the logarithmic returns of the portfolio are normally distributed, we can calculate the ```log-normal VaR```."
   ]
  },
  {
   "cell_type": "markdown",
   "id": "1b661358",
   "metadata": {},
   "source": [
    "### Question\n",
    "\n",
    "Using the same portfolio example, let's assume the mean logarithmic return is 0.04 (4%) and the standard deviation of logarithmic returns is 0.08 (8%). \n",
    "\n",
    "We want to calculate the one-day 95% log-normal VaR."
   ]
  },
  {
   "cell_type": "markdown",
   "id": "fcc1e172",
   "metadata": {},
   "source": [
    "### Solution\n",
    "\n",
    "To calculate log-normal VaR, \n",
    "\n",
    "we use the formula: ```Log-normal VaR``` = ```Portfolio Value``` * (1 - ```e```^(```Mean Log Return``` - (```Z-Score``` * ```Standard Deviation```)))"
   ]
  },
  {
   "cell_type": "markdown",
   "id": "37f0fbed",
   "metadata": {},
   "source": [
    "- Let's assume the portfolio value is INR1,000,000.\n",
    "- Given a confidence level of 95%, the corresponding Z-score is approximately 1.645."
   ]
  },
  {
   "cell_type": "markdown",
   "id": "f850e422",
   "metadata": {},
   "source": [
    "```Log-normal VaR``` \t\n",
    "\n",
    "= ```INR 1,000,000``` * ( 1 - ```e``` ^ ( 0.04 - ( 1.645 * 0.08 ))) \n",
    "\n",
    "= ```INR 1,000,000``` * ( 1 - ```e```^( -0.0916 )) \n",
    "\n",
    "\n",
    "= 87700.00"
   ]
  },
  {
   "cell_type": "code",
   "execution_count": 4,
   "id": "3d592876",
   "metadata": {},
   "outputs": [],
   "source": [
    "import math\n",
    "pft_value = 100000\n",
    "e = math.exp(1)\n",
    "mlr =  0.04\n",
    "z_score = 1.645 \n",
    "std_dev = 0.08"
   ]
  },
  {
   "cell_type": "code",
   "execution_count": 6,
   "id": "72da0399",
   "metadata": {},
   "outputs": [
    {
     "data": {
      "text/plain": [
       "8752.993541694954"
      ]
     },
     "execution_count": 6,
     "metadata": {},
     "output_type": "execute_result"
    }
   ],
   "source": [
    "pft_value * (1 - e**(mlr - (z_score * std_dev)))"
   ]
  },
  {
   "cell_type": "code",
   "execution_count": 10,
   "id": "5400e351",
   "metadata": {},
   "outputs": [
    {
     "data": {
      "text/plain": [
       "8752.993541694954"
      ]
     },
     "execution_count": 10,
     "metadata": {},
     "output_type": "execute_result"
    }
   ],
   "source": [
    "lg_nrml_var = pft_value * (1 - e**(mlr - (z_score * std_dev)))\n",
    "lg_nrml_var"
   ]
  },
  {
   "cell_type": "markdown",
   "id": "0788bc92",
   "metadata": {},
   "source": [
    "This means that there is a ```5%``` chance of experiencing a one-day loss of approximately ```INR 87,530``` or more in the portfolio based on the assumption of a log-normal distribution of logarithmic returns.\t"
   ]
  },
  {
   "cell_type": "code",
   "execution_count": null,
   "id": "ab106496",
   "metadata": {},
   "outputs": [],
   "source": []
  },
  {
   "cell_type": "markdown",
   "id": "aba450ae",
   "metadata": {},
   "source": [
    "<h1><center>Mean Variance Framework</center></h1>"
   ]
  },
  {
   "cell_type": "code",
   "execution_count": 1,
   "id": "9f49f676",
   "metadata": {},
   "outputs": [],
   "source": [
    "import pandas as pd "
   ]
  },
  {
   "cell_type": "code",
   "execution_count": 5,
   "id": "7d35c175",
   "metadata": {},
   "outputs": [],
   "source": [
    "df = pd.read_csv('finance_data2.csv')"
   ]
  },
  {
   "cell_type": "code",
   "execution_count": 7,
   "id": "6a4d3c34",
   "metadata": {},
   "outputs": [
    {
     "data": {
      "text/html": [
       "<div>\n",
       "<style scoped>\n",
       "    .dataframe tbody tr th:only-of-type {\n",
       "        vertical-align: middle;\n",
       "    }\n",
       "\n",
       "    .dataframe tbody tr th {\n",
       "        vertical-align: top;\n",
       "    }\n",
       "\n",
       "    .dataframe thead th {\n",
       "        text-align: right;\n",
       "    }\n",
       "</style>\n",
       "<table border=\"1\" class=\"dataframe\">\n",
       "  <thead>\n",
       "    <tr style=\"text-align: right;\">\n",
       "      <th></th>\n",
       "      <th>Date</th>\n",
       "      <th>Asset 1</th>\n",
       "      <th>Asset 2</th>\n",
       "    </tr>\n",
       "  </thead>\n",
       "  <tbody>\n",
       "    <tr>\n",
       "      <th>0</th>\n",
       "      <td>07-03-2018</td>\n",
       "      <td>175.03</td>\n",
       "      <td>125.72</td>\n",
       "    </tr>\n",
       "    <tr>\n",
       "      <th>1</th>\n",
       "      <td>08-03-2018</td>\n",
       "      <td>176.94</td>\n",
       "      <td>125.42</td>\n",
       "    </tr>\n",
       "    <tr>\n",
       "      <th>2</th>\n",
       "      <td>09-03-2018</td>\n",
       "      <td>179.98</td>\n",
       "      <td>125.54</td>\n",
       "    </tr>\n",
       "    <tr>\n",
       "      <th>3</th>\n",
       "      <td>12-03-2018</td>\n",
       "      <td>181.72</td>\n",
       "      <td>125.54</td>\n",
       "    </tr>\n",
       "    <tr>\n",
       "      <th>4</th>\n",
       "      <td>13-03-2018</td>\n",
       "      <td>179.97</td>\n",
       "      <td>125.78</td>\n",
       "    </tr>\n",
       "    <tr>\n",
       "      <th>5</th>\n",
       "      <td>14-03-2018</td>\n",
       "      <td>178.44</td>\n",
       "      <td>125.70</td>\n",
       "    </tr>\n",
       "    <tr>\n",
       "      <th>6</th>\n",
       "      <td>15-03-2018</td>\n",
       "      <td>178.65</td>\n",
       "      <td>124.90</td>\n",
       "    </tr>\n",
       "    <tr>\n",
       "      <th>7</th>\n",
       "      <td>16-03-2018</td>\n",
       "      <td>178.02</td>\n",
       "      <td>124.60</td>\n",
       "    </tr>\n",
       "    <tr>\n",
       "      <th>8</th>\n",
       "      <td>19-03-2018</td>\n",
       "      <td>175.30</td>\n",
       "      <td>124.87</td>\n",
       "    </tr>\n",
       "    <tr>\n",
       "      <th>9</th>\n",
       "      <td>20-03-2018</td>\n",
       "      <td>175.24</td>\n",
       "      <td>124.31</td>\n",
       "    </tr>\n",
       "    <tr>\n",
       "      <th>10</th>\n",
       "      <td>21-03-2018</td>\n",
       "      <td>171.27</td>\n",
       "      <td>126.48</td>\n",
       "    </tr>\n",
       "    <tr>\n",
       "      <th>11</th>\n",
       "      <td>22-03-2018</td>\n",
       "      <td>168.85</td>\n",
       "      <td>125.98</td>\n",
       "    </tr>\n",
       "    <tr>\n",
       "      <th>12</th>\n",
       "      <td>23-03-2018</td>\n",
       "      <td>164.94</td>\n",
       "      <td>127.61</td>\n",
       "    </tr>\n",
       "    <tr>\n",
       "      <th>13</th>\n",
       "      <td>26-03-2018</td>\n",
       "      <td>172.77</td>\n",
       "      <td>128.28</td>\n",
       "    </tr>\n",
       "    <tr>\n",
       "      <th>14</th>\n",
       "      <td>27-03-2018</td>\n",
       "      <td>168.34</td>\n",
       "      <td>127.49</td>\n",
       "    </tr>\n",
       "    <tr>\n",
       "      <th>15</th>\n",
       "      <td>28-03-2018</td>\n",
       "      <td>166.48</td>\n",
       "      <td>125.73</td>\n",
       "    </tr>\n",
       "    <tr>\n",
       "      <th>16</th>\n",
       "      <td>29-03-2018</td>\n",
       "      <td>167.78</td>\n",
       "      <td>125.79</td>\n",
       "    </tr>\n",
       "    <tr>\n",
       "      <th>17</th>\n",
       "      <td>02-04-2018</td>\n",
       "      <td>166.68</td>\n",
       "      <td>127.26</td>\n",
       "    </tr>\n",
       "    <tr>\n",
       "      <th>18</th>\n",
       "      <td>03-04-2018</td>\n",
       "      <td>168.39</td>\n",
       "      <td>126.30</td>\n",
       "    </tr>\n",
       "    <tr>\n",
       "      <th>19</th>\n",
       "      <td>04-04-2018</td>\n",
       "      <td>171.61</td>\n",
       "      <td>126.45</td>\n",
       "    </tr>\n",
       "    <tr>\n",
       "      <th>20</th>\n",
       "      <td>05-04-2018</td>\n",
       "      <td>172.80</td>\n",
       "      <td>125.80</td>\n",
       "    </tr>\n",
       "    <tr>\n",
       "      <th>21</th>\n",
       "      <td>06-04-2018</td>\n",
       "      <td>168.38</td>\n",
       "      <td>126.39</td>\n",
       "    </tr>\n",
       "    <tr>\n",
       "      <th>22</th>\n",
       "      <td>09-04-2018</td>\n",
       "      <td>170.05</td>\n",
       "      <td>126.82</td>\n",
       "    </tr>\n",
       "    <tr>\n",
       "      <th>23</th>\n",
       "      <td>10-04-2018</td>\n",
       "      <td>173.25</td>\n",
       "      <td>127.12</td>\n",
       "    </tr>\n",
       "    <tr>\n",
       "      <th>24</th>\n",
       "      <td>11-04-2018</td>\n",
       "      <td>172.44</td>\n",
       "      <td>128.11</td>\n",
       "    </tr>\n",
       "    <tr>\n",
       "      <th>25</th>\n",
       "      <td>12-04-2018</td>\n",
       "      <td>174.14</td>\n",
       "      <td>126.62</td>\n",
       "    </tr>\n",
       "    <tr>\n",
       "      <th>26</th>\n",
       "      <td>13-04-2018</td>\n",
       "      <td>174.73</td>\n",
       "      <td>127.45</td>\n",
       "    </tr>\n",
       "    <tr>\n",
       "      <th>27</th>\n",
       "      <td>16-04-2018</td>\n",
       "      <td>175.82</td>\n",
       "      <td>127.63</td>\n",
       "    </tr>\n",
       "    <tr>\n",
       "      <th>28</th>\n",
       "      <td>17-04-2018</td>\n",
       "      <td>178.24</td>\n",
       "      <td>127.75</td>\n",
       "    </tr>\n",
       "    <tr>\n",
       "      <th>29</th>\n",
       "      <td>18-04-2018</td>\n",
       "      <td>177.84</td>\n",
       "      <td>127.85</td>\n",
       "    </tr>\n",
       "    <tr>\n",
       "      <th>30</th>\n",
       "      <td>19-04-2018</td>\n",
       "      <td>172.80</td>\n",
       "      <td>127.60</td>\n",
       "    </tr>\n",
       "    <tr>\n",
       "      <th>31</th>\n",
       "      <td>20-04-2018</td>\n",
       "      <td>165.72</td>\n",
       "      <td>126.63</td>\n",
       "    </tr>\n",
       "    <tr>\n",
       "      <th>32</th>\n",
       "      <td>23-04-2018</td>\n",
       "      <td>165.24</td>\n",
       "      <td>125.62</td>\n",
       "    </tr>\n",
       "    <tr>\n",
       "      <th>33</th>\n",
       "      <td>24-04-2018</td>\n",
       "      <td>162.94</td>\n",
       "      <td>126.23</td>\n",
       "    </tr>\n",
       "    <tr>\n",
       "      <th>34</th>\n",
       "      <td>25-04-2018</td>\n",
       "      <td>163.65</td>\n",
       "      <td>125.41</td>\n",
       "    </tr>\n",
       "    <tr>\n",
       "      <th>35</th>\n",
       "      <td>26-04-2018</td>\n",
       "      <td>164.22</td>\n",
       "      <td>124.97</td>\n",
       "    </tr>\n",
       "    <tr>\n",
       "      <th>36</th>\n",
       "      <td>27-04-2018</td>\n",
       "      <td>162.32</td>\n",
       "      <td>125.50</td>\n",
       "    </tr>\n",
       "    <tr>\n",
       "      <th>37</th>\n",
       "      <td>30-04-2018</td>\n",
       "      <td>165.26</td>\n",
       "      <td>124.59</td>\n",
       "    </tr>\n",
       "    <tr>\n",
       "      <th>38</th>\n",
       "      <td>01-05-2018</td>\n",
       "      <td>169.10</td>\n",
       "      <td>123.71</td>\n",
       "    </tr>\n",
       "    <tr>\n",
       "      <th>39</th>\n",
       "      <td>02-05-2018</td>\n",
       "      <td>176.57</td>\n",
       "      <td>123.65</td>\n",
       "    </tr>\n",
       "    <tr>\n",
       "      <th>40</th>\n",
       "      <td>03-05-2018</td>\n",
       "      <td>176.89</td>\n",
       "      <td>124.28</td>\n",
       "    </tr>\n",
       "    <tr>\n",
       "      <th>41</th>\n",
       "      <td>04-05-2018</td>\n",
       "      <td>183.83</td>\n",
       "      <td>124.54</td>\n",
       "    </tr>\n",
       "    <tr>\n",
       "      <th>42</th>\n",
       "      <td>07-05-2018</td>\n",
       "      <td>185.16</td>\n",
       "      <td>124.57</td>\n",
       "    </tr>\n",
       "    <tr>\n",
       "      <th>43</th>\n",
       "      <td>08-05-2018</td>\n",
       "      <td>186.05</td>\n",
       "      <td>124.59</td>\n",
       "    </tr>\n",
       "    <tr>\n",
       "      <th>44</th>\n",
       "      <td>09-05-2018</td>\n",
       "      <td>187.36</td>\n",
       "      <td>124.33</td>\n",
       "    </tr>\n",
       "    <tr>\n",
       "      <th>45</th>\n",
       "      <td>10-05-2018</td>\n",
       "      <td>190.04</td>\n",
       "      <td>125.18</td>\n",
       "    </tr>\n",
       "    <tr>\n",
       "      <th>46</th>\n",
       "      <td>11-05-2018</td>\n",
       "      <td>188.59</td>\n",
       "      <td>125.00</td>\n",
       "    </tr>\n",
       "    <tr>\n",
       "      <th>47</th>\n",
       "      <td>14-05-2018</td>\n",
       "      <td>188.15</td>\n",
       "      <td>124.49</td>\n",
       "    </tr>\n",
       "    <tr>\n",
       "      <th>48</th>\n",
       "      <td>15-05-2018</td>\n",
       "      <td>186.44</td>\n",
       "      <td>122.48</td>\n",
       "    </tr>\n",
       "  </tbody>\n",
       "</table>\n",
       "</div>"
      ],
      "text/plain": [
       "          Date  Asset 1  Asset 2\n",
       "0   07-03-2018   175.03   125.72\n",
       "1   08-03-2018   176.94   125.42\n",
       "2   09-03-2018   179.98   125.54\n",
       "3   12-03-2018   181.72   125.54\n",
       "4   13-03-2018   179.97   125.78\n",
       "5   14-03-2018   178.44   125.70\n",
       "6   15-03-2018   178.65   124.90\n",
       "7   16-03-2018   178.02   124.60\n",
       "8   19-03-2018   175.30   124.87\n",
       "9   20-03-2018   175.24   124.31\n",
       "10  21-03-2018   171.27   126.48\n",
       "11  22-03-2018   168.85   125.98\n",
       "12  23-03-2018   164.94   127.61\n",
       "13  26-03-2018   172.77   128.28\n",
       "14  27-03-2018   168.34   127.49\n",
       "15  28-03-2018   166.48   125.73\n",
       "16  29-03-2018   167.78   125.79\n",
       "17  02-04-2018   166.68   127.26\n",
       "18  03-04-2018   168.39   126.30\n",
       "19  04-04-2018   171.61   126.45\n",
       "20  05-04-2018   172.80   125.80\n",
       "21  06-04-2018   168.38   126.39\n",
       "22  09-04-2018   170.05   126.82\n",
       "23  10-04-2018   173.25   127.12\n",
       "24  11-04-2018   172.44   128.11\n",
       "25  12-04-2018   174.14   126.62\n",
       "26  13-04-2018   174.73   127.45\n",
       "27  16-04-2018   175.82   127.63\n",
       "28  17-04-2018   178.24   127.75\n",
       "29  18-04-2018   177.84   127.85\n",
       "30  19-04-2018   172.80   127.60\n",
       "31  20-04-2018   165.72   126.63\n",
       "32  23-04-2018   165.24   125.62\n",
       "33  24-04-2018   162.94   126.23\n",
       "34  25-04-2018   163.65   125.41\n",
       "35  26-04-2018   164.22   124.97\n",
       "36  27-04-2018   162.32   125.50\n",
       "37  30-04-2018   165.26   124.59\n",
       "38  01-05-2018   169.10   123.71\n",
       "39  02-05-2018   176.57   123.65\n",
       "40  03-05-2018   176.89   124.28\n",
       "41  04-05-2018   183.83   124.54\n",
       "42  07-05-2018   185.16   124.57\n",
       "43  08-05-2018   186.05   124.59\n",
       "44  09-05-2018   187.36   124.33\n",
       "45  10-05-2018   190.04   125.18\n",
       "46  11-05-2018   188.59   125.00\n",
       "47  14-05-2018   188.15   124.49\n",
       "48  15-05-2018   186.44   122.48"
      ]
     },
     "execution_count": 7,
     "metadata": {},
     "output_type": "execute_result"
    }
   ],
   "source": [
    "df"
   ]
  },
  {
   "cell_type": "markdown",
   "id": "ee0ca143",
   "metadata": {},
   "source": [
    "# Let's calculate the returns "
   ]
  },
  {
   "cell_type": "code",
   "execution_count": 82,
   "id": "d66edaa3",
   "metadata": {},
   "outputs": [
    {
     "data": {
      "text/plain": [
       "0     175.03\n",
       "1     176.94\n",
       "2     179.98\n",
       "3     181.72\n",
       "4     179.97\n",
       "5     178.44\n",
       "6     178.65\n",
       "7     178.02\n",
       "8     175.30\n",
       "9     175.24\n",
       "10    171.27\n",
       "11    168.85\n",
       "12    164.94\n",
       "13    172.77\n",
       "14    168.34\n",
       "15    166.48\n",
       "16    167.78\n",
       "17    166.68\n",
       "18    168.39\n",
       "19    171.61\n",
       "20    172.80\n",
       "21    168.38\n",
       "22    170.05\n",
       "23    173.25\n",
       "24    172.44\n",
       "25    174.14\n",
       "26    174.73\n",
       "27    175.82\n",
       "28    178.24\n",
       "29    177.84\n",
       "30    172.80\n",
       "31    165.72\n",
       "32    165.24\n",
       "33    162.94\n",
       "34    163.65\n",
       "35    164.22\n",
       "36    162.32\n",
       "37    165.26\n",
       "38    169.10\n",
       "39    176.57\n",
       "40    176.89\n",
       "41    183.83\n",
       "42    185.16\n",
       "43    186.05\n",
       "44    187.36\n",
       "45    190.04\n",
       "46    188.59\n",
       "47    188.15\n",
       "48    186.44\n",
       "Name: Asset 1, dtype: float64"
      ]
     },
     "execution_count": 82,
     "metadata": {},
     "output_type": "execute_result"
    }
   ],
   "source": [
    "df['Asset 1']"
   ]
  },
  {
   "cell_type": "code",
   "execution_count": 97,
   "id": "d25944a2",
   "metadata": {},
   "outputs": [],
   "source": [
    "df['Asset 1 return %'] = ((df['Asset 1']/df['Asset 1'].shift(1)) -1)* 100"
   ]
  },
  {
   "cell_type": "code",
   "execution_count": 98,
   "id": "6ba8536b",
   "metadata": {},
   "outputs": [],
   "source": [
    "df['Asset 2 return %'] = ((df['Asset 2']/df['Asset 2'].shift(1)) -1)* 100"
   ]
  },
  {
   "cell_type": "markdown",
   "id": "22379a1a",
   "metadata": {},
   "source": [
    "### Looking at results"
   ]
  },
  {
   "cell_type": "code",
   "execution_count": 99,
   "id": "3e18f30a",
   "metadata": {},
   "outputs": [
    {
     "data": {
      "text/html": [
       "<div>\n",
       "<style scoped>\n",
       "    .dataframe tbody tr th:only-of-type {\n",
       "        vertical-align: middle;\n",
       "    }\n",
       "\n",
       "    .dataframe tbody tr th {\n",
       "        vertical-align: top;\n",
       "    }\n",
       "\n",
       "    .dataframe thead th {\n",
       "        text-align: right;\n",
       "    }\n",
       "</style>\n",
       "<table border=\"1\" class=\"dataframe\">\n",
       "  <thead>\n",
       "    <tr style=\"text-align: right;\">\n",
       "      <th></th>\n",
       "      <th>Date</th>\n",
       "      <th>Asset 1</th>\n",
       "      <th>Asset 2</th>\n",
       "      <th>Asset 1 return %</th>\n",
       "      <th>Asset 2 return %</th>\n",
       "    </tr>\n",
       "  </thead>\n",
       "  <tbody>\n",
       "    <tr>\n",
       "      <th>0</th>\n",
       "      <td>07-03-2018</td>\n",
       "      <td>175.03</td>\n",
       "      <td>125.72</td>\n",
       "      <td>NaN</td>\n",
       "      <td>NaN</td>\n",
       "    </tr>\n",
       "    <tr>\n",
       "      <th>1</th>\n",
       "      <td>08-03-2018</td>\n",
       "      <td>176.94</td>\n",
       "      <td>125.42</td>\n",
       "      <td>1.091242</td>\n",
       "      <td>-0.238626</td>\n",
       "    </tr>\n",
       "    <tr>\n",
       "      <th>2</th>\n",
       "      <td>09-03-2018</td>\n",
       "      <td>179.98</td>\n",
       "      <td>125.54</td>\n",
       "      <td>1.718097</td>\n",
       "      <td>0.095679</td>\n",
       "    </tr>\n",
       "    <tr>\n",
       "      <th>3</th>\n",
       "      <td>12-03-2018</td>\n",
       "      <td>181.72</td>\n",
       "      <td>125.54</td>\n",
       "      <td>0.966774</td>\n",
       "      <td>0.000000</td>\n",
       "    </tr>\n",
       "    <tr>\n",
       "      <th>4</th>\n",
       "      <td>13-03-2018</td>\n",
       "      <td>179.97</td>\n",
       "      <td>125.78</td>\n",
       "      <td>-0.963020</td>\n",
       "      <td>0.191174</td>\n",
       "    </tr>\n",
       "  </tbody>\n",
       "</table>\n",
       "</div>"
      ],
      "text/plain": [
       "         Date  Asset 1  Asset 2  Asset 1 return %  Asset 2 return %\n",
       "0  07-03-2018   175.03   125.72               NaN               NaN\n",
       "1  08-03-2018   176.94   125.42          1.091242         -0.238626\n",
       "2  09-03-2018   179.98   125.54          1.718097          0.095679\n",
       "3  12-03-2018   181.72   125.54          0.966774          0.000000\n",
       "4  13-03-2018   179.97   125.78         -0.963020          0.191174"
      ]
     },
     "execution_count": 99,
     "metadata": {},
     "output_type": "execute_result"
    }
   ],
   "source": [
    "df.head()"
   ]
  },
  {
   "cell_type": "markdown",
   "id": "46420090",
   "metadata": {},
   "source": [
    "# Calculating Statistics"
   ]
  },
  {
   "cell_type": "markdown",
   "id": "4fb692db",
   "metadata": {},
   "source": [
    "### Mean"
   ]
  },
  {
   "cell_type": "code",
   "execution_count": 100,
   "id": "cf96674d",
   "metadata": {},
   "outputs": [
    {
     "data": {
      "text/plain": [
       "0.14708609498273925"
      ]
     },
     "execution_count": 100,
     "metadata": {},
     "output_type": "execute_result"
    }
   ],
   "source": [
    "df['Asset 1 return %'].mean()"
   ]
  },
  {
   "cell_type": "code",
   "execution_count": 101,
   "id": "213edc2a",
   "metadata": {},
   "outputs": [],
   "source": [
    "a1_mean = df['Asset 1 return %'].mean()"
   ]
  },
  {
   "cell_type": "code",
   "execution_count": 102,
   "id": "e8d2a0e6",
   "metadata": {},
   "outputs": [
    {
     "data": {
      "text/plain": [
       "-0.0522964300956987"
      ]
     },
     "execution_count": 102,
     "metadata": {},
     "output_type": "execute_result"
    }
   ],
   "source": [
    "df['Asset 2 return %'].mean()"
   ]
  },
  {
   "cell_type": "code",
   "execution_count": 103,
   "id": "bf67c65c",
   "metadata": {},
   "outputs": [],
   "source": [
    "a2_mean = df['Asset 2 return %'].mean()"
   ]
  },
  {
   "cell_type": "markdown",
   "id": "c5be4733",
   "metadata": {},
   "source": [
    "### Variance"
   ]
  },
  {
   "cell_type": "code",
   "execution_count": 104,
   "id": "d10adfad",
   "metadata": {},
   "outputs": [
    {
     "data": {
      "text/plain": [
       "3.1657457985622037"
      ]
     },
     "execution_count": 104,
     "metadata": {},
     "output_type": "execute_result"
    }
   ],
   "source": [
    "df['Asset 1 return %'].var()"
   ]
  },
  {
   "cell_type": "code",
   "execution_count": 105,
   "id": "6ca794d7",
   "metadata": {},
   "outputs": [],
   "source": [
    "a1_var = df['Asset 1 return %'].var()"
   ]
  },
  {
   "cell_type": "code",
   "execution_count": 106,
   "id": "33e7d80c",
   "metadata": {},
   "outputs": [
    {
     "data": {
      "text/plain": [
       "0.42562928847880266"
      ]
     },
     "execution_count": 106,
     "metadata": {},
     "output_type": "execute_result"
    }
   ],
   "source": [
    "df['Asset 2 return %'].var()"
   ]
  },
  {
   "cell_type": "code",
   "execution_count": 107,
   "id": "23371129",
   "metadata": {},
   "outputs": [],
   "source": [
    "a2_var = df['Asset 2 return %'].var()"
   ]
  },
  {
   "cell_type": "markdown",
   "id": "db746793",
   "metadata": {},
   "source": [
    "### Standard Deviation"
   ]
  },
  {
   "cell_type": "code",
   "execution_count": 108,
   "id": "ddc91e95",
   "metadata": {},
   "outputs": [
    {
     "data": {
      "text/plain": [
       "1.779254281591646"
      ]
     },
     "execution_count": 108,
     "metadata": {},
     "output_type": "execute_result"
    }
   ],
   "source": [
    "df['Asset 1 return %'].std()"
   ]
  },
  {
   "cell_type": "code",
   "execution_count": 109,
   "id": "feba4e4f",
   "metadata": {},
   "outputs": [],
   "source": [
    "a1_std = df['Asset 1 return %'].std()"
   ]
  },
  {
   "cell_type": "code",
   "execution_count": 110,
   "id": "ef77b564",
   "metadata": {},
   "outputs": [
    {
     "data": {
      "text/plain": [
       "0.6524027042240113"
      ]
     },
     "execution_count": 110,
     "metadata": {},
     "output_type": "execute_result"
    }
   ],
   "source": [
    "df['Asset 2 return %'].std()"
   ]
  },
  {
   "cell_type": "code",
   "execution_count": 111,
   "id": "ec85b61c",
   "metadata": {},
   "outputs": [],
   "source": [
    "a2_std = df['Asset 2 return %'].std()"
   ]
  },
  {
   "cell_type": "markdown",
   "id": "e47af732",
   "metadata": {},
   "source": [
    "### Covariance"
   ]
  },
  {
   "cell_type": "code",
   "execution_count": 112,
   "id": "d5d902ce",
   "metadata": {},
   "outputs": [
    {
     "name": "stderr",
     "output_type": "stream",
     "text": [
      "/tmp/ipykernel_1437/4141236379.py:1: FutureWarning: The default value of numeric_only in DataFrame.cov is deprecated. In a future version, it will default to False. Select only valid columns or specify the value of numeric_only to silence this warning.\n",
      "  df.cov()[['Asset 1 return %', 'Asset 2 return %']]\n"
     ]
    },
    {
     "data": {
      "text/html": [
       "<div>\n",
       "<style scoped>\n",
       "    .dataframe tbody tr th:only-of-type {\n",
       "        vertical-align: middle;\n",
       "    }\n",
       "\n",
       "    .dataframe tbody tr th {\n",
       "        vertical-align: top;\n",
       "    }\n",
       "\n",
       "    .dataframe thead th {\n",
       "        text-align: right;\n",
       "    }\n",
       "</style>\n",
       "<table border=\"1\" class=\"dataframe\">\n",
       "  <thead>\n",
       "    <tr style=\"text-align: right;\">\n",
       "      <th></th>\n",
       "      <th>Asset 1 return %</th>\n",
       "      <th>Asset 2 return %</th>\n",
       "    </tr>\n",
       "  </thead>\n",
       "  <tbody>\n",
       "    <tr>\n",
       "      <th>Asset 1</th>\n",
       "      <td>3.553268</td>\n",
       "      <td>-0.105203</td>\n",
       "    </tr>\n",
       "    <tr>\n",
       "      <th>Asset 2</th>\n",
       "      <td>-0.462175</td>\n",
       "      <td>0.365132</td>\n",
       "    </tr>\n",
       "    <tr>\n",
       "      <th>Asset 1 return %</th>\n",
       "      <td>3.165746</td>\n",
       "      <td>-0.031814</td>\n",
       "    </tr>\n",
       "    <tr>\n",
       "      <th>Asset 2 return %</th>\n",
       "      <td>-0.031814</td>\n",
       "      <td>0.425629</td>\n",
       "    </tr>\n",
       "  </tbody>\n",
       "</table>\n",
       "</div>"
      ],
      "text/plain": [
       "                  Asset 1 return %  Asset 2 return %\n",
       "Asset 1                   3.553268         -0.105203\n",
       "Asset 2                  -0.462175          0.365132\n",
       "Asset 1 return %          3.165746         -0.031814\n",
       "Asset 2 return %         -0.031814          0.425629"
      ]
     },
     "execution_count": 112,
     "metadata": {},
     "output_type": "execute_result"
    }
   ],
   "source": [
    "df.cov()[['Asset 1 return %', 'Asset 2 return %']]"
   ]
  },
  {
   "cell_type": "code",
   "execution_count": 113,
   "id": "718e2203",
   "metadata": {},
   "outputs": [],
   "source": [
    "a_cov = df['Asset 1 return %'].cov(df['Asset 2 return %'])"
   ]
  },
  {
   "cell_type": "markdown",
   "id": "9c63fbe2",
   "metadata": {},
   "source": [
    "### Correlation"
   ]
  },
  {
   "cell_type": "code",
   "execution_count": 114,
   "id": "756e5ed8",
   "metadata": {},
   "outputs": [
    {
     "name": "stderr",
     "output_type": "stream",
     "text": [
      "/tmp/ipykernel_1437/2648543438.py:1: FutureWarning: The default value of numeric_only in DataFrame.corr is deprecated. In a future version, it will default to False. Select only valid columns or specify the value of numeric_only to silence this warning.\n",
      "  df.corr()[['Asset 1 return %', 'Asset 2 return %']]\n"
     ]
    },
    {
     "data": {
      "text/html": [
       "<div>\n",
       "<style scoped>\n",
       "    .dataframe tbody tr th:only-of-type {\n",
       "        vertical-align: middle;\n",
       "    }\n",
       "\n",
       "    .dataframe tbody tr th {\n",
       "        vertical-align: top;\n",
       "    }\n",
       "\n",
       "    .dataframe thead th {\n",
       "        text-align: right;\n",
       "    }\n",
       "</style>\n",
       "<table border=\"1\" class=\"dataframe\">\n",
       "  <thead>\n",
       "    <tr style=\"text-align: right;\">\n",
       "      <th></th>\n",
       "      <th>Asset 1 return %</th>\n",
       "      <th>Asset 2 return %</th>\n",
       "    </tr>\n",
       "  </thead>\n",
       "  <tbody>\n",
       "    <tr>\n",
       "      <th>Asset 1</th>\n",
       "      <td>0.262927</td>\n",
       "      <td>-0.021230</td>\n",
       "    </tr>\n",
       "    <tr>\n",
       "      <th>Asset 2</th>\n",
       "      <td>-0.195762</td>\n",
       "      <td>0.421788</td>\n",
       "    </tr>\n",
       "    <tr>\n",
       "      <th>Asset 1 return %</th>\n",
       "      <td>1.000000</td>\n",
       "      <td>-0.027407</td>\n",
       "    </tr>\n",
       "    <tr>\n",
       "      <th>Asset 2 return %</th>\n",
       "      <td>-0.027407</td>\n",
       "      <td>1.000000</td>\n",
       "    </tr>\n",
       "  </tbody>\n",
       "</table>\n",
       "</div>"
      ],
      "text/plain": [
       "                  Asset 1 return %  Asset 2 return %\n",
       "Asset 1                   0.262927         -0.021230\n",
       "Asset 2                  -0.195762          0.421788\n",
       "Asset 1 return %          1.000000         -0.027407\n",
       "Asset 2 return %         -0.027407          1.000000"
      ]
     },
     "execution_count": 114,
     "metadata": {},
     "output_type": "execute_result"
    }
   ],
   "source": [
    "df.corr()[['Asset 1 return %', 'Asset 2 return %']]"
   ]
  },
  {
   "cell_type": "code",
   "execution_count": 115,
   "id": "fad0721f",
   "metadata": {},
   "outputs": [],
   "source": [
    "a_corr = df['Asset 1 return %'].corr(df['Asset 2 return %'])"
   ]
  },
  {
   "cell_type": "markdown",
   "id": "f8d33327",
   "metadata": {},
   "source": [
    "<h1><center>Portfolio</center></h1>"
   ]
  },
  {
   "cell_type": "code",
   "execution_count": 116,
   "id": "45038ed3",
   "metadata": {},
   "outputs": [],
   "source": [
    "pf = pd.DataFrame({'Asset 1' : [0.0, 0.1, 0.2, 0.3, 0.4, 0.5, 0.6, 0.7, 0.8, 0.9]})"
   ]
  },
  {
   "cell_type": "code",
   "execution_count": 117,
   "id": "350b6b98",
   "metadata": {},
   "outputs": [
    {
     "data": {
      "text/html": [
       "<div>\n",
       "<style scoped>\n",
       "    .dataframe tbody tr th:only-of-type {\n",
       "        vertical-align: middle;\n",
       "    }\n",
       "\n",
       "    .dataframe tbody tr th {\n",
       "        vertical-align: top;\n",
       "    }\n",
       "\n",
       "    .dataframe thead th {\n",
       "        text-align: right;\n",
       "    }\n",
       "</style>\n",
       "<table border=\"1\" class=\"dataframe\">\n",
       "  <thead>\n",
       "    <tr style=\"text-align: right;\">\n",
       "      <th></th>\n",
       "      <th>Asset 1</th>\n",
       "    </tr>\n",
       "  </thead>\n",
       "  <tbody>\n",
       "    <tr>\n",
       "      <th>0</th>\n",
       "      <td>0.0</td>\n",
       "    </tr>\n",
       "    <tr>\n",
       "      <th>1</th>\n",
       "      <td>0.1</td>\n",
       "    </tr>\n",
       "    <tr>\n",
       "      <th>2</th>\n",
       "      <td>0.2</td>\n",
       "    </tr>\n",
       "    <tr>\n",
       "      <th>3</th>\n",
       "      <td>0.3</td>\n",
       "    </tr>\n",
       "    <tr>\n",
       "      <th>4</th>\n",
       "      <td>0.4</td>\n",
       "    </tr>\n",
       "    <tr>\n",
       "      <th>5</th>\n",
       "      <td>0.5</td>\n",
       "    </tr>\n",
       "    <tr>\n",
       "      <th>6</th>\n",
       "      <td>0.6</td>\n",
       "    </tr>\n",
       "    <tr>\n",
       "      <th>7</th>\n",
       "      <td>0.7</td>\n",
       "    </tr>\n",
       "    <tr>\n",
       "      <th>8</th>\n",
       "      <td>0.8</td>\n",
       "    </tr>\n",
       "    <tr>\n",
       "      <th>9</th>\n",
       "      <td>0.9</td>\n",
       "    </tr>\n",
       "  </tbody>\n",
       "</table>\n",
       "</div>"
      ],
      "text/plain": [
       "   Asset 1\n",
       "0      0.0\n",
       "1      0.1\n",
       "2      0.2\n",
       "3      0.3\n",
       "4      0.4\n",
       "5      0.5\n",
       "6      0.6\n",
       "7      0.7\n",
       "8      0.8\n",
       "9      0.9"
      ]
     },
     "execution_count": 117,
     "metadata": {},
     "output_type": "execute_result"
    }
   ],
   "source": [
    "pf"
   ]
  },
  {
   "cell_type": "code",
   "execution_count": 118,
   "id": "224d2bf0",
   "metadata": {},
   "outputs": [],
   "source": [
    "pf['Asset 2'] = 1 - pf['Asset 1']"
   ]
  },
  {
   "cell_type": "code",
   "execution_count": 119,
   "id": "64ab871f",
   "metadata": {},
   "outputs": [
    {
     "data": {
      "text/html": [
       "<div>\n",
       "<style scoped>\n",
       "    .dataframe tbody tr th:only-of-type {\n",
       "        vertical-align: middle;\n",
       "    }\n",
       "\n",
       "    .dataframe tbody tr th {\n",
       "        vertical-align: top;\n",
       "    }\n",
       "\n",
       "    .dataframe thead th {\n",
       "        text-align: right;\n",
       "    }\n",
       "</style>\n",
       "<table border=\"1\" class=\"dataframe\">\n",
       "  <thead>\n",
       "    <tr style=\"text-align: right;\">\n",
       "      <th></th>\n",
       "      <th>Asset 1</th>\n",
       "      <th>Asset 2</th>\n",
       "    </tr>\n",
       "  </thead>\n",
       "  <tbody>\n",
       "    <tr>\n",
       "      <th>0</th>\n",
       "      <td>0.0</td>\n",
       "      <td>1.0</td>\n",
       "    </tr>\n",
       "    <tr>\n",
       "      <th>1</th>\n",
       "      <td>0.1</td>\n",
       "      <td>0.9</td>\n",
       "    </tr>\n",
       "    <tr>\n",
       "      <th>2</th>\n",
       "      <td>0.2</td>\n",
       "      <td>0.8</td>\n",
       "    </tr>\n",
       "    <tr>\n",
       "      <th>3</th>\n",
       "      <td>0.3</td>\n",
       "      <td>0.7</td>\n",
       "    </tr>\n",
       "    <tr>\n",
       "      <th>4</th>\n",
       "      <td>0.4</td>\n",
       "      <td>0.6</td>\n",
       "    </tr>\n",
       "    <tr>\n",
       "      <th>5</th>\n",
       "      <td>0.5</td>\n",
       "      <td>0.5</td>\n",
       "    </tr>\n",
       "    <tr>\n",
       "      <th>6</th>\n",
       "      <td>0.6</td>\n",
       "      <td>0.4</td>\n",
       "    </tr>\n",
       "    <tr>\n",
       "      <th>7</th>\n",
       "      <td>0.7</td>\n",
       "      <td>0.3</td>\n",
       "    </tr>\n",
       "    <tr>\n",
       "      <th>8</th>\n",
       "      <td>0.8</td>\n",
       "      <td>0.2</td>\n",
       "    </tr>\n",
       "    <tr>\n",
       "      <th>9</th>\n",
       "      <td>0.9</td>\n",
       "      <td>0.1</td>\n",
       "    </tr>\n",
       "  </tbody>\n",
       "</table>\n",
       "</div>"
      ],
      "text/plain": [
       "   Asset 1  Asset 2\n",
       "0      0.0      1.0\n",
       "1      0.1      0.9\n",
       "2      0.2      0.8\n",
       "3      0.3      0.7\n",
       "4      0.4      0.6\n",
       "5      0.5      0.5\n",
       "6      0.6      0.4\n",
       "7      0.7      0.3\n",
       "8      0.8      0.2\n",
       "9      0.9      0.1"
      ]
     },
     "execution_count": 119,
     "metadata": {},
     "output_type": "execute_result"
    }
   ],
   "source": [
    "pf"
   ]
  },
  {
   "cell_type": "markdown",
   "id": "d32befe2",
   "metadata": {},
   "source": [
    "### Mean "
   ]
  },
  {
   "cell_type": "code",
   "execution_count": 120,
   "id": "a32fe2bd",
   "metadata": {},
   "outputs": [
    {
     "data": {
      "text/plain": [
       "0   -0.052296\n",
       "1   -0.032358\n",
       "2   -0.012420\n",
       "3    0.007518\n",
       "4    0.027457\n",
       "5    0.047395\n",
       "6    0.067333\n",
       "7    0.087271\n",
       "8    0.107210\n",
       "9    0.127148\n",
       "dtype: float64"
      ]
     },
     "execution_count": 120,
     "metadata": {},
     "output_type": "execute_result"
    }
   ],
   "source": [
    "pf['Asset 1'] * a1_mean + pf['Asset 2'] * a2_mean"
   ]
  },
  {
   "cell_type": "code",
   "execution_count": 121,
   "id": "e13f047c",
   "metadata": {},
   "outputs": [],
   "source": [
    "pf['Mean'] = pf['Asset 1'] * a1_mean + pf['Asset 2'] * a2_mean"
   ]
  },
  {
   "cell_type": "code",
   "execution_count": 122,
   "id": "a9b8152d",
   "metadata": {},
   "outputs": [
    {
     "data": {
      "text/html": [
       "<div>\n",
       "<style scoped>\n",
       "    .dataframe tbody tr th:only-of-type {\n",
       "        vertical-align: middle;\n",
       "    }\n",
       "\n",
       "    .dataframe tbody tr th {\n",
       "        vertical-align: top;\n",
       "    }\n",
       "\n",
       "    .dataframe thead th {\n",
       "        text-align: right;\n",
       "    }\n",
       "</style>\n",
       "<table border=\"1\" class=\"dataframe\">\n",
       "  <thead>\n",
       "    <tr style=\"text-align: right;\">\n",
       "      <th></th>\n",
       "      <th>Asset 1</th>\n",
       "      <th>Asset 2</th>\n",
       "      <th>Mean</th>\n",
       "    </tr>\n",
       "  </thead>\n",
       "  <tbody>\n",
       "    <tr>\n",
       "      <th>0</th>\n",
       "      <td>0.0</td>\n",
       "      <td>1.0</td>\n",
       "      <td>-0.052296</td>\n",
       "    </tr>\n",
       "    <tr>\n",
       "      <th>1</th>\n",
       "      <td>0.1</td>\n",
       "      <td>0.9</td>\n",
       "      <td>-0.032358</td>\n",
       "    </tr>\n",
       "    <tr>\n",
       "      <th>2</th>\n",
       "      <td>0.2</td>\n",
       "      <td>0.8</td>\n",
       "      <td>-0.012420</td>\n",
       "    </tr>\n",
       "    <tr>\n",
       "      <th>3</th>\n",
       "      <td>0.3</td>\n",
       "      <td>0.7</td>\n",
       "      <td>0.007518</td>\n",
       "    </tr>\n",
       "    <tr>\n",
       "      <th>4</th>\n",
       "      <td>0.4</td>\n",
       "      <td>0.6</td>\n",
       "      <td>0.027457</td>\n",
       "    </tr>\n",
       "    <tr>\n",
       "      <th>5</th>\n",
       "      <td>0.5</td>\n",
       "      <td>0.5</td>\n",
       "      <td>0.047395</td>\n",
       "    </tr>\n",
       "    <tr>\n",
       "      <th>6</th>\n",
       "      <td>0.6</td>\n",
       "      <td>0.4</td>\n",
       "      <td>0.067333</td>\n",
       "    </tr>\n",
       "    <tr>\n",
       "      <th>7</th>\n",
       "      <td>0.7</td>\n",
       "      <td>0.3</td>\n",
       "      <td>0.087271</td>\n",
       "    </tr>\n",
       "    <tr>\n",
       "      <th>8</th>\n",
       "      <td>0.8</td>\n",
       "      <td>0.2</td>\n",
       "      <td>0.107210</td>\n",
       "    </tr>\n",
       "    <tr>\n",
       "      <th>9</th>\n",
       "      <td>0.9</td>\n",
       "      <td>0.1</td>\n",
       "      <td>0.127148</td>\n",
       "    </tr>\n",
       "  </tbody>\n",
       "</table>\n",
       "</div>"
      ],
      "text/plain": [
       "   Asset 1  Asset 2      Mean\n",
       "0      0.0      1.0 -0.052296\n",
       "1      0.1      0.9 -0.032358\n",
       "2      0.2      0.8 -0.012420\n",
       "3      0.3      0.7  0.007518\n",
       "4      0.4      0.6  0.027457\n",
       "5      0.5      0.5  0.047395\n",
       "6      0.6      0.4  0.067333\n",
       "7      0.7      0.3  0.087271\n",
       "8      0.8      0.2  0.107210\n",
       "9      0.9      0.1  0.127148"
      ]
     },
     "execution_count": 122,
     "metadata": {},
     "output_type": "execute_result"
    }
   ],
   "source": [
    "pf"
   ]
  },
  {
   "cell_type": "markdown",
   "id": "b1675390",
   "metadata": {},
   "source": [
    "### Variance"
   ]
  },
  {
   "cell_type": "code",
   "execution_count": 132,
   "id": "eeb6ef7d",
   "metadata": {},
   "outputs": [
    {
     "data": {
      "text/plain": [
       "0    0.425629\n",
       "1    0.370691\n",
       "2    0.388852\n",
       "3    0.480114\n",
       "4    0.644475\n",
       "5    0.881937\n",
       "6    1.192498\n",
       "7    1.576160\n",
       "8    2.032922\n",
       "9    2.562784\n",
       "dtype: float64"
      ]
     },
     "execution_count": 132,
     "metadata": {},
     "output_type": "execute_result"
    }
   ],
   "source": [
    "((pf['Asset 1'] ** 2) * a1_var) + ((pf['Asset 2'] ** 2) * a2_var) + 2 * pf['Asset 1'] * pf['Asset 2'] * a_cov"
   ]
  },
  {
   "cell_type": "code",
   "execution_count": 133,
   "id": "207109ed",
   "metadata": {},
   "outputs": [],
   "source": [
    "pf['Variance'] = ((pf['Asset 1'] ** 2) * a1_var) + ((pf['Asset 2'] ** 2) * a2_var) + 2 * pf['Asset 1'] * pf['Asset 2'] * a_cov"
   ]
  },
  {
   "cell_type": "code",
   "execution_count": 134,
   "id": "9fa828fa",
   "metadata": {},
   "outputs": [
    {
     "data": {
      "text/html": [
       "<div>\n",
       "<style scoped>\n",
       "    .dataframe tbody tr th:only-of-type {\n",
       "        vertical-align: middle;\n",
       "    }\n",
       "\n",
       "    .dataframe tbody tr th {\n",
       "        vertical-align: top;\n",
       "    }\n",
       "\n",
       "    .dataframe thead th {\n",
       "        text-align: right;\n",
       "    }\n",
       "</style>\n",
       "<table border=\"1\" class=\"dataframe\">\n",
       "  <thead>\n",
       "    <tr style=\"text-align: right;\">\n",
       "      <th></th>\n",
       "      <th>Asset 1</th>\n",
       "      <th>Asset 2</th>\n",
       "      <th>Mean</th>\n",
       "      <th>Variance</th>\n",
       "      <th>Standard Deviation</th>\n",
       "    </tr>\n",
       "  </thead>\n",
       "  <tbody>\n",
       "    <tr>\n",
       "      <th>0</th>\n",
       "      <td>0.0</td>\n",
       "      <td>1.0</td>\n",
       "      <td>-0.052296</td>\n",
       "      <td>0.425629</td>\n",
       "      <td>0.212815</td>\n",
       "    </tr>\n",
       "    <tr>\n",
       "      <th>1</th>\n",
       "      <td>0.1</td>\n",
       "      <td>0.9</td>\n",
       "      <td>-0.032358</td>\n",
       "      <td>0.370691</td>\n",
       "      <td>0.327804</td>\n",
       "    </tr>\n",
       "    <tr>\n",
       "      <th>2</th>\n",
       "      <td>0.2</td>\n",
       "      <td>0.8</td>\n",
       "      <td>-0.012420</td>\n",
       "      <td>0.388852</td>\n",
       "      <td>0.447686</td>\n",
       "    </tr>\n",
       "    <tr>\n",
       "      <th>3</th>\n",
       "      <td>0.3</td>\n",
       "      <td>0.7</td>\n",
       "      <td>0.007518</td>\n",
       "      <td>0.480114</td>\n",
       "      <td>0.572460</td>\n",
       "    </tr>\n",
       "    <tr>\n",
       "      <th>4</th>\n",
       "      <td>0.4</td>\n",
       "      <td>0.6</td>\n",
       "      <td>0.027457</td>\n",
       "      <td>0.644475</td>\n",
       "      <td>0.702127</td>\n",
       "    </tr>\n",
       "    <tr>\n",
       "      <th>5</th>\n",
       "      <td>0.5</td>\n",
       "      <td>0.5</td>\n",
       "      <td>0.047395</td>\n",
       "      <td>0.881937</td>\n",
       "      <td>0.836687</td>\n",
       "    </tr>\n",
       "    <tr>\n",
       "      <th>6</th>\n",
       "      <td>0.6</td>\n",
       "      <td>0.4</td>\n",
       "      <td>0.067333</td>\n",
       "      <td>1.192498</td>\n",
       "      <td>0.976139</td>\n",
       "    </tr>\n",
       "    <tr>\n",
       "      <th>7</th>\n",
       "      <td>0.7</td>\n",
       "      <td>0.3</td>\n",
       "      <td>0.087271</td>\n",
       "      <td>1.576160</td>\n",
       "      <td>1.120483</td>\n",
       "    </tr>\n",
       "    <tr>\n",
       "      <th>8</th>\n",
       "      <td>0.8</td>\n",
       "      <td>0.2</td>\n",
       "      <td>0.107210</td>\n",
       "      <td>2.032922</td>\n",
       "      <td>1.269721</td>\n",
       "    </tr>\n",
       "    <tr>\n",
       "      <th>9</th>\n",
       "      <td>0.9</td>\n",
       "      <td>0.1</td>\n",
       "      <td>0.127148</td>\n",
       "      <td>2.562784</td>\n",
       "      <td>1.423850</td>\n",
       "    </tr>\n",
       "  </tbody>\n",
       "</table>\n",
       "</div>"
      ],
      "text/plain": [
       "   Asset 1  Asset 2      Mean  Variance  Standard Deviation\n",
       "0      0.0      1.0 -0.052296  0.425629            0.212815\n",
       "1      0.1      0.9 -0.032358  0.370691            0.327804\n",
       "2      0.2      0.8 -0.012420  0.388852            0.447686\n",
       "3      0.3      0.7  0.007518  0.480114            0.572460\n",
       "4      0.4      0.6  0.027457  0.644475            0.702127\n",
       "5      0.5      0.5  0.047395  0.881937            0.836687\n",
       "6      0.6      0.4  0.067333  1.192498            0.976139\n",
       "7      0.7      0.3  0.087271  1.576160            1.120483\n",
       "8      0.8      0.2  0.107210  2.032922            1.269721\n",
       "9      0.9      0.1  0.127148  2.562784            1.423850"
      ]
     },
     "execution_count": 134,
     "metadata": {},
     "output_type": "execute_result"
    }
   ],
   "source": [
    "pf"
   ]
  },
  {
   "cell_type": "markdown",
   "id": "f30a541f",
   "metadata": {},
   "source": [
    "# Standard Deviation"
   ]
  },
  {
   "cell_type": "code",
   "execution_count": 135,
   "id": "5f5f713d",
   "metadata": {},
   "outputs": [
    {
     "data": {
      "text/plain": [
       "0    0.212815\n",
       "1    0.185345\n",
       "2    0.194426\n",
       "3    0.240057\n",
       "4    0.322238\n",
       "5    0.440968\n",
       "6    0.596249\n",
       "7    0.788080\n",
       "8    1.016461\n",
       "9    1.281392\n",
       "Name: Variance, dtype: float64"
      ]
     },
     "execution_count": 135,
     "metadata": {},
     "output_type": "execute_result"
    }
   ],
   "source": [
    "pf['Variance'] ** 1/2"
   ]
  },
  {
   "cell_type": "code",
   "execution_count": 141,
   "id": "bbdcbd80",
   "metadata": {},
   "outputs": [],
   "source": [
    "pf['Standard Deviation'] = pf['Variance'] ** 1/2"
   ]
  },
  {
   "cell_type": "code",
   "execution_count": 142,
   "id": "a583d384",
   "metadata": {},
   "outputs": [
    {
     "data": {
      "text/html": [
       "<div>\n",
       "<style scoped>\n",
       "    .dataframe tbody tr th:only-of-type {\n",
       "        vertical-align: middle;\n",
       "    }\n",
       "\n",
       "    .dataframe tbody tr th {\n",
       "        vertical-align: top;\n",
       "    }\n",
       "\n",
       "    .dataframe thead th {\n",
       "        text-align: right;\n",
       "    }\n",
       "</style>\n",
       "<table border=\"1\" class=\"dataframe\">\n",
       "  <thead>\n",
       "    <tr style=\"text-align: right;\">\n",
       "      <th></th>\n",
       "      <th>Asset 1</th>\n",
       "      <th>Asset 2</th>\n",
       "      <th>Mean</th>\n",
       "      <th>Variance</th>\n",
       "      <th>Standard Deviation</th>\n",
       "    </tr>\n",
       "  </thead>\n",
       "  <tbody>\n",
       "    <tr>\n",
       "      <th>0</th>\n",
       "      <td>0.0</td>\n",
       "      <td>1.0</td>\n",
       "      <td>-0.052296</td>\n",
       "      <td>0.425629</td>\n",
       "      <td>0.212815</td>\n",
       "    </tr>\n",
       "    <tr>\n",
       "      <th>1</th>\n",
       "      <td>0.1</td>\n",
       "      <td>0.9</td>\n",
       "      <td>-0.032358</td>\n",
       "      <td>0.370691</td>\n",
       "      <td>0.185345</td>\n",
       "    </tr>\n",
       "    <tr>\n",
       "      <th>2</th>\n",
       "      <td>0.2</td>\n",
       "      <td>0.8</td>\n",
       "      <td>-0.012420</td>\n",
       "      <td>0.388852</td>\n",
       "      <td>0.194426</td>\n",
       "    </tr>\n",
       "    <tr>\n",
       "      <th>3</th>\n",
       "      <td>0.3</td>\n",
       "      <td>0.7</td>\n",
       "      <td>0.007518</td>\n",
       "      <td>0.480114</td>\n",
       "      <td>0.240057</td>\n",
       "    </tr>\n",
       "    <tr>\n",
       "      <th>4</th>\n",
       "      <td>0.4</td>\n",
       "      <td>0.6</td>\n",
       "      <td>0.027457</td>\n",
       "      <td>0.644475</td>\n",
       "      <td>0.322238</td>\n",
       "    </tr>\n",
       "    <tr>\n",
       "      <th>5</th>\n",
       "      <td>0.5</td>\n",
       "      <td>0.5</td>\n",
       "      <td>0.047395</td>\n",
       "      <td>0.881937</td>\n",
       "      <td>0.440968</td>\n",
       "    </tr>\n",
       "    <tr>\n",
       "      <th>6</th>\n",
       "      <td>0.6</td>\n",
       "      <td>0.4</td>\n",
       "      <td>0.067333</td>\n",
       "      <td>1.192498</td>\n",
       "      <td>0.596249</td>\n",
       "    </tr>\n",
       "    <tr>\n",
       "      <th>7</th>\n",
       "      <td>0.7</td>\n",
       "      <td>0.3</td>\n",
       "      <td>0.087271</td>\n",
       "      <td>1.576160</td>\n",
       "      <td>0.788080</td>\n",
       "    </tr>\n",
       "    <tr>\n",
       "      <th>8</th>\n",
       "      <td>0.8</td>\n",
       "      <td>0.2</td>\n",
       "      <td>0.107210</td>\n",
       "      <td>2.032922</td>\n",
       "      <td>1.016461</td>\n",
       "    </tr>\n",
       "    <tr>\n",
       "      <th>9</th>\n",
       "      <td>0.9</td>\n",
       "      <td>0.1</td>\n",
       "      <td>0.127148</td>\n",
       "      <td>2.562784</td>\n",
       "      <td>1.281392</td>\n",
       "    </tr>\n",
       "  </tbody>\n",
       "</table>\n",
       "</div>"
      ],
      "text/plain": [
       "   Asset 1  Asset 2      Mean  Variance  Standard Deviation\n",
       "0      0.0      1.0 -0.052296  0.425629            0.212815\n",
       "1      0.1      0.9 -0.032358  0.370691            0.185345\n",
       "2      0.2      0.8 -0.012420  0.388852            0.194426\n",
       "3      0.3      0.7  0.007518  0.480114            0.240057\n",
       "4      0.4      0.6  0.027457  0.644475            0.322238\n",
       "5      0.5      0.5  0.047395  0.881937            0.440968\n",
       "6      0.6      0.4  0.067333  1.192498            0.596249\n",
       "7      0.7      0.3  0.087271  1.576160            0.788080\n",
       "8      0.8      0.2  0.107210  2.032922            1.016461\n",
       "9      0.9      0.1  0.127148  2.562784            1.281392"
      ]
     },
     "execution_count": 142,
     "metadata": {},
     "output_type": "execute_result"
    }
   ],
   "source": [
    "pf"
   ]
  },
  {
   "cell_type": "markdown",
   "id": "ff960be0",
   "metadata": {},
   "source": [
    "# Plotting"
   ]
  },
  {
   "cell_type": "code",
   "execution_count": 149,
   "id": "5ff53010",
   "metadata": {},
   "outputs": [
    {
     "data": {
      "text/plain": [
       "Text(0.5, 0, 'Standard Deviation')"
      ]
     },
     "execution_count": 149,
     "metadata": {},
     "output_type": "execute_result"
    },
    {
     "data": {
      "image/png": "[encoded data removed]",
      "text/plain": [
       "<Figure size 640x480 with 1 Axes>"
      ]
     },
     "metadata": {},
     "output_type": "display_data"
    }
   ],
   "source": [
    "import matplotlib.pyplot as plt\n",
    "plt.plot(pf['Standard Deviation'],pf['Mean'])\n",
    "plt.title('Efficient Frontier')\n",
    "plt.ylabel('Mean')\n",
    "plt.xlabel('Standard Deviation')"
   ]
  },
  {
   "cell_type": "code",
   "execution_count": null,
   "id": "deb0d8a7",
   "metadata": {},
   "outputs": [],
   "source": []
  },
  {
   "cell_type": "code",
   "execution_count": null,
   "id": "9bcce427",
   "metadata": {},
   "outputs": [],
   "source": []
  },
  {
   "cell_type": "code",
   "execution_count": null,
   "id": "5d60cc12",
   "metadata": {},
   "outputs": [],
   "source": []
  },
  {
   "cell_type": "markdown",
   "id": "266ffb6c",
   "metadata": {},
   "source": [
    "<center><h1>Parametric Gaussian VaR</h1></center>\n",
    "\n",
    "It assumes portfolio returns follow a specific probability distribution (usually normal distribution) and estimates VaR based on the mean and standard deviation of returns.\n",
    "\n",
    "```z``` value for a ```VaR``` (5%) = -1.65 \n",
    "\n",
    "Daily Standard deviation (```σ```) = 0.014 \n",
    "\n",
    "Portfolio value = 1000000\n",
    "\t\n",
    "\n",
    "```VaR```\t= ```z * σ```\n",
    "\n",
    "```VaR``` (5%) on ```INR``` basis = ```VaR * Portfolio value``` \n",
    "\n",
    "---"
   ]
  },
  {
   "cell_type": "markdown",
   "id": "592c32a7",
   "metadata": {},
   "source": [
    "#### VaR"
   ]
  },
  {
   "cell_type": "code",
   "execution_count": 2,
   "id": "3c524821",
   "metadata": {},
   "outputs": [],
   "source": [
    "z = -1.65\n",
    "stdev = 0.014"
   ]
  },
  {
   "cell_type": "code",
   "execution_count": 3,
   "id": "a9d5cabe",
   "metadata": {},
   "outputs": [],
   "source": [
    "var = z * stdev"
   ]
  },
  {
   "cell_type": "code",
   "execution_count": 4,
   "id": "297af866",
   "metadata": {},
   "outputs": [
    {
     "data": {
      "text/plain": [
       "-0.0231"
      ]
     },
     "execution_count": 4,
     "metadata": {},
     "output_type": "execute_result"
    }
   ],
   "source": [
    "var"
   ]
  },
  {
   "cell_type": "markdown",
   "id": "d0311de5",
   "metadata": {},
   "source": [
    "#### VaR (5%) on INR basis"
   ]
  },
  {
   "cell_type": "code",
   "execution_count": 5,
   "id": "d7e5f608",
   "metadata": {},
   "outputs": [],
   "source": [
    "pftv = 1000000"
   ]
  },
  {
   "cell_type": "code",
   "execution_count": 6,
   "id": "aef95421",
   "metadata": {},
   "outputs": [
    {
     "data": {
      "text/plain": [
       "-23100.0"
      ]
     },
     "execution_count": 6,
     "metadata": {},
     "output_type": "execute_result"
    }
   ],
   "source": [
    "var * pftv"
   ]
  },
  {
   "cell_type": "markdown",
   "id": "76dbdd45",
   "metadata": {},
   "source": [
    "### Concusion\n",
    "There is a ```5%``` probabaility that on any given day, the loss in value on this particular asset will equal or exceed ```2.31%``` or ```INR 23,100```\n",
    "\n",
    "---"
   ]
  },
  {
   "cell_type": "markdown",
   "id": "68fa2df8",
   "metadata": {},
   "source": [
    "# If the expected return is non zero\n",
    "For a INR 1000000 portfolio, the expected 1-week portfolio return and standard deviation are 0.00188 and .0125 respectively. Calculate the 1 week VaR at 5% level of significance."
   ]
  },
  {
   "cell_type": "markdown",
   "id": "b2cae05c",
   "metadata": {},
   "source": [
    "```VaR``` = ```[Expected return-zσ] * portfolio value```\t\n",
    "\n",
    "```Expected return``` = 0.00188\n",
    "\n",
    "```Standard deviation (σ)``` = 0.0125\n",
    "\n",
    "```z value for a VaR (5%)``` = -1.65\n",
    "\n",
    "```Portfolio value``` = 1000000\n",
    "\n",
    "---"
   ]
  },
  {
   "cell_type": "code",
   "execution_count": 11,
   "id": "2a95cd73",
   "metadata": {},
   "outputs": [],
   "source": [
    "expected_return = 0.00188\n",
    "stddev= 0.0125\n",
    "z_value = -1.65\n",
    "Pftv = 1000000"
   ]
  },
  {
   "cell_type": "markdown",
   "id": "9cd84a18",
   "metadata": {},
   "source": [
    "```VaR``` = (```Expected_return``` - (```Standard_deviation ``` * ```z_value```))*```Portfolio_value```"
   ]
  },
  {
   "cell_type": "code",
   "execution_count": 12,
   "id": "e1bc0749",
   "metadata": {},
   "outputs": [],
   "source": [
    "VaR = (expected_return - (stddev * z_value)) * Pftv"
   ]
  },
  {
   "cell_type": "code",
   "execution_count": 13,
   "id": "cfc76c3a",
   "metadata": {},
   "outputs": [
    {
     "data": {
      "text/plain": [
       "22505.0"
      ]
     },
     "execution_count": 13,
     "metadata": {},
     "output_type": "execute_result"
    }
   ],
   "source": [
    "VaR"
   ]
  },
  {
   "cell_type": "markdown",
   "id": "6f507750",
   "metadata": {},
   "source": [
    "```VaR``` = 22505.0\n",
    "\n",
    "The banker can be 95% confident that the maximum 1-week loss will not exceed INR 22505\t\n",
    "\n",
    "---\n"
   ]
  },
  {
   "cell_type": "code",
   "execution_count": null,
   "id": "5efce560",
   "metadata": {},
   "outputs": [],
   "source": []
  },
  {
   "cell_type": "code",
   "execution_count": null,
   "id": "8385dec1",
   "metadata": {},
   "outputs": [],
   "source": []
  },
  {
   "cell_type": "markdown",
   "id": "b64505ce",
   "metadata": {},
   "source": [
    "<h1><center>Variance-Std Deviation</center></h1>"
   ]
  },
  {
   "cell_type": "markdown",
   "id": "af6471de",
   "metadata": {},
   "source": [
    "Consider a dataset of investment returns: (%)"
   ]
  },
  {
   "cell_type": "code",
   "execution_count": 1,
   "id": "f21f7295",
   "metadata": {},
   "outputs": [],
   "source": [
    "import pandas as pd"
   ]
  },
  {
   "cell_type": "code",
   "execution_count": 2,
   "id": "56e1d1ea",
   "metadata": {},
   "outputs": [
    {
     "data": {
      "text/html": [
       "<div>\n",
       "<style scoped>\n",
       "    .dataframe tbody tr th:only-of-type {\n",
       "        vertical-align: middle;\n",
       "    }\n",
       "\n",
       "    .dataframe tbody tr th {\n",
       "        vertical-align: top;\n",
       "    }\n",
       "\n",
       "    .dataframe thead th {\n",
       "        text-align: right;\n",
       "    }\n",
       "</style>\n",
       "<table border=\"1\" class=\"dataframe\">\n",
       "  <thead>\n",
       "    <tr style=\"text-align: right;\">\n",
       "      <th></th>\n",
       "      <th>Investment Returns</th>\n",
       "    </tr>\n",
       "  </thead>\n",
       "  <tbody>\n",
       "    <tr>\n",
       "      <th>0</th>\n",
       "      <td>5</td>\n",
       "    </tr>\n",
       "    <tr>\n",
       "      <th>1</th>\n",
       "      <td>10</td>\n",
       "    </tr>\n",
       "    <tr>\n",
       "      <th>2</th>\n",
       "      <td>-3</td>\n",
       "    </tr>\n",
       "    <tr>\n",
       "      <th>3</th>\n",
       "      <td>8</td>\n",
       "    </tr>\n",
       "    <tr>\n",
       "      <th>4</th>\n",
       "      <td>-2</td>\n",
       "    </tr>\n",
       "  </tbody>\n",
       "</table>\n",
       "</div>"
      ],
      "text/plain": [
       "   Investment Returns\n",
       "0                   5\n",
       "1                  10\n",
       "2                  -3\n",
       "3                   8\n",
       "4                  -2"
      ]
     },
     "execution_count": 2,
     "metadata": {},
     "output_type": "execute_result"
    }
   ],
   "source": [
    "df = pd.DataFrame({'Investment Returns': [5,10,-3,8,-2]})\n",
    "df"
   ]
  },
  {
   "cell_type": "markdown",
   "id": "5262d17d",
   "metadata": {},
   "source": [
    "# Calculate the mean return"
   ]
  },
  {
   "cell_type": "code",
   "execution_count": 4,
   "id": "f630483d",
   "metadata": {},
   "outputs": [
    {
     "data": {
      "text/plain": [
       "3.6"
      ]
     },
     "execution_count": 4,
     "metadata": {},
     "output_type": "execute_result"
    }
   ],
   "source": [
    "df['Investment Returns'].mean()"
   ]
  },
  {
   "cell_type": "markdown",
   "id": "ea9200e8",
   "metadata": {},
   "source": [
    "# Calculate the Squared Deviations:\n",
    "The standard deviation quantifies the average distance between each monthly return and the mean return. A higher standard deviation indicates greater volatility or spread in returns, while a lower standard deviation suggests less volatility. It provides a measure of risk that's easier to interpret since it's expressed in the same units as the original data."
   ]
  },
  {
   "cell_type": "code",
   "execution_count": 10,
   "id": "a8b7cab8",
   "metadata": {},
   "outputs": [
    {
     "data": {
      "text/plain": [
       "5.856620185738529"
      ]
     },
     "execution_count": 10,
     "metadata": {},
     "output_type": "execute_result"
    }
   ],
   "source": [
    "df['Investment Returns'].std()"
   ]
  },
  {
   "cell_type": "markdown",
   "id": "dedbc88b",
   "metadata": {},
   "source": [
    "# Calculate the Variance:\n",
    "The variance quantifies the average squared distance between each monthly return and the mean return. A higher variance indicates greater volatility or spread in returns, while a lower variance suggests less volatility."
   ]
  },
  {
   "cell_type": "code",
   "execution_count": 9,
   "id": "bd3d6290",
   "metadata": {},
   "outputs": [
    {
     "data": {
      "text/plain": [
       "34.3"
      ]
     },
     "execution_count": 9,
     "metadata": {},
     "output_type": "execute_result"
    }
   ],
   "source": [
    "df['Investment Returns'].var()"
   ]
  },
  {
   "cell_type": "code",
   "execution_count": null,
   "id": "321b08da",
   "metadata": {},
   "outputs": [],
   "source": []
  },
  {
   "cell_type": "code",
   "execution_count": null,
   "id": "a34acdb2",
   "metadata": {},
   "outputs": [],
   "source": []
  },
  {
   "cell_type": "code",
   "execution_count": null,
   "id": "e21c6e9d",
   "metadata": {},
   "outputs": [],
   "source": []
  },
  {
   "cell_type": "code",
   "execution_count": null,
   "id": "2ce2eec8",
   "metadata": {},
   "outputs": [],
   "source": []
  },
  {
   "cell_type": "code",
   "execution_count": null,
   "id": "0ff2651f",
   "metadata": {},
   "outputs": [],
   "source": []
  },
  {
   "cell_type": "code",
   "execution_count": null,
   "id": "303182d1",
   "metadata": {},
   "outputs": [],
   "source": []
  },
  {
   "cell_type": "code",
   "execution_count": null,
   "id": "1a9b3fac",
   "metadata": {},
   "outputs": [],
   "source": []
  },
  {
   "cell_type": "code",
   "execution_count": null,
   "id": "f63e6e67",
   "metadata": {},
   "outputs": [],
   "source": []
  },
  {
   "cell_type": "code",
   "execution_count": null,
   "id": "7d1a2063",
   "metadata": {},
   "outputs": [],
   "source": []
  },
  {
   "cell_type": "code",
   "execution_count": null,
   "id": "abb49d40",
   "metadata": {},
   "outputs": [],
   "source": []
  },
  {
   "cell_type": "code",
   "execution_count": null,
   "id": "79ffeb3d",
   "metadata": {},
   "outputs": [],
   "source": []
  },
  {
   "cell_type": "code",
   "execution_count": null,
   "id": "3a89874b",
   "metadata": {},
   "outputs": [],
   "source": []
  },
  {
   "cell_type": "code",
   "execution_count": null,
   "id": "c053dfa5",
   "metadata": {},
   "outputs": [],
   "source": []
  },
  {
   "cell_type": "code",
   "execution_count": null,
   "id": "4a5a9651",
   "metadata": {},
   "outputs": [],
   "source": []
  }
 ],
 "metadata": {
  "kernelspec": {
   "display_name": "Python 3 (ipykernel)",
   "language": "python",
   "name": "python3"
  },
  "language_info": {
   "codemirror_mode": {
    "name": "ipython",
    "version": 3
   },
   "file_extension": ".py",
   "mimetype": "text/x-python",
   "name": "python",
   "nbconvert_exporter": "python",
   "pygments_lexer": "ipython3",
   "version": "3.9.18"
  }
 },
 "nbformat": 4,
 "nbformat_minor": 5
}
