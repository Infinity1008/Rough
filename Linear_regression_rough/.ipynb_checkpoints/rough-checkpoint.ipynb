{
 "cells": [
  {
   "cell_type": "markdown",
   "id": "dab6780c",
   "metadata": {},
   "source": [
    "<center>Let's generate random data</center>"
   ]
  },
  {
   "cell_type": "code",
   "execution_count": 1,
   "id": "81d30714",
   "metadata": {},
   "outputs": [
    {
     "ename": "NameError",
     "evalue": "name 'np' is not defined",
     "output_type": "error",
     "traceback": [
      "\u001b[0;31m---------------------------------------------------------------------------\u001b[0m",
      "\u001b[0;31mNameError\u001b[0m                                 Traceback (most recent call last)",
      "\u001b[0;32m/tmp/ipykernel_1296/3814193149.py\u001b[0m in \u001b[0;36m<module>\u001b[0;34m\u001b[0m\n\u001b[1;32m     31\u001b[0m \u001b[0;34m\u001b[0m\u001b[0m\n\u001b[1;32m     32\u001b[0m \u001b[0;31m# interact_manual(create_data_only,i=widgets.Button(description=\"Click Me!\"));\u001b[0m\u001b[0;34m\u001b[0m\u001b[0;34m\u001b[0m\u001b[0m\n\u001b[0;32m---> 33\u001b[0;31m \u001b[0mcreate_data_only\u001b[0m\u001b[0;34m(\u001b[0m\u001b[0;34m)\u001b[0m\u001b[0;34m\u001b[0m\u001b[0;34m\u001b[0m\u001b[0m\n\u001b[0m",
      "\u001b[0;32m/tmp/ipykernel_1296/3814193149.py\u001b[0m in \u001b[0;36mcreate_data_only\u001b[0;34m()\u001b[0m\n\u001b[1;32m      4\u001b[0m \u001b[0;34m\u001b[0m\u001b[0m\n\u001b[1;32m      5\u001b[0m \u001b[0;32mdef\u001b[0m \u001b[0mcreate_data_only\u001b[0m\u001b[0;34m(\u001b[0m\u001b[0;34m)\u001b[0m\u001b[0;34m:\u001b[0m\u001b[0;34m\u001b[0m\u001b[0;34m\u001b[0m\u001b[0m\n\u001b[0;32m----> 6\u001b[0;31m     \u001b[0mrandom_slope\u001b[0m \u001b[0;34m=\u001b[0m \u001b[0mnp\u001b[0m\u001b[0;34m.\u001b[0m\u001b[0mrandom\u001b[0m\u001b[0;34m.\u001b[0m\u001b[0mnormal\u001b[0m\u001b[0;34m(\u001b[0m\u001b[0;34m)\u001b[0m\u001b[0;34m\u001b[0m\u001b[0;34m\u001b[0m\u001b[0m\n\u001b[0m\u001b[1;32m      7\u001b[0m     \u001b[0mrandom_intercept\u001b[0m \u001b[0;34m=\u001b[0m \u001b[0mnp\u001b[0m\u001b[0;34m.\u001b[0m\u001b[0mrandom\u001b[0m\u001b[0;34m.\u001b[0m\u001b[0mnormal\u001b[0m\u001b[0;34m(\u001b[0m\u001b[0;34m)\u001b[0m\u001b[0;34m\u001b[0m\u001b[0;34m\u001b[0m\u001b[0m\n\u001b[1;32m      8\u001b[0m     \u001b[0mline_points\u001b[0m \u001b[0;34m=\u001b[0m \u001b[0mnp\u001b[0m\u001b[0;34m.\u001b[0m\u001b[0marray\u001b[0m\u001b[0;34m(\u001b[0m\u001b[0;34m[\u001b[0m\u001b[0;34m(\u001b[0m\u001b[0mrandom_slope\u001b[0m\u001b[0;34m*\u001b[0m\u001b[0mi\u001b[0m \u001b[0;34m+\u001b[0m \u001b[0mrandom_intercept\u001b[0m\u001b[0;34m)\u001b[0m \u001b[0;32mfor\u001b[0m \u001b[0mi\u001b[0m \u001b[0;32min\u001b[0m \u001b[0mrange\u001b[0m\u001b[0;34m(\u001b[0m\u001b[0;36m0\u001b[0m\u001b[0;34m,\u001b[0m\u001b[0;36m100\u001b[0m\u001b[0;34m,\u001b[0m\u001b[0;36m2\u001b[0m\u001b[0;34m)\u001b[0m\u001b[0;34m]\u001b[0m\u001b[0;34m)\u001b[0m\u001b[0;34m\u001b[0m\u001b[0;34m\u001b[0m\u001b[0m\n",
      "\u001b[0;31mNameError\u001b[0m: name 'np' is not defined"
     ]
    }
   ],
   "source": [
    "from ipywidgets import interact, interactive, fixed, interact_manual\n",
    "import ipywidgets as widgets\n",
    "\n",
    "\n",
    "def create_data_only():\n",
    "    random_slope = np.random.normal()\n",
    "    random_intercept = np.random.normal()\n",
    "    line_points = np.array([(random_slope*i + random_intercept) for i in range(0,100,2)])\n",
    "\n",
    "    random_noise = np.array([np.random.randint(-100,100) for i in range(0,100,2)])\n",
    "    data_points = line_points + random_noise\n",
    "\n",
    "    x = np.array(range(0,100,2))\n",
    "    x = x.reshape(-1,1)\n",
    "    # ----------------------------------------------------------\n",
    "\n",
    "    import matplotlib.pyplot as plt\n",
    "    fig = plt.figure()\n",
    "    ax = fig.add_subplot(111)\n",
    "\n",
    "    plt.scatter(x,data_points) # Plotting data\n",
    "    plt.grid()\n",
    "\n",
    "    fig.set_figwidth(10)\n",
    "    fig.set_figheight(7)\n",
    "\n",
    "    plt.title('Generating Random Data')\n",
    "    plt.xlabel('X')\n",
    "    plt.ylabel('Y')\n",
    "    # ----------------------------------------------------------\n",
    "    \n",
    "# interact_manual(create_data_only,i=widgets.Button(description=\"Click Me!\"));\n",
    "create_data_only()"
   ]
  },
  {
   "cell_type": "code",
   "execution_count": null,
   "id": "a3f915d6",
   "metadata": {},
   "outputs": [],
   "source": []
  },
  {
   "cell_type": "code",
   "execution_count": null,
   "id": "909b1637",
   "metadata": {},
   "outputs": [],
   "source": [
    "from ipywidgets import interact, interactive, fixed, interact_manual\n",
    "import ipywidgets as widgets\n",
    "\n",
    "\n",
    "def create_data_only():\n",
    "    random_slope = np.random.normal()\n",
    "    random_intercept = np.random.normal()\n",
    "    line_points = np.array([(random_slope*i + random_intercept) for i in range(0,100,2)])\n",
    "\n",
    "    random_noise = np.array([np.random.randint(-100,100) for i in range(0,100,2)])\n",
    "    data_points = line_points + random_noise\n",
    "\n",
    "    x = np.array(range(0,100,2))\n",
    "    x = x.reshape(-1,1)\n",
    "    # ----------------------------------------------------------\n",
    "\n",
    "    import matplotlib.pyplot as plt\n",
    "    fig = plt.figure()\n",
    "    ax = fig.add_subplot(111)\n",
    "\n",
    "    plt.scatter(x,data_points) # Plotting data\n",
    "    plt.grid()\n",
    "\n",
    "    fig.set_figwidth(10)\n",
    "    fig.set_figheight(7)\n",
    "\n",
    "    plt.title('Generating Random Data')\n",
    "    plt.xlabel('X')\n",
    "    plt.ylabel('Y')\n",
    "    # ----------------------------------------------------------\n",
    "    \n",
    "# interact_manual(create_data_only,i=widgets.Button(description=\"Click Me!\"));\n",
    "create_data_only()"
   ]
  },
  {
   "cell_type": "code",
   "execution_count": null,
   "id": "0cbb7302",
   "metadata": {},
   "outputs": [],
   "source": []
  },
  {
   "cell_type": "code",
   "execution_count": null,
   "id": "cb125034",
   "metadata": {},
   "outputs": [],
   "source": [
    "size = [3,5,12,7,10,9,4,13,7,11]\n",
    "weights = [4,7,20,5,12,8,7,22,5,8]"
   ]
  },
  {
   "cell_type": "code",
   "execution_count": null,
   "id": "9ff17bdc",
   "metadata": {},
   "outputs": [],
   "source": []
  },
  {
   "cell_type": "markdown",
   "id": "f9646560",
   "metadata": {},
   "source": [
    "# Let's make it more interactive"
   ]
  },
  {
   "cell_type": "code",
   "execution_count": 2,
   "id": "361963c3",
   "metadata": {},
   "outputs": [
    {
     "data": {
      "application/vnd.jupyter.widget-view+json": {
       "model_id": "6e94d8f9b0e84943b47014a23d418ca6",
       "version_major": 2,
       "version_minor": 0
      },
      "text/plain": [
       "interactive(children=(FloatSlider(value=1.0, description='slope', max=10.0, min=-10.0), FloatSlider(value=0.0,…"
      ]
     },
     "metadata": {},
     "output_type": "display_data"
    }
   ],
   "source": [
    "from ipywidgets import interact, interactive, fixed, interact_manual\n",
    "import ipywidgets as widgets\n",
    "import numpy as np\n",
    "\n",
    "\n",
    "random_slope = np.random.normal()\n",
    "random_intercept = np.random.normal()\n",
    "\n",
    "our_range = [i for i in range(1,100,2)]\n",
    "\n",
    "line_points = np.array([(random_slope*i + random_intercept) for i in our_range])\n",
    "random_noise = np.array([np.random.randint(-100,100) for i in our_range])\n",
    "data_points = line_points + random_noise\n",
    "\n",
    "\n",
    "\n",
    "def create_data_and_line_only(slope,intercept):\n",
    "\n",
    "    x = np.array(range(1,100,2))\n",
    "    x = x.reshape(-1,1)\n",
    "    # ----------------------------------------------------------\n",
    "\n",
    "    import matplotlib.pyplot as plt\n",
    "\n",
    "    plt.figure(figsize=(10,6))\n",
    "    ax = plt.gca()\n",
    "    \n",
    "#     fig = plt.figure()\n",
    "#     ax = fig.add_subplot(111)\n",
    "\n",
    "    plt.scatter(x,data_points) # Plotting data\n",
    "\n",
    "#     fig.set_figwidth(10)\n",
    "#     fig.set_figheight(7)\n",
    "\n",
    "    plt.title('Generating Data & Plotting a line')\n",
    "    plt.xlabel('X')\n",
    "    plt.ylabel('Y')\n",
    "    # ----------------------------------------------------------\n",
    "    \n",
    "    \n",
    "    \n",
    "    # ----------------------------------------------------------\n",
    "    # Plotting a line\n",
    "    abline_values = slope * x + intercept\n",
    "    \n",
    "    # Plot the best fit line over the actual values    \n",
    "    plt.xlim([-10, 120])\n",
    "    plt.ylim([-100,200])\n",
    "    plt.plot(x, abline_values, '--')\n",
    "    plt.grid()\n",
    "    # ----------------------------------------------------------\n",
    "    \n",
    "    \n",
    "    plt.text(.01, .99, f'Slope = {slope}', ha='left', va='top', transform=ax.transAxes)\n",
    "    plt.text(.01, .95, f'Intecept = {intercept}', ha='left', va='top', transform=ax.transAxes)\n",
    "\n",
    "    plt.show()\n",
    "    # ----------------------------------------------------------\n",
    "\n",
    "w = interactive(create_data_and_line_only, \n",
    "                slope = widgets.FloatSlider(min=-10, max=10, step=0.1, value=1),\n",
    "               intercept = widgets.FloatSlider(min=-30, max=50, step=5, value=0))\n",
    "\n",
    "display(w)"
   ]
  },
  {
   "cell_type": "markdown",
   "id": "f1ce3c95",
   "metadata": {},
   "source": [
    "<h1><center>What about SSR</center></h1>"
   ]
  },
  {
   "cell_type": "code",
   "execution_count": 64,
   "id": "ad17f376",
   "metadata": {},
   "outputs": [
    {
     "data": {
      "application/vnd.jupyter.widget-view+json": {
       "model_id": "b4acf5a900874abbbf1e4000bda31bf2",
       "version_major": 2,
       "version_minor": 0
      },
      "text/plain": [
       "interactive(children=(FloatSlider(value=1.0, description='slope', max=10.0, min=-10.0), FloatSlider(value=0.0,…"
      ]
     },
     "metadata": {},
     "output_type": "display_data"
    }
   ],
   "source": [
    "from ipywidgets import interact, interactive, fixed, interact_manual\n",
    "import ipywidgets as widgets\n",
    "\n",
    "# Plotting the residual values\n",
    "# Plotting the residual values\n",
    "import random\n",
    "random_choice = [random.randint(0,49) for i in range(10)]\n",
    "random_choice\n",
    "\n",
    "\n",
    "random_slope = np.random.normal()\n",
    "random_intercept = np.random.normal()\n",
    "\n",
    "our_range = [i for i in range(1,100,2)]\n",
    "\n",
    "line_points = np.array([(random_slope*i + random_intercept) for i in our_range])\n",
    "random_noise = np.array([np.random.randint(-100,100) for i in our_range])\n",
    "data_points = line_points + random_noise\n",
    "\n",
    "\n",
    "\n",
    "def create_data_and_line_only(slope,intercept):\n",
    "\n",
    "    x = np.array(range(1,100,2))\n",
    "    x = x.reshape(-1,1)\n",
    "    # ----------------------------------------------------------\n",
    "\n",
    "    import matplotlib.pyplot as plt\n",
    "\n",
    "    plt.figure(figsize=(10,6))\n",
    "    ax = plt.gca()\n",
    "    \n",
    "#     fig = plt.figure()\n",
    "#     ax = fig.add_subplot(111)\n",
    "\n",
    "    plt.scatter(x,data_points) # Plotting data\n",
    "\n",
    "#     fig.set_figwidth(10)\n",
    "#     fig.set_figheight(7)\n",
    "\n",
    "# ----------------------------------------------------------\n",
    "    plt.title('Looking at Residuals given a line')\n",
    "    plt.xlabel('X')\n",
    "    plt.ylabel('Y')\n",
    "    # ----------------------------------------------------------\n",
    "    \n",
    "    \n",
    "    # ----------------------------------------------------------\n",
    "    # Plotting a line\n",
    "    abline_values = slope * x + intercept\n",
    "    \n",
    "    # ----------------------------------------------------------\n",
    "    \n",
    "    # Plot the best fit line over the actual values    \n",
    "    plt.xlim([-10, 120])\n",
    "    plt.ylim([-100,200])\n",
    "    plt.plot(x, abline_values, '--')\n",
    "    plt.grid()\n",
    "    # ----------------------------------------------------------\n",
    "    \n",
    "    # Plotting residuals\n",
    "    for i in random_choice:\n",
    "        plt.plot([x[i],x[i]], [abline_values[i], data_points[i]], '--')\n",
    "        \n",
    "    # Plotting residuals text\n",
    "    for i in random_choice:\n",
    "        a = abline_values[i]\n",
    "        b = data_points[i]\n",
    "        \n",
    "        c = b + (a-b)/2\n",
    "        plt.text(x[i],c, 'Residual', fontsize = 8)\n",
    "\n",
    "    # ----------------------------------------------------------\n",
    "    \n",
    "    # Plotting text at top left\n",
    "    plt.text(.01, .99, f'Slope = {slope}', ha='left', va='top', transform=ax.transAxes)\n",
    "    plt.text(.01, .95, f'Intecept = {intercept}', ha='left', va='top', transform=ax.transAxes)\n",
    "\n",
    "    # ----------------------------------------------------------\n",
    "    plt.show()\n",
    "    # ----------------------------------------------------------\n",
    "\n",
    "w = interactive(create_data_and_line_only, \n",
    "                slope = widgets.FloatSlider(min=-10, max=10, step=0.1, value=1),\n",
    "               intercept = widgets.FloatSlider(min=-30, max=50, step=5, value=0))\n",
    "\n",
    "display(w)"
   ]
  },
  {
   "cell_type": "markdown",
   "id": "49053abd",
   "metadata": {},
   "source": [
    "<h1><center>We need to find the line that minimises SSR</center></h1>"
   ]
  },
  {
   "cell_type": "code",
   "execution_count": 74,
   "id": "5d9001ae",
   "metadata": {},
   "outputs": [
    {
     "data": {
      "application/vnd.jupyter.widget-view+json": {
       "model_id": "472bfb1641ac4afdb9a04535e8bc8c67",
       "version_major": 2,
       "version_minor": 0
      },
      "text/plain": [
       "interactive(children=(FloatSlider(value=1.0, description='slope', max=10.0, min=-10.0), FloatSlider(value=0.0,…"
      ]
     },
     "metadata": {},
     "output_type": "display_data"
    }
   ],
   "source": [
    "from ipywidgets import interact, interactive, fixed, interact_manual\n",
    "import ipywidgets as widgets\n",
    "\n",
    "# Plotting the residual values\n",
    "import random\n",
    "random_choice = [random.randint(0,50) for i in range(10)]\n",
    "random_choice\n",
    "\n",
    "\n",
    "random_slope = np.random.normal()\n",
    "random_intercept = np.random.normal()\n",
    "\n",
    "our_range = [i for i in range(0,100,2)]\n",
    "\n",
    "line_points = np.array([(random_slope*i + random_intercept) for i in our_range])\n",
    "random_noise = np.array([np.random.randint(-10,100) for i in our_range])\n",
    "data_points = line_points + random_noise\n",
    "\n",
    "\n",
    "\n",
    "def create_data_line_residuals_ssr(slope,intercept):\n",
    "\n",
    "    x = np.array(range(0,100,2))\n",
    "    x = x.reshape(-1,1)\n",
    "    # ----------------------------------------------------------\n",
    "\n",
    "    import matplotlib.pyplot as plt\n",
    "\n",
    "    plt.figure(figsize=(10,8))\n",
    "    ax = plt.gca()\n",
    "    plt.scatter(x,data_points) # Plotting data\n",
    "\n",
    "\n",
    "# ----------------------------------------------------------\n",
    "    plt.title('Trying to find the line that minimizes SSR')\n",
    "    plt.xlabel('X')\n",
    "    plt.ylabel('Y')\n",
    "    # ----------------------------------------------------------\n",
    "    \n",
    "    \n",
    "    # ----------------------------------------------------------\n",
    "    # Plotting a line\n",
    "    abline_values = slope * x + intercept\n",
    "    \n",
    "    # ----------------------------------------------------------\n",
    "    \n",
    "    # Plot the best fit line over the actual values    \n",
    "    plt.xlim([-20, 100])\n",
    "    plt.ylim([-20,100])\n",
    "    plt.plot(x, abline_values, '--')\n",
    "    plt.grid()\n",
    "    # ----------------------------------------------------------\n",
    "    \n",
    "    # Plotting residuals\n",
    "    for i in random_choice:\n",
    "        plt.plot([x[i],x[i]], [abline_values[i], data_points[i]], '--')\n",
    "        \n",
    "    # ----------------------------------------------------------\n",
    "    \n",
    "    # Calculating SSR\n",
    "    predicted_values = np.array(abline_values)\n",
    "    ssr = np.sum(np.square(data_points - predicted_values))\n",
    "\n",
    "    \n",
    "    # Plotting text at top left\n",
    "    plt.text(.01, .99, f'Slope = {slope}', ha='left', va='top', transform=ax.transAxes)\n",
    "    plt.text(.01, .95, f'Intecept = {intercept}', ha='left', va='top', transform=ax.transAxes)\n",
    "    plt.text(1, .5, f'  SSR = {round(ssr)}', ha='left', va='top', fontsize= 'large',transform=ax.transAxes)\n",
    "    \n",
    "\n",
    "    # ----------------------------------------------------------\n",
    "    plt.show()\n",
    "    # ----------------------------------------------------------\n",
    "\n",
    "w = interactive(create_data_and_line_only, \n",
    "                slope = widgets.FloatSlider(min=-10, max=10, step=0.1, value=1),\n",
    "               intercept = widgets.FloatSlider(min=-30, max=50, step=2, value=0))\n",
    "\n",
    "display(w)"
   ]
  },
  {
   "cell_type": "markdown",
   "id": "86186e2f",
   "metadata": {},
   "source": [
    "<h1><center>Recap</center></h1>\n",
    "\n",
    "- So, here we are. \n",
    "- We need to find the best line, that \"**fits**\" our data. \n",
    "- This fit we are looking for, we will find by trying out different values for ```intercept``` and ```slope```.\n"
   ]
  },
  {
   "cell_type": "markdown",
   "id": "30930874",
   "metadata": {},
   "source": [
    "<h1><center>Finding out the value for slope and intercept</center></h1>\n",
    "\n",
    "That gives us the minimum ```SSR``` is what <span style=\"color: green;font-size:50px;\">Linear Regression</span> is all about.\n"
   ]
  },
  {
   "cell_type": "code",
   "execution_count": null,
   "id": "68b44bdc",
   "metadata": {},
   "outputs": [],
   "source": []
  },
  {
   "cell_type": "code",
   "execution_count": null,
   "id": "30d0b7ff",
   "metadata": {},
   "outputs": [],
   "source": []
  },
  {
   "cell_type": "code",
   "execution_count": null,
   "id": "afd18f91",
   "metadata": {},
   "outputs": [],
   "source": []
  },
  {
   "cell_type": "code",
   "execution_count": null,
   "id": "f7963562",
   "metadata": {},
   "outputs": [],
   "source": []
  },
  {
   "cell_type": "code",
   "execution_count": null,
   "id": "41f8f136",
   "metadata": {},
   "outputs": [],
   "source": []
  },
  {
   "cell_type": "code",
   "execution_count": null,
   "id": "15a1d26f",
   "metadata": {},
   "outputs": [],
   "source": []
  }
 ],
 "metadata": {
  "kernelspec": {
   "display_name": "Python 3 (ipykernel)",
   "language": "python",
   "name": "python3"
  },
  "language_info": {
   "codemirror_mode": {
    "name": "ipython",
    "version": 3
   },
   "file_extension": ".py",
   "mimetype": "text/x-python",
   "name": "python",
   "nbconvert_exporter": "python",
   "pygments_lexer": "ipython3",
   "version": "3.9.15"
  }
 },
 "nbformat": 4,
 "nbformat_minor": 5
}
