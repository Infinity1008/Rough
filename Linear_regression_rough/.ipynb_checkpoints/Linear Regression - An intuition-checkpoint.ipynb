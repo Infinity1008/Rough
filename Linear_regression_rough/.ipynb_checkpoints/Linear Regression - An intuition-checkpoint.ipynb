{
 "cells": [
  {
   "cell_type": "markdown",
   "id": "0932fe6c",
   "metadata": {},
   "source": [
    "<center><h1>Linear Regression</h1></center>\n",
    "\n",
    "![](https://www.voxco.com/wp-content/uploads/2021/11/Linear-Regression1.png)\n",
    "\n",
    "\n",
    "Linear regression analysis is used to predict the value of a variable based on the value of another variable. The variable you want to predict is called the dependent variable. The variable you are using to predict the other variable's value is called the independent variable. You **\"fit\"** a line to your data to predict the dependent variable using the independent variable. \n",
    "\n",
    "\n",
    "Let's break this down.\n",
    "- What is a line\n",
    "- Let's look at some data.\n",
    "- How do we fit this line ?\n",
    "- Once we fit the line, then what !!"
   ]
  },
  {
   "cell_type": "markdown",
   "id": "00d772fb",
   "metadata": {},
   "source": [
    "<h1><center>An Intuition</center></h1>\n",
    "\n",
    "Let's say you and i walk into a warehouse and the warehouse has a lot of boxes. A lot of them. We go around and randomly select 10 boxes of different sizes. \n",
    "\n",
    "---\n",
    "![](animated_gifs/Size_of_boxes.gif)\n",
    "\n",
    "---\n",
    "\n",
    "Now an interesting question appears before us, if i were to ask you the size of the 11'th box. What would you guess.\n",
    "\n",
    "Remember, the 11'th box could be anything. It could be 8.1, 6, 2, 10, 100, 50. These values are possible, but what would **you predict** !!\n",
    "\n",
    "\n",
    "<h3><center>Take a guess !!</center></h3>\n",
    "\n",
    "---"
   ]
  },
  {
   "cell_type": "markdown",
   "id": "ae3e74d0",
   "metadata": {},
   "source": [
    "![](animated_gifs/guess_the_size.gif)\n",
    "\n",
    "---\n",
    "\n",
    "<h3><center>Well, most of you picked <i>mean</i> or average</center></h3>\n",
    "\n",
    "Now, the question is why did you, think about it for a second. The answer could have been anything. It could have been 100 even, why did you pick mean. When you knew that the answer could have been anything. \n",
    "\n",
    "Well, here is a breaker. Brace for it. \n",
    "\n",
    "---"
   ]
  },
  {
   "cell_type": "markdown",
   "id": "f3f523b9",
   "metadata": {},
   "source": [
    "<center><h1>You were not trying to be right, you were trying to be <span style=\"color: red;font-size:30px;\"><i>least</i></span> wrong</h1></center>\n",
    "\n",
    "- Think about it. You were trying to play it safe. \n",
    "- You realized internally that the answer will **most likely** be around the numbers/size you have already seen, so the next number/size must be **close** to your observed number/size. \n",
    "\n",
    "For these reasons, you internally decided to play it <span style=\"color: green;font-size:30px;\">safe</span> and <span style=\"font-size:20px;\"><i><b>give the closest number to all your observations</i></b></span>, thereby <span style=\"font-size:20px;\">**mean**.</span>\n",
    "\n",
    "---\n",
    "\n",
    "This intuition you already had sets the basis of all the modeling techniques we will cover including **linear regression**. \n",
    "\n",
    "---\n",
    "<center>The intuition to not be right, but to be least wrong is how we will try to understand linear regression.</center>"
   ]
  },
  {
   "cell_type": "markdown",
   "id": "da16ca51",
   "metadata": {},
   "source": [
    "Coming back to the example, let's plot the sizes on a y axis.\n",
    "\n",
    "![](animated_gifs/Plotting_on_y_axis.gif)\n",
    "\n",
    "---"
   ]
  },
  {
   "cell_type": "markdown",
   "id": "ef8f4fdf",
   "metadata": {},
   "source": [
    "Now, how far away are these points from your prediction or mean. Well, we can plot that\n",
    "\n",
    "![](animated_gifs/Plotting_mean.gif)"
   ]
  },
  {
   "cell_type": "markdown",
   "id": "2d3ac014",
   "metadata": {},
   "source": [
    "Well, let's call this distance between your prediction and the actual value **Residuals**.\n",
    "![](animated_gifs/Seeing_residuals.gif)"
   ]
  },
  {
   "cell_type": "markdown",
   "id": "b93cbc02",
   "metadata": {},
   "source": [
    "Well, all this residual, we can write it as :-\n",
    "\n",
    "$$ actual - mean $$\n",
    "\n",
    "We will also have to add all the residuals up. So, we can write that as :-\n",
    "\n",
    "$$ \\sum_{i=1}^{n} Actual - mean $$\n",
    "\n",
    "---"
   ]
  },
  {
   "cell_type": "markdown",
   "id": "57bd41f7",
   "metadata": {},
   "source": [
    "All this means is that we are adding all of our residuals, but wait, we have **negative** and **positive** residuals, to tackle that, we either.\n",
    "- Need to take a modulas \n",
    "\n",
    "$$ \\sum_{i=1}^{n} | Actual - mean | $$\n",
    "\n",
    "\n",
    "- Or we need to square it \n",
    "$$ \\sum_{i=1}^{n} (Actual - mean)^2 $$\n",
    "\n",
    "---\n"
   ]
  },
  {
   "cell_type": "markdown",
   "id": "54a28082",
   "metadata": {},
   "source": [
    "Alright, we have now added all of our residuals, but wait, we don't just want to add but take an average of residuals, otherwise the more data we add, the more residuals will increase. So, average residual is what we are after :- \n",
    "\n",
    "$$ \\sum_{i=1}^{n} \\frac{(Actual - mean)^2}{n} $$\n",
    "\n",
    "\n",
    "Let's call this **Average of Sum of Squared Residuals**, **SSR** for short\n",
    "\n",
    "Animating the same\n",
    "![](animated_gifs/sum_of_squared_residuals.gif)\n",
    "\n",
    "----"
   ]
  },
  {
   "cell_type": "markdown",
   "id": "6f0da269",
   "metadata": {},
   "source": [
    "## So\n",
    "What is our **SSR**, when our prediction is **mean** at 8.1, our **SSR** is 10.69\n",
    "![](animated_gifs/default_ssr.gif)\n",
    "\n",
    "---"
   ]
  },
  {
   "cell_type": "markdown",
   "id": "e6d6ea3b",
   "metadata": {},
   "source": [
    "### Now\n",
    "The big question is, if you were to change your prediction from mean to let's say some **higher** value, what would happen. \n",
    "\n",
    "![](animated_gifs/up_ssr.gif)\n",
    "\n",
    "---"
   ]
  },
  {
   "cell_type": "markdown",
   "id": "9f6d996d",
   "metadata": {},
   "source": [
    "As you would have noticed, when you start to move away from the mean, your **SSR** start to increase !!\n",
    "\n",
    "### Alternately\n",
    "What if you were to predict a **lower** value, then what ??\n",
    "\n",
    "![](animated_gifs/down_sr.gif)\n",
    "\n",
    "---"
   ]
  },
  {
   "cell_type": "markdown",
   "id": "8ef5d3b7",
   "metadata": {},
   "source": [
    "Similar story, your **SSR** starts to increase again. So it would be fair to say:-\n",
    "\n",
    "---\n",
    "\n",
    "<center><h2>Your SSR is lowest at the mean value !!</h2></center>"
   ]
  },
  {
   "cell_type": "markdown",
   "id": "d9a03e3a",
   "metadata": {},
   "source": [
    "## Now\n",
    "Let's go back to our formula's :-\n",
    "\n",
    "$$ \\sum_{i=1}^{n} \\frac{(Actual - mean)^2}{n} $$\n",
    "\n",
    "You can write **Actual** as $$ x $$ and the **mean value** as $$ \\bar{x} $$\n",
    "\n",
    "---"
   ]
  },
  {
   "cell_type": "markdown",
   "id": "2845bbe6",
   "metadata": {},
   "source": [
    "So, you can re-write the whole thing as :-\n",
    "\n",
    "$$ \\sum_{i=1}^{n} \\frac{(x - \\bar{x})^2}{n} $$\n",
    "\n",
    "This, newly written formula that we are referring to as the **Average Sum of Squared Residuals** or **SSR** for short is also called <span style=\"color: green;font-size:30px;\">Variance</span>"
   ]
  },
  {
   "cell_type": "markdown",
   "id": "6cecd004",
   "metadata": {},
   "source": [
    "![](animated_gifs/ssr_is_variance.gif)\n"
   ]
  },
  {
   "cell_type": "markdown",
   "id": "1b8f19b5",
   "metadata": {},
   "source": [
    "# Conclusion\n",
    "So, in conclusion. Here is what we have learned up until now.\n",
    "- We discovered that we pick mean, when asked to take a guess.\n",
    "- We found out, that the reason we do that is we want to be least wrong.\n",
    "- Taking that principle, we discovered that we can take all the residuals, add them together, square them, and take their average and use that as an indicator of how well our prediction is. \n",
    "- So, we started predicting different numbers and noticing the SSR(Sum of Squared Residuals).\n",
    "- We found out that the SSR is minimum at mean and that was the reason that our initial prediction was so good. \n",
    "- We knew mean was the most appropriate answer, we just couldn't verbalize or articulate it well before. \n",
    "- Well, that time is long gone and now we know, why we picked mean as our prediction. \n",
    "- We now have maths to backup our bold claims !!\n",
    "\n",
    "Wrapping up, whenever we are dealing with a single variable, and we are asked to make a prediction, our best bet is mean, the answer could be anything, but it is in our best interest to pick mean as the answer as it is the most likely to be the closest to the right answer.\n",
    "\n",
    "-------------\n",
    "\n",
    "<h3><center>Fin</center></h3>\n",
    "\n",
    "-----\n"
   ]
  },
  {
   "cell_type": "markdown",
   "id": "b02e7bc2",
   "metadata": {},
   "source": [
    "<h1><center>But this is all for 1 Dimensional data</center></h1>\n",
    "\n",
    "# What if we have 2 dimensional data.\n",
    "What if, for the first 10 boxes, apart from the size, we were also given their weight let's say. \n",
    "\n",
    "- Now, if for the 11th box we are told the weight and asked to predict the size. \n",
    "- Will we take weight into consideration or will we just ignore the weight and again go for the mean value of size ?\n",
    "- Remember, earlier all we had was the size of the boxes. So our best bet was the mean, now that is not the case. \n",
    "- We now have access to more information, can this information help us make better prediction ?\n",
    "- If the answer is yes, we should use it (to make better prediction)\n",
    "\n",
    "\n",
    "\n",
    "Well, let's create some plots\n",
    "\n",
    "![](animated_gifs/what_if_2d.gif)\n",
    "\n",
    "---"
   ]
  },
  {
   "cell_type": "markdown",
   "id": "88fb44f6",
   "metadata": {},
   "source": [
    "Let's add some data points\n",
    "\n",
    "![](animated_gifs/create_2d_data.gif)\n",
    "\n",
    "---"
   ]
  },
  {
   "cell_type": "markdown",
   "id": "d55b207b",
   "metadata": {},
   "source": [
    "### Now\n",
    "Because this is a 2 dimensions, we need a line to make predictions. "
   ]
  },
  {
   "cell_type": "markdown",
   "id": "9530c31c",
   "metadata": {},
   "source": [
    "# What is a line\n",
    "Well, we all know the answer to this but just so we are all on the same page vocabulary wise, let's get some words out of the way. \n",
    "\n",
    "A line can be represented as \n",
    "\n",
    "<h1><center>$ y = mx + b $ </center></h1>\n",
    "\n",
    "With **$ m $** being your slope and **$ b $** being your y-intercept. \n",
    "\n",
    "So as an example, if your **$m = 1$** & **$b = 5$** ,your equation will turn out to be **$y = x + 5$**\n",
    "\n",
    "You can read more about it [here](https://www.wikihow.com/Find-the-Equation-of-a-Line).\n",
    "\n",
    "![](https://www.wikihow.com/images/thumb/6/63/Find-the-Equation-of-a-Line-Step-5-Version-5.jpg/aid437759-v4-728px-Find-the-Equation-of-a-Line-Step-5-Version-5.jpg)\n",
    "\n",
    "\n",
    "Now, i hear you say what is going on. So i present to you a demo for you to play around.\n",
    "\n",
    "--------"
   ]
  },
  {
   "cell_type": "markdown",
   "id": "edc75fca",
   "metadata": {},
   "source": [
    "# A demo \n",
    "Don't mind the code if you don't understand it. Just play around with the interactive plots"
   ]
  },
  {
   "cell_type": "code",
   "execution_count": 298,
   "id": "fcd3e63a",
   "metadata": {},
   "outputs": [
    {
     "data": {
      "application/vnd.jupyter.widget-view+json": {
       "model_id": "dbb4cb5a7c8b44918d2d157dbcbbfddf",
       "version_major": 2,
       "version_minor": 0
      },
      "text/plain": [
       "interactive(children=(FloatSlider(value=1.0, description='slope', max=20.0, min=-20.0), FloatSlider(value=0.0,…"
      ]
     },
     "metadata": {},
     "output_type": "display_data"
    }
   ],
   "source": [
    "from IPython.display import display\n",
    "import ipywidgets as widgets\n",
    "from ipywidgets import interactive\n",
    "import numpy as np\n",
    "import matplotlib.pyplot as plt\n",
    "\n",
    "def draw_line(slope, intercept):    \n",
    "    \n",
    "    # Setting up a cartesian plane\n",
    "    plt.figure(figsize=(10,6))\n",
    "    ax = plt.gca()\n",
    "    ax.spines['top'].set_color('none')\n",
    "    ax.spines['bottom'].set_position('zero')\n",
    "    ax.spines['left'].set_position('zero')\n",
    "    ax.spines['right'].set_color('none')\n",
    "\n",
    "    \"\"\"Plot a line from slope and intercept\"\"\"\n",
    "    x = np.linspace(-100,100,100)    \n",
    "    abline_values = slope * x + intercept\n",
    "    \n",
    "\n",
    "    \n",
    "    # Plotting the lines\n",
    "    #     f, ax = plt.subplots()\n",
    "    plt.xlim([-100, 100])\n",
    "    plt.ylim([-100,100])\n",
    "    plt.plot(x, abline_values, '-')\n",
    "    plt.grid()\n",
    "\n",
    "    plt.text(.01, .99, f'Slope = {slope}', ha='left', va='top', transform=ax.transAxes)\n",
    "    plt.text(.01, .95, f'Intecept = {intercept}', ha='left', va='top', transform=ax.transAxes)\n",
    "\n",
    "    plt.show()\n",
    "\n",
    "w = interactive(draw_line, \n",
    "                slope = widgets.FloatSlider(min=-20, max=20, step=0.1, value=1),\n",
    "               intercept = widgets.FloatSlider(min=-50, max=50, step=0.5, value=0))\n",
    "\n",
    "display(w)"
   ]
  },
  {
   "cell_type": "markdown",
   "id": "5bca5265",
   "metadata": {},
   "source": [
    "Now that we know what a line is. \n",
    "- We know what slope is \n",
    "- We know what an intercept is \n",
    "\n",
    "Let's keep going"
   ]
  },
  {
   "cell_type": "markdown",
   "id": "f34040d8",
   "metadata": {},
   "source": [
    "# We can fit a line to our data \n",
    "Let's animate the same. I have named **Slope** as Alpha. \n",
    "\n",
    "Looking at slope/alpha\n",
    "\n",
    "![](animated_gifs/what_is_alpha.gif)\n",
    "\n",
    "---\n",
    "\n",
    "Looking at Intercept\n",
    "\n",
    "![](animated_gifs/what_is_intercept.gif)\n",
    "\n",
    "---"
   ]
  },
  {
   "cell_type": "markdown",
   "id": "398b54db",
   "metadata": {},
   "source": [
    "# Now, what does it mean when it says, \"fit\" the line to the data.\n",
    "- Well, we use the same concepts we used earlier in 1 dimensional data.\n",
    "- We randomly select a line, calculate **SSR**.\n",
    "- Select another line, calculate **SSR**. \n",
    "- Keep doing this till we get the line with the least **SSR**.\n",
    "- This line of least **SSR** is our **Line of best fit**"
   ]
  },
  {
   "cell_type": "markdown",
   "id": "9773807b",
   "metadata": {},
   "source": [
    "# Let's make it more interactive"
   ]
  },
  {
   "cell_type": "markdown",
   "id": "e5a350da",
   "metadata": {},
   "source": [
    "<center>Let's generate random data</center>"
   ]
  },
  {
   "cell_type": "code",
   "execution_count": 299,
   "id": "81d30714",
   "metadata": {},
   "outputs": [
    {
     "data": {
      "image/png": "[encoded data removed]",
      "text/plain": [
       "<Figure size 1000x700 with 1 Axes>"
      ]
     },
     "metadata": {},
     "output_type": "display_data"
    }
   ],
   "source": [
    "from ipywidgets import interact, interactive, fixed, interact_manual\n",
    "import ipywidgets as widgets\n",
    "\n",
    "\n",
    "def create_data_only():\n",
    "    random_slope = np.random.normal()\n",
    "    random_intercept = np.random.normal()\n",
    "    line_points = np.array([(random_slope*i + random_intercept) for i in range(0,100,2)])\n",
    "\n",
    "    random_noise = np.array([np.random.randint(-100,100) for i in range(0,100,2)])\n",
    "    data_points = line_points + random_noise\n",
    "\n",
    "    x = np.array(range(0,100,2))\n",
    "    x = x.reshape(-1,1)\n",
    "    # ----------------------------------------------------------\n",
    "\n",
    "    import matplotlib.pyplot as plt\n",
    "    fig = plt.figure()\n",
    "    ax = fig.add_subplot(111)\n",
    "\n",
    "    plt.scatter(x,data_points) # Plotting data\n",
    "    plt.grid()\n",
    "\n",
    "    fig.set_figwidth(10)\n",
    "    fig.set_figheight(7)\n",
    "\n",
    "    plt.title('Generating Random Data')\n",
    "    plt.xlabel('X')\n",
    "    plt.ylabel('Y')\n",
    "    # ----------------------------------------------------------\n",
    "    \n",
    "# interact_manual(create_data_only,i=widgets.Button(description=\"Click Me!\"));\n",
    "create_data_only()"
   ]
  },
  {
   "cell_type": "code",
   "execution_count": 300,
   "id": "1fb2df1c",
   "metadata": {},
   "outputs": [
    {
     "data": {
      "application/vnd.jupyter.widget-view+json": {
       "model_id": "3606f037d7814506bb07e482c439af5a",
       "version_major": 2,
       "version_minor": 0
      },
      "text/plain": [
       "interactive(children=(FloatSlider(value=1.0, description='slope', max=10.0, min=-10.0), FloatSlider(value=0.0,…"
      ]
     },
     "metadata": {},
     "output_type": "display_data"
    }
   ],
   "source": [
    "from ipywidgets import interact, interactive, fixed, interact_manual\n",
    "import ipywidgets as widgets\n",
    "\n",
    "\n",
    "random_slope = np.random.normal()\n",
    "random_intercept = np.random.normal()\n",
    "\n",
    "our_range = [i for i in range(1,100,2)]\n",
    "\n",
    "line_points = np.array([(random_slope*i + random_intercept) for i in our_range])\n",
    "random_noise = np.array([np.random.randint(-100,100) for i in our_range])\n",
    "data_points = line_points + random_noise\n",
    "\n",
    "\n",
    "\n",
    "def create_data_and_line_only(slope,intercept):\n",
    "\n",
    "    x = np.array(range(1,100,2))\n",
    "    x = x.reshape(-1,1)\n",
    "    # ----------------------------------------------------------\n",
    "\n",
    "    import matplotlib.pyplot as plt\n",
    "\n",
    "    plt.figure(figsize=(10,6))\n",
    "    ax = plt.gca()\n",
    "    \n",
    "#     fig = plt.figure()\n",
    "#     ax = fig.add_subplot(111)\n",
    "\n",
    "    plt.scatter(x,data_points) # Plotting data\n",
    "\n",
    "#     fig.set_figwidth(10)\n",
    "#     fig.set_figheight(7)\n",
    "\n",
    "    plt.title('Generating Data & Plotting a line')\n",
    "    plt.xlabel('X')\n",
    "    plt.ylabel('Y')\n",
    "    # ----------------------------------------------------------\n",
    "    \n",
    "    \n",
    "    \n",
    "    # ----------------------------------------------------------\n",
    "    # Plotting a line\n",
    "    abline_values = slope * x + intercept\n",
    "    \n",
    "    # Plot the best fit line over the actual values    \n",
    "    plt.xlim([-10, 120])\n",
    "    plt.ylim([-100,200])\n",
    "    plt.plot(x, abline_values, '--')\n",
    "    plt.grid()\n",
    "    # ----------------------------------------------------------\n",
    "    \n",
    "    \n",
    "    plt.text(.01, .99, f'Slope = {slope}', ha='left', va='top', transform=ax.transAxes)\n",
    "    plt.text(.01, .95, f'Intecept = {intercept}', ha='left', va='top', transform=ax.transAxes)\n",
    "\n",
    "    plt.show()\n",
    "    # ----------------------------------------------------------\n",
    "\n",
    "w = interactive(create_data_and_line_only, \n",
    "                slope = widgets.FloatSlider(min=-10, max=10, step=0.1, value=1),\n",
    "               intercept = widgets.FloatSlider(min=-30, max=50, step=5, value=0))\n",
    "\n",
    "display(w)"
   ]
  },
  {
   "cell_type": "markdown",
   "id": "bc9f1a99",
   "metadata": {},
   "source": [
    "<h1><center>What about SSR</center></h1>"
   ]
  },
  {
   "cell_type": "code",
   "execution_count": 301,
   "id": "87007301",
   "metadata": {},
   "outputs": [
    {
     "data": {
      "application/vnd.jupyter.widget-view+json": {
       "model_id": "c5cef65e7e944f1390b9ffb3257e2400",
       "version_major": 2,
       "version_minor": 0
      },
      "text/plain": [
       "interactive(children=(FloatSlider(value=1.0, description='slope', max=10.0, min=-10.0), FloatSlider(value=0.0,…"
      ]
     },
     "metadata": {},
     "output_type": "display_data"
    }
   ],
   "source": [
    "from ipywidgets import interact, interactive, fixed, interact_manual\n",
    "import ipywidgets as widgets\n",
    "\n",
    "# Plotting the residual values\n",
    "# Plotting the residual values\n",
    "import random\n",
    "random_choice = [random.randint(0,49) for i in range(10)]\n",
    "random_choice\n",
    "\n",
    "\n",
    "random_slope = np.random.normal()\n",
    "random_intercept = np.random.normal()\n",
    "\n",
    "our_range = [i for i in range(1,100,2)]\n",
    "\n",
    "line_points = np.array([(random_slope*i + random_intercept) for i in our_range])\n",
    "random_noise = np.array([np.random.randint(-100,100) for i in our_range])\n",
    "data_points = line_points + random_noise\n",
    "\n",
    "\n",
    "\n",
    "def create_data_and_line_only(slope,intercept):\n",
    "\n",
    "    x = np.array(range(1,100,2))\n",
    "    x = x.reshape(-1,1)\n",
    "    # ----------------------------------------------------------\n",
    "\n",
    "    import matplotlib.pyplot as plt\n",
    "\n",
    "    plt.figure(figsize=(10,6))\n",
    "    ax = plt.gca()\n",
    "    \n",
    "#     fig = plt.figure()\n",
    "#     ax = fig.add_subplot(111)\n",
    "\n",
    "    plt.scatter(x,data_points) # Plotting data\n",
    "\n",
    "#     fig.set_figwidth(10)\n",
    "#     fig.set_figheight(7)\n",
    "\n",
    "# ----------------------------------------------------------\n",
    "    plt.title('Looking at Residuals given a line')\n",
    "    plt.xlabel('X')\n",
    "    plt.ylabel('Y')\n",
    "    # ----------------------------------------------------------\n",
    "    \n",
    "    \n",
    "    # ----------------------------------------------------------\n",
    "    # Plotting a line\n",
    "    abline_values = slope * x + intercept\n",
    "    \n",
    "    # ----------------------------------------------------------\n",
    "    \n",
    "    # Plot the best fit line over the actual values    \n",
    "    plt.xlim([-10, 120])\n",
    "    plt.ylim([-100,200])\n",
    "    plt.plot(x, abline_values, '--')\n",
    "    plt.grid()\n",
    "    # ----------------------------------------------------------\n",
    "    \n",
    "    # Plotting residuals\n",
    "    for i in random_choice:\n",
    "        plt.plot([x[i],x[i]], [abline_values[i], data_points[i]], '--')\n",
    "        \n",
    "    # Plotting residuals text\n",
    "    for i in random_choice:\n",
    "        a = abline_values[i]\n",
    "        b = data_points[i]\n",
    "        \n",
    "        c = b + (a-b)/2\n",
    "        plt.text(x[i],c, 'Residual', fontsize = 8)\n",
    "\n",
    "    # ----------------------------------------------------------\n",
    "    \n",
    "    # Plotting text at top left\n",
    "    plt.text(.01, .99, f'Slope = {slope}', ha='left', va='top', transform=ax.transAxes)\n",
    "    plt.text(.01, .95, f'Intecept = {intercept}', ha='left', va='top', transform=ax.transAxes)\n",
    "\n",
    "    # ----------------------------------------------------------\n",
    "    plt.show()\n",
    "    # ----------------------------------------------------------\n",
    "\n",
    "w = interactive(create_data_and_line_only, \n",
    "                slope = widgets.FloatSlider(min=-10, max=10, step=0.1, value=1),\n",
    "               intercept = widgets.FloatSlider(min=-30, max=50, step=5, value=0))\n",
    "\n",
    "display(w)"
   ]
  },
  {
   "cell_type": "markdown",
   "id": "5ad9c9fe",
   "metadata": {},
   "source": [
    "<h1><center>We need to find the line that minimises SSR</center></h1>"
   ]
  },
  {
   "cell_type": "code",
   "execution_count": 302,
   "id": "7af40f2d",
   "metadata": {},
   "outputs": [
    {
     "data": {
      "application/vnd.jupyter.widget-view+json": {
       "model_id": "dcabc14be8d84e21beda0fa0b88d41a4",
       "version_major": 2,
       "version_minor": 0
      },
      "text/plain": [
       "interactive(children=(FloatSlider(value=1.0, description='slope', max=10.0, min=-10.0), FloatSlider(value=0.0,…"
      ]
     },
     "metadata": {},
     "output_type": "display_data"
    }
   ],
   "source": [
    "from ipywidgets import interact, interactive, fixed, interact_manual\n",
    "import ipywidgets as widgets\n",
    "\n",
    "# Plotting the residual values\n",
    "import random\n",
    "random_choice = [random.randint(0,49) for i in range(10)]\n",
    "random_choice\n",
    "\n",
    "\n",
    "random_slope = np.random.normal()\n",
    "random_intercept = np.random.normal()\n",
    "\n",
    "our_range = [i for i in range(1,100,2)]\n",
    "\n",
    "line_points = np.array([(random_slope*i + random_intercept) for i in our_range])\n",
    "random_noise = np.array([np.random.randint(-10,100) for i in our_range])\n",
    "data_points = line_points + random_noise\n",
    "\n",
    "\n",
    "\n",
    "def create_data_and_line_only(slope,intercept):\n",
    "\n",
    "    x = np.array(range(1,100,2))\n",
    "    x = x.reshape(-1,1)\n",
    "    # ----------------------------------------------------------\n",
    "\n",
    "    import matplotlib.pyplot as plt\n",
    "\n",
    "    plt.figure(figsize=(10,6))\n",
    "    ax = plt.gca()\n",
    "    \n",
    "#     fig = plt.figure()\n",
    "#     ax = fig.add_subplot(111)\n",
    "\n",
    "    plt.scatter(x,data_points) # Plotting data\n",
    "\n",
    "#     fig.set_figwidth(10)\n",
    "#     fig.set_figheight(7)\n",
    "\n",
    "# ----------------------------------------------------------\n",
    "    plt.title('Trying to find the line that minimizes SSR')\n",
    "    plt.xlabel('X')\n",
    "    plt.ylabel('Y')\n",
    "    # ----------------------------------------------------------\n",
    "    \n",
    "    \n",
    "    # ----------------------------------------------------------\n",
    "    # Plotting a line\n",
    "    abline_values = slope * x + intercept\n",
    "    \n",
    "    # ----------------------------------------------------------\n",
    "    \n",
    "    # Plot the best fit line over the actual values    \n",
    "    plt.xlim([-10, 120])\n",
    "    plt.ylim([-100,200])\n",
    "    plt.plot(x, abline_values, '--')\n",
    "    plt.grid()\n",
    "    # ----------------------------------------------------------\n",
    "    \n",
    "    # Plotting residuals\n",
    "    for i in random_choice:\n",
    "        plt.plot([x[i],x[i]], [abline_values[i], data_points[i]], '--')\n",
    "        \n",
    "    # ----------------------------------------------------------\n",
    "    \n",
    "    # Calculating SSR\n",
    "    predicted_values = np.array(abline_values)\n",
    "    ssr = np.sum(np.square(data_points - predicted_values))\n",
    "\n",
    "    \n",
    "    # Plotting text at top left\n",
    "    plt.text(.01, .99, f'Slope = {slope}', ha='left', va='top', transform=ax.transAxes)\n",
    "    plt.text(.01, .95, f'Intecept = {intercept}', ha='left', va='top', transform=ax.transAxes)\n",
    "    plt.text(1, .5, f'SSR = {round(ssr)}', ha='left', va='top', fontsize= 'large',transform=ax.transAxes)\n",
    "    \n",
    "\n",
    "    # ----------------------------------------------------------\n",
    "    plt.show()\n",
    "    # ----------------------------------------------------------\n",
    "\n",
    "w = interactive(create_data_and_line_only, \n",
    "                slope = widgets.FloatSlider(min=-10, max=10, step=0.1, value=1),\n",
    "               intercept = widgets.FloatSlider(min=-30, max=50, step=2, value=0))\n",
    "\n",
    "display(w)"
   ]
  },
  {
   "cell_type": "markdown",
   "id": "c1cd855b",
   "metadata": {},
   "source": [
    "<h1><center>Recap</center></h1>\n",
    "\n",
    "- So, here we are. \n",
    "- We need to find the best line, that \"**fits**\" our data. \n",
    "- This fit we are looking for, we will find by trying out different values for ```intercept``` and ```slope```.\n"
   ]
  },
  {
   "cell_type": "markdown",
   "id": "f43b54f4",
   "metadata": {},
   "source": [
    "<h1><center>Finding out the value for slope and intercept</center></h1>\n",
    "\n",
    "That gives us the minimum ```SSR``` is what <span style=\"color: green;font-size:50px;\">Linear Regression</span> is all about.\n"
   ]
  },
  {
   "cell_type": "code",
   "execution_count": null,
   "id": "a4d9e6ee",
   "metadata": {},
   "outputs": [],
   "source": []
  },
  {
   "cell_type": "code",
   "execution_count": null,
   "id": "626f44da",
   "metadata": {},
   "outputs": [],
   "source": []
  },
  {
   "cell_type": "code",
   "execution_count": null,
   "id": "097beb4b",
   "metadata": {},
   "outputs": [],
   "source": []
  },
  {
   "cell_type": "code",
   "execution_count": null,
   "id": "3b9515df",
   "metadata": {},
   "outputs": [],
   "source": []
  },
  {
   "cell_type": "code",
   "execution_count": null,
   "id": "cb93e22a",
   "metadata": {},
   "outputs": [],
   "source": []
  },
  {
   "cell_type": "code",
   "execution_count": null,
   "id": "c7452407",
   "metadata": {},
   "outputs": [],
   "source": []
  }
 ],
 "metadata": {
  "kernelspec": {
   "display_name": "Python 3 (ipykernel)",
   "language": "python",
   "name": "python3"
  },
  "language_info": {
   "codemirror_mode": {
    "name": "ipython",
    "version": 3
   },
   "file_extension": ".py",
   "mimetype": "text/x-python",
   "name": "python",
   "nbconvert_exporter": "python",
   "pygments_lexer": "ipython3",
   "version": "3.7.16"
  }
 },
 "nbformat": 4,
 "nbformat_minor": 5
}
