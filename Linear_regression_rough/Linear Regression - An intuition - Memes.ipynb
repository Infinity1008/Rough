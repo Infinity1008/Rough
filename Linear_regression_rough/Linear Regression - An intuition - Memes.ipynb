{
 "cells": [
  {
   "cell_type": "markdown",
   "id": "0932fe6c",
   "metadata": {},
   "source": [
    "<center><h1>Linear Regression</h1></center>\n",
    "\n",
    "<!-- ![](https://www.voxco.com/wp-content/uploads/2021/11/Linear-Regression1.png) -->\n",
    "![](animated_gifs/Linear_regression_intro.gif)\n",
    "\n",
    "# What is it, Why do we care ?\n",
    "\n",
    "Linear regression analysis is used to predict the value of a variable based on the value of another variable. The variable you want to predict is called the dependent variable. The variable you are using to predict the other variable's value is called the independent variable. You **\"fit\"** a line to your data to predict the dependent variable using the independent variable. \n",
    "\n",
    "\n",
    "Let's break this down.\n",
    "- What is a line\n",
    "- Let's look at some data.\n",
    "- How do we fit this line ?\n",
    "- Once we fit the line, then what !!"
   ]
  },
  {
   "cell_type": "markdown",
   "id": "00d772fb",
   "metadata": {},
   "source": [
    "<h1><center>An Intuition</center></h1>\n",
    "\n",
    "Let's say you and i walk into a warehouse and the warehouse has a lot of boxes. A lot of them. We go around and randomly select 10 boxes of different sizes. \n",
    "\n",
    "---\n",
    "![](animated_gifs/Size_of_boxes.gif)\n",
    "\n",
    "---\n",
    "\n",
    "Now an interesting question appears before us, if i were to ask you the size of the 11'th box. What would you guess.\n",
    "\n",
    "Remember, the 11'th box could be anything. It could be 8.1, 6.5, 2, 10, 100.93, 50,22.98. These values are possible, but what would **you predict** !!\n",
    "\n",
    "\n",
    "<h3><center>Take a guess !!</center></h3>\n",
    "\n",
    "---"
   ]
  },
  {
   "cell_type": "markdown",
   "id": "262440f7",
   "metadata": {},
   "source": [
    "![](animated_gifs/guess_the_size.gif)\n",
    "\n",
    "---\n",
    "\n",
    "<h3><center>Well, most of you picked <i>mean</i> or average</center></h3>\n",
    "\n",
    "Now, the question is why did you, think about it for a second. The answer could have been anything. It could have been 100 even, why did you pick mean. When you knew that the answer could have been anything. \n",
    "\n",
    "Well, here is a breaker. Brace for it. \n",
    "\n",
    "---"
   ]
  },
  {
   "cell_type": "markdown",
   "id": "af431254",
   "metadata": {},
   "source": [
    "<center><h1>You were not trying to be right, you were trying to be <span style=\"color: red;font-size:30px;\"><i>least</i></span> wrong</h1></center>\n",
    "\n",
    "- Think about it. You were trying to play it safe. \n",
    "- You realized internally that the answer will **most likely** be around the numbers/size you have already seen, so the next number/size must be **close** to your observed number/size. \n",
    "\n",
    "For these reasons, you internally decided to play it <span style=\"color: green;font-size:30px;\">safe</span> and <span style=\"font-size:20px;\"><i><b>give the closest number to all your observations</i></b></span>, thereby <span style=\"font-size:20px;\">**mean**.</span>\n",
    "\n",
    "---\n",
    "\n",
    "This intuition you already had sets the basis of all the modeling techniques we will cover including **linear regression**. \n",
    "\n",
    "---\n",
    "<center>The intuition to not be right, but to be least wrong is how we will try to understand linear regression.</center>"
   ]
  },
  {
   "cell_type": "markdown",
   "id": "e690bfba",
   "metadata": {},
   "source": [
    "Coming back to the example, let's plot the sizes on a y axis.\n",
    "\n",
    "![](animated_gifs/Plotting_on_y_axis.gif)\n",
    "\n",
    "---"
   ]
  },
  {
   "cell_type": "markdown",
   "id": "cdd8dd9d",
   "metadata": {},
   "source": [
    "Now, how far away are these points from your prediction or mean. Well, we can plot that\n",
    "\n",
    "![](animated_gifs/Plotting_mean.gif)"
   ]
  },
  {
   "cell_type": "markdown",
   "id": "7c42c834",
   "metadata": {},
   "source": [
    "Well, let's call this distance between your prediction and the actual value **Residuals**.\n",
    "![](animated_gifs/Seeing_residuals.gif)"
   ]
  },
  {
   "cell_type": "markdown",
   "id": "a9e6f4bd",
   "metadata": {},
   "source": [
    "Well, all this residual, we can write it as :-\n",
    "\n",
    "$$ actual - mean $$\n",
    "\n",
    "We will also have to add all the residuals up. So, we can write that as :-\n",
    "\n",
    "$$ \\sum_{i=1}^{n} Actual - mean $$\n",
    "\n",
    "---"
   ]
  },
  {
   "cell_type": "markdown",
   "id": "89359fc0",
   "metadata": {},
   "source": [
    "All this means is that we are adding all of our residuals, but wait, we have **negative** and **positive** residuals, to tackle that, we either.\n",
    "- Need to take a modulas \n",
    "\n",
    "$$ \\sum_{i=1}^{n} | Actual - mean | $$\n",
    "\n",
    "\n",
    "- Or we need to square it \n",
    "$$ \\sum_{i=1}^{n} (Actual - mean)^2 $$\n",
    "\n",
    "---\n"
   ]
  },
  {
   "cell_type": "markdown",
   "id": "d8193480",
   "metadata": {},
   "source": [
    "Alright, we have now added all of our residuals, but wait, we don't just want to add but take an average of residuals, otherwise the more data we add, the more residuals will increase. So, average residual is what we are after :- \n",
    "\n",
    "$$ \\sum_{i=1}^{n} \\frac{(Actual - mean)^2}{n} $$\n",
    "\n",
    "\n",
    "Let's call this **Average of Sum of Squared Residuals**, **SSR** for short\n",
    "\n",
    "Animating the same\n",
    "![](animated_gifs/sum_of_squared_residuals.gif)\n",
    "\n",
    "----"
   ]
  },
  {
   "cell_type": "markdown",
   "id": "f591e3d9",
   "metadata": {},
   "source": [
    "## So\n",
    "What is our **SSR**, when our prediction is **mean** at 8.1, our **SSR** is 10.69\n",
    "![](animated_gifs/default_ssr.gif)\n",
    "\n",
    "---"
   ]
  },
  {
   "cell_type": "markdown",
   "id": "79ab833f",
   "metadata": {},
   "source": [
    "### Now\n",
    "The big question is, if you were to change your prediction from mean to let's say some **higher** value, what would happen. \n",
    "\n",
    "![](animated_gifs/up_ssr.gif)\n",
    "\n",
    "---"
   ]
  },
  {
   "cell_type": "markdown",
   "id": "5de9ab53",
   "metadata": {},
   "source": [
    "As you would have noticed, when you start to move away from the mean, your **SSR** start to increase !!\n",
    "\n",
    "### Alternately\n",
    "What if you were to predict a **lower** value, then what ??\n",
    "\n",
    "![](animated_gifs/down_sr.gif)\n",
    "\n",
    "---"
   ]
  },
  {
   "cell_type": "markdown",
   "id": "a6518de5",
   "metadata": {},
   "source": [
    "Similar story, your **SSR** starts to increase again. So it would be fair to say:-\n",
    "\n",
    "---\n",
    "\n",
    "<center><h2>Your SSR is lowest at the mean value !!</h2></center>"
   ]
  },
  {
   "cell_type": "markdown",
   "id": "01374e68",
   "metadata": {},
   "source": [
    "## Now\n",
    "Let's go back to our formula's :-\n",
    "\n",
    "$$ \\sum_{i=1}^{n} \\frac{(Actual - mean)^2}{n} $$\n",
    "\n",
    "You can write **Actual** as $$ x $$ and the **mean value** as $$ \\bar{x} $$\n",
    "\n",
    "---"
   ]
  },
  {
   "cell_type": "markdown",
   "id": "6c01e34b",
   "metadata": {},
   "source": [
    "So, you can re-write the whole thing as :-\n",
    "\n",
    "$$ Variance = \\sum_{i=1}^{n} \\frac{(x - \\bar{x})^2}{n} $$\n",
    "\n",
    "This, newly written formula that we are referring to as the **Average Sum of Squared Residuals** or **SSR** for short is also called <span style=\"color: green;font-size:30px;\">Variance</span>"
   ]
  },
  {
   "cell_type": "markdown",
   "id": "270fa35c",
   "metadata": {},
   "source": [
    "![](animated_gifs/ssr_is_variance.gif)\n"
   ]
  },
  {
   "cell_type": "markdown",
   "id": "71a2df5f",
   "metadata": {},
   "source": [
    "# Conclusion\n",
    "So, in conclusion. Here is what we have learned up until now.\n",
    "- We discovered that we pick mean, when asked to take a guess.\n",
    "- We found out, that the reason we do that is we want to be least wrong.\n",
    "- Taking that principle, we discovered that we can take all the residuals, add them together, square them, and take their average and use that as an indicator of how well our prediction is. \n",
    "- So, we started predicting different numbers and noticing the SSR(Sum of Squared Residuals).\n",
    "- We found out that the SSR is minimum at mean and that was the reason that our initial prediction was so good. \n",
    "- We knew mean was the most appropriate answer, we just couldn't verbalize or articulate it well before. \n",
    "- Well, that time is long gone and now we know, why we picked mean as our prediction. \n",
    "- We now have maths to backup our bold claims !!\n",
    "\n",
    "Wrapping up, whenever we are dealing with a single variable, and we are asked to make a prediction, our best bet is mean, the answer could be anything, but it is in our best interest to pick mean as the answer as it is the most likely to be the closest to the right answer.\n",
    "\n",
    "Well, that's part 1 done \n",
    "\n",
    "![](https://media.tenor.com/N_JxWadeR0AAAAAC/funny-cat.gif)\n",
    "\n",
    "-------------\n",
    "\n",
    "<h3><center>Fin</center></h3>\n",
    "\n",
    "-----\n"
   ]
  },
  {
   "cell_type": "markdown",
   "id": "c89c1b0a",
   "metadata": {},
   "source": [
    "<h1><center>But this is all for 1 Dimensional data</center></h1>\n",
    "\n",
    "# What if we have 2 dimensional data.\n",
    "What if, for the first 10 boxes, apart from the size, we were also given their weight let's say. \n",
    "\n",
    "- Now, if for the 11th box we are told the weight and asked to predict the size. \n",
    "- Will we take weight into consideration or will we just ignore the weight and again go for the mean value of size ?\n",
    "- Remember, earlier all we had was the size of the boxes. So our best bet was the mean, now that is not the case. \n",
    "- We now have access to more information, can this information help us make better prediction ?\n",
    "- If the answer is yes, we should use it (to make better prediction)\n",
    "\n",
    "Think about it\n",
    "- If you noticed that as the weight of the box increases, the size also increases. \n",
    "- If the weight decreases, the size also tends to do so.\n",
    "\n",
    "Now, for the 11th box, i tell you that the weight is more, would you not guess the size to be higher ???\n",
    "- Or, would you still go for the mean ??\n",
    "- You would think about going higher on the size, right ??\n",
    "\n",
    "So, this information can help you make better predictions right, possibly !! \n",
    "\n",
    "\n",
    "\n",
    "\n",
    "The question is \n",
    "\n",
    "<center><span style=\"font-size:30px;color:red\"><b>How ??</b></span></center>\n",
    "\n",
    "### Let's do this\n",
    "![](https://media.giphy.com/media/10dU7AN7xsi1I4/giphy.gif)\n",
    "\n",
    "    \n",
    "### By creating some plots\n",
    "![](animated_gifs/what_if_2d.gif)\n",
    "\n",
    "---"
   ]
  },
  {
   "cell_type": "markdown",
   "id": "e4c0a313",
   "metadata": {},
   "source": [
    "Let's add some data points\n",
    "\n",
    "![](animated_gifs/create_2d_data.gif)\n",
    "\n",
    "---"
   ]
  },
  {
   "cell_type": "markdown",
   "id": "736fe434",
   "metadata": {},
   "source": [
    "### Now\n",
    "Because this is a 2 dimensions, we need a line to make predictions. \n",
    "\n",
    "Why you ask, i'll explain, but first."
   ]
  },
  {
   "cell_type": "markdown",
   "id": "9530c31c",
   "metadata": {},
   "source": [
    "# What is a line\n",
    "Well, we all know the answer to this but just so we are all on the same page vocabulary wise, let's get some words out of the way. \n",
    "\n",
    "A line can be represented as \n",
    "\n",
    "<h1><center>$ y = mx + b $ </center></h1>\n",
    "\n",
    "With **$ m $** being your slope and **$ b $** being your y-intercept. \n",
    "\n",
    "So as an example, if your **$m = 1$** & **$b = 5$** ,your equation will turn out to be **$y = x + 5$**\n",
    "\n",
    "You can read more about it [here](https://www.wikihow.com/Find-the-Equation-of-a-Line).\n",
    "\n",
    "![](https://www.wikihow.com/images/thumb/6/63/Find-the-Equation-of-a-Line-Step-5-Version-5.jpg/aid437759-v4-728px-Find-the-Equation-of-a-Line-Step-5-Version-5.jpg)\n",
    "\n",
    "\n",
    "Now, i hear you say what is going on. So i present to you a demo for you to play around.\n",
    "\n",
    "--------"
   ]
  },
  {
   "cell_type": "markdown",
   "id": "edc75fca",
   "metadata": {},
   "source": [
    "# A demo \n",
    "Don't mind the code if you don't understand it. Just play around with the interactive plots"
   ]
  },
  {
   "cell_type": "code",
   "execution_count": 6,
   "id": "fcd3e63a",
   "metadata": {},
   "outputs": [
    {
     "data": {
      "application/vnd.jupyter.widget-view+json": {
       "model_id": "8bc17dab9d7c45acb13243feaf474519",
       "version_major": 2,
       "version_minor": 0
      },
      "text/plain": [
       "interactive(children=(FloatSlider(value=1.0, description='slope', max=20.0, min=-20.0), FloatSlider(value=0.0,…"
      ]
     },
     "metadata": {},
     "output_type": "display_data"
    }
   ],
   "source": [
    "import numpy as np\n",
    "import matplotlib.pyplot as plt\n",
    "\n",
    "from IPython.display import display\n",
    "import ipywidgets as widgets\n",
    "from ipywidgets import interact, interactive, fixed, interact_manual, widgets\n",
    "\n",
    "from helper_funcitons import draw_line, plot_our_data, plot_data_and_line, plot_data_line_residuals_ssr, create_data_line_residuals_rmse\n",
    "\n",
    "w = interactive(draw_line, \n",
    "                slope = widgets.FloatSlider(min=-20, max=20, step=0.1, value=1),\n",
    "               intercept = widgets.FloatSlider(min=-3, max=3, step=0.5, value=0))\n",
    "\n",
    "display(w)"
   ]
  },
  {
   "cell_type": "markdown",
   "id": "5bca5265",
   "metadata": {},
   "source": [
    "Now that we know what a line is. \n",
    "- We know what slope is \n",
    "- We know what an intercept is \n",
    "\n",
    "We know that the formula for a line is :-\n",
    "$$ y = mx + c $$\n",
    "\n",
    "- This means that for every value of **x**, we can get a value for **y**.\n",
    "- And, as the slope and intercept change, for every value of **x**, we will get a different value for **y**.\n",
    "- This means that we can use a line to represent a relationship between 2 varibles.\n",
    "- Too confused, let me explain with our example !!\n",
    "\n",
    "Let's keep going\n",
    "![](https://i.pinimg.com/originals/74/12/8a/74128ab5421564831d970c7be8ccfdf8.gif)"
   ]
  },
  {
   "cell_type": "markdown",
   "id": "2f4720d1",
   "metadata": {},
   "source": [
    "# We can fit a line to our data \n",
    "Let's animate the same. I have named **Slope** as Alpha. \n",
    "\n",
    "Looking at slope/alpha\n",
    "\n",
    "![](animated_gifs/what_is_alpha.gif)\n",
    "\n",
    "---\n",
    "\n",
    "Looking at Intercept\n",
    "\n",
    "![](animated_gifs/what_is_intercept.gif)\n",
    "\n",
    "---"
   ]
  },
  {
   "cell_type": "markdown",
   "id": "0fdab9dc",
   "metadata": {},
   "source": [
    "# Now, what does it mean when it says, \"fit\" the line to the data.\n",
    "- Well, we use the same concepts we used earlier in 1 dimensional data.\n",
    "- We randomly select a line, calculate **SSR/Variance**.\n",
    "- Select another line, calculate **SSR/Variance**. \n",
    "- Keep doing this till we get the line with the least **SSR/Variance**.\n",
    "- This line of least **SSR/Variance** is our **Line of best fit**"
   ]
  },
  {
   "cell_type": "markdown",
   "id": "fc662fc8",
   "metadata": {},
   "source": [
    "# Let's look at our new data, with weight "
   ]
  },
  {
   "cell_type": "code",
   "execution_count": 2,
   "id": "182b5113",
   "metadata": {},
   "outputs": [
    {
     "data": {
      "image/png": "[encoded data removed]",
      "text/plain": [
       "<Figure size 640x480 with 1 Axes>"
      ]
     },
     "metadata": {},
     "output_type": "display_data"
    }
   ],
   "source": [
    "plot_our_data()"
   ]
  },
  {
   "cell_type": "markdown",
   "id": "a7eeb008",
   "metadata": {},
   "source": [
    "### We can generally see that as our size increases, so does our weight.\n",
    "Similarly, when our size decreases, so does our weight.\n",
    "\n",
    "#### So, if we are given a weight of box and told to guess the size, it would make sense to take weight into account before predicting the size.\n",
    "\n",
    "![](https://media.tenor.com/yxPwQhamxe8AAAAM/gato-pensando-cat-thinking.gif)"
   ]
  },
  {
   "cell_type": "markdown",
   "id": "f9646560",
   "metadata": {},
   "source": [
    "# Let's make it more interactive"
   ]
  },
  {
   "cell_type": "code",
   "execution_count": 3,
   "id": "361963c3",
   "metadata": {},
   "outputs": [
    {
     "data": {
      "application/vnd.jupyter.widget-view+json": {
       "model_id": "63e8af62683946eaa398c15b4d36de04",
       "version_major": 2,
       "version_minor": 0
      },
      "text/plain": [
       "interactive(children=(FloatSlider(value=1.0, description='slope', max=4.0, min=-2.0), FloatSlider(value=0.0, d…"
      ]
     },
     "metadata": {},
     "output_type": "display_data"
    }
   ],
   "source": [
    "w = interactive(plot_data_and_line, \n",
    "                slope = widgets.FloatSlider(min=-2, max=4, step=0.1, value=1),\n",
    "               intercept = widgets.FloatSlider(min=-10, max=15, step=0.1, value=0))\n",
    "\n",
    "display(w)"
   ]
  },
  {
   "cell_type": "markdown",
   "id": "f1ce3c95",
   "metadata": {},
   "source": [
    "<h1><center>What about SSR</center></h1>"
   ]
  },
  {
   "cell_type": "markdown",
   "id": "5d98279f",
   "metadata": {},
   "source": [
    "# Now remember\n",
    "- Well, we use the same concepts we used earlier in 1 dimensional data.\n",
    "- We randomly select a line, calculate Variance.\n",
    "- Select another line, calculate Variance.\n",
    "- Keep doing this till we get the line with the least Variance.\n",
    "- This line of least SSR is our Line of best fit"
   ]
  },
  {
   "cell_type": "markdown",
   "id": "c1decb84",
   "metadata": {},
   "source": [
    "<h1><center>We need to find the line that minimises Variance</center></h1>"
   ]
  },
  {
   "cell_type": "code",
   "execution_count": 4,
   "id": "830c1b0f",
   "metadata": {},
   "outputs": [
    {
     "data": {
      "application/vnd.jupyter.widget-view+json": {
       "model_id": "87a9ce3e4fcc4237b6a32e0a03bdffa3",
       "version_major": 2,
       "version_minor": 0
      },
      "text/plain": [
       "interactive(children=(FloatSlider(value=1.0, description='slope', max=4.0, min=-2.0, step=0.05), FloatSlider(v…"
      ]
     },
     "metadata": {},
     "output_type": "display_data"
    }
   ],
   "source": [
    "w = interactive(plot_data_line_residuals_ssr, \n",
    "                slope = widgets.FloatSlider(min=-2, max=4, step=0.05, value=1),\n",
    "               intercept = widgets.FloatSlider(min=-10, max=20, step=0.5, value=0))\n",
    "\n",
    "display(w)"
   ]
  },
  {
   "cell_type": "markdown",
   "id": "e5a275c4",
   "metadata": {},
   "source": [
    "# So\n",
    "We see that the ```slope value``` of ```0.45``` with the ```intercept``` value of ```1``` gives us the lowest Variance.\n",
    "\n",
    "# But, what does this mean ??\n",
    "It means that we will use this line with ```slope value``` of ```0.75``` with the ```intercept``` value of ```1``` as the line to predict values of <span style=\"font-size:30px;color:Green\"><b>Size</b></span>, given we have the value of <span style=\"font-size:30px;color:Purple\"><b>Weight</b></span>.\n",
    "\n",
    "## How does this work in practice. \n",
    "Remember the equation of a line \n",
    "\n",
    "$$ y = mx + c $$\n",
    "\n",
    "Well, now we have found the value of slope and intercept, the equation looks like \n",
    "\n",
    "$$ y = 0.75x + 1 $$\n",
    "\n",
    "So, if we are given a value of weight(let's say 8), we will plug that into this equation, like this \n",
    "\n",
    "$$ y = 0.75*8 + 1 $$\n",
    "\n",
    "which will resolve into \n",
    "\n",
    "$$ y = 6 + 1 $$\n",
    "thereby \n",
    "$$ y = 7 $$\n",
    "---\n",
    "\n",
    "<center><span style=\"font-size:30px;color:Black\"><b>That is our answer</b></span></center>\n",
    "\n",
    "For the given value of 8 as weight, we will not go with mean, but with 7 as our guess of size !! \n",
    "\n",
    "---"
   ]
  },
  {
   "cell_type": "markdown",
   "id": "86186e2f",
   "metadata": {},
   "source": [
    "<h1><center>Recap</center></h1>\n",
    "\n",
    "- So, here we are. \n",
    "- We need to find the best line, that \"**fits**\" our data. \n",
    "- This fit we are looking for, we will find by trying out different values for ```intercept``` and ```slope```.\n"
   ]
  },
  {
   "cell_type": "markdown",
   "id": "30930874",
   "metadata": {},
   "source": [
    "<h1><center>Finding out the value for slope and intercept</center></h1>\n",
    "\n",
    "That gives us the minimum ```Variance``` is what <span style=\"color: green;font-size:50px;\">Linear Regression</span> is all about.\n",
    "\n",
    "---"
   ]
  },
  {
   "cell_type": "markdown",
   "id": "e6186306",
   "metadata": {},
   "source": [
    "<h1><center>Fin</center></h1>"
   ]
  },
  {
   "cell_type": "markdown",
   "id": "45ab83bc",
   "metadata": {},
   "source": [
    "If you want to play around, with more data. I have made some fun charts to do just that.\n",
    "\n",
    "Everytime you run the cell, it will generate new data !!\n",
    "\n",
    "If you see any errors, just run the cell again !!\n",
    "\n",
    "<h1><center>Have fun</center></h1>"
   ]
  },
  {
   "cell_type": "code",
   "execution_count": 4,
   "id": "fbf29cab",
   "metadata": {},
   "outputs": [
    {
     "data": {
      "application/vnd.jupyter.widget-view+json": {
       "model_id": "bb7c1127e5d444f6b70e41f01b9b873a",
       "version_major": 2,
       "version_minor": 0
      },
      "text/plain": [
       "interactive(children=(FloatSlider(value=1.0, description='slope', max=10.0, min=-10.0), FloatSlider(value=0.0,…"
      ]
     },
     "metadata": {},
     "output_type": "display_data"
    }
   ],
   "source": [
    "from ipywidgets import interact, interactive, fixed, interact_manual\n",
    "import ipywidgets as widgets\n",
    "\n",
    "# Plotting the residual values\n",
    "import random\n",
    "random_choice = [random.randint(0,50) for i in range(10)]\n",
    "random_choice\n",
    "\n",
    "\n",
    "random_slope = np.random.normal()\n",
    "random_intercept = np.random.normal()\n",
    "\n",
    "our_range = [i for i in range(0,150,2)]\n",
    "\n",
    "line_points = np.array([(random_slope*i + random_intercept) for i in our_range])\n",
    "random_noise = np.array([np.random.randint(-10,100) for i in our_range])\n",
    "data_points = line_points + random_noise\n",
    "\n",
    "\n",
    "\n",
    "def create_data_line_residuals_ssr(slope,intercept):\n",
    "\n",
    "    x = np.array(range(0,150,2))\n",
    "    x = x.reshape(-1,1)\n",
    "    # ----------------------------------------------------------\n",
    "\n",
    "    import matplotlib.pyplot as plt\n",
    "\n",
    "    plt.figure(figsize=(10,8))\n",
    "    ax = plt.gca()\n",
    "    plt.scatter(x,data_points) # Plotting data\n",
    "\n",
    "\n",
    "# ----------------------------------------------------------\n",
    "    plt.title('Trying to find the line that minimizes SSR')\n",
    "    plt.xlabel('X')\n",
    "    plt.ylabel('Y')\n",
    "    # ----------------------------------------------------------\n",
    "    \n",
    "    \n",
    "    # ----------------------------------------------------------\n",
    "    # Plotting a line\n",
    "    abline_values = slope * x + intercept\n",
    "    \n",
    "    # ----------------------------------------------------------\n",
    "    \n",
    "    # Plot the best fit line over the actual values    \n",
    "    plt.xlim([-20, 150])\n",
    "    plt.ylim([-20,150])\n",
    "    plt.plot(x, abline_values, '--')\n",
    "    plt.grid()\n",
    "    # ----------------------------------------------------------\n",
    "    \n",
    "    # Plotting residuals\n",
    "    for i in random_choice:\n",
    "        plt.plot((x[i],x[i]), (abline_values[i], data_points[i]), '--')\n",
    "        \n",
    "    # ----------------------------------------------------------\n",
    "    \n",
    "    # Calculating SSR\n",
    "    predicted_values = np.array(abline_values)\n",
    "    ssr = np.sum(np.square(data_points - predicted_values))\n",
    "\n",
    "    \n",
    "    # Plotting text at top left\n",
    "    plt.text(.01, .99, f'Slope = {slope}', ha='left', va='top', transform=ax.transAxes)\n",
    "    plt.text(.01, .95, f'Intecept = {intercept}', ha='left', va='top', transform=ax.transAxes)\n",
    "    plt.text(1, .5, f'  Variance = {round(ssr)}', ha='left', va='top', fontsize= 'large',transform=ax.transAxes)\n",
    "    \n",
    "\n",
    "    # ----------------------------------------------------------\n",
    "    plt.show()\n",
    "    # ----------------------------------------------------------\n",
    "\n",
    "w = interactive(create_data_line_residuals_ssr, \n",
    "                slope = widgets.FloatSlider(min=-10, max=10, step=0.1, value=1),\n",
    "               intercept = widgets.FloatSlider(min=-30, max=50, step=2, value=0))\n",
    "\n",
    "display(w)"
   ]
  },
  {
   "cell_type": "markdown",
   "id": "ae43bb52",
   "metadata": {},
   "source": [
    "<h1><center>But wait</center></h1>\n",
    "\n",
    "There are some things left to say. \n",
    "Remember, how i told you that we calculate ```SSR```/```Variance``` and fit the best line and that is how we get <span style=\"color: green;font-size:20px;\">Linear Regression</span>\n",
    "\n",
    "<h1><center>Well</center></h1>\n",
    "\n",
    "![](https://media.tenor.com/ksOdKy3PmwEAAAAC/lie-lies.gif)\n",
    "\n",
    "Now now, before anyone get's angry !!\n",
    "![](https://y.yarn.co/66870eee-f773-484e-9fb3-3395619873a0_text.gif)\n",
    "\n",
    "<!-- ![](https://i.makeagif.com/media/8-03-2021/S6mMyH.gif) -->"
   ]
  },
  {
   "cell_type": "markdown",
   "id": "89468892",
   "metadata": {},
   "source": [
    "# Remember our SSR formula\n",
    "\n",
    "$$ Variance = \\sum_{i=1}^{n} (Actual - mean)^2 $$\n",
    "\n",
    "That can be written as \n",
    "\n",
    "$$ Variance = \\sum_{i=1}^{n} \\frac{(x - \\bar{x})^2}{n} $$\n",
    "\n",
    "Well, we can call this **variance**. \n",
    "\n",
    "---\n",
    "\n",
    "All you have to do is to take the Square root of Variance and we will have **RMSE(Root Mean Squared error)** or **Standard Deviation**. That is used for calculating **Line of Best Fit**\n",
    "\n",
    "And all it is, is the **Square Root** of **Variance**\n",
    "\n",
    "\n",
    "\n",
    "$$ RMSE =  \\sum_{i=1}^{n} \\sqrt\\frac{(x - \\bar{x})^2}{n} $$\n",
    "\n",
    "---\n",
    "\n",
    "# Let's see, how taking RMSE affects our example "
   ]
  },
  {
   "cell_type": "code",
   "execution_count": 6,
   "id": "1f955740",
   "metadata": {},
   "outputs": [
    {
     "data": {
      "application/vnd.jupyter.widget-view+json": {
       "model_id": "1d26a18d0e2a418fb3332660280c6c95",
       "version_major": 2,
       "version_minor": 0
      },
      "text/plain": [
       "interactive(children=(FloatSlider(value=1.0, description='slope', max=4.0, min=-2.0, step=0.05), FloatSlider(v…"
      ]
     },
     "metadata": {},
     "output_type": "display_data"
    }
   ],
   "source": [
    "w = interactive(create_data_line_residuals_rmse, \n",
    "                slope = widgets.FloatSlider(min=-2, max=4, step=0.05, value=1),\n",
    "               intercept = widgets.FloatSlider(min=-10, max=20, step=0.5, value=0))\n",
    "\n",
    "display(w)"
   ]
  },
  {
   "cell_type": "markdown",
   "id": "26c79d92",
   "metadata": {},
   "source": [
    "# Doing the same for the playground demo"
   ]
  },
  {
   "cell_type": "code",
   "execution_count": 5,
   "id": "1245f6e3",
   "metadata": {},
   "outputs": [
    {
     "data": {
      "application/vnd.jupyter.widget-view+json": {
       "model_id": "ec25c7104a0d4fc3bfd1e3681d2479c7",
       "version_major": 2,
       "version_minor": 0
      },
      "text/plain": [
       "interactive(children=(FloatSlider(value=1.0, description='slope', max=10.0, min=-10.0), FloatSlider(value=0.0,…"
      ]
     },
     "metadata": {},
     "output_type": "display_data"
    }
   ],
   "source": [
    "from ipywidgets import interact, interactive, fixed, interact_manual\n",
    "import ipywidgets as widgets\n",
    "\n",
    "# Plotting the residual values\n",
    "import random\n",
    "random_choice = [random.randint(0,50) for i in range(10)]\n",
    "random_choice\n",
    "\n",
    "\n",
    "random_slope = np.random.normal()\n",
    "random_intercept = np.random.normal()\n",
    "\n",
    "our_range = [i for i in range(0,150,2)]\n",
    "\n",
    "line_points = np.array([(random_slope*i + random_intercept) for i in our_range])\n",
    "random_noise = np.array([np.random.randint(-10,100) for i in our_range])\n",
    "data_points = line_points + random_noise\n",
    "\n",
    "\n",
    "\n",
    "def create_data_line_residuals_ssr(slope,intercept):\n",
    "\n",
    "    x = np.array(range(0,150,2))\n",
    "    x = x.reshape(-1,1)\n",
    "    # ----------------------------------------------------------\n",
    "\n",
    "    import matplotlib.pyplot as plt\n",
    "\n",
    "    plt.figure(figsize=(10,8))\n",
    "    ax = plt.gca()\n",
    "    plt.scatter(x,data_points) # Plotting data\n",
    "\n",
    "\n",
    "# ----------------------------------------------------------\n",
    "    plt.title('Trying to find the line that minimizes SSR')\n",
    "    plt.xlabel('X')\n",
    "    plt.ylabel('Y')\n",
    "    # ----------------------------------------------------------\n",
    "    \n",
    "    \n",
    "    # ----------------------------------------------------------\n",
    "    # Plotting a line\n",
    "    abline_values = slope * x + intercept\n",
    "    \n",
    "    # ----------------------------------------------------------\n",
    "    \n",
    "    # Plot the best fit line over the actual values    \n",
    "    plt.xlim([-20, 150])\n",
    "    plt.ylim([-20,150])\n",
    "    plt.plot(x, abline_values, '--')\n",
    "    plt.grid()\n",
    "    # ----------------------------------------------------------\n",
    "    \n",
    "    # Plotting residuals\n",
    "    for i in random_choice:\n",
    "        plt.plot((x[i],x[i]), (abline_values[i], data_points[i]), '--')\n",
    "        \n",
    "    # ----------------------------------------------------------\n",
    "    \n",
    "    # Calculating SSR\n",
    "    predicted_values = np.array(abline_values)\n",
    "#     ssr = np.sum(np.square(data_points - predicted_values))\n",
    "    rmse = np.sqrt(np.mean((predicted_values-data_points)**2))\n",
    "\n",
    "    \n",
    "    # Plotting text at top left\n",
    "    plt.text(.01, .99, f'Slope = {slope}', ha='left', va='top', transform=ax.transAxes)\n",
    "    plt.text(.01, .95, f'Intecept = {intercept}', ha='left', va='top', transform=ax.transAxes)\n",
    "    plt.text(1, .5, f'  RMSE = {round(rmse,2)}', ha='left', va='top', fontsize= 'large',transform=ax.transAxes)\n",
    "    \n",
    "\n",
    "    # ----------------------------------------------------------\n",
    "    plt.show()\n",
    "    # ----------------------------------------------------------\n",
    "\n",
    "w = interactive(create_data_line_residuals_ssr, \n",
    "                slope = widgets.FloatSlider(min=-10, max=10, step=0.1, value=1),\n",
    "               intercept = widgets.FloatSlider(min=-30, max=50, step=2, value=0))\n",
    "\n",
    "display(w)"
   ]
  },
  {
   "cell_type": "markdown",
   "id": "15a93a02",
   "metadata": {},
   "source": [
    "<h1><center>Finding out the value for slope and intercept</center></h1>\n",
    "\n",
    "That gives us the minimum ```RMSE``` is what <span style=\"color: green;font-size:50px;\">Linear Regression</span> is all about.\n",
    "\n",
    "---\n",
    "\n",
    "![](https://media.tenor.com/mntQtpe_fKEAAAAC/no-lies-national-geographic.gif)"
   ]
  }
 ],
 "metadata": {
  "kernelspec": {
   "display_name": "Python 3 (ipykernel)",
   "language": "python",
   "name": "python3"
  },
  "language_info": {
   "codemirror_mode": {
    "name": "ipython",
    "version": 3
   },
   "file_extension": ".py",
   "mimetype": "text/x-python",
   "name": "python",
   "nbconvert_exporter": "python",
   "pygments_lexer": "ipython3",
   "version": "3.7.16"
  }
 },
 "nbformat": 4,
 "nbformat_minor": 5
}
