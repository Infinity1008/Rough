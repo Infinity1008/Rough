{
 "cells": [
  {
   "cell_type": "code",
   "execution_count": 1,
   "id": "3d7e7762",
   "metadata": {},
   "outputs": [],
   "source": [
    "import numpy as np\n",
    "import pandas as pd\n",
    "import matplotlib.pyplot as plt\n",
    "import seaborn as sns\n",
    "%matplotlib inline"
   ]
  },
  {
   "cell_type": "code",
   "execution_count": 2,
   "id": "fd078f24",
   "metadata": {},
   "outputs": [],
   "source": [
    "df = pd.read_csv(\"AirPassengers.csv\")"
   ]
  },
  {
   "cell_type": "code",
   "execution_count": 3,
   "id": "3e51ac8a",
   "metadata": {},
   "outputs": [
    {
     "data": {
      "text/plain": [
       "(80, 9)"
      ]
     },
     "execution_count": 3,
     "metadata": {},
     "output_type": "execute_result"
    }
   ],
   "source": [
    "df.shape"
   ]
  },
  {
   "cell_type": "raw",
   "id": "46a12ad1",
   "metadata": {},
   "source": [
    "AirPassengers data has 80 observations given in 9 variables."
   ]
  },
  {
   "cell_type": "code",
   "execution_count": 4,
   "id": "de13c8e0",
   "metadata": {},
   "outputs": [
    {
     "data": {
      "text/html": [
       "<div>\n",
       "<style scoped>\n",
       "    .dataframe tbody tr th:only-of-type {\n",
       "        vertical-align: middle;\n",
       "    }\n",
       "\n",
       "    .dataframe tbody tr th {\n",
       "        vertical-align: top;\n",
       "    }\n",
       "\n",
       "    .dataframe thead th {\n",
       "        text-align: right;\n",
       "    }\n",
       "</style>\n",
       "<table border=\"1\" class=\"dataframe\">\n",
       "  <thead>\n",
       "    <tr style=\"text-align: right;\">\n",
       "      <th></th>\n",
       "      <th>Week_num</th>\n",
       "      <th>Passengers</th>\n",
       "      <th>Promotion_Budget</th>\n",
       "      <th>Service_Quality_Score</th>\n",
       "      <th>Holiday_week</th>\n",
       "      <th>Delayed_Cancelled_flight_ind</th>\n",
       "      <th>Inter_metro_flight_ratio</th>\n",
       "      <th>Bad_Weather_Ind</th>\n",
       "      <th>Technical_issues_ind</th>\n",
       "    </tr>\n",
       "  </thead>\n",
       "  <tbody>\n",
       "    <tr>\n",
       "      <th>0</th>\n",
       "      <td>1</td>\n",
       "      <td>37824</td>\n",
       "      <td>517356</td>\n",
       "      <td>4.00000</td>\n",
       "      <td>NO</td>\n",
       "      <td>NO</td>\n",
       "      <td>0.7</td>\n",
       "      <td>YES</td>\n",
       "      <td>YES</td>\n",
       "    </tr>\n",
       "    <tr>\n",
       "      <th>1</th>\n",
       "      <td>2</td>\n",
       "      <td>43936</td>\n",
       "      <td>646086</td>\n",
       "      <td>2.67466</td>\n",
       "      <td>NO</td>\n",
       "      <td>YES</td>\n",
       "      <td>0.8</td>\n",
       "      <td>YES</td>\n",
       "      <td>YES</td>\n",
       "    </tr>\n",
       "    <tr>\n",
       "      <th>2</th>\n",
       "      <td>3</td>\n",
       "      <td>42896</td>\n",
       "      <td>638330</td>\n",
       "      <td>3.29473</td>\n",
       "      <td>NO</td>\n",
       "      <td>NO</td>\n",
       "      <td>0.9</td>\n",
       "      <td>NO</td>\n",
       "      <td>NO</td>\n",
       "    </tr>\n",
       "  </tbody>\n",
       "</table>\n",
       "</div>"
      ],
      "text/plain": [
       "   Week_num  Passengers  Promotion_Budget  Service_Quality_Score Holiday_week  \\\n",
       "0         1       37824            517356                4.00000           NO   \n",
       "1         2       43936            646086                2.67466           NO   \n",
       "2         3       42896            638330                3.29473           NO   \n",
       "\n",
       "  Delayed_Cancelled_flight_ind  Inter_metro_flight_ratio Bad_Weather_Ind  \\\n",
       "0                           NO                       0.7             YES   \n",
       "1                          YES                       0.8             YES   \n",
       "2                           NO                       0.9              NO   \n",
       "\n",
       "  Technical_issues_ind  \n",
       "0                  YES  \n",
       "1                  YES  \n",
       "2                   NO  "
      ]
     },
     "execution_count": 4,
     "metadata": {},
     "output_type": "execute_result"
    }
   ],
   "source": [
    "df.head(3)"
   ]
  },
  {
   "cell_type": "code",
   "execution_count": 5,
   "id": "5d417bd5",
   "metadata": {},
   "outputs": [
    {
     "data": {
      "text/html": [
       "<div>\n",
       "<style scoped>\n",
       "    .dataframe tbody tr th:only-of-type {\n",
       "        vertical-align: middle;\n",
       "    }\n",
       "\n",
       "    .dataframe tbody tr th {\n",
       "        vertical-align: top;\n",
       "    }\n",
       "\n",
       "    .dataframe thead th {\n",
       "        text-align: right;\n",
       "    }\n",
       "</style>\n",
       "<table border=\"1\" class=\"dataframe\">\n",
       "  <thead>\n",
       "    <tr style=\"text-align: right;\">\n",
       "      <th></th>\n",
       "      <th>Week_num</th>\n",
       "      <th>Passengers</th>\n",
       "      <th>Promotion_Budget</th>\n",
       "      <th>Service_Quality_Score</th>\n",
       "      <th>Holiday_week</th>\n",
       "      <th>Delayed_Cancelled_flight_ind</th>\n",
       "      <th>Inter_metro_flight_ratio</th>\n",
       "      <th>Bad_Weather_Ind</th>\n",
       "      <th>Technical_issues_ind</th>\n",
       "    </tr>\n",
       "  </thead>\n",
       "  <tbody>\n",
       "    <tr>\n",
       "      <th>78</th>\n",
       "      <td>79</td>\n",
       "      <td>43834</td>\n",
       "      <td>636636</td>\n",
       "      <td>2.75382</td>\n",
       "      <td>NO</td>\n",
       "      <td>YES</td>\n",
       "      <td>0.79</td>\n",
       "      <td>YES</td>\n",
       "      <td>YES</td>\n",
       "    </tr>\n",
       "    <tr>\n",
       "      <th>79</th>\n",
       "      <td>80</td>\n",
       "      <td>40852</td>\n",
       "      <td>575008</td>\n",
       "      <td>3.52768</td>\n",
       "      <td>NO</td>\n",
       "      <td>YES</td>\n",
       "      <td>0.54</td>\n",
       "      <td>YES</td>\n",
       "      <td>YES</td>\n",
       "    </tr>\n",
       "  </tbody>\n",
       "</table>\n",
       "</div>"
      ],
      "text/plain": [
       "    Week_num  Passengers  Promotion_Budget  Service_Quality_Score  \\\n",
       "78        79       43834            636636                2.75382   \n",
       "79        80       40852            575008                3.52768   \n",
       "\n",
       "   Holiday_week Delayed_Cancelled_flight_ind  Inter_metro_flight_ratio  \\\n",
       "78           NO                          YES                      0.79   \n",
       "79           NO                          YES                      0.54   \n",
       "\n",
       "   Bad_Weather_Ind Technical_issues_ind  \n",
       "78             YES                  YES  \n",
       "79             YES                  YES  "
      ]
     },
     "execution_count": 5,
     "metadata": {},
     "output_type": "execute_result"
    }
   ],
   "source": [
    "df.tail(2)"
   ]
  },
  {
   "cell_type": "code",
   "execution_count": 6,
   "id": "9fba594f",
   "metadata": {},
   "outputs": [
    {
     "name": "stdout",
     "output_type": "stream",
     "text": [
      "<class 'pandas.core.frame.DataFrame'>\n",
      "RangeIndex: 80 entries, 0 to 79\n",
      "Data columns (total 9 columns):\n",
      " #   Column                        Non-Null Count  Dtype  \n",
      "---  ------                        --------------  -----  \n",
      " 0   Week_num                      80 non-null     int64  \n",
      " 1   Passengers                    80 non-null     int64  \n",
      " 2   Promotion_Budget              80 non-null     int64  \n",
      " 3   Service_Quality_Score         80 non-null     float64\n",
      " 4   Holiday_week                  80 non-null     object \n",
      " 5   Delayed_Cancelled_flight_ind  80 non-null     object \n",
      " 6   Inter_metro_flight_ratio      80 non-null     float64\n",
      " 7   Bad_Weather_Ind               80 non-null     object \n",
      " 8   Technical_issues_ind          80 non-null     object \n",
      "dtypes: float64(2), int64(3), object(4)\n",
      "memory usage: 5.8+ KB\n"
     ]
    }
   ],
   "source": [
    "df.info()"
   ]
  },
  {
   "cell_type": "code",
   "execution_count": 7,
   "id": "93ad0416",
   "metadata": {},
   "outputs": [
    {
     "data": {
      "text/plain": [
       "<AxesSubplot:>"
      ]
     },
     "execution_count": 7,
     "metadata": {},
     "output_type": "execute_result"
    },
    {
     "data": {
      "image/png": "[encoded data removed]",
      "text/plain": [
       "<Figure size 432x288 with 1 Axes>"
      ]
     },
     "metadata": {
      "needs_background": "light"
     },
     "output_type": "display_data"
    }
   ],
   "source": [
    "df[\"Passengers\"].hist()"
   ]
  },
  {
   "cell_type": "code",
   "execution_count": 8,
   "id": "d1249afc",
   "metadata": {},
   "outputs": [
    {
     "data": {
      "text/plain": [
       "1.314495852821924"
      ]
     },
     "execution_count": 8,
     "metadata": {},
     "output_type": "execute_result"
    }
   ],
   "source": [
    "df[\"Passengers\"].skew()"
   ]
  },
  {
   "cell_type": "raw",
   "id": "64eb28a4",
   "metadata": {},
   "source": [
    "It indicates Passengers variable is heavily skewed and requires transformation."
   ]
  },
  {
   "cell_type": "code",
   "execution_count": 9,
   "id": "132d7943",
   "metadata": {},
   "outputs": [
    {
     "data": {
      "text/plain": [
       "<AxesSubplot:>"
      ]
     },
     "execution_count": 9,
     "metadata": {},
     "output_type": "execute_result"
    },
    {
     "data": {
      "image/png": "[encoded data removed]",
      "text/plain": [
       "<Figure size 432x288 with 1 Axes>"
      ]
     },
     "metadata": {
      "needs_background": "light"
     },
     "output_type": "display_data"
    }
   ],
   "source": [
    "df[\"Promotion_Budget\"].hist()"
   ]
  },
  {
   "cell_type": "code",
   "execution_count": 10,
   "id": "6086c542",
   "metadata": {},
   "outputs": [
    {
     "data": {
      "text/plain": [
       "1.0918513679349868"
      ]
     },
     "execution_count": 10,
     "metadata": {},
     "output_type": "execute_result"
    }
   ],
   "source": [
    "df[\"Promotion_Budget\"].skew()"
   ]
  },
  {
   "cell_type": "raw",
   "id": "8d9bdbda",
   "metadata": {},
   "source": [
    "It indicates Promotion_Budget variable is heavily skewed and requires transformation."
   ]
  },
  {
   "cell_type": "code",
   "execution_count": 11,
   "id": "6ede0337",
   "metadata": {},
   "outputs": [
    {
     "data": {
      "text/plain": [
       "<AxesSubplot:>"
      ]
     },
     "execution_count": 11,
     "metadata": {},
     "output_type": "execute_result"
    },
    {
     "data": {
      "image/png": "[encoded data removed]",
      "text/plain": [
       "<Figure size 432x288 with 1 Axes>"
      ]
     },
     "metadata": {
      "needs_background": "light"
     },
     "output_type": "display_data"
    }
   ],
   "source": [
    "y_t = np.log(df[\"Passengers\"])\n",
    "y_t.hist(bins = 30)"
   ]
  },
  {
   "cell_type": "code",
   "execution_count": 12,
   "id": "f1f40193",
   "metadata": {},
   "outputs": [
    {
     "data": {
      "text/plain": [
       "0.7048137624384369"
      ]
     },
     "execution_count": 12,
     "metadata": {},
     "output_type": "execute_result"
    }
   ],
   "source": [
    "y_t.skew()"
   ]
  },
  {
   "cell_type": "code",
   "execution_count": 13,
   "id": "77559cfd",
   "metadata": {},
   "outputs": [],
   "source": [
    "df[\"log_Passengers\"] = np.log(df[\"Passengers\"])"
   ]
  },
  {
   "cell_type": "code",
   "execution_count": 14,
   "id": "e9e118f8",
   "metadata": {},
   "outputs": [],
   "source": [
    "df[\"log_Promotion_Budget\"] = np.log(df[\"Promotion_Budget\"])"
   ]
  },
  {
   "cell_type": "code",
   "execution_count": 15,
   "id": "486f96d4",
   "metadata": {},
   "outputs": [
    {
     "data": {
      "text/html": [
       "<div>\n",
       "<style scoped>\n",
       "    .dataframe tbody tr th:only-of-type {\n",
       "        vertical-align: middle;\n",
       "    }\n",
       "\n",
       "    .dataframe tbody tr th {\n",
       "        vertical-align: top;\n",
       "    }\n",
       "\n",
       "    .dataframe thead th {\n",
       "        text-align: right;\n",
       "    }\n",
       "</style>\n",
       "<table border=\"1\" class=\"dataframe\">\n",
       "  <thead>\n",
       "    <tr style=\"text-align: right;\">\n",
       "      <th></th>\n",
       "      <th>Week_num</th>\n",
       "      <th>Passengers</th>\n",
       "      <th>Promotion_Budget</th>\n",
       "      <th>Service_Quality_Score</th>\n",
       "      <th>Holiday_week</th>\n",
       "      <th>Delayed_Cancelled_flight_ind</th>\n",
       "      <th>Inter_metro_flight_ratio</th>\n",
       "      <th>Bad_Weather_Ind</th>\n",
       "      <th>Technical_issues_ind</th>\n",
       "      <th>log_Passengers</th>\n",
       "      <th>log_Promotion_Budget</th>\n",
       "    </tr>\n",
       "  </thead>\n",
       "  <tbody>\n",
       "    <tr>\n",
       "      <th>0</th>\n",
       "      <td>1</td>\n",
       "      <td>37824</td>\n",
       "      <td>517356</td>\n",
       "      <td>4.00000</td>\n",
       "      <td>NO</td>\n",
       "      <td>NO</td>\n",
       "      <td>0.70</td>\n",
       "      <td>YES</td>\n",
       "      <td>YES</td>\n",
       "      <td>10.540699</td>\n",
       "      <td>13.156487</td>\n",
       "    </tr>\n",
       "    <tr>\n",
       "      <th>1</th>\n",
       "      <td>2</td>\n",
       "      <td>43936</td>\n",
       "      <td>646086</td>\n",
       "      <td>2.67466</td>\n",
       "      <td>NO</td>\n",
       "      <td>YES</td>\n",
       "      <td>0.80</td>\n",
       "      <td>YES</td>\n",
       "      <td>YES</td>\n",
       "      <td>10.690489</td>\n",
       "      <td>13.378688</td>\n",
       "    </tr>\n",
       "    <tr>\n",
       "      <th>2</th>\n",
       "      <td>3</td>\n",
       "      <td>42896</td>\n",
       "      <td>638330</td>\n",
       "      <td>3.29473</td>\n",
       "      <td>NO</td>\n",
       "      <td>NO</td>\n",
       "      <td>0.90</td>\n",
       "      <td>NO</td>\n",
       "      <td>NO</td>\n",
       "      <td>10.666534</td>\n",
       "      <td>13.366611</td>\n",
       "    </tr>\n",
       "    <tr>\n",
       "      <th>3</th>\n",
       "      <td>4</td>\n",
       "      <td>35792</td>\n",
       "      <td>506492</td>\n",
       "      <td>3.85684</td>\n",
       "      <td>NO</td>\n",
       "      <td>NO</td>\n",
       "      <td>0.40</td>\n",
       "      <td>NO</td>\n",
       "      <td>NO</td>\n",
       "      <td>10.485480</td>\n",
       "      <td>13.135264</td>\n",
       "    </tr>\n",
       "    <tr>\n",
       "      <th>4</th>\n",
       "      <td>5</td>\n",
       "      <td>38624</td>\n",
       "      <td>609658</td>\n",
       "      <td>3.90757</td>\n",
       "      <td>NO</td>\n",
       "      <td>NO</td>\n",
       "      <td>0.87</td>\n",
       "      <td>NO</td>\n",
       "      <td>YES</td>\n",
       "      <td>10.561629</td>\n",
       "      <td>13.320653</td>\n",
       "    </tr>\n",
       "  </tbody>\n",
       "</table>\n",
       "</div>"
      ],
      "text/plain": [
       "   Week_num  Passengers  Promotion_Budget  Service_Quality_Score Holiday_week  \\\n",
       "0         1       37824            517356                4.00000           NO   \n",
       "1         2       43936            646086                2.67466           NO   \n",
       "2         3       42896            638330                3.29473           NO   \n",
       "3         4       35792            506492                3.85684           NO   \n",
       "4         5       38624            609658                3.90757           NO   \n",
       "\n",
       "  Delayed_Cancelled_flight_ind  Inter_metro_flight_ratio Bad_Weather_Ind  \\\n",
       "0                           NO                      0.70             YES   \n",
       "1                          YES                      0.80             YES   \n",
       "2                           NO                      0.90              NO   \n",
       "3                           NO                      0.40              NO   \n",
       "4                           NO                      0.87              NO   \n",
       "\n",
       "  Technical_issues_ind  log_Passengers  log_Promotion_Budget  \n",
       "0                  YES       10.540699             13.156487  \n",
       "1                  YES       10.690489             13.378688  \n",
       "2                   NO       10.666534             13.366611  \n",
       "3                   NO       10.485480             13.135264  \n",
       "4                  YES       10.561629             13.320653  "
      ]
     },
     "execution_count": 15,
     "metadata": {},
     "output_type": "execute_result"
    }
   ],
   "source": [
    "df.head()"
   ]
  },
  {
   "cell_type": "code",
   "execution_count": 16,
   "id": "e1d3931d",
   "metadata": {},
   "outputs": [
    {
     "data": {
      "text/plain": [
       "0.9556329274982938"
      ]
     },
     "execution_count": 16,
     "metadata": {},
     "output_type": "execute_result"
    }
   ],
   "source": [
    "df.log_Passengers.corr(df.log_Promotion_Budget)"
   ]
  },
  {
   "cell_type": "code",
   "execution_count": 17,
   "id": "bd999759",
   "metadata": {},
   "outputs": [
    {
     "data": {
      "text/plain": [
       "<matplotlib.collections.PathCollection at 0x1b9d3e52ee0>"
      ]
     },
     "execution_count": 17,
     "metadata": {},
     "output_type": "execute_result"
    },
    {
     "data": {
      "image/png": "[encoded data removed]",
      "text/plain": [
       "<Figure size 432x288 with 1 Axes>"
      ]
     },
     "metadata": {
      "needs_background": "light"
     },
     "output_type": "display_data"
    }
   ],
   "source": [
    "plt.scatter(df.log_Promotion_Budget, df.log_Passengers)"
   ]
  },
  {
   "cell_type": "code",
   "execution_count": 18,
   "id": "a8ac8981",
   "metadata": {},
   "outputs": [],
   "source": [
    "from sklearn.linear_model import LinearRegression"
   ]
  },
  {
   "cell_type": "code",
   "execution_count": 19,
   "id": "cb478d81",
   "metadata": {},
   "outputs": [],
   "source": [
    "X = df[[\"log_Promotion_Budget\"]]\n",
    "y = df[[\"log_Passengers\"]]"
   ]
  },
  {
   "cell_type": "code",
   "execution_count": 20,
   "id": "f2879fc4",
   "metadata": {},
   "outputs": [
    {
     "data": {
      "text/plain": [
       "(80, 1)"
      ]
     },
     "execution_count": 20,
     "metadata": {},
     "output_type": "execute_result"
    }
   ],
   "source": [
    "X.shape"
   ]
  },
  {
   "cell_type": "code",
   "execution_count": 21,
   "id": "d7c08001",
   "metadata": {},
   "outputs": [
    {
     "data": {
      "text/plain": [
       "LinearRegression()"
      ]
     },
     "execution_count": 21,
     "metadata": {},
     "output_type": "execute_result"
    }
   ],
   "source": [
    "lm = LinearRegression()\n",
    "lm.fit(X, y)  # Model Training"
   ]
  },
  {
   "cell_type": "code",
   "execution_count": 22,
   "id": "0c10aef0",
   "metadata": {},
   "outputs": [
    {
     "data": {
      "text/plain": [
       "array([-1.74377209])"
      ]
     },
     "execution_count": 22,
     "metadata": {},
     "output_type": "execute_result"
    }
   ],
   "source": [
    "lm.intercept_"
   ]
  },
  {
   "cell_type": "code",
   "execution_count": 23,
   "id": "250ac814",
   "metadata": {},
   "outputs": [
    {
     "data": {
      "text/plain": [
       "array([[0.9329509]])"
      ]
     },
     "execution_count": 23,
     "metadata": {},
     "output_type": "execute_result"
    }
   ],
   "source": [
    "lm.coef_"
   ]
  },
  {
   "cell_type": "code",
   "execution_count": 24,
   "id": "7323edda",
   "metadata": {},
   "outputs": [],
   "source": [
    "y_hat= lm.predict(X)"
   ]
  },
  {
   "cell_type": "code",
   "execution_count": 25,
   "id": "bb563ca9",
   "metadata": {},
   "outputs": [],
   "source": [
    "y_pred = np.exp(y_hat)"
   ]
  },
  {
   "cell_type": "code",
   "execution_count": 26,
   "id": "b8ccac9f",
   "metadata": {},
   "outputs": [],
   "source": [
    "#y_pred"
   ]
  },
  {
   "cell_type": "code",
   "execution_count": 27,
   "id": "c1006020",
   "metadata": {},
   "outputs": [],
   "source": [
    "error = df[[\"Passengers\"]] - y_pred"
   ]
  },
  {
   "cell_type": "code",
   "execution_count": 28,
   "id": "a0fb0d4f",
   "metadata": {},
   "outputs": [],
   "source": [
    "MSE = np.mean((error)**2)"
   ]
  },
  {
   "cell_type": "code",
   "execution_count": 29,
   "id": "467d851b",
   "metadata": {},
   "outputs": [],
   "source": [
    "RMSE = np.sqrt(MSE)"
   ]
  },
  {
   "cell_type": "code",
   "execution_count": 30,
   "id": "56b7817a",
   "metadata": {},
   "outputs": [
    {
     "name": "stdout",
     "output_type": "stream",
     "text": [
      "Passengers    2983.493355\n",
      "dtype: float64\n"
     ]
    }
   ],
   "source": [
    "print(RMSE)"
   ]
  },
  {
   "cell_type": "code",
   "execution_count": 31,
   "id": "855a722a",
   "metadata": {},
   "outputs": [
    {
     "data": {
      "text/plain": [
       "0.9132342921189589"
      ]
     },
     "execution_count": 31,
     "metadata": {},
     "output_type": "execute_result"
    }
   ],
   "source": [
    "lm.score(X, y)  # R_squared"
   ]
  },
  {
   "cell_type": "code",
   "execution_count": 32,
   "id": "58acc486",
   "metadata": {},
   "outputs": [
    {
     "data": {
      "image/png": "[encoded data removed]",
      "text/plain": [
       "<Figure size 432x288 with 1 Axes>"
      ]
     },
     "metadata": {
      "needs_background": "light"
     },
     "output_type": "display_data"
    }
   ],
   "source": [
    "plt.plot(X, y, 'b*')\n",
    "plt.plot(X, y_hat, 'r+');"
   ]
  },
  {
   "cell_type": "code",
   "execution_count": 33,
   "id": "06dd3888",
   "metadata": {},
   "outputs": [
    {
     "data": {
      "text/plain": [
       "[<matplotlib.lines.Line2D at 0x1b9d47218e0>]"
      ]
     },
     "execution_count": 33,
     "metadata": {},
     "output_type": "execute_result"
    },
    {
     "data": {
      "image/png": "[encoded data removed]",
      "text/plain": [
       "<Figure size 432x288 with 1 Axes>"
      ]
     },
     "metadata": {
      "needs_background": "light"
     },
     "output_type": "display_data"
    }
   ],
   "source": [
    "plt.plot(df.Promotion_Budget, df.Passengers, 'b*')\n",
    "plt.plot(df.Promotion_Budget, y_pred, 'r+')"
   ]
  },
  {
   "cell_type": "code",
   "execution_count": 34,
   "id": "c80df374",
   "metadata": {},
   "outputs": [],
   "source": [
    "from sklearn.metrics import r2_score, mean_squared_error"
   ]
  },
  {
   "cell_type": "code",
   "execution_count": 35,
   "id": "f8ca1247",
   "metadata": {},
   "outputs": [
    {
     "data": {
      "text/plain": [
       "0.9132342921189589"
      ]
     },
     "execution_count": 35,
     "metadata": {},
     "output_type": "execute_result"
    }
   ],
   "source": [
    "r2_score(y, y_hat)"
   ]
  },
  {
   "cell_type": "code",
   "execution_count": 36,
   "id": "2b510a1f",
   "metadata": {},
   "outputs": [
    {
     "data": {
      "text/plain": [
       "2983.4933546187835"
      ]
     },
     "execution_count": 36,
     "metadata": {},
     "output_type": "execute_result"
    }
   ],
   "source": [
    "np.sqrt(mean_squared_error(df.Passengers, y_pred))"
   ]
  },
  {
   "cell_type": "code",
   "execution_count": 37,
   "id": "0591aad0",
   "metadata": {},
   "outputs": [
    {
     "data": {
      "text/plain": [
       "array([[42995.28051944]])"
      ]
     },
     "execution_count": 37,
     "metadata": {},
     "output_type": "execute_result"
    }
   ],
   "source": [
    "ps = lm.intercept_ + lm.coef_*np.log(600000)\n",
    "np.exp(ps)"
   ]
  },
  {
   "cell_type": "code",
   "execution_count": 38,
   "id": "151a19e3",
   "metadata": {},
   "outputs": [
    {
     "data": {
      "text/html": [
       "<div>\n",
       "<style scoped>\n",
       "    .dataframe tbody tr th:only-of-type {\n",
       "        vertical-align: middle;\n",
       "    }\n",
       "\n",
       "    .dataframe tbody tr th {\n",
       "        vertical-align: top;\n",
       "    }\n",
       "\n",
       "    .dataframe thead th {\n",
       "        text-align: right;\n",
       "    }\n",
       "</style>\n",
       "<table border=\"1\" class=\"dataframe\">\n",
       "  <thead>\n",
       "    <tr style=\"text-align: right;\">\n",
       "      <th></th>\n",
       "      <th>count</th>\n",
       "      <th>mean</th>\n",
       "      <th>std</th>\n",
       "      <th>min</th>\n",
       "      <th>25%</th>\n",
       "      <th>50%</th>\n",
       "      <th>75%</th>\n",
       "      <th>max</th>\n",
       "    </tr>\n",
       "  </thead>\n",
       "  <tbody>\n",
       "    <tr>\n",
       "      <th>Week_num</th>\n",
       "      <td>80.0</td>\n",
       "      <td>40.500000</td>\n",
       "      <td>23.237900</td>\n",
       "      <td>1.000000</td>\n",
       "      <td>20.750000</td>\n",
       "      <td>40.500000</td>\n",
       "      <td>60.250000</td>\n",
       "      <td>8.000000e+01</td>\n",
       "    </tr>\n",
       "    <tr>\n",
       "      <th>Passengers</th>\n",
       "      <td>80.0</td>\n",
       "      <td>44745.025000</td>\n",
       "      <td>11267.155215</td>\n",
       "      <td>28700.000000</td>\n",
       "      <td>36424.000000</td>\n",
       "      <td>43144.000000</td>\n",
       "      <td>48864.000000</td>\n",
       "      <td>8.122800e+04</td>\n",
       "    </tr>\n",
       "    <tr>\n",
       "      <th>Promotion_Budget</th>\n",
       "      <td>80.0</td>\n",
       "      <td>625422.350000</td>\n",
       "      <td>156514.349317</td>\n",
       "      <td>365680.000000</td>\n",
       "      <td>517891.500000</td>\n",
       "      <td>597919.000000</td>\n",
       "      <td>688593.500000</td>\n",
       "      <td>1.108254e+06</td>\n",
       "    </tr>\n",
       "    <tr>\n",
       "      <th>Service_Quality_Score</th>\n",
       "      <td>80.0</td>\n",
       "      <td>2.781168</td>\n",
       "      <td>1.000204</td>\n",
       "      <td>0.855360</td>\n",
       "      <td>1.931580</td>\n",
       "      <td>3.108120</td>\n",
       "      <td>3.608882</td>\n",
       "      <td>4.000000e+00</td>\n",
       "    </tr>\n",
       "    <tr>\n",
       "      <th>Inter_metro_flight_ratio</th>\n",
       "      <td>80.0</td>\n",
       "      <td>0.693000</td>\n",
       "      <td>0.158045</td>\n",
       "      <td>0.380000</td>\n",
       "      <td>0.610000</td>\n",
       "      <td>0.720000</td>\n",
       "      <td>0.802500</td>\n",
       "      <td>9.000000e-01</td>\n",
       "    </tr>\n",
       "    <tr>\n",
       "      <th>log_Passengers</th>\n",
       "      <td>80.0</td>\n",
       "      <td>10.681076</td>\n",
       "      <td>0.230639</td>\n",
       "      <td>10.264652</td>\n",
       "      <td>10.502981</td>\n",
       "      <td>10.672298</td>\n",
       "      <td>10.796777</td>\n",
       "      <td>1.130502e+01</td>\n",
       "    </tr>\n",
       "    <tr>\n",
       "      <th>log_Promotion_Budget</th>\n",
       "      <td>80.0</td>\n",
       "      <td>13.317794</td>\n",
       "      <td>0.236247</td>\n",
       "      <td>12.809514</td>\n",
       "      <td>13.157521</td>\n",
       "      <td>13.301200</td>\n",
       "      <td>13.442394</td>\n",
       "      <td>1.391830e+01</td>\n",
       "    </tr>\n",
       "  </tbody>\n",
       "</table>\n",
       "</div>"
      ],
      "text/plain": [
       "                          count           mean            std            min  \\\n",
       "Week_num                   80.0      40.500000      23.237900       1.000000   \n",
       "Passengers                 80.0   44745.025000   11267.155215   28700.000000   \n",
       "Promotion_Budget           80.0  625422.350000  156514.349317  365680.000000   \n",
       "Service_Quality_Score      80.0       2.781168       1.000204       0.855360   \n",
       "Inter_metro_flight_ratio   80.0       0.693000       0.158045       0.380000   \n",
       "log_Passengers             80.0      10.681076       0.230639      10.264652   \n",
       "log_Promotion_Budget       80.0      13.317794       0.236247      12.809514   \n",
       "\n",
       "                                    25%            50%            75%  \\\n",
       "Week_num                      20.750000      40.500000      60.250000   \n",
       "Passengers                 36424.000000   43144.000000   48864.000000   \n",
       "Promotion_Budget          517891.500000  597919.000000  688593.500000   \n",
       "Service_Quality_Score          1.931580       3.108120       3.608882   \n",
       "Inter_metro_flight_ratio       0.610000       0.720000       0.802500   \n",
       "log_Passengers                10.502981      10.672298      10.796777   \n",
       "log_Promotion_Budget          13.157521      13.301200      13.442394   \n",
       "\n",
       "                                   max  \n",
       "Week_num                  8.000000e+01  \n",
       "Passengers                8.122800e+04  \n",
       "Promotion_Budget          1.108254e+06  \n",
       "Service_Quality_Score     4.000000e+00  \n",
       "Inter_metro_flight_ratio  9.000000e-01  \n",
       "log_Passengers            1.130502e+01  \n",
       "log_Promotion_Budget      1.391830e+01  "
      ]
     },
     "execution_count": 38,
     "metadata": {},
     "output_type": "execute_result"
    }
   ],
   "source": [
    "df.describe().T"
   ]
  },
  {
   "cell_type": "code",
   "execution_count": 39,
   "id": "ef1ca4f4",
   "metadata": {},
   "outputs": [],
   "source": [
    "import statsmodels.formula.api as smf"
   ]
  },
  {
   "cell_type": "code",
   "execution_count": 40,
   "id": "ac639fb3",
   "metadata": {},
   "outputs": [],
   "source": [
    "model = smf.ols(formula = 'log_Passengers ~ log_Promotion_Budget', data = df)"
   ]
  },
  {
   "cell_type": "code",
   "execution_count": 41,
   "id": "df63b007",
   "metadata": {},
   "outputs": [],
   "source": [
    "results = model.fit()"
   ]
  },
  {
   "cell_type": "code",
   "execution_count": 42,
   "id": "4b2bb2a3",
   "metadata": {},
   "outputs": [
    {
     "name": "stdout",
     "output_type": "stream",
     "text": [
      "                            OLS Regression Results                            \n",
      "==============================================================================\n",
      "Dep. Variable:         log_Passengers   R-squared:                       0.913\n",
      "Model:                            OLS   Adj. R-squared:                  0.912\n",
      "Method:                 Least Squares   F-statistic:                     821.0\n",
      "Date:                Mon, 13 Dec 2021   Prob (F-statistic):           3.71e-43\n",
      "Time:                        15:01:23   Log-Likelihood:                 102.12\n",
      "No. Observations:                  80   AIC:                            -200.2\n",
      "Df Residuals:                      78   BIC:                            -195.5\n",
      "Df Model:                           1                                         \n",
      "Covariance Type:            nonrobust                                         \n",
      "========================================================================================\n",
      "                           coef    std err          t      P>|t|      [0.025      0.975]\n",
      "----------------------------------------------------------------------------------------\n",
      "Intercept               -1.7438      0.434     -4.021      0.000      -2.607      -0.880\n",
      "log_Promotion_Budget     0.9330      0.033     28.653      0.000       0.868       0.998\n",
      "==============================================================================\n",
      "Omnibus:                       12.857   Durbin-Watson:                   1.736\n",
      "Prob(Omnibus):                  0.002   Jarque-Bera (JB):                4.097\n",
      "Skew:                          -0.188   Prob(JB):                        0.129\n",
      "Kurtosis:                       1.957   Cond. No.                         760.\n",
      "==============================================================================\n",
      "\n",
      "Notes:\n",
      "[1] Standard Errors assume that the covariance matrix of the errors is correctly specified.\n"
     ]
    }
   ],
   "source": [
    "print(results.summary())"
   ]
  },
  {
   "cell_type": "code",
   "execution_count": 43,
   "id": "b5444da8",
   "metadata": {},
   "outputs": [],
   "source": [
    "residuals = results.resid\n",
    "predicted_values = results.fittedvalues"
   ]
  },
  {
   "cell_type": "code",
   "execution_count": 44,
   "id": "123921c0",
   "metadata": {},
   "outputs": [
    {
     "data": {
      "text/plain": [
       "<matplotlib.collections.PathCollection at 0x1b9d4aee0d0>"
      ]
     },
     "execution_count": 44,
     "metadata": {},
     "output_type": "execute_result"
    },
    {
     "data": {
      "image/png": "[encoded data removed]",
      "text/plain": [
       "<Figure size 432x288 with 1 Axes>"
      ]
     },
     "metadata": {
      "needs_background": "light"
     },
     "output_type": "display_data"
    }
   ],
   "source": [
    "plt.scatter(df.log_Promotion_Budget, residuals)"
   ]
  },
  {
   "cell_type": "code",
   "execution_count": 45,
   "id": "cfa92c21",
   "metadata": {},
   "outputs": [
    {
     "name": "stderr",
     "output_type": "stream",
     "text": [
      "C:\\Users\\Vipin Dubey\\anaconda3\\lib\\site-packages\\seaborn\\_decorators.py:36: FutureWarning: Pass the following variables as keyword args: x, y. From version 0.12, the only valid positional argument will be `data`, and passing other arguments without an explicit keyword will result in an error or misinterpretation.\n",
      "  warnings.warn(\n"
     ]
    },
    {
     "data": {
      "text/plain": [
       "<AxesSubplot:xlabel='log_Promotion_Budget'>"
      ]
     },
     "execution_count": 45,
     "metadata": {},
     "output_type": "execute_result"
    },
    {
     "data": {
      "image/png": "[encoded data removed]",
      "text/plain": [
       "<Figure size 432x288 with 1 Axes>"
      ]
     },
     "metadata": {
      "needs_background": "light"
     },
     "output_type": "display_data"
    }
   ],
   "source": [
    "sns.regplot(df.log_Promotion_Budget, residuals, order = 1, ci = None, line_kws = {'color':'r'})"
   ]
  },
  {
   "cell_type": "code",
   "execution_count": 46,
   "id": "c8d3195e",
   "metadata": {},
   "outputs": [
    {
     "data": {
      "text/plain": [
       "<AxesSubplot:>"
      ]
     },
     "execution_count": 46,
     "metadata": {},
     "output_type": "execute_result"
    },
    {
     "data": {
      "image/png": "[encoded data removed]",
      "text/plain": [
       "<Figure size 432x288 with 1 Axes>"
      ]
     },
     "metadata": {
      "needs_background": "light"
     },
     "output_type": "display_data"
    }
   ],
   "source": [
    "residuals.hist(bins = 25)"
   ]
  },
  {
   "cell_type": "code",
   "execution_count": 47,
   "id": "e00ae494",
   "metadata": {},
   "outputs": [],
   "source": [
    "## Q-Q Plot (Assignment)"
   ]
  },
  {
   "cell_type": "code",
   "execution_count": 48,
   "id": "7e53799f",
   "metadata": {},
   "outputs": [],
   "source": [
    "import statsmodels.api as sm"
   ]
  },
  {
   "cell_type": "code",
   "execution_count": 49,
   "id": "521deb79",
   "metadata": {},
   "outputs": [
    {
     "data": {
      "image/png": "[encoded data removed]",
      "text/plain": [
       "<Figure size 432x288 with 1 Axes>"
      ]
     },
     "metadata": {
      "needs_background": "light"
     },
     "output_type": "display_data"
    }
   ],
   "source": [
    "sm.graphics.influence_plot(results, criterion = 'cooks');"
   ]
  },
  {
   "cell_type": "code",
   "execution_count": 50,
   "id": "ef016e48",
   "metadata": {},
   "outputs": [
    {
     "data": {
      "text/plain": [
       "0.075"
      ]
     },
     "execution_count": 50,
     "metadata": {},
     "output_type": "execute_result"
    }
   ],
   "source": [
    "2*(2+1) / 80 # cut-off for leverage (Any point outside this range will be considered having high leverage) "
   ]
  },
  {
   "cell_type": "code",
   "execution_count": 51,
   "id": "d623790c",
   "metadata": {},
   "outputs": [],
   "source": [
    "#Any point which is outside 2 standard deviations, is considered as outlier (having high variance)"
   ]
  },
  {
   "cell_type": "code",
   "execution_count": 52,
   "id": "9e00555f",
   "metadata": {},
   "outputs": [
    {
     "data": {
      "text/html": [
       "<div>\n",
       "<style scoped>\n",
       "    .dataframe tbody tr th:only-of-type {\n",
       "        vertical-align: middle;\n",
       "    }\n",
       "\n",
       "    .dataframe tbody tr th {\n",
       "        vertical-align: top;\n",
       "    }\n",
       "\n",
       "    .dataframe thead th {\n",
       "        text-align: right;\n",
       "    }\n",
       "</style>\n",
       "<table border=\"1\" class=\"dataframe\">\n",
       "  <thead>\n",
       "    <tr style=\"text-align: right;\">\n",
       "      <th></th>\n",
       "      <th>Week_num</th>\n",
       "      <th>Passengers</th>\n",
       "      <th>Promotion_Budget</th>\n",
       "      <th>Service_Quality_Score</th>\n",
       "      <th>Holiday_week</th>\n",
       "      <th>Delayed_Cancelled_flight_ind</th>\n",
       "      <th>Inter_metro_flight_ratio</th>\n",
       "      <th>Bad_Weather_Ind</th>\n",
       "      <th>Technical_issues_ind</th>\n",
       "      <th>log_Passengers</th>\n",
       "      <th>log_Promotion_Budget</th>\n",
       "    </tr>\n",
       "  </thead>\n",
       "  <tbody>\n",
       "    <tr>\n",
       "      <th>0</th>\n",
       "      <td>1</td>\n",
       "      <td>37824</td>\n",
       "      <td>517356</td>\n",
       "      <td>4.00000</td>\n",
       "      <td>NO</td>\n",
       "      <td>NO</td>\n",
       "      <td>0.70</td>\n",
       "      <td>YES</td>\n",
       "      <td>YES</td>\n",
       "      <td>10.540699</td>\n",
       "      <td>13.156487</td>\n",
       "    </tr>\n",
       "    <tr>\n",
       "      <th>1</th>\n",
       "      <td>2</td>\n",
       "      <td>43936</td>\n",
       "      <td>646086</td>\n",
       "      <td>2.67466</td>\n",
       "      <td>NO</td>\n",
       "      <td>YES</td>\n",
       "      <td>0.80</td>\n",
       "      <td>YES</td>\n",
       "      <td>YES</td>\n",
       "      <td>10.690489</td>\n",
       "      <td>13.378688</td>\n",
       "    </tr>\n",
       "    <tr>\n",
       "      <th>2</th>\n",
       "      <td>3</td>\n",
       "      <td>42896</td>\n",
       "      <td>638330</td>\n",
       "      <td>3.29473</td>\n",
       "      <td>NO</td>\n",
       "      <td>NO</td>\n",
       "      <td>0.90</td>\n",
       "      <td>NO</td>\n",
       "      <td>NO</td>\n",
       "      <td>10.666534</td>\n",
       "      <td>13.366611</td>\n",
       "    </tr>\n",
       "    <tr>\n",
       "      <th>3</th>\n",
       "      <td>4</td>\n",
       "      <td>35792</td>\n",
       "      <td>506492</td>\n",
       "      <td>3.85684</td>\n",
       "      <td>NO</td>\n",
       "      <td>NO</td>\n",
       "      <td>0.40</td>\n",
       "      <td>NO</td>\n",
       "      <td>NO</td>\n",
       "      <td>10.485480</td>\n",
       "      <td>13.135264</td>\n",
       "    </tr>\n",
       "    <tr>\n",
       "      <th>4</th>\n",
       "      <td>5</td>\n",
       "      <td>38624</td>\n",
       "      <td>609658</td>\n",
       "      <td>3.90757</td>\n",
       "      <td>NO</td>\n",
       "      <td>NO</td>\n",
       "      <td>0.87</td>\n",
       "      <td>NO</td>\n",
       "      <td>YES</td>\n",
       "      <td>10.561629</td>\n",
       "      <td>13.320653</td>\n",
       "    </tr>\n",
       "  </tbody>\n",
       "</table>\n",
       "</div>"
      ],
      "text/plain": [
       "   Week_num  Passengers  Promotion_Budget  Service_Quality_Score Holiday_week  \\\n",
       "0         1       37824            517356                4.00000           NO   \n",
       "1         2       43936            646086                2.67466           NO   \n",
       "2         3       42896            638330                3.29473           NO   \n",
       "3         4       35792            506492                3.85684           NO   \n",
       "4         5       38624            609658                3.90757           NO   \n",
       "\n",
       "  Delayed_Cancelled_flight_ind  Inter_metro_flight_ratio Bad_Weather_Ind  \\\n",
       "0                           NO                      0.70             YES   \n",
       "1                          YES                      0.80             YES   \n",
       "2                           NO                      0.90              NO   \n",
       "3                           NO                      0.40              NO   \n",
       "4                           NO                      0.87              NO   \n",
       "\n",
       "  Technical_issues_ind  log_Passengers  log_Promotion_Budget  \n",
       "0                  YES       10.540699             13.156487  \n",
       "1                  YES       10.690489             13.378688  \n",
       "2                   NO       10.666534             13.366611  \n",
       "3                   NO       10.485480             13.135264  \n",
       "4                  YES       10.561629             13.320653  "
      ]
     },
     "execution_count": 52,
     "metadata": {},
     "output_type": "execute_result"
    }
   ],
   "source": [
    "df.head()"
   ]
  },
  {
   "cell_type": "code",
   "execution_count": 53,
   "id": "290ea0ae",
   "metadata": {},
   "outputs": [],
   "source": [
    "X = df.drop(['Week_num', 'Passengers'], axis = 1)\n",
    "y = df['Passengers']"
   ]
  },
  {
   "cell_type": "code",
   "execution_count": 55,
   "id": "eb9ae9f0",
   "metadata": {},
   "outputs": [
    {
     "name": "stdout",
     "output_type": "stream",
     "text": [
      "                            OLS Regression Results                            \n",
      "==============================================================================\n",
      "Dep. Variable:         log_Passengers   R-squared:                       0.913\n",
      "Model:                            OLS   Adj. R-squared:                  0.912\n",
      "Method:                 Least Squares   F-statistic:                     821.0\n",
      "Date:                Mon, 13 Dec 2021   Prob (F-statistic):           3.71e-43\n",
      "Time:                        15:06:14   Log-Likelihood:                 102.12\n",
      "No. Observations:                  80   AIC:                            -200.2\n",
      "Df Residuals:                      78   BIC:                            -195.5\n",
      "Df Model:                           1                                         \n",
      "Covariance Type:            nonrobust                                         \n",
      "========================================================================================\n",
      "                           coef    std err          t      P>|t|      [0.025      0.975]\n",
      "----------------------------------------------------------------------------------------\n",
      "Intercept               -1.7438      0.434     -4.021      0.000      -2.607      -0.880\n",
      "log_Promotion_Budget     0.9330      0.033     28.653      0.000       0.868       0.998\n",
      "==============================================================================\n",
      "Omnibus:                       12.857   Durbin-Watson:                   1.736\n",
      "Prob(Omnibus):                  0.002   Jarque-Bera (JB):                4.097\n",
      "Skew:                          -0.188   Prob(JB):                        0.129\n",
      "Kurtosis:                       1.957   Cond. No.                         760.\n",
      "==============================================================================\n",
      "\n",
      "Notes:\n",
      "[1] Standard Errors assume that the covariance matrix of the errors is correctly specified.\n"
     ]
    }
   ],
   "source": [
    "print(results.summary())"
   ]
  },
  {
   "cell_type": "code",
   "execution_count": 56,
   "id": "3edf1689",
   "metadata": {},
   "outputs": [
    {
     "name": "stdout",
     "output_type": "stream",
     "text": [
      "                            OLS Regression Results                            \n",
      "==============================================================================\n",
      "Dep. Variable:             Passengers   R-squared:                       0.951\n",
      "Model:                            OLS   Adj. R-squared:                  0.950\n",
      "Method:                 Least Squares   F-statistic:                     744.0\n",
      "Date:                Mon, 13 Dec 2021   Prob (F-statistic):           4.38e-51\n",
      "Time:                        15:06:47   Log-Likelihood:                -738.91\n",
      "No. Observations:                  80   AIC:                             1484.\n",
      "Df Residuals:                      77   BIC:                             1491.\n",
      "Df Model:                           2                                         \n",
      "Covariance Type:            nonrobust                                         \n",
      "=========================================================================================\n",
      "                            coef    std err          t      P>|t|      [0.025      0.975]\n",
      "-----------------------------------------------------------------------------------------\n",
      "Intercept              1.853e+04   3464.796      5.348      0.000    1.16e+04    2.54e+04\n",
      "Promotion_Budget          0.0544      0.003     16.063      0.000       0.048       0.061\n",
      "Service_Quality_Score -2807.3095    529.958     -5.297      0.000   -3862.592   -1752.028\n",
      "==============================================================================\n",
      "Omnibus:                        7.728   Durbin-Watson:                   2.331\n",
      "Prob(Omnibus):                  0.021   Jarque-Bera (JB):                2.913\n",
      "Skew:                          -0.043   Prob(JB):                        0.233\n",
      "Kurtosis:                       2.069   Cond. No.                     7.97e+06\n",
      "==============================================================================\n",
      "\n",
      "Notes:\n",
      "[1] Standard Errors assume that the covariance matrix of the errors is correctly specified.\n",
      "[2] The condition number is large, 7.97e+06. This might indicate that there are\n",
      "strong multicollinearity or other numerical problems.\n"
     ]
    }
   ],
   "source": [
    "model2 = smf.ols(formula = \"Passengers ~ Promotion_Budget + Service_Quality_Score\", data = df)\n",
    "result2 = model2.fit()\n",
    "print(result2.summary())"
   ]
  },
  {
   "cell_type": "code",
   "execution_count": 57,
   "id": "f73fde91",
   "metadata": {},
   "outputs": [
    {
     "name": "stdout",
     "output_type": "stream",
     "text": [
      "                            OLS Regression Results                            \n",
      "==============================================================================\n",
      "Dep. Variable:             Passengers   R-squared:                       0.957\n",
      "Model:                            OLS   Adj. R-squared:                  0.955\n",
      "Method:                 Least Squares   F-statistic:                     562.1\n",
      "Date:                Mon, 13 Dec 2021   Prob (F-statistic):           9.03e-52\n",
      "Time:                        15:08:41   Log-Likelihood:                -733.63\n",
      "No. Observations:                  80   AIC:                             1475.\n",
      "Df Residuals:                      76   BIC:                             1485.\n",
      "Df Model:                           3                                         \n",
      "Covariance Type:            nonrobust                                         \n",
      "=========================================================================================\n",
      "                            coef    std err          t      P>|t|      [0.025      0.975]\n",
      "-----------------------------------------------------------------------------------------\n",
      "Intercept               1.62e+04   3341.842      4.847      0.000    9540.985    2.29e+04\n",
      "Holiday_week[T.YES]    3703.0523   1131.256      3.273      0.002    1449.962    5956.143\n",
      "Promotion_Budget          0.0522      0.003     16.007      0.000       0.046       0.059\n",
      "Service_Quality_Score -1790.4133    588.130     -3.044      0.003   -2961.775    -619.052\n",
      "==============================================================================\n",
      "Omnibus:                        1.582   Durbin-Watson:                   2.238\n",
      "Prob(Omnibus):                  0.453   Jarque-Bera (JB):                1.225\n",
      "Skew:                           0.055   Prob(JB):                        0.542\n",
      "Kurtosis:                       2.404   Cond. No.                     8.20e+06\n",
      "==============================================================================\n",
      "\n",
      "Notes:\n",
      "[1] Standard Errors assume that the covariance matrix of the errors is correctly specified.\n",
      "[2] The condition number is large, 8.2e+06. This might indicate that there are\n",
      "strong multicollinearity or other numerical problems.\n"
     ]
    }
   ],
   "source": [
    "model3 = smf.ols(formula = \"Passengers ~ Promotion_Budget + Service_Quality_Score + Holiday_week\", data = df)\n",
    "result3 = model3.fit()\n",
    "print(result3.summary())"
   ]
  },
  {
   "cell_type": "code",
   "execution_count": 58,
   "id": "473ed87c",
   "metadata": {},
   "outputs": [
    {
     "name": "stdout",
     "output_type": "stream",
     "text": [
      "                            OLS Regression Results                            \n",
      "==============================================================================\n",
      "Dep. Variable:             Passengers   R-squared:                       0.957\n",
      "Model:                            OLS   Adj. R-squared:                  0.955\n",
      "Method:                 Least Squares   F-statistic:                     418.5\n",
      "Date:                Mon, 13 Dec 2021   Prob (F-statistic):           1.89e-50\n",
      "Time:                        15:10:04   Log-Likelihood:                -733.41\n",
      "No. Observations:                  80   AIC:                             1477.\n",
      "Df Residuals:                      75   BIC:                             1489.\n",
      "Df Model:                           4                                         \n",
      "Covariance Type:            nonrobust                                         \n",
      "==========================================================================================\n",
      "                             coef    std err          t      P>|t|      [0.025      0.975]\n",
      "------------------------------------------------------------------------------------------\n",
      "Intercept               1.626e+04   3355.860      4.845      0.000    9573.883    2.29e+04\n",
      "Holiday_week[T.YES]     3744.3715   1137.302      3.292      0.002    1478.751    6009.992\n",
      "Bad_Weather_Ind[T.YES]   354.4108    542.259      0.654      0.515    -725.824    1434.646\n",
      "Promotion_Budget           0.0519      0.003     15.676      0.000       0.045       0.058\n",
      "Service_Quality_Score  -1808.4195    591.001     -3.060      0.003   -2985.754    -631.085\n",
      "==============================================================================\n",
      "Omnibus:                        1.517   Durbin-Watson:                   2.202\n",
      "Prob(Omnibus):                  0.468   Jarque-Bera (JB):                1.177\n",
      "Skew:                           0.003   Prob(JB):                        0.555\n",
      "Kurtosis:                       2.406   Cond. No.                     8.20e+06\n",
      "==============================================================================\n",
      "\n",
      "Notes:\n",
      "[1] Standard Errors assume that the covariance matrix of the errors is correctly specified.\n",
      "[2] The condition number is large, 8.2e+06. This might indicate that there are\n",
      "strong multicollinearity or other numerical problems.\n"
     ]
    }
   ],
   "source": [
    "model4 = smf.ols(formula = \"Passengers ~ Promotion_Budget + Service_Quality_Score + Holiday_week + Bad_Weather_Ind\", data = df)\n",
    "result4 = model4.fit()\n",
    "print(result4.summary())"
   ]
  },
  {
   "cell_type": "code",
   "execution_count": 59,
   "id": "49b98574",
   "metadata": {},
   "outputs": [],
   "source": [
    "model5 = smf.ols(formula = \"Passengers ~ Promotion_Budget + Service_Quality_Score + Holiday_week + Bad_Weather_Ind + Inter_metro_flight_ratio + Delayed_Cancelled_flight_ind + Technical_issues_ind \", data = df)\n",
    "result5 = model5.fit()    "
   ]
  },
  {
   "cell_type": "code",
   "execution_count": 60,
   "id": "427d1698",
   "metadata": {},
   "outputs": [
    {
     "name": "stdout",
     "output_type": "stream",
     "text": [
      "                            OLS Regression Results                            \n",
      "==============================================================================\n",
      "Dep. Variable:             Passengers   R-squared:                       0.959\n",
      "Model:                            OLS   Adj. R-squared:                  0.955\n",
      "Method:                 Least Squares   F-statistic:                     238.6\n",
      "Date:                Mon, 13 Dec 2021   Prob (F-statistic):           3.66e-47\n",
      "Time:                        15:43:53   Log-Likelihood:                -731.94\n",
      "No. Observations:                  80   AIC:                             1480.\n",
      "Df Residuals:                      72   BIC:                             1499.\n",
      "Df Model:                           7                                         \n",
      "Covariance Type:            nonrobust                                         \n",
      "=======================================================================================================\n",
      "                                          coef    std err          t      P>|t|      [0.025      0.975]\n",
      "-------------------------------------------------------------------------------------------------------\n",
      "Intercept                            1.738e+04   3494.606      4.973      0.000    1.04e+04    2.43e+04\n",
      "Holiday_week[T.YES]                  3585.9811   1160.925      3.089      0.003    1271.719    5900.243\n",
      "Bad_Weather_Ind[T.YES]                359.1198   1114.637      0.322      0.748   -1862.869    2581.108\n",
      "Delayed_Cancelled_flight_ind[T.YES]  -137.7415   1125.117     -0.122      0.903   -2380.622    2105.139\n",
      "Technical_issues_ind[T.YES]          -884.0625    560.388     -1.578      0.119   -2001.175     233.050\n",
      "Promotion_Budget                        0.0517      0.004     14.376      0.000       0.045       0.059\n",
      "Service_Quality_Score               -1851.1002    594.413     -3.114      0.003   -3036.040    -666.160\n",
      "Inter_metro_flight_ratio             -552.7636   2070.380     -0.267      0.790   -4679.990    3574.463\n",
      "==============================================================================\n",
      "Omnibus:                        0.132   Durbin-Watson:                   2.233\n",
      "Prob(Omnibus):                  0.936   Jarque-Bera (JB):                0.307\n",
      "Skew:                          -0.057   Prob(JB):                        0.858\n",
      "Kurtosis:                       2.719   Cond. No.                     8.62e+06\n",
      "==============================================================================\n",
      "\n",
      "Notes:\n",
      "[1] Standard Errors assume that the covariance matrix of the errors is correctly specified.\n",
      "[2] The condition number is large, 8.62e+06. This might indicate that there are\n",
      "strong multicollinearity or other numerical problems.\n"
     ]
    }
   ],
   "source": [
    "print(result5.summary())"
   ]
  },
  {
   "cell_type": "code",
   "execution_count": 62,
   "id": "cdd4f963",
   "metadata": {},
   "outputs": [],
   "source": [
    "model6 = smf.ols(formula = \"Passengers ~ Promotion_Budget + Service_Quality_Score + Holiday_week  \", data = df)\n",
    "result6 = model6.fit()    "
   ]
  },
  {
   "cell_type": "code",
   "execution_count": 63,
   "id": "5f6e62c2",
   "metadata": {},
   "outputs": [
    {
     "name": "stdout",
     "output_type": "stream",
     "text": [
      "                            OLS Regression Results                            \n",
      "==============================================================================\n",
      "Dep. Variable:             Passengers   R-squared:                       0.957\n",
      "Model:                            OLS   Adj. R-squared:                  0.955\n",
      "Method:                 Least Squares   F-statistic:                     562.1\n",
      "Date:                Mon, 13 Dec 2021   Prob (F-statistic):           9.03e-52\n",
      "Time:                        15:47:11   Log-Likelihood:                -733.63\n",
      "No. Observations:                  80   AIC:                             1475.\n",
      "Df Residuals:                      76   BIC:                             1485.\n",
      "Df Model:                           3                                         \n",
      "Covariance Type:            nonrobust                                         \n",
      "=========================================================================================\n",
      "                            coef    std err          t      P>|t|      [0.025      0.975]\n",
      "-----------------------------------------------------------------------------------------\n",
      "Intercept               1.62e+04   3341.842      4.847      0.000    9540.985    2.29e+04\n",
      "Holiday_week[T.YES]    3703.0523   1131.256      3.273      0.002    1449.962    5956.143\n",
      "Promotion_Budget          0.0522      0.003     16.007      0.000       0.046       0.059\n",
      "Service_Quality_Score -1790.4133    588.130     -3.044      0.003   -2961.775    -619.052\n",
      "==============================================================================\n",
      "Omnibus:                        1.582   Durbin-Watson:                   2.238\n",
      "Prob(Omnibus):                  0.453   Jarque-Bera (JB):                1.225\n",
      "Skew:                           0.055   Prob(JB):                        0.542\n",
      "Kurtosis:                       2.404   Cond. No.                     8.20e+06\n",
      "==============================================================================\n",
      "\n",
      "Notes:\n",
      "[1] Standard Errors assume that the covariance matrix of the errors is correctly specified.\n",
      "[2] The condition number is large, 8.2e+06. This might indicate that there are\n",
      "strong multicollinearity or other numerical problems.\n"
     ]
    }
   ],
   "source": [
    "print(result6.summary())"
   ]
  },
  {
   "cell_type": "code",
   "execution_count": null,
   "id": "ba31245d",
   "metadata": {},
   "outputs": [],
   "source": []
  }
 ],
 "metadata": {
  "kernelspec": {
   "display_name": "Python 3 (ipykernel)",
   "language": "python",
   "name": "python3"
  },
  "language_info": {
   "codemirror_mode": {
    "name": "ipython",
    "version": 3
   },
   "file_extension": ".py",
   "mimetype": "text/x-python",
   "name": "python",
   "nbconvert_exporter": "python",
   "pygments_lexer": "ipython3",
   "version": "3.9.15"
  }
 },
 "nbformat": 4,
 "nbformat_minor": 5
}
