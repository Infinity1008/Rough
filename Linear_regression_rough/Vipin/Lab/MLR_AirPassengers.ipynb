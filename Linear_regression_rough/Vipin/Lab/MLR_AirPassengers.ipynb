{
 "cells": [
  {
   "cell_type": "markdown",
   "id": "cd6bbdab",
   "metadata": {},
   "source": [
    "# Multiple Linear Regression"
   ]
  },
  {
   "cell_type": "code",
   "execution_count": 2,
   "id": "726907ef",
   "metadata": {},
   "outputs": [],
   "source": [
    "import pandas as pd\n",
    "import statsmodels.formula.api as smf"
   ]
  },
  {
   "cell_type": "code",
   "execution_count": 3,
   "id": "b97d83de",
   "metadata": {},
   "outputs": [],
   "source": [
    "df = pd.read_csv(\"AirPassengers.csv\")"
   ]
  },
  {
   "cell_type": "code",
   "execution_count": 4,
   "id": "636f20e1",
   "metadata": {},
   "outputs": [
    {
     "data": {
      "text/html": [
       "<div>\n",
       "<style scoped>\n",
       "    .dataframe tbody tr th:only-of-type {\n",
       "        vertical-align: middle;\n",
       "    }\n",
       "\n",
       "    .dataframe tbody tr th {\n",
       "        vertical-align: top;\n",
       "    }\n",
       "\n",
       "    .dataframe thead th {\n",
       "        text-align: right;\n",
       "    }\n",
       "</style>\n",
       "<table border=\"1\" class=\"dataframe\">\n",
       "  <thead>\n",
       "    <tr style=\"text-align: right;\">\n",
       "      <th></th>\n",
       "      <th>Week_num</th>\n",
       "      <th>Passengers</th>\n",
       "      <th>Promotion_Budget</th>\n",
       "      <th>Service_Quality_Score</th>\n",
       "      <th>Holiday_week</th>\n",
       "      <th>Delayed_Cancelled_flight_ind</th>\n",
       "      <th>Inter_metro_flight_ratio</th>\n",
       "      <th>Bad_Weather_Ind</th>\n",
       "      <th>Technical_issues_ind</th>\n",
       "    </tr>\n",
       "  </thead>\n",
       "  <tbody>\n",
       "    <tr>\n",
       "      <th>0</th>\n",
       "      <td>1</td>\n",
       "      <td>37824</td>\n",
       "      <td>517356</td>\n",
       "      <td>4.00000</td>\n",
       "      <td>NO</td>\n",
       "      <td>NO</td>\n",
       "      <td>0.70</td>\n",
       "      <td>YES</td>\n",
       "      <td>YES</td>\n",
       "    </tr>\n",
       "    <tr>\n",
       "      <th>1</th>\n",
       "      <td>2</td>\n",
       "      <td>43936</td>\n",
       "      <td>646086</td>\n",
       "      <td>2.67466</td>\n",
       "      <td>NO</td>\n",
       "      <td>YES</td>\n",
       "      <td>0.80</td>\n",
       "      <td>YES</td>\n",
       "      <td>YES</td>\n",
       "    </tr>\n",
       "    <tr>\n",
       "      <th>2</th>\n",
       "      <td>3</td>\n",
       "      <td>42896</td>\n",
       "      <td>638330</td>\n",
       "      <td>3.29473</td>\n",
       "      <td>NO</td>\n",
       "      <td>NO</td>\n",
       "      <td>0.90</td>\n",
       "      <td>NO</td>\n",
       "      <td>NO</td>\n",
       "    </tr>\n",
       "    <tr>\n",
       "      <th>3</th>\n",
       "      <td>4</td>\n",
       "      <td>35792</td>\n",
       "      <td>506492</td>\n",
       "      <td>3.85684</td>\n",
       "      <td>NO</td>\n",
       "      <td>NO</td>\n",
       "      <td>0.40</td>\n",
       "      <td>NO</td>\n",
       "      <td>NO</td>\n",
       "    </tr>\n",
       "    <tr>\n",
       "      <th>4</th>\n",
       "      <td>5</td>\n",
       "      <td>38624</td>\n",
       "      <td>609658</td>\n",
       "      <td>3.90757</td>\n",
       "      <td>NO</td>\n",
       "      <td>NO</td>\n",
       "      <td>0.87</td>\n",
       "      <td>NO</td>\n",
       "      <td>YES</td>\n",
       "    </tr>\n",
       "  </tbody>\n",
       "</table>\n",
       "</div>"
      ],
      "text/plain": [
       "   Week_num  Passengers  Promotion_Budget  Service_Quality_Score Holiday_week  \\\n",
       "0         1       37824            517356                4.00000           NO   \n",
       "1         2       43936            646086                2.67466           NO   \n",
       "2         3       42896            638330                3.29473           NO   \n",
       "3         4       35792            506492                3.85684           NO   \n",
       "4         5       38624            609658                3.90757           NO   \n",
       "\n",
       "  Delayed_Cancelled_flight_ind  Inter_metro_flight_ratio Bad_Weather_Ind  \\\n",
       "0                           NO                      0.70             YES   \n",
       "1                          YES                      0.80             YES   \n",
       "2                           NO                      0.90              NO   \n",
       "3                           NO                      0.40              NO   \n",
       "4                           NO                      0.87              NO   \n",
       "\n",
       "  Technical_issues_ind  \n",
       "0                  YES  \n",
       "1                  YES  \n",
       "2                   NO  \n",
       "3                   NO  \n",
       "4                  YES  "
      ]
     },
     "execution_count": 4,
     "metadata": {},
     "output_type": "execute_result"
    }
   ],
   "source": [
    "df.head()"
   ]
  },
  {
   "cell_type": "code",
   "execution_count": 5,
   "id": "1af2d713",
   "metadata": {},
   "outputs": [
    {
     "name": "stdout",
     "output_type": "stream",
     "text": [
      "                            OLS Regression Results                            \n",
      "==============================================================================\n",
      "Dep. Variable:             Passengers   R-squared:                       0.933\n",
      "Model:                            OLS   Adj. R-squared:                  0.932\n",
      "Method:                 Least Squares   F-statistic:                     1084.\n",
      "Date:                Thu, 09 Feb 2023   Prob (F-statistic):           1.66e-47\n",
      "Time:                        11:59:50   Log-Likelihood:                -751.34\n",
      "No. Observations:                  80   AIC:                             1507.\n",
      "Df Residuals:                      78   BIC:                             1511.\n",
      "Df Model:                           1                                         \n",
      "Covariance Type:            nonrobust                                         \n",
      "====================================================================================\n",
      "                       coef    std err          t      P>|t|      [0.025      0.975]\n",
      "------------------------------------------------------------------------------------\n",
      "Intercept         1259.6058   1361.071      0.925      0.358   -1450.078    3969.290\n",
      "Promotion_Budget     0.0695      0.002     32.923      0.000       0.065       0.074\n",
      "==============================================================================\n",
      "Omnibus:                       26.624   Durbin-Watson:                   1.831\n",
      "Prob(Omnibus):                  0.000   Jarque-Bera (JB):                5.188\n",
      "Skew:                          -0.128   Prob(JB):                       0.0747\n",
      "Kurtosis:                       1.779   Cond. No.                     2.67e+06\n",
      "==============================================================================\n",
      "\n",
      "Notes:\n",
      "[1] Standard Errors assume that the covariance matrix of the errors is correctly specified.\n",
      "[2] The condition number is large, 2.67e+06. This might indicate that there are\n",
      "strong multicollinearity or other numerical problems.\n"
     ]
    }
   ],
   "source": [
    "model = smf.ols(formula = 'Passengers ~ Promotion_Budget', data = df)\n",
    "result = model.fit()\n",
    "print(result.summary())"
   ]
  },
  {
   "cell_type": "code",
   "execution_count": 6,
   "id": "83fb5021",
   "metadata": {},
   "outputs": [
    {
     "name": "stdout",
     "output_type": "stream",
     "text": [
      "                            OLS Regression Results                            \n",
      "==============================================================================\n",
      "Dep. Variable:             Passengers   R-squared:                       0.951\n",
      "Model:                            OLS   Adj. R-squared:                  0.950\n",
      "Method:                 Least Squares   F-statistic:                     744.0\n",
      "Date:                Thu, 09 Feb 2023   Prob (F-statistic):           4.38e-51\n",
      "Time:                        11:59:54   Log-Likelihood:                -738.91\n",
      "No. Observations:                  80   AIC:                             1484.\n",
      "Df Residuals:                      77   BIC:                             1491.\n",
      "Df Model:                           2                                         \n",
      "Covariance Type:            nonrobust                                         \n",
      "=========================================================================================\n",
      "                            coef    std err          t      P>|t|      [0.025      0.975]\n",
      "-----------------------------------------------------------------------------------------\n",
      "Intercept              1.853e+04   3464.796      5.348      0.000    1.16e+04    2.54e+04\n",
      "Promotion_Budget          0.0544      0.003     16.063      0.000       0.048       0.061\n",
      "Service_Quality_Score -2807.3095    529.958     -5.297      0.000   -3862.592   -1752.028\n",
      "==============================================================================\n",
      "Omnibus:                        7.728   Durbin-Watson:                   2.331\n",
      "Prob(Omnibus):                  0.021   Jarque-Bera (JB):                2.913\n",
      "Skew:                          -0.043   Prob(JB):                        0.233\n",
      "Kurtosis:                       2.069   Cond. No.                     7.97e+06\n",
      "==============================================================================\n",
      "\n",
      "Notes:\n",
      "[1] Standard Errors assume that the covariance matrix of the errors is correctly specified.\n",
      "[2] The condition number is large, 7.97e+06. This might indicate that there are\n",
      "strong multicollinearity or other numerical problems.\n"
     ]
    }
   ],
   "source": [
    "model1 = smf.ols(formula = \"Passengers ~ Promotion_Budget + Service_Quality_Score\", data = df)\n",
    "result1 = model1.fit()\n",
    "print(result1.summary())"
   ]
  },
  {
   "cell_type": "code",
   "execution_count": 7,
   "id": "09ec64b6",
   "metadata": {},
   "outputs": [
    {
     "name": "stdout",
     "output_type": "stream",
     "text": [
      "                            OLS Regression Results                            \n",
      "==============================================================================\n",
      "Dep. Variable:             Passengers   R-squared:                       0.957\n",
      "Model:                            OLS   Adj. R-squared:                  0.955\n",
      "Method:                 Least Squares   F-statistic:                     562.1\n",
      "Date:                Thu, 09 Feb 2023   Prob (F-statistic):           9.03e-52\n",
      "Time:                        11:59:55   Log-Likelihood:                -733.63\n",
      "No. Observations:                  80   AIC:                             1475.\n",
      "Df Residuals:                      76   BIC:                             1485.\n",
      "Df Model:                           3                                         \n",
      "Covariance Type:            nonrobust                                         \n",
      "=========================================================================================\n",
      "                            coef    std err          t      P>|t|      [0.025      0.975]\n",
      "-----------------------------------------------------------------------------------------\n",
      "Intercept               1.62e+04   3341.842      4.847      0.000    9540.985    2.29e+04\n",
      "Holiday_week[T.YES]    3703.0523   1131.256      3.273      0.002    1449.962    5956.143\n",
      "Promotion_Budget          0.0522      0.003     16.007      0.000       0.046       0.059\n",
      "Service_Quality_Score -1790.4133    588.130     -3.044      0.003   -2961.775    -619.052\n",
      "==============================================================================\n",
      "Omnibus:                        1.582   Durbin-Watson:                   2.238\n",
      "Prob(Omnibus):                  0.453   Jarque-Bera (JB):                1.225\n",
      "Skew:                           0.055   Prob(JB):                        0.542\n",
      "Kurtosis:                       2.404   Cond. No.                     8.20e+06\n",
      "==============================================================================\n",
      "\n",
      "Notes:\n",
      "[1] Standard Errors assume that the covariance matrix of the errors is correctly specified.\n",
      "[2] The condition number is large, 8.2e+06. This might indicate that there are\n",
      "strong multicollinearity or other numerical problems.\n"
     ]
    }
   ],
   "source": [
    "model2 = smf.ols(formula = \"Passengers ~ Promotion_Budget + Service_Quality_Score + Holiday_week\", data = df)\n",
    "result2 = model2.fit()\n",
    "print(result2.summary())"
   ]
  },
  {
   "cell_type": "code",
   "execution_count": 8,
   "id": "346ca661",
   "metadata": {},
   "outputs": [
    {
     "name": "stdout",
     "output_type": "stream",
     "text": [
      "                            OLS Regression Results                            \n",
      "==============================================================================\n",
      "Dep. Variable:             Passengers   R-squared:                       0.959\n",
      "Model:                            OLS   Adj. R-squared:                  0.955\n",
      "Method:                 Least Squares   F-statistic:                     238.6\n",
      "Date:                Thu, 09 Feb 2023   Prob (F-statistic):           3.66e-47\n",
      "Time:                        11:59:57   Log-Likelihood:                -731.94\n",
      "No. Observations:                  80   AIC:                             1480.\n",
      "Df Residuals:                      72   BIC:                             1499.\n",
      "Df Model:                           7                                         \n",
      "Covariance Type:            nonrobust                                         \n",
      "=======================================================================================================\n",
      "                                          coef    std err          t      P>|t|      [0.025      0.975]\n",
      "-------------------------------------------------------------------------------------------------------\n",
      "Intercept                            1.738e+04   3494.606      4.973      0.000    1.04e+04    2.43e+04\n",
      "Holiday_week[T.YES]                  3585.9811   1160.925      3.089      0.003    1271.719    5900.243\n",
      "Bad_Weather_Ind[T.YES]                359.1198   1114.637      0.322      0.748   -1862.869    2581.108\n",
      "Delayed_Cancelled_flight_ind[T.YES]  -137.7415   1125.117     -0.122      0.903   -2380.622    2105.139\n",
      "Technical_issues_ind[T.YES]          -884.0625    560.388     -1.578      0.119   -2001.175     233.050\n",
      "Promotion_Budget                        0.0517      0.004     14.376      0.000       0.045       0.059\n",
      "Service_Quality_Score               -1851.1002    594.413     -3.114      0.003   -3036.040    -666.160\n",
      "Inter_metro_flight_ratio             -552.7636   2070.380     -0.267      0.790   -4679.990    3574.463\n",
      "==============================================================================\n",
      "Omnibus:                        0.132   Durbin-Watson:                   2.233\n",
      "Prob(Omnibus):                  0.936   Jarque-Bera (JB):                0.307\n",
      "Skew:                          -0.057   Prob(JB):                        0.858\n",
      "Kurtosis:                       2.719   Cond. No.                     8.62e+06\n",
      "==============================================================================\n",
      "\n",
      "Notes:\n",
      "[1] Standard Errors assume that the covariance matrix of the errors is correctly specified.\n",
      "[2] The condition number is large, 8.62e+06. This might indicate that there are\n",
      "strong multicollinearity or other numerical problems.\n"
     ]
    }
   ],
   "source": [
    "model3 = smf.ols(formula = \"Passengers ~ Promotion_Budget + Service_Quality_Score + Holiday_week + Bad_Weather_Ind + Inter_metro_flight_ratio + Delayed_Cancelled_flight_ind + Technical_issues_ind \", data = df)\n",
    "result3 = model3.fit()\n",
    "print(result3.summary())"
   ]
  },
  {
   "cell_type": "markdown",
   "id": "ed373af6",
   "metadata": {},
   "source": [
    "### A quick observation here, R_squared value is increasing as we keep on increasing the value of independent variables."
   ]
  },
  {
   "cell_type": "code",
   "execution_count": 10,
   "id": "c4eeb8a7",
   "metadata": {},
   "outputs": [
    {
     "name": "stdout",
     "output_type": "stream",
     "text": [
      "                            OLS Regression Results                            \n",
      "==============================================================================\n",
      "Dep. Variable:             Passengers   R-squared:                       0.957\n",
      "Model:                            OLS   Adj. R-squared:                  0.955\n",
      "Method:                 Least Squares   F-statistic:                     562.1\n",
      "Date:                Thu, 09 Feb 2023   Prob (F-statistic):           9.03e-52\n",
      "Time:                        12:00:10   Log-Likelihood:                -733.63\n",
      "No. Observations:                  80   AIC:                             1475.\n",
      "Df Residuals:                      76   BIC:                             1485.\n",
      "Df Model:                           3                                         \n",
      "Covariance Type:            nonrobust                                         \n",
      "=========================================================================================\n",
      "                            coef    std err          t      P>|t|      [0.025      0.975]\n",
      "-----------------------------------------------------------------------------------------\n",
      "Intercept               1.62e+04   3341.842      4.847      0.000    9540.985    2.29e+04\n",
      "Holiday_week[T.YES]    3703.0523   1131.256      3.273      0.002    1449.962    5956.143\n",
      "Promotion_Budget          0.0522      0.003     16.007      0.000       0.046       0.059\n",
      "Service_Quality_Score -1790.4133    588.130     -3.044      0.003   -2961.775    -619.052\n",
      "==============================================================================\n",
      "Omnibus:                        1.582   Durbin-Watson:                   2.238\n",
      "Prob(Omnibus):                  0.453   Jarque-Bera (JB):                1.225\n",
      "Skew:                           0.055   Prob(JB):                        0.542\n",
      "Kurtosis:                       2.404   Cond. No.                     8.20e+06\n",
      "==============================================================================\n",
      "\n",
      "Notes:\n",
      "[1] Standard Errors assume that the covariance matrix of the errors is correctly specified.\n",
      "[2] The condition number is large, 8.2e+06. This might indicate that there are\n",
      "strong multicollinearity or other numerical problems.\n"
     ]
    }
   ],
   "source": [
    "#filtering out variables based on p-value\n",
    "model4 = smf.ols(formula = \"Passengers ~ Promotion_Budget + Service_Quality_Score + Holiday_week  \", data = df)\n",
    "result4 = model4.fit() \n",
    "print(result4.summary())"
   ]
  },
  {
   "cell_type": "code",
   "execution_count": null,
   "id": "f6c0fa70",
   "metadata": {},
   "outputs": [],
   "source": []
  }
 ],
 "metadata": {
  "kernelspec": {
   "display_name": "Python 3 (ipykernel)",
   "language": "python",
   "name": "python3"
  },
  "language_info": {
   "codemirror_mode": {
    "name": "ipython",
    "version": 3
   },
   "file_extension": ".py",
   "mimetype": "text/x-python",
   "name": "python",
   "nbconvert_exporter": "python",
   "pygments_lexer": "ipython3",
   "version": "3.9.15"
  }
 },
 "nbformat": 4,
 "nbformat_minor": 5
}
