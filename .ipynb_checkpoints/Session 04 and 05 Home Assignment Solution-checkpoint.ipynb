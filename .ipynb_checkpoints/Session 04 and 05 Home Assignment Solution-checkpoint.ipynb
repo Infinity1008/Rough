{
 "cells": [
  {
   "cell_type": "markdown",
   "metadata": {},
   "source": [
    "# Home Assignment questions for Sessions 04 and 05\n",
    "* Use ONLY List comprehension method for writing a for loop"
   ]
  },
  {
   "cell_type": "code",
   "execution_count": null,
   "metadata": {},
   "outputs": [],
   "source": []
  },
  {
   "cell_type": "markdown",
   "metadata": {},
   "source": [
    "### Q1: For any passed value of 'k', create a list of Tuples with Two elements each. For e.g.\n",
    "- for k=1\n",
    "- [(0, 0), (0, 1), (1, 0), (1, 1)]\n",
    "###### \n",
    "- for k=2\n",
    "- [(0, 0), (0, 1), (0, 2), (1, 0), (1, 1), (1, 2), (2, 0), (2, 1), (2, 2)]"
   ]
  },
  {
   "cell_type": "code",
   "execution_count": 1,
   "metadata": {},
   "outputs": [
    {
     "data": {
      "text/plain": [
       "[(0, 0), (0, 1), (1, 0), (1, 1)]"
      ]
     },
     "execution_count": 1,
     "metadata": {},
     "output_type": "execute_result"
    }
   ],
   "source": [
    "k=1\n",
    "temp=[(i,j) for i in range(k+1) for j in range(k+1)]\n",
    "temp"
   ]
  },
  {
   "cell_type": "code",
   "execution_count": null,
   "metadata": {},
   "outputs": [],
   "source": []
  },
  {
   "cell_type": "markdown",
   "metadata": {},
   "source": [
    "### Q2: For any passed value of 'k', create a list of Tuples with Two elements each. For e.g.\n",
    "- for k=1\n",
    "- [(0, 1), (1, 0)]\n",
    "###### \n",
    "- for k=2\n",
    "- [(0, 1), (0, 2), (1, 0), (1, 2), (2, 0), (2, 1)]"
   ]
  },
  {
   "cell_type": "code",
   "execution_count": 33,
   "metadata": {},
   "outputs": [
    {
     "data": {
      "text/plain": [
       "[(0, 1), (0, 2), (1, 0), (1, 2), (2, 0), (2, 1)]"
      ]
     },
     "execution_count": 33,
     "metadata": {},
     "output_type": "execute_result"
    }
   ],
   "source": [
    "k=2\n",
    "temp=[(i,j) for i in range(k+1) for j in range(k+1) if i!=j]\n",
    "temp"
   ]
  },
  {
   "cell_type": "code",
   "execution_count": null,
   "metadata": {},
   "outputs": [],
   "source": []
  },
  {
   "cell_type": "markdown",
   "metadata": {},
   "source": [
    "### Q3: For any passed value of 'k', create a list of Tuples with Two elements each. For e.g.\n",
    "- for k=1\n",
    "- [(0, 1)]\n",
    "###### \n",
    "- for k=2\n",
    "- [(0, 1), (0, 2), (1, 2)]\n",
    "###### \n",
    "- for k=3\n",
    "- [(0, 1), (0, 2), (0, 3), (1, 2), (1, 3), (2, 3)]"
   ]
  },
  {
   "cell_type": "code",
   "execution_count": 40,
   "metadata": {},
   "outputs": [
    {
     "data": {
      "text/plain": [
       "[(0, 1), (0, 2), (0, 3), (1, 2), (1, 3), (2, 3)]"
      ]
     },
     "execution_count": 40,
     "metadata": {},
     "output_type": "execute_result"
    }
   ],
   "source": [
    "k=3\n",
    "temp=[(i,j) for i in range(k+1) for j in range(k+1) if i<j]\n",
    "temp"
   ]
  },
  {
   "cell_type": "code",
   "execution_count": null,
   "metadata": {},
   "outputs": [],
   "source": []
  },
  {
   "cell_type": "markdown",
   "metadata": {},
   "source": [
    "### Q4: Using the below lists 'Pool1' and 'Pool2', create teams pairs, such that each team gets to play just one match with the team in other Pool\n",
    "#### Pool1 = ['India','Australia','Sri Lanka','West Indies','Pakistan'] \n",
    "#### Pool2 = ['Bangladesh','England','New Zealand','South Africa','Afghanistan'] \n",
    "Store your output in a List of Tuples (refer previous questions)"
   ]
  },
  {
   "cell_type": "code",
   "execution_count": 2,
   "metadata": {},
   "outputs": [
    {
     "data": {
      "text/plain": [
       "[('India', 'Bangladesh'),\n",
       " ('India', 'England'),\n",
       " ('India', 'New Zealand'),\n",
       " ('India', 'South Africa'),\n",
       " ('India', 'Afghanistan'),\n",
       " ('Australia', 'Bangladesh'),\n",
       " ('Australia', 'England'),\n",
       " ('Australia', 'New Zealand'),\n",
       " ('Australia', 'South Africa'),\n",
       " ('Australia', 'Afghanistan'),\n",
       " ('Sri Lanka', 'Bangladesh'),\n",
       " ('Sri Lanka', 'England'),\n",
       " ('Sri Lanka', 'New Zealand'),\n",
       " ('Sri Lanka', 'South Africa'),\n",
       " ('Sri Lanka', 'Afghanistan'),\n",
       " ('West Indies', 'Bangladesh'),\n",
       " ('West Indies', 'England'),\n",
       " ('West Indies', 'New Zealand'),\n",
       " ('West Indies', 'South Africa'),\n",
       " ('West Indies', 'Afghanistan'),\n",
       " ('Pakistan', 'Bangladesh'),\n",
       " ('Pakistan', 'England'),\n",
       " ('Pakistan', 'New Zealand'),\n",
       " ('Pakistan', 'South Africa'),\n",
       " ('Pakistan', 'Afghanistan')]"
      ]
     },
     "execution_count": 2,
     "metadata": {},
     "output_type": "execute_result"
    }
   ],
   "source": [
    "Pool1 = ['India','Australia','Sri Lanka','West Indies','Pakistan']\n",
    "Pool2 = ['Bangladesh','England','New Zealand','South Africa','Afghanistan']\n",
    "[(i,j) for i in Pool1 for j in Pool2]"
   ]
  },
  {
   "cell_type": "code",
   "execution_count": null,
   "metadata": {},
   "outputs": [],
   "source": []
  },
  {
   "cell_type": "markdown",
   "metadata": {},
   "source": [
    "### Q5: Using the below list 'Teams', create teams pairs, such that each team gets to play just one match with every other team\n",
    "#### Teams = ['India','Australia','Sri Lanka','West Indies','Pakistan','Bangladesh','England','New Zealand','South Africa'] \n",
    "Store your output in a List of Tuples (refer previous questions)"
   ]
  },
  {
   "cell_type": "code",
   "execution_count": 3,
   "metadata": {},
   "outputs": [
    {
     "data": {
      "text/plain": [
       "[('India', 'Australia'),\n",
       " ('India', 'Sri Lanka'),\n",
       " ('India', 'West Indies'),\n",
       " ('India', 'Pakistan'),\n",
       " ('India', 'Bangladesh'),\n",
       " ('India', 'England'),\n",
       " ('India', 'New Zealand'),\n",
       " ('India', 'South Africa'),\n",
       " ('Australia', 'Sri Lanka'),\n",
       " ('Australia', 'West Indies'),\n",
       " ('Australia', 'Pakistan'),\n",
       " ('Australia', 'Bangladesh'),\n",
       " ('Australia', 'England'),\n",
       " ('Australia', 'New Zealand'),\n",
       " ('Australia', 'South Africa'),\n",
       " ('Sri Lanka', 'West Indies'),\n",
       " ('Sri Lanka', 'Pakistan'),\n",
       " ('Sri Lanka', 'Bangladesh'),\n",
       " ('Sri Lanka', 'England'),\n",
       " ('Sri Lanka', 'New Zealand'),\n",
       " ('Sri Lanka', 'South Africa'),\n",
       " ('West Indies', 'Pakistan'),\n",
       " ('West Indies', 'Bangladesh'),\n",
       " ('West Indies', 'England'),\n",
       " ('West Indies', 'New Zealand'),\n",
       " ('West Indies', 'South Africa'),\n",
       " ('Pakistan', 'Bangladesh'),\n",
       " ('Pakistan', 'England'),\n",
       " ('Pakistan', 'New Zealand'),\n",
       " ('Pakistan', 'South Africa'),\n",
       " ('Bangladesh', 'England'),\n",
       " ('Bangladesh', 'New Zealand'),\n",
       " ('Bangladesh', 'South Africa'),\n",
       " ('England', 'New Zealand'),\n",
       " ('England', 'South Africa'),\n",
       " ('New Zealand', 'South Africa')]"
      ]
     },
     "execution_count": 3,
     "metadata": {},
     "output_type": "execute_result"
    }
   ],
   "source": [
    "Teams=['India','Australia','Sri Lanka','West Indies','Pakistan','Bangladesh','England','New Zealand','South Africa']\n",
    "[(i,j) for i in Teams for j in Teams if Teams.index(i) < Teams.index(j)]"
   ]
  },
  {
   "cell_type": "code",
   "execution_count": null,
   "metadata": {},
   "outputs": [],
   "source": []
  },
  {
   "cell_type": "markdown",
   "metadata": {},
   "source": [
    "### Q6: Use the below provided code lines to generate a Dictionary 'order'. For this dictionary, find which items were ordered consecutively for any Two days in the week\n",
    "__For e.g. for the below Dictionary of orders__\n",
    "\n",
    "order=\n",
    "{'__Mon__': ['Bagel', 'Waffles', 'Pastries', 'Coffee'],\n",
    " '__Tue__': ['Waffles', 'Sandwich', 'Milkshake', 'Sausage'],\n",
    " '__Wed__': ['Cornetto', 'Milkshake', 'Egg', 'Coffee'],\n",
    " '__Thu__': ['Baked Beans', 'Butter Milk', 'Scrambled Eggs', 'Cornetto'],\n",
    " '__Fri__': ['Bacon Eggs', 'Muffin', 'Boiled Egg', 'Fruit Juice'],\n",
    " '__Sat__': ['Sausage', 'Bagel', 'Muffin', 'Egg'],\n",
    " '__Sun__': ['Bagel', 'Butter Milk', 'Sausage', 'Milkshake']}\n",
    " \n",
    " __the orders repeated on consecutive days are:__ [ {'Waffles'}, {'Milkshake'}, {'Cornetto'}, set(), {'Muffin'}, {'Bagel', 'Sausage'} ]"
   ]
  },
  {
   "cell_type": "code",
   "execution_count": 5,
   "metadata": {},
   "outputs": [
    {
     "data": {
      "text/plain": [
       "{'Mon': ['Scrambled Eggs', 'Fruit Juice', 'Butter Toast', 'Tea'],\n",
       " 'Tue': ['Milkshake', 'Pastries', 'Fruit', 'Tea'],\n",
       " 'Wed': ['Fruit Juice', 'Waffles', 'Toast', 'Muffin'],\n",
       " 'Thu': ['Fruit Juice', 'Scrambled Eggs', 'Muffin', 'Waffles'],\n",
       " 'Fri': ['Pastries', 'Toast', 'Milkshake', 'Fruit Juice'],\n",
       " 'Sat': ['Banista', 'Sandwich', 'Coffee', 'Bacon Eggs'],\n",
       " 'Sun': ['Pastries', 'Bagel', 'Muffin', 'Bacon Eggs']}"
      ]
     },
     "execution_count": 5,
     "metadata": {},
     "output_type": "execute_result"
    }
   ],
   "source": [
    "import random\n",
    "breakfast_items=['Coffee','Butter Toast','Butter Milk','Bread Jam','Egg','Muffin','Sandwich','Toast','Boiled Egg','Scrambled Eggs',\n",
    "                'Fruit Juice','Milkshake','Waffles','Corn Flakes','Cereal','Fruit','Bacon Eggs','Grilled Sandwich',\n",
    "                'Bagel','Pan Cake','Baked Beans','Fried Eggs','Sausage','Tea','Sprouts','Banista','Pastries','Cornetto']\n",
    "days=['Mon','Tue','Wed','Thu','Fri','Sat','Sun']\n",
    "order=dict(zip(days,[random.sample(breakfast_items,4) for i in range(7)]))\n",
    "order"
   ]
  },
  {
   "cell_type": "code",
   "execution_count": null,
   "metadata": {},
   "outputs": [],
   "source": []
  },
  {
   "cell_type": "code",
   "execution_count": 9,
   "metadata": {},
   "outputs": [
    {
     "data": {
      "text/plain": [
       "['Mon', 'Tue', 'Wed', 'Thu', 'Fri', 'Sat', 'Sun']"
      ]
     },
     "execution_count": 9,
     "metadata": {},
     "output_type": "execute_result"
    }
   ],
   "source": [
    "[i for i in order]"
   ]
  },
  {
   "cell_type": "code",
   "execution_count": 10,
   "metadata": {},
   "outputs": [
    {
     "data": {
      "text/plain": [
       "['Tue', 'Wed', 'Thu', 'Fri', 'Sat', 'Sun']"
      ]
     },
     "execution_count": 10,
     "metadata": {},
     "output_type": "execute_result"
    }
   ],
   "source": [
    "[i for i in order][1:]"
   ]
  },
  {
   "cell_type": "code",
   "execution_count": 8,
   "metadata": {},
   "outputs": [
    {
     "data": {
      "text/plain": [
       "[('Mon', 'Tue'),\n",
       " ('Tue', 'Wed'),\n",
       " ('Wed', 'Thu'),\n",
       " ('Thu', 'Fri'),\n",
       " ('Fri', 'Sat'),\n",
       " ('Sat', 'Sun')]"
      ]
     },
     "execution_count": 8,
     "metadata": {},
     "output_type": "execute_result"
    }
   ],
   "source": [
    "[i for i in zip([i for i in order],[i for i in order][1:])]"
   ]
  },
  {
   "cell_type": "code",
   "execution_count": 11,
   "metadata": {},
   "outputs": [
    {
     "name": "stdout",
     "output_type": "stream",
     "text": [
      "[{'Tea'}, set(), {'Muffin', 'Fruit Juice', 'Waffles'}, {'Fruit Juice'}, set(), {'Bacon Eggs'}]\n"
     ]
    }
   ],
   "source": [
    "print([set(order[m])&set(order[n]) for m,n in zip([i for i in order],[i for i in order][1:])])"
   ]
  },
  {
   "cell_type": "code",
   "execution_count": null,
   "metadata": {},
   "outputs": [],
   "source": []
  },
  {
   "cell_type": "markdown",
   "metadata": {},
   "source": [
    "### Q7: Spotify makes new songs recommendations to users every week based on the songs that are currently saved in their playlists. Using the below dictionary which is a collection of playlists mantained by 'other' sample users, recommend songs to a new user. \n",
    "Use the below points as guidelines:\n",
    "* Pass in a list the songs currently listed by a new user. This can have entries like SID01,SID02,...\n",
    "* Find a playlist in the dictionary, where ALL of these songs are present (there can be more than 1 such playlist)\n",
    "* From this playlist(s), pick the remaining songs and recommend to the new user (refer below examples for more details)"
   ]
  },
  {
   "cell_type": "code",
   "execution_count": 112,
   "metadata": {},
   "outputs": [
    {
     "data": {
      "text/plain": [
       "{'ZPE58': ['SID05', 'SID02', 'SID20', 'SID10'],\n",
       " 'ZJR49': ['SID13', 'SID06', 'SID16', 'SID18'],\n",
       " 'JOW56': ['SID02', 'SID14', 'SID07', 'SID19'],\n",
       " 'NIV38': ['SID03', 'SID11', 'SID18', 'SID07'],\n",
       " 'LWV63': ['SID16', 'SID01', 'SID17', 'SID06'],\n",
       " 'TIS23': ['SID11', 'SID03', 'SID09', 'SID14'],\n",
       " 'MLH92': ['SID01', 'SID07', 'SID16', 'SID06', 'SID09', 'SID04', 'SID14']}"
      ]
     },
     "execution_count": 112,
     "metadata": {},
     "output_type": "execute_result"
    }
   ],
   "source": [
    "import random,string\n",
    "songids=['SID'+str(i).zfill(2) for i in range(1,21)]\n",
    "userid=[''.join(random.sample(string.ascii_uppercase,3))+str(random.randint(10,99)).zfill(2) for i in range(7)]\n",
    "playlist={i:j for i,j in zip(userid,[random.sample(songids,random.randint(4,7)) for i in range(len(userid))])}\n",
    "playlist"
   ]
  },
  {
   "cell_type": "code",
   "execution_count": 117,
   "metadata": {},
   "outputs": [],
   "source": [
    "myplist=['SID01','SID06','SID16']"
   ]
  },
  {
   "cell_type": "code",
   "execution_count": 121,
   "metadata": {},
   "outputs": [
    {
     "data": {
      "text/plain": [
       "['LWV63', 'MLH92']"
      ]
     },
     "execution_count": 121,
     "metadata": {},
     "output_type": "execute_result"
    }
   ],
   "source": [
    "match=[i[0] for i in playlist.items() if len(set(myplist)&set(i[1]))==len(myplist)]\n",
    "match"
   ]
  },
  {
   "cell_type": "code",
   "execution_count": 122,
   "metadata": {},
   "outputs": [
    {
     "data": {
      "text/plain": [
       "[{'SID17'}, {'SID04', 'SID07', 'SID09', 'SID14'}]"
      ]
     },
     "execution_count": 122,
     "metadata": {},
     "output_type": "execute_result"
    }
   ],
   "source": [
    "[set(playlist[i])-set(myplist) for i in match]"
   ]
  },
  {
   "cell_type": "markdown",
   "metadata": {},
   "source": [
    "<img src='spotify question.png' width=600>"
   ]
  },
  {
   "cell_type": "code",
   "execution_count": null,
   "metadata": {},
   "outputs": [],
   "source": []
  },
  {
   "cell_type": "code",
   "execution_count": null,
   "metadata": {},
   "outputs": [],
   "source": []
  }
 ],
 "metadata": {
  "kernelspec": {
   "display_name": "Python 3 (ipykernel)",
   "language": "python",
   "name": "python3"
  },
  "language_info": {
   "codemirror_mode": {
    "name": "ipython",
    "version": 3
   },
   "file_extension": ".py",
   "mimetype": "text/x-python",
   "name": "python",
   "nbconvert_exporter": "python",
   "pygments_lexer": "ipython3",
   "version": "3.9.13"
  }
 },
 "nbformat": 4,
 "nbformat_minor": 2
}
