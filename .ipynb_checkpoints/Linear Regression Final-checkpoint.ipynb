{
 "cells": [
  {
   "cell_type": "markdown",
   "id": "0932fe6c",
   "metadata": {},
   "source": [
    "<center><h1>Linear Regression</h1></center>\n",
    "\n",
    "![](https://www.voxco.com/wp-content/uploads/2021/11/Linear-Regression1.png)\n",
    "\n",
    "\n",
    "Linear regression analysis is used to predict the value of a variable based on the value of another variable. The variable you want to predict is called the dependent variable. The variable you are using to predict the other variable's value is called the independent variable. You **\"fit\"** a line to your data to predict the dependent variable using the independent variable. \n",
    "\n",
    "\n",
    "Let's break this down.\n",
    "- What is a line\n",
    "- Let's look at some data.\n",
    "- How do we fit this line ?\n",
    "- Once we fit the line, then what !!"
   ]
  },
  {
   "cell_type": "markdown",
   "id": "9530c31c",
   "metadata": {},
   "source": [
    "# What is a line\n",
    "Well, we all know the answer to this but just so we are all on the same page vocabulary wise, let's get some words out of the way. \n",
    "\n",
    "A line can be represented as \n",
    "\n",
    "<h1><center>$ y = mx + b $ </center></h1>\n",
    "\n",
    "With **$ m $** being your slope and **$ b $** being your y intercept. \n",
    "\n",
    "So as an example, if your **$m = 1$** & **$b = 5$** ,your equation will turn out to be **$y = x + 5$**\n",
    "\n",
    "You can read more about it [here](https://www.wikihow.com/Find-the-Equation-of-a-Line).\n",
    "\n",
    "![](https://www.wikihow.com/images/thumb/6/63/Find-the-Equation-of-a-Line-Step-5-Version-5.jpg/aid437759-v4-728px-Find-the-Equation-of-a-Line-Step-5-Version-5.jpg)\n",
    "\n",
    "\n",
    "Now, i hear you say what is going on. So i present to you a demo for you to play around.\n",
    "\n",
    "--------"
   ]
  },
  {
   "cell_type": "markdown",
   "id": "edc75fca",
   "metadata": {},
   "source": [
    "# A demo \n",
    "Don't mind the code if you don't understand it. Just play around with the interactive plots"
   ]
  },
  {
   "cell_type": "code",
   "execution_count": 20,
   "id": "fcd3e63a",
   "metadata": {},
   "outputs": [
    {
     "data": {
      "application/vnd.jupyter.widget-view+json": {
       "model_id": "3624463f100f47cdb5d9cd1b73362005",
       "version_major": 2,
       "version_minor": 0
      },
      "text/plain": [
       "interactive(children=(FloatSlider(value=1.0, description='slope', max=20.0, min=-20.0), FloatSlider(value=0.0,…"
      ]
     },
     "metadata": {},
     "output_type": "display_data"
    }
   ],
   "source": [
    "from IPython.display import display\n",
    "import ipywidgets as widgets\n",
    "from ipywidgets import interactive\n",
    "import numpy as np\n",
    "import matplotlib.pyplot as plt\n",
    "\n",
    "def draw_line(slope, intercept):    \n",
    "    \n",
    "    \"\"\"Plot a line from slope and intercept\"\"\"\n",
    "    x = np.linspace(-50,100,100)    \n",
    "    abline_values = slope * x + intercept\n",
    "    \n",
    "    # Plot the best fit line over the actual values   \n",
    "    f, ax = plt.subplots()\n",
    "    plt.xlim([-10, 10])\n",
    "    plt.ylim([-10,10])\n",
    "    plt.plot(x, abline_values, '-')\n",
    "\n",
    "    plt.text(.01, .99, f'Slope = {slope}', ha='left', va='top', transform=ax.transAxes)\n",
    "    plt.text(.01, .95, f'Intecept = {intercept}', ha='left', va='top', transform=ax.transAxes)\n",
    "\n",
    "    \n",
    "    \n",
    "    plt.show()\n",
    "\n",
    "w = interactive(draw_line, \n",
    "                slope = widgets.FloatSlider(min=-20, max=20, step=0.1, value=1),\n",
    "               intercept = widgets.FloatSlider(min=-10, max=20, step=0.5, value=0))\n",
    "\n",
    "display(w)"
   ]
  },
  {
   "cell_type": "markdown",
   "id": "5bca5265",
   "metadata": {},
   "source": [
    "Now that we know what a line is. Let's keep going"
   ]
  },
  {
   "cell_type": "markdown",
   "id": "00d772fb",
   "metadata": {},
   "source": [
    "<h1><center>An Intuition</center><h1>"
   ]
  },
  {
   "cell_type": "code",
   "execution_count": 26,
   "id": "97c4cfb0",
   "metadata": {},
   "outputs": [
    {
     "data": {
      "image/png": "[encoded data removed]",
      "text/plain": [
       "<Figure size 640x480 with 1 Axes>"
      ]
     },
     "metadata": {},
     "output_type": "display_data"
    }
   ],
   "source": [
    "from matplotlib import pyplot as plt\n",
    "\n",
    "f, ax = plt.subplots()\n",
    "x = [2,4,6,8,10]\n",
    "y = [1,1,1,1,1]\n",
    "default_x_ticks = range(len(x))\n",
    "plt.scatter(default_x_ticks, y)\n",
    "plt.xticks(default_x_ticks, x)\n",
    "\n",
    "# ax.axes.get_xaxis().set_visible(False)\n",
    "ax.axes.get_yaxis().set_visible(False)\n",
    "\n",
    "plt.show()"
   ]
  },
  {
   "cell_type": "code",
   "execution_count": null,
   "id": "4b803658",
   "metadata": {},
   "outputs": [],
   "source": []
  },
  {
   "cell_type": "code",
   "execution_count": null,
   "id": "dbc43762",
   "metadata": {},
   "outputs": [],
   "source": []
  },
  {
   "cell_type": "code",
   "execution_count": null,
   "id": "3f4f6fa1",
   "metadata": {},
   "outputs": [],
   "source": []
  },
  {
   "cell_type": "code",
   "execution_count": null,
   "id": "4f93eb21",
   "metadata": {},
   "outputs": [],
   "source": []
  },
  {
   "cell_type": "code",
   "execution_count": null,
   "id": "54906044",
   "metadata": {},
   "outputs": [],
   "source": []
  },
  {
   "cell_type": "code",
   "execution_count": null,
   "id": "daa1236d",
   "metadata": {},
   "outputs": [],
   "source": []
  },
  {
   "cell_type": "markdown",
   "id": "e288dd7e",
   "metadata": {},
   "source": [
    "# Let's look at some data\n",
    "Let's create some random 2 dimensional data"
   ]
  },
  {
   "cell_type": "code",
   "execution_count": 19,
   "id": "81d30714",
   "metadata": {},
   "outputs": [
    {
     "data": {
      "application/vnd.jupyter.widget-view+json": {
       "model_id": "642590c4875b413da7e0af328aab6fbf",
       "version_major": 2,
       "version_minor": 0
      },
      "text/plain": [
       "interactive(children=(Button(description='Run Interact', style=ButtonStyle()), Output()), _dom_classes=('widge…"
      ]
     },
     "metadata": {},
     "output_type": "display_data"
    }
   ],
   "source": [
    "from ipywidgets import interact_manual\n",
    "\n",
    "\n",
    "def create_data_only():\n",
    "    random_slope = np.random.normal()\n",
    "    random_intercept = np.random.normal()\n",
    "    line_points = np.array([(random_slope*i + random_intercept) for i in range(0,100,2)])\n",
    "\n",
    "    random_noise = np.array([np.random.randint(-100,100) for i in range(0,100,2)])\n",
    "    data_points = line_points + random_noise\n",
    "\n",
    "    x = np.array(range(0,100,2))\n",
    "    x = x.reshape(-1,1)\n",
    "    # ----------------------------------------------------------\n",
    "\n",
    "    import matplotlib.pyplot as plt\n",
    "    fig = plt.figure()\n",
    "    ax = fig.add_subplot(111)\n",
    "\n",
    "    plt.scatter(x,data_points) # Plotting data\n",
    "\n",
    "    fig.set_figwidth(10)\n",
    "    fig.set_figheight(7)\n",
    "\n",
    "    plt.title('Generating Random Data')\n",
    "    plt.xlabel('X')\n",
    "    plt.ylabel('Y')\n",
    "    # ----------------------------------------------------------\n",
    "    \n",
    "interact_manual(create_data_only,i=widgets.Button(description=\"Click Me!\"));"
   ]
  },
  {
   "cell_type": "code",
   "execution_count": 101,
   "id": "15e26061",
   "metadata": {},
   "outputs": [
    {
     "data": {
      "application/vnd.jupyter.widget-view+json": {
       "model_id": "15e5c55cf8124a0fae42b48d6ac27c6e",
       "version_major": 2,
       "version_minor": 0
      },
      "text/plain": [
       "interactive(children=(Button(description='Run Interact', style=ButtonStyle()), Output()), _dom_classes=('widge…"
      ]
     },
     "metadata": {},
     "output_type": "display_data"
    }
   ],
   "source": []
  },
  {
   "cell_type": "code",
   "execution_count": null,
   "id": "eea4cd65",
   "metadata": {},
   "outputs": [],
   "source": []
  },
  {
   "cell_type": "code",
   "execution_count": null,
   "id": "284a324b",
   "metadata": {},
   "outputs": [],
   "source": []
  },
  {
   "cell_type": "code",
   "execution_count": null,
   "id": "144695c3",
   "metadata": {},
   "outputs": [],
   "source": []
  },
  {
   "cell_type": "code",
   "execution_count": null,
   "id": "0cdb73c8",
   "metadata": {},
   "outputs": [],
   "source": []
  },
  {
   "cell_type": "code",
   "execution_count": null,
   "id": "3f54c58a",
   "metadata": {},
   "outputs": [],
   "source": []
  },
  {
   "cell_type": "code",
   "execution_count": null,
   "id": "843668b9",
   "metadata": {},
   "outputs": [],
   "source": []
  },
  {
   "cell_type": "code",
   "execution_count": null,
   "id": "f5a03b1c",
   "metadata": {},
   "outputs": [],
   "source": []
  },
  {
   "cell_type": "code",
   "execution_count": null,
   "id": "2d0ac28c",
   "metadata": {},
   "outputs": [],
   "source": []
  },
  {
   "cell_type": "code",
   "execution_count": null,
   "id": "ac73de43",
   "metadata": {},
   "outputs": [],
   "source": []
  },
  {
   "cell_type": "code",
   "execution_count": null,
   "id": "70252ee0",
   "metadata": {},
   "outputs": [],
   "source": []
  },
  {
   "cell_type": "code",
   "execution_count": null,
   "id": "e2e76cb5",
   "metadata": {},
   "outputs": [],
   "source": []
  },
  {
   "cell_type": "code",
   "execution_count": null,
   "id": "f9c761c4",
   "metadata": {},
   "outputs": [],
   "source": []
  },
  {
   "cell_type": "markdown",
   "id": "ac233d7c",
   "metadata": {},
   "source": [
    "To insert a mathematical formula we use the dollar symbol $, as follows:\n",
    "Euler's identity: $ e^{i \\pi} + 1 = 0 $\n",
    "\n",
    "\n",
    "To isolate and center the formulas and enter in math display mode, we use 2 dollars symbol:\n",
    "$$\n",
    "...\n",
    "$$\n",
    "Euler's identity: $$ e^{i \\pi} + 1 = 0 $$"
   ]
  },
  {
   "cell_type": "code",
   "execution_count": null,
   "id": "068071a7",
   "metadata": {},
   "outputs": [],
   "source": []
  },
  {
   "cell_type": "code",
   "execution_count": null,
   "id": "5be0b25e",
   "metadata": {},
   "outputs": [],
   "source": []
  },
  {
   "cell_type": "code",
   "execution_count": null,
   "id": "945793a3",
   "metadata": {},
   "outputs": [],
   "source": []
  }
 ],
 "metadata": {
  "kernelspec": {
   "display_name": "Python 3 (ipykernel)",
   "language": "python",
   "name": "python3"
  },
  "language_info": {
   "codemirror_mode": {
    "name": "ipython",
    "version": 3
   },
   "file_extension": ".py",
   "mimetype": "text/x-python",
   "name": "python",
   "nbconvert_exporter": "python",
   "pygments_lexer": "ipython3",
   "version": "3.7.16"
  }
 },
 "nbformat": 4,
 "nbformat_minor": 5
}
