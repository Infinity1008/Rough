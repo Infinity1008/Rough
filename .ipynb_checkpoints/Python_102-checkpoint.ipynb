{
 "cells": [
  {
   "cell_type": "markdown",
   "id": "ef10156c",
   "metadata": {},
   "source": [
    "# Table of Contents\n",
    "\n",
    "* [Conditions](#cnds)\n",
    "* [Loops](#lps)\n",
    "* [Functions](#fncs)"
   ]
  },
  {
   "cell_type": "markdown",
   "id": "8b398cdc",
   "metadata": {},
   "source": [
    "![image.png](https://www.python.org/static/img/python-logo@2x.png)\n",
    "\n",
    "Resuming where we left off. We have seen the basic building blocks/data structures of python till now.\n",
    "* Variables and Types\n",
    "    * Numbers\n",
    "    * Strings\n",
    "* Lists\n",
    "* Tuples\n",
    "* Sets\n",
    "* Dictionaries\n",
    "\n",
    "Now it is time, we start connect/assemble these blocks to build things. "
   ]
  },
  {
   "cell_type": "markdown",
   "id": "7e4a1192",
   "metadata": {},
   "source": [
    "## Conditions<a class=\"anchor\" id=\"cnds\"></a>\n",
    "Python uses boolean logic to evaluate conditions. The boolean values True and False are returned when an expression is compared or evaluated. For example:"
   ]
  },
  {
   "cell_type": "code",
   "execution_count": null,
   "id": "c8fa2665",
   "metadata": {},
   "outputs": [],
   "source": [
    "# Syntax wise\n",
    "\n",
    "if condition:\n",
    "#     'what' will happen'\n",
    "else: \n",
    "#     'what will happen'"
   ]
  },
  {
   "cell_type": "code",
   "execution_count": 4,
   "id": "589c1fee",
   "metadata": {},
   "outputs": [
    {
     "name": "stdout",
     "output_type": "stream",
     "text": [
      "False\n"
     ]
    }
   ],
   "source": [
    "if 10 == 5:\n",
    "    print(True)\n",
    "else:\n",
    "    print(False)"
   ]
  },
  {
   "cell_type": "code",
   "execution_count": 5,
   "id": "14423624",
   "metadata": {},
   "outputs": [],
   "source": [
    "a = 0\n",
    "\n",
    "if 50 > 20:\n",
    "    a = 10\n",
    "else:\n",
    "    a = 30"
   ]
  },
  {
   "cell_type": "code",
   "execution_count": 6,
   "id": "06b224f7",
   "metadata": {},
   "outputs": [
    {
     "name": "stdout",
     "output_type": "stream",
     "text": [
      "10\n"
     ]
    }
   ],
   "source": [
    "print(a)"
   ]
  },
  {
   "cell_type": "code",
   "execution_count": 9,
   "id": "b1b13fe1",
   "metadata": {},
   "outputs": [
    {
     "name": "stdout",
     "output_type": "stream",
     "text": [
      "False\n",
      "True\n"
     ]
    }
   ],
   "source": [
    "print(2 == 3) # prints out False\n",
    "print(2 < 3) # prints out True"
   ]
  },
  {
   "cell_type": "code",
   "execution_count": 10,
   "id": "632daaf2",
   "metadata": {},
   "outputs": [
    {
     "name": "stdout",
     "output_type": "stream",
     "text": [
      "True\n"
     ]
    }
   ],
   "source": [
    "name = \"sid\"\n",
    "if name == \"sid\":\n",
    "    print(True)\n",
    "else:\n",
    "    print(False)"
   ]
  },
  {
   "cell_type": "markdown",
   "id": "02df6273",
   "metadata": {},
   "source": [
    "## Boolean Operators (And/Or)"
   ]
  },
  {
   "cell_type": "code",
   "execution_count": 15,
   "id": "b6daf161",
   "metadata": {},
   "outputs": [
    {
     "name": "stdout",
     "output_type": "stream",
     "text": [
      "True\n"
     ]
    }
   ],
   "source": [
    "name = \"sid\"\n",
    "age = 27\n",
    "\n",
    "if name == \"sid\" and age == 27:\n",
    "    print(True)\n",
    "else:\n",
    "    print(False)"
   ]
  },
  {
   "cell_type": "code",
   "execution_count": 16,
   "id": "be9348cd",
   "metadata": {},
   "outputs": [
    {
     "name": "stdout",
     "output_type": "stream",
     "text": [
      "True\n"
     ]
    }
   ],
   "source": [
    "name = \"sid\"\n",
    "age = 27\n",
    "\n",
    "if name == \"sid\" or age == 27:\n",
    "    print(True)\n",
    "else:\n",
    "    print(False)"
   ]
  },
  {
   "cell_type": "markdown",
   "id": "b7d4add5",
   "metadata": {},
   "source": [
    "## \"in\" operator"
   ]
  },
  {
   "cell_type": "code",
   "execution_count": 17,
   "id": "e30d7b48",
   "metadata": {},
   "outputs": [
    {
     "name": "stdout",
     "output_type": "stream",
     "text": [
      "True\n"
     ]
    }
   ],
   "source": [
    "name = \"Sid\"\n",
    "if name in [\"Sid\", \"Anjali\"]:\n",
    "    print(True)\n",
    "else:\n",
    "    print(False)"
   ]
  },
  {
   "cell_type": "markdown",
   "id": "25bf805f",
   "metadata": {},
   "source": [
    "## If, elif, else"
   ]
  },
  {
   "cell_type": "code",
   "execution_count": 18,
   "id": "a01dc9f4",
   "metadata": {},
   "outputs": [],
   "source": [
    "# The base syntax\n",
    "statement = False\n",
    "another_statement = True\n",
    "if statement is True:\n",
    "    # do something\n",
    "    pass\n",
    "elif another_statement is True: # else if\n",
    "    # do something else\n",
    "    pass\n",
    "else:\n",
    "    # do another thing\n",
    "    pass"
   ]
  },
  {
   "cell_type": "code",
   "execution_count": null,
   "id": "94671c8c",
   "metadata": {},
   "outputs": [],
   "source": []
  },
  {
   "cell_type": "markdown",
   "id": "6f6bc285",
   "metadata": {},
   "source": [
    "## 'is' operator"
   ]
  },
  {
   "cell_type": "code",
   "execution_count": 19,
   "id": "8d8feef1",
   "metadata": {},
   "outputs": [
    {
     "name": "stdout",
     "output_type": "stream",
     "text": [
      "True\n",
      "False\n"
     ]
    }
   ],
   "source": [
    "x = [1,2,3]\n",
    "y = [1,2,3]\n",
    "print(x == y) # Prints out True\n",
    "print(x is y) # Prints out False"
   ]
  },
  {
   "cell_type": "markdown",
   "id": "7b26e0d8",
   "metadata": {},
   "source": [
    "## \"not\" operator"
   ]
  },
  {
   "cell_type": "code",
   "execution_count": 20,
   "id": "68f76071",
   "metadata": {},
   "outputs": [
    {
     "name": "stdout",
     "output_type": "stream",
     "text": [
      "True\n",
      "False\n"
     ]
    }
   ],
   "source": [
    "print(not False) # Prints out True\n",
    "print((not False) == (False)) # Prints out False"
   ]
  },
  {
   "cell_type": "markdown",
   "id": "721238e8",
   "metadata": {},
   "source": [
    "-----"
   ]
  },
  {
   "cell_type": "markdown",
   "id": "e75939ec",
   "metadata": {},
   "source": [
    "# Loops<a class=\"anchor\" id=\"lps\"></a>\n",
    "There are two types of loops in Python, for and while.\n",
    "\n",
    "- \"for\" loop\n",
    "- \"while\" loops"
   ]
  },
  {
   "cell_type": "markdown",
   "id": "e10e8e7d",
   "metadata": {},
   "source": [
    "## \"for\" loop"
   ]
  },
  {
   "cell_type": "code",
   "execution_count": 22,
   "id": "22d3e862",
   "metadata": {},
   "outputs": [
    {
     "name": "stdout",
     "output_type": "stream",
     "text": [
      "1\n",
      "2\n",
      "3\n",
      "4\n",
      "5\n"
     ]
    }
   ],
   "source": [
    "number_list = [1,2,3,4,5]\n",
    "for number in number_list:\n",
    "    print(number)"
   ]
  },
  {
   "cell_type": "markdown",
   "id": "f2e3db90",
   "metadata": {},
   "source": [
    "## Range"
   ]
  },
  {
   "cell_type": "code",
   "execution_count": 23,
   "id": "eebaf465",
   "metadata": {},
   "outputs": [
    {
     "name": "stdout",
     "output_type": "stream",
     "text": [
      "0\n",
      "1\n",
      "2\n",
      "3\n",
      "4\n"
     ]
    }
   ],
   "source": [
    "# Prints out the numbers 0,1,2,3,4\n",
    "for x in range(5):\n",
    "    print(x)"
   ]
  },
  {
   "cell_type": "code",
   "execution_count": 24,
   "id": "daa6c649",
   "metadata": {},
   "outputs": [
    {
     "name": "stdout",
     "output_type": "stream",
     "text": [
      "3\n",
      "4\n",
      "5\n"
     ]
    }
   ],
   "source": [
    "# Prints out 3,4,5\n",
    "for x in range(3, 6):\n",
    "    print(x)"
   ]
  },
  {
   "cell_type": "code",
   "execution_count": 25,
   "id": "66168f7f",
   "metadata": {},
   "outputs": [
    {
     "name": "stdout",
     "output_type": "stream",
     "text": [
      "3\n",
      "5\n",
      "7\n"
     ]
    }
   ],
   "source": [
    "# Prints out 3,5,7\n",
    "for x in range(3, 8, 2):\n",
    "    print(x)"
   ]
  },
  {
   "cell_type": "markdown",
   "id": "b86446df",
   "metadata": {},
   "source": [
    "## \"While\" Loop\n",
    "While loops repeat as long as a certain boolean condition is met."
   ]
  },
  {
   "cell_type": "code",
   "execution_count": 26,
   "id": "4aaf950b",
   "metadata": {},
   "outputs": [
    {
     "name": "stdout",
     "output_type": "stream",
     "text": [
      "0\n",
      "1\n",
      "2\n",
      "3\n",
      "4\n"
     ]
    }
   ],
   "source": [
    "# Prints out 0,1,2,3,4\n",
    "\n",
    "count = 0\n",
    "while count < 5:\n",
    "    print(count)\n",
    "    count += 1  # This is the same as count = count + 1"
   ]
  },
  {
   "cell_type": "markdown",
   "id": "5b762a51",
   "metadata": {},
   "source": [
    "Much to elaborate here, but we will not cover this here. If the need ever arises, we will cover those topics."
   ]
  },
  {
   "cell_type": "markdown",
   "id": "dd66726e",
   "metadata": {},
   "source": [
    "-------"
   ]
  },
  {
   "cell_type": "markdown",
   "id": "9c3acda1",
   "metadata": {},
   "source": [
    "# Functions<a class=\"anchor\" id=\"fncs\"></a>\n",
    "Functions are a convenient way to divide your code into useful blocks, allowing us to order our code, make it more readable, reuse it and save some time. Also functions are a key way to define interfaces so programmers can share their code."
   ]
  },
  {
   "cell_type": "code",
   "execution_count": 27,
   "id": "576852af",
   "metadata": {},
   "outputs": [],
   "source": [
    "def my_function():\n",
    "    print(\"Hello From My Function!\")"
   ]
  },
  {
   "cell_type": "code",
   "execution_count": 29,
   "id": "e0de208b",
   "metadata": {},
   "outputs": [
    {
     "name": "stdout",
     "output_type": "stream",
     "text": [
      "Hello From My Function!\n"
     ]
    }
   ],
   "source": [
    "my_function()"
   ]
  },
  {
   "cell_type": "code",
   "execution_count": 30,
   "id": "38751d89",
   "metadata": {},
   "outputs": [],
   "source": [
    "def my_function_with_args(username, greeting):\n",
    "    print(f\"Hello, {username}, From My Function!, I wish you {greeting}\")"
   ]
  },
  {
   "cell_type": "code",
   "execution_count": 31,
   "id": "9ba29061",
   "metadata": {},
   "outputs": [
    {
     "name": "stdout",
     "output_type": "stream",
     "text": [
      "Hello, Sid, From My Function!, I wish you Best\n"
     ]
    }
   ],
   "source": [
    "my_function_with_args(\"Sid\",\"Best\")"
   ]
  },
  {
   "cell_type": "code",
   "execution_count": 32,
   "id": "1c7b47f5",
   "metadata": {},
   "outputs": [],
   "source": [
    "def sum_of_two_numbers(a, b):\n",
    "    return a + b"
   ]
  },
  {
   "cell_type": "code",
   "execution_count": 33,
   "id": "54f260fa",
   "metadata": {},
   "outputs": [
    {
     "data": {
      "text/plain": [
       "15"
      ]
     },
     "execution_count": 33,
     "metadata": {},
     "output_type": "execute_result"
    }
   ],
   "source": [
    "sum_of_two_numbers(5,10)"
   ]
  },
  {
   "cell_type": "code",
   "execution_count": null,
   "id": "b248d195",
   "metadata": {},
   "outputs": [],
   "source": []
  },
  {
   "cell_type": "code",
   "execution_count": null,
   "id": "181d4903",
   "metadata": {},
   "outputs": [],
   "source": []
  }
 ],
 "metadata": {
  "kernelspec": {
   "display_name": "Python 3 (ipykernel)",
   "language": "python",
   "name": "python3"
  },
  "language_info": {
   "codemirror_mode": {
    "name": "ipython",
    "version": 3
   },
   "file_extension": ".py",
   "mimetype": "text/x-python",
   "name": "python",
   "nbconvert_exporter": "python",
   "pygments_lexer": "ipython3",
   "version": "3.9.12"
  }
 },
 "nbformat": 4,
 "nbformat_minor": 5
}
